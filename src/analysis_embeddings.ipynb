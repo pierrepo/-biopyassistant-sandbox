{
 "cells": [
  {
   "cell_type": "markdown",
   "metadata": {},
   "source": [
    "# Analysis of the embeddings \n"
   ]
  },
  {
   "cell_type": "markdown",
   "metadata": {},
   "source": [
    "An embedding is a sequence of numbers that represents the concepts within content such as natural language or code. Embeddings make it easy for machine learning models and other algorithms to understand the relationships between content and to perform tasks like clustering or retrieval. "
   ]
  },
  {
   "cell_type": "code",
   "execution_count": 30,
   "metadata": {},
   "outputs": [],
   "source": [
    "# Libraries import\n",
    "import numpy as np\n",
    "import pandas as pd\n",
    "import matplotlib.pyplot as plt\n",
    "import plotly.graph_objects as go\n",
    "from openai import OpenAI\n",
    "from sklearn.decomposition import PCA\n",
    "from langchain_text_splitters import (\n",
    "    RecursiveCharacterTextSplitter,\n",
    ")"
   ]
  },
  {
   "cell_type": "code",
   "execution_count": 2,
   "metadata": {},
   "outputs": [],
   "source": [
    "# Define the embedding model\n",
    "EMBEDDING_MODEL = \"text-embedding-3-large\""
   ]
  },
  {
   "cell_type": "markdown",
   "metadata": {},
   "source": [
    "## 1. Exploratory Data Analysis"
   ]
  },
  {
   "cell_type": "code",
   "execution_count": 3,
   "metadata": {},
   "outputs": [
    {
     "data": {
      "text/html": [
       "<div>\n",
       "<style scoped>\n",
       "    .dataframe tbody tr th:only-of-type {\n",
       "        vertical-align: middle;\n",
       "    }\n",
       "\n",
       "    .dataframe tbody tr th {\n",
       "        vertical-align: top;\n",
       "    }\n",
       "\n",
       "    .dataframe thead th {\n",
       "        text-align: right;\n",
       "    }\n",
       "</style>\n",
       "<table border=\"1\" class=\"dataframe\">\n",
       "  <thead>\n",
       "    <tr style=\"text-align: right;\">\n",
       "      <th></th>\n",
       "      <th>categorie</th>\n",
       "      <th>question</th>\n",
       "    </tr>\n",
       "  </thead>\n",
       "  <tbody>\n",
       "    <tr>\n",
       "      <th>0</th>\n",
       "      <td>Python</td>\n",
       "      <td>Qu'est-ce que Python?</td>\n",
       "    </tr>\n",
       "    <tr>\n",
       "      <th>1</th>\n",
       "      <td>Python</td>\n",
       "      <td>Pourquoi les développeurs utilisent-ils Python...</td>\n",
       "    </tr>\n",
       "    <tr>\n",
       "      <th>2</th>\n",
       "      <td>Python</td>\n",
       "      <td>Quels sont les avantages de la syntaxe de Pyth...</td>\n",
       "    </tr>\n",
       "  </tbody>\n",
       "</table>\n",
       "</div>"
      ],
      "text/plain": [
       "  categorie                                           question\n",
       "0    Python                              Qu'est-ce que Python?\n",
       "1    Python  Pourquoi les développeurs utilisent-ils Python...\n",
       "2    Python  Quels sont les avantages de la syntaxe de Pyth..."
      ]
     },
     "execution_count": 3,
     "metadata": {},
     "output_type": "execute_result"
    }
   ],
   "source": [
    "# Import the data\n",
    "df = pd.read_csv(\"sentence.csv\", sep=\";\")\n",
    "df.head(3)"
   ]
  },
  {
   "cell_type": "code",
   "execution_count": 4,
   "metadata": {},
   "outputs": [
    {
     "data": {
      "text/plain": [
       "['Animaux', 'Python']"
      ]
     },
     "execution_count": 4,
     "metadata": {},
     "output_type": "execute_result"
    }
   ],
   "source": [
    "# Get the list of categories\n",
    "categories = sorted(df[\"categorie\"].unique())\n",
    "categories"
   ]
  },
  {
   "cell_type": "code",
   "execution_count": 5,
   "metadata": {},
   "outputs": [],
   "source": [
    "# Function to create the embeddings\n",
    "client = OpenAI()\n",
    "\n",
    "def get_embeddings(text, model=EMBEDDING_MODEL):\n",
    "   text = text.replace(\"\\n\", \" \")\n",
    "   return client.embeddings.create(input = [text], \n",
    "model=model).data[0].embedding"
   ]
  },
  {
   "cell_type": "code",
   "execution_count": 6,
   "metadata": {},
   "outputs": [
    {
     "data": {
      "text/html": [
       "<div>\n",
       "<style scoped>\n",
       "    .dataframe tbody tr th:only-of-type {\n",
       "        vertical-align: middle;\n",
       "    }\n",
       "\n",
       "    .dataframe tbody tr th {\n",
       "        vertical-align: top;\n",
       "    }\n",
       "\n",
       "    .dataframe thead th {\n",
       "        text-align: right;\n",
       "    }\n",
       "</style>\n",
       "<table border=\"1\" class=\"dataframe\">\n",
       "  <thead>\n",
       "    <tr style=\"text-align: right;\">\n",
       "      <th></th>\n",
       "      <th>categorie</th>\n",
       "      <th>question</th>\n",
       "      <th>question_embedding</th>\n",
       "      <th>embedding_dim</th>\n",
       "      <th>embedding_norm</th>\n",
       "    </tr>\n",
       "  </thead>\n",
       "  <tbody>\n",
       "    <tr>\n",
       "      <th>0</th>\n",
       "      <td>Python</td>\n",
       "      <td>Qu'est-ce que Python?</td>\n",
       "      <td>[-0.02583085186779499, -0.006636608857661486, ...</td>\n",
       "      <td>3072</td>\n",
       "      <td>1.0</td>\n",
       "    </tr>\n",
       "    <tr>\n",
       "      <th>1</th>\n",
       "      <td>Python</td>\n",
       "      <td>Pourquoi les développeurs utilisent-ils Python...</td>\n",
       "      <td>[-0.018787460401654243, -0.021715596318244934,...</td>\n",
       "      <td>3072</td>\n",
       "      <td>1.0</td>\n",
       "    </tr>\n",
       "    <tr>\n",
       "      <th>2</th>\n",
       "      <td>Python</td>\n",
       "      <td>Quels sont les avantages de la syntaxe de Pyth...</td>\n",
       "      <td>[0.005018328316509724, 0.004179577808827162, -...</td>\n",
       "      <td>3072</td>\n",
       "      <td>1.0</td>\n",
       "    </tr>\n",
       "  </tbody>\n",
       "</table>\n",
       "</div>"
      ],
      "text/plain": [
       "  categorie                                           question  \\\n",
       "0    Python                              Qu'est-ce que Python?   \n",
       "1    Python  Pourquoi les développeurs utilisent-ils Python...   \n",
       "2    Python  Quels sont les avantages de la syntaxe de Pyth...   \n",
       "\n",
       "                                  question_embedding  embedding_dim  \\\n",
       "0  [-0.02583085186779499, -0.006636608857661486, ...           3072   \n",
       "1  [-0.018787460401654243, -0.021715596318244934,...           3072   \n",
       "2  [0.005018328316509724, 0.004179577808827162, -...           3072   \n",
       "\n",
       "   embedding_norm  \n",
       "0             1.0  \n",
       "1             1.0  \n",
       "2             1.0  "
      ]
     },
     "execution_count": 6,
     "metadata": {},
     "output_type": "execute_result"
    }
   ],
   "source": [
    "# Save embeddings for each question\n",
    "qstion_embeddings = []\n",
    "for question in df[\"question\"]:\n",
    "    # Get the embeddings\n",
    "    embedding = get_embeddings(question, model=EMBEDDING_MODEL)\n",
    "    qstion_embeddings.append(embedding)\n",
    "    \"\"\"\n",
    "    print(question)\n",
    "    print(embedding)\n",
    "    print(\"\\n\")\n",
    "    \"\"\"\n",
    "df[\"question_embedding\"] = qstion_embeddings\n",
    "\n",
    "# Get the dimension of the embeddings\n",
    "df[\"embedding_dim\"] = df[\"question_embedding\"].apply(lambda x: len(x))\n",
    "\n",
    "# Get the norm of the embeddings\n",
    "df[\"embedding_norm\"] = df[\"question_embedding\"].apply(lambda x: np.linalg.norm(x))\n",
    "df.head(3)"
   ]
  },
  {
   "cell_type": "markdown",
   "metadata": {},
   "source": [
    "We notice that the dimension of the embeddings is 3072, that is coherent with the embedding model used to generate the embeddings.\n",
    "\n",
    "Additionnally, the norm is 1 for all the embeddings, which means that the embeddings are normalized. This is a common practice in machine learning to normalize the embeddings to make the training process easier."
   ]
  },
  {
   "cell_type": "code",
   "execution_count": 7,
   "metadata": {},
   "outputs": [
    {
     "data": {
      "text/html": [
       "<div>\n",
       "<style scoped>\n",
       "    .dataframe tbody tr th:only-of-type {\n",
       "        vertical-align: middle;\n",
       "    }\n",
       "\n",
       "    .dataframe tbody tr th {\n",
       "        vertical-align: top;\n",
       "    }\n",
       "\n",
       "    .dataframe thead th {\n",
       "        text-align: right;\n",
       "    }\n",
       "</style>\n",
       "<table border=\"1\" class=\"dataframe\">\n",
       "  <thead>\n",
       "    <tr style=\"text-align: right;\">\n",
       "      <th></th>\n",
       "      <th>categorie</th>\n",
       "      <th>question</th>\n",
       "      <th>question_embedding</th>\n",
       "      <th>embedding_dim</th>\n",
       "      <th>embedding_norm</th>\n",
       "      <th>question_embedding_pca</th>\n",
       "      <th>embedding_dim_pca</th>\n",
       "      <th>embedding_norm_pca</th>\n",
       "    </tr>\n",
       "  </thead>\n",
       "  <tbody>\n",
       "    <tr>\n",
       "      <th>0</th>\n",
       "      <td>Python</td>\n",
       "      <td>Qu'est-ce que Python?</td>\n",
       "      <td>[-0.02583085186779499, -0.006636608857661486, ...</td>\n",
       "      <td>3072</td>\n",
       "      <td>1.0</td>\n",
       "      <td>[-0.35888304943450505, 0.037659461080240444, 0...</td>\n",
       "      <td>3</td>\n",
       "      <td>0.366889</td>\n",
       "    </tr>\n",
       "    <tr>\n",
       "      <th>1</th>\n",
       "      <td>Python</td>\n",
       "      <td>Pourquoi les développeurs utilisent-ils Python...</td>\n",
       "      <td>[-0.018787460401654243, -0.021715596318244934,...</td>\n",
       "      <td>3072</td>\n",
       "      <td>1.0</td>\n",
       "      <td>[-0.3760718230925556, -0.17376836511265717, -0...</td>\n",
       "      <td>3</td>\n",
       "      <td>0.449929</td>\n",
       "    </tr>\n",
       "    <tr>\n",
       "      <th>2</th>\n",
       "      <td>Python</td>\n",
       "      <td>Quels sont les avantages de la syntaxe de Pyth...</td>\n",
       "      <td>[0.005018328316509724, 0.004179577808827162, -...</td>\n",
       "      <td>3072</td>\n",
       "      <td>1.0</td>\n",
       "      <td>[-0.36857208660392377, -0.07998460956560037, 0...</td>\n",
       "      <td>3</td>\n",
       "      <td>0.499605</td>\n",
       "    </tr>\n",
       "  </tbody>\n",
       "</table>\n",
       "</div>"
      ],
      "text/plain": [
       "  categorie                                           question  \\\n",
       "0    Python                              Qu'est-ce que Python?   \n",
       "1    Python  Pourquoi les développeurs utilisent-ils Python...   \n",
       "2    Python  Quels sont les avantages de la syntaxe de Pyth...   \n",
       "\n",
       "                                  question_embedding  embedding_dim  \\\n",
       "0  [-0.02583085186779499, -0.006636608857661486, ...           3072   \n",
       "1  [-0.018787460401654243, -0.021715596318244934,...           3072   \n",
       "2  [0.005018328316509724, 0.004179577808827162, -...           3072   \n",
       "\n",
       "   embedding_norm                             question_embedding_pca  \\\n",
       "0             1.0  [-0.35888304943450505, 0.037659461080240444, 0...   \n",
       "1             1.0  [-0.3760718230925556, -0.17376836511265717, -0...   \n",
       "2             1.0  [-0.36857208660392377, -0.07998460956560037, 0...   \n",
       "\n",
       "   embedding_dim_pca  embedding_norm_pca  \n",
       "0                  3            0.366889  \n",
       "1                  3            0.449929  \n",
       "2                  3            0.499605  "
      ]
     },
     "execution_count": 7,
     "metadata": {},
     "output_type": "execute_result"
    }
   ],
   "source": [
    "# Reduce the dimension of the embeddings with PCA\n",
    "pca_embeddings = PCA(n_components=3).fit_transform(qstion_embeddings)\n",
    "df[\"question_embedding_pca\"] = list(pca_embeddings)\n",
    "\n",
    "# Get the dimension of the embeddings\n",
    "df[\"embedding_dim_pca\"] = df[\"question_embedding_pca\"].apply(lambda x: len(x))\n",
    "\n",
    "# Get the norm of the embeddings\n",
    "df[\"embedding_norm_pca\"] = df[\"question_embedding_pca\"].apply(lambda x: np.linalg.norm(x))\n",
    "df.head(3)"
   ]
  },
  {
   "cell_type": "markdown",
   "metadata": {},
   "source": [
    "After the reduction of the dimensionality, the dimension is 3 and the norm is not 1 anymore. This is because the reduction of the dimensionality is not a linear transformation and the norm is not preserved."
   ]
  },
  {
   "cell_type": "markdown",
   "metadata": {},
   "source": [
    "### Embedding Projection Before Dimensionality Reduction"
   ]
  },
  {
   "cell_type": "code",
   "execution_count": 8,
   "metadata": {},
   "outputs": [
    {
     "data": {
      "image/png": "[encoded data removed]",
      "text/plain": [
       "<Figure size 1000x1000 with 1 Axes>"
      ]
     },
     "metadata": {},
     "output_type": "display_data"
    }
   ],
   "source": [
    "# Display the 2D scatter plot of Categories using Matplotlib\n",
    "fig = plt.figure(figsize=(10, 10))\n",
    "\n",
    "for category in categories:\n",
    "    plt.scatter(df[df[\"categorie\"] == category][\"question_embedding\"].apply(lambda x: x[0]), \n",
    "                df[df[\"categorie\"] == category][\"question_embedding\"].apply(lambda x: x[1]), \n",
    "                label=category)\n",
    "    \n",
    "plt.xlabel(\"x\")\n",
    "plt.ylabel(\"y\")\n",
    "plt.title(\"2D Scatter Plot of Categories\")\n",
    "plt.legend()\n",
    "plt.show()"
   ]
  },
  {
   "cell_type": "code",
   "execution_count": 9,
   "metadata": {},
   "outputs": [
    {
     "data": {
      "application/vnd.plotly.v1+json": {
       "config": {
        "plotlyServerURL": "https://plot.ly"
       },
       "data": [
        {
         "hoverinfo": "text",
         "hovertext": [
          "Qu'est-ce que le python royal?",
          "Qu'est-ce qui est célèbre chez les pandas géants?",
          "Comment les pythons capturent-ils leur proie?",
          "Qu'est-ce que les pandas roux?",
          "Que mangent principalement les pandas?",
          "Quelle est la taille maximale qu'un python peut atteindre?",
          "Quels sont les prédateurs naturels du python royal?",
          "Quelle est la durée de gestation des pandas?",
          "Comment les pandas roux sont-ils adaptés à leur environnement?"
         ],
         "marker": {
          "color": 0,
          "colorscale": [
           [
            0,
            "#440154"
           ],
           [
            0.1111111111111111,
            "#482878"
           ],
           [
            0.2222222222222222,
            "#3e4989"
           ],
           [
            0.3333333333333333,
            "#31688e"
           ],
           [
            0.4444444444444444,
            "#26828e"
           ],
           [
            0.5555555555555556,
            "#1f9e89"
           ],
           [
            0.6666666666666666,
            "#35b779"
           ],
           [
            0.7777777777777778,
            "#6ece58"
           ],
           [
            0.8888888888888888,
            "#b5de2b"
           ],
           [
            1,
            "#fde725"
           ]
          ],
          "opacity": 0.8,
          "size": 8
         },
         "mode": "markers",
         "name": "Animaux",
         "type": "scatter",
         "x": [
          0.004154851660132408,
          0.010268093086779118,
          0.03534365072846413,
          -0.04491136968135834,
          0.0009964342461898923,
          -0.011976471170783043,
          0.005510280374437571,
          -0.02750408463180065,
          -0.017194826155900955
         ],
         "y": [
          0.007393823470920324,
          0.012140823528170586,
          0.008882309310138226,
          0.009698252193629742,
          0.005715581122785807,
          0.009977173060178757,
          -0.03579610586166382,
          0.006046778056770563,
          -0.01405961811542511
         ]
        },
        {
         "hoverinfo": "text",
         "hovertext": [
          "Qu'est-ce que Python?",
          "Pourquoi les développeurs utilisent-ils Python pour l'analyse de données?",
          "Quels sont les avantages de la syntaxe de Python pour les débutants en programmation?",
          "Dans quels domaines Python est-il utilisé?",
          "Quelles entreprises utilisent largement Python?",
          "Qu'est-ce qu'une liste en Python?",
          "Quelle est la différence entre Python 2 et Python 3?",
          "Quelles sont les principales caractéristiques de la programmation orientée objet en Python?",
          "Quels sont les frameworks web populaires utilisés avec Python?"
         ],
         "marker": {
          "color": 1,
          "colorscale": [
           [
            0,
            "#440154"
           ],
           [
            0.1111111111111111,
            "#482878"
           ],
           [
            0.2222222222222222,
            "#3e4989"
           ],
           [
            0.3333333333333333,
            "#31688e"
           ],
           [
            0.4444444444444444,
            "#26828e"
           ],
           [
            0.5555555555555556,
            "#1f9e89"
           ],
           [
            0.6666666666666666,
            "#35b779"
           ],
           [
            0.7777777777777778,
            "#6ece58"
           ],
           [
            0.8888888888888888,
            "#b5de2b"
           ],
           [
            1,
            "#fde725"
           ]
          ],
          "opacity": 0.8,
          "size": 8
         },
         "mode": "markers",
         "name": "Python",
         "type": "scatter",
         "x": [
          -0.02583085186779499,
          -0.018787460401654243,
          0.005018328316509724,
          -0.0199414249509573,
          -0.021288929507136345,
          0.02766694873571396,
          0.015618766658008099,
          -0.009508752264082432,
          -0.02696899324655533
         ],
         "y": [
          -0.006636608857661486,
          -0.021715596318244934,
          0.004179577808827162,
          -0.009844500571489334,
          0.0025774927344173193,
          -0.004983777180314064,
          -0.01980024017393589,
          0.011485819704830647,
          -0.039008013904094696
         ]
        }
       ],
       "layout": {
        "autosize": false,
        "height": 500,
        "margin": {
         "b": 100,
         "l": 50,
         "pad": 10,
         "r": 50,
         "t": 100
        },
        "template": {
         "data": {
          "bar": [
           {
            "error_x": {
             "color": "#2a3f5f"
            },
            "error_y": {
             "color": "#2a3f5f"
            },
            "marker": {
             "line": {
              "color": "#E5ECF6",
              "width": 0.5
             },
             "pattern": {
              "fillmode": "overlay",
              "size": 10,
              "solidity": 0.2
             }
            },
            "type": "bar"
           }
          ],
          "barpolar": [
           {
            "marker": {
             "line": {
              "color": "#E5ECF6",
              "width": 0.5
             },
             "pattern": {
              "fillmode": "overlay",
              "size": 10,
              "solidity": 0.2
             }
            },
            "type": "barpolar"
           }
          ],
          "carpet": [
           {
            "aaxis": {
             "endlinecolor": "#2a3f5f",
             "gridcolor": "white",
             "linecolor": "white",
             "minorgridcolor": "white",
             "startlinecolor": "#2a3f5f"
            },
            "baxis": {
             "endlinecolor": "#2a3f5f",
             "gridcolor": "white",
             "linecolor": "white",
             "minorgridcolor": "white",
             "startlinecolor": "#2a3f5f"
            },
            "type": "carpet"
           }
          ],
          "choropleth": [
           {
            "colorbar": {
             "outlinewidth": 0,
             "ticks": ""
            },
            "type": "choropleth"
           }
          ],
          "contour": [
           {
            "colorbar": {
             "outlinewidth": 0,
             "ticks": ""
            },
            "colorscale": [
             [
              0,
              "#0d0887"
             ],
             [
              0.1111111111111111,
              "#46039f"
             ],
             [
              0.2222222222222222,
              "#7201a8"
             ],
             [
              0.3333333333333333,
              "#9c179e"
             ],
             [
              0.4444444444444444,
              "#bd3786"
             ],
             [
              0.5555555555555556,
              "#d8576b"
             ],
             [
              0.6666666666666666,
              "#ed7953"
             ],
             [
              0.7777777777777778,
              "#fb9f3a"
             ],
             [
              0.8888888888888888,
              "#fdca26"
             ],
             [
              1,
              "#f0f921"
             ]
            ],
            "type": "contour"
           }
          ],
          "contourcarpet": [
           {
            "colorbar": {
             "outlinewidth": 0,
             "ticks": ""
            },
            "type": "contourcarpet"
           }
          ],
          "heatmap": [
           {
            "colorbar": {
             "outlinewidth": 0,
             "ticks": ""
            },
            "colorscale": [
             [
              0,
              "#0d0887"
             ],
             [
              0.1111111111111111,
              "#46039f"
             ],
             [
              0.2222222222222222,
              "#7201a8"
             ],
             [
              0.3333333333333333,
              "#9c179e"
             ],
             [
              0.4444444444444444,
              "#bd3786"
             ],
             [
              0.5555555555555556,
              "#d8576b"
             ],
             [
              0.6666666666666666,
              "#ed7953"
             ],
             [
              0.7777777777777778,
              "#fb9f3a"
             ],
             [
              0.8888888888888888,
              "#fdca26"
             ],
             [
              1,
              "#f0f921"
             ]
            ],
            "type": "heatmap"
           }
          ],
          "heatmapgl": [
           {
            "colorbar": {
             "outlinewidth": 0,
             "ticks": ""
            },
            "colorscale": [
             [
              0,
              "#0d0887"
             ],
             [
              0.1111111111111111,
              "#46039f"
             ],
             [
              0.2222222222222222,
              "#7201a8"
             ],
             [
              0.3333333333333333,
              "#9c179e"
             ],
             [
              0.4444444444444444,
              "#bd3786"
             ],
             [
              0.5555555555555556,
              "#d8576b"
             ],
             [
              0.6666666666666666,
              "#ed7953"
             ],
             [
              0.7777777777777778,
              "#fb9f3a"
             ],
             [
              0.8888888888888888,
              "#fdca26"
             ],
             [
              1,
              "#f0f921"
             ]
            ],
            "type": "heatmapgl"
           }
          ],
          "histogram": [
           {
            "marker": {
             "pattern": {
              "fillmode": "overlay",
              "size": 10,
              "solidity": 0.2
             }
            },
            "type": "histogram"
           }
          ],
          "histogram2d": [
           {
            "colorbar": {
             "outlinewidth": 0,
             "ticks": ""
            },
            "colorscale": [
             [
              0,
              "#0d0887"
             ],
             [
              0.1111111111111111,
              "#46039f"
             ],
             [
              0.2222222222222222,
              "#7201a8"
             ],
             [
              0.3333333333333333,
              "#9c179e"
             ],
             [
              0.4444444444444444,
              "#bd3786"
             ],
             [
              0.5555555555555556,
              "#d8576b"
             ],
             [
              0.6666666666666666,
              "#ed7953"
             ],
             [
              0.7777777777777778,
              "#fb9f3a"
             ],
             [
              0.8888888888888888,
              "#fdca26"
             ],
             [
              1,
              "#f0f921"
             ]
            ],
            "type": "histogram2d"
           }
          ],
          "histogram2dcontour": [
           {
            "colorbar": {
             "outlinewidth": 0,
             "ticks": ""
            },
            "colorscale": [
             [
              0,
              "#0d0887"
             ],
             [
              0.1111111111111111,
              "#46039f"
             ],
             [
              0.2222222222222222,
              "#7201a8"
             ],
             [
              0.3333333333333333,
              "#9c179e"
             ],
             [
              0.4444444444444444,
              "#bd3786"
             ],
             [
              0.5555555555555556,
              "#d8576b"
             ],
             [
              0.6666666666666666,
              "#ed7953"
             ],
             [
              0.7777777777777778,
              "#fb9f3a"
             ],
             [
              0.8888888888888888,
              "#fdca26"
             ],
             [
              1,
              "#f0f921"
             ]
            ],
            "type": "histogram2dcontour"
           }
          ],
          "mesh3d": [
           {
            "colorbar": {
             "outlinewidth": 0,
             "ticks": ""
            },
            "type": "mesh3d"
           }
          ],
          "parcoords": [
           {
            "line": {
             "colorbar": {
              "outlinewidth": 0,
              "ticks": ""
             }
            },
            "type": "parcoords"
           }
          ],
          "pie": [
           {
            "automargin": true,
            "type": "pie"
           }
          ],
          "scatter": [
           {
            "fillpattern": {
             "fillmode": "overlay",
             "size": 10,
             "solidity": 0.2
            },
            "type": "scatter"
           }
          ],
          "scatter3d": [
           {
            "line": {
             "colorbar": {
              "outlinewidth": 0,
              "ticks": ""
             }
            },
            "marker": {
             "colorbar": {
              "outlinewidth": 0,
              "ticks": ""
             }
            },
            "type": "scatter3d"
           }
          ],
          "scattercarpet": [
           {
            "marker": {
             "colorbar": {
              "outlinewidth": 0,
              "ticks": ""
             }
            },
            "type": "scattercarpet"
           }
          ],
          "scattergeo": [
           {
            "marker": {
             "colorbar": {
              "outlinewidth": 0,
              "ticks": ""
             }
            },
            "type": "scattergeo"
           }
          ],
          "scattergl": [
           {
            "marker": {
             "colorbar": {
              "outlinewidth": 0,
              "ticks": ""
             }
            },
            "type": "scattergl"
           }
          ],
          "scattermapbox": [
           {
            "marker": {
             "colorbar": {
              "outlinewidth": 0,
              "ticks": ""
             }
            },
            "type": "scattermapbox"
           }
          ],
          "scatterpolar": [
           {
            "marker": {
             "colorbar": {
              "outlinewidth": 0,
              "ticks": ""
             }
            },
            "type": "scatterpolar"
           }
          ],
          "scatterpolargl": [
           {
            "marker": {
             "colorbar": {
              "outlinewidth": 0,
              "ticks": ""
             }
            },
            "type": "scatterpolargl"
           }
          ],
          "scatterternary": [
           {
            "marker": {
             "colorbar": {
              "outlinewidth": 0,
              "ticks": ""
             }
            },
            "type": "scatterternary"
           }
          ],
          "surface": [
           {
            "colorbar": {
             "outlinewidth": 0,
             "ticks": ""
            },
            "colorscale": [
             [
              0,
              "#0d0887"
             ],
             [
              0.1111111111111111,
              "#46039f"
             ],
             [
              0.2222222222222222,
              "#7201a8"
             ],
             [
              0.3333333333333333,
              "#9c179e"
             ],
             [
              0.4444444444444444,
              "#bd3786"
             ],
             [
              0.5555555555555556,
              "#d8576b"
             ],
             [
              0.6666666666666666,
              "#ed7953"
             ],
             [
              0.7777777777777778,
              "#fb9f3a"
             ],
             [
              0.8888888888888888,
              "#fdca26"
             ],
             [
              1,
              "#f0f921"
             ]
            ],
            "type": "surface"
           }
          ],
          "table": [
           {
            "cells": {
             "fill": {
              "color": "#EBF0F8"
             },
             "line": {
              "color": "white"
             }
            },
            "header": {
             "fill": {
              "color": "#C8D4E3"
             },
             "line": {
              "color": "white"
             }
            },
            "type": "table"
           }
          ]
         },
         "layout": {
          "annotationdefaults": {
           "arrowcolor": "#2a3f5f",
           "arrowhead": 0,
           "arrowwidth": 1
          },
          "autotypenumbers": "strict",
          "coloraxis": {
           "colorbar": {
            "outlinewidth": 0,
            "ticks": ""
           }
          },
          "colorscale": {
           "diverging": [
            [
             0,
             "#8e0152"
            ],
            [
             0.1,
             "#c51b7d"
            ],
            [
             0.2,
             "#de77ae"
            ],
            [
             0.3,
             "#f1b6da"
            ],
            [
             0.4,
             "#fde0ef"
            ],
            [
             0.5,
             "#f7f7f7"
            ],
            [
             0.6,
             "#e6f5d0"
            ],
            [
             0.7,
             "#b8e186"
            ],
            [
             0.8,
             "#7fbc41"
            ],
            [
             0.9,
             "#4d9221"
            ],
            [
             1,
             "#276419"
            ]
           ],
           "sequential": [
            [
             0,
             "#0d0887"
            ],
            [
             0.1111111111111111,
             "#46039f"
            ],
            [
             0.2222222222222222,
             "#7201a8"
            ],
            [
             0.3333333333333333,
             "#9c179e"
            ],
            [
             0.4444444444444444,
             "#bd3786"
            ],
            [
             0.5555555555555556,
             "#d8576b"
            ],
            [
             0.6666666666666666,
             "#ed7953"
            ],
            [
             0.7777777777777778,
             "#fb9f3a"
            ],
            [
             0.8888888888888888,
             "#fdca26"
            ],
            [
             1,
             "#f0f921"
            ]
           ],
           "sequentialminus": [
            [
             0,
             "#0d0887"
            ],
            [
             0.1111111111111111,
             "#46039f"
            ],
            [
             0.2222222222222222,
             "#7201a8"
            ],
            [
             0.3333333333333333,
             "#9c179e"
            ],
            [
             0.4444444444444444,
             "#bd3786"
            ],
            [
             0.5555555555555556,
             "#d8576b"
            ],
            [
             0.6666666666666666,
             "#ed7953"
            ],
            [
             0.7777777777777778,
             "#fb9f3a"
            ],
            [
             0.8888888888888888,
             "#fdca26"
            ],
            [
             1,
             "#f0f921"
            ]
           ]
          },
          "colorway": [
           "#636efa",
           "#EF553B",
           "#00cc96",
           "#ab63fa",
           "#FFA15A",
           "#19d3f3",
           "#FF6692",
           "#B6E880",
           "#FF97FF",
           "#FECB52"
          ],
          "font": {
           "color": "#2a3f5f"
          },
          "geo": {
           "bgcolor": "white",
           "lakecolor": "white",
           "landcolor": "#E5ECF6",
           "showlakes": true,
           "showland": true,
           "subunitcolor": "white"
          },
          "hoverlabel": {
           "align": "left"
          },
          "hovermode": "closest",
          "mapbox": {
           "style": "light"
          },
          "paper_bgcolor": "white",
          "plot_bgcolor": "#E5ECF6",
          "polar": {
           "angularaxis": {
            "gridcolor": "white",
            "linecolor": "white",
            "ticks": ""
           },
           "bgcolor": "#E5ECF6",
           "radialaxis": {
            "gridcolor": "white",
            "linecolor": "white",
            "ticks": ""
           }
          },
          "scene": {
           "xaxis": {
            "backgroundcolor": "#E5ECF6",
            "gridcolor": "white",
            "gridwidth": 2,
            "linecolor": "white",
            "showbackground": true,
            "ticks": "",
            "zerolinecolor": "white"
           },
           "yaxis": {
            "backgroundcolor": "#E5ECF6",
            "gridcolor": "white",
            "gridwidth": 2,
            "linecolor": "white",
            "showbackground": true,
            "ticks": "",
            "zerolinecolor": "white"
           },
           "zaxis": {
            "backgroundcolor": "#E5ECF6",
            "gridcolor": "white",
            "gridwidth": 2,
            "linecolor": "white",
            "showbackground": true,
            "ticks": "",
            "zerolinecolor": "white"
           }
          },
          "shapedefaults": {
           "line": {
            "color": "#2a3f5f"
           }
          },
          "ternary": {
           "aaxis": {
            "gridcolor": "white",
            "linecolor": "white",
            "ticks": ""
           },
           "baxis": {
            "gridcolor": "white",
            "linecolor": "white",
            "ticks": ""
           },
           "bgcolor": "#E5ECF6",
           "caxis": {
            "gridcolor": "white",
            "linecolor": "white",
            "ticks": ""
           }
          },
          "title": {
           "x": 0.05
          },
          "xaxis": {
           "automargin": true,
           "gridcolor": "white",
           "linecolor": "white",
           "ticks": "",
           "title": {
            "standoff": 15
           },
           "zerolinecolor": "white",
           "zerolinewidth": 2
          },
          "yaxis": {
           "automargin": true,
           "gridcolor": "white",
           "linecolor": "white",
           "ticks": "",
           "title": {
            "standoff": 15
           },
           "zerolinecolor": "white",
           "zerolinewidth": 2
          }
         }
        },
        "title": {
         "text": "2D Scatter Plot of Categories"
        },
        "width": 800,
        "xaxis": {
         "title": {
          "text": "x"
         }
        },
        "yaxis": {
         "title": {
          "text": "y"
         }
        }
       }
      }
     },
     "metadata": {},
     "output_type": "display_data"
    }
   ],
   "source": [
    "# Display the 2D scatter plot of Categories using Plotly\n",
    "fig = go.Figure()\n",
    "\n",
    "for i, cat in enumerate(categories):\n",
    "    sub_matrix = np.array(df[df[\"categorie\"] == cat][\"question_embedding\"].to_list())\n",
    "    x = sub_matrix[:, 0] # first dimension of the embeddings\n",
    "    y = sub_matrix[:, 1] # second dimension of the embeddings\n",
    "\n",
    "    # get the question text for hover\n",
    "    hover_text = df[df[\"categorie\"] == cat][\"question\"]\n",
    "\n",
    "    fig.add_trace(\n",
    "        go.Scatter(\n",
    "            x=x,\n",
    "            y=y,\n",
    "            mode=\"markers\",\n",
    "            marker=dict(size=8, color=i, colorscale=\"Viridis\", opacity=0.8),\n",
    "            name=cat,\n",
    "            hovertext=hover_text,\n",
    "            hoverinfo=\"text\",\n",
    "        )\n",
    "    )\n",
    "\n",
    "fig.update_layout(\n",
    "    autosize=False,\n",
    "    title=\"2D Scatter Plot of Categories\",\n",
    "    width=800,\n",
    "    height=500,\n",
    "    margin=dict(l=50, r=50, b=100, t=100, pad=10),\n",
    "    xaxis=dict(title=\"x\"),\n",
    "    yaxis=dict(title=\"y\"),\n",
    ")\n",
    "\n",
    "fig.show()"
   ]
  },
  {
   "cell_type": "code",
   "execution_count": 10,
   "metadata": {},
   "outputs": [
    {
     "data": {
      "application/vnd.plotly.v1+json": {
       "config": {
        "plotlyServerURL": "https://plot.ly"
       },
       "data": [
        {
         "hoverinfo": "text",
         "hovertext": [
          "Qu'est-ce que le python royal?",
          "Qu'est-ce qui est célèbre chez les pandas géants?",
          "Comment les pythons capturent-ils leur proie?",
          "Qu'est-ce que les pandas roux?",
          "Que mangent principalement les pandas?",
          "Quelle est la taille maximale qu'un python peut atteindre?",
          "Quels sont les prédateurs naturels du python royal?",
          "Quelle est la durée de gestation des pandas?",
          "Comment les pandas roux sont-ils adaptés à leur environnement?"
         ],
         "marker": {
          "color": 0,
          "colorscale": [
           [
            0,
            "#440154"
           ],
           [
            0.1111111111111111,
            "#482878"
           ],
           [
            0.2222222222222222,
            "#3e4989"
           ],
           [
            0.3333333333333333,
            "#31688e"
           ],
           [
            0.4444444444444444,
            "#26828e"
           ],
           [
            0.5555555555555556,
            "#1f9e89"
           ],
           [
            0.6666666666666666,
            "#35b779"
           ],
           [
            0.7777777777777778,
            "#6ece58"
           ],
           [
            0.8888888888888888,
            "#b5de2b"
           ],
           [
            1,
            "#fde725"
           ]
          ],
          "opacity": 0.8,
          "size": 5
         },
         "mode": "markers",
         "name": "Animaux",
         "type": "scatter3d",
         "x": [
          0.004154851660132408,
          0.010268093086779118,
          0.03534365072846413,
          -0.04491136968135834,
          0.0009964342461898923,
          -0.011976471170783043,
          0.005510280374437571,
          -0.02750408463180065,
          -0.017194826155900955
         ],
         "y": [
          0.007393823470920324,
          0.012140823528170586,
          0.008882309310138226,
          0.009698252193629742,
          0.005715581122785807,
          0.009977173060178757,
          -0.03579610586166382,
          0.006046778056770563,
          -0.01405961811542511
         ],
         "z": [
          0.004152466543018818,
          -0.008815663866698742,
          0.002321102423593402,
          -0.007349626626819372,
          0.0023708895314484835,
          0.011966812424361706,
          0.010854837484657764,
          0.000965089478995651,
          -0.008076686412096024
         ]
        },
        {
         "hoverinfo": "text",
         "hovertext": [
          "Qu'est-ce que Python?",
          "Pourquoi les développeurs utilisent-ils Python pour l'analyse de données?",
          "Quels sont les avantages de la syntaxe de Python pour les débutants en programmation?",
          "Dans quels domaines Python est-il utilisé?",
          "Quelles entreprises utilisent largement Python?",
          "Qu'est-ce qu'une liste en Python?",
          "Quelle est la différence entre Python 2 et Python 3?",
          "Quelles sont les principales caractéristiques de la programmation orientée objet en Python?",
          "Quels sont les frameworks web populaires utilisés avec Python?"
         ],
         "marker": {
          "color": 1,
          "colorscale": [
           [
            0,
            "#440154"
           ],
           [
            0.1111111111111111,
            "#482878"
           ],
           [
            0.2222222222222222,
            "#3e4989"
           ],
           [
            0.3333333333333333,
            "#31688e"
           ],
           [
            0.4444444444444444,
            "#26828e"
           ],
           [
            0.5555555555555556,
            "#1f9e89"
           ],
           [
            0.6666666666666666,
            "#35b779"
           ],
           [
            0.7777777777777778,
            "#6ece58"
           ],
           [
            0.8888888888888888,
            "#b5de2b"
           ],
           [
            1,
            "#fde725"
           ]
          ],
          "opacity": 0.8,
          "size": 5
         },
         "mode": "markers",
         "name": "Python",
         "type": "scatter3d",
         "x": [
          -0.02583085186779499,
          -0.018787460401654243,
          0.005018328316509724,
          -0.0199414249509573,
          -0.021288929507136345,
          0.02766694873571396,
          0.015618766658008099,
          -0.009508752264082432,
          -0.02696899324655533
         ],
         "y": [
          -0.006636608857661486,
          -0.021715596318244934,
          0.004179577808827162,
          -0.009844500571489334,
          0.0025774927344173193,
          -0.004983777180314064,
          -0.01980024017393589,
          0.011485819704830647,
          -0.039008013904094696
         ],
         "z": [
          -0.0028579742647707462,
          -0.00985072273761034,
          -0.003595996182411909,
          -0.015866594389081,
          -0.0008335376624017954,
          -0.007452377118170261,
          -0.010439960286021233,
          -0.0056188078597188,
          -0.011058871634304523
         ]
        }
       ],
       "layout": {
        "autosize": false,
        "height": 500,
        "margin": {
         "b": 100,
         "l": 50,
         "pad": 10,
         "r": 50,
         "t": 100
        },
        "scene": {
         "xaxis": {
          "title": {
           "text": "x"
          }
         },
         "yaxis": {
          "title": {
           "text": "y"
          }
         },
         "zaxis": {
          "title": {
           "text": "z"
          }
         }
        },
        "template": {
         "data": {
          "bar": [
           {
            "error_x": {
             "color": "#2a3f5f"
            },
            "error_y": {
             "color": "#2a3f5f"
            },
            "marker": {
             "line": {
              "color": "#E5ECF6",
              "width": 0.5
             },
             "pattern": {
              "fillmode": "overlay",
              "size": 10,
              "solidity": 0.2
             }
            },
            "type": "bar"
           }
          ],
          "barpolar": [
           {
            "marker": {
             "line": {
              "color": "#E5ECF6",
              "width": 0.5
             },
             "pattern": {
              "fillmode": "overlay",
              "size": 10,
              "solidity": 0.2
             }
            },
            "type": "barpolar"
           }
          ],
          "carpet": [
           {
            "aaxis": {
             "endlinecolor": "#2a3f5f",
             "gridcolor": "white",
             "linecolor": "white",
             "minorgridcolor": "white",
             "startlinecolor": "#2a3f5f"
            },
            "baxis": {
             "endlinecolor": "#2a3f5f",
             "gridcolor": "white",
             "linecolor": "white",
             "minorgridcolor": "white",
             "startlinecolor": "#2a3f5f"
            },
            "type": "carpet"
           }
          ],
          "choropleth": [
           {
            "colorbar": {
             "outlinewidth": 0,
             "ticks": ""
            },
            "type": "choropleth"
           }
          ],
          "contour": [
           {
            "colorbar": {
             "outlinewidth": 0,
             "ticks": ""
            },
            "colorscale": [
             [
              0,
              "#0d0887"
             ],
             [
              0.1111111111111111,
              "#46039f"
             ],
             [
              0.2222222222222222,
              "#7201a8"
             ],
             [
              0.3333333333333333,
              "#9c179e"
             ],
             [
              0.4444444444444444,
              "#bd3786"
             ],
             [
              0.5555555555555556,
              "#d8576b"
             ],
             [
              0.6666666666666666,
              "#ed7953"
             ],
             [
              0.7777777777777778,
              "#fb9f3a"
             ],
             [
              0.8888888888888888,
              "#fdca26"
             ],
             [
              1,
              "#f0f921"
             ]
            ],
            "type": "contour"
           }
          ],
          "contourcarpet": [
           {
            "colorbar": {
             "outlinewidth": 0,
             "ticks": ""
            },
            "type": "contourcarpet"
           }
          ],
          "heatmap": [
           {
            "colorbar": {
             "outlinewidth": 0,
             "ticks": ""
            },
            "colorscale": [
             [
              0,
              "#0d0887"
             ],
             [
              0.1111111111111111,
              "#46039f"
             ],
             [
              0.2222222222222222,
              "#7201a8"
             ],
             [
              0.3333333333333333,
              "#9c179e"
             ],
             [
              0.4444444444444444,
              "#bd3786"
             ],
             [
              0.5555555555555556,
              "#d8576b"
             ],
             [
              0.6666666666666666,
              "#ed7953"
             ],
             [
              0.7777777777777778,
              "#fb9f3a"
             ],
             [
              0.8888888888888888,
              "#fdca26"
             ],
             [
              1,
              "#f0f921"
             ]
            ],
            "type": "heatmap"
           }
          ],
          "heatmapgl": [
           {
            "colorbar": {
             "outlinewidth": 0,
             "ticks": ""
            },
            "colorscale": [
             [
              0,
              "#0d0887"
             ],
             [
              0.1111111111111111,
              "#46039f"
             ],
             [
              0.2222222222222222,
              "#7201a8"
             ],
             [
              0.3333333333333333,
              "#9c179e"
             ],
             [
              0.4444444444444444,
              "#bd3786"
             ],
             [
              0.5555555555555556,
              "#d8576b"
             ],
             [
              0.6666666666666666,
              "#ed7953"
             ],
             [
              0.7777777777777778,
              "#fb9f3a"
             ],
             [
              0.8888888888888888,
              "#fdca26"
             ],
             [
              1,
              "#f0f921"
             ]
            ],
            "type": "heatmapgl"
           }
          ],
          "histogram": [
           {
            "marker": {
             "pattern": {
              "fillmode": "overlay",
              "size": 10,
              "solidity": 0.2
             }
            },
            "type": "histogram"
           }
          ],
          "histogram2d": [
           {
            "colorbar": {
             "outlinewidth": 0,
             "ticks": ""
            },
            "colorscale": [
             [
              0,
              "#0d0887"
             ],
             [
              0.1111111111111111,
              "#46039f"
             ],
             [
              0.2222222222222222,
              "#7201a8"
             ],
             [
              0.3333333333333333,
              "#9c179e"
             ],
             [
              0.4444444444444444,
              "#bd3786"
             ],
             [
              0.5555555555555556,
              "#d8576b"
             ],
             [
              0.6666666666666666,
              "#ed7953"
             ],
             [
              0.7777777777777778,
              "#fb9f3a"
             ],
             [
              0.8888888888888888,
              "#fdca26"
             ],
             [
              1,
              "#f0f921"
             ]
            ],
            "type": "histogram2d"
           }
          ],
          "histogram2dcontour": [
           {
            "colorbar": {
             "outlinewidth": 0,
             "ticks": ""
            },
            "colorscale": [
             [
              0,
              "#0d0887"
             ],
             [
              0.1111111111111111,
              "#46039f"
             ],
             [
              0.2222222222222222,
              "#7201a8"
             ],
             [
              0.3333333333333333,
              "#9c179e"
             ],
             [
              0.4444444444444444,
              "#bd3786"
             ],
             [
              0.5555555555555556,
              "#d8576b"
             ],
             [
              0.6666666666666666,
              "#ed7953"
             ],
             [
              0.7777777777777778,
              "#fb9f3a"
             ],
             [
              0.8888888888888888,
              "#fdca26"
             ],
             [
              1,
              "#f0f921"
             ]
            ],
            "type": "histogram2dcontour"
           }
          ],
          "mesh3d": [
           {
            "colorbar": {
             "outlinewidth": 0,
             "ticks": ""
            },
            "type": "mesh3d"
           }
          ],
          "parcoords": [
           {
            "line": {
             "colorbar": {
              "outlinewidth": 0,
              "ticks": ""
             }
            },
            "type": "parcoords"
           }
          ],
          "pie": [
           {
            "automargin": true,
            "type": "pie"
           }
          ],
          "scatter": [
           {
            "fillpattern": {
             "fillmode": "overlay",
             "size": 10,
             "solidity": 0.2
            },
            "type": "scatter"
           }
          ],
          "scatter3d": [
           {
            "line": {
             "colorbar": {
              "outlinewidth": 0,
              "ticks": ""
             }
            },
            "marker": {
             "colorbar": {
              "outlinewidth": 0,
              "ticks": ""
             }
            },
            "type": "scatter3d"
           }
          ],
          "scattercarpet": [
           {
            "marker": {
             "colorbar": {
              "outlinewidth": 0,
              "ticks": ""
             }
            },
            "type": "scattercarpet"
           }
          ],
          "scattergeo": [
           {
            "marker": {
             "colorbar": {
              "outlinewidth": 0,
              "ticks": ""
             }
            },
            "type": "scattergeo"
           }
          ],
          "scattergl": [
           {
            "marker": {
             "colorbar": {
              "outlinewidth": 0,
              "ticks": ""
             }
            },
            "type": "scattergl"
           }
          ],
          "scattermapbox": [
           {
            "marker": {
             "colorbar": {
              "outlinewidth": 0,
              "ticks": ""
             }
            },
            "type": "scattermapbox"
           }
          ],
          "scatterpolar": [
           {
            "marker": {
             "colorbar": {
              "outlinewidth": 0,
              "ticks": ""
             }
            },
            "type": "scatterpolar"
           }
          ],
          "scatterpolargl": [
           {
            "marker": {
             "colorbar": {
              "outlinewidth": 0,
              "ticks": ""
             }
            },
            "type": "scatterpolargl"
           }
          ],
          "scatterternary": [
           {
            "marker": {
             "colorbar": {
              "outlinewidth": 0,
              "ticks": ""
             }
            },
            "type": "scatterternary"
           }
          ],
          "surface": [
           {
            "colorbar": {
             "outlinewidth": 0,
             "ticks": ""
            },
            "colorscale": [
             [
              0,
              "#0d0887"
             ],
             [
              0.1111111111111111,
              "#46039f"
             ],
             [
              0.2222222222222222,
              "#7201a8"
             ],
             [
              0.3333333333333333,
              "#9c179e"
             ],
             [
              0.4444444444444444,
              "#bd3786"
             ],
             [
              0.5555555555555556,
              "#d8576b"
             ],
             [
              0.6666666666666666,
              "#ed7953"
             ],
             [
              0.7777777777777778,
              "#fb9f3a"
             ],
             [
              0.8888888888888888,
              "#fdca26"
             ],
             [
              1,
              "#f0f921"
             ]
            ],
            "type": "surface"
           }
          ],
          "table": [
           {
            "cells": {
             "fill": {
              "color": "#EBF0F8"
             },
             "line": {
              "color": "white"
             }
            },
            "header": {
             "fill": {
              "color": "#C8D4E3"
             },
             "line": {
              "color": "white"
             }
            },
            "type": "table"
           }
          ]
         },
         "layout": {
          "annotationdefaults": {
           "arrowcolor": "#2a3f5f",
           "arrowhead": 0,
           "arrowwidth": 1
          },
          "autotypenumbers": "strict",
          "coloraxis": {
           "colorbar": {
            "outlinewidth": 0,
            "ticks": ""
           }
          },
          "colorscale": {
           "diverging": [
            [
             0,
             "#8e0152"
            ],
            [
             0.1,
             "#c51b7d"
            ],
            [
             0.2,
             "#de77ae"
            ],
            [
             0.3,
             "#f1b6da"
            ],
            [
             0.4,
             "#fde0ef"
            ],
            [
             0.5,
             "#f7f7f7"
            ],
            [
             0.6,
             "#e6f5d0"
            ],
            [
             0.7,
             "#b8e186"
            ],
            [
             0.8,
             "#7fbc41"
            ],
            [
             0.9,
             "#4d9221"
            ],
            [
             1,
             "#276419"
            ]
           ],
           "sequential": [
            [
             0,
             "#0d0887"
            ],
            [
             0.1111111111111111,
             "#46039f"
            ],
            [
             0.2222222222222222,
             "#7201a8"
            ],
            [
             0.3333333333333333,
             "#9c179e"
            ],
            [
             0.4444444444444444,
             "#bd3786"
            ],
            [
             0.5555555555555556,
             "#d8576b"
            ],
            [
             0.6666666666666666,
             "#ed7953"
            ],
            [
             0.7777777777777778,
             "#fb9f3a"
            ],
            [
             0.8888888888888888,
             "#fdca26"
            ],
            [
             1,
             "#f0f921"
            ]
           ],
           "sequentialminus": [
            [
             0,
             "#0d0887"
            ],
            [
             0.1111111111111111,
             "#46039f"
            ],
            [
             0.2222222222222222,
             "#7201a8"
            ],
            [
             0.3333333333333333,
             "#9c179e"
            ],
            [
             0.4444444444444444,
             "#bd3786"
            ],
            [
             0.5555555555555556,
             "#d8576b"
            ],
            [
             0.6666666666666666,
             "#ed7953"
            ],
            [
             0.7777777777777778,
             "#fb9f3a"
            ],
            [
             0.8888888888888888,
             "#fdca26"
            ],
            [
             1,
             "#f0f921"
            ]
           ]
          },
          "colorway": [
           "#636efa",
           "#EF553B",
           "#00cc96",
           "#ab63fa",
           "#FFA15A",
           "#19d3f3",
           "#FF6692",
           "#B6E880",
           "#FF97FF",
           "#FECB52"
          ],
          "font": {
           "color": "#2a3f5f"
          },
          "geo": {
           "bgcolor": "white",
           "lakecolor": "white",
           "landcolor": "#E5ECF6",
           "showlakes": true,
           "showland": true,
           "subunitcolor": "white"
          },
          "hoverlabel": {
           "align": "left"
          },
          "hovermode": "closest",
          "mapbox": {
           "style": "light"
          },
          "paper_bgcolor": "white",
          "plot_bgcolor": "#E5ECF6",
          "polar": {
           "angularaxis": {
            "gridcolor": "white",
            "linecolor": "white",
            "ticks": ""
           },
           "bgcolor": "#E5ECF6",
           "radialaxis": {
            "gridcolor": "white",
            "linecolor": "white",
            "ticks": ""
           }
          },
          "scene": {
           "xaxis": {
            "backgroundcolor": "#E5ECF6",
            "gridcolor": "white",
            "gridwidth": 2,
            "linecolor": "white",
            "showbackground": true,
            "ticks": "",
            "zerolinecolor": "white"
           },
           "yaxis": {
            "backgroundcolor": "#E5ECF6",
            "gridcolor": "white",
            "gridwidth": 2,
            "linecolor": "white",
            "showbackground": true,
            "ticks": "",
            "zerolinecolor": "white"
           },
           "zaxis": {
            "backgroundcolor": "#E5ECF6",
            "gridcolor": "white",
            "gridwidth": 2,
            "linecolor": "white",
            "showbackground": true,
            "ticks": "",
            "zerolinecolor": "white"
           }
          },
          "shapedefaults": {
           "line": {
            "color": "#2a3f5f"
           }
          },
          "ternary": {
           "aaxis": {
            "gridcolor": "white",
            "linecolor": "white",
            "ticks": ""
           },
           "baxis": {
            "gridcolor": "white",
            "linecolor": "white",
            "ticks": ""
           },
           "bgcolor": "#E5ECF6",
           "caxis": {
            "gridcolor": "white",
            "linecolor": "white",
            "ticks": ""
           }
          },
          "title": {
           "x": 0.05
          },
          "xaxis": {
           "automargin": true,
           "gridcolor": "white",
           "linecolor": "white",
           "ticks": "",
           "title": {
            "standoff": 15
           },
           "zerolinecolor": "white",
           "zerolinewidth": 2
          },
          "yaxis": {
           "automargin": true,
           "gridcolor": "white",
           "linecolor": "white",
           "ticks": "",
           "title": {
            "standoff": 15
           },
           "zerolinecolor": "white",
           "zerolinewidth": 2
          }
         }
        },
        "title": {
         "text": "3D Scatter Plot of Categories"
        },
        "width": 800
       }
      }
     },
     "metadata": {},
     "output_type": "display_data"
    }
   ],
   "source": [
    "# Display the 3D Scatter Plot of Categories\n",
    "fig = go.Figure()\n",
    "\n",
    "for i, cat in enumerate(categories):\n",
    "    sub_matrix = np.array(df[df[\"categorie\"] == cat][\"question_embedding\"].to_list())\n",
    "    x = sub_matrix[:, 0]\n",
    "    y = sub_matrix[:, 1]\n",
    "    z = sub_matrix[:, 2]\n",
    "\n",
    "    # get the question text for hover\n",
    "    hover_text = df[df[\"categorie\"] == cat][\"question\"]\n",
    "\n",
    "    fig.add_trace(\n",
    "        go.Scatter3d(\n",
    "            x=x,\n",
    "            y=y,\n",
    "            z=z,\n",
    "            mode=\"markers\",\n",
    "            marker=dict(size=5, color=i, colorscale=\"Viridis\", opacity=0.8),\n",
    "            name=cat,\n",
    "            hovertext=hover_text,\n",
    "            hoverinfo=\"text\",\n",
    "        )\n",
    "    )\n",
    "\n",
    "fig.update_layout(\n",
    "    autosize=False,\n",
    "    title=\"3D Scatter Plot of Categories\",\n",
    "    width=800,\n",
    "    height=500,\n",
    "    margin=dict(l=50, r=50, b=100, t=100, pad=10),\n",
    "    scene=dict(\n",
    "        xaxis=dict(title=\"x\"),\n",
    "        yaxis=dict(title=\"y\"),\n",
    "        zaxis=dict(title=\"z\"),\n",
    "    ),\n",
    ")\n",
    "\n",
    "fig.show()"
   ]
  },
  {
   "cell_type": "markdown",
   "metadata": {},
   "source": [
    "### Embedding Projection After Dimensionality Reduction"
   ]
  },
  {
   "cell_type": "code",
   "execution_count": 11,
   "metadata": {},
   "outputs": [
    {
     "data": {
      "image/png": "[encoded data removed]",
      "text/plain": [
       "<Figure size 1000x1000 with 1 Axes>"
      ]
     },
     "metadata": {},
     "output_type": "display_data"
    }
   ],
   "source": [
    "# Display the 2D scatter plot of Categories using Matplotlib\n",
    "fig = plt.figure(figsize=(10, 10))\n",
    "\n",
    "for category in categories:\n",
    "    plt.scatter(df[df[\"categorie\"] == category][\"question_embedding_pca\"].apply(lambda x: x[0]), \n",
    "                df[df[\"categorie\"] == category][\"question_embedding_pca\"].apply(lambda x: x[1]), \n",
    "                label=category)\n",
    "    \n",
    "plt.xlabel(\"x\")\n",
    "plt.ylabel(\"y\")\n",
    "plt.title(\"2D Scatter Plot of Categories\")\n",
    "plt.legend()\n",
    "plt.show()"
   ]
  },
  {
   "cell_type": "code",
   "execution_count": 12,
   "metadata": {},
   "outputs": [
    {
     "data": {
      "application/vnd.plotly.v1+json": {
       "config": {
        "plotlyServerURL": "https://plot.ly"
       },
       "data": [
        {
         "hoverinfo": "text",
         "hovertext": [
          "Qu'est-ce que le python royal?",
          "Qu'est-ce qui est célèbre chez les pandas géants?",
          "Comment les pythons capturent-ils leur proie?",
          "Qu'est-ce que les pandas roux?",
          "Que mangent principalement les pandas?",
          "Quelle est la taille maximale qu'un python peut atteindre?",
          "Quels sont les prédateurs naturels du python royal?",
          "Quelle est la durée de gestation des pandas?",
          "Comment les pandas roux sont-ils adaptés à leur environnement?"
         ],
         "marker": {
          "color": 0,
          "colorscale": [
           [
            0,
            "#440154"
           ],
           [
            0.1111111111111111,
            "#482878"
           ],
           [
            0.2222222222222222,
            "#3e4989"
           ],
           [
            0.3333333333333333,
            "#31688e"
           ],
           [
            0.4444444444444444,
            "#26828e"
           ],
           [
            0.5555555555555556,
            "#1f9e89"
           ],
           [
            0.6666666666666666,
            "#35b779"
           ],
           [
            0.7777777777777778,
            "#6ece58"
           ],
           [
            0.8888888888888888,
            "#b5de2b"
           ],
           [
            1,
            "#fde725"
           ]
          ],
          "opacity": 0.8,
          "size": 8
         },
         "mode": "markers",
         "name": "Animaux",
         "type": "scatter",
         "x": [
          0.08063535952695675,
          0.5230444798752808,
          0.1627255090967982,
          0.5130400101289972,
          0.5000358183450949,
          0.09208020786335656,
          0.21738133690928724,
          0.5142358043126416,
          0.5610587369506667
         ],
         "y": [
          0.58636072218121,
          -0.26117652407163633,
          0.4432001999107471,
          -0.2511293602534206,
          -0.28789821307946856,
          0.47721197211337985,
          0.6024546043787976,
          -0.17958680553917375,
          -0.2228872059450008
         ]
        },
        {
         "hoverinfo": "text",
         "hovertext": [
          "Qu'est-ce que Python?",
          "Pourquoi les développeurs utilisent-ils Python pour l'analyse de données?",
          "Quels sont les avantages de la syntaxe de Python pour les débutants en programmation?",
          "Dans quels domaines Python est-il utilisé?",
          "Quelles entreprises utilisent largement Python?",
          "Qu'est-ce qu'une liste en Python?",
          "Quelle est la différence entre Python 2 et Python 3?",
          "Quelles sont les principales caractéristiques de la programmation orientée objet en Python?",
          "Quels sont les frameworks web populaires utilisés avec Python?"
         ],
         "marker": {
          "color": 1,
          "colorscale": [
           [
            0,
            "#440154"
           ],
           [
            0.1111111111111111,
            "#482878"
           ],
           [
            0.2222222222222222,
            "#3e4989"
           ],
           [
            0.3333333333333333,
            "#31688e"
           ],
           [
            0.4444444444444444,
            "#26828e"
           ],
           [
            0.5555555555555556,
            "#1f9e89"
           ],
           [
            0.6666666666666666,
            "#35b779"
           ],
           [
            0.7777777777777778,
            "#6ece58"
           ],
           [
            0.8888888888888888,
            "#b5de2b"
           ],
           [
            1,
            "#fde725"
           ]
          ],
          "opacity": 0.8,
          "size": 8
         },
         "mode": "markers",
         "name": "Python",
         "type": "scatter",
         "x": [
          -0.35888304943450505,
          -0.3760718230925556,
          -0.36857208660392377,
          -0.4291465132549761,
          -0.3537818910730685,
          -0.2968282064104069,
          -0.27622495747951464,
          -0.34045994518005807,
          -0.36426879048007144
         ],
         "y": [
          0.037659461080240444,
          -0.17376836511265717,
          -0.07998460956560037,
          -0.1632675680917347,
          -0.14836118215667987,
          -0.05682205161998991,
          -0.03403078826287345,
          -0.1063022811951787,
          -0.18167200477096057
         ]
        }
       ],
       "layout": {
        "autosize": false,
        "height": 500,
        "margin": {
         "b": 100,
         "l": 50,
         "pad": 10,
         "r": 50,
         "t": 100
        },
        "template": {
         "data": {
          "bar": [
           {
            "error_x": {
             "color": "#2a3f5f"
            },
            "error_y": {
             "color": "#2a3f5f"
            },
            "marker": {
             "line": {
              "color": "#E5ECF6",
              "width": 0.5
             },
             "pattern": {
              "fillmode": "overlay",
              "size": 10,
              "solidity": 0.2
             }
            },
            "type": "bar"
           }
          ],
          "barpolar": [
           {
            "marker": {
             "line": {
              "color": "#E5ECF6",
              "width": 0.5
             },
             "pattern": {
              "fillmode": "overlay",
              "size": 10,
              "solidity": 0.2
             }
            },
            "type": "barpolar"
           }
          ],
          "carpet": [
           {
            "aaxis": {
             "endlinecolor": "#2a3f5f",
             "gridcolor": "white",
             "linecolor": "white",
             "minorgridcolor": "white",
             "startlinecolor": "#2a3f5f"
            },
            "baxis": {
             "endlinecolor": "#2a3f5f",
             "gridcolor": "white",
             "linecolor": "white",
             "minorgridcolor": "white",
             "startlinecolor": "#2a3f5f"
            },
            "type": "carpet"
           }
          ],
          "choropleth": [
           {
            "colorbar": {
             "outlinewidth": 0,
             "ticks": ""
            },
            "type": "choropleth"
           }
          ],
          "contour": [
           {
            "colorbar": {
             "outlinewidth": 0,
             "ticks": ""
            },
            "colorscale": [
             [
              0,
              "#0d0887"
             ],
             [
              0.1111111111111111,
              "#46039f"
             ],
             [
              0.2222222222222222,
              "#7201a8"
             ],
             [
              0.3333333333333333,
              "#9c179e"
             ],
             [
              0.4444444444444444,
              "#bd3786"
             ],
             [
              0.5555555555555556,
              "#d8576b"
             ],
             [
              0.6666666666666666,
              "#ed7953"
             ],
             [
              0.7777777777777778,
              "#fb9f3a"
             ],
             [
              0.8888888888888888,
              "#fdca26"
             ],
             [
              1,
              "#f0f921"
             ]
            ],
            "type": "contour"
           }
          ],
          "contourcarpet": [
           {
            "colorbar": {
             "outlinewidth": 0,
             "ticks": ""
            },
            "type": "contourcarpet"
           }
          ],
          "heatmap": [
           {
            "colorbar": {
             "outlinewidth": 0,
             "ticks": ""
            },
            "colorscale": [
             [
              0,
              "#0d0887"
             ],
             [
              0.1111111111111111,
              "#46039f"
             ],
             [
              0.2222222222222222,
              "#7201a8"
             ],
             [
              0.3333333333333333,
              "#9c179e"
             ],
             [
              0.4444444444444444,
              "#bd3786"
             ],
             [
              0.5555555555555556,
              "#d8576b"
             ],
             [
              0.6666666666666666,
              "#ed7953"
             ],
             [
              0.7777777777777778,
              "#fb9f3a"
             ],
             [
              0.8888888888888888,
              "#fdca26"
             ],
             [
              1,
              "#f0f921"
             ]
            ],
            "type": "heatmap"
           }
          ],
          "heatmapgl": [
           {
            "colorbar": {
             "outlinewidth": 0,
             "ticks": ""
            },
            "colorscale": [
             [
              0,
              "#0d0887"
             ],
             [
              0.1111111111111111,
              "#46039f"
             ],
             [
              0.2222222222222222,
              "#7201a8"
             ],
             [
              0.3333333333333333,
              "#9c179e"
             ],
             [
              0.4444444444444444,
              "#bd3786"
             ],
             [
              0.5555555555555556,
              "#d8576b"
             ],
             [
              0.6666666666666666,
              "#ed7953"
             ],
             [
              0.7777777777777778,
              "#fb9f3a"
             ],
             [
              0.8888888888888888,
              "#fdca26"
             ],
             [
              1,
              "#f0f921"
             ]
            ],
            "type": "heatmapgl"
           }
          ],
          "histogram": [
           {
            "marker": {
             "pattern": {
              "fillmode": "overlay",
              "size": 10,
              "solidity": 0.2
             }
            },
            "type": "histogram"
           }
          ],
          "histogram2d": [
           {
            "colorbar": {
             "outlinewidth": 0,
             "ticks": ""
            },
            "colorscale": [
             [
              0,
              "#0d0887"
             ],
             [
              0.1111111111111111,
              "#46039f"
             ],
             [
              0.2222222222222222,
              "#7201a8"
             ],
             [
              0.3333333333333333,
              "#9c179e"
             ],
             [
              0.4444444444444444,
              "#bd3786"
             ],
             [
              0.5555555555555556,
              "#d8576b"
             ],
             [
              0.6666666666666666,
              "#ed7953"
             ],
             [
              0.7777777777777778,
              "#fb9f3a"
             ],
             [
              0.8888888888888888,
              "#fdca26"
             ],
             [
              1,
              "#f0f921"
             ]
            ],
            "type": "histogram2d"
           }
          ],
          "histogram2dcontour": [
           {
            "colorbar": {
             "outlinewidth": 0,
             "ticks": ""
            },
            "colorscale": [
             [
              0,
              "#0d0887"
             ],
             [
              0.1111111111111111,
              "#46039f"
             ],
             [
              0.2222222222222222,
              "#7201a8"
             ],
             [
              0.3333333333333333,
              "#9c179e"
             ],
             [
              0.4444444444444444,
              "#bd3786"
             ],
             [
              0.5555555555555556,
              "#d8576b"
             ],
             [
              0.6666666666666666,
              "#ed7953"
             ],
             [
              0.7777777777777778,
              "#fb9f3a"
             ],
             [
              0.8888888888888888,
              "#fdca26"
             ],
             [
              1,
              "#f0f921"
             ]
            ],
            "type": "histogram2dcontour"
           }
          ],
          "mesh3d": [
           {
            "colorbar": {
             "outlinewidth": 0,
             "ticks": ""
            },
            "type": "mesh3d"
           }
          ],
          "parcoords": [
           {
            "line": {
             "colorbar": {
              "outlinewidth": 0,
              "ticks": ""
             }
            },
            "type": "parcoords"
           }
          ],
          "pie": [
           {
            "automargin": true,
            "type": "pie"
           }
          ],
          "scatter": [
           {
            "fillpattern": {
             "fillmode": "overlay",
             "size": 10,
             "solidity": 0.2
            },
            "type": "scatter"
           }
          ],
          "scatter3d": [
           {
            "line": {
             "colorbar": {
              "outlinewidth": 0,
              "ticks": ""
             }
            },
            "marker": {
             "colorbar": {
              "outlinewidth": 0,
              "ticks": ""
             }
            },
            "type": "scatter3d"
           }
          ],
          "scattercarpet": [
           {
            "marker": {
             "colorbar": {
              "outlinewidth": 0,
              "ticks": ""
             }
            },
            "type": "scattercarpet"
           }
          ],
          "scattergeo": [
           {
            "marker": {
             "colorbar": {
              "outlinewidth": 0,
              "ticks": ""
             }
            },
            "type": "scattergeo"
           }
          ],
          "scattergl": [
           {
            "marker": {
             "colorbar": {
              "outlinewidth": 0,
              "ticks": ""
             }
            },
            "type": "scattergl"
           }
          ],
          "scattermapbox": [
           {
            "marker": {
             "colorbar": {
              "outlinewidth": 0,
              "ticks": ""
             }
            },
            "type": "scattermapbox"
           }
          ],
          "scatterpolar": [
           {
            "marker": {
             "colorbar": {
              "outlinewidth": 0,
              "ticks": ""
             }
            },
            "type": "scatterpolar"
           }
          ],
          "scatterpolargl": [
           {
            "marker": {
             "colorbar": {
              "outlinewidth": 0,
              "ticks": ""
             }
            },
            "type": "scatterpolargl"
           }
          ],
          "scatterternary": [
           {
            "marker": {
             "colorbar": {
              "outlinewidth": 0,
              "ticks": ""
             }
            },
            "type": "scatterternary"
           }
          ],
          "surface": [
           {
            "colorbar": {
             "outlinewidth": 0,
             "ticks": ""
            },
            "colorscale": [
             [
              0,
              "#0d0887"
             ],
             [
              0.1111111111111111,
              "#46039f"
             ],
             [
              0.2222222222222222,
              "#7201a8"
             ],
             [
              0.3333333333333333,
              "#9c179e"
             ],
             [
              0.4444444444444444,
              "#bd3786"
             ],
             [
              0.5555555555555556,
              "#d8576b"
             ],
             [
              0.6666666666666666,
              "#ed7953"
             ],
             [
              0.7777777777777778,
              "#fb9f3a"
             ],
             [
              0.8888888888888888,
              "#fdca26"
             ],
             [
              1,
              "#f0f921"
             ]
            ],
            "type": "surface"
           }
          ],
          "table": [
           {
            "cells": {
             "fill": {
              "color": "#EBF0F8"
             },
             "line": {
              "color": "white"
             }
            },
            "header": {
             "fill": {
              "color": "#C8D4E3"
             },
             "line": {
              "color": "white"
             }
            },
            "type": "table"
           }
          ]
         },
         "layout": {
          "annotationdefaults": {
           "arrowcolor": "#2a3f5f",
           "arrowhead": 0,
           "arrowwidth": 1
          },
          "autotypenumbers": "strict",
          "coloraxis": {
           "colorbar": {
            "outlinewidth": 0,
            "ticks": ""
           }
          },
          "colorscale": {
           "diverging": [
            [
             0,
             "#8e0152"
            ],
            [
             0.1,
             "#c51b7d"
            ],
            [
             0.2,
             "#de77ae"
            ],
            [
             0.3,
             "#f1b6da"
            ],
            [
             0.4,
             "#fde0ef"
            ],
            [
             0.5,
             "#f7f7f7"
            ],
            [
             0.6,
             "#e6f5d0"
            ],
            [
             0.7,
             "#b8e186"
            ],
            [
             0.8,
             "#7fbc41"
            ],
            [
             0.9,
             "#4d9221"
            ],
            [
             1,
             "#276419"
            ]
           ],
           "sequential": [
            [
             0,
             "#0d0887"
            ],
            [
             0.1111111111111111,
             "#46039f"
            ],
            [
             0.2222222222222222,
             "#7201a8"
            ],
            [
             0.3333333333333333,
             "#9c179e"
            ],
            [
             0.4444444444444444,
             "#bd3786"
            ],
            [
             0.5555555555555556,
             "#d8576b"
            ],
            [
             0.6666666666666666,
             "#ed7953"
            ],
            [
             0.7777777777777778,
             "#fb9f3a"
            ],
            [
             0.8888888888888888,
             "#fdca26"
            ],
            [
             1,
             "#f0f921"
            ]
           ],
           "sequentialminus": [
            [
             0,
             "#0d0887"
            ],
            [
             0.1111111111111111,
             "#46039f"
            ],
            [
             0.2222222222222222,
             "#7201a8"
            ],
            [
             0.3333333333333333,
             "#9c179e"
            ],
            [
             0.4444444444444444,
             "#bd3786"
            ],
            [
             0.5555555555555556,
             "#d8576b"
            ],
            [
             0.6666666666666666,
             "#ed7953"
            ],
            [
             0.7777777777777778,
             "#fb9f3a"
            ],
            [
             0.8888888888888888,
             "#fdca26"
            ],
            [
             1,
             "#f0f921"
            ]
           ]
          },
          "colorway": [
           "#636efa",
           "#EF553B",
           "#00cc96",
           "#ab63fa",
           "#FFA15A",
           "#19d3f3",
           "#FF6692",
           "#B6E880",
           "#FF97FF",
           "#FECB52"
          ],
          "font": {
           "color": "#2a3f5f"
          },
          "geo": {
           "bgcolor": "white",
           "lakecolor": "white",
           "landcolor": "#E5ECF6",
           "showlakes": true,
           "showland": true,
           "subunitcolor": "white"
          },
          "hoverlabel": {
           "align": "left"
          },
          "hovermode": "closest",
          "mapbox": {
           "style": "light"
          },
          "paper_bgcolor": "white",
          "plot_bgcolor": "#E5ECF6",
          "polar": {
           "angularaxis": {
            "gridcolor": "white",
            "linecolor": "white",
            "ticks": ""
           },
           "bgcolor": "#E5ECF6",
           "radialaxis": {
            "gridcolor": "white",
            "linecolor": "white",
            "ticks": ""
           }
          },
          "scene": {
           "xaxis": {
            "backgroundcolor": "#E5ECF6",
            "gridcolor": "white",
            "gridwidth": 2,
            "linecolor": "white",
            "showbackground": true,
            "ticks": "",
            "zerolinecolor": "white"
           },
           "yaxis": {
            "backgroundcolor": "#E5ECF6",
            "gridcolor": "white",
            "gridwidth": 2,
            "linecolor": "white",
            "showbackground": true,
            "ticks": "",
            "zerolinecolor": "white"
           },
           "zaxis": {
            "backgroundcolor": "#E5ECF6",
            "gridcolor": "white",
            "gridwidth": 2,
            "linecolor": "white",
            "showbackground": true,
            "ticks": "",
            "zerolinecolor": "white"
           }
          },
          "shapedefaults": {
           "line": {
            "color": "#2a3f5f"
           }
          },
          "ternary": {
           "aaxis": {
            "gridcolor": "white",
            "linecolor": "white",
            "ticks": ""
           },
           "baxis": {
            "gridcolor": "white",
            "linecolor": "white",
            "ticks": ""
           },
           "bgcolor": "#E5ECF6",
           "caxis": {
            "gridcolor": "white",
            "linecolor": "white",
            "ticks": ""
           }
          },
          "title": {
           "x": 0.05
          },
          "xaxis": {
           "automargin": true,
           "gridcolor": "white",
           "linecolor": "white",
           "ticks": "",
           "title": {
            "standoff": 15
           },
           "zerolinecolor": "white",
           "zerolinewidth": 2
          },
          "yaxis": {
           "automargin": true,
           "gridcolor": "white",
           "linecolor": "white",
           "ticks": "",
           "title": {
            "standoff": 15
           },
           "zerolinecolor": "white",
           "zerolinewidth": 2
          }
         }
        },
        "title": {
         "text": "2D Scatter Plot of Categories"
        },
        "width": 800,
        "xaxis": {
         "title": {
          "text": "x"
         }
        },
        "yaxis": {
         "title": {
          "text": "y"
         }
        }
       }
      }
     },
     "metadata": {},
     "output_type": "display_data"
    }
   ],
   "source": [
    "# Display the 2D scatter plot of Categories using Plotly\n",
    "fig = go.Figure()\n",
    "\n",
    "for i, cat in enumerate(categories):\n",
    "    sub_matrix = np.array(df[df[\"categorie\"] == cat][\"question_embedding_pca\"].to_list())\n",
    "    x = sub_matrix[:, 0] # first dimension of the embeddings\n",
    "    y = sub_matrix[:, 1] # second dimension of the embeddings\n",
    "\n",
    "    # get the question text for hover\n",
    "    hover_text = df[df[\"categorie\"] == cat][\"question\"]\n",
    "\n",
    "    fig.add_trace(\n",
    "        go.Scatter(\n",
    "            x=x,\n",
    "            y=y,\n",
    "            mode=\"markers\",\n",
    "            marker=dict(size=8, color=i, colorscale=\"Viridis\", opacity=0.8),\n",
    "            name=cat,\n",
    "            hovertext=hover_text,\n",
    "            hoverinfo=\"text\",\n",
    "        )\n",
    "    )\n",
    "\n",
    "fig.update_layout(\n",
    "    autosize=False,\n",
    "    title=\"2D Scatter Plot of Categories\",\n",
    "    width=800,\n",
    "    height=500,\n",
    "    margin=dict(l=50, r=50, b=100, t=100, pad=10),\n",
    "    xaxis=dict(title=\"x\"),\n",
    "    yaxis=dict(title=\"y\"),\n",
    ")\n",
    "\n",
    "fig.show()"
   ]
  },
  {
   "cell_type": "code",
   "execution_count": 13,
   "metadata": {},
   "outputs": [
    {
     "data": {
      "application/vnd.plotly.v1+json": {
       "config": {
        "plotlyServerURL": "https://plot.ly"
       },
       "data": [
        {
         "hoverinfo": "text",
         "hovertext": [
          "Qu'est-ce que le python royal?",
          "Qu'est-ce qui est célèbre chez les pandas géants?",
          "Comment les pythons capturent-ils leur proie?",
          "Qu'est-ce que les pandas roux?",
          "Que mangent principalement les pandas?",
          "Quelle est la taille maximale qu'un python peut atteindre?",
          "Quels sont les prédateurs naturels du python royal?",
          "Quelle est la durée de gestation des pandas?",
          "Comment les pandas roux sont-ils adaptés à leur environnement?"
         ],
         "marker": {
          "color": 0,
          "colorscale": [
           [
            0,
            "#440154"
           ],
           [
            0.1111111111111111,
            "#482878"
           ],
           [
            0.2222222222222222,
            "#3e4989"
           ],
           [
            0.3333333333333333,
            "#31688e"
           ],
           [
            0.4444444444444444,
            "#26828e"
           ],
           [
            0.5555555555555556,
            "#1f9e89"
           ],
           [
            0.6666666666666666,
            "#35b779"
           ],
           [
            0.7777777777777778,
            "#6ece58"
           ],
           [
            0.8888888888888888,
            "#b5de2b"
           ],
           [
            1,
            "#fde725"
           ]
          ],
          "opacity": 0.8,
          "size": 5
         },
         "mode": "markers",
         "name": "Animaux",
         "type": "scatter3d",
         "x": [
          0.08063535952695675,
          0.5230444798752808,
          0.1627255090967982,
          0.5130400101289972,
          0.5000358183450949,
          0.09208020786335656,
          0.21738133690928724,
          0.5142358043126416,
          0.5610587369506667
         ],
         "y": [
          0.58636072218121,
          -0.26117652407163633,
          0.4432001999107471,
          -0.2511293602534206,
          -0.28789821307946856,
          0.47721197211337985,
          0.6024546043787976,
          -0.17958680553917375,
          -0.2228872059450008
         ],
         "z": [
          -0.015370471712273202,
          0.015563499534076597,
          0.002400810524321322,
          0.07116532764367514,
          -0.06318385590301707,
          -0.041239668453244976,
          -0.14810317553158617,
          -0.019248348941874063,
          0.021827208981132478
         ]
        },
        {
         "hoverinfo": "text",
         "hovertext": [
          "Qu'est-ce que Python?",
          "Pourquoi les développeurs utilisent-ils Python pour l'analyse de données?",
          "Quels sont les avantages de la syntaxe de Python pour les débutants en programmation?",
          "Dans quels domaines Python est-il utilisé?",
          "Quelles entreprises utilisent largement Python?",
          "Qu'est-ce qu'une liste en Python?",
          "Quelle est la différence entre Python 2 et Python 3?",
          "Quelles sont les principales caractéristiques de la programmation orientée objet en Python?",
          "Quels sont les frameworks web populaires utilisés avec Python?"
         ],
         "marker": {
          "color": 1,
          "colorscale": [
           [
            0,
            "#440154"
           ],
           [
            0.1111111111111111,
            "#482878"
           ],
           [
            0.2222222222222222,
            "#3e4989"
           ],
           [
            0.3333333333333333,
            "#31688e"
           ],
           [
            0.4444444444444444,
            "#26828e"
           ],
           [
            0.5555555555555556,
            "#1f9e89"
           ],
           [
            0.6666666666666666,
            "#35b779"
           ],
           [
            0.7777777777777778,
            "#6ece58"
           ],
           [
            0.8888888888888888,
            "#b5de2b"
           ],
           [
            1,
            "#fde725"
           ]
          ],
          "opacity": 0.8,
          "size": 5
         },
         "mode": "markers",
         "name": "Python",
         "type": "scatter3d",
         "x": [
          -0.35888304943450505,
          -0.3760718230925556,
          -0.36857208660392377,
          -0.4291465132549761,
          -0.3537818910730685,
          -0.2968282064104069,
          -0.27622495747951464,
          -0.34045994518005807,
          -0.36426879048007144
         ],
         "y": [
          0.037659461080240444,
          -0.17376836511265717,
          -0.07998460956560037,
          -0.1632675680917347,
          -0.14836118215667987,
          -0.05682205161998991,
          -0.03403078826287345,
          -0.1063022811951787,
          -0.18167200477096057
         ],
         "z": [
          0.06627211498258746,
          -0.17552906330212423,
          0.3276624104947207,
          -0.3525152812047349,
          -0.44776425122513175,
          0.45690830903775104,
          0.3113923094902159,
          0.34408321520226803,
          -0.3543210896167621
         ]
        }
       ],
       "layout": {
        "autosize": false,
        "height": 500,
        "margin": {
         "b": 100,
         "l": 50,
         "pad": 10,
         "r": 50,
         "t": 100
        },
        "scene": {
         "xaxis": {
          "title": {
           "text": "x"
          }
         },
         "yaxis": {
          "title": {
           "text": "y"
          }
         },
         "zaxis": {
          "title": {
           "text": "z"
          }
         }
        },
        "template": {
         "data": {
          "bar": [
           {
            "error_x": {
             "color": "#2a3f5f"
            },
            "error_y": {
             "color": "#2a3f5f"
            },
            "marker": {
             "line": {
              "color": "#E5ECF6",
              "width": 0.5
             },
             "pattern": {
              "fillmode": "overlay",
              "size": 10,
              "solidity": 0.2
             }
            },
            "type": "bar"
           }
          ],
          "barpolar": [
           {
            "marker": {
             "line": {
              "color": "#E5ECF6",
              "width": 0.5
             },
             "pattern": {
              "fillmode": "overlay",
              "size": 10,
              "solidity": 0.2
             }
            },
            "type": "barpolar"
           }
          ],
          "carpet": [
           {
            "aaxis": {
             "endlinecolor": "#2a3f5f",
             "gridcolor": "white",
             "linecolor": "white",
             "minorgridcolor": "white",
             "startlinecolor": "#2a3f5f"
            },
            "baxis": {
             "endlinecolor": "#2a3f5f",
             "gridcolor": "white",
             "linecolor": "white",
             "minorgridcolor": "white",
             "startlinecolor": "#2a3f5f"
            },
            "type": "carpet"
           }
          ],
          "choropleth": [
           {
            "colorbar": {
             "outlinewidth": 0,
             "ticks": ""
            },
            "type": "choropleth"
           }
          ],
          "contour": [
           {
            "colorbar": {
             "outlinewidth": 0,
             "ticks": ""
            },
            "colorscale": [
             [
              0,
              "#0d0887"
             ],
             [
              0.1111111111111111,
              "#46039f"
             ],
             [
              0.2222222222222222,
              "#7201a8"
             ],
             [
              0.3333333333333333,
              "#9c179e"
             ],
             [
              0.4444444444444444,
              "#bd3786"
             ],
             [
              0.5555555555555556,
              "#d8576b"
             ],
             [
              0.6666666666666666,
              "#ed7953"
             ],
             [
              0.7777777777777778,
              "#fb9f3a"
             ],
             [
              0.8888888888888888,
              "#fdca26"
             ],
             [
              1,
              "#f0f921"
             ]
            ],
            "type": "contour"
           }
          ],
          "contourcarpet": [
           {
            "colorbar": {
             "outlinewidth": 0,
             "ticks": ""
            },
            "type": "contourcarpet"
           }
          ],
          "heatmap": [
           {
            "colorbar": {
             "outlinewidth": 0,
             "ticks": ""
            },
            "colorscale": [
             [
              0,
              "#0d0887"
             ],
             [
              0.1111111111111111,
              "#46039f"
             ],
             [
              0.2222222222222222,
              "#7201a8"
             ],
             [
              0.3333333333333333,
              "#9c179e"
             ],
             [
              0.4444444444444444,
              "#bd3786"
             ],
             [
              0.5555555555555556,
              "#d8576b"
             ],
             [
              0.6666666666666666,
              "#ed7953"
             ],
             [
              0.7777777777777778,
              "#fb9f3a"
             ],
             [
              0.8888888888888888,
              "#fdca26"
             ],
             [
              1,
              "#f0f921"
             ]
            ],
            "type": "heatmap"
           }
          ],
          "heatmapgl": [
           {
            "colorbar": {
             "outlinewidth": 0,
             "ticks": ""
            },
            "colorscale": [
             [
              0,
              "#0d0887"
             ],
             [
              0.1111111111111111,
              "#46039f"
             ],
             [
              0.2222222222222222,
              "#7201a8"
             ],
             [
              0.3333333333333333,
              "#9c179e"
             ],
             [
              0.4444444444444444,
              "#bd3786"
             ],
             [
              0.5555555555555556,
              "#d8576b"
             ],
             [
              0.6666666666666666,
              "#ed7953"
             ],
             [
              0.7777777777777778,
              "#fb9f3a"
             ],
             [
              0.8888888888888888,
              "#fdca26"
             ],
             [
              1,
              "#f0f921"
             ]
            ],
            "type": "heatmapgl"
           }
          ],
          "histogram": [
           {
            "marker": {
             "pattern": {
              "fillmode": "overlay",
              "size": 10,
              "solidity": 0.2
             }
            },
            "type": "histogram"
           }
          ],
          "histogram2d": [
           {
            "colorbar": {
             "outlinewidth": 0,
             "ticks": ""
            },
            "colorscale": [
             [
              0,
              "#0d0887"
             ],
             [
              0.1111111111111111,
              "#46039f"
             ],
             [
              0.2222222222222222,
              "#7201a8"
             ],
             [
              0.3333333333333333,
              "#9c179e"
             ],
             [
              0.4444444444444444,
              "#bd3786"
             ],
             [
              0.5555555555555556,
              "#d8576b"
             ],
             [
              0.6666666666666666,
              "#ed7953"
             ],
             [
              0.7777777777777778,
              "#fb9f3a"
             ],
             [
              0.8888888888888888,
              "#fdca26"
             ],
             [
              1,
              "#f0f921"
             ]
            ],
            "type": "histogram2d"
           }
          ],
          "histogram2dcontour": [
           {
            "colorbar": {
             "outlinewidth": 0,
             "ticks": ""
            },
            "colorscale": [
             [
              0,
              "#0d0887"
             ],
             [
              0.1111111111111111,
              "#46039f"
             ],
             [
              0.2222222222222222,
              "#7201a8"
             ],
             [
              0.3333333333333333,
              "#9c179e"
             ],
             [
              0.4444444444444444,
              "#bd3786"
             ],
             [
              0.5555555555555556,
              "#d8576b"
             ],
             [
              0.6666666666666666,
              "#ed7953"
             ],
             [
              0.7777777777777778,
              "#fb9f3a"
             ],
             [
              0.8888888888888888,
              "#fdca26"
             ],
             [
              1,
              "#f0f921"
             ]
            ],
            "type": "histogram2dcontour"
           }
          ],
          "mesh3d": [
           {
            "colorbar": {
             "outlinewidth": 0,
             "ticks": ""
            },
            "type": "mesh3d"
           }
          ],
          "parcoords": [
           {
            "line": {
             "colorbar": {
              "outlinewidth": 0,
              "ticks": ""
             }
            },
            "type": "parcoords"
           }
          ],
          "pie": [
           {
            "automargin": true,
            "type": "pie"
           }
          ],
          "scatter": [
           {
            "fillpattern": {
             "fillmode": "overlay",
             "size": 10,
             "solidity": 0.2
            },
            "type": "scatter"
           }
          ],
          "scatter3d": [
           {
            "line": {
             "colorbar": {
              "outlinewidth": 0,
              "ticks": ""
             }
            },
            "marker": {
             "colorbar": {
              "outlinewidth": 0,
              "ticks": ""
             }
            },
            "type": "scatter3d"
           }
          ],
          "scattercarpet": [
           {
            "marker": {
             "colorbar": {
              "outlinewidth": 0,
              "ticks": ""
             }
            },
            "type": "scattercarpet"
           }
          ],
          "scattergeo": [
           {
            "marker": {
             "colorbar": {
              "outlinewidth": 0,
              "ticks": ""
             }
            },
            "type": "scattergeo"
           }
          ],
          "scattergl": [
           {
            "marker": {
             "colorbar": {
              "outlinewidth": 0,
              "ticks": ""
             }
            },
            "type": "scattergl"
           }
          ],
          "scattermapbox": [
           {
            "marker": {
             "colorbar": {
              "outlinewidth": 0,
              "ticks": ""
             }
            },
            "type": "scattermapbox"
           }
          ],
          "scatterpolar": [
           {
            "marker": {
             "colorbar": {
              "outlinewidth": 0,
              "ticks": ""
             }
            },
            "type": "scatterpolar"
           }
          ],
          "scatterpolargl": [
           {
            "marker": {
             "colorbar": {
              "outlinewidth": 0,
              "ticks": ""
             }
            },
            "type": "scatterpolargl"
           }
          ],
          "scatterternary": [
           {
            "marker": {
             "colorbar": {
              "outlinewidth": 0,
              "ticks": ""
             }
            },
            "type": "scatterternary"
           }
          ],
          "surface": [
           {
            "colorbar": {
             "outlinewidth": 0,
             "ticks": ""
            },
            "colorscale": [
             [
              0,
              "#0d0887"
             ],
             [
              0.1111111111111111,
              "#46039f"
             ],
             [
              0.2222222222222222,
              "#7201a8"
             ],
             [
              0.3333333333333333,
              "#9c179e"
             ],
             [
              0.4444444444444444,
              "#bd3786"
             ],
             [
              0.5555555555555556,
              "#d8576b"
             ],
             [
              0.6666666666666666,
              "#ed7953"
             ],
             [
              0.7777777777777778,
              "#fb9f3a"
             ],
             [
              0.8888888888888888,
              "#fdca26"
             ],
             [
              1,
              "#f0f921"
             ]
            ],
            "type": "surface"
           }
          ],
          "table": [
           {
            "cells": {
             "fill": {
              "color": "#EBF0F8"
             },
             "line": {
              "color": "white"
             }
            },
            "header": {
             "fill": {
              "color": "#C8D4E3"
             },
             "line": {
              "color": "white"
             }
            },
            "type": "table"
           }
          ]
         },
         "layout": {
          "annotationdefaults": {
           "arrowcolor": "#2a3f5f",
           "arrowhead": 0,
           "arrowwidth": 1
          },
          "autotypenumbers": "strict",
          "coloraxis": {
           "colorbar": {
            "outlinewidth": 0,
            "ticks": ""
           }
          },
          "colorscale": {
           "diverging": [
            [
             0,
             "#8e0152"
            ],
            [
             0.1,
             "#c51b7d"
            ],
            [
             0.2,
             "#de77ae"
            ],
            [
             0.3,
             "#f1b6da"
            ],
            [
             0.4,
             "#fde0ef"
            ],
            [
             0.5,
             "#f7f7f7"
            ],
            [
             0.6,
             "#e6f5d0"
            ],
            [
             0.7,
             "#b8e186"
            ],
            [
             0.8,
             "#7fbc41"
            ],
            [
             0.9,
             "#4d9221"
            ],
            [
             1,
             "#276419"
            ]
           ],
           "sequential": [
            [
             0,
             "#0d0887"
            ],
            [
             0.1111111111111111,
             "#46039f"
            ],
            [
             0.2222222222222222,
             "#7201a8"
            ],
            [
             0.3333333333333333,
             "#9c179e"
            ],
            [
             0.4444444444444444,
             "#bd3786"
            ],
            [
             0.5555555555555556,
             "#d8576b"
            ],
            [
             0.6666666666666666,
             "#ed7953"
            ],
            [
             0.7777777777777778,
             "#fb9f3a"
            ],
            [
             0.8888888888888888,
             "#fdca26"
            ],
            [
             1,
             "#f0f921"
            ]
           ],
           "sequentialminus": [
            [
             0,
             "#0d0887"
            ],
            [
             0.1111111111111111,
             "#46039f"
            ],
            [
             0.2222222222222222,
             "#7201a8"
            ],
            [
             0.3333333333333333,
             "#9c179e"
            ],
            [
             0.4444444444444444,
             "#bd3786"
            ],
            [
             0.5555555555555556,
             "#d8576b"
            ],
            [
             0.6666666666666666,
             "#ed7953"
            ],
            [
             0.7777777777777778,
             "#fb9f3a"
            ],
            [
             0.8888888888888888,
             "#fdca26"
            ],
            [
             1,
             "#f0f921"
            ]
           ]
          },
          "colorway": [
           "#636efa",
           "#EF553B",
           "#00cc96",
           "#ab63fa",
           "#FFA15A",
           "#19d3f3",
           "#FF6692",
           "#B6E880",
           "#FF97FF",
           "#FECB52"
          ],
          "font": {
           "color": "#2a3f5f"
          },
          "geo": {
           "bgcolor": "white",
           "lakecolor": "white",
           "landcolor": "#E5ECF6",
           "showlakes": true,
           "showland": true,
           "subunitcolor": "white"
          },
          "hoverlabel": {
           "align": "left"
          },
          "hovermode": "closest",
          "mapbox": {
           "style": "light"
          },
          "paper_bgcolor": "white",
          "plot_bgcolor": "#E5ECF6",
          "polar": {
           "angularaxis": {
            "gridcolor": "white",
            "linecolor": "white",
            "ticks": ""
           },
           "bgcolor": "#E5ECF6",
           "radialaxis": {
            "gridcolor": "white",
            "linecolor": "white",
            "ticks": ""
           }
          },
          "scene": {
           "xaxis": {
            "backgroundcolor": "#E5ECF6",
            "gridcolor": "white",
            "gridwidth": 2,
            "linecolor": "white",
            "showbackground": true,
            "ticks": "",
            "zerolinecolor": "white"
           },
           "yaxis": {
            "backgroundcolor": "#E5ECF6",
            "gridcolor": "white",
            "gridwidth": 2,
            "linecolor": "white",
            "showbackground": true,
            "ticks": "",
            "zerolinecolor": "white"
           },
           "zaxis": {
            "backgroundcolor": "#E5ECF6",
            "gridcolor": "white",
            "gridwidth": 2,
            "linecolor": "white",
            "showbackground": true,
            "ticks": "",
            "zerolinecolor": "white"
           }
          },
          "shapedefaults": {
           "line": {
            "color": "#2a3f5f"
           }
          },
          "ternary": {
           "aaxis": {
            "gridcolor": "white",
            "linecolor": "white",
            "ticks": ""
           },
           "baxis": {
            "gridcolor": "white",
            "linecolor": "white",
            "ticks": ""
           },
           "bgcolor": "#E5ECF6",
           "caxis": {
            "gridcolor": "white",
            "linecolor": "white",
            "ticks": ""
           }
          },
          "title": {
           "x": 0.05
          },
          "xaxis": {
           "automargin": true,
           "gridcolor": "white",
           "linecolor": "white",
           "ticks": "",
           "title": {
            "standoff": 15
           },
           "zerolinecolor": "white",
           "zerolinewidth": 2
          },
          "yaxis": {
           "automargin": true,
           "gridcolor": "white",
           "linecolor": "white",
           "ticks": "",
           "title": {
            "standoff": 15
           },
           "zerolinecolor": "white",
           "zerolinewidth": 2
          }
         }
        },
        "title": {
         "text": "3D Scatter Plot of Categories"
        },
        "width": 800
       }
      }
     },
     "metadata": {},
     "output_type": "display_data"
    }
   ],
   "source": [
    "# Display the 3D Scatter Plot of Categories\n",
    "fig = go.Figure()\n",
    "\n",
    "for i, cat in enumerate(categories):\n",
    "    sub_matrix = np.array(df[df[\"categorie\"] == cat][\"question_embedding_pca\"].to_list())\n",
    "    x = sub_matrix[:, 0]\n",
    "    y = sub_matrix[:, 1]\n",
    "    z = sub_matrix[:, 2]\n",
    "\n",
    "    # get the question text for hover\n",
    "    hover_text = df[df[\"categorie\"] == cat][\"question\"]\n",
    "\n",
    "    fig.add_trace(\n",
    "        go.Scatter3d(\n",
    "            x=x,\n",
    "            y=y,\n",
    "            z=z,\n",
    "            mode=\"markers\",\n",
    "            marker=dict(size=5, color=i, colorscale=\"Viridis\", opacity=0.8),\n",
    "            name=cat,\n",
    "            hovertext=hover_text,\n",
    "            hoverinfo=\"text\",\n",
    "        )\n",
    "    )\n",
    "\n",
    "fig.update_layout(\n",
    "    autosize=False,\n",
    "    title=\"3D Scatter Plot of Categories\",\n",
    "    width=800,\n",
    "    height=500,\n",
    "    margin=dict(l=50, r=50, b=100, t=100, pad=10),\n",
    "    scene=dict(\n",
    "        xaxis=dict(title=\"x\"),\n",
    "        yaxis=dict(title=\"y\"),\n",
    "        zaxis=dict(title=\"z\"),\n",
    "    ),\n",
    ")\n",
    "\n",
    "fig.show()"
   ]
  },
  {
   "cell_type": "markdown",
   "metadata": {},
   "source": [
    "## 2. Application in python courses"
   ]
  },
  {
   "cell_type": "code",
   "execution_count": 26,
   "metadata": {},
   "outputs": [],
   "source": [
    "# Define chapters file names\n",
    "chapters = [\n",
    "    \"03_affichage.md\",\n",
    "    \"04_listes.md\",\n",
    "    \"09_fonctions.md\",\n",
    "    \"18_jupyter.md\"\n",
    "]\n",
    "\n",
    "# Define path to the chapters\n",
    "path = \"/home/essmay/Bureau/biopyassistant-sandbox/data/markdown_raw/\""
   ]
  },
  {
   "cell_type": "markdown",
   "metadata": {},
   "source": [
    "The problematic is : **Can we correctly separate the chunks of these 4 chapters or are they a bit mixed up?**"
   ]
  },
  {
   "cell_type": "code",
   "execution_count": 29,
   "metadata": {},
   "outputs": [
    {
     "name": "stdout",
     "output_type": "stream",
     "text": [
      "dict_keys(['Affichage', 'Listes', 'Fonctions', 'Jupyter et ses notebooks'])\n"
     ]
    }
   ],
   "source": [
    "# Get the content of the chapters\n",
    "chapter_content = {}\n",
    "\n",
    "for chapter in chapters:\n",
    "    with open(path+chapter, 'r') as file:\n",
    "        lines = file.readlines()\n",
    "        key = lines[0].lstrip('#').strip()\n",
    "        value = ''.join(lines[1:])\n",
    "        chapter_content[key] = value\n",
    "\n",
    "chapter_content.keys()"
   ]
  },
  {
   "cell_type": "code",
   "execution_count": 37,
   "metadata": {},
   "outputs": [],
   "source": [
    "# Split content into chunks\n",
    "def split_text(text: str, chunk_size: int, chunk_overlap: int) -> list[str]:\n",
    "    \"\"\"\"\n",
    "    Split the text into chunks of the specified size and overlap\n",
    "\n",
    "    Parameters\n",
    "    ----------\n",
    "    text : str\n",
    "        The text to split into chunks\n",
    "    chunk_size : int\n",
    "        The size of each chunk\n",
    "    chunk_overlap : int\n",
    "        The overlap between each chunk\n",
    "    \n",
    "    Returns\n",
    "    -------\n",
    "    chunks : list[str]\n",
    "        A list of text chunks\n",
    "\n",
    "    \"\"\"\n",
    "    # Create a character-based text splitter\n",
    "    text_splitter = RecursiveCharacterTextSplitter(\n",
    "        chunk_size=chunk_size,\n",
    "        chunk_overlap=chunk_overlap,\n",
    "        # split on paragraphs, sentences\n",
    "        separators=[\"\\n\\n\", \"\\n\"],\n",
    "    )\n",
    "    # Split the resulting chunks further based on character limits\n",
    "    chunks = text_splitter.split_text(text)\n",
    "\n",
    "    return chunks"
   ]
  },
  {
   "cell_type": "code",
   "execution_count": 41,
   "metadata": {},
   "outputs": [
    {
     "name": "stdout",
     "output_type": "stream",
     "text": [
      "Chapter: Affichage\n",
      "Number of Chunks: 30\n",
      "\n",
      "\n",
      "Chapter: Listes\n",
      "Number of Chunks: 14\n",
      "\n",
      "\n",
      "Chapter: Fonctions\n",
      "Number of Chunks: 33\n",
      "\n",
      "\n",
      "Chapter: Jupyter et ses notebooks\n",
      "Number of Chunks: 14\n",
      "\n",
      "\n"
     ]
    }
   ],
   "source": [
    "# Split the content of the chapters\n",
    "chapter_chunks = {}\n",
    "for chapter, content in chapter_content.items():\n",
    "    chunks = split_text(content, chunk_size=1000, chunk_overlap=200)\n",
    "    chapter_chunks[chapter] = chunks\n",
    "\n",
    "for chapter, chunks in chapter_chunks.items():\n",
    "    print(f\"Chapter: {chapter}\")\n",
    "    print(f\"Number of Chunks: {len(chunks)}\")\n",
    "    print(\"\\n\")"
   ]
  },
  {
   "cell_type": "code",
   "execution_count": 43,
   "metadata": {},
   "outputs": [],
   "source": [
    "# Save the chunks into a CSV file\n",
    "chunks_df = pd.DataFrame(columns=[\"chapter\", \"chunk_content\"])\n",
    "for chapter, chunks in chapter_chunks.items():\n",
    "    for chunk in chunks:\n",
    "        chunks_df = pd.concat([chunks_df, pd.DataFrame({\"chapter\": [chapter], \"chunk_content\": [chunk]})], ignore_index=True)\n",
    "chunks_df.to_csv(\"chapter_chunks.csv\", sep=\";\", index=False)"
   ]
  },
  {
   "cell_type": "code",
   "execution_count": 46,
   "metadata": {},
   "outputs": [
    {
     "data": {
      "text/html": [
       "<div>\n",
       "<style scoped>\n",
       "    .dataframe tbody tr th:only-of-type {\n",
       "        vertical-align: middle;\n",
       "    }\n",
       "\n",
       "    .dataframe tbody tr th {\n",
       "        vertical-align: top;\n",
       "    }\n",
       "\n",
       "    .dataframe thead th {\n",
       "        text-align: right;\n",
       "    }\n",
       "</style>\n",
       "<table border=\"1\" class=\"dataframe\">\n",
       "  <thead>\n",
       "    <tr style=\"text-align: right;\">\n",
       "      <th></th>\n",
       "      <th>chapter</th>\n",
       "      <th>chunk_content</th>\n",
       "    </tr>\n",
       "  </thead>\n",
       "  <tbody>\n",
       "    <tr>\n",
       "      <th>0</th>\n",
       "      <td>Affichage</td>\n",
       "      <td>## La fonction `print()`\\n\\nDans le chapitre 1...</td>\n",
       "    </tr>\n",
       "    <tr>\n",
       "      <th>1</th>\n",
       "      <td>Affichage</td>\n",
       "      <td>Ligne 4. L'effet de l'argument `end=\"\"` est qu...</td>\n",
       "    </tr>\n",
       "    <tr>\n",
       "      <th>2</th>\n",
       "      <td>Affichage</td>\n",
       "      <td>```python\\n&gt;&gt;&gt; x = 32\\n&gt;&gt;&gt; nom = \"John\"\\n&gt;&gt;&gt; p...</td>\n",
       "    </tr>\n",
       "  </tbody>\n",
       "</table>\n",
       "</div>"
      ],
      "text/plain": [
       "     chapter                                      chunk_content\n",
       "0  Affichage  ## La fonction `print()`\\n\\nDans le chapitre 1...\n",
       "1  Affichage  Ligne 4. L'effet de l'argument `end=\"\"` est qu...\n",
       "2  Affichage  ```python\\n>>> x = 32\\n>>> nom = \"John\"\\n>>> p..."
      ]
     },
     "execution_count": 46,
     "metadata": {},
     "output_type": "execute_result"
    }
   ],
   "source": [
    "# Import the data\n",
    "df_chapter = pd.read_csv(\"chapter_chunks.csv\", sep=\";\")\n",
    "df_chapter.head(3)"
   ]
  },
  {
   "cell_type": "code",
   "execution_count": 48,
   "metadata": {},
   "outputs": [
    {
     "data": {
      "text/plain": [
       "['Affichage', 'Fonctions', 'Jupyter et ses notebooks', 'Listes']"
      ]
     },
     "execution_count": 48,
     "metadata": {},
     "output_type": "execute_result"
    }
   ],
   "source": [
    "# Get the list of chapters\n",
    "chapters_list = sorted(df[\"chapter\"].unique())\n",
    "chapters_list"
   ]
  },
  {
   "cell_type": "code",
   "execution_count": 50,
   "metadata": {},
   "outputs": [
    {
     "data": {
      "text/html": [
       "<div>\n",
       "<style scoped>\n",
       "    .dataframe tbody tr th:only-of-type {\n",
       "        vertical-align: middle;\n",
       "    }\n",
       "\n",
       "    .dataframe tbody tr th {\n",
       "        vertical-align: top;\n",
       "    }\n",
       "\n",
       "    .dataframe thead th {\n",
       "        text-align: right;\n",
       "    }\n",
       "</style>\n",
       "<table border=\"1\" class=\"dataframe\">\n",
       "  <thead>\n",
       "    <tr style=\"text-align: right;\">\n",
       "      <th></th>\n",
       "      <th>chapter</th>\n",
       "      <th>chunk_content</th>\n",
       "      <th>chunk_content_embedding</th>\n",
       "      <th>embedding_dim</th>\n",
       "      <th>embedding_norm</th>\n",
       "    </tr>\n",
       "  </thead>\n",
       "  <tbody>\n",
       "    <tr>\n",
       "      <th>0</th>\n",
       "      <td>Affichage</td>\n",
       "      <td>## La fonction `print()`\\n\\nDans le chapitre 1...</td>\n",
       "      <td>[0.023877380415797234, -0.0020614098757505417,...</td>\n",
       "      <td>3072</td>\n",
       "      <td>1.0</td>\n",
       "    </tr>\n",
       "    <tr>\n",
       "      <th>1</th>\n",
       "      <td>Affichage</td>\n",
       "      <td>Ligne 4. L'effet de l'argument `end=\"\"` est qu...</td>\n",
       "      <td>[0.019939212128520012, -0.0021906106267124414,...</td>\n",
       "      <td>3072</td>\n",
       "      <td>1.0</td>\n",
       "    </tr>\n",
       "    <tr>\n",
       "      <th>2</th>\n",
       "      <td>Affichage</td>\n",
       "      <td>```python\\n&gt;&gt;&gt; x = 32\\n&gt;&gt;&gt; nom = \"John\"\\n&gt;&gt;&gt; p...</td>\n",
       "      <td>[0.04038412123918533, -0.0034625374246388674, ...</td>\n",
       "      <td>3072</td>\n",
       "      <td>1.0</td>\n",
       "    </tr>\n",
       "  </tbody>\n",
       "</table>\n",
       "</div>"
      ],
      "text/plain": [
       "     chapter                                      chunk_content  \\\n",
       "0  Affichage  ## La fonction `print()`\\n\\nDans le chapitre 1...   \n",
       "1  Affichage  Ligne 4. L'effet de l'argument `end=\"\"` est qu...   \n",
       "2  Affichage  ```python\\n>>> x = 32\\n>>> nom = \"John\"\\n>>> p...   \n",
       "\n",
       "                             chunk_content_embedding  embedding_dim  \\\n",
       "0  [0.023877380415797234, -0.0020614098757505417,...           3072   \n",
       "1  [0.019939212128520012, -0.0021906106267124414,...           3072   \n",
       "2  [0.04038412123918533, -0.0034625374246388674, ...           3072   \n",
       "\n",
       "   embedding_norm  \n",
       "0             1.0  \n",
       "1             1.0  \n",
       "2             1.0  "
      ]
     },
     "execution_count": 50,
     "metadata": {},
     "output_type": "execute_result"
    }
   ],
   "source": [
    "# Save embeddings for chunk content\n",
    "chunk_embeddings = []\n",
    "for content in df_chapter[\"chunk_content\"]:\n",
    "    # Get the embeddings\n",
    "    embedding = get_embeddings(content, model=EMBEDDING_MODEL)\n",
    "    chunk_embeddings.append(embedding)\n",
    "    \"\"\"\n",
    "    print(question)\n",
    "    print(embedding)\n",
    "    print(\"\\n\")\n",
    "    \"\"\"\n",
    "df_chapter[\"chunk_content_embedding\"] = chunk_embeddings\n",
    "\n",
    "# Get the dimension of the embeddings\n",
    "df_chapter[\"embedding_dim\"] = df_chapter[\"chunk_content_embedding\"].apply(lambda x: len(x))\n",
    "\n",
    "# Get the norm of the embeddings\n",
    "df_chapter[\"embedding_norm\"] = df_chapter[\"chunk_content_embedding\"].apply(lambda x: np.linalg.norm(x))\n",
    "df_chapter.head(3)"
   ]
  },
  {
   "cell_type": "code",
   "execution_count": 59,
   "metadata": {},
   "outputs": [
    {
     "data": {
      "text/html": [
       "<div>\n",
       "<style scoped>\n",
       "    .dataframe tbody tr th:only-of-type {\n",
       "        vertical-align: middle;\n",
       "    }\n",
       "\n",
       "    .dataframe tbody tr th {\n",
       "        vertical-align: top;\n",
       "    }\n",
       "\n",
       "    .dataframe thead th {\n",
       "        text-align: right;\n",
       "    }\n",
       "</style>\n",
       "<table border=\"1\" class=\"dataframe\">\n",
       "  <thead>\n",
       "    <tr style=\"text-align: right;\">\n",
       "      <th></th>\n",
       "      <th>chapter</th>\n",
       "      <th>chunk_content</th>\n",
       "      <th>chunk_content_embedding</th>\n",
       "      <th>embedding_dim</th>\n",
       "      <th>embedding_norm</th>\n",
       "      <th>chunk_embedding_pca</th>\n",
       "      <th>chunk_embedding_dim_pca</th>\n",
       "      <th>chunk_embedding_norm_pca</th>\n",
       "    </tr>\n",
       "  </thead>\n",
       "  <tbody>\n",
       "    <tr>\n",
       "      <th>0</th>\n",
       "      <td>Affichage</td>\n",
       "      <td>## La fonction `print()`\\n\\nDans le chapitre 1...</td>\n",
       "      <td>[0.023877380415797234, -0.0020614098757505417,...</td>\n",
       "      <td>3072</td>\n",
       "      <td>1.0</td>\n",
       "      <td>[0.0166542860942982, -0.06729988751933282, -0....</td>\n",
       "      <td>3</td>\n",
       "      <td>0.107215</td>\n",
       "    </tr>\n",
       "    <tr>\n",
       "      <th>1</th>\n",
       "      <td>Affichage</td>\n",
       "      <td>Ligne 4. L'effet de l'argument `end=\"\"` est qu...</td>\n",
       "      <td>[0.019939212128520012, -0.0021906106267124414,...</td>\n",
       "      <td>3072</td>\n",
       "      <td>1.0</td>\n",
       "      <td>[0.1378687842688102, -0.05699169145237563, 0.0...</td>\n",
       "      <td>3</td>\n",
       "      <td>0.153124</td>\n",
       "    </tr>\n",
       "    <tr>\n",
       "      <th>2</th>\n",
       "      <td>Affichage</td>\n",
       "      <td>```python\\n&gt;&gt;&gt; x = 32\\n&gt;&gt;&gt; nom = \"John\"\\n&gt;&gt;&gt; p...</td>\n",
       "      <td>[0.04038412123918533, -0.0034625374246388674, ...</td>\n",
       "      <td>3072</td>\n",
       "      <td>1.0</td>\n",
       "      <td>[0.17483873023064483, -0.0488247584629804, 0.0...</td>\n",
       "      <td>3</td>\n",
       "      <td>0.189659</td>\n",
       "    </tr>\n",
       "  </tbody>\n",
       "</table>\n",
       "</div>"
      ],
      "text/plain": [
       "     chapter                                      chunk_content  \\\n",
       "0  Affichage  ## La fonction `print()`\\n\\nDans le chapitre 1...   \n",
       "1  Affichage  Ligne 4. L'effet de l'argument `end=\"\"` est qu...   \n",
       "2  Affichage  ```python\\n>>> x = 32\\n>>> nom = \"John\"\\n>>> p...   \n",
       "\n",
       "                             chunk_content_embedding  embedding_dim  \\\n",
       "0  [0.023877380415797234, -0.0020614098757505417,...           3072   \n",
       "1  [0.019939212128520012, -0.0021906106267124414,...           3072   \n",
       "2  [0.04038412123918533, -0.0034625374246388674, ...           3072   \n",
       "\n",
       "   embedding_norm                                chunk_embedding_pca  \\\n",
       "0             1.0  [0.0166542860942982, -0.06729988751933282, -0....   \n",
       "1             1.0  [0.1378687842688102, -0.05699169145237563, 0.0...   \n",
       "2             1.0  [0.17483873023064483, -0.0488247584629804, 0.0...   \n",
       "\n",
       "   chunk_embedding_dim_pca  chunk_embedding_norm_pca  \n",
       "0                        3                  0.107215  \n",
       "1                        3                  0.153124  \n",
       "2                        3                  0.189659  "
      ]
     },
     "execution_count": 59,
     "metadata": {},
     "output_type": "execute_result"
    }
   ],
   "source": [
    "# Reduce the dimension of the embeddings with PCA\n",
    "pca_chapter_embeddings = PCA(n_components=3).fit_transform(chunk_embeddings)\n",
    "df_chapter[\"chunk_embedding_pca\"] = list(pca_chapter_embeddings)\n",
    "\n",
    "# Get the dimension of the embeddings\n",
    "df_chapter[\"chunk_embedding_dim_pca\"] = df_chapter[\"chunk_embedding_pca\"].apply(lambda x: len(x))\n",
    "\n",
    "# Get the norm of the embeddings\n",
    "df_chapter[\"chunk_embedding_norm_pca\"] = df_chapter[\"chunk_embedding_pca\"].apply(lambda x: np.linalg.norm(x))\n",
    "df_chapter.head(3)"
   ]
  },
  {
   "cell_type": "markdown",
   "metadata": {},
   "source": [
    "### Embedding Projection Before Dimensionality Reduction"
   ]
  },
  {
   "cell_type": "code",
   "execution_count": 54,
   "metadata": {},
   "outputs": [
    {
     "data": {
      "image/png": "[encoded data removed]",
      "text/plain": [
       "<Figure size 1000x1000 with 1 Axes>"
      ]
     },
     "metadata": {},
     "output_type": "display_data"
    }
   ],
   "source": [
    "# Display the 2D scatter plot of Categories using Matplotlib\n",
    "fig = plt.figure(figsize=(10, 10))\n",
    "\n",
    "for chapter in chapters_list:\n",
    "    plt.scatter(df_chapter[df_chapter[\"chapter\"] == chapter][\"chunk_content_embedding\"].apply(lambda x: x[0]), \n",
    "                df_chapter[df_chapter[\"chapter\"] == chapter][\"chunk_content_embedding\"].apply(lambda x: x[1]), \n",
    "                label=chapter)\n",
    "    \n",
    "plt.xlabel(\"x\")\n",
    "plt.ylabel(\"y\")\n",
    "plt.title(\"2D Scatter Plot of Chapters\")\n",
    "plt.legend()\n",
    "plt.show()"
   ]
  },
  {
   "cell_type": "code",
   "execution_count": 57,
   "metadata": {},
   "outputs": [
    {
     "data": {
      "application/vnd.plotly.v1+json": {
       "config": {
        "plotlyServerURL": "https://plot.ly"
       },
       "data": [
        {
         "hoverinfo": "text",
         "hovertext": [
          "## La fonction `print()`\n\nDans le chapitre 1, nous avons rencontré la fonction `print()` qui affiche une chaîne de caractères (le fameux `\"Hello world!\"`). En fait, la fonction `print()` affiche l'argument qu'on lui passe entre parenthèses **et** un retour à ligne. Ce retour à ligne supplémentaire est ajouté par défaut. Si toutefois, on ne veut pas afficher ce retour à la ligne, on peut utiliser l'argument par « mot-clé » `end` :\n\n```python\n>>> print(\"Hello world!\")\nHello world!\n>>> print(\"Hello world!\", end=\"\")\nHello world!>>>\n```\n\nLigne 1. On a utilisé l'instruction `print()` classiquement en passant la chaîne de caractères `\"Hello world!\"` en argument.\n\nLigne 3. On a ajouté un second argument `end=\"\"`, en précisant le mot-clé `end`. Nous aborderons les arguments par mot-clé dans le chapitre 9 *Fonctions*. Pour l'instant, dites-vous que cela modifie le comportement par défaut des fonctions.",
          "Ligne 4. L'effet de l'argument `end=\"\"` est que les trois chevrons `>>>` se retrouvent collés après la chaîne de caractères `\"Hello world!\"`.\n\nUne autre manière de s'en rendre compte est d'utiliser deux fonctions `print()` à la suite. Dans la portion de code suivante, le caractère « `;` » sert à séparer plusieurs instructions Python sur une même ligne :\n\n```python\n>>> print(\"Hello\") ; print(\"Joe\")\nHello\nJoe\n>>> print(\"Hello\", end=\"\") ; print(\"Joe\")\nHelloJoe\n>>> print(\"Hello\", end=\" \") ; print(\"Joe\")\nHello Joe\n```\n\nLa fonction `print()` peut également afficher le contenu d'une variable quel que soit son type. Par exemple, pour un entier :\n\n```python\n>>> var = 3\n>>> print(var)\n3\n```\n\nIl est également possible d'afficher le contenu de plusieurs variables (quel que soit leur type) en les séparant par des virgules :\n\n```python\n>>> x = 32\n>>> nom = \"John\"\n>>> print(nom, \"a\", x, \"ans\")\nJohn a 32 ans\n```",
          "```python\n>>> x = 32\n>>> nom = \"John\"\n>>> print(nom, \"a\", x, \"ans\")\nJohn a 32 ans\n```\n\nPython a écrit une phrase complète en remplaçant les variables `x` et `nom` par leur contenu. Vous remarquerez que pour afficher plusieurs éléments de texte sur une seule ligne, nous avons utilisé le séparateur « `,` » entre les différents éléments. Python a également ajouté un espace à chaque fois que l'on utilisait le séparateur « `,` ». On peut modifier ce comportement en passant à la fonction `print()` l'argument par mot-clé `sep` :\n\n```python\n>>> x = 32\n>>> nom = \"John\"\n>>> print(nom, \"a\", x, \"ans\", sep=\"\")\nJohna32ans\n>>> print(nom, \"a\", x, \"ans\", sep=\"-\")\nJohn-a-32-ans\n```\n\nPour afficher deux chaînes de caractères l'une à côté de l'autre, sans espace, on peut soit les concaténer, soit utiliser l'argument par mot-clé `sep` avec une chaîne de caractères vide :",
          "Pour afficher deux chaînes de caractères l'une à côté de l'autre, sans espace, on peut soit les concaténer, soit utiliser l'argument par mot-clé `sep` avec une chaîne de caractères vide :\n\n```python\n>>> ani1 = \"chat\"\n>>> ani2 = \"souris\"\n>>> print(ani1, ani2)\nchat souris\n>>> print(ani1 + ani2)\nchatsouris\n>>> print(ani1, ani2, sep=\"\")\nchatsouris\n```\n\n## Écriture formatée\n\n### Définitions\n\nQue signifie « écriture formatée » ?\n\nopen-box-def\n\nL'écriture formatée est un mécanisme permettant d'afficher des variables avec un certain format, par exemple justifiées à gauche ou à droite, ou encore avec un certain nombre de décimales pour les *floats*. L'écriture formatée est incontournable lorsqu'on veut créer des fichiers organisés en « belles colonnes » comme par exemple les fichiers PDB (pour en savoir plus sur ce format, reportez-vous à l'annexe A *Quelques formats de données rencontrés en biologie*).\n\nclose-box-def",
          "close-box-def\n\nDepuis la version 3.6, Python a introduit les *f-strings* pour mettre en place l'écriture formatée que nous allons décrire en détail dans cette rubrique. Il existe d'autres  manières pour formatter des chaînes de caractères qui étaient utilisées avant la version 3.6, nous en avons mis un rappel bref dans la rubrique suivante. Toutefois, nous conseillons vivement l'utilisation des *f-strings* si vous débutez l'apprentissage de Python.\n\nQue signifie *f-string* ?\n\nopen-box-def\n\n*f-string* est le diminutif de *formatted string literals*. Mais encore ? Dans le chapitre précédent, nous avons vu les chaînes de caractères ou encore *strings* qui étaient représentées par un texte entouré de guillemets simples ou doubles. Par exemple :\n\n```python\n\"Ceci est une chaîne de caractères\"\n```\n\nL'équivalent en *f-string* est tout simplement la même chaîne de caractères précédée du caractère `f` **sans espace** entre les deux :\n\n```python\nf\"Ceci est une chaîne de caractères\"\n```",
          "L'équivalent en *f-string* est tout simplement la même chaîne de caractères précédée du caractère `f` **sans espace** entre les deux :\n\n```python\nf\"Ceci est une chaîne de caractères\"\n```\n\nCe caractère `f` avant les guillemets va indiquer à Python qu'il s'agit d'une *f-string* permettant de mettre en place le mécanisme de l'écriture formatée, contrairement à une *string* normale.\n\nclose-box-def\n\nNous expliquons plus en détail dans le chapitre 10 *Plus sur les chaînes de caractères* pourquoi on doit mettre ce `f` et le mécanisme sous-jacent.\n\n\n### Prise en main des *f-strings*\n\nLes *f-strings* permettent une meilleure organisation de l'affichage des variables. Reprenons l'exemple ci-dessus à propos de notre ami John :\n\n```python\n>>> x = 32\n>>> nom = \"John\"\n>>> print(f\"{nom} a {x} ans\")\nJohn a 32 ans\n```",
          "```python\n>>> x = 32\n>>> nom = \"John\"\n>>> print(f\"{nom} a {x} ans\")\nJohn a 32 ans\n```\n\nIl suffit de passer un nom de variable au sein de chaque couple d'accolades et Python les remplace par leur contenu ! Première remarque, la syntaxe apparait plus lisible que l'équivalent vu ci-avant `print(nom, \"a\", x, \"ans\")`. Bien sûr, il ne faut pas omettre le `f` avant le premier guillemet, sinon Python prendra cela pour une chaîne de caractères normale et ne mettra pas en place ce mécanisme de remplacement :\n\n```python\n>>> print(\"{nom} a {x} ans\")\n{nom} a {x} ans\n```\n\nopen-box-rem\n\nUne variable est utilisable plus d'une fois pour une *f-string* donnée :\n\n```python\n>>> var = \"to\"\n>>> print(f\"{var} et {var} font {var}{var}\")\nto et to font toto\n>>>\n```\n\nclose-box-rem\n\nEnfin, il est possible de mettre entre les accolades des valeurs numériques ou des chaînes de caractères :",
          "close-box-rem\n\nEnfin, il est possible de mettre entre les accolades des valeurs numériques ou des chaînes de caractères :\n\n```python\n>>> print(f\"J'affiche l'entier {10} et le float {3.14}\")\nJ'affiche l'entier 10 et le float 3.14\n>>> print(f\"J'affiche la chaine {'Python'}\")\nJ'affiche la chaine Python\n```\n\nMême si cela ne présente que peu d'intérêt pour l'instant, il s'agit d'une commande Python parfaitement valide. Nous verrons des exemples plus pertinents par la suite. Cela fonctionne avec n'importe quel type de variable (entiers, chaînes de caractères, *floats*, etc.). Attention toutefois pour les chaînes de caractères, utilisez des guillemets simples au sein des accolades si vous définissez votre *f-string* avec des guillemets doubles.\n\n### Spécification de format\n\nLes *f-strings* permettent de remplacer des variables au sein d'une chaîne de caractères. On peut également spécifier le format de leur affichage.",
          "### Spécification de format\n\nLes *f-strings* permettent de remplacer des variables au sein d'une chaîne de caractères. On peut également spécifier le format de leur affichage.\n\nPrenons un exemple. Imaginez maintenant que vous vouliez calculer, puis afficher, la proportion de GC d'un génome. La proportion de GC s'obtient comme la somme des bases Guanine (G) et Cytosine (C) divisée par le nombre total de bases (A, T, C, G) du génome considéré. Si on a, par exemple, 4500 bases G et 2575 bases C, pour un total de 14800 bases, vous pourriez procéder comme suit (notez bien l'utilisation des parenthèses pour gérer les priorités des opérateurs) :\n\n```python\n>>> prop_GC = (4500 + 2575) / 14800\n>>> print(\"La proportion de GC est\", prop_GC)\nLa proportion de GC est 0.4780405405405405\n```",
          "```python\n>>> prop_GC = (4500 + 2575) / 14800\n>>> print(\"La proportion de GC est\", prop_GC)\nLa proportion de GC est 0.4780405405405405\n```\n\nLe résultat obtenu présente trop de décimales (seize dans le cas présent). Pour écrire le résultat plus lisiblement, vous pouvez spécifier dans les accolades `{}` le format qui vous intéresse. Dans le cas présent, vous voulez formater un *float* pour l'afficher avec deux puis trois décimales :\n\n```python\n>>> print(f\"La proportion de GC est {prop_GC:.2f}\")\nLa proportion de GC est 0.48\n>>> print(f\"La proportion de GC est {prop_GC:.3f}\")\nLa proportion de GC est 0.478\n```\n\nDétaillons le contenu des accolades de la première ligne (`{prop_GC:.2f}`) :\n\n- D'abord on a le nom de la variable à formatter, `prop_GC`, c'est indispensable avec les *f-strings*.\n\n- Ensuite on rencontre les deux-points `:`, ceux-ci indiquent que ce qui suit va spécifier le format dans lequel on veut afficher la variable `prop_GC`.",
          "- Ensuite on rencontre les deux-points `:`, ceux-ci indiquent que ce qui suit va spécifier le format dans lequel on veut afficher la variable `prop_GC`.\n\n- À droite des deux-points on trouve `.2f` qui indique ce format : la lettre `f` indique qu'on souhaite afficher la variable sous forme d'un *float*, les caractères `.2` indiquent la précision voulue, soit ici deux chiffres après la virgule. \n\nNotez enfin que le formatage avec `.xf` (`x` étant un entier positif) renvoie un résultat arrondi.\n\nVous pouvez aussi formater des entiers avec la lettre `d` (ici `d` veut dire *decimal integer*) :\n\n```python\n>>> nb_G = 4500\n>>> print(f\"Ce génome contient {nb_G:d} guanines\")\nCe génome contient 4500 guanines\n```\n\nou mettre plusieurs nombres dans une même chaîne de caractères.",
          "```python\n>>> nb_G = 4500\n>>> print(f\"Ce génome contient {nb_G:d} guanines\")\nCe génome contient 4500 guanines\n```\n\nou mettre plusieurs nombres dans une même chaîne de caractères.\n\n```python\n>>> nb_G = 4500\n>>> nb_C = 2575\n>>> print(f\"Ce génome contient {nb_G:d} G et {nb_C:d} C, soit une prop de GC de {prop_GC:.2f}\")\nCe génome contient 4500 G et 2575 C, soit une prop de GC de 0.48\n>>> perc_GC = prop_GC * 100\n>>> print(f\"Ce génome contient {nb_G:d} G et {nb_C:d} C, soit un %GC de {perc_GC:.2f} %\")\nCe génome contient 4500 G et 2575 C, soit un %GC de 47.80 %\n```\n\nEnfin, il est possible de préciser sur combien de caractères vous voulez qu'un résultat soit écrit et comment se fait l'alignement (à gauche, à droite ou centré). Dans la portion de code suivante, le caractère `;` sert de séparateur entre les instructions sur une même ligne :",
          "```python\n>>> print(10) ; print(1000)\n10\n1000\n>>> print(f\"{10:>6d}\") ; print(f\"{1000:>6d}\")\n    10\n  1000\n>>> print(f\"{10:<6d}\") ; print(f\"{1000:<6d}\")\n10    \n1000  \n>>> print(f\"{10:^6d}\") ; print(f\"{1000:^6d}\")\n  10  \n 1000 \n>>> print(f\"{10:*^6d}\") ; print(f\"{1000:*^6d}\")\n**10**\n*1000*\n>>> print(f\"{10:0>6d}\") ; print(f\"{1000:0>6d}\")\n000010\n001000\n```\n\nNotez que `>` spécifie un alignement à droite, `<` spécifie un alignement à gauche et `^` spécifie un alignement centré. Il est également possible d'indiquer le caractère qui servira de remplissage lors des alignements (l'espace est le caractère par défaut).\n\nCe formatage est également possible sur des chaînes de caractères avec la lettre `s` (comme *string*) :\n\n```python\n>>> print(\"atom HN\") ; print(\"atom HDE1\")\natom HN\natom HDE1\n>>> print(f\"atom {'HN':>4s}\") ; print(f\"atom {'HDE1':>4s}\")\natom   HN\natom HDE1\n```",
          "```python\n>>> print(\"atom HN\") ; print(\"atom HDE1\")\natom HN\natom HDE1\n>>> print(f\"atom {'HN':>4s}\") ; print(f\"atom {'HDE1':>4s}\")\natom   HN\natom HDE1\n```\n\nVous voyez tout de suite l'énorme avantage de l'écriture formatée. Elle vous permet d'écrire en colonnes parfaitement alignées. Nous verrons que ceci est très pratique si l'on veut écrire les coordonnées des atomes d'une molécule au format PDB (pour en savoir plus sur ce format, reportez-vous à l'annexe A *Quelques formats de données rencontrés en biologie*).\n\nPour les *floats*, il est possible de combiner le nombre de caractères à afficher avec le nombre de décimales :\n\n```python\n>>> print(f\"{perc_GC:7.3f}\")\n 47.804\n>>> print(f\"{perc_GC:10.3f}\")\n    47.804\n```",
          "```python\n>>> print(f\"{perc_GC:7.3f}\")\n 47.804\n>>> print(f\"{perc_GC:10.3f}\")\n    47.804\n```\n\nL'instruction `7.3f` signifie que l'on souhaite écrire un *float* avec 3 décimales et formaté sur 7 caractères (par défaut justifiés à droite). L'instruction `10.3f` fait la même chose sur 10 caractères. Remarquez que le séparateur décimal `.` compte pour un caractère. De même, si on avait un nombre négatif, le signe `-` compterait aussi pour un caractère.\n\n### Autres détails sur les *f-strings*\n\nSi on veut afficher des accolades littérales avec les *f-strings*, il faut les doubler pour échapper au formatage :\n\n```python\n>>> print(f\"Accolades littérales {{}} ou {{ ou }} et pour le formatage {10}\")\nAccolades littérales {} ou { ou } et pour le formatage 10\n```\n\nUne remarque importante, si on ne met pas de variable à formater entre les accolades dans une *f-string*, cela conduit à une erreur :",
          "Une remarque importante, si on ne met pas de variable à formater entre les accolades dans une *f-string*, cela conduit à une erreur :\n\n```python\n>>> print(f\"accolades sans variable {}\")\n  File \"<stdin>\", line 1\nSyntaxError: f-string: empty expression not allowed\n```\n\nEnfin, il est important de bien comprendre qu'une *f-string* est indépendante de la fonction `print()`. Si on donne une *f-string* à la fonction `print()`, Python évalue d'abord la *f-string* et c'est la chaîne de caractères qui en résulte qui est affichée à l'écran. Tout comme dans l'instruction `print(5*5)`, c'est d'abord la multiplication (`5*5`) qui est évaluée, puis son résultat qui est affiché à l'écran. On peut s'en rendre compte de la manière suivante dans l'interpréteur :\n\n```python\n>>> f\"{perc_GC:10.3f}\"\n'    47.804'\n>>> type(f\"{perc_GC:10.3f}\")\n<class 'str'>\n```\n\nPython considère le résultat de l'instruction `f\"{perc_GC:10.3f}\"` comme une chaîne de caractères et la fonction `type()` nous le confirme.",
          "Python considère le résultat de l'instruction `f\"{perc_GC:10.3f}\"` comme une chaîne de caractères et la fonction `type()` nous le confirme.\n\n### Expressions dans les *f-strings*\n\nUne fonctionnalité extrêmement puissante des *f-strings* est de supporter des expressions Python au sein des accolades. Ainsi, il est possible d'y mettre directement une opération ou encore un appel à une fonction :\n\n```python\n>>> print(f\"Le résultat de 5 * 5 vaut {5 * 5}\")\nLe résultat de 5 * 5 vaut 25\n>>> print(f\"Résultat d'une opération avec des floats : {(4.1 * 6.7)}\")\nRésultat d'une opération avec des floats : 27.47\n>>> print(f\"Le minimum est {min(1, -2, 4)}\")\nLe minimum est -2\n>>> entier = 2\n>>> print(f\"Le type de {entier} est {type(entier)}\")\nLe type de 2 est <class 'int'>\n```\n\nNous aurons l'occasion de revenir sur cette fonctionnalité au fur et à mesure de ce cours.",
          "Nous aurons l'occasion de revenir sur cette fonctionnalité au fur et à mesure de ce cours.\n\nLes possibilités offertes par les *f-strings* sont nombreuses. Pour vous y retrouver dans les différentes options de formatage, nous vous conseillons de consulter ce [mémo](https://fstring.help/cheat/) (en anglais).\n\n\n## Écriture scientifique\n\nPour les nombres très grands ou très petits, l'écriture formatée permet d'afficher un nombre en notation scientifique (sous forme de puissance de 10) avec la lettre `e` :\n\n```python\n>>> print(f\"{1_000_000_000:e}\")\n1.000000e+09\n>>> print(f\"{0.000_000_001:e}\")\n1.000000e-09\n```\n\nIl est également possible de définir le nombre de chiffres après la virgule. Dans l'exemple ci-dessous, on affiche un nombre avec aucun, 3 et 6 chiffres après la virgule :\n\n```python\n>>> avogadro_number = 6.022_140_76e23\n>>> print(f\"{avogadro_number:.0e}\")\n6e+23\n>>> print(f\"{avogadro_number:.3e}\")\n6.022e+23\n>>> print(f\"{avogadro_number:.6e}\")\n6.022141e+23\n```",
          "```python\n>>> avogadro_number = 6.022_140_76e23\n>>> print(f\"{avogadro_number:.0e}\")\n6e+23\n>>> print(f\"{avogadro_number:.3e}\")\n6.022e+23\n>>> print(f\"{avogadro_number:.6e}\")\n6.022141e+23\n```\n\n\n## Ancienne méthode de formatage des chaînes de caractères\n\n*Conseil* : Pour les débutants, tout ce qui est écrit dans cette rubrique n'est pas à retenir.\n\nDans les premières versions de Python jusqu'à la 2.6, il fallait utiliser l'opérateur `%`, puis de la version 2.7 jusqu'à la 3.5 il était plutôt conseillé d'utiliser la méthode `.format()` (voir la rubrique suivante pour la définition du mot « méthode »). Même si les *f-strings* sont devenues la manière conseillée pour mettre en place l'écriture formatée, ces deux anciennes manières, sont encore pleinement compatibles avec les versions modernes de Python.",
          "Même si elle fonctionne encore, la première manière avec l'opérateur `%` est maintenant clairement déconseillée pour un certain nombre de [raisons](https://docs.python.org/fr/3/library/stdtypes.html?highlight=sprintf#printf-style-string-formatting). Néanmoins, nous rappelons ci-dessous son fonctionnement, car il se peut que vous tombiez dessus dans d'anciens livres ou si vous lisez de vieux programmes Python.\n\nLa deuxième manière avec la méthode `.format()` est encore largement utilisée et reste tout à fait valide. Elle est clairement plus puissante et évite un certain nombre de désagréments par rapport à l'opérateur `%`. Vous la croiserez sans doute très fréquemment dans des programmes et ouvrages récents. Heureusement elle a un fonctionnement relativement proche des *f-strings*, donc vous ne serez pas totalement perdus !\n\nEnfin, nous indiquons à la fin de cette rubrique nos conseils sur quelle méthode utiliser.\n\n### L'opérateur `%`",
          "Enfin, nous indiquons à la fin de cette rubrique nos conseils sur quelle méthode utiliser.\n\n### L'opérateur `%`\n\nOn a vu avec les entiers que l'opérateur `%` ou *modulo* renvoyait le reste d'une division entière. Cet opérateur existe aussi pour les chaînes de caractères mais il met en place l'écriture formatée. En voici un exemple :\n\n```python\n>>> x = 32\n>>> nom = \"John\"\n>>> print(\"%s a %d ans\" % (nom, x))\nJohn a 32 ans\n>>> nb_G = 4500\n>>> nb_C = 2575\n>>> prop_GC = (nb_G + nb_C)/14800\n>>> print(\"On a %d G et %d C -> prop GC = %.2f\" % (nb_G, nb_C, prop_GC))\nOn a 4500 G et 2575 C -> prop GC = 0.48\n```\n\nLa syntaxe est légèrement différente. Le symbole `%` est d'abord appelé dans la chaîne de caractères (dans l'exemple ci-dessus `%d`, `%d` et `%.2f`) pour :",
          "La syntaxe est légèrement différente. Le symbole `%` est d'abord appelé dans la chaîne de caractères (dans l'exemple ci-dessus `%d`, `%d` et `%.2f`) pour :\n\n- Désigner l'endroit où sera placée la variable dans la chaîne de caractères.\n- Préciser le type de variable à formater, `d` pour un entier (`i` fonctionne également) ou `f` pour un *float*.\n- Éventuellement pour indiquer le format voulu. Ici `.2` signifie une précision de deux décimales.\n\nLe signe `%` est rappelé une seconde fois (`% (nb_G, nb_C, prop_GC)`) pour indiquer les variables à formater.\n\n### La méthode `.format()`\n\nDepuis la version 2.7 de Python, la méthode `.format()` (voir la rubrique suivante pour la définition d'une méthode) a apporté une nette amélioration pour mettre en place l'écriture formatée. Celle-ci fonctionne de la manière suivante :",
          "```python\n>>> x = 32\n>>> nom = \"John\"\n>>> print(\"{} a {} ans\".format(nom, x))\nJohn a 32 ans\n>>> nb_G = 4500\n>>> nb_C = 2575\n>>> prop_GC = (nb_G + nb_C)/14800\n>>> print(\"On a {} G et {} C -> prop GC = {:.2f}\".format(nb_G, nb_C, prop_GC))\nOn a 4500 G et 2575 C -> prop GC = 0.48\n```\n\n- Dans la chaîne de caractères, les accolades vides `{}` précisent l'endroit où le contenu de la variable doit être inséré.\n- Juste après la chaîne de caractères, l'instruction `.format(nom, x)` fournit la liste des variables à insérer, d'abord la variable `nom` puis la variable `x`. \n- On peut éventuellement préciser le formatage en mettant un caractère deux-points `:` puis par exemple ici `.2f` qui signifie 2 chiffres après la virgule.\n- La méthode `.format()` agit sur la chaîne de caractères à laquelle elle est attachée par le point.",
          "Tout ce que nous avons vu avec les *f-strings* sur la manière de formatter l'affichage d'une variable (après les `:` au sein des accolades) est identique avec la méthode `.format()`. Par exemple `{:.2f}`, `{:0>6d}`, `{:.6e}`, etc., fonctionneront de la même manière. La différence notable est qu'on ne met pas directement le nom de la variable au sein des accolades. Comme pour l'opérateur `%`, c'est l'emplacement dans les arguments passés à la méthode `.format()` qui dicte quelle variable doit être remplacée. Par exemple, dans `\"{} {} {}\".format(bidule, machin, truc)`, les premières accolades remplaceront la variable `bidule`, les deuxièmes la variable `machin`, les troisièmes la variable `truc`.",
          "Le formattage avec la méthode `.format()` se rapproche de la syntaxe des *f-strings* (accolades, deux-points), mais présente l'inconvénient -- comme avec l'opérateur `%` -- de devoir mettre la liste des variables tout à la fin, alourdissant ainsi la syntaxe. En effet, dans l'exemple avec la proportion de GC, la ligne équivalente avec une *f-string* apparait tout de même plus simple à lire :\n\n```python\n>>> print(f\"On a {nb_G} G et {nb_C} C -> prop GC = {prop_GC:.2f}\")\nOn a 4500 G et 2575 C -> prop GC = 0.48\n```\n\nopen-box-adv",
          "```python\n>>> print(f\"On a {nb_G} G et {nb_C} C -> prop GC = {prop_GC:.2f}\")\nOn a 4500 G et 2575 C -> prop GC = 0.48\n```\n\nopen-box-adv\n\nPour conclure, ces deux anciennes façons de formater une chaîne de caractères avec l'opérateur `%` ou la méthode `.format()` vous sont présentées à titre d'information. La première avec l'opérateur `%` est clairement déconseillée. La deuxième avec la méthode `.format()` est encore tout à fait valable. Si vous débutez Python, nous vous conseillons fortement d'apprendre et d'utiliser les *f-strings*. C'est ce que vous rencontrerez dans la suite de ce cours. Si vous connaissez déjà Python et que vous utilisez la méthode `.format()`, nous vous conseillons de passer aux *f-strings*. Depuis que nous les avons découvertes, aucun retour n'est envisageable pour nous tant elles sont puissantes et plus claires à utiliser !",
          "Enfin, si vous souhaitez aller plus loin, voici deux articles (en anglais) très bien faits sur le site *RealPython*: sur l'[écriture formatée](https://realpython.com/python-string-formatting) et sur les [*f-strings*](https://realpython.com/python-f-strings/)\n\nclose-box-adv\n\n## Note sur le vocabulaire et la syntaxe\n\nRevenons quelques instants sur la notion de **méthode** abordée dans ce chapitre avec `.format()`. En Python, on peut considérer chaque variable comme un objet sur lequel on peut appliquer des méthodes. Une méthode est simplement une fonction qui utilise et/ou agit sur l'objet lui-même, les deux étant connectés par un point. La syntaxe générale est de la forme `objet.méthode()`.\n\nDans l'exemple suivant :\n\n```python\n>>> \"Joe a {} ans\".format(20)\n'Joe a 20 ans'\n```\n\nla méthode `.format()` est liée à `\"Joe a {} ans\"` qui est un objet de type chaîne de caractères. La méthode renvoie une nouvelle chaîne de caractères avec le bon formatage (ici, `'Joe a 20 ans'`).",
          "la méthode `.format()` est liée à `\"Joe a {} ans\"` qui est un objet de type chaîne de caractères. La méthode renvoie une nouvelle chaîne de caractères avec le bon formatage (ici, `'Joe a 20 ans'`).\n\nNous aurons de nombreuses occasions de revoir cette notation `objet.méthode()`.\n\n\n## Exercices\n\n*Conseil* : utilisez l'interpréteur Python pour les exercices 2 à 5.\n\n\n### Affichage dans l'interpréteur et dans un programme\n\nOuvrez l'interpréteur Python et tapez l'instruction `1+1`. Que se passe-t-il ?\n\nÉcrivez la même chose dans un script `test.py` que vous allez créer avec un éditeur de texte. Exécutez ce script en tapant `python test.py` dans un *shell*. Que se passe-t-il ? Pourquoi ? Faites en sorte d'afficher le résultat de l'addition `1+1` en exécutant le script dans un *shell*.\n\n\n### Poly-A\n\nGénérez une chaîne de caractères représentant un brin d'ADN poly-A (c'est-à-dire qui ne contient que des bases A) de 20 bases de longueur, sans taper littéralement toutes les bases.",
          "### Poly-A\n\nGénérez une chaîne de caractères représentant un brin d'ADN poly-A (c'est-à-dire qui ne contient que des bases A) de 20 bases de longueur, sans taper littéralement toutes les bases.\n\n\n### Poly-A et poly-GC\n\nSur le modèle de l'exercice précédent, générez en une ligne de code un brin d'ADN poly-A (AAAA...) de 20 bases suivi d'un poly-GC régulier (GCGCGC...) de 40 bases.\n\n\n### Écriture formatée\n\nEn utilisant l'écriture formatée, affichez en une seule ligne les variables `a`, `b` et `c` dont les valeurs sont respectivement la chaîne de caractères `\"salut\"`, le nombre entier `102` et le *float* `10.318`. La variable `c` sera affichée avec 2 décimales.\n\n\n### Écriture formatée 2\n\nDans un script `percGC.py`, calculez un pourcentage de GC avec l'instruction suivante :\n\n`perc_GC = ((4500 + 2575)/14800)*100`",
          "### Écriture formatée 2\n\nDans un script `percGC.py`, calculez un pourcentage de GC avec l'instruction suivante :\n\n`perc_GC = ((4500 + 2575)/14800)*100`\n\nEnsuite, affichez le contenu de la variable `perc_GC` à l'écran avec 0, 1, 2 puis 3 décimales sous forme arrondie en utilisant l'écriture formatée et les *f-strings*. On souhaite que le programme affiche la sortie suivante :\n\n```text\nLe pourcentage de GC est 48     %\nLe pourcentage de GC est 47.8   %\nLe pourcentage de GC est 47.80  %\nLe pourcentage de GC est 47.804 %\n```"
         ],
         "marker": {
          "color": 0,
          "colorscale": [
           [
            0,
            "#440154"
           ],
           [
            0.1111111111111111,
            "#482878"
           ],
           [
            0.2222222222222222,
            "#3e4989"
           ],
           [
            0.3333333333333333,
            "#31688e"
           ],
           [
            0.4444444444444444,
            "#26828e"
           ],
           [
            0.5555555555555556,
            "#1f9e89"
           ],
           [
            0.6666666666666666,
            "#35b779"
           ],
           [
            0.7777777777777778,
            "#6ece58"
           ],
           [
            0.8888888888888888,
            "#b5de2b"
           ],
           [
            1,
            "#fde725"
           ]
          ],
          "opacity": 0.8,
          "size": 8
         },
         "mode": "markers",
         "name": "Affichage",
         "type": "scatter",
         "x": [
          0.023877380415797234,
          0.019939212128520012,
          0.04038412123918533,
          0.010007376782596111,
          0.022343479096889496,
          0.036625247448682785,
          0.03466269001364708,
          0.02886558324098587,
          0.04918569326400757,
          0.034888043999671936,
          0.04141000658273697,
          0.05848906189203262,
          0.022367259487509727,
          0.03504215180873871,
          0.03471659496426582,
          0.03029356151819229,
          0.031086917966604233,
          -0.011392058804631233,
          -0.0019465195946395397,
          0.05506138131022453,
          0.041902463883161545,
          0.030274003744125366,
          0.03556866571307182,
          0.029829975217580795,
          0.030811825767159462,
          0.03513897955417633,
          0.023322736844420433,
          0.018434319645166397,
          0.026766087859869003,
          0.020412087440490723
         ],
         "y": [
          -0.0020614098757505417,
          -0.0021906106267124414,
          -0.0034625374246388674,
          -0.01131913810968399,
          0.010818819515407085,
          0.025855788961052895,
          0.008345955051481724,
          0.024731861427426338,
          -0.02378799021244049,
          -0.025073440745472908,
          -0.013607515953481197,
          -0.011582805775105953,
          -0.013961183838546276,
          -0.007577829994261265,
          -0.0023918799124658108,
          -0.000047279656428145245,
          0.021494833752512932,
          -0.00815926119685173,
          -0.034873027354478836,
          -0.021278252825140953,
          -0.012241817079484463,
          -0.03056531585752964,
          -0.003805973334237933,
          -0.008233717642724514,
          -0.002511552069336176,
          -0.0034891865216195583,
          0.030946269631385803,
          0.00037336625973694026,
          -0.005269917659461498,
          -0.012179126963019371
         ]
        },
        {
         "hoverinfo": "text",
         "hovertext": [
          "## Principe et généralités\n\nEn programmation, les **fonctions** sont très utiles pour réaliser plusieurs fois la même opération au sein d'un programme. Elles rendent également le code plus lisible et plus clair en le fractionnant en blocs logiques.\n\nVous connaissez déjà certaines fonctions Python. Par exemple `math.cos(angle)` du module `math` renvoie le cosinus de la variable `angle` exprimé en radian. Vous connaissez aussi des fonctions internes à Python comme `range()` ou `len()`. Pour l'instant, une fonction est à vos yeux une sorte de « boîte noire » (voir figure @fig:schema_fonction) :\n\n1. À laquelle vous passez aucune, une ou plusieurs variable(s) entre parenthèses. Ces variables sont appelées **arguments**. Il peut s'agir de n'importe quel type d'objet Python.\n2. Qui effectue une action.\n3. Et qui renvoie un objet Python ou rien du tout.\n\n![Fonctionnement schématique d'une fonction.](img/schema_fonction.png){ #fig:schema_fonction width=90% }",
          "![Fonctionnement schématique d'une fonction.](img/schema_fonction.png){ #fig:schema_fonction width=90% }\n\nPar exemple, si vous appelez la fonction `len()` de la manière suivante :\n\n```python\n>>> len([0, 1, 2])\n3\n```\n\nvoici ce qui se passe :\n\n1. vous appelez `len()` en lui passant une liste en argument (ici la liste `[0, 1, 2]`) ;\n2. la fonction calcule la longueur de cette liste ;\n3. elle vous renvoie un entier égal à cette longueur.\n\nAutre exemple, si vous appelez la méthode `ma_liste.append()` (n'oubliez pas, une **méthode** est une **fonction** qui agit sur l'objet auquel elle est attachée par un point) :\n\n```python\n>>> ma_liste.append(5)\n```\n\n1. Vous passez l'entier `5` en argument ;\n2. la méthode `append()` ajoute l'entier `5` à l'objet `ma_liste` ;\n3. et elle ne renvoie rien.",
          "```python\n>>> ma_liste.append(5)\n```\n\n1. Vous passez l'entier `5` en argument ;\n2. la méthode `append()` ajoute l'entier `5` à l'objet `ma_liste` ;\n3. et elle ne renvoie rien.\n\nAux yeux du programmeur au contraire, une fonction est une portion de code effectuant une suite d'instructions bien particulière. Mais avant de vous présenter la syntaxe et la manière de construire une fonction, revenons une dernière fois sur cette notion de « boîte noire » :\n\n- Une fonction effectue une tâche. Pour cela, elle reçoit éventuellement des arguments et renvoie éventuellement quelque chose. L'algorithme utilisé au sein de la fonction n'intéresse pas directement l'utilisateur. Par exemple, il est inutile de savoir comment la fonction `math.cos()` calcule un cosinus. On a juste besoin de savoir qu'il faut lui passer en argument un angle en radian et qu'elle renvoie le cosinus de cet angle. Ce qui se passe à l'intérieur de la fonction ne regarde que le programmeur.",
          "- Chaque fonction effectue en général une tâche **unique et précise**. Si cela se complique, il est plus judicieux d'écrire plusieurs fonctions (qui peuvent éventuellement s'appeler les unes les autres). Cette **modularité** améliore la qualité générale et la lisibilité du code. Vous verrez qu'en Python, les fonctions présentent une grande flexibilité.",
          "Pour finir sur les généralités, nous avons utilisé dans la Figure @fig:schema_fonction le terme **programme principal** (*main* en anglais) pour désigner l'endroit depuis lequel on appelle une fonction (on verra plus tard que l'on peut en fait appeler une fonction de n'importe où). Le programme principal désigne le code qui est exécuté lorsqu'on lance le script Python, c'est-à-dire toute la suite d'instructions en dehors des fonctions. En général, dans un script Python, on écrit d'abord les fonctions puis le programme principal. Nous aurons l'occasion de revenir sur cette notion de programme principal plus tard dans ce chapitre ainsi que dans le chapitre 12 *Plus sur les fonctions*.\n\n\n## Définition\n\nPour définir une fonction, Python utilise le mot-clé `def`. Si on souhaite que la fonction renvoie quelque chose, il faut utiliser le mot-clé `return`. Par exemple :",
          "## Définition\n\nPour définir une fonction, Python utilise le mot-clé `def`. Si on souhaite que la fonction renvoie quelque chose, il faut utiliser le mot-clé `return`. Par exemple :\n\n```python\n>>> def carre(x):\n...     return x**2\n...\n>>> print(carre(2))\n4\n```\nNotez que la syntaxe de `def` utilise les deux-points comme les boucles `for` et `while` ainsi que les tests `if`, un bloc d’instructions est donc attendu. De même que pour les boucles et les tests, l'**indentation** de ce bloc d'instructions (qu'on appelle le corps de la fonction) est **obligatoire**.\n\nDans l'exemple précédent, nous avons passé un argument à la fonction `carre()` qui nous a renvoyé (ou retourné) une valeur que nous avons immédiatement affichée à l'écran avec l'instruction `print()`. Que veut dire valeur renvoyée ? Et bien cela signifie que cette dernière est récupérable dans une variable :",
          "```python\n>>> res = carre(2)\n>>> print(res)\n4\n```\nIci, le résultat renvoyé par la fonction est stocké dans la variable `res`.\nNotez qu'une fonction ne prend pas forcément un argument et ne renvoie pas forcément une valeur, par exemple :\n\n```python\n>>> def hello():\n...     print(\"bonjour\")\n...\n>>> hello()\nbonjour\n```\n\nDans ce cas la fonction, `hello()` se contente d'afficher la chaîne de caractères `\"bonjour\"` à l'écran. Elle ne prend aucun argument et ne renvoie rien. Par conséquent, cela n'a pas de sens de vouloir récupérer dans une variable le résultat renvoyé par une telle fonction. Si on essaie tout de même, Python affecte la valeur `None` qui signifie *rien* en anglais:\n\n```python\n>>> var = hello()\nbonjour\n>>> print(var)\nNone\n```\n\nCeci n'est pas une faute car Python n'émet pas d'erreur, toutefois cela ne présente, la plupart du temps, guère d'intérêt.\n\n\n## Passage d'arguments",
          "Ceci n'est pas une faute car Python n'émet pas d'erreur, toutefois cela ne présente, la plupart du temps, guère d'intérêt.\n\n\n## Passage d'arguments\n\nLe nombre d'arguments que l'on peut passer à une fonction est variable. Nous avons vu ci-dessus des fonctions auxquelles on passait 0 ou 1 argument. Dans les chapitres précédents, vous avez rencontré des fonctions internes à Python qui prenaient au moins 2 arguments. Souvenez-vous par exemple de `range(1, 10)` ou encore `range(1, 10, 2)`. Le nombre d'argument est donc laissé libre à l'initiative du programmeur qui développe une nouvelle fonction.\n\nUne particularité des fonctions en Python est que vous n'êtes pas obligé de préciser le type des arguments que vous lui passez, dès lors que les opérations que vous effectuez avec ces arguments sont valides. Python est en effet connu comme étant un langage au « typage dynamique », c'est-à-dire qu'il reconnaît pour vous le type des variables au moment de l'exécution. Par exemple :",
          "```python\n>>> def fois(x, y):\n...     return x*y\n...\n>>> fois(2, 3)\n6\n>>> fois(3.1415, 5.23)\n16.430045000000003\n>>> fois(\"to\", 2)\n'toto'\n>>> fois([1,3], 2)\n[1, 3, 1, 3]\n```\n\nL'opérateur `*` reconnaît plusieurs types (entiers, *floats*, chaînes de caractères, listes). Notre fonction `fois()` est donc capable d'effectuer des tâches différentes ! Même si Python autorise cela, méfiez-vous tout de même de cette grande flexibilité qui pourrait conduire à des surprises dans vos futurs programmes. En général, il est plus judicieux que chaque argument ait un type précis (entiers, *floats*, chaînes de caractères, etc) et pas l'un ou l'autre.\n\n\n## Renvoi de résultats\n\nUn énorme avantage en Python est que les fonctions sont capables de renvoyer plusieurs objets à la fois, comme dans cette fraction de code :\n\n```python\n>>> def carre_cube(x):\n...     return x**2, x**3\n...\n>>> carre_cube(2)\n(4, 8)\n```",
          "```python\n>>> def carre_cube(x):\n...     return x**2, x**3\n...\n>>> carre_cube(2)\n(4, 8)\n```\n\nEn réalité Python ne renvoie qu'un seul objet, mais celui-ci peut être séquentiel, c'est-à-dire contenir lui même d'autres objets. Dans notre exemple Python renvoie un objet de type `tuple`, type que nous verrons dans le chapitre 13 *Dictionnaires et tuples* (*grosso modo*, il s'agit d'une sorte de liste avec des propriétés différentes). Notre fonction pourrait tout autant renvoyer une liste :\n\n```python\n>>> def carre_cube2(x):\n...     return [x**2, x**3]\n...\n>>> carre_cube2(3)\n[9, 27]\n```\n\nRenvoyer un *tuple* ou une liste de deux éléments (ou plus) est très pratique en conjonction avec l'**affectation multiple**, par exemple :\n\n```python\n>>> z1, z2 = carre_cube2(3)\n>>> z1\n9\n>>> z2\n27\n```\n\nCela permet de récupérer plusieurs valeurs renvoyées par une fonction et de les affecter à la volée à des variables différentes.\n\n\n## Arguments positionnels et arguments par mot-clé",
          "Cela permet de récupérer plusieurs valeurs renvoyées par une fonction et de les affecter à la volée à des variables différentes.\n\n\n## Arguments positionnels et arguments par mot-clé\n\nJusqu'à maintenant, nous avons systématiquement passé le nombre d'arguments que la fonction attendait. Que se passe-t-il si une fonction attend deux arguments et que nous ne lui en passons qu'un seul ?\n\n```python\n>>> def fois(x, y):\n...     return x*y\n...\n>>> fois(2, 3)\n6\n>>> fois(2)\nTraceback (most recent call last):\n  File \"<stdin>\", line 1, in <module>\nTypeError: fois() missing 1 required positional argument: 'y'\n```\n\nOn constate que passer un seul argument à une fonction qui en attend deux conduit à une erreur.\n\nopen-box-def",
          "On constate que passer un seul argument à une fonction qui en attend deux conduit à une erreur.\n\nopen-box-def\n\nLorsqu'on définit une fonction `def fct(x, y):` les arguments `x` et `y` sont appelés **arguments positionnels** (en anglais *positional arguments*). Il est strictement obligatoire de les préciser lors de l'appel de la fonction. De plus, il est nécessaire de respecter le même ordre lors de l'appel que dans la définition de la fonction. Dans l'exemple ci-dessus, `2` correspondra à `x` et `3` correspondra à `y`. Finalement, tout dépendra de leur position, d'où leur qualification de positionnel.\n\nclose-box-def\n\nMais il est aussi possible de passer un ou plusieurs argument(s) de manière facultative et de leur attribuer une valeur par défaut :\n\n```python\n>>> def fct(x=1):\n...     return x\n...\n>>> fct()\n1\n>>> fct(10)\n10\n```\n\nopen-box-def",
          "```python\n>>> def fct(x=1):\n...     return x\n...\n>>> fct()\n1\n>>> fct(10)\n10\n```\n\nopen-box-def\n\nUn argument défini avec une syntaxe `def fct(arg=val):` est appelé **argument par mot-clé** (en anglais *keyword argument*). Le passage d'un tel argument lors de l'appel de la fonction est facultatif. Ce type d'argument ne doit pas être confondu avec les arguments positionnels présentés ci-dessus, dont la syntaxe est `def fct(arg):`.\n\nclose-box-def\n\nIl est bien sûr possible de passer plusieurs arguments par mot-clé :\n\n```python\n>>> def fct(x=0, y=0, z=0):\n...     return x, y, z\n...\n>>> fct()\n(0, 0, 0)\n>>> fct(10)\n(10, 0, 0)\n>>> fct(10, 8)\n(10, 8, 0)\n>>> fct(10, 8, 3)\n(10, 8, 3)\n```",
          "```python\n>>> def fct(x=0, y=0, z=0):\n...     return x, y, z\n...\n>>> fct()\n(0, 0, 0)\n>>> fct(10)\n(10, 0, 0)\n>>> fct(10, 8)\n(10, 8, 0)\n>>> fct(10, 8, 3)\n(10, 8, 3)\n```\n\nOn observe que pour l'instant, les arguments par mot-clé sont pris dans l'ordre dans lesquels on les passe lors de l'appel. Comment pourrions-nous faire si on souhaitait préciser l'argument par mot-clé `z` et garder les valeurs de `x` et `y` par défaut ? Simplement en  précisant le nom de l'argument lors de l'appel :\n\n```python\n>>> fct(z=10)\n(0, 0, 10)\n```\n\nPython permet même de rentrer les arguments par mot-clé dans un ordre arbitraire :\n\n```python\n>>> fct(z=10, x=3, y=80)\n(3, 80, 10)\n>>> fct(z=10, y=80)\n(0, 80, 10)\n```\n\nQue se passe-t-il lorsque nous avons un mélange d'arguments positionnels et par mot-clé ? Et bien les arguments positionnels doivent toujours être placés avant les arguments par mot-clé :",
          "Que se passe-t-il lorsque nous avons un mélange d'arguments positionnels et par mot-clé ? Et bien les arguments positionnels doivent toujours être placés avant les arguments par mot-clé :\n\n```python\n>>> def fct(a, b, x=0, y=0, z=0):\n...     return a, b, x, y, z\n...\n>>> fct(1, 1)\n(1, 1, 0, 0, 0)\n>>> fct(1, 1, z=5)\n(1, 1, 0, 0, 5)\n>>> fct(1, 1, z=5, y=32)\n(1, 1, 0, 32, 5)\n```\n\nOn peut toujours passer les arguments par mot-clé dans un ordre arbitraire à partir du moment où on précise leur nom. Par contre, si les deux arguments positionnels `a` et `b` ne sont pas passés à la fonction, Python renvoie une erreur.\n\n```python\n>>> fct(z=0)\nTraceback (most recent call last):\n  File \"<stdin>\", line 1, in <module>\nTypeError: fct() missing 2 required positional arguments: 'a' and 'b'\n```\n\nopen-box-adv\n\nPréciser le nom des arguments par mot-clé lors de l'appel d'une fonction est une pratique que nous vous recommandons. Cela les distingue clairement des arguments positionnels.\n\nclose-box-adv",
          "Préciser le nom des arguments par mot-clé lors de l'appel d'une fonction est une pratique que nous vous recommandons. Cela les distingue clairement des arguments positionnels.\n\nclose-box-adv\n\nL'utilisation d'arguments par mot-clé est habituelle en Python. Elle permet de modifier le comportement par défaut de nombreuses fonctions. Par exemple, si on souhaite que la fonction `print()` n'affiche pas un retour à la ligne, on peut utiliser l'argument `end` :\n\n```python\n>>> print(\"Message \", end=\"\")\nMessage >>>\n```\n\nNous verrons, dans le chapitre 20 *Fenêtres graphiques et Tkinter*, que l'utilisation d'arguments par mot-clé est systématique lorsqu'on crée un objet graphique (une fenêtre, un bouton, etc.).\n\n\n## Variables locales et variables globales",
          "## Variables locales et variables globales\n\nLorsqu'on manipule des fonctions, il est essentiel de bien comprendre comment se comportent les variables. Une variable est dite **locale** lorsqu'elle est créée dans une fonction. Elle n'existera et ne sera visible que lors de l'exécution de ladite fonction.\n\nUne variable est dite **globale** lorsqu'elle est créée dans le programme principal. Elle sera visible partout dans le programme.\n\nCeci ne vous paraît pas clair ? Nous allons prendre un exemple simple qui vous aidera à mieux saisir ces concepts. Observez le code suivant :\n\n```python\n# définition d'une fonction carre()\ndef carre(x):\n    y = x**2\n    return y\n\n# programme principal\nz = 5\nresultat = carre(z)\nprint(resultat)\n```",
          "```python\n# définition d'une fonction carre()\ndef carre(x):\n    y = x**2\n    return y\n\n# programme principal\nz = 5\nresultat = carre(z)\nprint(resultat)\n```\n\nPour la suite des explications, nous allons utiliser l'excellent site [*Python Tutor*](http://www.pythontutor.com) qui permet de visualiser l'état des variables au fur et à mesure de l'exécution d'un code Python. Avant de poursuivre, nous vous conseillons de prendre 5 minutes pour tester ce site.\n\nRegardons maintenant ce qui se passe dans le code ci-dessus, étape par étape :\n\n- Étape 1 : Python est prêt à lire la première ligne de code.\n\n![Étape 1.](img/fct_step1.png){ #fig:fct_step1 width=80% }\n\\",
          "- Étape 1 : Python est prêt à lire la première ligne de code.\n\n![Étape 1.](img/fct_step1.png){ #fig:fct_step1 width=80% }\n\\\n\n\n- Étape 2 : Python met en mémoire la fonction `carre()`. Notez qu'il ne l'exécute pas ! La fonction est mise dans un espace de la mémoire nommé *Global frame*, il s'agit de l'espace du programme principal. Dans cet espace, seront stockées toutes les variables *globales* créées dans le programme. Python est maintenant prêt à exécuter le programme principal.\n\n![Étape 2.](img/fct_step2.png){ #fig:fct_step2 width=80% }\n\\\n\n\n- Étape 3 : Python lit et met en mémoire la variable `z`. Celle-ci étant créée dans le programme principal, il s'agira d'une variable *globale*. Ainsi, elle sera également stockée dans le *Global frame*.\n\n![Étape 3.](img/fct_step3.png){ #fig:fct_step3 width=80% }\n\\",
          "![Étape 3.](img/fct_step3.png){ #fig:fct_step3 width=80% }\n\\\n\n\n- Étape 4 : La fonction `carre()` est appelée et on lui passe en argument l'entier `z`. La fonction s'exécute et un nouveau cadre est créé dans lequel *Python Tutor* va indiquer toutes les variables *locales* à la fonction. Notez bien que la variable passée en argument, qui s'appelle `x` dans la fonction, est créée en tant que variable *locale*. On remarquera aussi que les variables *globales* situées dans le *Global frame* sont toujours là.\n\n![Étape 4.](img/fct_step4.png){ #fig:fct_step4 width=80% }\n\\\n\n\n- Étape 5 : Python est maintenant prêt à exécuter chaque ligne de code de la fonction.\n\n![Étape 5.](img/fct_step5.png){ #fig:fct_step5 width=80% }\n\\\n\n\n- Étape 6 : La variable `y` est créée dans la fonction. Celle-ci est donc stockée en tant que variable *locale* à la fonction.\n\n![Étape 6.](img/fct_step6.png){ #fig:fct_step6 width=80% }\n\\",
          "- Étape 6 : La variable `y` est créée dans la fonction. Celle-ci est donc stockée en tant que variable *locale* à la fonction.\n\n![Étape 6.](img/fct_step6.png){ #fig:fct_step6 width=80% }\n\\\n\n\n- Étape 7 : Python s'apprête à renvoyer la variable *locale* `y` au programme principal. *Python Tutor* nous indique le contenu de la valeur renvoyée.\n\n![Étape 7.](img/fct_step7.png){ #fig:fct_step7 width=80% }\n\\\n\n\n- Étape 8 : Python quitte la fonction et la valeur renvoyée par celle-ci est affectée à la variable *globale* `resultat`. Notez bien que lorsque Python quitte la fonction, **l'espace des variables alloué à la fonction est détruit**. Ainsi, toutes les variables créées dans la fonction n'existent plus. On comprend pourquoi elles portent le nom de *locales* puisqu'elles n'existent que lorsque la fonction est exécutée.\n\n![Étape 8.](img/fct_step8.png){ #fig:fct_step8 width=80% }\n\\\n\n\n- Étape 9 : Python affiche le contenu de la variable `resultat` et l'exécution est terminée.",
          "![Étape 8.](img/fct_step8.png){ #fig:fct_step8 width=80% }\n\\\n\n\n- Étape 9 : Python affiche le contenu de la variable `resultat` et l'exécution est terminée.\n\n![Étape 9.](img/fct_step9.png){ #fig:fct_step9 width=80% }\n\\\n\n\nNous espérons que cet exemple guidé facilitera la compréhension des concepts de variables locales et globales. Cela viendra aussi avec la pratique. Nous irons un peu plus loin sur les fonctions dans le chapitre 12. D'ici là, essayez de vous entraîner au maximum avec les fonctions. C'est un concept ardu, mais il est impératif de le maîtriser.\n\nEnfin, comme vous avez pu le constater, *Python Tutor* nous a grandement aidé à comprendre ce qui se passait. N'hésitez pas à l'utiliser sur des exemples ponctuels, ce site vous aidera à visualiser ce qui se passe lorsqu'un code ne fait pas ce que vous attendez.\n\n\n## Principe DRY",
          "## Principe DRY\n\nL'acronyme [DRY](https://www.earthdatascience.org/courses/intro-to-earth-data-science/write-efficient-python-code/intro-to-clean-code/dry-modular-code/) signifie *Don't Repeat Yourself*. Les fonctions permettent de satisfaire ce principe en évitant la duplication de code.\nEn effet, plus un code est dupliqué plusieurs fois dans un programme, plus il sera source d'erreurs, notamment lorsqu'il faudra le faire évoluer.\n\nConsidérons par exemple le code suivant qui convertit plusieurs températures des degrés Fahrenheit en degrés Celsius :\n\n```python\n>>> temp_in_fahrenheit = 60\n>>> (temp_in_fahrenheit - 32) * (5/8)\n17.5\n>>> temp_in_fahrenheit = 80\n>>> (temp_in_fahrenheit - 32) * (5/8)\n30.0\n>>> temp_in_fahrenheit = 100\n>>> (temp_in_fahrenheit - 32) * (5/8)\n42.5\n```\n\nMalheureusement il y a une erreur dans la formule de conversion. En effet la formule exacte est :\n\n$$\n{\\rm temp\\_celsius} = ({\\rm temp\\_fahrenheit} - 32) \\times \\frac{5}{9}\n$$",
          "Malheureusement il y a une erreur dans la formule de conversion. En effet la formule exacte est :\n\n$$\n{\\rm temp\\_celsius} = ({\\rm temp\\_fahrenheit} - 32) \\times \\frac{5}{9}\n$$\n\nIl faut alors reprendre les lignes 2, 5 et 8 précédentes et les corriger. Cela n'est pas efficace, surtout si le même code est utilisé à différents endroits dans le programme.\n\nEn écrivant qu'une seule fois la formule de conversion dans une fonction, on applique le principe DRY :\n\n```python\n>>> def convert_fahrenheit_to_celsius(temperature):\n...     return (temperature - 32) * (5/9)\n... \n>>> temp_in_fahrenheit = 60\n>>> convert_fahrenheit_to_celsius(temp_in_fahrenheit)\n15.555555555555557\n>>> temp_in_fahrenheit = 80\n>>> convert_fahrenheit_to_celsius(temp_in_fahrenheit)\n26.666666666666668\n>>> temp_in_fahrenheit = 100\n>>> convert_fahrenheit_to_celsius(temp_in_fahrenheit)\n37.77777777777778\n```",
          "Et s'il y a une erreur dans la formule, il suffira de le corriger qu'une seule fois, dans la fonction `convert_fahrenheit_to_celsius()`.\n\n## Exercices\n\n*Conseil* : pour le premier exercice, utilisez *Python Tutor*. Pour les exercices suivants, créez des scripts puis exécutez-les dans un *shell*.\n\n\n### Carré et factorielle\n\nReprenez l'exemple précédent à l'aide du site [*Python Tutor*](http://www.pythontutor.com) :\n\n```python\n# définition d'une fonction carre()\ndef carre(x):\n    y = x**2\n    return y\n\n# programme principal\nz = 5\nresultat = carre(z)\nprint(resultat)\n```\n\nAnalysez ensuite le code suivant et tentez de prédire sa sortie :\n\n```python\ndef calc_factorielle(n):\n    fact = 1\n    for i in range(2, n+1):\n        fact = fact * i\n    return fact\n\n# programme principal\nnb = 4\nfactorielle_nb = calc_factorielle(nb)\nprint(f\"{nb}! = {factorielle_nb}\")\nnb2 = 10\nprint(f\"{nb2}! = {calc_factorielle(nb2)}\")\n```",
          "# programme principal\nnb = 4\nfactorielle_nb = calc_factorielle(nb)\nprint(f\"{nb}! = {factorielle_nb}\")\nnb2 = 10\nprint(f\"{nb2}! = {calc_factorielle(nb2)}\")\n```\n\nTestez ensuite cette portion de code avec *Python Tutor* en cherchant à bien comprendre chaque étape.\nAvez-vous réussi à prédire la sortie correctement ?\n\nopen-box-rem\n\nUne remarque concernant l'utilisation des *f-strings* que nous avions vues dans le chapitre 3 *Affichage*. On voit à nouveau une possibilité puissante des *f-strings* dans l'instruction `f\"{nb2}! = {calc_factorielle(nb2)}\"` : il est possible de mettre directement au sein des accolades un appel à une fonction (ici `{calc_factorielle(nb2)}`) ! Ainsi, pas besoin de créer une variable intermédiaire dans laquelle on stocke ce que retourne la fonction. \n\nclose-box-rem\n\n### Puissance\n\nCréez une fonction `calc_puissance(x, y)` qui renvoie $x^y$ en utilisant l'opérateur `**`. Pour rappel :\n\n```python\n>>> 2**2\n4\n>>> 2**3\n8\n>>> 2**4\n16\n```",
          "close-box-rem\n\n### Puissance\n\nCréez une fonction `calc_puissance(x, y)` qui renvoie $x^y$ en utilisant l'opérateur `**`. Pour rappel :\n\n```python\n>>> 2**2\n4\n>>> 2**3\n8\n>>> 2**4\n16\n```\n\nDans le programme principal, calculez et affichez à l'écran $2^i$ avec $i$ variant de 0 à 20 inclus. On souhaite que le résultat soit présenté avec le formatage suivant :\n\n```text\n2^ 0 =       1\n2^ 1 =       2\n2^ 2 =       4\n[...]\n2^20 = 1048576\n```\n\n### Pyramide\n\nReprenez l'exercice du chapitre 5 *Boucles et comparaisons* qui dessine une pyramide.\n\nDans un script `pyra.py`, créez une fonction `gen_pyramide()` à laquelle vous passez un nombre entier `N` et qui renvoie une pyramide de $N$ lignes sous forme de chaîne de caractères. Le programme principal demandera à l'utilisateur le nombre de lignes souhaitées (utilisez pour cela la fonction `input()`) et affichera la pyramide à l'écran.\n\n\n### Nombres premiers\n\nReprenez l'exercice du chapitre 6 *Tests* sur les nombres premiers.",
          "### Nombres premiers\n\nReprenez l'exercice du chapitre 6 *Tests* sur les nombres premiers.\n\nCréez une fonction `est_premier()` qui prend comme argument un nombre entier positif *n* (supérieur à 2) et qui renvoie le booléen `True` si *n* est premier et `False` si *n* n'est pas premier. Déterminez tous les nombres premiers de 2 à 100. On souhaite avoir une sortie similaire à celle-ci :\n\n```text\n  2 est premier\n  3 est premier\n  4 n'est pas premier\n[...]\n100 n'est pas premier\n```\n\n\n### Séquence complémentaire\n\nCréez une fonction `seq_comp()` qui prend comme argument une liste de bases et qui renvoie la séquence complémentaire d'une séquence d'ADN sous forme de liste.\n\nDans le programme principal, à partir de la séquence d'ADN \n`seq = [\"A\", \"T\", \"C\", \"G\", \"A\", \"T\", \"C\", \"G\", \"A\", \"T\", \"C\"]` \naffichez `seq` et sa séquence complémentaire (en utilisant votre fonction `seq_comp()`).\n\nRappel : la séquence complémentaire s'obtient en remplaçant A par T, T par A, C par G et G par C.",
          "Rappel : la séquence complémentaire s'obtient en remplaçant A par T, T par A, C par G et G par C.\n\n\n### Distance 3D\n\nCréez une fonction `calc_distance_3D()` qui calcule la distance euclidienne en trois dimensions entre deux atomes. Testez votre fonction sur les 2 points `A(0,0,0)` et `B(1,1,1)`. Trouvez-vous bien $\\sqrt{3}$ ?\n\nOn rappelle que la distance euclidienne *d* entre deux points A et B de coordonnées cartésiennes respectives $(x_A, y_A, z_A)$ et $(x_B, y_B, z_B)$ se calcule comme suit :\n\n$$\nd = \\sqrt{(x_B - x_A)^2 + (y_B - y_A)^2 + (z_B - z_A)^2}\n$$\n\n\n### Distribution et statistiques\n\nCréez une fonction `gen_distrib()` qui prend comme argument trois entiers : *debut*, *fin* et *n*. La fonction renverra une liste de $n$ *floats* aléatoires entre *debut* et *fin*. Pour générer un nombre aléatoire dans un intervalle donné, utilisez la fonction `uniform()` du module *random* dont voici quelques exemple d'utilisation :",
          "```python\n>>> import random\n>>> random.uniform(1, 10)\n8.199672607202174\n>>> random.uniform(1, 10)\n2.607528561528022\n>>> random.uniform(1, 10)\n9.000404025130946\n```\n\nAvec la fonction `random.uniform()`, les bornes passées en argument sont incluses, c'est-à-dire qu'ici, le nombre aléatoire renvoyé est dans l'intervalle [1, 10].\n\nCréez une autre fonction `calc_stat()` qui prend en argument une liste de *floats* et qui renvoie une liste de trois éléments contenant respectivement le minimum, le maximum et la moyenne de la liste.\n\nDans le programme principal, générez 20 listes aléatoires de 100 *floats* compris entre 0 et 100 et affichez le minimum (`min()`), le maximum (`max()`) et la moyenne pour chacune d'entre elles. La moyenne pourra être calculée avec les fonctions `sum()` et `len()`.",
          "Pour chacune des 20 listes, affichez les statistiques (min, max, et moyenne) avec deux chiffres après la virgule :\n```text\nListe  1 : min = 0.17 ; max = 99.72 ; moyenne = 57.38\nListe  2 : min = 1.25 ; max = 99.99 ; moyenne = 47.41\n[...]\nListe 19 : min = 1.05 ; max = 99.36 ; moyenne = 49.43\nListe 20 : min = 1.33 ; max = 97.63 ; moyenne = 46.53\n\n```\n\nLes écarts sur les statistiques entre les différentes listes sont-ils importants ? Relancez votre script avec des listes de 1000 éléments, puis 10 000 éléments. Les écarts changent-ils quand le nombre d'éléments par liste augmente ?\n\n\n### Distance à l'origine (exercice +++)\n\nEn reprenant votre fonction de calcul de distance euclidienne en 3D `calc_distance_3D()`, faites-en une version pour deux dimensions que vous appellerez `calc_distance_2D()`.",
          "En reprenant votre fonction de calcul de distance euclidienne en 3D `calc_distance_3D()`, faites-en une version pour deux dimensions que vous appellerez `calc_distance_2D()`.\n\nCréez une autre fonction `calc_dist2ori()` à laquelle vous passez en argument deux listes de *floats* `list_x` et `list_y` représentant les coordonnées d'une fonction mathématique (par exemple $x$ et $sin(x)$). Cette fonction renverra une liste de *floats* représentant la distance entre chaque point de la fonction et l'origine (de coordonnées $(0,0)$).\n\nLa figure @fig:sin2ori montre un exemple sur quelques points de la fonction $sin(x)$ (courbe en trait épais). Chaque trait pointillé représente la distance que l'on cherche à calculer entre les points de la courbe et l'origine du repère de coordonnées (0, 0).\n\n![Illustration de la distance à l'origine.](img/sin2ori.png){ #fig:sin2ori width=60% }",
          "![Illustration de la distance à l'origine.](img/sin2ori.png){ #fig:sin2ori width=60% }\n\nVotre programme générera un fichier `sin2ori.dat` qui contiendra deux colonnes : la première représente les $x$, la seconde la distance entre chaque point de la fonction $sin(x)$ à l'origine.\n\nEnfin, pour visualiser votre résultat, ajoutez le code suivant tout à la fin de votre script :\n\n```python\n# création d'une image pour la visualisation du résultat\nimport matplotlib.pyplot as plt\n\nx = []\ny = []\nwith open(\"sin2ori.dat\", \"r\") as f_in:\n    for line in f_in:\n        coords = line.split()\n        x.append(float(coords[0]))\n        y.append(float(coords[1]))\nplt.figure(figsize=(8,8))\nplt.plot(x, y)\nplt.xlabel(\"x\")\nplt.ylabel(\"Distance de sin(x)à l'origine\")\nplt.savefig(\"sin2ori.png\")\n```\n\nOuvrez l'image `sin2ori.png`.\n\nopen-box-rem\n\nLe module *matplotlib* sera expliqué en détail dans le chapitre 17 *Quelques modules d'intérêt en bioinformatique*.\n\nclose-box-rem"
         ],
         "marker": {
          "color": 1,
          "colorscale": [
           [
            0,
            "#440154"
           ],
           [
            0.1111111111111111,
            "#482878"
           ],
           [
            0.2222222222222222,
            "#3e4989"
           ],
           [
            0.3333333333333333,
            "#31688e"
           ],
           [
            0.4444444444444444,
            "#26828e"
           ],
           [
            0.5555555555555556,
            "#1f9e89"
           ],
           [
            0.6666666666666666,
            "#35b779"
           ],
           [
            0.7777777777777778,
            "#6ece58"
           ],
           [
            0.8888888888888888,
            "#b5de2b"
           ],
           [
            1,
            "#fde725"
           ]
          ],
          "opacity": 0.8,
          "size": 8
         },
         "mode": "markers",
         "name": "Fonctions",
         "type": "scatter",
         "x": [
          -0.014399451203644276,
          -0.002410994376987219,
          0.0037580099888145924,
          -0.004683174658566713,
          0.005232267547398806,
          -0.016827082261443138,
          -0.01618710160255432,
          -0.006397228222340345,
          -0.004933512303978205,
          0.0009978361194953322,
          -0.017333155497908592,
          -0.030561499297618866,
          -0.03851282596588135,
          -0.009900113567709923,
          0.006222044117748737,
          -0.0051514566875994205,
          0.0002369082358200103,
          0.0008080459665507078,
          0.01012088917195797,
          -0.013009551912546158,
          -0.0018090938683599234,
          0.0003937290166504681,
          0.00017639202997088432,
          -0.0008955920347943902,
          -0.01645561493933201,
          0.009024769067764282,
          -0.02697252482175827,
          0.012580757029354572,
          -0.007098599802702665,
          -0.004015149548649788,
          0.005235579796135426,
          0.017885347828269005,
          0.018929598852992058
         ],
         "y": [
          0.02458951063454151,
          0.04338957741856575,
          0.05252060666680336,
          0.005448800977319479,
          0.04853719100356102,
          0.04116564989089966,
          0.02302299439907074,
          0.051046036183834076,
          0.02231503650546074,
          0.02064599096775055,
          0.04962540790438652,
          0.06187083572149277,
          0.06201130524277687,
          0.051392026245594025,
          0.04220900312066078,
          0.019952652975916862,
          0.016683019697666168,
          0.01202486827969551,
          -0.004956462886184454,
          0.009038510732352734,
          0.017927784472703934,
          0.01532701775431633,
          -0.007210113573819399,
          -0.030279237776994705,
          -0.000574993435293436,
          -0.004346319939941168,
          0.02877793274819851,
          0.024330157786607742,
          -0.003578182077035308,
          0.008955315686762333,
          -0.006169548258185387,
          0.020299753174185753,
          0.015696443617343903
         ]
        },
        {
         "hoverinfo": "text",
         "hovertext": [
          "Les notebooks Jupyter sont des cahiers électroniques qui, dans le même document, peuvent rassembler du texte, des images, des formules mathématiques et du code informatique exécutable. Ils sont manipulables interactivement dans un navigateur web.\n\nInitialement développés pour les langages de programmation Julia, Python et R (d'où le nom Jupyter), les notebooks Jupyter supportent près de 40 langages différents.\n\nLa cellule est l'élément de base d'un notebook Jupyter. Elle peut contenir du texte formaté au format Markdown ou du code informatique qui pourra être exécuté.\n\nVoici un exemple de notebook Jupyter (figure @fig:jupyter-exemple) :\n\n![Exemple de notebook Jupyter. Les chiffres entourés désignent les différentes cellules.](img/jupyter-exemple.png \"Exemple de notebook Jupyter\"){ #fig:jupyter-exemple width=80% }\n\nCe notebook est constitué de cinq cellules : deux avec du texte en Markdown (la première et la dernière) et trois avec du code Python (notées avec `In [ ]`).",
          "Ce notebook est constitué de cinq cellules : deux avec du texte en Markdown (la première et la dernière) et trois avec du code Python (notées avec `In [ ]`).\n\n## Installation\n\nAvec la distribution Miniconda, les notebooks Jupyter s'installent avec la commande :\n\n```bash\n$ conda install -y jupyterlab\n```\n\nPour être exact, la commande précédente installe un peu plus que les notebooks Jupyter mais nous verrons cela par la suite.\n\n\n## Lancement de Jupyter et création d'un notebook\n\nPour lancer les notebooks Jupyter, utilisez la commande suivante depuis un *shell* :\n\n```bash\n$ jupyter-notebook\n```\n\nUne nouvelle page devrait s'ouvrir dans votre navigateur web  et ressembler à la figure @fig:jupyter-interface.\n\n![Interface de Jupyter.](img/jupyter-interface.png \"Interface de Jupyter\"){ #fig:jupyter-interface width=80% }\n\nCette interface liste les notebooks Jupyter existants (pour le moment aucun).",
          "![Interface de Jupyter.](img/jupyter-interface.png \"Interface de Jupyter\"){ #fig:jupyter-interface width=80% }\n\nCette interface liste les notebooks Jupyter existants (pour le moment aucun).\n\nPour créer un notebook, cliquez sur le bouton à droite *New* puis sélectionnez *Python 3*. Vous noterez au passage qu'il est également possible de créer un fichier texte, un répertoire ou bien encore de lancer un *shell* via un *Terminal* (voir figure @fig:jupyter-nouveau-notebook).\n\n![Création d'un nouveau notebook.](img/jupyter-nouveau-notebook.png \"Création d'un nouveau notebook\"){ #fig:jupyter-nouveau-notebook width=80% }\n\nLe notebook fraîchement créé ne contient qu'une cellule vide.\n\n![Nouveau notebook.](img/jupyter-nouveau-notebook-vide.png \"Nouveau notebook\"){ #fig:jupyter-nouveau-notebook-vide width=80% }",
          "Le notebook fraîchement créé ne contient qu'une cellule vide.\n\n![Nouveau notebook.](img/jupyter-nouveau-notebook-vide.png \"Nouveau notebook\"){ #fig:jupyter-nouveau-notebook-vide width=80% }\n\nLa première chose à faire est de donner un nom à votre notebook en cliquant sur *Untitled*, à droite du logo de Jupyter. Si le nom de votre notebook est *test* alors le fichier *test.ipynb* sera créé dans le répertoire depuis lequel vous avez lancé Jupyter.\n\nopen-box-rem\n\nL'extension *.ipynb* est l'extension de fichier des notebooks Jupyter.\n\nclose-box-rem\n\nVous pouvez entrer des instructions Python dans la première cellule. Par exemple :\n\n```python\na = 2\nb = 3\nprint(a+b)\n```\n\nPour exécuter le contenu de cette cellule, vous avez plusieurs possibilités :\n\n- Cliquer sur le menu *Cell*, puis *Run Cells*.\n- Cliquer sur le bouton *Run* (sous la barre de menu).\n- Presser simultanément les touches *Ctrl* + *Entrée*.",
          "- Cliquer sur le menu *Cell*, puis *Run Cells*.\n- Cliquer sur le bouton *Run* (sous la barre de menu).\n- Presser simultanément les touches *Ctrl* + *Entrée*.\n\nDans tous les cas, vous devriez obtenir quelque chose qui ressemble à l'image @fig:jupyter-cellule-1. La notation `In [1]` à gauche de la cellule indique qu'il s'agit de la première cellule exécutée.\n\n![Exécution d'une première cellule.](img/jupyter-cellule-1.png \"Exécution d'une première cellule.\"){ #fig:jupyter-cellule-1 width=80% }\n\nPour créer une nouvelle cellule, vous avez, ici encore, plusieurs possibilités :\n\n- Cliquer sur l’icône *+* sous la barre de menu.\n- Cliquer sur le menu *Insert*, puis *Insert Cell Below*.\n\nUne nouvelle cellule vide devrait apparaître.",
          "- Cliquer sur l’icône *+* sous la barre de menu.\n- Cliquer sur le menu *Insert*, puis *Insert Cell Below*.\n\nUne nouvelle cellule vide devrait apparaître.\n\nVous pouvez également créer une nouvelle cellule en positionnant votre curseur dans la première cellule, puis en pressant simultanément les touches *Alt* + *Entrée*. Si vous utilisez cette combinaison de touches, vous remarquerez que le numéro à gauche de la première cellule est passée de `In [1]` à `In [2]` car vous avez exécuté la première cellule *puis* créé une nouvelle cellule.\n\nVous pouvez ainsi créer plusieurs cellules les unes à la suite des autres. Un objet créé dans une cellule antérieure sera disponible dans les cellules suivantes. Par exemple, dans la figure @fig:jupyter-cellule-4, nous avons quatre cellules. Vous remarquerez que pour les cellules 3 et 4, le résultat renvoyé par le code Python est précédé par `Out [3]` et `Out [4]`.",
          "![Notebook avec plusieurs cellules de code Python.](img/jupyter-cellule-4.png \"Notebook avec plusieurs cellules de code Python\"){ #fig:jupyter-cellule-4 width=80% }\n\nDans un notebook Jupyter, il est parfaitement possible de réexécuter une cellule précédente. Par exemple la première cellule, qui porte désormais à sa gauche la numérotation `In [5]` (voir figure @fig:jupyter-cellule-4-mauvais-ordre).\n\n![Notebook avec une cellule ré-exécutée.](img/jupyter-cellule-4-mauvais-ordre.png \"Notebook avec une cellule ré-executée.\"){ #fig:jupyter-cellule-4-mauvais-ordre width=80% }\n\nopen-box-warn\n\nLa possibilité d'exécuter les cellules d'un notebook Jupyter dans un ordre arbitraire peut prêter à confusion, notamment si vous modifiez la même variable d'une cellule à l'autre.",
          "open-box-warn\n\nLa possibilité d'exécuter les cellules d'un notebook Jupyter dans un ordre arbitraire peut prêter à confusion, notamment si vous modifiez la même variable d'une cellule à l'autre.\n\nNous vous recommandons de régulièrement relancer complètement l'exécution de toutes les cellules de votre notebook, de la première à la dernière, en cliquant sur le menu *Kernel* puis *Restart & Run All* et enfin de valider le message *Restart and Run All Cells*.\n\nclose-box-warn\n\n\n## Le format Markdown\n\nDans le tout premier exemple (figure @fig:jupyter-exemple), nous avons vu qu'il était possible de mettre du texte au format Markdown dans une cellule.\n\nIl faut cependant indiquer à Jupyter que cette cellule est au format Markdown en cliquant sur *Code* sous la barre de menu puis en choisissant *Markdown*.",
          "Il faut cependant indiquer à Jupyter que cette cellule est au format Markdown en cliquant sur *Code* sous la barre de menu puis en choisissant *Markdown*.\n\nLe format Markdown permet de rédiger du texte formaté (gras, italique, liens, titres, images, formules mathématiques...) avec quelques balises très simples. Voici un exemple dans une notebook Jupyter (figure @fig:jupyter-markdown-1) et le rendu lorsque la cellule est exécutée (figure @fig:jupyter-markdown-2).\n\n![Notebook avec une cellule au format Markdown.](img/jupyter-markdown-1.png \"Notebook avec une cellule au format Markdown.\"){ #fig:jupyter-markdown-1 width=80% }\n\n![Notebook avec une cellule au format Markdown (après exécution).](img/jupyter-markdown-2.png \"Notebook avec une cellule au format Markdown (après exécution).\"){ #fig:jupyter-markdown-2 width=80% }\n\nNotez qu'une cellule Markdown n'a pas le marqueur `In [ ]` à sa gauche.",
          "Notez qu'une cellule Markdown n'a pas le marqueur `In [ ]` à sa gauche.\n\nLe format Markdown permet de rapidement et très simplement rédiger du texte structuré. Ce cours est par exemple complètement rédigé en Markdown ;-)\n\nNous vous conseillons d'explorer les possibilités du Markdown en consultant la page [Wikipédia](https://fr.wikipedia.org/wiki/Markdown) ou directement la [page de référence](https://daringfireball.net/projects/markdown/syntax).\n\n\n## Des graphiques dans les notebooks\n\nUn autre intérêt des notebooks Jupyter est de pouvoir y incorporer des graphiques réalisés avec la bibliothèque *matplotlib*.\n\nVoici un exemple en reprenant un graphique présenté dans le chapitre 17 *Quelques modules d'intérêt en bioinformatique* (figure @fig:jupyter-matplotlib).\n\n![Incorporation d'un graphique dans un notebook Jupyter.](img/jupyter-matplotlib.png \"Incorporation d'un graphique dans un notebook Jupyter.\"){ #fig:jupyter-matplotlib width=80% }",
          "![Incorporation d'un graphique dans un notebook Jupyter.](img/jupyter-matplotlib.png \"Incorporation d'un graphique dans un notebook Jupyter.\"){ #fig:jupyter-matplotlib width=80% }\n\nLa différence notable est l'utilisation de la commande :  \n`%matplotlib inline`  \nqui n'est à lancer qu'une seule fois (en général dans la première cellule du notebook) et qui permet l'incorporation de figures dans un notebook Jupyter.\n\nopen-box-rem\n\nPour quitter l'interface des notebooks Jupyter, il faut, dans le premier onglet qui est apparu, cliquer sur le bouton *Quit* (figure @fig:jupyter-interface).\n\nUne méthode plus radicale est de revenir sur le *shell* depuis lequel les notebooks Jupyter ont été lancés puis de presser deux fois la combinaison de touches *Ctrl* + *C*.\n\nclose-box-rem\n\n\n## Les *magic commands*\n\nLa commande précédente (`%matplotlib inline`) est une *magic command*. Il en existe beaucoup, en voici deux :",
          "close-box-rem\n\n\n## Les *magic commands*\n\nLa commande précédente (`%matplotlib inline`) est une *magic command*. Il en existe beaucoup, en voici deux :\n\n- `%whos` liste tous les objets (variables, fonctions, modules...) utilisés dans le notebook (voir figure @fig:jupyter-whos).\n- `%history` liste toutes les commandes Python lancées dans un notebook (voir figure @fig:jupyter-history).\n\n![*Magic command* `%whos`.](img/jupyter-whos.png){ #fig:jupyter-whos width=80% }\n\n![*Magic command* `%history`.](img/jupyter-history.png){ #fig:jupyter-history width=80% }\n\nEnfin, avec les environnements Linux ou Mac OS X, il est possible de lancer une commande Unix depuis un notebook Jupyter. Il faut pour cela précéder la commande du symbole « `!` ». La figure @fig:jupyter-ls illustre cette possibilité avec la commande `ls` qui affiche le contenu d'un répertoire.\n\n![Lancement d'une commande Unix.](img/jupyter-ls.png){ #fig:jupyter-ls width=80% }\n\nopen-box-rem",
          "![Lancement d'une commande Unix.](img/jupyter-ls.png){ #fig:jupyter-ls width=80% }\n\nopen-box-rem\n\nLe lancement de n'importe quelle commande Unix depuis un notebook Jupyter (en précédant cette commande de `!`) est une fonctionnalité très puissante.\n\nPour vous en rendre compte, jetez un œil au [notebook](https://github.com/MaayanLab/Zika-RNAseq-Pipeline/blob/master/Zika.ipynb) produit par les chercheurs Zichen Wang et Avi Ma'ayan qui reproduit l'analyse complète de données obtenues par séquençage haut débit. Ces analyses ont donné lieu à la publication de l'article scientifique « [*An open RNA-Seq data analysis pipeline tutorial with an example of reprocessing data from a recent Zika virus study*](https://f1000research.com/articles/5-1574/) » (F1000 Research, 2016).\n\nclose-box-rem\n\n\n## JupyterLab\n\nEn 2018, le consortium Jupyter a lancé *JupyterLab* qui est un environnement complet d'analyse.\nPour obtenir cette interface, lancez la commande suivante depuis un *shell* :",
          "## JupyterLab\n\nEn 2018, le consortium Jupyter a lancé *JupyterLab* qui est un environnement complet d'analyse.\nPour obtenir cette interface, lancez la commande suivante depuis un *shell* :\n\n```bash\n$ jupyter lab\n```\n\nUne nouvelle page devrait s'ouvrir dans votre navigateur web et vous devriez\nobtenir une interface similaire à la figure @fig:jupyterlab-1.\n\n![Interface de JupyterLab.](img/jupyterlab-1.png \"Interface de JupyterLab.\"){ #fig:jupyterlab-1 width=95% }\n\nL'interface proposée par JupyterLab est très riche. On peut y organiser un notebook Jupyter « classique » avec une figure en encart, un *shell* (voir figure @fig:jupyterlab-2)... Les possibilités sont infinies !\n\n![JupyterLab comme environnement d'analyse.](img/jupyterlab-2.png \"JupyterLab comme environnement d'analyse.\"){ #fig:jupyterlab-2 width=95% }\n\nopen-box-more\n\nLes *notebooks* Jupyter sont particulièrement adaptés à l'analyse de données en combinaison avec les modules *matplotlib* et *pandas*.\n\nclose-box-more"
         ],
         "marker": {
          "color": 2,
          "colorscale": [
           [
            0,
            "#440154"
           ],
           [
            0.1111111111111111,
            "#482878"
           ],
           [
            0.2222222222222222,
            "#3e4989"
           ],
           [
            0.3333333333333333,
            "#31688e"
           ],
           [
            0.4444444444444444,
            "#26828e"
           ],
           [
            0.5555555555555556,
            "#1f9e89"
           ],
           [
            0.6666666666666666,
            "#35b779"
           ],
           [
            0.7777777777777778,
            "#6ece58"
           ],
           [
            0.8888888888888888,
            "#b5de2b"
           ],
           [
            1,
            "#fde725"
           ]
          ],
          "opacity": 0.8,
          "size": 8
         },
         "mode": "markers",
         "name": "Jupyter et ses notebooks",
         "type": "scatter",
         "x": [
          -0.004293533973395824,
          0.004853933118283749,
          -0.01835235022008419,
          0.020304491743445396,
          0.009066388010978699,
          -0.006371256895363331,
          -0.008248544298112392,
          0.002533592050895095,
          0.02372886799275875,
          0.011300354264676571,
          0.019188817590475082,
          0.003250309033319354,
          -0.0020458230283111334,
          -0.025949936360120773
         ],
         "y": [
          -0.011685146950185299,
          -0.008323553018271923,
          -0.016141526401042938,
          -0.022638488560914993,
          -0.017902955412864685,
          -0.014283080585300922,
          0.0053819576278328896,
          -0.020463094115257263,
          -0.01224571093916893,
          -0.003575021168217063,
          -0.010291245765984058,
          -0.008253956213593483,
          -0.016522914171218872,
          0.0016005105571821332
         ]
        },
        {
         "hoverinfo": "text",
         "hovertext": [
          "## Définition\n\nUne **liste** est une structure de données qui contient une série de valeurs. Python autorise la construction de liste contenant des valeurs de types différents (par exemple entier et chaîne de caractères), ce qui leur confère une grande flexibilité. Une liste est déclarée par une série de valeurs (n'oubliez pas les guillemets, simples ou doubles, s'il s'agit de chaînes de caractères) séparées par des **virgules**, et le tout encadré par des **crochets**. En voici quelques exemples :\n\n```python\n>>> animaux = [\"girafe\", \"tigre\", \"singe\", \"souris\"]\n>>> tailles = [5, 2.5, 1.75, 0.15]\n>>> mixte = [\"girafe\", 5, \"souris\", 0.15]\n>>> animaux\n['girafe', 'tigre', 'singe', 'souris']\n>>> tailles\n[5, 2.5, 1.75, 0.15]\n>>> mixte\n['girafe', 5, 'souris', 0.15]\n```\n\nLorsque l'on affiche une liste, Python la restitue telle qu'elle a été saisie.\n\n\n## Utilisation",
          "Lorsque l'on affiche une liste, Python la restitue telle qu'elle a été saisie.\n\n\n## Utilisation\n\nUn des gros avantages d'une liste est que vous pouvez appeler ses éléments par leur position. Ce numéro est appelé **indice** (ou *index*) de la liste.\n\n```text\nliste  : [\"girafe\", \"tigre\", \"singe\", \"souris\"]\nindice :        0        1        2         3\n```\n\nSoyez très **attentif** au fait que les indices d'une liste de *n* éléments commencent à *0* et se terminent à *n-1*. Voyez l'exemple suivant :\n\n```python\n>>> animaux = [\"girafe\", \"tigre\", \"singe\", \"souris\"]\n>>> animaux[0]\n'girafe'\n>>> animaux[1]\n'tigre'\n>>> animaux[3]\n'souris'\n```\n\nPar conséquent, si on appelle l'élément d'indice 4 de notre liste, Python renverra un message d'erreur :\n\n```python\n>>> animaux[4]\nTraceback (innermost last):\n  File \"<stdin>\", line 1, in ?\nIndexError: list index out of range\n```\n\nN'oubliez pas ceci ou vous risquez d'obtenir des bugs inattendus !\n\n\n## Opération sur les listes",
          "N'oubliez pas ceci ou vous risquez d'obtenir des bugs inattendus !\n\n\n## Opération sur les listes\n\nTout comme les chaînes de caractères, les listes supportent l'opérateur `+` de concaténation, ainsi que l'opérateur `*` pour la duplication :\n\n```python\n>>> ani1 = [\"girafe\", \"tigre\"]\n>>> ani2 = [\"singe\", \"souris\"]\n>>> ani1 + ani2\n['girafe', 'tigre', 'singe', 'souris']\n>>> ani1 * 3\n['girafe', 'tigre', 'girafe', 'tigre', 'girafe', 'tigre']\n```\n\nL'opérateur `+` est très pratique pour concaténer deux listes.\n\nVous pouvez aussi utiliser la méthode `.append()` lorsque vous souhaitez ajouter un seul élément à la fin d'une liste.\n\nDans l'exemple suivant nous allons créer une liste vide :\n\n```python\n>>> a = []\n>>> a\n[]\n```\n\npuis lui ajouter deux éléments, l'un après l'autre, d'abord avec la concaténation :\n\n```python\n>>> a = a + [15]\n>>> a\n[15]\n>>> a = a + [-5]\n>>> a\n[15, -5]\n```\n\npuis avec la méthode `.append()` :",
          "puis lui ajouter deux éléments, l'un après l'autre, d'abord avec la concaténation :\n\n```python\n>>> a = a + [15]\n>>> a\n[15]\n>>> a = a + [-5]\n>>> a\n[15, -5]\n```\n\npuis avec la méthode `.append()` :\n\n```python\n>>> a.append(13)\n>>> a\n[15, -5, 13]\n>>> a.append(-3)\n>>> a\n[15, -5, 13, -3]\n```\n\nDans l'exemple ci-dessus, nous ajoutons des éléments à une liste en utilisant l'opérateur de concaténation `+` ou la méthode `.append()`. Nous vous conseillons dans ce cas précis d'utiliser la méthode `.append()` dont la syntaxe est plus élégante.\n\nNous reverrons en détail la méthode `.append()` dans le chapitre 11 *Plus sur les listes*.\n\n\n## Indiçage négatif\n\nLa liste peut également être indexée avec des nombres négatifs selon le modèle suivant :\n\n```text\nliste          : [\"girafe\", \"tigre\", \"singe\", \"souris\"]\nindice positif :        0        1        2         3\nindice négatif :       -4       -3       -2        -1\n```\n\nou encore :",
          "```text\nliste          : [\"girafe\", \"tigre\", \"singe\", \"souris\"]\nindice positif :        0        1        2         3\nindice négatif :       -4       -3       -2        -1\n```\n\nou encore :\n\n```text\nliste          : [\"A\", \"B\", \"C\", \"D\", \"E\", \"F\"]\nindice positif :   0    1    2    3    4    5\nindice négatif :  -6   -5   -4   -3   -2   -1\n```\n\nLes indices négatifs reviennent à compter à partir de la fin. Leur principal avantage est que vous pouvez accéder au dernier élément d'une liste à l'aide de l'indice `-1` sans pour autant connaître la longueur de cette liste. L'avant-dernier élément a lui l'indice `-2`, l'avant-avant dernier l'indice `-3`, etc.\n\n```python\n>>> animaux = [\"girafe\", \"tigre\", \"singe\", \"souris\"]\n>>> animaux[-1]\n'souris'\n>>> animaux[-2]\n'singe'\n```\n\nPour accéder au premier élément de la liste avec un indice négatif, il faut par contre connaître le bon indice :\n\n```python\n>>> animaux[-4]\n'girafe'\n```\n\nDans ce cas, on utilise plutôt `animaux[0]`.\n\n\n## Tranches",
          "```python\n>>> animaux[-4]\n'girafe'\n```\n\nDans ce cas, on utilise plutôt `animaux[0]`.\n\n\n## Tranches\n\nUn autre avantage des listes est la possibilité de sélectionner une partie d'une liste en utilisant un indiçage construit sur le modèle `[m:n+1]` pour récupérer tous les éléments, du émième au énième (de l'élément `m` inclus à l'élément `n+1` exclu). On dit alors qu'on récupère une **tranche** de la liste, par exemple :\n\n```python\n>>> animaux = [\"girafe\", \"tigre\", \"singe\", \"souris\"]\n>>> animaux[0:2]\n['girafe', 'tigre']\n>>> animaux[0:3]\n['girafe', 'tigre', 'singe']\n>>> animaux[0:]\n['girafe', 'tigre', 'singe', 'souris']\n>>> animaux[:]\n['girafe', 'tigre', 'singe', 'souris']\n>>> animaux[1:]\n['tigre', 'singe', 'souris']\n>>> animaux[1:-1]\n['tigre', 'singe']\n```\n\nNotez que lorsqu'aucun indice n'est indiqué à gauche ou à droite du symbole deux-points, Python prend par défaut tous les éléments depuis le début ou tous les éléments jusqu'à la fin respectivement.",
          "Notez que lorsqu'aucun indice n'est indiqué à gauche ou à droite du symbole deux-points, Python prend par défaut tous les éléments depuis le début ou tous les éléments jusqu'à la fin respectivement.\n\nOn peut aussi préciser le pas en ajoutant un symbole deux-points supplémentaire et en indiquant le pas par un entier.\n\n```python\n>>> animaux = [\"girafe\", \"tigre\", \"singe\", \"souris\"]\n>>> animaux[0:3:2]\n['girafe', 'singe']\n>>> x = [0, 1, 2, 3, 4, 5, 6, 7, 8, 9]\n>>> x\n[0, 1, 2, 3, 4, 5, 6, 7, 8, 9]\n>>> x[::1]\n[0, 1, 2, 3, 4, 5, 6, 7, 8, 9]\n>>> x[::2]\n[0, 2, 4, 6, 8]\n>>> x[::3]\n[0, 3, 6, 9]\n>>> x[1:6:3]\n[1, 4]\n```\n\nFinalement, on se rend compte que l'accès au contenu d'une liste fonctionne sur le modèle `liste[début:fin:pas]`.\n\n\n## Fonction `len()`\n\nL'instruction `len()` vous permet de connaître la longueur d'une liste, c'est-à-dire le nombre d'éléments que contient la liste. Voici un exemple d'utilisation :",
          "## Fonction `len()`\n\nL'instruction `len()` vous permet de connaître la longueur d'une liste, c'est-à-dire le nombre d'éléments que contient la liste. Voici un exemple d'utilisation :\n\n```python\n>>> animaux = [\"girafe\", \"tigre\", \"singe\", \"souris\"]\n>>> len(animaux)\n4\n>>> len([1, 2, 3, 4, 5, 6, 7, 8])\n8\n```\n\n\n## Les fonctions `range()` et `list()`\n\nL'instruction `range()` est une fonction spéciale en Python qui  génère des nombres entiers compris dans un intervalle. Lorsqu'elle est utilisée en combinaison avec la fonction `list()`, on obtient une liste d'entiers. Par exemple :\n\n```python\n>>> list(range(10))\n[0, 1, 2, 3, 4, 5, 6, 7, 8, 9]\n```\n\nLa commande `list(range(10))` a généré une liste contenant tous les nombres entiers de 0 inclus à 10 **exclu**. Nous verrons l'utilisation de la fonction `range()` toute seule dans le chapitre 5 *Boucles et comparaisons*.",
          "Dans l'exemple ci-dessus, la fonction `range()` a pris un argument, mais elle peut également prendre deux ou trois arguments, voyez plutôt :\n\n```python\n>>> list(range(0, 5))\n[0, 1, 2, 3, 4]\n>>> list(range(15, 20))\n[15, 16, 17, 18, 19]\n>>> list(range(0, 1000, 200))\n[0, 200, 400, 600, 800]\n>>> list(range(2, -2, -1))\n[2, 1, 0, -1]\n```\n\nL'instruction `range()` fonctionne sur le modèle `range([début,] fin[, pas])`. Les arguments entre crochets sont optionnels. Pour obtenir une liste de nombres entiers, il faut l'utiliser systématiquement avec la fonction `list()`.\n\nEnfin, prenez garde aux arguments optionnels par défaut (`0` pour `début` et `1` pour `pas`) :\n\n```python\n>>> list(range(10,0))\n[]\n```",
          "Enfin, prenez garde aux arguments optionnels par défaut (`0` pour `début` et `1` pour `pas`) :\n\n```python\n>>> list(range(10,0))\n[]\n```\n\nIci la liste est vide car Python a pris la valeur du pas par défaut qui est de 1. Ainsi, si on commence à 10 et qu'on avance par pas de 1, on ne pourra jamais atteindre 0. Python génère ainsi une liste vide. Pour éviter ça, il faudrait, par exemple, préciser un pas de -1 pour obtenir une liste d'entiers décroissants :\n\n```python\n>>> list(range(10,0,-1))\n[10, 9, 8, 7, 6, 5, 4, 3, 2, 1]\n```\n\n## Listes de listes\n\nPour finir, sachez qu'il est tout à fait possible de construire des listes de listes. Cette fonctionnalité peut parfois être très pratique. Par exemple :\n\n```python\n>>> enclos1 = [\"girafe\", 4]\n>>> enclos2 = [\"tigre\", 2]\n>>> enclos3 = [\"singe\", 5]\n>>> zoo = [enclos1, enclos2, enclos3]\n>>> zoo\n[['girafe', 4], ['tigre', 2], ['singe', 5]]\n```",
          "```python\n>>> enclos1 = [\"girafe\", 4]\n>>> enclos2 = [\"tigre\", 2]\n>>> enclos3 = [\"singe\", 5]\n>>> zoo = [enclos1, enclos2, enclos3]\n>>> zoo\n[['girafe', 4], ['tigre', 2], ['singe', 5]]\n```\n\nDans cet exemple, chaque sous-liste contient une catégorie d'animal et le nombre d'animaux pour chaque catégorie.\n\nPour accéder à un élément de la liste, on utilise l'indiçage habituel :\n\n```python\n>>> zoo[1]\n['tigre', 2]\n```\n\nPour accéder à un élément de la sous-liste, on utilise un double indiçage :\n\n```python\n>>> zoo[1][0]\n'tigre'\n>>> zoo[1][1]\n2\n```\n\nOn verra un peu plus loin qu'il existe en Python des dictionnaires qui sont également très pratiques pour stocker de l'information structurée. On verra aussi qu'il existe un module nommé *NumPy* qui permet de créer des listes ou des tableaux de nombres (vecteurs et matrices) et de les manipuler.\n\n## Minimum, maximum et somme d'une liste",
          "## Minimum, maximum et somme d'une liste\n\nLes fonctions `min()`, `max()` et `sum()` renvoient respectivement le minimum, le maximum et la somme d'une liste passée en argument.\n\n```python\n>>> liste = list(range(10))\n>>> liste\n[0, 1, 2, 3, 4, 5, 6, 7, 8, 9]\n>>> sum(liste)\n45\n>>> min(liste)\n0\n>>> max(liste)\n9\n```\n\nMême si en théorie ces fonctions peuvent prendre en argument une liste de *strings*, on les utilisera la plupart du temps avec des types numériques (liste d'entiers et / ou de *floats*). \n\nNous avions déjà croisé `min()`, `max()` dans le chapitre 2 *Variables*. On avait vu que ces deux fonctions pouvaient prendre plusieurs arguments entiers et / ou *floats*, par exemple :\n\n```python\n>>> min(3, 4)\n3\n```\n\nAttention toutefois à ne pas mélanger entiers et *floats* d'une part avec une liste d'autre part, car cela renvoie une erreur :",
          "```python\n>>> min(3, 4)\n3\n```\n\nAttention toutefois à ne pas mélanger entiers et *floats* d'une part avec une liste d'autre part, car cela renvoie une erreur :\n\n```python\n>>> min(liste, 3, 4)\nTraceback (most recent call last):\n  File \"<stdin>\", line 1, in <module>\nTypeError: '<' not supported between instances of 'int' and 'list'\n```\n\nSoit on passe plusieurs entiers et / ou *floats* en argument, soit on passe une liste unique.\n\n## Exercices\n\n*Conseil* : utilisez l'interpréteur Python.\n\n\n### Jours de la semaine\n\nConstituez une liste `semaine` contenant les 7 jours de la semaine.\n\n1. À partir de cette liste, comment récupérez-vous seulement les 5 premiers jours de la semaine d'une part, et ceux du week-end d'autre part ? Utilisez pour cela l'indiçage.\n2. Cherchez un autre moyen pour arriver au même résultat (*en utilisant un autre indiçage*).\n3. Trouvez deux manières pour accéder au dernier jour de la semaine.\n4. Inversez les jours de la semaine en une commande.\n\n\n### Saisons",
          "### Saisons\n\nCréez 4 listes `hiver`, `printemps`, `ete` et `automne` contenant les mois correspondants à ces saisons. Créez ensuite une liste `saisons` contenant les listes `hiver`, `printemps`, `ete` et `automne`. Prévoyez ce que renvoient les instructions suivantes, puis vérifiez-le dans l'interpréteur :\n\n1. `saisons[2]`\n2. `saisons[1][0]`\n3. `saisons[1:2]`\n4. `saisons[:][1]`. Comment expliquez-vous ce dernier résultat ?\n\n\n### Table de multiplication par 9\n\nAffichez la table de multiplication par 9 en une seule commande avec les instructions `range()` et `list()`.\n\n\n### Nombres pairs\n\nRépondez à la question suivante en une seule commande. Combien y a-t-il de nombres pairs dans l'intervalle `[2, 10000]` inclus ?"
         ],
         "marker": {
          "color": 3,
          "colorscale": [
           [
            0,
            "#440154"
           ],
           [
            0.1111111111111111,
            "#482878"
           ],
           [
            0.2222222222222222,
            "#3e4989"
           ],
           [
            0.3333333333333333,
            "#31688e"
           ],
           [
            0.4444444444444444,
            "#26828e"
           ],
           [
            0.5555555555555556,
            "#1f9e89"
           ],
           [
            0.6666666666666666,
            "#35b779"
           ],
           [
            0.7777777777777778,
            "#6ece58"
           ],
           [
            0.8888888888888888,
            "#b5de2b"
           ],
           [
            1,
            "#fde725"
           ]
          ],
          "opacity": 0.8,
          "size": 8
         },
         "mode": "markers",
         "name": "Listes",
         "type": "scatter",
         "x": [
          0.001805662177503109,
          -0.012496246956288815,
          0.00952653493732214,
          0.017139064148068428,
          0.006223397795110941,
          0.0009614332229830325,
          0.010000482201576233,
          -0.00495490524917841,
          0.015184042975306511,
          0.0016497496981173754,
          -0.005104882176965475,
          0.006030078046023846,
          0.01540386863052845,
          -0.01932326704263687
         ],
         "y": [
          0.03969797492027283,
          0.042242877185344696,
          0.027661383152008057,
          0.02649269998073578,
          0.048813898116350174,
          0.030380988493561745,
          0.02438870258629322,
          0.0315932035446167,
          0.010777149349451065,
          0.023667393252253532,
          0.024619827046990395,
          0.045430488884449005,
          0.022923868149518967,
          0.019933046773076057
         ]
        }
       ],
       "layout": {
        "autosize": false,
        "height": 500,
        "margin": {
         "b": 100,
         "l": 50,
         "pad": 10,
         "r": 50,
         "t": 100
        },
        "template": {
         "data": {
          "bar": [
           {
            "error_x": {
             "color": "#2a3f5f"
            },
            "error_y": {
             "color": "#2a3f5f"
            },
            "marker": {
             "line": {
              "color": "#E5ECF6",
              "width": 0.5
             },
             "pattern": {
              "fillmode": "overlay",
              "size": 10,
              "solidity": 0.2
             }
            },
            "type": "bar"
           }
          ],
          "barpolar": [
           {
            "marker": {
             "line": {
              "color": "#E5ECF6",
              "width": 0.5
             },
             "pattern": {
              "fillmode": "overlay",
              "size": 10,
              "solidity": 0.2
             }
            },
            "type": "barpolar"
           }
          ],
          "carpet": [
           {
            "aaxis": {
             "endlinecolor": "#2a3f5f",
             "gridcolor": "white",
             "linecolor": "white",
             "minorgridcolor": "white",
             "startlinecolor": "#2a3f5f"
            },
            "baxis": {
             "endlinecolor": "#2a3f5f",
             "gridcolor": "white",
             "linecolor": "white",
             "minorgridcolor": "white",
             "startlinecolor": "#2a3f5f"
            },
            "type": "carpet"
           }
          ],
          "choropleth": [
           {
            "colorbar": {
             "outlinewidth": 0,
             "ticks": ""
            },
            "type": "choropleth"
           }
          ],
          "contour": [
           {
            "colorbar": {
             "outlinewidth": 0,
             "ticks": ""
            },
            "colorscale": [
             [
              0,
              "#0d0887"
             ],
             [
              0.1111111111111111,
              "#46039f"
             ],
             [
              0.2222222222222222,
              "#7201a8"
             ],
             [
              0.3333333333333333,
              "#9c179e"
             ],
             [
              0.4444444444444444,
              "#bd3786"
             ],
             [
              0.5555555555555556,
              "#d8576b"
             ],
             [
              0.6666666666666666,
              "#ed7953"
             ],
             [
              0.7777777777777778,
              "#fb9f3a"
             ],
             [
              0.8888888888888888,
              "#fdca26"
             ],
             [
              1,
              "#f0f921"
             ]
            ],
            "type": "contour"
           }
          ],
          "contourcarpet": [
           {
            "colorbar": {
             "outlinewidth": 0,
             "ticks": ""
            },
            "type": "contourcarpet"
           }
          ],
          "heatmap": [
           {
            "colorbar": {
             "outlinewidth": 0,
             "ticks": ""
            },
            "colorscale": [
             [
              0,
              "#0d0887"
             ],
             [
              0.1111111111111111,
              "#46039f"
             ],
             [
              0.2222222222222222,
              "#7201a8"
             ],
             [
              0.3333333333333333,
              "#9c179e"
             ],
             [
              0.4444444444444444,
              "#bd3786"
             ],
             [
              0.5555555555555556,
              "#d8576b"
             ],
             [
              0.6666666666666666,
              "#ed7953"
             ],
             [
              0.7777777777777778,
              "#fb9f3a"
             ],
             [
              0.8888888888888888,
              "#fdca26"
             ],
             [
              1,
              "#f0f921"
             ]
            ],
            "type": "heatmap"
           }
          ],
          "heatmapgl": [
           {
            "colorbar": {
             "outlinewidth": 0,
             "ticks": ""
            },
            "colorscale": [
             [
              0,
              "#0d0887"
             ],
             [
              0.1111111111111111,
              "#46039f"
             ],
             [
              0.2222222222222222,
              "#7201a8"
             ],
             [
              0.3333333333333333,
              "#9c179e"
             ],
             [
              0.4444444444444444,
              "#bd3786"
             ],
             [
              0.5555555555555556,
              "#d8576b"
             ],
             [
              0.6666666666666666,
              "#ed7953"
             ],
             [
              0.7777777777777778,
              "#fb9f3a"
             ],
             [
              0.8888888888888888,
              "#fdca26"
             ],
             [
              1,
              "#f0f921"
             ]
            ],
            "type": "heatmapgl"
           }
          ],
          "histogram": [
           {
            "marker": {
             "pattern": {
              "fillmode": "overlay",
              "size": 10,
              "solidity": 0.2
             }
            },
            "type": "histogram"
           }
          ],
          "histogram2d": [
           {
            "colorbar": {
             "outlinewidth": 0,
             "ticks": ""
            },
            "colorscale": [
             [
              0,
              "#0d0887"
             ],
             [
              0.1111111111111111,
              "#46039f"
             ],
             [
              0.2222222222222222,
              "#7201a8"
             ],
             [
              0.3333333333333333,
              "#9c179e"
             ],
             [
              0.4444444444444444,
              "#bd3786"
             ],
             [
              0.5555555555555556,
              "#d8576b"
             ],
             [
              0.6666666666666666,
              "#ed7953"
             ],
             [
              0.7777777777777778,
              "#fb9f3a"
             ],
             [
              0.8888888888888888,
              "#fdca26"
             ],
             [
              1,
              "#f0f921"
             ]
            ],
            "type": "histogram2d"
           }
          ],
          "histogram2dcontour": [
           {
            "colorbar": {
             "outlinewidth": 0,
             "ticks": ""
            },
            "colorscale": [
             [
              0,
              "#0d0887"
             ],
             [
              0.1111111111111111,
              "#46039f"
             ],
             [
              0.2222222222222222,
              "#7201a8"
             ],
             [
              0.3333333333333333,
              "#9c179e"
             ],
             [
              0.4444444444444444,
              "#bd3786"
             ],
             [
              0.5555555555555556,
              "#d8576b"
             ],
             [
              0.6666666666666666,
              "#ed7953"
             ],
             [
              0.7777777777777778,
              "#fb9f3a"
             ],
             [
              0.8888888888888888,
              "#fdca26"
             ],
             [
              1,
              "#f0f921"
             ]
            ],
            "type": "histogram2dcontour"
           }
          ],
          "mesh3d": [
           {
            "colorbar": {
             "outlinewidth": 0,
             "ticks": ""
            },
            "type": "mesh3d"
           }
          ],
          "parcoords": [
           {
            "line": {
             "colorbar": {
              "outlinewidth": 0,
              "ticks": ""
             }
            },
            "type": "parcoords"
           }
          ],
          "pie": [
           {
            "automargin": true,
            "type": "pie"
           }
          ],
          "scatter": [
           {
            "fillpattern": {
             "fillmode": "overlay",
             "size": 10,
             "solidity": 0.2
            },
            "type": "scatter"
           }
          ],
          "scatter3d": [
           {
            "line": {
             "colorbar": {
              "outlinewidth": 0,
              "ticks": ""
             }
            },
            "marker": {
             "colorbar": {
              "outlinewidth": 0,
              "ticks": ""
             }
            },
            "type": "scatter3d"
           }
          ],
          "scattercarpet": [
           {
            "marker": {
             "colorbar": {
              "outlinewidth": 0,
              "ticks": ""
             }
            },
            "type": "scattercarpet"
           }
          ],
          "scattergeo": [
           {
            "marker": {
             "colorbar": {
              "outlinewidth": 0,
              "ticks": ""
             }
            },
            "type": "scattergeo"
           }
          ],
          "scattergl": [
           {
            "marker": {
             "colorbar": {
              "outlinewidth": 0,
              "ticks": ""
             }
            },
            "type": "scattergl"
           }
          ],
          "scattermapbox": [
           {
            "marker": {
             "colorbar": {
              "outlinewidth": 0,
              "ticks": ""
             }
            },
            "type": "scattermapbox"
           }
          ],
          "scatterpolar": [
           {
            "marker": {
             "colorbar": {
              "outlinewidth": 0,
              "ticks": ""
             }
            },
            "type": "scatterpolar"
           }
          ],
          "scatterpolargl": [
           {
            "marker": {
             "colorbar": {
              "outlinewidth": 0,
              "ticks": ""
             }
            },
            "type": "scatterpolargl"
           }
          ],
          "scatterternary": [
           {
            "marker": {
             "colorbar": {
              "outlinewidth": 0,
              "ticks": ""
             }
            },
            "type": "scatterternary"
           }
          ],
          "surface": [
           {
            "colorbar": {
             "outlinewidth": 0,
             "ticks": ""
            },
            "colorscale": [
             [
              0,
              "#0d0887"
             ],
             [
              0.1111111111111111,
              "#46039f"
             ],
             [
              0.2222222222222222,
              "#7201a8"
             ],
             [
              0.3333333333333333,
              "#9c179e"
             ],
             [
              0.4444444444444444,
              "#bd3786"
             ],
             [
              0.5555555555555556,
              "#d8576b"
             ],
             [
              0.6666666666666666,
              "#ed7953"
             ],
             [
              0.7777777777777778,
              "#fb9f3a"
             ],
             [
              0.8888888888888888,
              "#fdca26"
             ],
             [
              1,
              "#f0f921"
             ]
            ],
            "type": "surface"
           }
          ],
          "table": [
           {
            "cells": {
             "fill": {
              "color": "#EBF0F8"
             },
             "line": {
              "color": "white"
             }
            },
            "header": {
             "fill": {
              "color": "#C8D4E3"
             },
             "line": {
              "color": "white"
             }
            },
            "type": "table"
           }
          ]
         },
         "layout": {
          "annotationdefaults": {
           "arrowcolor": "#2a3f5f",
           "arrowhead": 0,
           "arrowwidth": 1
          },
          "autotypenumbers": "strict",
          "coloraxis": {
           "colorbar": {
            "outlinewidth": 0,
            "ticks": ""
           }
          },
          "colorscale": {
           "diverging": [
            [
             0,
             "#8e0152"
            ],
            [
             0.1,
             "#c51b7d"
            ],
            [
             0.2,
             "#de77ae"
            ],
            [
             0.3,
             "#f1b6da"
            ],
            [
             0.4,
             "#fde0ef"
            ],
            [
             0.5,
             "#f7f7f7"
            ],
            [
             0.6,
             "#e6f5d0"
            ],
            [
             0.7,
             "#b8e186"
            ],
            [
             0.8,
             "#7fbc41"
            ],
            [
             0.9,
             "#4d9221"
            ],
            [
             1,
             "#276419"
            ]
           ],
           "sequential": [
            [
             0,
             "#0d0887"
            ],
            [
             0.1111111111111111,
             "#46039f"
            ],
            [
             0.2222222222222222,
             "#7201a8"
            ],
            [
             0.3333333333333333,
             "#9c179e"
            ],
            [
             0.4444444444444444,
             "#bd3786"
            ],
            [
             0.5555555555555556,
             "#d8576b"
            ],
            [
             0.6666666666666666,
             "#ed7953"
            ],
            [
             0.7777777777777778,
             "#fb9f3a"
            ],
            [
             0.8888888888888888,
             "#fdca26"
            ],
            [
             1,
             "#f0f921"
            ]
           ],
           "sequentialminus": [
            [
             0,
             "#0d0887"
            ],
            [
             0.1111111111111111,
             "#46039f"
            ],
            [
             0.2222222222222222,
             "#7201a8"
            ],
            [
             0.3333333333333333,
             "#9c179e"
            ],
            [
             0.4444444444444444,
             "#bd3786"
            ],
            [
             0.5555555555555556,
             "#d8576b"
            ],
            [
             0.6666666666666666,
             "#ed7953"
            ],
            [
             0.7777777777777778,
             "#fb9f3a"
            ],
            [
             0.8888888888888888,
             "#fdca26"
            ],
            [
             1,
             "#f0f921"
            ]
           ]
          },
          "colorway": [
           "#636efa",
           "#EF553B",
           "#00cc96",
           "#ab63fa",
           "#FFA15A",
           "#19d3f3",
           "#FF6692",
           "#B6E880",
           "#FF97FF",
           "#FECB52"
          ],
          "font": {
           "color": "#2a3f5f"
          },
          "geo": {
           "bgcolor": "white",
           "lakecolor": "white",
           "landcolor": "#E5ECF6",
           "showlakes": true,
           "showland": true,
           "subunitcolor": "white"
          },
          "hoverlabel": {
           "align": "left"
          },
          "hovermode": "closest",
          "mapbox": {
           "style": "light"
          },
          "paper_bgcolor": "white",
          "plot_bgcolor": "#E5ECF6",
          "polar": {
           "angularaxis": {
            "gridcolor": "white",
            "linecolor": "white",
            "ticks": ""
           },
           "bgcolor": "#E5ECF6",
           "radialaxis": {
            "gridcolor": "white",
            "linecolor": "white",
            "ticks": ""
           }
          },
          "scene": {
           "xaxis": {
            "backgroundcolor": "#E5ECF6",
            "gridcolor": "white",
            "gridwidth": 2,
            "linecolor": "white",
            "showbackground": true,
            "ticks": "",
            "zerolinecolor": "white"
           },
           "yaxis": {
            "backgroundcolor": "#E5ECF6",
            "gridcolor": "white",
            "gridwidth": 2,
            "linecolor": "white",
            "showbackground": true,
            "ticks": "",
            "zerolinecolor": "white"
           },
           "zaxis": {
            "backgroundcolor": "#E5ECF6",
            "gridcolor": "white",
            "gridwidth": 2,
            "linecolor": "white",
            "showbackground": true,
            "ticks": "",
            "zerolinecolor": "white"
           }
          },
          "shapedefaults": {
           "line": {
            "color": "#2a3f5f"
           }
          },
          "ternary": {
           "aaxis": {
            "gridcolor": "white",
            "linecolor": "white",
            "ticks": ""
           },
           "baxis": {
            "gridcolor": "white",
            "linecolor": "white",
            "ticks": ""
           },
           "bgcolor": "#E5ECF6",
           "caxis": {
            "gridcolor": "white",
            "linecolor": "white",
            "ticks": ""
           }
          },
          "title": {
           "x": 0.05
          },
          "xaxis": {
           "automargin": true,
           "gridcolor": "white",
           "linecolor": "white",
           "ticks": "",
           "title": {
            "standoff": 15
           },
           "zerolinecolor": "white",
           "zerolinewidth": 2
          },
          "yaxis": {
           "automargin": true,
           "gridcolor": "white",
           "linecolor": "white",
           "ticks": "",
           "title": {
            "standoff": 15
           },
           "zerolinecolor": "white",
           "zerolinewidth": 2
          }
         }
        },
        "title": {
         "text": "2D Scatter Plot of Chapters"
        },
        "width": 800,
        "xaxis": {
         "title": {
          "text": "x"
         }
        },
        "yaxis": {
         "title": {
          "text": "y"
         }
        }
       }
      }
     },
     "metadata": {},
     "output_type": "display_data"
    }
   ],
   "source": [
    "# Display the 2D scatter plot of Categories using Plotly\n",
    "fig = go.Figure()\n",
    "\n",
    "for i, chapter in enumerate(chapters_list):\n",
    "    sub_matrix = np.array(df_chapter[df_chapter[\"chapter\"] == chapter][\"chunk_content_embedding\"].to_list())\n",
    "    x = sub_matrix[:, 0] # first dimension of the embeddings\n",
    "    y = sub_matrix[:, 1] # second dimension of the embeddings\n",
    "\n",
    "    # get the question text for hover\n",
    "    hover_text = df_chapter[df_chapter[\"chapter\"] == chapter][\"chunk_content\"]\n",
    "\n",
    "    fig.add_trace(\n",
    "        go.Scatter(\n",
    "            x=x,\n",
    "            y=y,\n",
    "            mode=\"markers\",\n",
    "            marker=dict(size=8, color=i, colorscale=\"Viridis\", opacity=0.8),\n",
    "            name=chapter,\n",
    "            hovertext=hover_text,\n",
    "            hoverinfo=\"text\",\n",
    "        )\n",
    "    )\n",
    "\n",
    "fig.update_layout(\n",
    "    autosize=False,\n",
    "    title=\"2D Scatter Plot of Chapters\",\n",
    "    width=800,\n",
    "    height=500,\n",
    "    margin=dict(l=50, r=50, b=100, t=100, pad=10),\n",
    "    xaxis=dict(title=\"x\"),\n",
    "    yaxis=dict(title=\"y\"),\n",
    ")\n",
    "\n",
    "fig.show()"
   ]
  },
  {
   "cell_type": "markdown",
   "metadata": {},
   "source": [
    "### Embedding Projection After Dimensionality Reduction"
   ]
  },
  {
   "cell_type": "code",
   "execution_count": 60,
   "metadata": {},
   "outputs": [
    {
     "data": {
      "image/png": "[encoded data removed]",
      "text/plain": [
       "<Figure size 1000x1000 with 1 Axes>"
      ]
     },
     "metadata": {},
     "output_type": "display_data"
    }
   ],
   "source": [
    "# Display the 2D scatter plot of Categories using Matplotlib\n",
    "fig = plt.figure(figsize=(10, 10))\n",
    "\n",
    "for chapter in chapters_list:\n",
    "    plt.scatter(df_chapter[df_chapter[\"chapter\"] == chapter][\"chunk_embedding_pca\"].apply(lambda x: x[0]), \n",
    "                df_chapter[df_chapter[\"chapter\"] == chapter][\"chunk_embedding_pca\"].apply(lambda x: x[1]), \n",
    "                label=chapter)\n",
    "    \n",
    "plt.xlabel(\"x\")\n",
    "plt.ylabel(\"y\")\n",
    "plt.title(\"2D Scatter Plot of Chapters\")\n",
    "plt.legend()\n",
    "plt.show()"
   ]
  },
  {
   "cell_type": "code",
   "execution_count": 61,
   "metadata": {},
   "outputs": [
    {
     "data": {
      "application/vnd.plotly.v1+json": {
       "config": {
        "plotlyServerURL": "https://plot.ly"
       },
       "data": [
        {
         "hoverinfo": "text",
         "hovertext": [
          "## La fonction `print()`\n\nDans le chapitre 1, nous avons rencontré la fonction `print()` qui affiche une chaîne de caractères (le fameux `\"Hello world!\"`). En fait, la fonction `print()` affiche l'argument qu'on lui passe entre parenthèses **et** un retour à ligne. Ce retour à ligne supplémentaire est ajouté par défaut. Si toutefois, on ne veut pas afficher ce retour à la ligne, on peut utiliser l'argument par « mot-clé » `end` :\n\n```python\n>>> print(\"Hello world!\")\nHello world!\n>>> print(\"Hello world!\", end=\"\")\nHello world!>>>\n```\n\nLigne 1. On a utilisé l'instruction `print()` classiquement en passant la chaîne de caractères `\"Hello world!\"` en argument.\n\nLigne 3. On a ajouté un second argument `end=\"\"`, en précisant le mot-clé `end`. Nous aborderons les arguments par mot-clé dans le chapitre 9 *Fonctions*. Pour l'instant, dites-vous que cela modifie le comportement par défaut des fonctions.",
          "Ligne 4. L'effet de l'argument `end=\"\"` est que les trois chevrons `>>>` se retrouvent collés après la chaîne de caractères `\"Hello world!\"`.\n\nUne autre manière de s'en rendre compte est d'utiliser deux fonctions `print()` à la suite. Dans la portion de code suivante, le caractère « `;` » sert à séparer plusieurs instructions Python sur une même ligne :\n\n```python\n>>> print(\"Hello\") ; print(\"Joe\")\nHello\nJoe\n>>> print(\"Hello\", end=\"\") ; print(\"Joe\")\nHelloJoe\n>>> print(\"Hello\", end=\" \") ; print(\"Joe\")\nHello Joe\n```\n\nLa fonction `print()` peut également afficher le contenu d'une variable quel que soit son type. Par exemple, pour un entier :\n\n```python\n>>> var = 3\n>>> print(var)\n3\n```\n\nIl est également possible d'afficher le contenu de plusieurs variables (quel que soit leur type) en les séparant par des virgules :\n\n```python\n>>> x = 32\n>>> nom = \"John\"\n>>> print(nom, \"a\", x, \"ans\")\nJohn a 32 ans\n```",
          "```python\n>>> x = 32\n>>> nom = \"John\"\n>>> print(nom, \"a\", x, \"ans\")\nJohn a 32 ans\n```\n\nPython a écrit une phrase complète en remplaçant les variables `x` et `nom` par leur contenu. Vous remarquerez que pour afficher plusieurs éléments de texte sur une seule ligne, nous avons utilisé le séparateur « `,` » entre les différents éléments. Python a également ajouté un espace à chaque fois que l'on utilisait le séparateur « `,` ». On peut modifier ce comportement en passant à la fonction `print()` l'argument par mot-clé `sep` :\n\n```python\n>>> x = 32\n>>> nom = \"John\"\n>>> print(nom, \"a\", x, \"ans\", sep=\"\")\nJohna32ans\n>>> print(nom, \"a\", x, \"ans\", sep=\"-\")\nJohn-a-32-ans\n```\n\nPour afficher deux chaînes de caractères l'une à côté de l'autre, sans espace, on peut soit les concaténer, soit utiliser l'argument par mot-clé `sep` avec une chaîne de caractères vide :",
          "Pour afficher deux chaînes de caractères l'une à côté de l'autre, sans espace, on peut soit les concaténer, soit utiliser l'argument par mot-clé `sep` avec une chaîne de caractères vide :\n\n```python\n>>> ani1 = \"chat\"\n>>> ani2 = \"souris\"\n>>> print(ani1, ani2)\nchat souris\n>>> print(ani1 + ani2)\nchatsouris\n>>> print(ani1, ani2, sep=\"\")\nchatsouris\n```\n\n## Écriture formatée\n\n### Définitions\n\nQue signifie « écriture formatée » ?\n\nopen-box-def\n\nL'écriture formatée est un mécanisme permettant d'afficher des variables avec un certain format, par exemple justifiées à gauche ou à droite, ou encore avec un certain nombre de décimales pour les *floats*. L'écriture formatée est incontournable lorsqu'on veut créer des fichiers organisés en « belles colonnes » comme par exemple les fichiers PDB (pour en savoir plus sur ce format, reportez-vous à l'annexe A *Quelques formats de données rencontrés en biologie*).\n\nclose-box-def",
          "close-box-def\n\nDepuis la version 3.6, Python a introduit les *f-strings* pour mettre en place l'écriture formatée que nous allons décrire en détail dans cette rubrique. Il existe d'autres  manières pour formatter des chaînes de caractères qui étaient utilisées avant la version 3.6, nous en avons mis un rappel bref dans la rubrique suivante. Toutefois, nous conseillons vivement l'utilisation des *f-strings* si vous débutez l'apprentissage de Python.\n\nQue signifie *f-string* ?\n\nopen-box-def\n\n*f-string* est le diminutif de *formatted string literals*. Mais encore ? Dans le chapitre précédent, nous avons vu les chaînes de caractères ou encore *strings* qui étaient représentées par un texte entouré de guillemets simples ou doubles. Par exemple :\n\n```python\n\"Ceci est une chaîne de caractères\"\n```\n\nL'équivalent en *f-string* est tout simplement la même chaîne de caractères précédée du caractère `f` **sans espace** entre les deux :\n\n```python\nf\"Ceci est une chaîne de caractères\"\n```",
          "L'équivalent en *f-string* est tout simplement la même chaîne de caractères précédée du caractère `f` **sans espace** entre les deux :\n\n```python\nf\"Ceci est une chaîne de caractères\"\n```\n\nCe caractère `f` avant les guillemets va indiquer à Python qu'il s'agit d'une *f-string* permettant de mettre en place le mécanisme de l'écriture formatée, contrairement à une *string* normale.\n\nclose-box-def\n\nNous expliquons plus en détail dans le chapitre 10 *Plus sur les chaînes de caractères* pourquoi on doit mettre ce `f` et le mécanisme sous-jacent.\n\n\n### Prise en main des *f-strings*\n\nLes *f-strings* permettent une meilleure organisation de l'affichage des variables. Reprenons l'exemple ci-dessus à propos de notre ami John :\n\n```python\n>>> x = 32\n>>> nom = \"John\"\n>>> print(f\"{nom} a {x} ans\")\nJohn a 32 ans\n```",
          "```python\n>>> x = 32\n>>> nom = \"John\"\n>>> print(f\"{nom} a {x} ans\")\nJohn a 32 ans\n```\n\nIl suffit de passer un nom de variable au sein de chaque couple d'accolades et Python les remplace par leur contenu ! Première remarque, la syntaxe apparait plus lisible que l'équivalent vu ci-avant `print(nom, \"a\", x, \"ans\")`. Bien sûr, il ne faut pas omettre le `f` avant le premier guillemet, sinon Python prendra cela pour une chaîne de caractères normale et ne mettra pas en place ce mécanisme de remplacement :\n\n```python\n>>> print(\"{nom} a {x} ans\")\n{nom} a {x} ans\n```\n\nopen-box-rem\n\nUne variable est utilisable plus d'une fois pour une *f-string* donnée :\n\n```python\n>>> var = \"to\"\n>>> print(f\"{var} et {var} font {var}{var}\")\nto et to font toto\n>>>\n```\n\nclose-box-rem\n\nEnfin, il est possible de mettre entre les accolades des valeurs numériques ou des chaînes de caractères :",
          "close-box-rem\n\nEnfin, il est possible de mettre entre les accolades des valeurs numériques ou des chaînes de caractères :\n\n```python\n>>> print(f\"J'affiche l'entier {10} et le float {3.14}\")\nJ'affiche l'entier 10 et le float 3.14\n>>> print(f\"J'affiche la chaine {'Python'}\")\nJ'affiche la chaine Python\n```\n\nMême si cela ne présente que peu d'intérêt pour l'instant, il s'agit d'une commande Python parfaitement valide. Nous verrons des exemples plus pertinents par la suite. Cela fonctionne avec n'importe quel type de variable (entiers, chaînes de caractères, *floats*, etc.). Attention toutefois pour les chaînes de caractères, utilisez des guillemets simples au sein des accolades si vous définissez votre *f-string* avec des guillemets doubles.\n\n### Spécification de format\n\nLes *f-strings* permettent de remplacer des variables au sein d'une chaîne de caractères. On peut également spécifier le format de leur affichage.",
          "### Spécification de format\n\nLes *f-strings* permettent de remplacer des variables au sein d'une chaîne de caractères. On peut également spécifier le format de leur affichage.\n\nPrenons un exemple. Imaginez maintenant que vous vouliez calculer, puis afficher, la proportion de GC d'un génome. La proportion de GC s'obtient comme la somme des bases Guanine (G) et Cytosine (C) divisée par le nombre total de bases (A, T, C, G) du génome considéré. Si on a, par exemple, 4500 bases G et 2575 bases C, pour un total de 14800 bases, vous pourriez procéder comme suit (notez bien l'utilisation des parenthèses pour gérer les priorités des opérateurs) :\n\n```python\n>>> prop_GC = (4500 + 2575) / 14800\n>>> print(\"La proportion de GC est\", prop_GC)\nLa proportion de GC est 0.4780405405405405\n```",
          "```python\n>>> prop_GC = (4500 + 2575) / 14800\n>>> print(\"La proportion de GC est\", prop_GC)\nLa proportion de GC est 0.4780405405405405\n```\n\nLe résultat obtenu présente trop de décimales (seize dans le cas présent). Pour écrire le résultat plus lisiblement, vous pouvez spécifier dans les accolades `{}` le format qui vous intéresse. Dans le cas présent, vous voulez formater un *float* pour l'afficher avec deux puis trois décimales :\n\n```python\n>>> print(f\"La proportion de GC est {prop_GC:.2f}\")\nLa proportion de GC est 0.48\n>>> print(f\"La proportion de GC est {prop_GC:.3f}\")\nLa proportion de GC est 0.478\n```\n\nDétaillons le contenu des accolades de la première ligne (`{prop_GC:.2f}`) :\n\n- D'abord on a le nom de la variable à formatter, `prop_GC`, c'est indispensable avec les *f-strings*.\n\n- Ensuite on rencontre les deux-points `:`, ceux-ci indiquent que ce qui suit va spécifier le format dans lequel on veut afficher la variable `prop_GC`.",
          "- Ensuite on rencontre les deux-points `:`, ceux-ci indiquent que ce qui suit va spécifier le format dans lequel on veut afficher la variable `prop_GC`.\n\n- À droite des deux-points on trouve `.2f` qui indique ce format : la lettre `f` indique qu'on souhaite afficher la variable sous forme d'un *float*, les caractères `.2` indiquent la précision voulue, soit ici deux chiffres après la virgule. \n\nNotez enfin que le formatage avec `.xf` (`x` étant un entier positif) renvoie un résultat arrondi.\n\nVous pouvez aussi formater des entiers avec la lettre `d` (ici `d` veut dire *decimal integer*) :\n\n```python\n>>> nb_G = 4500\n>>> print(f\"Ce génome contient {nb_G:d} guanines\")\nCe génome contient 4500 guanines\n```\n\nou mettre plusieurs nombres dans une même chaîne de caractères.",
          "```python\n>>> nb_G = 4500\n>>> print(f\"Ce génome contient {nb_G:d} guanines\")\nCe génome contient 4500 guanines\n```\n\nou mettre plusieurs nombres dans une même chaîne de caractères.\n\n```python\n>>> nb_G = 4500\n>>> nb_C = 2575\n>>> print(f\"Ce génome contient {nb_G:d} G et {nb_C:d} C, soit une prop de GC de {prop_GC:.2f}\")\nCe génome contient 4500 G et 2575 C, soit une prop de GC de 0.48\n>>> perc_GC = prop_GC * 100\n>>> print(f\"Ce génome contient {nb_G:d} G et {nb_C:d} C, soit un %GC de {perc_GC:.2f} %\")\nCe génome contient 4500 G et 2575 C, soit un %GC de 47.80 %\n```\n\nEnfin, il est possible de préciser sur combien de caractères vous voulez qu'un résultat soit écrit et comment se fait l'alignement (à gauche, à droite ou centré). Dans la portion de code suivante, le caractère `;` sert de séparateur entre les instructions sur une même ligne :",
          "```python\n>>> print(10) ; print(1000)\n10\n1000\n>>> print(f\"{10:>6d}\") ; print(f\"{1000:>6d}\")\n    10\n  1000\n>>> print(f\"{10:<6d}\") ; print(f\"{1000:<6d}\")\n10    \n1000  \n>>> print(f\"{10:^6d}\") ; print(f\"{1000:^6d}\")\n  10  \n 1000 \n>>> print(f\"{10:*^6d}\") ; print(f\"{1000:*^6d}\")\n**10**\n*1000*\n>>> print(f\"{10:0>6d}\") ; print(f\"{1000:0>6d}\")\n000010\n001000\n```\n\nNotez que `>` spécifie un alignement à droite, `<` spécifie un alignement à gauche et `^` spécifie un alignement centré. Il est également possible d'indiquer le caractère qui servira de remplissage lors des alignements (l'espace est le caractère par défaut).\n\nCe formatage est également possible sur des chaînes de caractères avec la lettre `s` (comme *string*) :\n\n```python\n>>> print(\"atom HN\") ; print(\"atom HDE1\")\natom HN\natom HDE1\n>>> print(f\"atom {'HN':>4s}\") ; print(f\"atom {'HDE1':>4s}\")\natom   HN\natom HDE1\n```",
          "```python\n>>> print(\"atom HN\") ; print(\"atom HDE1\")\natom HN\natom HDE1\n>>> print(f\"atom {'HN':>4s}\") ; print(f\"atom {'HDE1':>4s}\")\natom   HN\natom HDE1\n```\n\nVous voyez tout de suite l'énorme avantage de l'écriture formatée. Elle vous permet d'écrire en colonnes parfaitement alignées. Nous verrons que ceci est très pratique si l'on veut écrire les coordonnées des atomes d'une molécule au format PDB (pour en savoir plus sur ce format, reportez-vous à l'annexe A *Quelques formats de données rencontrés en biologie*).\n\nPour les *floats*, il est possible de combiner le nombre de caractères à afficher avec le nombre de décimales :\n\n```python\n>>> print(f\"{perc_GC:7.3f}\")\n 47.804\n>>> print(f\"{perc_GC:10.3f}\")\n    47.804\n```",
          "```python\n>>> print(f\"{perc_GC:7.3f}\")\n 47.804\n>>> print(f\"{perc_GC:10.3f}\")\n    47.804\n```\n\nL'instruction `7.3f` signifie que l'on souhaite écrire un *float* avec 3 décimales et formaté sur 7 caractères (par défaut justifiés à droite). L'instruction `10.3f` fait la même chose sur 10 caractères. Remarquez que le séparateur décimal `.` compte pour un caractère. De même, si on avait un nombre négatif, le signe `-` compterait aussi pour un caractère.\n\n### Autres détails sur les *f-strings*\n\nSi on veut afficher des accolades littérales avec les *f-strings*, il faut les doubler pour échapper au formatage :\n\n```python\n>>> print(f\"Accolades littérales {{}} ou {{ ou }} et pour le formatage {10}\")\nAccolades littérales {} ou { ou } et pour le formatage 10\n```\n\nUne remarque importante, si on ne met pas de variable à formater entre les accolades dans une *f-string*, cela conduit à une erreur :",
          "Une remarque importante, si on ne met pas de variable à formater entre les accolades dans une *f-string*, cela conduit à une erreur :\n\n```python\n>>> print(f\"accolades sans variable {}\")\n  File \"<stdin>\", line 1\nSyntaxError: f-string: empty expression not allowed\n```\n\nEnfin, il est important de bien comprendre qu'une *f-string* est indépendante de la fonction `print()`. Si on donne une *f-string* à la fonction `print()`, Python évalue d'abord la *f-string* et c'est la chaîne de caractères qui en résulte qui est affichée à l'écran. Tout comme dans l'instruction `print(5*5)`, c'est d'abord la multiplication (`5*5`) qui est évaluée, puis son résultat qui est affiché à l'écran. On peut s'en rendre compte de la manière suivante dans l'interpréteur :\n\n```python\n>>> f\"{perc_GC:10.3f}\"\n'    47.804'\n>>> type(f\"{perc_GC:10.3f}\")\n<class 'str'>\n```\n\nPython considère le résultat de l'instruction `f\"{perc_GC:10.3f}\"` comme une chaîne de caractères et la fonction `type()` nous le confirme.",
          "Python considère le résultat de l'instruction `f\"{perc_GC:10.3f}\"` comme une chaîne de caractères et la fonction `type()` nous le confirme.\n\n### Expressions dans les *f-strings*\n\nUne fonctionnalité extrêmement puissante des *f-strings* est de supporter des expressions Python au sein des accolades. Ainsi, il est possible d'y mettre directement une opération ou encore un appel à une fonction :\n\n```python\n>>> print(f\"Le résultat de 5 * 5 vaut {5 * 5}\")\nLe résultat de 5 * 5 vaut 25\n>>> print(f\"Résultat d'une opération avec des floats : {(4.1 * 6.7)}\")\nRésultat d'une opération avec des floats : 27.47\n>>> print(f\"Le minimum est {min(1, -2, 4)}\")\nLe minimum est -2\n>>> entier = 2\n>>> print(f\"Le type de {entier} est {type(entier)}\")\nLe type de 2 est <class 'int'>\n```\n\nNous aurons l'occasion de revenir sur cette fonctionnalité au fur et à mesure de ce cours.",
          "Nous aurons l'occasion de revenir sur cette fonctionnalité au fur et à mesure de ce cours.\n\nLes possibilités offertes par les *f-strings* sont nombreuses. Pour vous y retrouver dans les différentes options de formatage, nous vous conseillons de consulter ce [mémo](https://fstring.help/cheat/) (en anglais).\n\n\n## Écriture scientifique\n\nPour les nombres très grands ou très petits, l'écriture formatée permet d'afficher un nombre en notation scientifique (sous forme de puissance de 10) avec la lettre `e` :\n\n```python\n>>> print(f\"{1_000_000_000:e}\")\n1.000000e+09\n>>> print(f\"{0.000_000_001:e}\")\n1.000000e-09\n```\n\nIl est également possible de définir le nombre de chiffres après la virgule. Dans l'exemple ci-dessous, on affiche un nombre avec aucun, 3 et 6 chiffres après la virgule :\n\n```python\n>>> avogadro_number = 6.022_140_76e23\n>>> print(f\"{avogadro_number:.0e}\")\n6e+23\n>>> print(f\"{avogadro_number:.3e}\")\n6.022e+23\n>>> print(f\"{avogadro_number:.6e}\")\n6.022141e+23\n```",
          "```python\n>>> avogadro_number = 6.022_140_76e23\n>>> print(f\"{avogadro_number:.0e}\")\n6e+23\n>>> print(f\"{avogadro_number:.3e}\")\n6.022e+23\n>>> print(f\"{avogadro_number:.6e}\")\n6.022141e+23\n```\n\n\n## Ancienne méthode de formatage des chaînes de caractères\n\n*Conseil* : Pour les débutants, tout ce qui est écrit dans cette rubrique n'est pas à retenir.\n\nDans les premières versions de Python jusqu'à la 2.6, il fallait utiliser l'opérateur `%`, puis de la version 2.7 jusqu'à la 3.5 il était plutôt conseillé d'utiliser la méthode `.format()` (voir la rubrique suivante pour la définition du mot « méthode »). Même si les *f-strings* sont devenues la manière conseillée pour mettre en place l'écriture formatée, ces deux anciennes manières, sont encore pleinement compatibles avec les versions modernes de Python.",
          "Même si elle fonctionne encore, la première manière avec l'opérateur `%` est maintenant clairement déconseillée pour un certain nombre de [raisons](https://docs.python.org/fr/3/library/stdtypes.html?highlight=sprintf#printf-style-string-formatting). Néanmoins, nous rappelons ci-dessous son fonctionnement, car il se peut que vous tombiez dessus dans d'anciens livres ou si vous lisez de vieux programmes Python.\n\nLa deuxième manière avec la méthode `.format()` est encore largement utilisée et reste tout à fait valide. Elle est clairement plus puissante et évite un certain nombre de désagréments par rapport à l'opérateur `%`. Vous la croiserez sans doute très fréquemment dans des programmes et ouvrages récents. Heureusement elle a un fonctionnement relativement proche des *f-strings*, donc vous ne serez pas totalement perdus !\n\nEnfin, nous indiquons à la fin de cette rubrique nos conseils sur quelle méthode utiliser.\n\n### L'opérateur `%`",
          "Enfin, nous indiquons à la fin de cette rubrique nos conseils sur quelle méthode utiliser.\n\n### L'opérateur `%`\n\nOn a vu avec les entiers que l'opérateur `%` ou *modulo* renvoyait le reste d'une division entière. Cet opérateur existe aussi pour les chaînes de caractères mais il met en place l'écriture formatée. En voici un exemple :\n\n```python\n>>> x = 32\n>>> nom = \"John\"\n>>> print(\"%s a %d ans\" % (nom, x))\nJohn a 32 ans\n>>> nb_G = 4500\n>>> nb_C = 2575\n>>> prop_GC = (nb_G + nb_C)/14800\n>>> print(\"On a %d G et %d C -> prop GC = %.2f\" % (nb_G, nb_C, prop_GC))\nOn a 4500 G et 2575 C -> prop GC = 0.48\n```\n\nLa syntaxe est légèrement différente. Le symbole `%` est d'abord appelé dans la chaîne de caractères (dans l'exemple ci-dessus `%d`, `%d` et `%.2f`) pour :",
          "La syntaxe est légèrement différente. Le symbole `%` est d'abord appelé dans la chaîne de caractères (dans l'exemple ci-dessus `%d`, `%d` et `%.2f`) pour :\n\n- Désigner l'endroit où sera placée la variable dans la chaîne de caractères.\n- Préciser le type de variable à formater, `d` pour un entier (`i` fonctionne également) ou `f` pour un *float*.\n- Éventuellement pour indiquer le format voulu. Ici `.2` signifie une précision de deux décimales.\n\nLe signe `%` est rappelé une seconde fois (`% (nb_G, nb_C, prop_GC)`) pour indiquer les variables à formater.\n\n### La méthode `.format()`\n\nDepuis la version 2.7 de Python, la méthode `.format()` (voir la rubrique suivante pour la définition d'une méthode) a apporté une nette amélioration pour mettre en place l'écriture formatée. Celle-ci fonctionne de la manière suivante :",
          "```python\n>>> x = 32\n>>> nom = \"John\"\n>>> print(\"{} a {} ans\".format(nom, x))\nJohn a 32 ans\n>>> nb_G = 4500\n>>> nb_C = 2575\n>>> prop_GC = (nb_G + nb_C)/14800\n>>> print(\"On a {} G et {} C -> prop GC = {:.2f}\".format(nb_G, nb_C, prop_GC))\nOn a 4500 G et 2575 C -> prop GC = 0.48\n```\n\n- Dans la chaîne de caractères, les accolades vides `{}` précisent l'endroit où le contenu de la variable doit être inséré.\n- Juste après la chaîne de caractères, l'instruction `.format(nom, x)` fournit la liste des variables à insérer, d'abord la variable `nom` puis la variable `x`. \n- On peut éventuellement préciser le formatage en mettant un caractère deux-points `:` puis par exemple ici `.2f` qui signifie 2 chiffres après la virgule.\n- La méthode `.format()` agit sur la chaîne de caractères à laquelle elle est attachée par le point.",
          "Tout ce que nous avons vu avec les *f-strings* sur la manière de formatter l'affichage d'une variable (après les `:` au sein des accolades) est identique avec la méthode `.format()`. Par exemple `{:.2f}`, `{:0>6d}`, `{:.6e}`, etc., fonctionneront de la même manière. La différence notable est qu'on ne met pas directement le nom de la variable au sein des accolades. Comme pour l'opérateur `%`, c'est l'emplacement dans les arguments passés à la méthode `.format()` qui dicte quelle variable doit être remplacée. Par exemple, dans `\"{} {} {}\".format(bidule, machin, truc)`, les premières accolades remplaceront la variable `bidule`, les deuxièmes la variable `machin`, les troisièmes la variable `truc`.",
          "Le formattage avec la méthode `.format()` se rapproche de la syntaxe des *f-strings* (accolades, deux-points), mais présente l'inconvénient -- comme avec l'opérateur `%` -- de devoir mettre la liste des variables tout à la fin, alourdissant ainsi la syntaxe. En effet, dans l'exemple avec la proportion de GC, la ligne équivalente avec une *f-string* apparait tout de même plus simple à lire :\n\n```python\n>>> print(f\"On a {nb_G} G et {nb_C} C -> prop GC = {prop_GC:.2f}\")\nOn a 4500 G et 2575 C -> prop GC = 0.48\n```\n\nopen-box-adv",
          "```python\n>>> print(f\"On a {nb_G} G et {nb_C} C -> prop GC = {prop_GC:.2f}\")\nOn a 4500 G et 2575 C -> prop GC = 0.48\n```\n\nopen-box-adv\n\nPour conclure, ces deux anciennes façons de formater une chaîne de caractères avec l'opérateur `%` ou la méthode `.format()` vous sont présentées à titre d'information. La première avec l'opérateur `%` est clairement déconseillée. La deuxième avec la méthode `.format()` est encore tout à fait valable. Si vous débutez Python, nous vous conseillons fortement d'apprendre et d'utiliser les *f-strings*. C'est ce que vous rencontrerez dans la suite de ce cours. Si vous connaissez déjà Python et que vous utilisez la méthode `.format()`, nous vous conseillons de passer aux *f-strings*. Depuis que nous les avons découvertes, aucun retour n'est envisageable pour nous tant elles sont puissantes et plus claires à utiliser !",
          "Enfin, si vous souhaitez aller plus loin, voici deux articles (en anglais) très bien faits sur le site *RealPython*: sur l'[écriture formatée](https://realpython.com/python-string-formatting) et sur les [*f-strings*](https://realpython.com/python-f-strings/)\n\nclose-box-adv\n\n## Note sur le vocabulaire et la syntaxe\n\nRevenons quelques instants sur la notion de **méthode** abordée dans ce chapitre avec `.format()`. En Python, on peut considérer chaque variable comme un objet sur lequel on peut appliquer des méthodes. Une méthode est simplement une fonction qui utilise et/ou agit sur l'objet lui-même, les deux étant connectés par un point. La syntaxe générale est de la forme `objet.méthode()`.\n\nDans l'exemple suivant :\n\n```python\n>>> \"Joe a {} ans\".format(20)\n'Joe a 20 ans'\n```\n\nla méthode `.format()` est liée à `\"Joe a {} ans\"` qui est un objet de type chaîne de caractères. La méthode renvoie une nouvelle chaîne de caractères avec le bon formatage (ici, `'Joe a 20 ans'`).",
          "la méthode `.format()` est liée à `\"Joe a {} ans\"` qui est un objet de type chaîne de caractères. La méthode renvoie une nouvelle chaîne de caractères avec le bon formatage (ici, `'Joe a 20 ans'`).\n\nNous aurons de nombreuses occasions de revoir cette notation `objet.méthode()`.\n\n\n## Exercices\n\n*Conseil* : utilisez l'interpréteur Python pour les exercices 2 à 5.\n\n\n### Affichage dans l'interpréteur et dans un programme\n\nOuvrez l'interpréteur Python et tapez l'instruction `1+1`. Que se passe-t-il ?\n\nÉcrivez la même chose dans un script `test.py` que vous allez créer avec un éditeur de texte. Exécutez ce script en tapant `python test.py` dans un *shell*. Que se passe-t-il ? Pourquoi ? Faites en sorte d'afficher le résultat de l'addition `1+1` en exécutant le script dans un *shell*.\n\n\n### Poly-A\n\nGénérez une chaîne de caractères représentant un brin d'ADN poly-A (c'est-à-dire qui ne contient que des bases A) de 20 bases de longueur, sans taper littéralement toutes les bases.",
          "### Poly-A\n\nGénérez une chaîne de caractères représentant un brin d'ADN poly-A (c'est-à-dire qui ne contient que des bases A) de 20 bases de longueur, sans taper littéralement toutes les bases.\n\n\n### Poly-A et poly-GC\n\nSur le modèle de l'exercice précédent, générez en une ligne de code un brin d'ADN poly-A (AAAA...) de 20 bases suivi d'un poly-GC régulier (GCGCGC...) de 40 bases.\n\n\n### Écriture formatée\n\nEn utilisant l'écriture formatée, affichez en une seule ligne les variables `a`, `b` et `c` dont les valeurs sont respectivement la chaîne de caractères `\"salut\"`, le nombre entier `102` et le *float* `10.318`. La variable `c` sera affichée avec 2 décimales.\n\n\n### Écriture formatée 2\n\nDans un script `percGC.py`, calculez un pourcentage de GC avec l'instruction suivante :\n\n`perc_GC = ((4500 + 2575)/14800)*100`",
          "### Écriture formatée 2\n\nDans un script `percGC.py`, calculez un pourcentage de GC avec l'instruction suivante :\n\n`perc_GC = ((4500 + 2575)/14800)*100`\n\nEnsuite, affichez le contenu de la variable `perc_GC` à l'écran avec 0, 1, 2 puis 3 décimales sous forme arrondie en utilisant l'écriture formatée et les *f-strings*. On souhaite que le programme affiche la sortie suivante :\n\n```text\nLe pourcentage de GC est 48     %\nLe pourcentage de GC est 47.8   %\nLe pourcentage de GC est 47.80  %\nLe pourcentage de GC est 47.804 %\n```"
         ],
         "marker": {
          "color": 0,
          "colorscale": [
           [
            0,
            "#440154"
           ],
           [
            0.1111111111111111,
            "#482878"
           ],
           [
            0.2222222222222222,
            "#3e4989"
           ],
           [
            0.3333333333333333,
            "#31688e"
           ],
           [
            0.4444444444444444,
            "#26828e"
           ],
           [
            0.5555555555555556,
            "#1f9e89"
           ],
           [
            0.6666666666666666,
            "#35b779"
           ],
           [
            0.7777777777777778,
            "#6ece58"
           ],
           [
            0.8888888888888888,
            "#b5de2b"
           ],
           [
            1,
            "#fde725"
           ]
          ],
          "opacity": 0.8,
          "size": 8
         },
         "mode": "markers",
         "name": "Affichage",
         "type": "scatter",
         "x": [
          0.0166542860942982,
          0.1378687842688102,
          0.17483873023064483,
          0.257955343938246,
          0.3079921404827972,
          0.3266395506603455,
          0.31142388128110027,
          0.3346184918913231,
          0.5057331792918943,
          0.4741978512396767,
          0.4793664851518105,
          0.44116522803429814,
          0.34434591093424416,
          0.3940870742857121,
          0.5380698262941176,
          0.41276057456994636,
          0.3654643338518982,
          0.31536415147490293,
          0.4151006429971235,
          0.35031672310177375,
          0.31968499920083604,
          0.4020542136388876,
          0.41006167477582506,
          0.38524606991741567,
          0.46066781954172814,
          0.4902756490879631,
          0.2941940402182744,
          0.20822910619358276,
          0.17914707589730036,
          0.38450529550373297
         ],
         "y": [
          -0.06729988751933282,
          -0.05699169145237563,
          -0.0488247584629804,
          0.06525463707561575,
          0.06542675033904627,
          0.03222448240704446,
          -0.027323288873238302,
          0.023043126195670678,
          0.082312038834193,
          0.08638269324033222,
          0.0721834639155528,
          0.11290045825520237,
          0.09296808849419644,
          0.13560082852672262,
          0.060588194200866856,
          0.018147855266671536,
          -0.027420451272466076,
          0.09268721913337101,
          0.08559165308452518,
          0.0611065931903191,
          0.022602161366364216,
          0.04591126036791152,
          0.051157298369106895,
          0.0435900881856909,
          0.10120556074055308,
          0.1251794647025213,
          0.0043950377636187005,
          0.02858551756062145,
          0.028527093269239644,
          0.06301501849789078
         ]
        },
        {
         "hoverinfo": "text",
         "hovertext": [
          "## Principe et généralités\n\nEn programmation, les **fonctions** sont très utiles pour réaliser plusieurs fois la même opération au sein d'un programme. Elles rendent également le code plus lisible et plus clair en le fractionnant en blocs logiques.\n\nVous connaissez déjà certaines fonctions Python. Par exemple `math.cos(angle)` du module `math` renvoie le cosinus de la variable `angle` exprimé en radian. Vous connaissez aussi des fonctions internes à Python comme `range()` ou `len()`. Pour l'instant, une fonction est à vos yeux une sorte de « boîte noire » (voir figure @fig:schema_fonction) :\n\n1. À laquelle vous passez aucune, une ou plusieurs variable(s) entre parenthèses. Ces variables sont appelées **arguments**. Il peut s'agir de n'importe quel type d'objet Python.\n2. Qui effectue une action.\n3. Et qui renvoie un objet Python ou rien du tout.\n\n![Fonctionnement schématique d'une fonction.](img/schema_fonction.png){ #fig:schema_fonction width=90% }",
          "![Fonctionnement schématique d'une fonction.](img/schema_fonction.png){ #fig:schema_fonction width=90% }\n\nPar exemple, si vous appelez la fonction `len()` de la manière suivante :\n\n```python\n>>> len([0, 1, 2])\n3\n```\n\nvoici ce qui se passe :\n\n1. vous appelez `len()` en lui passant une liste en argument (ici la liste `[0, 1, 2]`) ;\n2. la fonction calcule la longueur de cette liste ;\n3. elle vous renvoie un entier égal à cette longueur.\n\nAutre exemple, si vous appelez la méthode `ma_liste.append()` (n'oubliez pas, une **méthode** est une **fonction** qui agit sur l'objet auquel elle est attachée par un point) :\n\n```python\n>>> ma_liste.append(5)\n```\n\n1. Vous passez l'entier `5` en argument ;\n2. la méthode `append()` ajoute l'entier `5` à l'objet `ma_liste` ;\n3. et elle ne renvoie rien.",
          "```python\n>>> ma_liste.append(5)\n```\n\n1. Vous passez l'entier `5` en argument ;\n2. la méthode `append()` ajoute l'entier `5` à l'objet `ma_liste` ;\n3. et elle ne renvoie rien.\n\nAux yeux du programmeur au contraire, une fonction est une portion de code effectuant une suite d'instructions bien particulière. Mais avant de vous présenter la syntaxe et la manière de construire une fonction, revenons une dernière fois sur cette notion de « boîte noire » :\n\n- Une fonction effectue une tâche. Pour cela, elle reçoit éventuellement des arguments et renvoie éventuellement quelque chose. L'algorithme utilisé au sein de la fonction n'intéresse pas directement l'utilisateur. Par exemple, il est inutile de savoir comment la fonction `math.cos()` calcule un cosinus. On a juste besoin de savoir qu'il faut lui passer en argument un angle en radian et qu'elle renvoie le cosinus de cet angle. Ce qui se passe à l'intérieur de la fonction ne regarde que le programmeur.",
          "- Chaque fonction effectue en général une tâche **unique et précise**. Si cela se complique, il est plus judicieux d'écrire plusieurs fonctions (qui peuvent éventuellement s'appeler les unes les autres). Cette **modularité** améliore la qualité générale et la lisibilité du code. Vous verrez qu'en Python, les fonctions présentent une grande flexibilité.",
          "Pour finir sur les généralités, nous avons utilisé dans la Figure @fig:schema_fonction le terme **programme principal** (*main* en anglais) pour désigner l'endroit depuis lequel on appelle une fonction (on verra plus tard que l'on peut en fait appeler une fonction de n'importe où). Le programme principal désigne le code qui est exécuté lorsqu'on lance le script Python, c'est-à-dire toute la suite d'instructions en dehors des fonctions. En général, dans un script Python, on écrit d'abord les fonctions puis le programme principal. Nous aurons l'occasion de revenir sur cette notion de programme principal plus tard dans ce chapitre ainsi que dans le chapitre 12 *Plus sur les fonctions*.\n\n\n## Définition\n\nPour définir une fonction, Python utilise le mot-clé `def`. Si on souhaite que la fonction renvoie quelque chose, il faut utiliser le mot-clé `return`. Par exemple :",
          "## Définition\n\nPour définir une fonction, Python utilise le mot-clé `def`. Si on souhaite que la fonction renvoie quelque chose, il faut utiliser le mot-clé `return`. Par exemple :\n\n```python\n>>> def carre(x):\n...     return x**2\n...\n>>> print(carre(2))\n4\n```\nNotez que la syntaxe de `def` utilise les deux-points comme les boucles `for` et `while` ainsi que les tests `if`, un bloc d’instructions est donc attendu. De même que pour les boucles et les tests, l'**indentation** de ce bloc d'instructions (qu'on appelle le corps de la fonction) est **obligatoire**.\n\nDans l'exemple précédent, nous avons passé un argument à la fonction `carre()` qui nous a renvoyé (ou retourné) une valeur que nous avons immédiatement affichée à l'écran avec l'instruction `print()`. Que veut dire valeur renvoyée ? Et bien cela signifie que cette dernière est récupérable dans une variable :",
          "```python\n>>> res = carre(2)\n>>> print(res)\n4\n```\nIci, le résultat renvoyé par la fonction est stocké dans la variable `res`.\nNotez qu'une fonction ne prend pas forcément un argument et ne renvoie pas forcément une valeur, par exemple :\n\n```python\n>>> def hello():\n...     print(\"bonjour\")\n...\n>>> hello()\nbonjour\n```\n\nDans ce cas la fonction, `hello()` se contente d'afficher la chaîne de caractères `\"bonjour\"` à l'écran. Elle ne prend aucun argument et ne renvoie rien. Par conséquent, cela n'a pas de sens de vouloir récupérer dans une variable le résultat renvoyé par une telle fonction. Si on essaie tout de même, Python affecte la valeur `None` qui signifie *rien* en anglais:\n\n```python\n>>> var = hello()\nbonjour\n>>> print(var)\nNone\n```\n\nCeci n'est pas une faute car Python n'émet pas d'erreur, toutefois cela ne présente, la plupart du temps, guère d'intérêt.\n\n\n## Passage d'arguments",
          "Ceci n'est pas une faute car Python n'émet pas d'erreur, toutefois cela ne présente, la plupart du temps, guère d'intérêt.\n\n\n## Passage d'arguments\n\nLe nombre d'arguments que l'on peut passer à une fonction est variable. Nous avons vu ci-dessus des fonctions auxquelles on passait 0 ou 1 argument. Dans les chapitres précédents, vous avez rencontré des fonctions internes à Python qui prenaient au moins 2 arguments. Souvenez-vous par exemple de `range(1, 10)` ou encore `range(1, 10, 2)`. Le nombre d'argument est donc laissé libre à l'initiative du programmeur qui développe une nouvelle fonction.\n\nUne particularité des fonctions en Python est que vous n'êtes pas obligé de préciser le type des arguments que vous lui passez, dès lors que les opérations que vous effectuez avec ces arguments sont valides. Python est en effet connu comme étant un langage au « typage dynamique », c'est-à-dire qu'il reconnaît pour vous le type des variables au moment de l'exécution. Par exemple :",
          "```python\n>>> def fois(x, y):\n...     return x*y\n...\n>>> fois(2, 3)\n6\n>>> fois(3.1415, 5.23)\n16.430045000000003\n>>> fois(\"to\", 2)\n'toto'\n>>> fois([1,3], 2)\n[1, 3, 1, 3]\n```\n\nL'opérateur `*` reconnaît plusieurs types (entiers, *floats*, chaînes de caractères, listes). Notre fonction `fois()` est donc capable d'effectuer des tâches différentes ! Même si Python autorise cela, méfiez-vous tout de même de cette grande flexibilité qui pourrait conduire à des surprises dans vos futurs programmes. En général, il est plus judicieux que chaque argument ait un type précis (entiers, *floats*, chaînes de caractères, etc) et pas l'un ou l'autre.\n\n\n## Renvoi de résultats\n\nUn énorme avantage en Python est que les fonctions sont capables de renvoyer plusieurs objets à la fois, comme dans cette fraction de code :\n\n```python\n>>> def carre_cube(x):\n...     return x**2, x**3\n...\n>>> carre_cube(2)\n(4, 8)\n```",
          "```python\n>>> def carre_cube(x):\n...     return x**2, x**3\n...\n>>> carre_cube(2)\n(4, 8)\n```\n\nEn réalité Python ne renvoie qu'un seul objet, mais celui-ci peut être séquentiel, c'est-à-dire contenir lui même d'autres objets. Dans notre exemple Python renvoie un objet de type `tuple`, type que nous verrons dans le chapitre 13 *Dictionnaires et tuples* (*grosso modo*, il s'agit d'une sorte de liste avec des propriétés différentes). Notre fonction pourrait tout autant renvoyer une liste :\n\n```python\n>>> def carre_cube2(x):\n...     return [x**2, x**3]\n...\n>>> carre_cube2(3)\n[9, 27]\n```\n\nRenvoyer un *tuple* ou une liste de deux éléments (ou plus) est très pratique en conjonction avec l'**affectation multiple**, par exemple :\n\n```python\n>>> z1, z2 = carre_cube2(3)\n>>> z1\n9\n>>> z2\n27\n```\n\nCela permet de récupérer plusieurs valeurs renvoyées par une fonction et de les affecter à la volée à des variables différentes.\n\n\n## Arguments positionnels et arguments par mot-clé",
          "Cela permet de récupérer plusieurs valeurs renvoyées par une fonction et de les affecter à la volée à des variables différentes.\n\n\n## Arguments positionnels et arguments par mot-clé\n\nJusqu'à maintenant, nous avons systématiquement passé le nombre d'arguments que la fonction attendait. Que se passe-t-il si une fonction attend deux arguments et que nous ne lui en passons qu'un seul ?\n\n```python\n>>> def fois(x, y):\n...     return x*y\n...\n>>> fois(2, 3)\n6\n>>> fois(2)\nTraceback (most recent call last):\n  File \"<stdin>\", line 1, in <module>\nTypeError: fois() missing 1 required positional argument: 'y'\n```\n\nOn constate que passer un seul argument à une fonction qui en attend deux conduit à une erreur.\n\nopen-box-def",
          "On constate que passer un seul argument à une fonction qui en attend deux conduit à une erreur.\n\nopen-box-def\n\nLorsqu'on définit une fonction `def fct(x, y):` les arguments `x` et `y` sont appelés **arguments positionnels** (en anglais *positional arguments*). Il est strictement obligatoire de les préciser lors de l'appel de la fonction. De plus, il est nécessaire de respecter le même ordre lors de l'appel que dans la définition de la fonction. Dans l'exemple ci-dessus, `2` correspondra à `x` et `3` correspondra à `y`. Finalement, tout dépendra de leur position, d'où leur qualification de positionnel.\n\nclose-box-def\n\nMais il est aussi possible de passer un ou plusieurs argument(s) de manière facultative et de leur attribuer une valeur par défaut :\n\n```python\n>>> def fct(x=1):\n...     return x\n...\n>>> fct()\n1\n>>> fct(10)\n10\n```\n\nopen-box-def",
          "```python\n>>> def fct(x=1):\n...     return x\n...\n>>> fct()\n1\n>>> fct(10)\n10\n```\n\nopen-box-def\n\nUn argument défini avec une syntaxe `def fct(arg=val):` est appelé **argument par mot-clé** (en anglais *keyword argument*). Le passage d'un tel argument lors de l'appel de la fonction est facultatif. Ce type d'argument ne doit pas être confondu avec les arguments positionnels présentés ci-dessus, dont la syntaxe est `def fct(arg):`.\n\nclose-box-def\n\nIl est bien sûr possible de passer plusieurs arguments par mot-clé :\n\n```python\n>>> def fct(x=0, y=0, z=0):\n...     return x, y, z\n...\n>>> fct()\n(0, 0, 0)\n>>> fct(10)\n(10, 0, 0)\n>>> fct(10, 8)\n(10, 8, 0)\n>>> fct(10, 8, 3)\n(10, 8, 3)\n```",
          "```python\n>>> def fct(x=0, y=0, z=0):\n...     return x, y, z\n...\n>>> fct()\n(0, 0, 0)\n>>> fct(10)\n(10, 0, 0)\n>>> fct(10, 8)\n(10, 8, 0)\n>>> fct(10, 8, 3)\n(10, 8, 3)\n```\n\nOn observe que pour l'instant, les arguments par mot-clé sont pris dans l'ordre dans lesquels on les passe lors de l'appel. Comment pourrions-nous faire si on souhaitait préciser l'argument par mot-clé `z` et garder les valeurs de `x` et `y` par défaut ? Simplement en  précisant le nom de l'argument lors de l'appel :\n\n```python\n>>> fct(z=10)\n(0, 0, 10)\n```\n\nPython permet même de rentrer les arguments par mot-clé dans un ordre arbitraire :\n\n```python\n>>> fct(z=10, x=3, y=80)\n(3, 80, 10)\n>>> fct(z=10, y=80)\n(0, 80, 10)\n```\n\nQue se passe-t-il lorsque nous avons un mélange d'arguments positionnels et par mot-clé ? Et bien les arguments positionnels doivent toujours être placés avant les arguments par mot-clé :",
          "Que se passe-t-il lorsque nous avons un mélange d'arguments positionnels et par mot-clé ? Et bien les arguments positionnels doivent toujours être placés avant les arguments par mot-clé :\n\n```python\n>>> def fct(a, b, x=0, y=0, z=0):\n...     return a, b, x, y, z\n...\n>>> fct(1, 1)\n(1, 1, 0, 0, 0)\n>>> fct(1, 1, z=5)\n(1, 1, 0, 0, 5)\n>>> fct(1, 1, z=5, y=32)\n(1, 1, 0, 32, 5)\n```\n\nOn peut toujours passer les arguments par mot-clé dans un ordre arbitraire à partir du moment où on précise leur nom. Par contre, si les deux arguments positionnels `a` et `b` ne sont pas passés à la fonction, Python renvoie une erreur.\n\n```python\n>>> fct(z=0)\nTraceback (most recent call last):\n  File \"<stdin>\", line 1, in <module>\nTypeError: fct() missing 2 required positional arguments: 'a' and 'b'\n```\n\nopen-box-adv\n\nPréciser le nom des arguments par mot-clé lors de l'appel d'une fonction est une pratique que nous vous recommandons. Cela les distingue clairement des arguments positionnels.\n\nclose-box-adv",
          "Préciser le nom des arguments par mot-clé lors de l'appel d'une fonction est une pratique que nous vous recommandons. Cela les distingue clairement des arguments positionnels.\n\nclose-box-adv\n\nL'utilisation d'arguments par mot-clé est habituelle en Python. Elle permet de modifier le comportement par défaut de nombreuses fonctions. Par exemple, si on souhaite que la fonction `print()` n'affiche pas un retour à la ligne, on peut utiliser l'argument `end` :\n\n```python\n>>> print(\"Message \", end=\"\")\nMessage >>>\n```\n\nNous verrons, dans le chapitre 20 *Fenêtres graphiques et Tkinter*, que l'utilisation d'arguments par mot-clé est systématique lorsqu'on crée un objet graphique (une fenêtre, un bouton, etc.).\n\n\n## Variables locales et variables globales",
          "## Variables locales et variables globales\n\nLorsqu'on manipule des fonctions, il est essentiel de bien comprendre comment se comportent les variables. Une variable est dite **locale** lorsqu'elle est créée dans une fonction. Elle n'existera et ne sera visible que lors de l'exécution de ladite fonction.\n\nUne variable est dite **globale** lorsqu'elle est créée dans le programme principal. Elle sera visible partout dans le programme.\n\nCeci ne vous paraît pas clair ? Nous allons prendre un exemple simple qui vous aidera à mieux saisir ces concepts. Observez le code suivant :\n\n```python\n# définition d'une fonction carre()\ndef carre(x):\n    y = x**2\n    return y\n\n# programme principal\nz = 5\nresultat = carre(z)\nprint(resultat)\n```",
          "```python\n# définition d'une fonction carre()\ndef carre(x):\n    y = x**2\n    return y\n\n# programme principal\nz = 5\nresultat = carre(z)\nprint(resultat)\n```\n\nPour la suite des explications, nous allons utiliser l'excellent site [*Python Tutor*](http://www.pythontutor.com) qui permet de visualiser l'état des variables au fur et à mesure de l'exécution d'un code Python. Avant de poursuivre, nous vous conseillons de prendre 5 minutes pour tester ce site.\n\nRegardons maintenant ce qui se passe dans le code ci-dessus, étape par étape :\n\n- Étape 1 : Python est prêt à lire la première ligne de code.\n\n![Étape 1.](img/fct_step1.png){ #fig:fct_step1 width=80% }\n\\",
          "- Étape 1 : Python est prêt à lire la première ligne de code.\n\n![Étape 1.](img/fct_step1.png){ #fig:fct_step1 width=80% }\n\\\n\n\n- Étape 2 : Python met en mémoire la fonction `carre()`. Notez qu'il ne l'exécute pas ! La fonction est mise dans un espace de la mémoire nommé *Global frame*, il s'agit de l'espace du programme principal. Dans cet espace, seront stockées toutes les variables *globales* créées dans le programme. Python est maintenant prêt à exécuter le programme principal.\n\n![Étape 2.](img/fct_step2.png){ #fig:fct_step2 width=80% }\n\\\n\n\n- Étape 3 : Python lit et met en mémoire la variable `z`. Celle-ci étant créée dans le programme principal, il s'agira d'une variable *globale*. Ainsi, elle sera également stockée dans le *Global frame*.\n\n![Étape 3.](img/fct_step3.png){ #fig:fct_step3 width=80% }\n\\",
          "![Étape 3.](img/fct_step3.png){ #fig:fct_step3 width=80% }\n\\\n\n\n- Étape 4 : La fonction `carre()` est appelée et on lui passe en argument l'entier `z`. La fonction s'exécute et un nouveau cadre est créé dans lequel *Python Tutor* va indiquer toutes les variables *locales* à la fonction. Notez bien que la variable passée en argument, qui s'appelle `x` dans la fonction, est créée en tant que variable *locale*. On remarquera aussi que les variables *globales* situées dans le *Global frame* sont toujours là.\n\n![Étape 4.](img/fct_step4.png){ #fig:fct_step4 width=80% }\n\\\n\n\n- Étape 5 : Python est maintenant prêt à exécuter chaque ligne de code de la fonction.\n\n![Étape 5.](img/fct_step5.png){ #fig:fct_step5 width=80% }\n\\\n\n\n- Étape 6 : La variable `y` est créée dans la fonction. Celle-ci est donc stockée en tant que variable *locale* à la fonction.\n\n![Étape 6.](img/fct_step6.png){ #fig:fct_step6 width=80% }\n\\",
          "- Étape 6 : La variable `y` est créée dans la fonction. Celle-ci est donc stockée en tant que variable *locale* à la fonction.\n\n![Étape 6.](img/fct_step6.png){ #fig:fct_step6 width=80% }\n\\\n\n\n- Étape 7 : Python s'apprête à renvoyer la variable *locale* `y` au programme principal. *Python Tutor* nous indique le contenu de la valeur renvoyée.\n\n![Étape 7.](img/fct_step7.png){ #fig:fct_step7 width=80% }\n\\\n\n\n- Étape 8 : Python quitte la fonction et la valeur renvoyée par celle-ci est affectée à la variable *globale* `resultat`. Notez bien que lorsque Python quitte la fonction, **l'espace des variables alloué à la fonction est détruit**. Ainsi, toutes les variables créées dans la fonction n'existent plus. On comprend pourquoi elles portent le nom de *locales* puisqu'elles n'existent que lorsque la fonction est exécutée.\n\n![Étape 8.](img/fct_step8.png){ #fig:fct_step8 width=80% }\n\\\n\n\n- Étape 9 : Python affiche le contenu de la variable `resultat` et l'exécution est terminée.",
          "![Étape 8.](img/fct_step8.png){ #fig:fct_step8 width=80% }\n\\\n\n\n- Étape 9 : Python affiche le contenu de la variable `resultat` et l'exécution est terminée.\n\n![Étape 9.](img/fct_step9.png){ #fig:fct_step9 width=80% }\n\\\n\n\nNous espérons que cet exemple guidé facilitera la compréhension des concepts de variables locales et globales. Cela viendra aussi avec la pratique. Nous irons un peu plus loin sur les fonctions dans le chapitre 12. D'ici là, essayez de vous entraîner au maximum avec les fonctions. C'est un concept ardu, mais il est impératif de le maîtriser.\n\nEnfin, comme vous avez pu le constater, *Python Tutor* nous a grandement aidé à comprendre ce qui se passait. N'hésitez pas à l'utiliser sur des exemples ponctuels, ce site vous aidera à visualiser ce qui se passe lorsqu'un code ne fait pas ce que vous attendez.\n\n\n## Principe DRY",
          "## Principe DRY\n\nL'acronyme [DRY](https://www.earthdatascience.org/courses/intro-to-earth-data-science/write-efficient-python-code/intro-to-clean-code/dry-modular-code/) signifie *Don't Repeat Yourself*. Les fonctions permettent de satisfaire ce principe en évitant la duplication de code.\nEn effet, plus un code est dupliqué plusieurs fois dans un programme, plus il sera source d'erreurs, notamment lorsqu'il faudra le faire évoluer.\n\nConsidérons par exemple le code suivant qui convertit plusieurs températures des degrés Fahrenheit en degrés Celsius :\n\n```python\n>>> temp_in_fahrenheit = 60\n>>> (temp_in_fahrenheit - 32) * (5/8)\n17.5\n>>> temp_in_fahrenheit = 80\n>>> (temp_in_fahrenheit - 32) * (5/8)\n30.0\n>>> temp_in_fahrenheit = 100\n>>> (temp_in_fahrenheit - 32) * (5/8)\n42.5\n```\n\nMalheureusement il y a une erreur dans la formule de conversion. En effet la formule exacte est :\n\n$$\n{\\rm temp\\_celsius} = ({\\rm temp\\_fahrenheit} - 32) \\times \\frac{5}{9}\n$$",
          "Malheureusement il y a une erreur dans la formule de conversion. En effet la formule exacte est :\n\n$$\n{\\rm temp\\_celsius} = ({\\rm temp\\_fahrenheit} - 32) \\times \\frac{5}{9}\n$$\n\nIl faut alors reprendre les lignes 2, 5 et 8 précédentes et les corriger. Cela n'est pas efficace, surtout si le même code est utilisé à différents endroits dans le programme.\n\nEn écrivant qu'une seule fois la formule de conversion dans une fonction, on applique le principe DRY :\n\n```python\n>>> def convert_fahrenheit_to_celsius(temperature):\n...     return (temperature - 32) * (5/9)\n... \n>>> temp_in_fahrenheit = 60\n>>> convert_fahrenheit_to_celsius(temp_in_fahrenheit)\n15.555555555555557\n>>> temp_in_fahrenheit = 80\n>>> convert_fahrenheit_to_celsius(temp_in_fahrenheit)\n26.666666666666668\n>>> temp_in_fahrenheit = 100\n>>> convert_fahrenheit_to_celsius(temp_in_fahrenheit)\n37.77777777777778\n```",
          "Et s'il y a une erreur dans la formule, il suffira de le corriger qu'une seule fois, dans la fonction `convert_fahrenheit_to_celsius()`.\n\n## Exercices\n\n*Conseil* : pour le premier exercice, utilisez *Python Tutor*. Pour les exercices suivants, créez des scripts puis exécutez-les dans un *shell*.\n\n\n### Carré et factorielle\n\nReprenez l'exemple précédent à l'aide du site [*Python Tutor*](http://www.pythontutor.com) :\n\n```python\n# définition d'une fonction carre()\ndef carre(x):\n    y = x**2\n    return y\n\n# programme principal\nz = 5\nresultat = carre(z)\nprint(resultat)\n```\n\nAnalysez ensuite le code suivant et tentez de prédire sa sortie :\n\n```python\ndef calc_factorielle(n):\n    fact = 1\n    for i in range(2, n+1):\n        fact = fact * i\n    return fact\n\n# programme principal\nnb = 4\nfactorielle_nb = calc_factorielle(nb)\nprint(f\"{nb}! = {factorielle_nb}\")\nnb2 = 10\nprint(f\"{nb2}! = {calc_factorielle(nb2)}\")\n```",
          "# programme principal\nnb = 4\nfactorielle_nb = calc_factorielle(nb)\nprint(f\"{nb}! = {factorielle_nb}\")\nnb2 = 10\nprint(f\"{nb2}! = {calc_factorielle(nb2)}\")\n```\n\nTestez ensuite cette portion de code avec *Python Tutor* en cherchant à bien comprendre chaque étape.\nAvez-vous réussi à prédire la sortie correctement ?\n\nopen-box-rem\n\nUne remarque concernant l'utilisation des *f-strings* que nous avions vues dans le chapitre 3 *Affichage*. On voit à nouveau une possibilité puissante des *f-strings* dans l'instruction `f\"{nb2}! = {calc_factorielle(nb2)}\"` : il est possible de mettre directement au sein des accolades un appel à une fonction (ici `{calc_factorielle(nb2)}`) ! Ainsi, pas besoin de créer une variable intermédiaire dans laquelle on stocke ce que retourne la fonction. \n\nclose-box-rem\n\n### Puissance\n\nCréez une fonction `calc_puissance(x, y)` qui renvoie $x^y$ en utilisant l'opérateur `**`. Pour rappel :\n\n```python\n>>> 2**2\n4\n>>> 2**3\n8\n>>> 2**4\n16\n```",
          "close-box-rem\n\n### Puissance\n\nCréez une fonction `calc_puissance(x, y)` qui renvoie $x^y$ en utilisant l'opérateur `**`. Pour rappel :\n\n```python\n>>> 2**2\n4\n>>> 2**3\n8\n>>> 2**4\n16\n```\n\nDans le programme principal, calculez et affichez à l'écran $2^i$ avec $i$ variant de 0 à 20 inclus. On souhaite que le résultat soit présenté avec le formatage suivant :\n\n```text\n2^ 0 =       1\n2^ 1 =       2\n2^ 2 =       4\n[...]\n2^20 = 1048576\n```\n\n### Pyramide\n\nReprenez l'exercice du chapitre 5 *Boucles et comparaisons* qui dessine une pyramide.\n\nDans un script `pyra.py`, créez une fonction `gen_pyramide()` à laquelle vous passez un nombre entier `N` et qui renvoie une pyramide de $N$ lignes sous forme de chaîne de caractères. Le programme principal demandera à l'utilisateur le nombre de lignes souhaitées (utilisez pour cela la fonction `input()`) et affichera la pyramide à l'écran.\n\n\n### Nombres premiers\n\nReprenez l'exercice du chapitre 6 *Tests* sur les nombres premiers.",
          "### Nombres premiers\n\nReprenez l'exercice du chapitre 6 *Tests* sur les nombres premiers.\n\nCréez une fonction `est_premier()` qui prend comme argument un nombre entier positif *n* (supérieur à 2) et qui renvoie le booléen `True` si *n* est premier et `False` si *n* n'est pas premier. Déterminez tous les nombres premiers de 2 à 100. On souhaite avoir une sortie similaire à celle-ci :\n\n```text\n  2 est premier\n  3 est premier\n  4 n'est pas premier\n[...]\n100 n'est pas premier\n```\n\n\n### Séquence complémentaire\n\nCréez une fonction `seq_comp()` qui prend comme argument une liste de bases et qui renvoie la séquence complémentaire d'une séquence d'ADN sous forme de liste.\n\nDans le programme principal, à partir de la séquence d'ADN \n`seq = [\"A\", \"T\", \"C\", \"G\", \"A\", \"T\", \"C\", \"G\", \"A\", \"T\", \"C\"]` \naffichez `seq` et sa séquence complémentaire (en utilisant votre fonction `seq_comp()`).\n\nRappel : la séquence complémentaire s'obtient en remplaçant A par T, T par A, C par G et G par C.",
          "Rappel : la séquence complémentaire s'obtient en remplaçant A par T, T par A, C par G et G par C.\n\n\n### Distance 3D\n\nCréez une fonction `calc_distance_3D()` qui calcule la distance euclidienne en trois dimensions entre deux atomes. Testez votre fonction sur les 2 points `A(0,0,0)` et `B(1,1,1)`. Trouvez-vous bien $\\sqrt{3}$ ?\n\nOn rappelle que la distance euclidienne *d* entre deux points A et B de coordonnées cartésiennes respectives $(x_A, y_A, z_A)$ et $(x_B, y_B, z_B)$ se calcule comme suit :\n\n$$\nd = \\sqrt{(x_B - x_A)^2 + (y_B - y_A)^2 + (z_B - z_A)^2}\n$$\n\n\n### Distribution et statistiques\n\nCréez une fonction `gen_distrib()` qui prend comme argument trois entiers : *debut*, *fin* et *n*. La fonction renverra une liste de $n$ *floats* aléatoires entre *debut* et *fin*. Pour générer un nombre aléatoire dans un intervalle donné, utilisez la fonction `uniform()` du module *random* dont voici quelques exemple d'utilisation :",
          "```python\n>>> import random\n>>> random.uniform(1, 10)\n8.199672607202174\n>>> random.uniform(1, 10)\n2.607528561528022\n>>> random.uniform(1, 10)\n9.000404025130946\n```\n\nAvec la fonction `random.uniform()`, les bornes passées en argument sont incluses, c'est-à-dire qu'ici, le nombre aléatoire renvoyé est dans l'intervalle [1, 10].\n\nCréez une autre fonction `calc_stat()` qui prend en argument une liste de *floats* et qui renvoie une liste de trois éléments contenant respectivement le minimum, le maximum et la moyenne de la liste.\n\nDans le programme principal, générez 20 listes aléatoires de 100 *floats* compris entre 0 et 100 et affichez le minimum (`min()`), le maximum (`max()`) et la moyenne pour chacune d'entre elles. La moyenne pourra être calculée avec les fonctions `sum()` et `len()`.",
          "Pour chacune des 20 listes, affichez les statistiques (min, max, et moyenne) avec deux chiffres après la virgule :\n```text\nListe  1 : min = 0.17 ; max = 99.72 ; moyenne = 57.38\nListe  2 : min = 1.25 ; max = 99.99 ; moyenne = 47.41\n[...]\nListe 19 : min = 1.05 ; max = 99.36 ; moyenne = 49.43\nListe 20 : min = 1.33 ; max = 97.63 ; moyenne = 46.53\n\n```\n\nLes écarts sur les statistiques entre les différentes listes sont-ils importants ? Relancez votre script avec des listes de 1000 éléments, puis 10 000 éléments. Les écarts changent-ils quand le nombre d'éléments par liste augmente ?\n\n\n### Distance à l'origine (exercice +++)\n\nEn reprenant votre fonction de calcul de distance euclidienne en 3D `calc_distance_3D()`, faites-en une version pour deux dimensions que vous appellerez `calc_distance_2D()`.",
          "En reprenant votre fonction de calcul de distance euclidienne en 3D `calc_distance_3D()`, faites-en une version pour deux dimensions que vous appellerez `calc_distance_2D()`.\n\nCréez une autre fonction `calc_dist2ori()` à laquelle vous passez en argument deux listes de *floats* `list_x` et `list_y` représentant les coordonnées d'une fonction mathématique (par exemple $x$ et $sin(x)$). Cette fonction renverra une liste de *floats* représentant la distance entre chaque point de la fonction et l'origine (de coordonnées $(0,0)$).\n\nLa figure @fig:sin2ori montre un exemple sur quelques points de la fonction $sin(x)$ (courbe en trait épais). Chaque trait pointillé représente la distance que l'on cherche à calculer entre les points de la courbe et l'origine du repère de coordonnées (0, 0).\n\n![Illustration de la distance à l'origine.](img/sin2ori.png){ #fig:sin2ori width=60% }",
          "![Illustration de la distance à l'origine.](img/sin2ori.png){ #fig:sin2ori width=60% }\n\nVotre programme générera un fichier `sin2ori.dat` qui contiendra deux colonnes : la première représente les $x$, la seconde la distance entre chaque point de la fonction $sin(x)$ à l'origine.\n\nEnfin, pour visualiser votre résultat, ajoutez le code suivant tout à la fin de votre script :\n\n```python\n# création d'une image pour la visualisation du résultat\nimport matplotlib.pyplot as plt\n\nx = []\ny = []\nwith open(\"sin2ori.dat\", \"r\") as f_in:\n    for line in f_in:\n        coords = line.split()\n        x.append(float(coords[0]))\n        y.append(float(coords[1]))\nplt.figure(figsize=(8,8))\nplt.plot(x, y)\nplt.xlabel(\"x\")\nplt.ylabel(\"Distance de sin(x)à l'origine\")\nplt.savefig(\"sin2ori.png\")\n```\n\nOuvrez l'image `sin2ori.png`.\n\nopen-box-rem\n\nLe module *matplotlib* sera expliqué en détail dans le chapitre 17 *Quelques modules d'intérêt en bioinformatique*.\n\nclose-box-rem"
         ],
         "marker": {
          "color": 1,
          "colorscale": [
           [
            0,
            "#440154"
           ],
           [
            0.1111111111111111,
            "#482878"
           ],
           [
            0.2222222222222222,
            "#3e4989"
           ],
           [
            0.3333333333333333,
            "#31688e"
           ],
           [
            0.4444444444444444,
            "#26828e"
           ],
           [
            0.5555555555555556,
            "#1f9e89"
           ],
           [
            0.6666666666666666,
            "#35b779"
           ],
           [
            0.7777777777777778,
            "#6ece58"
           ],
           [
            0.8888888888888888,
            "#b5de2b"
           ],
           [
            1,
            "#fde725"
           ]
          ],
          "opacity": 0.8,
          "size": 8
         },
         "mode": "markers",
         "name": "Fonctions",
         "type": "scatter",
         "x": [
          -0.14745027486506568,
          -0.20844028017145236,
          -0.21518508219522536,
          -0.08069181438190985,
          -0.13491771118004806,
          -0.10459254034312318,
          -0.1201990875712709,
          -0.09489257531932226,
          -0.05562376239554409,
          -0.14533715128919109,
          -0.09509668731024337,
          -0.06220033809738016,
          -0.04792746566636232,
          -0.015283098774540364,
          -0.026146510592707423,
          -0.007003570388695604,
          -0.10973344065057596,
          -0.153942390884423,
          -0.1648815706542455,
          -0.13526887350982553,
          -0.11679324244273623,
          -0.07604361442860878,
          -0.006992503126516028,
          0.0661665072464587,
          -0.09984371145659887,
          -0.04353086074755341,
          -0.13589827420456294,
          -0.11842836290151673,
          -0.12373728896268288,
          -0.10414377651706462,
          -0.1919582593188335,
          -0.2581269257180311,
          -0.15803094335403572
         ],
         "y": [
          -0.224756305159738,
          -0.24174688865222857,
          -0.2518485841562519,
          -0.14391259814856897,
          -0.1539943793089957,
          -0.20318542726839373,
          -0.2455261423769662,
          -0.2762017651056573,
          -0.2567356361847071,
          -0.2747053351239057,
          -0.26523510063625794,
          -0.2937872634399038,
          -0.2893956197955624,
          -0.2779840704187505,
          -0.23378740639650528,
          -0.17344374490477013,
          -0.16780346271099902,
          -0.1370174594929778,
          -0.04114408519937287,
          -0.0991365846743572,
          -0.10696275438692217,
          -0.021413599012789268,
          -0.08287275287063413,
          -0.11429611660031032,
          -0.09917089550898203,
          -0.08208643878918509,
          -0.0905541108180023,
          -0.10847173636682077,
          -0.10814018248874316,
          -0.17039568522912865,
          -0.10688919443542873,
          -0.16045169618518024,
          0.042828832592210826
         ]
        },
        {
         "hoverinfo": "text",
         "hovertext": [
          "Les notebooks Jupyter sont des cahiers électroniques qui, dans le même document, peuvent rassembler du texte, des images, des formules mathématiques et du code informatique exécutable. Ils sont manipulables interactivement dans un navigateur web.\n\nInitialement développés pour les langages de programmation Julia, Python et R (d'où le nom Jupyter), les notebooks Jupyter supportent près de 40 langages différents.\n\nLa cellule est l'élément de base d'un notebook Jupyter. Elle peut contenir du texte formaté au format Markdown ou du code informatique qui pourra être exécuté.\n\nVoici un exemple de notebook Jupyter (figure @fig:jupyter-exemple) :\n\n![Exemple de notebook Jupyter. Les chiffres entourés désignent les différentes cellules.](img/jupyter-exemple.png \"Exemple de notebook Jupyter\"){ #fig:jupyter-exemple width=80% }\n\nCe notebook est constitué de cinq cellules : deux avec du texte en Markdown (la première et la dernière) et trois avec du code Python (notées avec `In [ ]`).",
          "Ce notebook est constitué de cinq cellules : deux avec du texte en Markdown (la première et la dernière) et trois avec du code Python (notées avec `In [ ]`).\n\n## Installation\n\nAvec la distribution Miniconda, les notebooks Jupyter s'installent avec la commande :\n\n```bash\n$ conda install -y jupyterlab\n```\n\nPour être exact, la commande précédente installe un peu plus que les notebooks Jupyter mais nous verrons cela par la suite.\n\n\n## Lancement de Jupyter et création d'un notebook\n\nPour lancer les notebooks Jupyter, utilisez la commande suivante depuis un *shell* :\n\n```bash\n$ jupyter-notebook\n```\n\nUne nouvelle page devrait s'ouvrir dans votre navigateur web  et ressembler à la figure @fig:jupyter-interface.\n\n![Interface de Jupyter.](img/jupyter-interface.png \"Interface de Jupyter\"){ #fig:jupyter-interface width=80% }\n\nCette interface liste les notebooks Jupyter existants (pour le moment aucun).",
          "![Interface de Jupyter.](img/jupyter-interface.png \"Interface de Jupyter\"){ #fig:jupyter-interface width=80% }\n\nCette interface liste les notebooks Jupyter existants (pour le moment aucun).\n\nPour créer un notebook, cliquez sur le bouton à droite *New* puis sélectionnez *Python 3*. Vous noterez au passage qu'il est également possible de créer un fichier texte, un répertoire ou bien encore de lancer un *shell* via un *Terminal* (voir figure @fig:jupyter-nouveau-notebook).\n\n![Création d'un nouveau notebook.](img/jupyter-nouveau-notebook.png \"Création d'un nouveau notebook\"){ #fig:jupyter-nouveau-notebook width=80% }\n\nLe notebook fraîchement créé ne contient qu'une cellule vide.\n\n![Nouveau notebook.](img/jupyter-nouveau-notebook-vide.png \"Nouveau notebook\"){ #fig:jupyter-nouveau-notebook-vide width=80% }",
          "Le notebook fraîchement créé ne contient qu'une cellule vide.\n\n![Nouveau notebook.](img/jupyter-nouveau-notebook-vide.png \"Nouveau notebook\"){ #fig:jupyter-nouveau-notebook-vide width=80% }\n\nLa première chose à faire est de donner un nom à votre notebook en cliquant sur *Untitled*, à droite du logo de Jupyter. Si le nom de votre notebook est *test* alors le fichier *test.ipynb* sera créé dans le répertoire depuis lequel vous avez lancé Jupyter.\n\nopen-box-rem\n\nL'extension *.ipynb* est l'extension de fichier des notebooks Jupyter.\n\nclose-box-rem\n\nVous pouvez entrer des instructions Python dans la première cellule. Par exemple :\n\n```python\na = 2\nb = 3\nprint(a+b)\n```\n\nPour exécuter le contenu de cette cellule, vous avez plusieurs possibilités :\n\n- Cliquer sur le menu *Cell*, puis *Run Cells*.\n- Cliquer sur le bouton *Run* (sous la barre de menu).\n- Presser simultanément les touches *Ctrl* + *Entrée*.",
          "- Cliquer sur le menu *Cell*, puis *Run Cells*.\n- Cliquer sur le bouton *Run* (sous la barre de menu).\n- Presser simultanément les touches *Ctrl* + *Entrée*.\n\nDans tous les cas, vous devriez obtenir quelque chose qui ressemble à l'image @fig:jupyter-cellule-1. La notation `In [1]` à gauche de la cellule indique qu'il s'agit de la première cellule exécutée.\n\n![Exécution d'une première cellule.](img/jupyter-cellule-1.png \"Exécution d'une première cellule.\"){ #fig:jupyter-cellule-1 width=80% }\n\nPour créer une nouvelle cellule, vous avez, ici encore, plusieurs possibilités :\n\n- Cliquer sur l’icône *+* sous la barre de menu.\n- Cliquer sur le menu *Insert*, puis *Insert Cell Below*.\n\nUne nouvelle cellule vide devrait apparaître.",
          "- Cliquer sur l’icône *+* sous la barre de menu.\n- Cliquer sur le menu *Insert*, puis *Insert Cell Below*.\n\nUne nouvelle cellule vide devrait apparaître.\n\nVous pouvez également créer une nouvelle cellule en positionnant votre curseur dans la première cellule, puis en pressant simultanément les touches *Alt* + *Entrée*. Si vous utilisez cette combinaison de touches, vous remarquerez que le numéro à gauche de la première cellule est passée de `In [1]` à `In [2]` car vous avez exécuté la première cellule *puis* créé une nouvelle cellule.\n\nVous pouvez ainsi créer plusieurs cellules les unes à la suite des autres. Un objet créé dans une cellule antérieure sera disponible dans les cellules suivantes. Par exemple, dans la figure @fig:jupyter-cellule-4, nous avons quatre cellules. Vous remarquerez que pour les cellules 3 et 4, le résultat renvoyé par le code Python est précédé par `Out [3]` et `Out [4]`.",
          "![Notebook avec plusieurs cellules de code Python.](img/jupyter-cellule-4.png \"Notebook avec plusieurs cellules de code Python\"){ #fig:jupyter-cellule-4 width=80% }\n\nDans un notebook Jupyter, il est parfaitement possible de réexécuter une cellule précédente. Par exemple la première cellule, qui porte désormais à sa gauche la numérotation `In [5]` (voir figure @fig:jupyter-cellule-4-mauvais-ordre).\n\n![Notebook avec une cellule ré-exécutée.](img/jupyter-cellule-4-mauvais-ordre.png \"Notebook avec une cellule ré-executée.\"){ #fig:jupyter-cellule-4-mauvais-ordre width=80% }\n\nopen-box-warn\n\nLa possibilité d'exécuter les cellules d'un notebook Jupyter dans un ordre arbitraire peut prêter à confusion, notamment si vous modifiez la même variable d'une cellule à l'autre.",
          "open-box-warn\n\nLa possibilité d'exécuter les cellules d'un notebook Jupyter dans un ordre arbitraire peut prêter à confusion, notamment si vous modifiez la même variable d'une cellule à l'autre.\n\nNous vous recommandons de régulièrement relancer complètement l'exécution de toutes les cellules de votre notebook, de la première à la dernière, en cliquant sur le menu *Kernel* puis *Restart & Run All* et enfin de valider le message *Restart and Run All Cells*.\n\nclose-box-warn\n\n\n## Le format Markdown\n\nDans le tout premier exemple (figure @fig:jupyter-exemple), nous avons vu qu'il était possible de mettre du texte au format Markdown dans une cellule.\n\nIl faut cependant indiquer à Jupyter que cette cellule est au format Markdown en cliquant sur *Code* sous la barre de menu puis en choisissant *Markdown*.",
          "Il faut cependant indiquer à Jupyter que cette cellule est au format Markdown en cliquant sur *Code* sous la barre de menu puis en choisissant *Markdown*.\n\nLe format Markdown permet de rédiger du texte formaté (gras, italique, liens, titres, images, formules mathématiques...) avec quelques balises très simples. Voici un exemple dans une notebook Jupyter (figure @fig:jupyter-markdown-1) et le rendu lorsque la cellule est exécutée (figure @fig:jupyter-markdown-2).\n\n![Notebook avec une cellule au format Markdown.](img/jupyter-markdown-1.png \"Notebook avec une cellule au format Markdown.\"){ #fig:jupyter-markdown-1 width=80% }\n\n![Notebook avec une cellule au format Markdown (après exécution).](img/jupyter-markdown-2.png \"Notebook avec une cellule au format Markdown (après exécution).\"){ #fig:jupyter-markdown-2 width=80% }\n\nNotez qu'une cellule Markdown n'a pas le marqueur `In [ ]` à sa gauche.",
          "Notez qu'une cellule Markdown n'a pas le marqueur `In [ ]` à sa gauche.\n\nLe format Markdown permet de rapidement et très simplement rédiger du texte structuré. Ce cours est par exemple complètement rédigé en Markdown ;-)\n\nNous vous conseillons d'explorer les possibilités du Markdown en consultant la page [Wikipédia](https://fr.wikipedia.org/wiki/Markdown) ou directement la [page de référence](https://daringfireball.net/projects/markdown/syntax).\n\n\n## Des graphiques dans les notebooks\n\nUn autre intérêt des notebooks Jupyter est de pouvoir y incorporer des graphiques réalisés avec la bibliothèque *matplotlib*.\n\nVoici un exemple en reprenant un graphique présenté dans le chapitre 17 *Quelques modules d'intérêt en bioinformatique* (figure @fig:jupyter-matplotlib).\n\n![Incorporation d'un graphique dans un notebook Jupyter.](img/jupyter-matplotlib.png \"Incorporation d'un graphique dans un notebook Jupyter.\"){ #fig:jupyter-matplotlib width=80% }",
          "![Incorporation d'un graphique dans un notebook Jupyter.](img/jupyter-matplotlib.png \"Incorporation d'un graphique dans un notebook Jupyter.\"){ #fig:jupyter-matplotlib width=80% }\n\nLa différence notable est l'utilisation de la commande :  \n`%matplotlib inline`  \nqui n'est à lancer qu'une seule fois (en général dans la première cellule du notebook) et qui permet l'incorporation de figures dans un notebook Jupyter.\n\nopen-box-rem\n\nPour quitter l'interface des notebooks Jupyter, il faut, dans le premier onglet qui est apparu, cliquer sur le bouton *Quit* (figure @fig:jupyter-interface).\n\nUne méthode plus radicale est de revenir sur le *shell* depuis lequel les notebooks Jupyter ont été lancés puis de presser deux fois la combinaison de touches *Ctrl* + *C*.\n\nclose-box-rem\n\n\n## Les *magic commands*\n\nLa commande précédente (`%matplotlib inline`) est une *magic command*. Il en existe beaucoup, en voici deux :",
          "close-box-rem\n\n\n## Les *magic commands*\n\nLa commande précédente (`%matplotlib inline`) est une *magic command*. Il en existe beaucoup, en voici deux :\n\n- `%whos` liste tous les objets (variables, fonctions, modules...) utilisés dans le notebook (voir figure @fig:jupyter-whos).\n- `%history` liste toutes les commandes Python lancées dans un notebook (voir figure @fig:jupyter-history).\n\n![*Magic command* `%whos`.](img/jupyter-whos.png){ #fig:jupyter-whos width=80% }\n\n![*Magic command* `%history`.](img/jupyter-history.png){ #fig:jupyter-history width=80% }\n\nEnfin, avec les environnements Linux ou Mac OS X, il est possible de lancer une commande Unix depuis un notebook Jupyter. Il faut pour cela précéder la commande du symbole « `!` ». La figure @fig:jupyter-ls illustre cette possibilité avec la commande `ls` qui affiche le contenu d'un répertoire.\n\n![Lancement d'une commande Unix.](img/jupyter-ls.png){ #fig:jupyter-ls width=80% }\n\nopen-box-rem",
          "![Lancement d'une commande Unix.](img/jupyter-ls.png){ #fig:jupyter-ls width=80% }\n\nopen-box-rem\n\nLe lancement de n'importe quelle commande Unix depuis un notebook Jupyter (en précédant cette commande de `!`) est une fonctionnalité très puissante.\n\nPour vous en rendre compte, jetez un œil au [notebook](https://github.com/MaayanLab/Zika-RNAseq-Pipeline/blob/master/Zika.ipynb) produit par les chercheurs Zichen Wang et Avi Ma'ayan qui reproduit l'analyse complète de données obtenues par séquençage haut débit. Ces analyses ont donné lieu à la publication de l'article scientifique « [*An open RNA-Seq data analysis pipeline tutorial with an example of reprocessing data from a recent Zika virus study*](https://f1000research.com/articles/5-1574/) » (F1000 Research, 2016).\n\nclose-box-rem\n\n\n## JupyterLab\n\nEn 2018, le consortium Jupyter a lancé *JupyterLab* qui est un environnement complet d'analyse.\nPour obtenir cette interface, lancez la commande suivante depuis un *shell* :",
          "## JupyterLab\n\nEn 2018, le consortium Jupyter a lancé *JupyterLab* qui est un environnement complet d'analyse.\nPour obtenir cette interface, lancez la commande suivante depuis un *shell* :\n\n```bash\n$ jupyter lab\n```\n\nUne nouvelle page devrait s'ouvrir dans votre navigateur web et vous devriez\nobtenir une interface similaire à la figure @fig:jupyterlab-1.\n\n![Interface de JupyterLab.](img/jupyterlab-1.png \"Interface de JupyterLab.\"){ #fig:jupyterlab-1 width=95% }\n\nL'interface proposée par JupyterLab est très riche. On peut y organiser un notebook Jupyter « classique » avec une figure en encart, un *shell* (voir figure @fig:jupyterlab-2)... Les possibilités sont infinies !\n\n![JupyterLab comme environnement d'analyse.](img/jupyterlab-2.png \"JupyterLab comme environnement d'analyse.\"){ #fig:jupyterlab-2 width=95% }\n\nopen-box-more\n\nLes *notebooks* Jupyter sont particulièrement adaptés à l'analyse de données en combinaison avec les modules *matplotlib* et *pandas*.\n\nclose-box-more"
         ],
         "marker": {
          "color": 2,
          "colorscale": [
           [
            0,
            "#440154"
           ],
           [
            0.1111111111111111,
            "#482878"
           ],
           [
            0.2222222222222222,
            "#3e4989"
           ],
           [
            0.3333333333333333,
            "#31688e"
           ],
           [
            0.4444444444444444,
            "#26828e"
           ],
           [
            0.5555555555555556,
            "#1f9e89"
           ],
           [
            0.6666666666666666,
            "#35b779"
           ],
           [
            0.7777777777777778,
            "#6ece58"
           ],
           [
            0.8888888888888888,
            "#b5de2b"
           ],
           [
            1,
            "#fde725"
           ]
          ],
          "opacity": 0.8,
          "size": 8
         },
         "mode": "markers",
         "name": "Jupyter et ses notebooks",
         "type": "scatter",
         "x": [
          -0.29883945351081803,
          -0.31701007814377213,
          -0.3309151487146917,
          -0.3250187666037989,
          -0.30092244433472565,
          -0.2809126389084595,
          -0.24889909225057244,
          -0.23004009196924144,
          -0.14610434057672117,
          -0.1887031706133396,
          -0.21783731197463982,
          -0.2180109051162734,
          -0.2935410463724038,
          -0.29419296834905473
         ],
         "y": [
          0.5369735462237567,
          0.5129721149192179,
          0.5409378194595451,
          0.4699221826067615,
          0.44621160853076547,
          0.3573532651719458,
          0.40714379190014605,
          0.5126544937089759,
          0.5344820010941984,
          0.4842135015779902,
          0.4735957083559122,
          0.35095831045533166,
          0.504022282270531,
          0.5419766863890364
         ]
        },
        {
         "hoverinfo": "text",
         "hovertext": [
          "## Définition\n\nUne **liste** est une structure de données qui contient une série de valeurs. Python autorise la construction de liste contenant des valeurs de types différents (par exemple entier et chaîne de caractères), ce qui leur confère une grande flexibilité. Une liste est déclarée par une série de valeurs (n'oubliez pas les guillemets, simples ou doubles, s'il s'agit de chaînes de caractères) séparées par des **virgules**, et le tout encadré par des **crochets**. En voici quelques exemples :\n\n```python\n>>> animaux = [\"girafe\", \"tigre\", \"singe\", \"souris\"]\n>>> tailles = [5, 2.5, 1.75, 0.15]\n>>> mixte = [\"girafe\", 5, \"souris\", 0.15]\n>>> animaux\n['girafe', 'tigre', 'singe', 'souris']\n>>> tailles\n[5, 2.5, 1.75, 0.15]\n>>> mixte\n['girafe', 5, 'souris', 0.15]\n```\n\nLorsque l'on affiche une liste, Python la restitue telle qu'elle a été saisie.\n\n\n## Utilisation",
          "Lorsque l'on affiche une liste, Python la restitue telle qu'elle a été saisie.\n\n\n## Utilisation\n\nUn des gros avantages d'une liste est que vous pouvez appeler ses éléments par leur position. Ce numéro est appelé **indice** (ou *index*) de la liste.\n\n```text\nliste  : [\"girafe\", \"tigre\", \"singe\", \"souris\"]\nindice :        0        1        2         3\n```\n\nSoyez très **attentif** au fait que les indices d'une liste de *n* éléments commencent à *0* et se terminent à *n-1*. Voyez l'exemple suivant :\n\n```python\n>>> animaux = [\"girafe\", \"tigre\", \"singe\", \"souris\"]\n>>> animaux[0]\n'girafe'\n>>> animaux[1]\n'tigre'\n>>> animaux[3]\n'souris'\n```\n\nPar conséquent, si on appelle l'élément d'indice 4 de notre liste, Python renverra un message d'erreur :\n\n```python\n>>> animaux[4]\nTraceback (innermost last):\n  File \"<stdin>\", line 1, in ?\nIndexError: list index out of range\n```\n\nN'oubliez pas ceci ou vous risquez d'obtenir des bugs inattendus !\n\n\n## Opération sur les listes",
          "N'oubliez pas ceci ou vous risquez d'obtenir des bugs inattendus !\n\n\n## Opération sur les listes\n\nTout comme les chaînes de caractères, les listes supportent l'opérateur `+` de concaténation, ainsi que l'opérateur `*` pour la duplication :\n\n```python\n>>> ani1 = [\"girafe\", \"tigre\"]\n>>> ani2 = [\"singe\", \"souris\"]\n>>> ani1 + ani2\n['girafe', 'tigre', 'singe', 'souris']\n>>> ani1 * 3\n['girafe', 'tigre', 'girafe', 'tigre', 'girafe', 'tigre']\n```\n\nL'opérateur `+` est très pratique pour concaténer deux listes.\n\nVous pouvez aussi utiliser la méthode `.append()` lorsque vous souhaitez ajouter un seul élément à la fin d'une liste.\n\nDans l'exemple suivant nous allons créer une liste vide :\n\n```python\n>>> a = []\n>>> a\n[]\n```\n\npuis lui ajouter deux éléments, l'un après l'autre, d'abord avec la concaténation :\n\n```python\n>>> a = a + [15]\n>>> a\n[15]\n>>> a = a + [-5]\n>>> a\n[15, -5]\n```\n\npuis avec la méthode `.append()` :",
          "puis lui ajouter deux éléments, l'un après l'autre, d'abord avec la concaténation :\n\n```python\n>>> a = a + [15]\n>>> a\n[15]\n>>> a = a + [-5]\n>>> a\n[15, -5]\n```\n\npuis avec la méthode `.append()` :\n\n```python\n>>> a.append(13)\n>>> a\n[15, -5, 13]\n>>> a.append(-3)\n>>> a\n[15, -5, 13, -3]\n```\n\nDans l'exemple ci-dessus, nous ajoutons des éléments à une liste en utilisant l'opérateur de concaténation `+` ou la méthode `.append()`. Nous vous conseillons dans ce cas précis d'utiliser la méthode `.append()` dont la syntaxe est plus élégante.\n\nNous reverrons en détail la méthode `.append()` dans le chapitre 11 *Plus sur les listes*.\n\n\n## Indiçage négatif\n\nLa liste peut également être indexée avec des nombres négatifs selon le modèle suivant :\n\n```text\nliste          : [\"girafe\", \"tigre\", \"singe\", \"souris\"]\nindice positif :        0        1        2         3\nindice négatif :       -4       -3       -2        -1\n```\n\nou encore :",
          "```text\nliste          : [\"girafe\", \"tigre\", \"singe\", \"souris\"]\nindice positif :        0        1        2         3\nindice négatif :       -4       -3       -2        -1\n```\n\nou encore :\n\n```text\nliste          : [\"A\", \"B\", \"C\", \"D\", \"E\", \"F\"]\nindice positif :   0    1    2    3    4    5\nindice négatif :  -6   -5   -4   -3   -2   -1\n```\n\nLes indices négatifs reviennent à compter à partir de la fin. Leur principal avantage est que vous pouvez accéder au dernier élément d'une liste à l'aide de l'indice `-1` sans pour autant connaître la longueur de cette liste. L'avant-dernier élément a lui l'indice `-2`, l'avant-avant dernier l'indice `-3`, etc.\n\n```python\n>>> animaux = [\"girafe\", \"tigre\", \"singe\", \"souris\"]\n>>> animaux[-1]\n'souris'\n>>> animaux[-2]\n'singe'\n```\n\nPour accéder au premier élément de la liste avec un indice négatif, il faut par contre connaître le bon indice :\n\n```python\n>>> animaux[-4]\n'girafe'\n```\n\nDans ce cas, on utilise plutôt `animaux[0]`.\n\n\n## Tranches",
          "```python\n>>> animaux[-4]\n'girafe'\n```\n\nDans ce cas, on utilise plutôt `animaux[0]`.\n\n\n## Tranches\n\nUn autre avantage des listes est la possibilité de sélectionner une partie d'une liste en utilisant un indiçage construit sur le modèle `[m:n+1]` pour récupérer tous les éléments, du émième au énième (de l'élément `m` inclus à l'élément `n+1` exclu). On dit alors qu'on récupère une **tranche** de la liste, par exemple :\n\n```python\n>>> animaux = [\"girafe\", \"tigre\", \"singe\", \"souris\"]\n>>> animaux[0:2]\n['girafe', 'tigre']\n>>> animaux[0:3]\n['girafe', 'tigre', 'singe']\n>>> animaux[0:]\n['girafe', 'tigre', 'singe', 'souris']\n>>> animaux[:]\n['girafe', 'tigre', 'singe', 'souris']\n>>> animaux[1:]\n['tigre', 'singe', 'souris']\n>>> animaux[1:-1]\n['tigre', 'singe']\n```\n\nNotez que lorsqu'aucun indice n'est indiqué à gauche ou à droite du symbole deux-points, Python prend par défaut tous les éléments depuis le début ou tous les éléments jusqu'à la fin respectivement.",
          "Notez que lorsqu'aucun indice n'est indiqué à gauche ou à droite du symbole deux-points, Python prend par défaut tous les éléments depuis le début ou tous les éléments jusqu'à la fin respectivement.\n\nOn peut aussi préciser le pas en ajoutant un symbole deux-points supplémentaire et en indiquant le pas par un entier.\n\n```python\n>>> animaux = [\"girafe\", \"tigre\", \"singe\", \"souris\"]\n>>> animaux[0:3:2]\n['girafe', 'singe']\n>>> x = [0, 1, 2, 3, 4, 5, 6, 7, 8, 9]\n>>> x\n[0, 1, 2, 3, 4, 5, 6, 7, 8, 9]\n>>> x[::1]\n[0, 1, 2, 3, 4, 5, 6, 7, 8, 9]\n>>> x[::2]\n[0, 2, 4, 6, 8]\n>>> x[::3]\n[0, 3, 6, 9]\n>>> x[1:6:3]\n[1, 4]\n```\n\nFinalement, on se rend compte que l'accès au contenu d'une liste fonctionne sur le modèle `liste[début:fin:pas]`.\n\n\n## Fonction `len()`\n\nL'instruction `len()` vous permet de connaître la longueur d'une liste, c'est-à-dire le nombre d'éléments que contient la liste. Voici un exemple d'utilisation :",
          "## Fonction `len()`\n\nL'instruction `len()` vous permet de connaître la longueur d'une liste, c'est-à-dire le nombre d'éléments que contient la liste. Voici un exemple d'utilisation :\n\n```python\n>>> animaux = [\"girafe\", \"tigre\", \"singe\", \"souris\"]\n>>> len(animaux)\n4\n>>> len([1, 2, 3, 4, 5, 6, 7, 8])\n8\n```\n\n\n## Les fonctions `range()` et `list()`\n\nL'instruction `range()` est une fonction spéciale en Python qui  génère des nombres entiers compris dans un intervalle. Lorsqu'elle est utilisée en combinaison avec la fonction `list()`, on obtient une liste d'entiers. Par exemple :\n\n```python\n>>> list(range(10))\n[0, 1, 2, 3, 4, 5, 6, 7, 8, 9]\n```\n\nLa commande `list(range(10))` a généré une liste contenant tous les nombres entiers de 0 inclus à 10 **exclu**. Nous verrons l'utilisation de la fonction `range()` toute seule dans le chapitre 5 *Boucles et comparaisons*.",
          "Dans l'exemple ci-dessus, la fonction `range()` a pris un argument, mais elle peut également prendre deux ou trois arguments, voyez plutôt :\n\n```python\n>>> list(range(0, 5))\n[0, 1, 2, 3, 4]\n>>> list(range(15, 20))\n[15, 16, 17, 18, 19]\n>>> list(range(0, 1000, 200))\n[0, 200, 400, 600, 800]\n>>> list(range(2, -2, -1))\n[2, 1, 0, -1]\n```\n\nL'instruction `range()` fonctionne sur le modèle `range([début,] fin[, pas])`. Les arguments entre crochets sont optionnels. Pour obtenir une liste de nombres entiers, il faut l'utiliser systématiquement avec la fonction `list()`.\n\nEnfin, prenez garde aux arguments optionnels par défaut (`0` pour `début` et `1` pour `pas`) :\n\n```python\n>>> list(range(10,0))\n[]\n```",
          "Enfin, prenez garde aux arguments optionnels par défaut (`0` pour `début` et `1` pour `pas`) :\n\n```python\n>>> list(range(10,0))\n[]\n```\n\nIci la liste est vide car Python a pris la valeur du pas par défaut qui est de 1. Ainsi, si on commence à 10 et qu'on avance par pas de 1, on ne pourra jamais atteindre 0. Python génère ainsi une liste vide. Pour éviter ça, il faudrait, par exemple, préciser un pas de -1 pour obtenir une liste d'entiers décroissants :\n\n```python\n>>> list(range(10,0,-1))\n[10, 9, 8, 7, 6, 5, 4, 3, 2, 1]\n```\n\n## Listes de listes\n\nPour finir, sachez qu'il est tout à fait possible de construire des listes de listes. Cette fonctionnalité peut parfois être très pratique. Par exemple :\n\n```python\n>>> enclos1 = [\"girafe\", 4]\n>>> enclos2 = [\"tigre\", 2]\n>>> enclos3 = [\"singe\", 5]\n>>> zoo = [enclos1, enclos2, enclos3]\n>>> zoo\n[['girafe', 4], ['tigre', 2], ['singe', 5]]\n```",
          "```python\n>>> enclos1 = [\"girafe\", 4]\n>>> enclos2 = [\"tigre\", 2]\n>>> enclos3 = [\"singe\", 5]\n>>> zoo = [enclos1, enclos2, enclos3]\n>>> zoo\n[['girafe', 4], ['tigre', 2], ['singe', 5]]\n```\n\nDans cet exemple, chaque sous-liste contient une catégorie d'animal et le nombre d'animaux pour chaque catégorie.\n\nPour accéder à un élément de la liste, on utilise l'indiçage habituel :\n\n```python\n>>> zoo[1]\n['tigre', 2]\n```\n\nPour accéder à un élément de la sous-liste, on utilise un double indiçage :\n\n```python\n>>> zoo[1][0]\n'tigre'\n>>> zoo[1][1]\n2\n```\n\nOn verra un peu plus loin qu'il existe en Python des dictionnaires qui sont également très pratiques pour stocker de l'information structurée. On verra aussi qu'il existe un module nommé *NumPy* qui permet de créer des listes ou des tableaux de nombres (vecteurs et matrices) et de les manipuler.\n\n## Minimum, maximum et somme d'une liste",
          "## Minimum, maximum et somme d'une liste\n\nLes fonctions `min()`, `max()` et `sum()` renvoient respectivement le minimum, le maximum et la somme d'une liste passée en argument.\n\n```python\n>>> liste = list(range(10))\n>>> liste\n[0, 1, 2, 3, 4, 5, 6, 7, 8, 9]\n>>> sum(liste)\n45\n>>> min(liste)\n0\n>>> max(liste)\n9\n```\n\nMême si en théorie ces fonctions peuvent prendre en argument une liste de *strings*, on les utilisera la plupart du temps avec des types numériques (liste d'entiers et / ou de *floats*). \n\nNous avions déjà croisé `min()`, `max()` dans le chapitre 2 *Variables*. On avait vu que ces deux fonctions pouvaient prendre plusieurs arguments entiers et / ou *floats*, par exemple :\n\n```python\n>>> min(3, 4)\n3\n```\n\nAttention toutefois à ne pas mélanger entiers et *floats* d'une part avec une liste d'autre part, car cela renvoie une erreur :",
          "```python\n>>> min(3, 4)\n3\n```\n\nAttention toutefois à ne pas mélanger entiers et *floats* d'une part avec une liste d'autre part, car cela renvoie une erreur :\n\n```python\n>>> min(liste, 3, 4)\nTraceback (most recent call last):\n  File \"<stdin>\", line 1, in <module>\nTypeError: '<' not supported between instances of 'int' and 'list'\n```\n\nSoit on passe plusieurs entiers et / ou *floats* en argument, soit on passe une liste unique.\n\n## Exercices\n\n*Conseil* : utilisez l'interpréteur Python.\n\n\n### Jours de la semaine\n\nConstituez une liste `semaine` contenant les 7 jours de la semaine.\n\n1. À partir de cette liste, comment récupérez-vous seulement les 5 premiers jours de la semaine d'une part, et ceux du week-end d'autre part ? Utilisez pour cela l'indiçage.\n2. Cherchez un autre moyen pour arriver au même résultat (*en utilisant un autre indiçage*).\n3. Trouvez deux manières pour accéder au dernier jour de la semaine.\n4. Inversez les jours de la semaine en une commande.\n\n\n### Saisons",
          "### Saisons\n\nCréez 4 listes `hiver`, `printemps`, `ete` et `automne` contenant les mois correspondants à ces saisons. Créez ensuite une liste `saisons` contenant les listes `hiver`, `printemps`, `ete` et `automne`. Prévoyez ce que renvoient les instructions suivantes, puis vérifiez-le dans l'interpréteur :\n\n1. `saisons[2]`\n2. `saisons[1][0]`\n3. `saisons[1:2]`\n4. `saisons[:][1]`. Comment expliquez-vous ce dernier résultat ?\n\n\n### Table de multiplication par 9\n\nAffichez la table de multiplication par 9 en une seule commande avec les instructions `range()` et `list()`.\n\n\n### Nombres pairs\n\nRépondez à la question suivante en une seule commande. Combien y a-t-il de nombres pairs dans l'intervalle `[2, 10000]` inclus ?"
         ],
         "marker": {
          "color": 3,
          "colorscale": [
           [
            0,
            "#440154"
           ],
           [
            0.1111111111111111,
            "#482878"
           ],
           [
            0.2222222222222222,
            "#3e4989"
           ],
           [
            0.3333333333333333,
            "#31688e"
           ],
           [
            0.4444444444444444,
            "#26828e"
           ],
           [
            0.5555555555555556,
            "#1f9e89"
           ],
           [
            0.6666666666666666,
            "#35b779"
           ],
           [
            0.7777777777777778,
            "#6ece58"
           ],
           [
            0.8888888888888888,
            "#b5de2b"
           ],
           [
            1,
            "#fde725"
           ]
          ],
          "opacity": 0.8,
          "size": 8
         },
         "mode": "markers",
         "name": "Listes",
         "type": "scatter",
         "x": [
          -0.23804476825981682,
          -0.24739420984051988,
          -0.17808407135262241,
          -0.21318642161602647,
          -0.2581964327746571,
          -0.23971334264886146,
          -0.22564008478467326,
          -0.2574308185060829,
          -0.19956593491417235,
          -0.2892737796903101,
          -0.2741386110724943,
          -0.20064250165083,
          -0.20478827527658924,
          -0.22880694205090768
         ],
         "y": [
          -0.16439013272176947,
          -0.1562680725158459,
          -0.13631262247075984,
          -0.15118720870054933,
          -0.14330172991759033,
          -0.17493879963813747,
          -0.1987301828997783,
          -0.1904810878235367,
          -0.270292478889839,
          -0.2093075009160761,
          -0.17573346532858966,
          -0.2817318816229615,
          -0.2152970683304484,
          -0.11794739703590257
         ]
        }
       ],
       "layout": {
        "autosize": false,
        "height": 500,
        "margin": {
         "b": 100,
         "l": 50,
         "pad": 10,
         "r": 50,
         "t": 100
        },
        "template": {
         "data": {
          "bar": [
           {
            "error_x": {
             "color": "#2a3f5f"
            },
            "error_y": {
             "color": "#2a3f5f"
            },
            "marker": {
             "line": {
              "color": "#E5ECF6",
              "width": 0.5
             },
             "pattern": {
              "fillmode": "overlay",
              "size": 10,
              "solidity": 0.2
             }
            },
            "type": "bar"
           }
          ],
          "barpolar": [
           {
            "marker": {
             "line": {
              "color": "#E5ECF6",
              "width": 0.5
             },
             "pattern": {
              "fillmode": "overlay",
              "size": 10,
              "solidity": 0.2
             }
            },
            "type": "barpolar"
           }
          ],
          "carpet": [
           {
            "aaxis": {
             "endlinecolor": "#2a3f5f",
             "gridcolor": "white",
             "linecolor": "white",
             "minorgridcolor": "white",
             "startlinecolor": "#2a3f5f"
            },
            "baxis": {
             "endlinecolor": "#2a3f5f",
             "gridcolor": "white",
             "linecolor": "white",
             "minorgridcolor": "white",
             "startlinecolor": "#2a3f5f"
            },
            "type": "carpet"
           }
          ],
          "choropleth": [
           {
            "colorbar": {
             "outlinewidth": 0,
             "ticks": ""
            },
            "type": "choropleth"
           }
          ],
          "contour": [
           {
            "colorbar": {
             "outlinewidth": 0,
             "ticks": ""
            },
            "colorscale": [
             [
              0,
              "#0d0887"
             ],
             [
              0.1111111111111111,
              "#46039f"
             ],
             [
              0.2222222222222222,
              "#7201a8"
             ],
             [
              0.3333333333333333,
              "#9c179e"
             ],
             [
              0.4444444444444444,
              "#bd3786"
             ],
             [
              0.5555555555555556,
              "#d8576b"
             ],
             [
              0.6666666666666666,
              "#ed7953"
             ],
             [
              0.7777777777777778,
              "#fb9f3a"
             ],
             [
              0.8888888888888888,
              "#fdca26"
             ],
             [
              1,
              "#f0f921"
             ]
            ],
            "type": "contour"
           }
          ],
          "contourcarpet": [
           {
            "colorbar": {
             "outlinewidth": 0,
             "ticks": ""
            },
            "type": "contourcarpet"
           }
          ],
          "heatmap": [
           {
            "colorbar": {
             "outlinewidth": 0,
             "ticks": ""
            },
            "colorscale": [
             [
              0,
              "#0d0887"
             ],
             [
              0.1111111111111111,
              "#46039f"
             ],
             [
              0.2222222222222222,
              "#7201a8"
             ],
             [
              0.3333333333333333,
              "#9c179e"
             ],
             [
              0.4444444444444444,
              "#bd3786"
             ],
             [
              0.5555555555555556,
              "#d8576b"
             ],
             [
              0.6666666666666666,
              "#ed7953"
             ],
             [
              0.7777777777777778,
              "#fb9f3a"
             ],
             [
              0.8888888888888888,
              "#fdca26"
             ],
             [
              1,
              "#f0f921"
             ]
            ],
            "type": "heatmap"
           }
          ],
          "heatmapgl": [
           {
            "colorbar": {
             "outlinewidth": 0,
             "ticks": ""
            },
            "colorscale": [
             [
              0,
              "#0d0887"
             ],
             [
              0.1111111111111111,
              "#46039f"
             ],
             [
              0.2222222222222222,
              "#7201a8"
             ],
             [
              0.3333333333333333,
              "#9c179e"
             ],
             [
              0.4444444444444444,
              "#bd3786"
             ],
             [
              0.5555555555555556,
              "#d8576b"
             ],
             [
              0.6666666666666666,
              "#ed7953"
             ],
             [
              0.7777777777777778,
              "#fb9f3a"
             ],
             [
              0.8888888888888888,
              "#fdca26"
             ],
             [
              1,
              "#f0f921"
             ]
            ],
            "type": "heatmapgl"
           }
          ],
          "histogram": [
           {
            "marker": {
             "pattern": {
              "fillmode": "overlay",
              "size": 10,
              "solidity": 0.2
             }
            },
            "type": "histogram"
           }
          ],
          "histogram2d": [
           {
            "colorbar": {
             "outlinewidth": 0,
             "ticks": ""
            },
            "colorscale": [
             [
              0,
              "#0d0887"
             ],
             [
              0.1111111111111111,
              "#46039f"
             ],
             [
              0.2222222222222222,
              "#7201a8"
             ],
             [
              0.3333333333333333,
              "#9c179e"
             ],
             [
              0.4444444444444444,
              "#bd3786"
             ],
             [
              0.5555555555555556,
              "#d8576b"
             ],
             [
              0.6666666666666666,
              "#ed7953"
             ],
             [
              0.7777777777777778,
              "#fb9f3a"
             ],
             [
              0.8888888888888888,
              "#fdca26"
             ],
             [
              1,
              "#f0f921"
             ]
            ],
            "type": "histogram2d"
           }
          ],
          "histogram2dcontour": [
           {
            "colorbar": {
             "outlinewidth": 0,
             "ticks": ""
            },
            "colorscale": [
             [
              0,
              "#0d0887"
             ],
             [
              0.1111111111111111,
              "#46039f"
             ],
             [
              0.2222222222222222,
              "#7201a8"
             ],
             [
              0.3333333333333333,
              "#9c179e"
             ],
             [
              0.4444444444444444,
              "#bd3786"
             ],
             [
              0.5555555555555556,
              "#d8576b"
             ],
             [
              0.6666666666666666,
              "#ed7953"
             ],
             [
              0.7777777777777778,
              "#fb9f3a"
             ],
             [
              0.8888888888888888,
              "#fdca26"
             ],
             [
              1,
              "#f0f921"
             ]
            ],
            "type": "histogram2dcontour"
           }
          ],
          "mesh3d": [
           {
            "colorbar": {
             "outlinewidth": 0,
             "ticks": ""
            },
            "type": "mesh3d"
           }
          ],
          "parcoords": [
           {
            "line": {
             "colorbar": {
              "outlinewidth": 0,
              "ticks": ""
             }
            },
            "type": "parcoords"
           }
          ],
          "pie": [
           {
            "automargin": true,
            "type": "pie"
           }
          ],
          "scatter": [
           {
            "fillpattern": {
             "fillmode": "overlay",
             "size": 10,
             "solidity": 0.2
            },
            "type": "scatter"
           }
          ],
          "scatter3d": [
           {
            "line": {
             "colorbar": {
              "outlinewidth": 0,
              "ticks": ""
             }
            },
            "marker": {
             "colorbar": {
              "outlinewidth": 0,
              "ticks": ""
             }
            },
            "type": "scatter3d"
           }
          ],
          "scattercarpet": [
           {
            "marker": {
             "colorbar": {
              "outlinewidth": 0,
              "ticks": ""
             }
            },
            "type": "scattercarpet"
           }
          ],
          "scattergeo": [
           {
            "marker": {
             "colorbar": {
              "outlinewidth": 0,
              "ticks": ""
             }
            },
            "type": "scattergeo"
           }
          ],
          "scattergl": [
           {
            "marker": {
             "colorbar": {
              "outlinewidth": 0,
              "ticks": ""
             }
            },
            "type": "scattergl"
           }
          ],
          "scattermapbox": [
           {
            "marker": {
             "colorbar": {
              "outlinewidth": 0,
              "ticks": ""
             }
            },
            "type": "scattermapbox"
           }
          ],
          "scatterpolar": [
           {
            "marker": {
             "colorbar": {
              "outlinewidth": 0,
              "ticks": ""
             }
            },
            "type": "scatterpolar"
           }
          ],
          "scatterpolargl": [
           {
            "marker": {
             "colorbar": {
              "outlinewidth": 0,
              "ticks": ""
             }
            },
            "type": "scatterpolargl"
           }
          ],
          "scatterternary": [
           {
            "marker": {
             "colorbar": {
              "outlinewidth": 0,
              "ticks": ""
             }
            },
            "type": "scatterternary"
           }
          ],
          "surface": [
           {
            "colorbar": {
             "outlinewidth": 0,
             "ticks": ""
            },
            "colorscale": [
             [
              0,
              "#0d0887"
             ],
             [
              0.1111111111111111,
              "#46039f"
             ],
             [
              0.2222222222222222,
              "#7201a8"
             ],
             [
              0.3333333333333333,
              "#9c179e"
             ],
             [
              0.4444444444444444,
              "#bd3786"
             ],
             [
              0.5555555555555556,
              "#d8576b"
             ],
             [
              0.6666666666666666,
              "#ed7953"
             ],
             [
              0.7777777777777778,
              "#fb9f3a"
             ],
             [
              0.8888888888888888,
              "#fdca26"
             ],
             [
              1,
              "#f0f921"
             ]
            ],
            "type": "surface"
           }
          ],
          "table": [
           {
            "cells": {
             "fill": {
              "color": "#EBF0F8"
             },
             "line": {
              "color": "white"
             }
            },
            "header": {
             "fill": {
              "color": "#C8D4E3"
             },
             "line": {
              "color": "white"
             }
            },
            "type": "table"
           }
          ]
         },
         "layout": {
          "annotationdefaults": {
           "arrowcolor": "#2a3f5f",
           "arrowhead": 0,
           "arrowwidth": 1
          },
          "autotypenumbers": "strict",
          "coloraxis": {
           "colorbar": {
            "outlinewidth": 0,
            "ticks": ""
           }
          },
          "colorscale": {
           "diverging": [
            [
             0,
             "#8e0152"
            ],
            [
             0.1,
             "#c51b7d"
            ],
            [
             0.2,
             "#de77ae"
            ],
            [
             0.3,
             "#f1b6da"
            ],
            [
             0.4,
             "#fde0ef"
            ],
            [
             0.5,
             "#f7f7f7"
            ],
            [
             0.6,
             "#e6f5d0"
            ],
            [
             0.7,
             "#b8e186"
            ],
            [
             0.8,
             "#7fbc41"
            ],
            [
             0.9,
             "#4d9221"
            ],
            [
             1,
             "#276419"
            ]
           ],
           "sequential": [
            [
             0,
             "#0d0887"
            ],
            [
             0.1111111111111111,
             "#46039f"
            ],
            [
             0.2222222222222222,
             "#7201a8"
            ],
            [
             0.3333333333333333,
             "#9c179e"
            ],
            [
             0.4444444444444444,
             "#bd3786"
            ],
            [
             0.5555555555555556,
             "#d8576b"
            ],
            [
             0.6666666666666666,
             "#ed7953"
            ],
            [
             0.7777777777777778,
             "#fb9f3a"
            ],
            [
             0.8888888888888888,
             "#fdca26"
            ],
            [
             1,
             "#f0f921"
            ]
           ],
           "sequentialminus": [
            [
             0,
             "#0d0887"
            ],
            [
             0.1111111111111111,
             "#46039f"
            ],
            [
             0.2222222222222222,
             "#7201a8"
            ],
            [
             0.3333333333333333,
             "#9c179e"
            ],
            [
             0.4444444444444444,
             "#bd3786"
            ],
            [
             0.5555555555555556,
             "#d8576b"
            ],
            [
             0.6666666666666666,
             "#ed7953"
            ],
            [
             0.7777777777777778,
             "#fb9f3a"
            ],
            [
             0.8888888888888888,
             "#fdca26"
            ],
            [
             1,
             "#f0f921"
            ]
           ]
          },
          "colorway": [
           "#636efa",
           "#EF553B",
           "#00cc96",
           "#ab63fa",
           "#FFA15A",
           "#19d3f3",
           "#FF6692",
           "#B6E880",
           "#FF97FF",
           "#FECB52"
          ],
          "font": {
           "color": "#2a3f5f"
          },
          "geo": {
           "bgcolor": "white",
           "lakecolor": "white",
           "landcolor": "#E5ECF6",
           "showlakes": true,
           "showland": true,
           "subunitcolor": "white"
          },
          "hoverlabel": {
           "align": "left"
          },
          "hovermode": "closest",
          "mapbox": {
           "style": "light"
          },
          "paper_bgcolor": "white",
          "plot_bgcolor": "#E5ECF6",
          "polar": {
           "angularaxis": {
            "gridcolor": "white",
            "linecolor": "white",
            "ticks": ""
           },
           "bgcolor": "#E5ECF6",
           "radialaxis": {
            "gridcolor": "white",
            "linecolor": "white",
            "ticks": ""
           }
          },
          "scene": {
           "xaxis": {
            "backgroundcolor": "#E5ECF6",
            "gridcolor": "white",
            "gridwidth": 2,
            "linecolor": "white",
            "showbackground": true,
            "ticks": "",
            "zerolinecolor": "white"
           },
           "yaxis": {
            "backgroundcolor": "#E5ECF6",
            "gridcolor": "white",
            "gridwidth": 2,
            "linecolor": "white",
            "showbackground": true,
            "ticks": "",
            "zerolinecolor": "white"
           },
           "zaxis": {
            "backgroundcolor": "#E5ECF6",
            "gridcolor": "white",
            "gridwidth": 2,
            "linecolor": "white",
            "showbackground": true,
            "ticks": "",
            "zerolinecolor": "white"
           }
          },
          "shapedefaults": {
           "line": {
            "color": "#2a3f5f"
           }
          },
          "ternary": {
           "aaxis": {
            "gridcolor": "white",
            "linecolor": "white",
            "ticks": ""
           },
           "baxis": {
            "gridcolor": "white",
            "linecolor": "white",
            "ticks": ""
           },
           "bgcolor": "#E5ECF6",
           "caxis": {
            "gridcolor": "white",
            "linecolor": "white",
            "ticks": ""
           }
          },
          "title": {
           "x": 0.05
          },
          "xaxis": {
           "automargin": true,
           "gridcolor": "white",
           "linecolor": "white",
           "ticks": "",
           "title": {
            "standoff": 15
           },
           "zerolinecolor": "white",
           "zerolinewidth": 2
          },
          "yaxis": {
           "automargin": true,
           "gridcolor": "white",
           "linecolor": "white",
           "ticks": "",
           "title": {
            "standoff": 15
           },
           "zerolinecolor": "white",
           "zerolinewidth": 2
          }
         }
        },
        "title": {
         "text": "2D Scatter Plot of Chapters"
        },
        "width": 800,
        "xaxis": {
         "title": {
          "text": "x"
         }
        },
        "yaxis": {
         "title": {
          "text": "y"
         }
        }
       }
      }
     },
     "metadata": {},
     "output_type": "display_data"
    }
   ],
   "source": [
    "# Display the 2D scatter plot of Categories using Plotly\n",
    "fig = go.Figure()\n",
    "\n",
    "for i, chapter in enumerate(chapters_list):\n",
    "    sub_matrix = np.array(df_chapter[df_chapter[\"chapter\"] == chapter][\"chunk_embedding_pca\"].to_list())\n",
    "    x = sub_matrix[:, 0] # first dimension of the embeddings\n",
    "    y = sub_matrix[:, 1] # second dimension of the embeddings\n",
    "\n",
    "    # get the question text for hover\n",
    "    hover_text = df_chapter[df_chapter[\"chapter\"] == chapter][\"chunk_content\"]\n",
    "\n",
    "    fig.add_trace(\n",
    "        go.Scatter(\n",
    "            x=x,\n",
    "            y=y,\n",
    "            mode=\"markers\",\n",
    "            marker=dict(size=8, color=i, colorscale=\"Viridis\", opacity=0.8),\n",
    "            name=chapter,\n",
    "            hovertext=hover_text,\n",
    "            hoverinfo=\"text\",\n",
    "        )\n",
    "    )\n",
    "\n",
    "fig.update_layout(\n",
    "    autosize=False,\n",
    "    title=\"2D Scatter Plot of Chapters\",\n",
    "    width=800,\n",
    "    height=500,\n",
    "    margin=dict(l=50, r=50, b=100, t=100, pad=10),\n",
    "    xaxis=dict(title=\"x\"),\n",
    "    yaxis=dict(title=\"y\"),\n",
    ")\n",
    "\n",
    "fig.show()"
   ]
  },
  {
   "cell_type": "code",
   "execution_count": 63,
   "metadata": {},
   "outputs": [
    {
     "ename": "IndexError",
     "evalue": "too many indices for array: array is 1-dimensional, but 2 were indexed",
     "output_type": "error",
     "traceback": [
      "\u001b[0;31m---------------------------------------------------------------------------\u001b[0m",
      "\u001b[0;31mIndexError\u001b[0m                                Traceback (most recent call last)",
      "Cell \u001b[0;32mIn[63], line 6\u001b[0m\n\u001b[1;32m      4\u001b[0m \u001b[38;5;28;01mfor\u001b[39;00m i, chapter \u001b[38;5;129;01min\u001b[39;00m \u001b[38;5;28menumerate\u001b[39m(chapters):\n\u001b[1;32m      5\u001b[0m     sub_matrix \u001b[38;5;241m=\u001b[39m np\u001b[38;5;241m.\u001b[39marray(df_chapter[df_chapter[\u001b[38;5;124m\"\u001b[39m\u001b[38;5;124mchapter\u001b[39m\u001b[38;5;124m\"\u001b[39m] \u001b[38;5;241m==\u001b[39m chapter][\u001b[38;5;124m\"\u001b[39m\u001b[38;5;124mchunk_embedding_pca\u001b[39m\u001b[38;5;124m\"\u001b[39m]\u001b[38;5;241m.\u001b[39mto_list())\n\u001b[0;32m----> 6\u001b[0m     x \u001b[38;5;241m=\u001b[39m \u001b[43msub_matrix\u001b[49m\u001b[43m[\u001b[49m\u001b[43m:\u001b[49m\u001b[43m,\u001b[49m\u001b[43m \u001b[49m\u001b[38;5;241;43m0\u001b[39;49m\u001b[43m]\u001b[49m\n\u001b[1;32m      7\u001b[0m     y \u001b[38;5;241m=\u001b[39m sub_matrix[:, \u001b[38;5;241m1\u001b[39m]\n\u001b[1;32m      8\u001b[0m     z \u001b[38;5;241m=\u001b[39m sub_matrix[:, \u001b[38;5;241m2\u001b[39m]\n",
      "\u001b[0;31mIndexError\u001b[0m: too many indices for array: array is 1-dimensional, but 2 were indexed"
     ]
    }
   ],
   "source": [
    "# Display the 3D Scatter Plot of Categories\n",
    "fig = go.Figure()\n",
    "\n",
    "for i, chapter in enumerate(chapters_list):\n",
    "    sub_matrix = np.array(df_chapter[df_chapter[\"chapter\"] == chapter][\"chunk_embedding_pca\"].to_list())\n",
    "    x = sub_matrix[:, 0]\n",
    "    y = sub_matrix[:, 1]\n",
    "    z = sub_matrix[:, 2]\n",
    "\n",
    "    # get the question text for hover\n",
    "    hover_text = df_chapter[df_chapter[\"chapter\"] == chapter][\"chunk_content\"]\n",
    "\n",
    "    fig.add_trace(\n",
    "        go.Scatter3d(\n",
    "            x=x,\n",
    "            y=y,\n",
    "            z=z,\n",
    "            mode=\"markers\",\n",
    "            marker=dict(size=5, color=i, colorscale=\"Viridis\", opacity=0.8),\n",
    "            name=chapter,\n",
    "            hovertext=hover_text,\n",
    "            hoverinfo=\"text\",\n",
    "        )\n",
    "    )\n",
    "\n",
    "fig.update_layout(\n",
    "    autosize=False,\n",
    "    title=\"3D Scatter Plot of Chapters\",\n",
    "    width=800,\n",
    "    height=500,\n",
    "    margin=dict(l=50, r=50, b=100, t=100, pad=10),\n",
    "    scene=dict(\n",
    "        xaxis=dict(title=\"x\"),\n",
    "        yaxis=dict(title=\"y\"),\n",
    "        zaxis=dict(title=\"z\"),\n",
    "    ),\n",
    ")\n",
    "\n",
    "fig.show()"
   ]
  },
  {
   "cell_type": "code",
   "execution_count": null,
   "metadata": {},
   "outputs": [],
   "source": []
  }
 ],
 "metadata": {
  "kernelspec": {
   "display_name": "biopyassistantenv",
   "language": "python",
   "name": "python3"
  },
  "language_info": {
   "codemirror_mode": {
    "name": "ipython",
    "version": 3
   },
   "file_extension": ".py",
   "mimetype": "text/x-python",
   "name": "python",
   "nbconvert_exporter": "python",
   "pygments_lexer": "ipython3",
   "version": "3.12.3"
  }
 },
 "nbformat": 4,
 "nbformat_minor": 2
}
