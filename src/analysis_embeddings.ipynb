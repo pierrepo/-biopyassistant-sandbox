{
 "cells": [
  {
   "cell_type": "markdown",
   "metadata": {},
   "source": [
    "# Analysis of the embeddings \n"
   ]
  },
  {
   "cell_type": "markdown",
   "metadata": {},
   "source": [
    "An embedding is a sequence of numbers that represents the concepts within content such as natural language or code. Embeddings make it easy for machine learning models and other algorithms to understand the relationships between content and to perform tasks like clustering or retrieval. "
   ]
  },
  {
   "cell_type": "code",
   "execution_count": 53,
   "metadata": {},
   "outputs": [],
   "source": [
    "# Libraries import\n",
    "import numpy as np\n",
    "import pandas as pd\n",
    "import matplotlib.pyplot as plt\n",
    "import plotly.graph_objects as go\n",
    "from openai import OpenAI\n",
    "from sklearn.decomposition import PCA\n",
    "from langchain_text_splitters import (\n",
    "    RecursiveCharacterTextSplitter,\n",
    ")"
   ]
  },
  {
   "cell_type": "code",
   "execution_count": 54,
   "metadata": {},
   "outputs": [],
   "source": [
    "# Define the embedding model\n",
    "EMBEDDING_MODEL = \"text-embedding-3-large\""
   ]
  },
  {
   "cell_type": "markdown",
   "metadata": {},
   "source": [
    "## 1. Exploratory Data Analysis"
   ]
  },
  {
   "cell_type": "code",
   "execution_count": 55,
   "metadata": {},
   "outputs": [
    {
     "data": {
      "text/html": [
       "<div>\n",
       "<style scoped>\n",
       "    .dataframe tbody tr th:only-of-type {\n",
       "        vertical-align: middle;\n",
       "    }\n",
       "\n",
       "    .dataframe tbody tr th {\n",
       "        vertical-align: top;\n",
       "    }\n",
       "\n",
       "    .dataframe thead th {\n",
       "        text-align: right;\n",
       "    }\n",
       "</style>\n",
       "<table border=\"1\" class=\"dataframe\">\n",
       "  <thead>\n",
       "    <tr style=\"text-align: right;\">\n",
       "      <th></th>\n",
       "      <th>categorie</th>\n",
       "      <th>description</th>\n",
       "    </tr>\n",
       "  </thead>\n",
       "  <tbody>\n",
       "    <tr>\n",
       "      <th>0</th>\n",
       "      <td>Python</td>\n",
       "      <td>Python est un langage de programmation interpr...</td>\n",
       "    </tr>\n",
       "    <tr>\n",
       "      <th>1</th>\n",
       "      <td>Python</td>\n",
       "      <td>Les développeurs utilisent souvent Python pour...</td>\n",
       "    </tr>\n",
       "    <tr>\n",
       "      <th>2</th>\n",
       "      <td>Python</td>\n",
       "      <td>La syntaxe claire et concise de Python en fait...</td>\n",
       "    </tr>\n",
       "    <tr>\n",
       "      <th>3</th>\n",
       "      <td>Python</td>\n",
       "      <td>Python est un langage polyvalent utilisé dans ...</td>\n",
       "    </tr>\n",
       "    <tr>\n",
       "      <th>4</th>\n",
       "      <td>Python</td>\n",
       "      <td>Les grandes entreprises telles que Google Face...</td>\n",
       "    </tr>\n",
       "    <tr>\n",
       "      <th>5</th>\n",
       "      <td>Python</td>\n",
       "      <td>Les listes en Python sont des structures de do...</td>\n",
       "    </tr>\n",
       "    <tr>\n",
       "      <th>6</th>\n",
       "      <td>Animaux</td>\n",
       "      <td>Le python royal est une espèce de serpent non ...</td>\n",
       "    </tr>\n",
       "    <tr>\n",
       "      <th>7</th>\n",
       "      <td>Animaux</td>\n",
       "      <td>Les pandas géants sont célèbres pour leur pela...</td>\n",
       "    </tr>\n",
       "    <tr>\n",
       "      <th>8</th>\n",
       "      <td>Animaux</td>\n",
       "      <td>Les pythons peuvent avaler des proies entières...</td>\n",
       "    </tr>\n",
       "    <tr>\n",
       "      <th>9</th>\n",
       "      <td>Animaux</td>\n",
       "      <td>Les pandas roux bien que moins connus que les ...</td>\n",
       "    </tr>\n",
       "    <tr>\n",
       "      <th>10</th>\n",
       "      <td>Animaux</td>\n",
       "      <td>Les pandas passent la majeure partie de leur j...</td>\n",
       "    </tr>\n",
       "    <tr>\n",
       "      <th>11</th>\n",
       "      <td>Animaux</td>\n",
       "      <td>Certains pythons peuvent atteindre des longueu...</td>\n",
       "    </tr>\n",
       "  </tbody>\n",
       "</table>\n",
       "</div>"
      ],
      "text/plain": [
       "   categorie                                        description\n",
       "0     Python  Python est un langage de programmation interpr...\n",
       "1     Python  Les développeurs utilisent souvent Python pour...\n",
       "2     Python  La syntaxe claire et concise de Python en fait...\n",
       "3     Python  Python est un langage polyvalent utilisé dans ...\n",
       "4     Python  Les grandes entreprises telles que Google Face...\n",
       "5     Python  Les listes en Python sont des structures de do...\n",
       "6    Animaux  Le python royal est une espèce de serpent non ...\n",
       "7    Animaux  Les pandas géants sont célèbres pour leur pela...\n",
       "8    Animaux  Les pythons peuvent avaler des proies entières...\n",
       "9    Animaux  Les pandas roux bien que moins connus que les ...\n",
       "10   Animaux  Les pandas passent la majeure partie de leur j...\n",
       "11   Animaux  Certains pythons peuvent atteindre des longueu..."
      ]
     },
     "execution_count": 55,
     "metadata": {},
     "output_type": "execute_result"
    }
   ],
   "source": [
    "# Import the data\n",
    "df = pd.read_csv(\"sentence.csv\", sep=\",\")\n",
    "df"
   ]
  },
  {
   "cell_type": "code",
   "execution_count": 56,
   "metadata": {},
   "outputs": [
    {
     "data": {
      "text/plain": [
       "['Animaux', 'Python']"
      ]
     },
     "execution_count": 56,
     "metadata": {},
     "output_type": "execute_result"
    }
   ],
   "source": [
    "# Get the list of categories\n",
    "categories = sorted(df[\"categorie\"].unique())\n",
    "categories"
   ]
  },
  {
   "cell_type": "code",
   "execution_count": 57,
   "metadata": {},
   "outputs": [],
   "source": [
    "# Function to create the embeddings\n",
    "client = OpenAI()\n",
    "\n",
    "def get_embeddings(text, model=EMBEDDING_MODEL):\n",
    "   text = text.replace(\"\\n\", \" \")\n",
    "   return client.embeddings.create(input = [text], \n",
    "model=model).data[0].embedding"
   ]
  },
  {
   "cell_type": "code",
   "execution_count": 58,
   "metadata": {},
   "outputs": [
    {
     "data": {
      "text/html": [
       "<div>\n",
       "<style scoped>\n",
       "    .dataframe tbody tr th:only-of-type {\n",
       "        vertical-align: middle;\n",
       "    }\n",
       "\n",
       "    .dataframe tbody tr th {\n",
       "        vertical-align: top;\n",
       "    }\n",
       "\n",
       "    .dataframe thead th {\n",
       "        text-align: right;\n",
       "    }\n",
       "</style>\n",
       "<table border=\"1\" class=\"dataframe\">\n",
       "  <thead>\n",
       "    <tr style=\"text-align: right;\">\n",
       "      <th></th>\n",
       "      <th>categorie</th>\n",
       "      <th>description</th>\n",
       "      <th>description_embedding</th>\n",
       "      <th>embedding_dim</th>\n",
       "      <th>embedding_norm</th>\n",
       "    </tr>\n",
       "  </thead>\n",
       "  <tbody>\n",
       "    <tr>\n",
       "      <th>0</th>\n",
       "      <td>Python</td>\n",
       "      <td>Python est un langage de programmation interpr...</td>\n",
       "      <td>[-0.019810084253549576, 0.0003318125382065773,...</td>\n",
       "      <td>3072</td>\n",
       "      <td>1.0</td>\n",
       "    </tr>\n",
       "    <tr>\n",
       "      <th>1</th>\n",
       "      <td>Python</td>\n",
       "      <td>Les développeurs utilisent souvent Python pour...</td>\n",
       "      <td>[-0.016582222655415535, -0.016995301470160484,...</td>\n",
       "      <td>3072</td>\n",
       "      <td>1.0</td>\n",
       "    </tr>\n",
       "    <tr>\n",
       "      <th>2</th>\n",
       "      <td>Python</td>\n",
       "      <td>La syntaxe claire et concise de Python en fait...</td>\n",
       "      <td>[0.011798487976193428, 0.0072993808425962925, ...</td>\n",
       "      <td>3072</td>\n",
       "      <td>1.0</td>\n",
       "    </tr>\n",
       "  </tbody>\n",
       "</table>\n",
       "</div>"
      ],
      "text/plain": [
       "  categorie                                        description  \\\n",
       "0    Python  Python est un langage de programmation interpr...   \n",
       "1    Python  Les développeurs utilisent souvent Python pour...   \n",
       "2    Python  La syntaxe claire et concise de Python en fait...   \n",
       "\n",
       "                               description_embedding  embedding_dim  \\\n",
       "0  [-0.019810084253549576, 0.0003318125382065773,...           3072   \n",
       "1  [-0.016582222655415535, -0.016995301470160484,...           3072   \n",
       "2  [0.011798487976193428, 0.0072993808425962925, ...           3072   \n",
       "\n",
       "   embedding_norm  \n",
       "0             1.0  \n",
       "1             1.0  \n",
       "2             1.0  "
      ]
     },
     "execution_count": 58,
     "metadata": {},
     "output_type": "execute_result"
    }
   ],
   "source": [
    "# Save embeddings for each question\n",
    "description_embeddings = []\n",
    "for description in df[\"description\"]:\n",
    "    # Get the embeddings\n",
    "    embedding = get_embeddings(description, model=EMBEDDING_MODEL)\n",
    "    description_embeddings.append(embedding)\n",
    "    \"\"\"\n",
    "    print(description)\n",
    "    print(embedding)\n",
    "    print(\"\\n\")\n",
    "    \"\"\"\n",
    "df[\"description_embedding\"] = description_embeddings\n",
    "\n",
    "# Get the dimension of the embeddings\n",
    "df[\"embedding_dim\"] = df[\"description_embedding\"].apply(lambda x: len(x))\n",
    "\n",
    "# Get the norm of the embeddings\n",
    "df[\"embedding_norm\"] = df[\"description_embedding\"].apply(lambda x: np.linalg.norm(x))\n",
    "df.head(3)"
   ]
  },
  {
   "cell_type": "markdown",
   "metadata": {},
   "source": [
    "We notice that the dimension of the embeddings is 3072, that is coherent with the embedding model used to generate the embeddings.\n",
    "\n",
    "Additionnally, the norm is 1 for all the embeddings, which means that the embeddings are normalized. This is a common practice in machine learning to normalize the embeddings to make the training process easier."
   ]
  },
  {
   "cell_type": "code",
   "execution_count": 59,
   "metadata": {},
   "outputs": [
    {
     "data": {
      "text/html": [
       "<div>\n",
       "<style scoped>\n",
       "    .dataframe tbody tr th:only-of-type {\n",
       "        vertical-align: middle;\n",
       "    }\n",
       "\n",
       "    .dataframe tbody tr th {\n",
       "        vertical-align: top;\n",
       "    }\n",
       "\n",
       "    .dataframe thead th {\n",
       "        text-align: right;\n",
       "    }\n",
       "</style>\n",
       "<table border=\"1\" class=\"dataframe\">\n",
       "  <thead>\n",
       "    <tr style=\"text-align: right;\">\n",
       "      <th></th>\n",
       "      <th>categorie</th>\n",
       "      <th>description</th>\n",
       "      <th>description_embedding</th>\n",
       "      <th>embedding_dim</th>\n",
       "      <th>embedding_norm</th>\n",
       "      <th>description_embedding_pca</th>\n",
       "      <th>embedding_dim_pca</th>\n",
       "      <th>embedding_norm_pca</th>\n",
       "    </tr>\n",
       "  </thead>\n",
       "  <tbody>\n",
       "    <tr>\n",
       "      <th>0</th>\n",
       "      <td>Python</td>\n",
       "      <td>Python est un langage de programmation interpr...</td>\n",
       "      <td>[-0.019810084253549576, 0.0003318125382065773,...</td>\n",
       "      <td>3072</td>\n",
       "      <td>1.0</td>\n",
       "      <td>[-0.4664758252728602, 0.00847796440769039, -0....</td>\n",
       "      <td>3</td>\n",
       "      <td>0.534030</td>\n",
       "    </tr>\n",
       "    <tr>\n",
       "      <th>1</th>\n",
       "      <td>Python</td>\n",
       "      <td>Les développeurs utilisent souvent Python pour...</td>\n",
       "      <td>[-0.016582222655415535, -0.016995301470160484,...</td>\n",
       "      <td>3072</td>\n",
       "      <td>1.0</td>\n",
       "      <td>[-0.3061859957008855, -0.2548099921836301, 0.2...</td>\n",
       "      <td>3</td>\n",
       "      <td>0.471001</td>\n",
       "    </tr>\n",
       "    <tr>\n",
       "      <th>2</th>\n",
       "      <td>Python</td>\n",
       "      <td>La syntaxe claire et concise de Python en fait...</td>\n",
       "      <td>[0.011798487976193428, 0.0072993808425962925, ...</td>\n",
       "      <td>3072</td>\n",
       "      <td>1.0</td>\n",
       "      <td>[-0.31224150731607236, -0.04791677968425453, -...</td>\n",
       "      <td>3</td>\n",
       "      <td>0.323684</td>\n",
       "    </tr>\n",
       "  </tbody>\n",
       "</table>\n",
       "</div>"
      ],
      "text/plain": [
       "  categorie                                        description  \\\n",
       "0    Python  Python est un langage de programmation interpr...   \n",
       "1    Python  Les développeurs utilisent souvent Python pour...   \n",
       "2    Python  La syntaxe claire et concise de Python en fait...   \n",
       "\n",
       "                               description_embedding  embedding_dim  \\\n",
       "0  [-0.019810084253549576, 0.0003318125382065773,...           3072   \n",
       "1  [-0.016582222655415535, -0.016995301470160484,...           3072   \n",
       "2  [0.011798487976193428, 0.0072993808425962925, ...           3072   \n",
       "\n",
       "   embedding_norm                          description_embedding_pca  \\\n",
       "0             1.0  [-0.4664758252728602, 0.00847796440769039, -0....   \n",
       "1             1.0  [-0.3061859957008855, -0.2548099921836301, 0.2...   \n",
       "2             1.0  [-0.31224150731607236, -0.04791677968425453, -...   \n",
       "\n",
       "   embedding_dim_pca  embedding_norm_pca  \n",
       "0                  3            0.534030  \n",
       "1                  3            0.471001  \n",
       "2                  3            0.323684  "
      ]
     },
     "execution_count": 59,
     "metadata": {},
     "output_type": "execute_result"
    }
   ],
   "source": [
    "# Reduce the dimension of the embeddings with PCA\n",
    "pca_embeddings = PCA(n_components=3).fit_transform(description_embeddings)\n",
    "df[\"description_embedding_pca\"] = list(pca_embeddings)\n",
    "\n",
    "# Get the dimension of the embeddings\n",
    "df[\"embedding_dim_pca\"] = df[\"description_embedding_pca\"].apply(lambda x: len(x))\n",
    "\n",
    "# Get the norm of the embeddings\n",
    "df[\"embedding_norm_pca\"] = df[\"description_embedding_pca\"].apply(lambda x: np.linalg.norm(x))\n",
    "df.head(3)"
   ]
  },
  {
   "cell_type": "markdown",
   "metadata": {},
   "source": [
    "After the reduction of the dimensionality, the dimension is 3 and the norm is not 1 anymore. This is because the reduction of the dimensionality is not a linear transformation and the norm is not preserved."
   ]
  },
  {
   "cell_type": "markdown",
   "metadata": {},
   "source": [
    "### Embedding Projection After Dimensionality Reduction"
   ]
  },
  {
   "cell_type": "code",
   "execution_count": 60,
   "metadata": {},
   "outputs": [
    {
     "data": {
      "image/png": "[encoded data removed]",
      "text/plain": [
       "<Figure size 1000x1000 with 1 Axes>"
      ]
     },
     "metadata": {},
     "output_type": "display_data"
    }
   ],
   "source": [
    "# Display the 2D scatter plot of Categories using Matplotlib\n",
    "fig = plt.figure(figsize=(10, 10))\n",
    "\n",
    "for category in categories:\n",
    "    plt.scatter(df[df[\"categorie\"] == category][\"description_embedding_pca\"].apply(lambda x: x[0]), \n",
    "                df[df[\"categorie\"] == category][\"description_embedding_pca\"].apply(lambda x: x[1]), \n",
    "                label=category)\n",
    "    \n",
    "plt.xlabel(\"x\")\n",
    "plt.ylabel(\"y\")\n",
    "plt.title(\"2D Scatter Plot of Categories\")\n",
    "plt.legend()\n",
    "plt.show()"
   ]
  },
  {
   "cell_type": "code",
   "execution_count": 61,
   "metadata": {},
   "outputs": [
    {
     "data": {
      "application/vnd.plotly.v1+json": {
       "config": {
        "plotlyServerURL": "https://plot.ly"
       },
       "data": [
        {
         "hoverinfo": "text",
         "hovertext": [
          "Le python royal est une espèce de serpent non venimeux originaire d'Afrique.",
          "Les pandas géants sont célèbres pour leur pelage noir et blanc distinctif.",
          "Les pythons peuvent avaler des proies entières grâce à leur mâchoire extensible.",
          "Les pandas roux bien que moins connus que les pandas géants sont également des créatures adorables.",
          "Les pandas passent la majeure partie de leur journée à manger du bambou.",
          "Certains pythons peuvent atteindre des longueurs impressionnantes dépassant souvent les 6 mètres."
         ],
         "marker": {
          "color": 0,
          "colorscale": [
           [
            0,
            "#440154"
           ],
           [
            0.1111111111111111,
            "#482878"
           ],
           [
            0.2222222222222222,
            "#3e4989"
           ],
           [
            0.3333333333333333,
            "#31688e"
           ],
           [
            0.4444444444444444,
            "#26828e"
           ],
           [
            0.5555555555555556,
            "#1f9e89"
           ],
           [
            0.6666666666666666,
            "#35b779"
           ],
           [
            0.7777777777777778,
            "#6ece58"
           ],
           [
            0.8888888888888888,
            "#b5de2b"
           ],
           [
            1,
            "#fde725"
           ]
          ],
          "opacity": 0.8,
          "size": 8
         },
         "mode": "markers",
         "name": "Animaux",
         "type": "scatter",
         "x": [
          0.20217792538058196,
          0.5456722746863405,
          0.18309259878276207,
          0.5324878862028193,
          0.4548781389027656,
          0.1931738920373285
         ],
         "y": [
          0.5781508709743344,
          -0.2981510775243524,
          0.4198495024721082,
          -0.2944771220754371,
          -0.28911692983856063,
          0.4410132063587693
         ]
        },
        {
         "hoverinfo": "text",
         "hovertext": [
          "Python est un langage de programmation interprété dynamique et polyvalent.",
          "Les développeurs utilisent souvent Python pour l'analyse de données en raison de ses bibliothèques robustes comme Pandas et NumPy.",
          "La syntaxe claire et concise de Python en fait un excellent choix pour les débutants en programmation.",
          "Python est un langage polyvalent utilisé dans des domaines allant du développement de jeux à l'automatisation des tâches système.",
          "Les grandes entreprises telles que Google Facebook et Netflix font largement usage de Python dans leur infrastructure logicielle.",
          "Les listes en Python sont des structures de données flexibles et polyvalentes permettant de stocker et de manipuler des collections d'éléments."
         ],
         "marker": {
          "color": 1,
          "colorscale": [
           [
            0,
            "#440154"
           ],
           [
            0.1111111111111111,
            "#482878"
           ],
           [
            0.2222222222222222,
            "#3e4989"
           ],
           [
            0.3333333333333333,
            "#31688e"
           ],
           [
            0.4444444444444444,
            "#26828e"
           ],
           [
            0.5555555555555556,
            "#1f9e89"
           ],
           [
            0.6666666666666666,
            "#35b779"
           ],
           [
            0.7777777777777778,
            "#6ece58"
           ],
           [
            0.8888888888888888,
            "#b5de2b"
           ],
           [
            1,
            "#fde725"
           ]
          ],
          "opacity": 0.8,
          "size": 8
         },
         "mode": "markers",
         "name": "Python",
         "type": "scatter",
         "x": [
          -0.4664758252728602,
          -0.3061859957008855,
          -0.31224150731607236,
          -0.472980661707122,
          -0.24793060198518932,
          -0.3056681240104677
         ],
         "y": [
          0.00847796440769039,
          -0.2548099921836301,
          -0.04791677968425453,
          -0.0755611831577477,
          -0.17331566678664326,
          -0.014142792962276718
         ]
        }
       ],
       "layout": {
        "autosize": false,
        "height": 500,
        "margin": {
         "b": 100,
         "l": 50,
         "pad": 10,
         "r": 50,
         "t": 100
        },
        "template": {
         "data": {
          "bar": [
           {
            "error_x": {
             "color": "#2a3f5f"
            },
            "error_y": {
             "color": "#2a3f5f"
            },
            "marker": {
             "line": {
              "color": "#E5ECF6",
              "width": 0.5
             },
             "pattern": {
              "fillmode": "overlay",
              "size": 10,
              "solidity": 0.2
             }
            },
            "type": "bar"
           }
          ],
          "barpolar": [
           {
            "marker": {
             "line": {
              "color": "#E5ECF6",
              "width": 0.5
             },
             "pattern": {
              "fillmode": "overlay",
              "size": 10,
              "solidity": 0.2
             }
            },
            "type": "barpolar"
           }
          ],
          "carpet": [
           {
            "aaxis": {
             "endlinecolor": "#2a3f5f",
             "gridcolor": "white",
             "linecolor": "white",
             "minorgridcolor": "white",
             "startlinecolor": "#2a3f5f"
            },
            "baxis": {
             "endlinecolor": "#2a3f5f",
             "gridcolor": "white",
             "linecolor": "white",
             "minorgridcolor": "white",
             "startlinecolor": "#2a3f5f"
            },
            "type": "carpet"
           }
          ],
          "choropleth": [
           {
            "colorbar": {
             "outlinewidth": 0,
             "ticks": ""
            },
            "type": "choropleth"
           }
          ],
          "contour": [
           {
            "colorbar": {
             "outlinewidth": 0,
             "ticks": ""
            },
            "colorscale": [
             [
              0,
              "#0d0887"
             ],
             [
              0.1111111111111111,
              "#46039f"
             ],
             [
              0.2222222222222222,
              "#7201a8"
             ],
             [
              0.3333333333333333,
              "#9c179e"
             ],
             [
              0.4444444444444444,
              "#bd3786"
             ],
             [
              0.5555555555555556,
              "#d8576b"
             ],
             [
              0.6666666666666666,
              "#ed7953"
             ],
             [
              0.7777777777777778,
              "#fb9f3a"
             ],
             [
              0.8888888888888888,
              "#fdca26"
             ],
             [
              1,
              "#f0f921"
             ]
            ],
            "type": "contour"
           }
          ],
          "contourcarpet": [
           {
            "colorbar": {
             "outlinewidth": 0,
             "ticks": ""
            },
            "type": "contourcarpet"
           }
          ],
          "heatmap": [
           {
            "colorbar": {
             "outlinewidth": 0,
             "ticks": ""
            },
            "colorscale": [
             [
              0,
              "#0d0887"
             ],
             [
              0.1111111111111111,
              "#46039f"
             ],
             [
              0.2222222222222222,
              "#7201a8"
             ],
             [
              0.3333333333333333,
              "#9c179e"
             ],
             [
              0.4444444444444444,
              "#bd3786"
             ],
             [
              0.5555555555555556,
              "#d8576b"
             ],
             [
              0.6666666666666666,
              "#ed7953"
             ],
             [
              0.7777777777777778,
              "#fb9f3a"
             ],
             [
              0.8888888888888888,
              "#fdca26"
             ],
             [
              1,
              "#f0f921"
             ]
            ],
            "type": "heatmap"
           }
          ],
          "heatmapgl": [
           {
            "colorbar": {
             "outlinewidth": 0,
             "ticks": ""
            },
            "colorscale": [
             [
              0,
              "#0d0887"
             ],
             [
              0.1111111111111111,
              "#46039f"
             ],
             [
              0.2222222222222222,
              "#7201a8"
             ],
             [
              0.3333333333333333,
              "#9c179e"
             ],
             [
              0.4444444444444444,
              "#bd3786"
             ],
             [
              0.5555555555555556,
              "#d8576b"
             ],
             [
              0.6666666666666666,
              "#ed7953"
             ],
             [
              0.7777777777777778,
              "#fb9f3a"
             ],
             [
              0.8888888888888888,
              "#fdca26"
             ],
             [
              1,
              "#f0f921"
             ]
            ],
            "type": "heatmapgl"
           }
          ],
          "histogram": [
           {
            "marker": {
             "pattern": {
              "fillmode": "overlay",
              "size": 10,
              "solidity": 0.2
             }
            },
            "type": "histogram"
           }
          ],
          "histogram2d": [
           {
            "colorbar": {
             "outlinewidth": 0,
             "ticks": ""
            },
            "colorscale": [
             [
              0,
              "#0d0887"
             ],
             [
              0.1111111111111111,
              "#46039f"
             ],
             [
              0.2222222222222222,
              "#7201a8"
             ],
             [
              0.3333333333333333,
              "#9c179e"
             ],
             [
              0.4444444444444444,
              "#bd3786"
             ],
             [
              0.5555555555555556,
              "#d8576b"
             ],
             [
              0.6666666666666666,
              "#ed7953"
             ],
             [
              0.7777777777777778,
              "#fb9f3a"
             ],
             [
              0.8888888888888888,
              "#fdca26"
             ],
             [
              1,
              "#f0f921"
             ]
            ],
            "type": "histogram2d"
           }
          ],
          "histogram2dcontour": [
           {
            "colorbar": {
             "outlinewidth": 0,
             "ticks": ""
            },
            "colorscale": [
             [
              0,
              "#0d0887"
             ],
             [
              0.1111111111111111,
              "#46039f"
             ],
             [
              0.2222222222222222,
              "#7201a8"
             ],
             [
              0.3333333333333333,
              "#9c179e"
             ],
             [
              0.4444444444444444,
              "#bd3786"
             ],
             [
              0.5555555555555556,
              "#d8576b"
             ],
             [
              0.6666666666666666,
              "#ed7953"
             ],
             [
              0.7777777777777778,
              "#fb9f3a"
             ],
             [
              0.8888888888888888,
              "#fdca26"
             ],
             [
              1,
              "#f0f921"
             ]
            ],
            "type": "histogram2dcontour"
           }
          ],
          "mesh3d": [
           {
            "colorbar": {
             "outlinewidth": 0,
             "ticks": ""
            },
            "type": "mesh3d"
           }
          ],
          "parcoords": [
           {
            "line": {
             "colorbar": {
              "outlinewidth": 0,
              "ticks": ""
             }
            },
            "type": "parcoords"
           }
          ],
          "pie": [
           {
            "automargin": true,
            "type": "pie"
           }
          ],
          "scatter": [
           {
            "fillpattern": {
             "fillmode": "overlay",
             "size": 10,
             "solidity": 0.2
            },
            "type": "scatter"
           }
          ],
          "scatter3d": [
           {
            "line": {
             "colorbar": {
              "outlinewidth": 0,
              "ticks": ""
             }
            },
            "marker": {
             "colorbar": {
              "outlinewidth": 0,
              "ticks": ""
             }
            },
            "type": "scatter3d"
           }
          ],
          "scattercarpet": [
           {
            "marker": {
             "colorbar": {
              "outlinewidth": 0,
              "ticks": ""
             }
            },
            "type": "scattercarpet"
           }
          ],
          "scattergeo": [
           {
            "marker": {
             "colorbar": {
              "outlinewidth": 0,
              "ticks": ""
             }
            },
            "type": "scattergeo"
           }
          ],
          "scattergl": [
           {
            "marker": {
             "colorbar": {
              "outlinewidth": 0,
              "ticks": ""
             }
            },
            "type": "scattergl"
           }
          ],
          "scattermapbox": [
           {
            "marker": {
             "colorbar": {
              "outlinewidth": 0,
              "ticks": ""
             }
            },
            "type": "scattermapbox"
           }
          ],
          "scatterpolar": [
           {
            "marker": {
             "colorbar": {
              "outlinewidth": 0,
              "ticks": ""
             }
            },
            "type": "scatterpolar"
           }
          ],
          "scatterpolargl": [
           {
            "marker": {
             "colorbar": {
              "outlinewidth": 0,
              "ticks": ""
             }
            },
            "type": "scatterpolargl"
           }
          ],
          "scatterternary": [
           {
            "marker": {
             "colorbar": {
              "outlinewidth": 0,
              "ticks": ""
             }
            },
            "type": "scatterternary"
           }
          ],
          "surface": [
           {
            "colorbar": {
             "outlinewidth": 0,
             "ticks": ""
            },
            "colorscale": [
             [
              0,
              "#0d0887"
             ],
             [
              0.1111111111111111,
              "#46039f"
             ],
             [
              0.2222222222222222,
              "#7201a8"
             ],
             [
              0.3333333333333333,
              "#9c179e"
             ],
             [
              0.4444444444444444,
              "#bd3786"
             ],
             [
              0.5555555555555556,
              "#d8576b"
             ],
             [
              0.6666666666666666,
              "#ed7953"
             ],
             [
              0.7777777777777778,
              "#fb9f3a"
             ],
             [
              0.8888888888888888,
              "#fdca26"
             ],
             [
              1,
              "#f0f921"
             ]
            ],
            "type": "surface"
           }
          ],
          "table": [
           {
            "cells": {
             "fill": {
              "color": "#EBF0F8"
             },
             "line": {
              "color": "white"
             }
            },
            "header": {
             "fill": {
              "color": "#C8D4E3"
             },
             "line": {
              "color": "white"
             }
            },
            "type": "table"
           }
          ]
         },
         "layout": {
          "annotationdefaults": {
           "arrowcolor": "#2a3f5f",
           "arrowhead": 0,
           "arrowwidth": 1
          },
          "autotypenumbers": "strict",
          "coloraxis": {
           "colorbar": {
            "outlinewidth": 0,
            "ticks": ""
           }
          },
          "colorscale": {
           "diverging": [
            [
             0,
             "#8e0152"
            ],
            [
             0.1,
             "#c51b7d"
            ],
            [
             0.2,
             "#de77ae"
            ],
            [
             0.3,
             "#f1b6da"
            ],
            [
             0.4,
             "#fde0ef"
            ],
            [
             0.5,
             "#f7f7f7"
            ],
            [
             0.6,
             "#e6f5d0"
            ],
            [
             0.7,
             "#b8e186"
            ],
            [
             0.8,
             "#7fbc41"
            ],
            [
             0.9,
             "#4d9221"
            ],
            [
             1,
             "#276419"
            ]
           ],
           "sequential": [
            [
             0,
             "#0d0887"
            ],
            [
             0.1111111111111111,
             "#46039f"
            ],
            [
             0.2222222222222222,
             "#7201a8"
            ],
            [
             0.3333333333333333,
             "#9c179e"
            ],
            [
             0.4444444444444444,
             "#bd3786"
            ],
            [
             0.5555555555555556,
             "#d8576b"
            ],
            [
             0.6666666666666666,
             "#ed7953"
            ],
            [
             0.7777777777777778,
             "#fb9f3a"
            ],
            [
             0.8888888888888888,
             "#fdca26"
            ],
            [
             1,
             "#f0f921"
            ]
           ],
           "sequentialminus": [
            [
             0,
             "#0d0887"
            ],
            [
             0.1111111111111111,
             "#46039f"
            ],
            [
             0.2222222222222222,
             "#7201a8"
            ],
            [
             0.3333333333333333,
             "#9c179e"
            ],
            [
             0.4444444444444444,
             "#bd3786"
            ],
            [
             0.5555555555555556,
             "#d8576b"
            ],
            [
             0.6666666666666666,
             "#ed7953"
            ],
            [
             0.7777777777777778,
             "#fb9f3a"
            ],
            [
             0.8888888888888888,
             "#fdca26"
            ],
            [
             1,
             "#f0f921"
            ]
           ]
          },
          "colorway": [
           "#636efa",
           "#EF553B",
           "#00cc96",
           "#ab63fa",
           "#FFA15A",
           "#19d3f3",
           "#FF6692",
           "#B6E880",
           "#FF97FF",
           "#FECB52"
          ],
          "font": {
           "color": "#2a3f5f"
          },
          "geo": {
           "bgcolor": "white",
           "lakecolor": "white",
           "landcolor": "#E5ECF6",
           "showlakes": true,
           "showland": true,
           "subunitcolor": "white"
          },
          "hoverlabel": {
           "align": "left"
          },
          "hovermode": "closest",
          "mapbox": {
           "style": "light"
          },
          "paper_bgcolor": "white",
          "plot_bgcolor": "#E5ECF6",
          "polar": {
           "angularaxis": {
            "gridcolor": "white",
            "linecolor": "white",
            "ticks": ""
           },
           "bgcolor": "#E5ECF6",
           "radialaxis": {
            "gridcolor": "white",
            "linecolor": "white",
            "ticks": ""
           }
          },
          "scene": {
           "xaxis": {
            "backgroundcolor": "#E5ECF6",
            "gridcolor": "white",
            "gridwidth": 2,
            "linecolor": "white",
            "showbackground": true,
            "ticks": "",
            "zerolinecolor": "white"
           },
           "yaxis": {
            "backgroundcolor": "#E5ECF6",
            "gridcolor": "white",
            "gridwidth": 2,
            "linecolor": "white",
            "showbackground": true,
            "ticks": "",
            "zerolinecolor": "white"
           },
           "zaxis": {
            "backgroundcolor": "#E5ECF6",
            "gridcolor": "white",
            "gridwidth": 2,
            "linecolor": "white",
            "showbackground": true,
            "ticks": "",
            "zerolinecolor": "white"
           }
          },
          "shapedefaults": {
           "line": {
            "color": "#2a3f5f"
           }
          },
          "ternary": {
           "aaxis": {
            "gridcolor": "white",
            "linecolor": "white",
            "ticks": ""
           },
           "baxis": {
            "gridcolor": "white",
            "linecolor": "white",
            "ticks": ""
           },
           "bgcolor": "#E5ECF6",
           "caxis": {
            "gridcolor": "white",
            "linecolor": "white",
            "ticks": ""
           }
          },
          "title": {
           "x": 0.05
          },
          "xaxis": {
           "automargin": true,
           "gridcolor": "white",
           "linecolor": "white",
           "ticks": "",
           "title": {
            "standoff": 15
           },
           "zerolinecolor": "white",
           "zerolinewidth": 2
          },
          "yaxis": {
           "automargin": true,
           "gridcolor": "white",
           "linecolor": "white",
           "ticks": "",
           "title": {
            "standoff": 15
           },
           "zerolinecolor": "white",
           "zerolinewidth": 2
          }
         }
        },
        "title": {
         "text": "2D Scatter Plot of Categories"
        },
        "width": 800,
        "xaxis": {
         "title": {
          "text": "x"
         }
        },
        "yaxis": {
         "title": {
          "text": "y"
         }
        }
       }
      }
     },
     "metadata": {},
     "output_type": "display_data"
    }
   ],
   "source": [
    "# Display the 2D scatter plot of Categories using Plotly\n",
    "fig = go.Figure()\n",
    "\n",
    "for i, cat in enumerate(categories):\n",
    "    sub_matrix = np.array(df[df[\"categorie\"] == cat][\"description_embedding_pca\"].to_list())\n",
    "    x = sub_matrix[:, 0] # first dimension of the embeddings\n",
    "    y = sub_matrix[:, 1] # second dimension of the embeddings\n",
    "\n",
    "    # get the question text for hover\n",
    "    hover_text = df[df[\"categorie\"] == cat][\"description\"]\n",
    "\n",
    "    fig.add_trace(\n",
    "        go.Scatter(\n",
    "            x=x,\n",
    "            y=y,\n",
    "            mode=\"markers\",\n",
    "            marker=dict(size=8, color=i, colorscale=\"Viridis\", opacity=0.8),\n",
    "            name=cat,\n",
    "            hovertext=hover_text,\n",
    "            hoverinfo=\"text\",\n",
    "        )\n",
    "    )\n",
    "\n",
    "fig.update_layout(\n",
    "    autosize=False,\n",
    "    title=\"2D Scatter Plot of Categories\",\n",
    "    width=800,\n",
    "    height=500,\n",
    "    margin=dict(l=50, r=50, b=100, t=100, pad=10),\n",
    "    xaxis=dict(title=\"x\"),\n",
    "    yaxis=dict(title=\"y\"),\n",
    ")\n",
    "\n",
    "fig.show()"
   ]
  },
  {
   "cell_type": "code",
   "execution_count": 62,
   "metadata": {},
   "outputs": [
    {
     "data": {
      "application/vnd.plotly.v1+json": {
       "config": {
        "plotlyServerURL": "https://plot.ly"
       },
       "data": [
        {
         "hoverinfo": "text",
         "hovertext": [
          "Le python royal est une espèce de serpent non venimeux originaire d'Afrique.",
          "Les pandas géants sont célèbres pour leur pelage noir et blanc distinctif.",
          "Les pythons peuvent avaler des proies entières grâce à leur mâchoire extensible.",
          "Les pandas roux bien que moins connus que les pandas géants sont également des créatures adorables.",
          "Les pandas passent la majeure partie de leur journée à manger du bambou.",
          "Certains pythons peuvent atteindre des longueurs impressionnantes dépassant souvent les 6 mètres."
         ],
         "marker": {
          "color": 0,
          "colorscale": [
           [
            0,
            "#440154"
           ],
           [
            0.1111111111111111,
            "#482878"
           ],
           [
            0.2222222222222222,
            "#3e4989"
           ],
           [
            0.3333333333333333,
            "#31688e"
           ],
           [
            0.4444444444444444,
            "#26828e"
           ],
           [
            0.5555555555555556,
            "#1f9e89"
           ],
           [
            0.6666666666666666,
            "#35b779"
           ],
           [
            0.7777777777777778,
            "#6ece58"
           ],
           [
            0.8888888888888888,
            "#b5de2b"
           ],
           [
            1,
            "#fde725"
           ]
          ],
          "opacity": 0.8,
          "size": 5
         },
         "mode": "markers",
         "name": "Animaux",
         "type": "scatter3d",
         "x": [
          0.20217792538058196,
          0.5456722746863405,
          0.18309259878276207,
          0.5324878862028193,
          0.4548781389027656,
          0.1931738920373285
         ],
         "y": [
          0.5781508709743344,
          -0.2981510775243524,
          0.4198495024721082,
          -0.2944771220754371,
          -0.28911692983856063,
          0.4410132063587693
         ],
         "z": [
          -0.2412981904222267,
          -0.06220663830835132,
          0.19936034465150337,
          -0.304366514598601,
          0.14411161539632053,
          0.2750312924350607
         ]
        },
        {
         "hoverinfo": "text",
         "hovertext": [
          "Python est un langage de programmation interprété dynamique et polyvalent.",
          "Les développeurs utilisent souvent Python pour l'analyse de données en raison de ses bibliothèques robustes comme Pandas et NumPy.",
          "La syntaxe claire et concise de Python en fait un excellent choix pour les débutants en programmation.",
          "Python est un langage polyvalent utilisé dans des domaines allant du développement de jeux à l'automatisation des tâches système.",
          "Les grandes entreprises telles que Google Facebook et Netflix font largement usage de Python dans leur infrastructure logicielle.",
          "Les listes en Python sont des structures de données flexibles et polyvalentes permettant de stocker et de manipuler des collections d'éléments."
         ],
         "marker": {
          "color": 1,
          "colorscale": [
           [
            0,
            "#440154"
           ],
           [
            0.1111111111111111,
            "#482878"
           ],
           [
            0.2222222222222222,
            "#3e4989"
           ],
           [
            0.3333333333333333,
            "#31688e"
           ],
           [
            0.4444444444444444,
            "#26828e"
           ],
           [
            0.5555555555555556,
            "#1f9e89"
           ],
           [
            0.6666666666666666,
            "#35b779"
           ],
           [
            0.7777777777777778,
            "#6ece58"
           ],
           [
            0.8888888888888888,
            "#b5de2b"
           ],
           [
            1,
            "#fde725"
           ]
          ],
          "opacity": 0.8,
          "size": 5
         },
         "mode": "markers",
         "name": "Python",
         "type": "scatter3d",
         "x": [
          -0.4664758252728602,
          -0.3061859957008855,
          -0.31224150731607236,
          -0.472980661707122,
          -0.24793060198518932,
          -0.3056681240104677
         ],
         "y": [
          0.00847796440769039,
          -0.2548099921836301,
          -0.04791677968425453,
          -0.0755611831577477,
          -0.17331566678664326,
          -0.014142792962276718
         ],
         "z": [
          -0.25983890300023904,
          0.2513244215491996,
          -0.07057144240730899,
          -0.10297359310162492,
          0.4679998254187812,
          -0.2965722176125138
         ]
        }
       ],
       "layout": {
        "autosize": false,
        "height": 500,
        "margin": {
         "b": 100,
         "l": 50,
         "pad": 10,
         "r": 50,
         "t": 100
        },
        "scene": {
         "xaxis": {
          "title": {
           "text": "x"
          }
         },
         "yaxis": {
          "title": {
           "text": "y"
          }
         },
         "zaxis": {
          "title": {
           "text": "z"
          }
         }
        },
        "template": {
         "data": {
          "bar": [
           {
            "error_x": {
             "color": "#2a3f5f"
            },
            "error_y": {
             "color": "#2a3f5f"
            },
            "marker": {
             "line": {
              "color": "#E5ECF6",
              "width": 0.5
             },
             "pattern": {
              "fillmode": "overlay",
              "size": 10,
              "solidity": 0.2
             }
            },
            "type": "bar"
           }
          ],
          "barpolar": [
           {
            "marker": {
             "line": {
              "color": "#E5ECF6",
              "width": 0.5
             },
             "pattern": {
              "fillmode": "overlay",
              "size": 10,
              "solidity": 0.2
             }
            },
            "type": "barpolar"
           }
          ],
          "carpet": [
           {
            "aaxis": {
             "endlinecolor": "#2a3f5f",
             "gridcolor": "white",
             "linecolor": "white",
             "minorgridcolor": "white",
             "startlinecolor": "#2a3f5f"
            },
            "baxis": {
             "endlinecolor": "#2a3f5f",
             "gridcolor": "white",
             "linecolor": "white",
             "minorgridcolor": "white",
             "startlinecolor": "#2a3f5f"
            },
            "type": "carpet"
           }
          ],
          "choropleth": [
           {
            "colorbar": {
             "outlinewidth": 0,
             "ticks": ""
            },
            "type": "choropleth"
           }
          ],
          "contour": [
           {
            "colorbar": {
             "outlinewidth": 0,
             "ticks": ""
            },
            "colorscale": [
             [
              0,
              "#0d0887"
             ],
             [
              0.1111111111111111,
              "#46039f"
             ],
             [
              0.2222222222222222,
              "#7201a8"
             ],
             [
              0.3333333333333333,
              "#9c179e"
             ],
             [
              0.4444444444444444,
              "#bd3786"
             ],
             [
              0.5555555555555556,
              "#d8576b"
             ],
             [
              0.6666666666666666,
              "#ed7953"
             ],
             [
              0.7777777777777778,
              "#fb9f3a"
             ],
             [
              0.8888888888888888,
              "#fdca26"
             ],
             [
              1,
              "#f0f921"
             ]
            ],
            "type": "contour"
           }
          ],
          "contourcarpet": [
           {
            "colorbar": {
             "outlinewidth": 0,
             "ticks": ""
            },
            "type": "contourcarpet"
           }
          ],
          "heatmap": [
           {
            "colorbar": {
             "outlinewidth": 0,
             "ticks": ""
            },
            "colorscale": [
             [
              0,
              "#0d0887"
             ],
             [
              0.1111111111111111,
              "#46039f"
             ],
             [
              0.2222222222222222,
              "#7201a8"
             ],
             [
              0.3333333333333333,
              "#9c179e"
             ],
             [
              0.4444444444444444,
              "#bd3786"
             ],
             [
              0.5555555555555556,
              "#d8576b"
             ],
             [
              0.6666666666666666,
              "#ed7953"
             ],
             [
              0.7777777777777778,
              "#fb9f3a"
             ],
             [
              0.8888888888888888,
              "#fdca26"
             ],
             [
              1,
              "#f0f921"
             ]
            ],
            "type": "heatmap"
           }
          ],
          "heatmapgl": [
           {
            "colorbar": {
             "outlinewidth": 0,
             "ticks": ""
            },
            "colorscale": [
             [
              0,
              "#0d0887"
             ],
             [
              0.1111111111111111,
              "#46039f"
             ],
             [
              0.2222222222222222,
              "#7201a8"
             ],
             [
              0.3333333333333333,
              "#9c179e"
             ],
             [
              0.4444444444444444,
              "#bd3786"
             ],
             [
              0.5555555555555556,
              "#d8576b"
             ],
             [
              0.6666666666666666,
              "#ed7953"
             ],
             [
              0.7777777777777778,
              "#fb9f3a"
             ],
             [
              0.8888888888888888,
              "#fdca26"
             ],
             [
              1,
              "#f0f921"
             ]
            ],
            "type": "heatmapgl"
           }
          ],
          "histogram": [
           {
            "marker": {
             "pattern": {
              "fillmode": "overlay",
              "size": 10,
              "solidity": 0.2
             }
            },
            "type": "histogram"
           }
          ],
          "histogram2d": [
           {
            "colorbar": {
             "outlinewidth": 0,
             "ticks": ""
            },
            "colorscale": [
             [
              0,
              "#0d0887"
             ],
             [
              0.1111111111111111,
              "#46039f"
             ],
             [
              0.2222222222222222,
              "#7201a8"
             ],
             [
              0.3333333333333333,
              "#9c179e"
             ],
             [
              0.4444444444444444,
              "#bd3786"
             ],
             [
              0.5555555555555556,
              "#d8576b"
             ],
             [
              0.6666666666666666,
              "#ed7953"
             ],
             [
              0.7777777777777778,
              "#fb9f3a"
             ],
             [
              0.8888888888888888,
              "#fdca26"
             ],
             [
              1,
              "#f0f921"
             ]
            ],
            "type": "histogram2d"
           }
          ],
          "histogram2dcontour": [
           {
            "colorbar": {
             "outlinewidth": 0,
             "ticks": ""
            },
            "colorscale": [
             [
              0,
              "#0d0887"
             ],
             [
              0.1111111111111111,
              "#46039f"
             ],
             [
              0.2222222222222222,
              "#7201a8"
             ],
             [
              0.3333333333333333,
              "#9c179e"
             ],
             [
              0.4444444444444444,
              "#bd3786"
             ],
             [
              0.5555555555555556,
              "#d8576b"
             ],
             [
              0.6666666666666666,
              "#ed7953"
             ],
             [
              0.7777777777777778,
              "#fb9f3a"
             ],
             [
              0.8888888888888888,
              "#fdca26"
             ],
             [
              1,
              "#f0f921"
             ]
            ],
            "type": "histogram2dcontour"
           }
          ],
          "mesh3d": [
           {
            "colorbar": {
             "outlinewidth": 0,
             "ticks": ""
            },
            "type": "mesh3d"
           }
          ],
          "parcoords": [
           {
            "line": {
             "colorbar": {
              "outlinewidth": 0,
              "ticks": ""
             }
            },
            "type": "parcoords"
           }
          ],
          "pie": [
           {
            "automargin": true,
            "type": "pie"
           }
          ],
          "scatter": [
           {
            "fillpattern": {
             "fillmode": "overlay",
             "size": 10,
             "solidity": 0.2
            },
            "type": "scatter"
           }
          ],
          "scatter3d": [
           {
            "line": {
             "colorbar": {
              "outlinewidth": 0,
              "ticks": ""
             }
            },
            "marker": {
             "colorbar": {
              "outlinewidth": 0,
              "ticks": ""
             }
            },
            "type": "scatter3d"
           }
          ],
          "scattercarpet": [
           {
            "marker": {
             "colorbar": {
              "outlinewidth": 0,
              "ticks": ""
             }
            },
            "type": "scattercarpet"
           }
          ],
          "scattergeo": [
           {
            "marker": {
             "colorbar": {
              "outlinewidth": 0,
              "ticks": ""
             }
            },
            "type": "scattergeo"
           }
          ],
          "scattergl": [
           {
            "marker": {
             "colorbar": {
              "outlinewidth": 0,
              "ticks": ""
             }
            },
            "type": "scattergl"
           }
          ],
          "scattermapbox": [
           {
            "marker": {
             "colorbar": {
              "outlinewidth": 0,
              "ticks": ""
             }
            },
            "type": "scattermapbox"
           }
          ],
          "scatterpolar": [
           {
            "marker": {
             "colorbar": {
              "outlinewidth": 0,
              "ticks": ""
             }
            },
            "type": "scatterpolar"
           }
          ],
          "scatterpolargl": [
           {
            "marker": {
             "colorbar": {
              "outlinewidth": 0,
              "ticks": ""
             }
            },
            "type": "scatterpolargl"
           }
          ],
          "scatterternary": [
           {
            "marker": {
             "colorbar": {
              "outlinewidth": 0,
              "ticks": ""
             }
            },
            "type": "scatterternary"
           }
          ],
          "surface": [
           {
            "colorbar": {
             "outlinewidth": 0,
             "ticks": ""
            },
            "colorscale": [
             [
              0,
              "#0d0887"
             ],
             [
              0.1111111111111111,
              "#46039f"
             ],
             [
              0.2222222222222222,
              "#7201a8"
             ],
             [
              0.3333333333333333,
              "#9c179e"
             ],
             [
              0.4444444444444444,
              "#bd3786"
             ],
             [
              0.5555555555555556,
              "#d8576b"
             ],
             [
              0.6666666666666666,
              "#ed7953"
             ],
             [
              0.7777777777777778,
              "#fb9f3a"
             ],
             [
              0.8888888888888888,
              "#fdca26"
             ],
             [
              1,
              "#f0f921"
             ]
            ],
            "type": "surface"
           }
          ],
          "table": [
           {
            "cells": {
             "fill": {
              "color": "#EBF0F8"
             },
             "line": {
              "color": "white"
             }
            },
            "header": {
             "fill": {
              "color": "#C8D4E3"
             },
             "line": {
              "color": "white"
             }
            },
            "type": "table"
           }
          ]
         },
         "layout": {
          "annotationdefaults": {
           "arrowcolor": "#2a3f5f",
           "arrowhead": 0,
           "arrowwidth": 1
          },
          "autotypenumbers": "strict",
          "coloraxis": {
           "colorbar": {
            "outlinewidth": 0,
            "ticks": ""
           }
          },
          "colorscale": {
           "diverging": [
            [
             0,
             "#8e0152"
            ],
            [
             0.1,
             "#c51b7d"
            ],
            [
             0.2,
             "#de77ae"
            ],
            [
             0.3,
             "#f1b6da"
            ],
            [
             0.4,
             "#fde0ef"
            ],
            [
             0.5,
             "#f7f7f7"
            ],
            [
             0.6,
             "#e6f5d0"
            ],
            [
             0.7,
             "#b8e186"
            ],
            [
             0.8,
             "#7fbc41"
            ],
            [
             0.9,
             "#4d9221"
            ],
            [
             1,
             "#276419"
            ]
           ],
           "sequential": [
            [
             0,
             "#0d0887"
            ],
            [
             0.1111111111111111,
             "#46039f"
            ],
            [
             0.2222222222222222,
             "#7201a8"
            ],
            [
             0.3333333333333333,
             "#9c179e"
            ],
            [
             0.4444444444444444,
             "#bd3786"
            ],
            [
             0.5555555555555556,
             "#d8576b"
            ],
            [
             0.6666666666666666,
             "#ed7953"
            ],
            [
             0.7777777777777778,
             "#fb9f3a"
            ],
            [
             0.8888888888888888,
             "#fdca26"
            ],
            [
             1,
             "#f0f921"
            ]
           ],
           "sequentialminus": [
            [
             0,
             "#0d0887"
            ],
            [
             0.1111111111111111,
             "#46039f"
            ],
            [
             0.2222222222222222,
             "#7201a8"
            ],
            [
             0.3333333333333333,
             "#9c179e"
            ],
            [
             0.4444444444444444,
             "#bd3786"
            ],
            [
             0.5555555555555556,
             "#d8576b"
            ],
            [
             0.6666666666666666,
             "#ed7953"
            ],
            [
             0.7777777777777778,
             "#fb9f3a"
            ],
            [
             0.8888888888888888,
             "#fdca26"
            ],
            [
             1,
             "#f0f921"
            ]
           ]
          },
          "colorway": [
           "#636efa",
           "#EF553B",
           "#00cc96",
           "#ab63fa",
           "#FFA15A",
           "#19d3f3",
           "#FF6692",
           "#B6E880",
           "#FF97FF",
           "#FECB52"
          ],
          "font": {
           "color": "#2a3f5f"
          },
          "geo": {
           "bgcolor": "white",
           "lakecolor": "white",
           "landcolor": "#E5ECF6",
           "showlakes": true,
           "showland": true,
           "subunitcolor": "white"
          },
          "hoverlabel": {
           "align": "left"
          },
          "hovermode": "closest",
          "mapbox": {
           "style": "light"
          },
          "paper_bgcolor": "white",
          "plot_bgcolor": "#E5ECF6",
          "polar": {
           "angularaxis": {
            "gridcolor": "white",
            "linecolor": "white",
            "ticks": ""
           },
           "bgcolor": "#E5ECF6",
           "radialaxis": {
            "gridcolor": "white",
            "linecolor": "white",
            "ticks": ""
           }
          },
          "scene": {
           "xaxis": {
            "backgroundcolor": "#E5ECF6",
            "gridcolor": "white",
            "gridwidth": 2,
            "linecolor": "white",
            "showbackground": true,
            "ticks": "",
            "zerolinecolor": "white"
           },
           "yaxis": {
            "backgroundcolor": "#E5ECF6",
            "gridcolor": "white",
            "gridwidth": 2,
            "linecolor": "white",
            "showbackground": true,
            "ticks": "",
            "zerolinecolor": "white"
           },
           "zaxis": {
            "backgroundcolor": "#E5ECF6",
            "gridcolor": "white",
            "gridwidth": 2,
            "linecolor": "white",
            "showbackground": true,
            "ticks": "",
            "zerolinecolor": "white"
           }
          },
          "shapedefaults": {
           "line": {
            "color": "#2a3f5f"
           }
          },
          "ternary": {
           "aaxis": {
            "gridcolor": "white",
            "linecolor": "white",
            "ticks": ""
           },
           "baxis": {
            "gridcolor": "white",
            "linecolor": "white",
            "ticks": ""
           },
           "bgcolor": "#E5ECF6",
           "caxis": {
            "gridcolor": "white",
            "linecolor": "white",
            "ticks": ""
           }
          },
          "title": {
           "x": 0.05
          },
          "xaxis": {
           "automargin": true,
           "gridcolor": "white",
           "linecolor": "white",
           "ticks": "",
           "title": {
            "standoff": 15
           },
           "zerolinecolor": "white",
           "zerolinewidth": 2
          },
          "yaxis": {
           "automargin": true,
           "gridcolor": "white",
           "linecolor": "white",
           "ticks": "",
           "title": {
            "standoff": 15
           },
           "zerolinecolor": "white",
           "zerolinewidth": 2
          }
         }
        },
        "title": {
         "text": "3D Scatter Plot of Categories"
        },
        "width": 800
       }
      }
     },
     "metadata": {},
     "output_type": "display_data"
    }
   ],
   "source": [
    "# Display the 3D Scatter Plot of Categories\n",
    "fig = go.Figure()\n",
    "\n",
    "for i, cat in enumerate(categories):\n",
    "    sub_matrix = np.array(df[df[\"categorie\"] == cat][\"description_embedding_pca\"].to_list())\n",
    "    x = sub_matrix[:, 0]\n",
    "    y = sub_matrix[:, 1]\n",
    "    z = sub_matrix[:, 2]\n",
    "\n",
    "    # get the question text for hover\n",
    "    hover_text = df[df[\"categorie\"] == cat][\"description\"]\n",
    "\n",
    "    fig.add_trace(\n",
    "        go.Scatter3d(\n",
    "            x=x,\n",
    "            y=y,\n",
    "            z=z,\n",
    "            mode=\"markers\",\n",
    "            marker=dict(size=5, color=i, colorscale=\"Viridis\", opacity=0.8),\n",
    "            name=cat,\n",
    "            hovertext=hover_text,\n",
    "            hoverinfo=\"text\",\n",
    "        )\n",
    "    )\n",
    "\n",
    "fig.update_layout(\n",
    "    autosize=False,\n",
    "    title=\"3D Scatter Plot of Categories\",\n",
    "    width=800,\n",
    "    height=500,\n",
    "    margin=dict(l=50, r=50, b=100, t=100, pad=10),\n",
    "    scene=dict(\n",
    "        xaxis=dict(title=\"x\"),\n",
    "        yaxis=dict(title=\"y\"),\n",
    "        zaxis=dict(title=\"z\"),\n",
    "    ),\n",
    ")\n",
    "\n",
    "fig.show()"
   ]
  },
  {
   "cell_type": "markdown",
   "metadata": {},
   "source": [
    "## 2. Application in python courses"
   ]
  },
  {
   "cell_type": "code",
   "execution_count": 63,
   "metadata": {},
   "outputs": [],
   "source": [
    "# Define chapters file names\n",
    "chapters = [\n",
    "    \"03_affichage.md\",\n",
    "    \"04_listes.md\",\n",
    "    \"09_fonctions.md\",\n",
    "    \"18_jupyter.md\"\n",
    "]\n",
    "\n",
    "# Define path to the chapters\n",
    "path = \"/home/essmay/Bureau/biopyassistant-sandbox/data/markdown_raw/\""
   ]
  },
  {
   "cell_type": "markdown",
   "metadata": {},
   "source": [
    "The problematic is : **Can we correctly separate the chunks of these 4 chapters or are they a bit mixed up?**"
   ]
  },
  {
   "cell_type": "code",
   "execution_count": 64,
   "metadata": {},
   "outputs": [
    {
     "data": {
      "text/plain": [
       "dict_keys(['Affichage', 'Listes', 'Fonctions', 'Jupyter et ses notebooks'])"
      ]
     },
     "execution_count": 64,
     "metadata": {},
     "output_type": "execute_result"
    }
   ],
   "source": [
    "# Get the content of the chapters\n",
    "chapter_content = {}\n",
    "\n",
    "for chapter in chapters:\n",
    "    with open(path+chapter, 'r') as file:\n",
    "        lines = file.readlines()\n",
    "        key = lines[0].lstrip('#').strip()\n",
    "        value = ''.join(lines[1:])\n",
    "        chapter_content[key] = value\n",
    "\n",
    "chapter_content.keys()"
   ]
  },
  {
   "cell_type": "code",
   "execution_count": 65,
   "metadata": {},
   "outputs": [],
   "source": [
    "# Split content into chunks\n",
    "def split_text(text: str, chunk_size: int, chunk_overlap: int) -> list[str]:\n",
    "    \"\"\"\"\n",
    "    Split the text into chunks of the specified size and overlap\n",
    "\n",
    "    Parameters\n",
    "    ----------\n",
    "    text : str\n",
    "        The text to split into chunks\n",
    "    chunk_size : int\n",
    "        The size of each chunk\n",
    "    chunk_overlap : int\n",
    "        The overlap between each chunk\n",
    "    \n",
    "    Returns\n",
    "    -------\n",
    "    chunks : list[str]\n",
    "        A list of text chunks\n",
    "\n",
    "    \"\"\"\n",
    "    # Create a character-based text splitter\n",
    "    text_splitter = RecursiveCharacterTextSplitter(\n",
    "        chunk_size=chunk_size,\n",
    "        chunk_overlap=chunk_overlap,\n",
    "        # split on paragraphs, sentences\n",
    "        separators=[\"\\n\\n\", \"\\n\"],\n",
    "    )\n",
    "    # Split the resulting chunks further based on character limits\n",
    "    chunks = text_splitter.split_text(text)\n",
    "\n",
    "    return chunks"
   ]
  },
  {
   "cell_type": "code",
   "execution_count": 66,
   "metadata": {},
   "outputs": [
    {
     "name": "stdout",
     "output_type": "stream",
     "text": [
      "Chapter: Affichage\n",
      "Number of Chunks: 30\n",
      "\n",
      "\n",
      "Chapter: Listes\n",
      "Number of Chunks: 14\n",
      "\n",
      "\n",
      "Chapter: Fonctions\n",
      "Number of Chunks: 33\n",
      "\n",
      "\n",
      "Chapter: Jupyter et ses notebooks\n",
      "Number of Chunks: 14\n",
      "\n",
      "\n"
     ]
    }
   ],
   "source": [
    "# Split the content of the chapters\n",
    "chapter_chunks = {}\n",
    "for chapter, content in chapter_content.items():\n",
    "    chunks = split_text(content, chunk_size=1000, chunk_overlap=200)\n",
    "    chapter_chunks[chapter] = chunks\n",
    "\n",
    "for chapter, chunks in chapter_chunks.items():\n",
    "    print(f\"Chapter: {chapter}\")\n",
    "    print(f\"Number of Chunks: {len(chunks)}\")\n",
    "    print(\"\\n\")"
   ]
  },
  {
   "cell_type": "code",
   "execution_count": 70,
   "metadata": {},
   "outputs": [],
   "source": [
    "# Save the chunks into a CSV file\n",
    "chunks_df = pd.DataFrame(columns=[\"chapter\", \"chunk_content\"])\n",
    "for chapter, chunks in chapter_chunks.items():\n",
    "    for chunk in chunks:\n",
    "        chunks_df = pd.concat([chunks_df, pd.DataFrame({\"chapter\": [chapter], \"chunk_content\": [chunk]})], ignore_index=True)\n",
    "chunks_df.to_csv(\"chapter_chunks.csv\", sep=\",\", index=False)"
   ]
  },
  {
   "cell_type": "code",
   "execution_count": 71,
   "metadata": {},
   "outputs": [
    {
     "data": {
      "text/html": [
       "<div>\n",
       "<style scoped>\n",
       "    .dataframe tbody tr th:only-of-type {\n",
       "        vertical-align: middle;\n",
       "    }\n",
       "\n",
       "    .dataframe tbody tr th {\n",
       "        vertical-align: top;\n",
       "    }\n",
       "\n",
       "    .dataframe thead th {\n",
       "        text-align: right;\n",
       "    }\n",
       "</style>\n",
       "<table border=\"1\" class=\"dataframe\">\n",
       "  <thead>\n",
       "    <tr style=\"text-align: right;\">\n",
       "      <th></th>\n",
       "      <th>chapter</th>\n",
       "      <th>chunk_content</th>\n",
       "    </tr>\n",
       "  </thead>\n",
       "  <tbody>\n",
       "    <tr>\n",
       "      <th>0</th>\n",
       "      <td>Affichage</td>\n",
       "      <td>## La fonction `print()`\\n\\nDans le chapitre 1...</td>\n",
       "    </tr>\n",
       "    <tr>\n",
       "      <th>1</th>\n",
       "      <td>Affichage</td>\n",
       "      <td>Ligne 4. L'effet de l'argument `end=\"\"` est qu...</td>\n",
       "    </tr>\n",
       "    <tr>\n",
       "      <th>2</th>\n",
       "      <td>Affichage</td>\n",
       "      <td>```python\\n&gt;&gt;&gt; x = 32\\n&gt;&gt;&gt; nom = \"John\"\\n&gt;&gt;&gt; p...</td>\n",
       "    </tr>\n",
       "  </tbody>\n",
       "</table>\n",
       "</div>"
      ],
      "text/plain": [
       "     chapter                                      chunk_content\n",
       "0  Affichage  ## La fonction `print()`\\n\\nDans le chapitre 1...\n",
       "1  Affichage  Ligne 4. L'effet de l'argument `end=\"\"` est qu...\n",
       "2  Affichage  ```python\\n>>> x = 32\\n>>> nom = \"John\"\\n>>> p..."
      ]
     },
     "execution_count": 71,
     "metadata": {},
     "output_type": "execute_result"
    }
   ],
   "source": [
    "# Import the data\n",
    "df_chapter = pd.read_csv(\"chapter_chunks.csv\", sep=\",\")\n",
    "df_chapter.head(3)"
   ]
  },
  {
   "cell_type": "code",
   "execution_count": 72,
   "metadata": {},
   "outputs": [
    {
     "data": {
      "text/plain": [
       "['Affichage', 'Fonctions', 'Jupyter et ses notebooks', 'Listes']"
      ]
     },
     "execution_count": 72,
     "metadata": {},
     "output_type": "execute_result"
    }
   ],
   "source": [
    "# Get the list of chapters\n",
    "chapters_list = sorted(df_chapter[\"chapter\"].unique())\n",
    "chapters_list"
   ]
  },
  {
   "cell_type": "code",
   "execution_count": 73,
   "metadata": {},
   "outputs": [
    {
     "data": {
      "text/html": [
       "<div>\n",
       "<style scoped>\n",
       "    .dataframe tbody tr th:only-of-type {\n",
       "        vertical-align: middle;\n",
       "    }\n",
       "\n",
       "    .dataframe tbody tr th {\n",
       "        vertical-align: top;\n",
       "    }\n",
       "\n",
       "    .dataframe thead th {\n",
       "        text-align: right;\n",
       "    }\n",
       "</style>\n",
       "<table border=\"1\" class=\"dataframe\">\n",
       "  <thead>\n",
       "    <tr style=\"text-align: right;\">\n",
       "      <th></th>\n",
       "      <th>chapter</th>\n",
       "      <th>chunk_content</th>\n",
       "      <th>chunk_content_embedding</th>\n",
       "      <th>embedding_dim</th>\n",
       "      <th>embedding_norm</th>\n",
       "    </tr>\n",
       "  </thead>\n",
       "  <tbody>\n",
       "    <tr>\n",
       "      <th>0</th>\n",
       "      <td>Affichage</td>\n",
       "      <td>## La fonction `print()`\\n\\nDans le chapitre 1...</td>\n",
       "      <td>[0.024151073768734932, -0.002145542996004224, ...</td>\n",
       "      <td>3072</td>\n",
       "      <td>1.0</td>\n",
       "    </tr>\n",
       "    <tr>\n",
       "      <th>1</th>\n",
       "      <td>Affichage</td>\n",
       "      <td>Ligne 4. L'effet de l'argument `end=\"\"` est qu...</td>\n",
       "      <td>[0.01992386393249035, -0.002284943126142025, -...</td>\n",
       "      <td>3072</td>\n",
       "      <td>1.0</td>\n",
       "    </tr>\n",
       "    <tr>\n",
       "      <th>2</th>\n",
       "      <td>Affichage</td>\n",
       "      <td>```python\\n&gt;&gt;&gt; x = 32\\n&gt;&gt;&gt; nom = \"John\"\\n&gt;&gt;&gt; p...</td>\n",
       "      <td>[0.04030650854110718, -0.003571462817490101, -...</td>\n",
       "      <td>3072</td>\n",
       "      <td>1.0</td>\n",
       "    </tr>\n",
       "  </tbody>\n",
       "</table>\n",
       "</div>"
      ],
      "text/plain": [
       "     chapter                                      chunk_content  \\\n",
       "0  Affichage  ## La fonction `print()`\\n\\nDans le chapitre 1...   \n",
       "1  Affichage  Ligne 4. L'effet de l'argument `end=\"\"` est qu...   \n",
       "2  Affichage  ```python\\n>>> x = 32\\n>>> nom = \"John\"\\n>>> p...   \n",
       "\n",
       "                             chunk_content_embedding  embedding_dim  \\\n",
       "0  [0.024151073768734932, -0.002145542996004224, ...           3072   \n",
       "1  [0.01992386393249035, -0.002284943126142025, -...           3072   \n",
       "2  [0.04030650854110718, -0.003571462817490101, -...           3072   \n",
       "\n",
       "   embedding_norm  \n",
       "0             1.0  \n",
       "1             1.0  \n",
       "2             1.0  "
      ]
     },
     "execution_count": 73,
     "metadata": {},
     "output_type": "execute_result"
    }
   ],
   "source": [
    "# Save embeddings for chunk content\n",
    "chunk_embeddings = []\n",
    "for content in df_chapter[\"chunk_content\"]:\n",
    "    # Get the embeddings\n",
    "    embedding = get_embeddings(content, model=EMBEDDING_MODEL)\n",
    "    chunk_embeddings.append(embedding)\n",
    "    \"\"\"\n",
    "    print(question)\n",
    "    print(embedding)\n",
    "    print(\"\\n\")\n",
    "    \"\"\"\n",
    "df_chapter[\"chunk_content_embedding\"] = chunk_embeddings\n",
    "\n",
    "# Get the dimension of the embeddings\n",
    "df_chapter[\"embedding_dim\"] = df_chapter[\"chunk_content_embedding\"].apply(lambda x: len(x))\n",
    "\n",
    "# Get the norm of the embeddings\n",
    "df_chapter[\"embedding_norm\"] = df_chapter[\"chunk_content_embedding\"].apply(lambda x: np.linalg.norm(x))\n",
    "df_chapter.head(3)"
   ]
  },
  {
   "cell_type": "code",
   "execution_count": 74,
   "metadata": {},
   "outputs": [
    {
     "data": {
      "text/html": [
       "<div>\n",
       "<style scoped>\n",
       "    .dataframe tbody tr th:only-of-type {\n",
       "        vertical-align: middle;\n",
       "    }\n",
       "\n",
       "    .dataframe tbody tr th {\n",
       "        vertical-align: top;\n",
       "    }\n",
       "\n",
       "    .dataframe thead th {\n",
       "        text-align: right;\n",
       "    }\n",
       "</style>\n",
       "<table border=\"1\" class=\"dataframe\">\n",
       "  <thead>\n",
       "    <tr style=\"text-align: right;\">\n",
       "      <th></th>\n",
       "      <th>chapter</th>\n",
       "      <th>chunk_content</th>\n",
       "      <th>chunk_content_embedding</th>\n",
       "      <th>embedding_dim</th>\n",
       "      <th>embedding_norm</th>\n",
       "      <th>chunk_embedding_pca</th>\n",
       "      <th>chunk_embedding_dim_pca</th>\n",
       "      <th>chunk_embedding_norm_pca</th>\n",
       "    </tr>\n",
       "  </thead>\n",
       "  <tbody>\n",
       "    <tr>\n",
       "      <th>0</th>\n",
       "      <td>Affichage</td>\n",
       "      <td>## La fonction `print()`\\n\\nDans le chapitre 1...</td>\n",
       "      <td>[0.024151073768734932, -0.002145542996004224, ...</td>\n",
       "      <td>3072</td>\n",
       "      <td>1.0</td>\n",
       "      <td>[0.016274999428092553, -0.06715714614512844, -...</td>\n",
       "      <td>3</td>\n",
       "      <td>0.106292</td>\n",
       "    </tr>\n",
       "    <tr>\n",
       "      <th>1</th>\n",
       "      <td>Affichage</td>\n",
       "      <td>Ligne 4. L'effet de l'argument `end=\"\"` est qu...</td>\n",
       "      <td>[0.01992386393249035, -0.002284943126142025, -...</td>\n",
       "      <td>3072</td>\n",
       "      <td>1.0</td>\n",
       "      <td>[0.13792298741709383, -0.05717872502410425, 0....</td>\n",
       "      <td>3</td>\n",
       "      <td>0.153301</td>\n",
       "    </tr>\n",
       "    <tr>\n",
       "      <th>2</th>\n",
       "      <td>Affichage</td>\n",
       "      <td>```python\\n&gt;&gt;&gt; x = 32\\n&gt;&gt;&gt; nom = \"John\"\\n&gt;&gt;&gt; p...</td>\n",
       "      <td>[0.04030650854110718, -0.003571462817490101, -...</td>\n",
       "      <td>3072</td>\n",
       "      <td>1.0</td>\n",
       "      <td>[0.17470485750988488, -0.04909702102291303, 0....</td>\n",
       "      <td>3</td>\n",
       "      <td>0.189663</td>\n",
       "    </tr>\n",
       "  </tbody>\n",
       "</table>\n",
       "</div>"
      ],
      "text/plain": [
       "     chapter                                      chunk_content  \\\n",
       "0  Affichage  ## La fonction `print()`\\n\\nDans le chapitre 1...   \n",
       "1  Affichage  Ligne 4. L'effet de l'argument `end=\"\"` est qu...   \n",
       "2  Affichage  ```python\\n>>> x = 32\\n>>> nom = \"John\"\\n>>> p...   \n",
       "\n",
       "                             chunk_content_embedding  embedding_dim  \\\n",
       "0  [0.024151073768734932, -0.002145542996004224, ...           3072   \n",
       "1  [0.01992386393249035, -0.002284943126142025, -...           3072   \n",
       "2  [0.04030650854110718, -0.003571462817490101, -...           3072   \n",
       "\n",
       "   embedding_norm                                chunk_embedding_pca  \\\n",
       "0             1.0  [0.016274999428092553, -0.06715714614512844, -...   \n",
       "1             1.0  [0.13792298741709383, -0.05717872502410425, 0....   \n",
       "2             1.0  [0.17470485750988488, -0.04909702102291303, 0....   \n",
       "\n",
       "   chunk_embedding_dim_pca  chunk_embedding_norm_pca  \n",
       "0                        3                  0.106292  \n",
       "1                        3                  0.153301  \n",
       "2                        3                  0.189663  "
      ]
     },
     "execution_count": 74,
     "metadata": {},
     "output_type": "execute_result"
    }
   ],
   "source": [
    "# Reduce the dimension of the embeddings with PCA\n",
    "pca_chapter_embeddings = PCA(n_components=3).fit_transform(chunk_embeddings)\n",
    "df_chapter[\"chunk_embedding_pca\"] = list(pca_chapter_embeddings)\n",
    "\n",
    "# Get the dimension of the embeddings\n",
    "df_chapter[\"chunk_embedding_dim_pca\"] = df_chapter[\"chunk_embedding_pca\"].apply(lambda x: len(x))\n",
    "\n",
    "# Get the norm of the embeddings\n",
    "df_chapter[\"chunk_embedding_norm_pca\"] = df_chapter[\"chunk_embedding_pca\"].apply(lambda x: np.linalg.norm(x))\n",
    "df_chapter.head(3)"
   ]
  },
  {
   "cell_type": "markdown",
   "metadata": {},
   "source": [
    "### Embedding Projection After Dimensionality Reduction"
   ]
  },
  {
   "cell_type": "code",
   "execution_count": 75,
   "metadata": {},
   "outputs": [
    {
     "data": {
      "image/png": "[encoded data removed]",
      "text/plain": [
       "<Figure size 1000x1000 with 1 Axes>"
      ]
     },
     "metadata": {},
     "output_type": "display_data"
    }
   ],
   "source": [
    "# Display the 2D scatter plot of Categories using Matplotlib\n",
    "fig = plt.figure(figsize=(10, 10))\n",
    "\n",
    "for chapter in chapters_list:\n",
    "    plt.scatter(df_chapter[df_chapter[\"chapter\"] == chapter][\"chunk_embedding_pca\"].apply(lambda x: x[0]), \n",
    "                df_chapter[df_chapter[\"chapter\"] == chapter][\"chunk_embedding_pca\"].apply(lambda x: x[1]), \n",
    "                label=chapter)\n",
    "    \n",
    "plt.xlabel(\"x\")\n",
    "plt.ylabel(\"y\")\n",
    "plt.title(\"2D Scatter Plot of Chapters\")\n",
    "plt.legend()\n",
    "plt.show()"
   ]
  },
  {
   "cell_type": "code",
   "execution_count": 76,
   "metadata": {},
   "outputs": [
    {
     "data": {
      "application/vnd.plotly.v1+json": {
       "config": {
        "plotlyServerURL": "https://plot.ly"
       },
       "data": [
        {
         "hoverinfo": "text",
         "hovertext": [
          "## La fonction `print()`\n\nDans le chapitre 1, nous avons rencontré la fonction `print()` qui affiche une chaîne de caractères (le fameux `\"Hello world!\"`). En fait, la fonction `print()` affiche l'argument qu'on lui passe entre parenthèses **et** un retour à ligne. Ce retour à ligne supplémentaire est ajouté par défaut. Si toutefois, on ne veut pas afficher ce retour à la ligne, on peut utiliser l'argument par « mot-clé » `end` :\n\n```python\n>>> print(\"Hello world!\")\nHello world!\n>>> print(\"Hello world!\", end=\"\")\nHello world!>>>\n```\n\nLigne 1. On a utilisé l'instruction `print()` classiquement en passant la chaîne de caractères `\"Hello world!\"` en argument.\n\nLigne 3. On a ajouté un second argument `end=\"\"`, en précisant le mot-clé `end`. Nous aborderons les arguments par mot-clé dans le chapitre 9 *Fonctions*. Pour l'instant, dites-vous que cela modifie le comportement par défaut des fonctions.",
          "Ligne 4. L'effet de l'argument `end=\"\"` est que les trois chevrons `>>>` se retrouvent collés après la chaîne de caractères `\"Hello world!\"`.\n\nUne autre manière de s'en rendre compte est d'utiliser deux fonctions `print()` à la suite. Dans la portion de code suivante, le caractère « `;` » sert à séparer plusieurs instructions Python sur une même ligne :\n\n```python\n>>> print(\"Hello\") ; print(\"Joe\")\nHello\nJoe\n>>> print(\"Hello\", end=\"\") ; print(\"Joe\")\nHelloJoe\n>>> print(\"Hello\", end=\" \") ; print(\"Joe\")\nHello Joe\n```\n\nLa fonction `print()` peut également afficher le contenu d'une variable quel que soit son type. Par exemple, pour un entier :\n\n```python\n>>> var = 3\n>>> print(var)\n3\n```\n\nIl est également possible d'afficher le contenu de plusieurs variables (quel que soit leur type) en les séparant par des virgules :\n\n```python\n>>> x = 32\n>>> nom = \"John\"\n>>> print(nom, \"a\", x, \"ans\")\nJohn a 32 ans\n```",
          "```python\n>>> x = 32\n>>> nom = \"John\"\n>>> print(nom, \"a\", x, \"ans\")\nJohn a 32 ans\n```\n\nPython a écrit une phrase complète en remplaçant les variables `x` et `nom` par leur contenu. Vous remarquerez que pour afficher plusieurs éléments de texte sur une seule ligne, nous avons utilisé le séparateur « `,` » entre les différents éléments. Python a également ajouté un espace à chaque fois que l'on utilisait le séparateur « `,` ». On peut modifier ce comportement en passant à la fonction `print()` l'argument par mot-clé `sep` :\n\n```python\n>>> x = 32\n>>> nom = \"John\"\n>>> print(nom, \"a\", x, \"ans\", sep=\"\")\nJohna32ans\n>>> print(nom, \"a\", x, \"ans\", sep=\"-\")\nJohn-a-32-ans\n```\n\nPour afficher deux chaînes de caractères l'une à côté de l'autre, sans espace, on peut soit les concaténer, soit utiliser l'argument par mot-clé `sep` avec une chaîne de caractères vide :",
          "Pour afficher deux chaînes de caractères l'une à côté de l'autre, sans espace, on peut soit les concaténer, soit utiliser l'argument par mot-clé `sep` avec une chaîne de caractères vide :\n\n```python\n>>> ani1 = \"chat\"\n>>> ani2 = \"souris\"\n>>> print(ani1, ani2)\nchat souris\n>>> print(ani1 + ani2)\nchatsouris\n>>> print(ani1, ani2, sep=\"\")\nchatsouris\n```\n\n## Écriture formatée\n\n### Définitions\n\nQue signifie « écriture formatée » ?\n\nopen-box-def\n\nL'écriture formatée est un mécanisme permettant d'afficher des variables avec un certain format, par exemple justifiées à gauche ou à droite, ou encore avec un certain nombre de décimales pour les *floats*. L'écriture formatée est incontournable lorsqu'on veut créer des fichiers organisés en « belles colonnes » comme par exemple les fichiers PDB (pour en savoir plus sur ce format, reportez-vous à l'annexe A *Quelques formats de données rencontrés en biologie*).\n\nclose-box-def",
          "close-box-def\n\nDepuis la version 3.6, Python a introduit les *f-strings* pour mettre en place l'écriture formatée que nous allons décrire en détail dans cette rubrique. Il existe d'autres  manières pour formatter des chaînes de caractères qui étaient utilisées avant la version 3.6, nous en avons mis un rappel bref dans la rubrique suivante. Toutefois, nous conseillons vivement l'utilisation des *f-strings* si vous débutez l'apprentissage de Python.\n\nQue signifie *f-string* ?\n\nopen-box-def\n\n*f-string* est le diminutif de *formatted string literals*. Mais encore ? Dans le chapitre précédent, nous avons vu les chaînes de caractères ou encore *strings* qui étaient représentées par un texte entouré de guillemets simples ou doubles. Par exemple :\n\n```python\n\"Ceci est une chaîne de caractères\"\n```\n\nL'équivalent en *f-string* est tout simplement la même chaîne de caractères précédée du caractère `f` **sans espace** entre les deux :\n\n```python\nf\"Ceci est une chaîne de caractères\"\n```",
          "L'équivalent en *f-string* est tout simplement la même chaîne de caractères précédée du caractère `f` **sans espace** entre les deux :\n\n```python\nf\"Ceci est une chaîne de caractères\"\n```\n\nCe caractère `f` avant les guillemets va indiquer à Python qu'il s'agit d'une *f-string* permettant de mettre en place le mécanisme de l'écriture formatée, contrairement à une *string* normale.\n\nclose-box-def\n\nNous expliquons plus en détail dans le chapitre 10 *Plus sur les chaînes de caractères* pourquoi on doit mettre ce `f` et le mécanisme sous-jacent.\n\n\n### Prise en main des *f-strings*\n\nLes *f-strings* permettent une meilleure organisation de l'affichage des variables. Reprenons l'exemple ci-dessus à propos de notre ami John :\n\n```python\n>>> x = 32\n>>> nom = \"John\"\n>>> print(f\"{nom} a {x} ans\")\nJohn a 32 ans\n```",
          "```python\n>>> x = 32\n>>> nom = \"John\"\n>>> print(f\"{nom} a {x} ans\")\nJohn a 32 ans\n```\n\nIl suffit de passer un nom de variable au sein de chaque couple d'accolades et Python les remplace par leur contenu ! Première remarque, la syntaxe apparait plus lisible que l'équivalent vu ci-avant `print(nom, \"a\", x, \"ans\")`. Bien sûr, il ne faut pas omettre le `f` avant le premier guillemet, sinon Python prendra cela pour une chaîne de caractères normale et ne mettra pas en place ce mécanisme de remplacement :\n\n```python\n>>> print(\"{nom} a {x} ans\")\n{nom} a {x} ans\n```\n\nopen-box-rem\n\nUne variable est utilisable plus d'une fois pour une *f-string* donnée :\n\n```python\n>>> var = \"to\"\n>>> print(f\"{var} et {var} font {var}{var}\")\nto et to font toto\n>>>\n```\n\nclose-box-rem\n\nEnfin, il est possible de mettre entre les accolades des valeurs numériques ou des chaînes de caractères :",
          "close-box-rem\n\nEnfin, il est possible de mettre entre les accolades des valeurs numériques ou des chaînes de caractères :\n\n```python\n>>> print(f\"J'affiche l'entier {10} et le float {3.14}\")\nJ'affiche l'entier 10 et le float 3.14\n>>> print(f\"J'affiche la chaine {'Python'}\")\nJ'affiche la chaine Python\n```\n\nMême si cela ne présente que peu d'intérêt pour l'instant, il s'agit d'une commande Python parfaitement valide. Nous verrons des exemples plus pertinents par la suite. Cela fonctionne avec n'importe quel type de variable (entiers, chaînes de caractères, *floats*, etc.). Attention toutefois pour les chaînes de caractères, utilisez des guillemets simples au sein des accolades si vous définissez votre *f-string* avec des guillemets doubles.\n\n### Spécification de format\n\nLes *f-strings* permettent de remplacer des variables au sein d'une chaîne de caractères. On peut également spécifier le format de leur affichage.",
          "### Spécification de format\n\nLes *f-strings* permettent de remplacer des variables au sein d'une chaîne de caractères. On peut également spécifier le format de leur affichage.\n\nPrenons un exemple. Imaginez maintenant que vous vouliez calculer, puis afficher, la proportion de GC d'un génome. La proportion de GC s'obtient comme la somme des bases Guanine (G) et Cytosine (C) divisée par le nombre total de bases (A, T, C, G) du génome considéré. Si on a, par exemple, 4500 bases G et 2575 bases C, pour un total de 14800 bases, vous pourriez procéder comme suit (notez bien l'utilisation des parenthèses pour gérer les priorités des opérateurs) :\n\n```python\n>>> prop_GC = (4500 + 2575) / 14800\n>>> print(\"La proportion de GC est\", prop_GC)\nLa proportion de GC est 0.4780405405405405\n```",
          "```python\n>>> prop_GC = (4500 + 2575) / 14800\n>>> print(\"La proportion de GC est\", prop_GC)\nLa proportion de GC est 0.4780405405405405\n```\n\nLe résultat obtenu présente trop de décimales (seize dans le cas présent). Pour écrire le résultat plus lisiblement, vous pouvez spécifier dans les accolades `{}` le format qui vous intéresse. Dans le cas présent, vous voulez formater un *float* pour l'afficher avec deux puis trois décimales :\n\n```python\n>>> print(f\"La proportion de GC est {prop_GC:.2f}\")\nLa proportion de GC est 0.48\n>>> print(f\"La proportion de GC est {prop_GC:.3f}\")\nLa proportion de GC est 0.478\n```\n\nDétaillons le contenu des accolades de la première ligne (`{prop_GC:.2f}`) :\n\n- D'abord on a le nom de la variable à formatter, `prop_GC`, c'est indispensable avec les *f-strings*.\n\n- Ensuite on rencontre les deux-points `:`, ceux-ci indiquent que ce qui suit va spécifier le format dans lequel on veut afficher la variable `prop_GC`.",
          "- Ensuite on rencontre les deux-points `:`, ceux-ci indiquent que ce qui suit va spécifier le format dans lequel on veut afficher la variable `prop_GC`.\n\n- À droite des deux-points on trouve `.2f` qui indique ce format : la lettre `f` indique qu'on souhaite afficher la variable sous forme d'un *float*, les caractères `.2` indiquent la précision voulue, soit ici deux chiffres après la virgule. \n\nNotez enfin que le formatage avec `.xf` (`x` étant un entier positif) renvoie un résultat arrondi.\n\nVous pouvez aussi formater des entiers avec la lettre `d` (ici `d` veut dire *decimal integer*) :\n\n```python\n>>> nb_G = 4500\n>>> print(f\"Ce génome contient {nb_G:d} guanines\")\nCe génome contient 4500 guanines\n```\n\nou mettre plusieurs nombres dans une même chaîne de caractères.",
          "```python\n>>> nb_G = 4500\n>>> print(f\"Ce génome contient {nb_G:d} guanines\")\nCe génome contient 4500 guanines\n```\n\nou mettre plusieurs nombres dans une même chaîne de caractères.\n\n```python\n>>> nb_G = 4500\n>>> nb_C = 2575\n>>> print(f\"Ce génome contient {nb_G:d} G et {nb_C:d} C, soit une prop de GC de {prop_GC:.2f}\")\nCe génome contient 4500 G et 2575 C, soit une prop de GC de 0.48\n>>> perc_GC = prop_GC * 100\n>>> print(f\"Ce génome contient {nb_G:d} G et {nb_C:d} C, soit un %GC de {perc_GC:.2f} %\")\nCe génome contient 4500 G et 2575 C, soit un %GC de 47.80 %\n```\n\nEnfin, il est possible de préciser sur combien de caractères vous voulez qu'un résultat soit écrit et comment se fait l'alignement (à gauche, à droite ou centré). Dans la portion de code suivante, le caractère `;` sert de séparateur entre les instructions sur une même ligne :",
          "```python\n>>> print(10) ; print(1000)\n10\n1000\n>>> print(f\"{10:>6d}\") ; print(f\"{1000:>6d}\")\n    10\n  1000\n>>> print(f\"{10:<6d}\") ; print(f\"{1000:<6d}\")\n10    \n1000  \n>>> print(f\"{10:^6d}\") ; print(f\"{1000:^6d}\")\n  10  \n 1000 \n>>> print(f\"{10:*^6d}\") ; print(f\"{1000:*^6d}\")\n**10**\n*1000*\n>>> print(f\"{10:0>6d}\") ; print(f\"{1000:0>6d}\")\n000010\n001000\n```\n\nNotez que `>` spécifie un alignement à droite, `<` spécifie un alignement à gauche et `^` spécifie un alignement centré. Il est également possible d'indiquer le caractère qui servira de remplissage lors des alignements (l'espace est le caractère par défaut).\n\nCe formatage est également possible sur des chaînes de caractères avec la lettre `s` (comme *string*) :\n\n```python\n>>> print(\"atom HN\") ; print(\"atom HDE1\")\natom HN\natom HDE1\n>>> print(f\"atom {'HN':>4s}\") ; print(f\"atom {'HDE1':>4s}\")\natom   HN\natom HDE1\n```",
          "```python\n>>> print(\"atom HN\") ; print(\"atom HDE1\")\natom HN\natom HDE1\n>>> print(f\"atom {'HN':>4s}\") ; print(f\"atom {'HDE1':>4s}\")\natom   HN\natom HDE1\n```\n\nVous voyez tout de suite l'énorme avantage de l'écriture formatée. Elle vous permet d'écrire en colonnes parfaitement alignées. Nous verrons que ceci est très pratique si l'on veut écrire les coordonnées des atomes d'une molécule au format PDB (pour en savoir plus sur ce format, reportez-vous à l'annexe A *Quelques formats de données rencontrés en biologie*).\n\nPour les *floats*, il est possible de combiner le nombre de caractères à afficher avec le nombre de décimales :\n\n```python\n>>> print(f\"{perc_GC:7.3f}\")\n 47.804\n>>> print(f\"{perc_GC:10.3f}\")\n    47.804\n```",
          "```python\n>>> print(f\"{perc_GC:7.3f}\")\n 47.804\n>>> print(f\"{perc_GC:10.3f}\")\n    47.804\n```\n\nL'instruction `7.3f` signifie que l'on souhaite écrire un *float* avec 3 décimales et formaté sur 7 caractères (par défaut justifiés à droite). L'instruction `10.3f` fait la même chose sur 10 caractères. Remarquez que le séparateur décimal `.` compte pour un caractère. De même, si on avait un nombre négatif, le signe `-` compterait aussi pour un caractère.\n\n### Autres détails sur les *f-strings*\n\nSi on veut afficher des accolades littérales avec les *f-strings*, il faut les doubler pour échapper au formatage :\n\n```python\n>>> print(f\"Accolades littérales {{}} ou {{ ou }} et pour le formatage {10}\")\nAccolades littérales {} ou { ou } et pour le formatage 10\n```\n\nUne remarque importante, si on ne met pas de variable à formater entre les accolades dans une *f-string*, cela conduit à une erreur :",
          "Une remarque importante, si on ne met pas de variable à formater entre les accolades dans une *f-string*, cela conduit à une erreur :\n\n```python\n>>> print(f\"accolades sans variable {}\")\n  File \"<stdin>\", line 1\nSyntaxError: f-string: empty expression not allowed\n```\n\nEnfin, il est important de bien comprendre qu'une *f-string* est indépendante de la fonction `print()`. Si on donne une *f-string* à la fonction `print()`, Python évalue d'abord la *f-string* et c'est la chaîne de caractères qui en résulte qui est affichée à l'écran. Tout comme dans l'instruction `print(5*5)`, c'est d'abord la multiplication (`5*5`) qui est évaluée, puis son résultat qui est affiché à l'écran. On peut s'en rendre compte de la manière suivante dans l'interpréteur :\n\n```python\n>>> f\"{perc_GC:10.3f}\"\n'    47.804'\n>>> type(f\"{perc_GC:10.3f}\")\n<class 'str'>\n```\n\nPython considère le résultat de l'instruction `f\"{perc_GC:10.3f}\"` comme une chaîne de caractères et la fonction `type()` nous le confirme.",
          "Python considère le résultat de l'instruction `f\"{perc_GC:10.3f}\"` comme une chaîne de caractères et la fonction `type()` nous le confirme.\n\n### Expressions dans les *f-strings*\n\nUne fonctionnalité extrêmement puissante des *f-strings* est de supporter des expressions Python au sein des accolades. Ainsi, il est possible d'y mettre directement une opération ou encore un appel à une fonction :\n\n```python\n>>> print(f\"Le résultat de 5 * 5 vaut {5 * 5}\")\nLe résultat de 5 * 5 vaut 25\n>>> print(f\"Résultat d'une opération avec des floats : {(4.1 * 6.7)}\")\nRésultat d'une opération avec des floats : 27.47\n>>> print(f\"Le minimum est {min(1, -2, 4)}\")\nLe minimum est -2\n>>> entier = 2\n>>> print(f\"Le type de {entier} est {type(entier)}\")\nLe type de 2 est <class 'int'>\n```\n\nNous aurons l'occasion de revenir sur cette fonctionnalité au fur et à mesure de ce cours.",
          "Nous aurons l'occasion de revenir sur cette fonctionnalité au fur et à mesure de ce cours.\n\nLes possibilités offertes par les *f-strings* sont nombreuses. Pour vous y retrouver dans les différentes options de formatage, nous vous conseillons de consulter ce [mémo](https://fstring.help/cheat/) (en anglais).\n\n\n## Écriture scientifique\n\nPour les nombres très grands ou très petits, l'écriture formatée permet d'afficher un nombre en notation scientifique (sous forme de puissance de 10) avec la lettre `e` :\n\n```python\n>>> print(f\"{1_000_000_000:e}\")\n1.000000e+09\n>>> print(f\"{0.000_000_001:e}\")\n1.000000e-09\n```\n\nIl est également possible de définir le nombre de chiffres après la virgule. Dans l'exemple ci-dessous, on affiche un nombre avec aucun, 3 et 6 chiffres après la virgule :\n\n```python\n>>> avogadro_number = 6.022_140_76e23\n>>> print(f\"{avogadro_number:.0e}\")\n6e+23\n>>> print(f\"{avogadro_number:.3e}\")\n6.022e+23\n>>> print(f\"{avogadro_number:.6e}\")\n6.022141e+23\n```",
          "```python\n>>> avogadro_number = 6.022_140_76e23\n>>> print(f\"{avogadro_number:.0e}\")\n6e+23\n>>> print(f\"{avogadro_number:.3e}\")\n6.022e+23\n>>> print(f\"{avogadro_number:.6e}\")\n6.022141e+23\n```\n\n\n## Ancienne méthode de formatage des chaînes de caractères\n\n*Conseil* : Pour les débutants, tout ce qui est écrit dans cette rubrique n'est pas à retenir.\n\nDans les premières versions de Python jusqu'à la 2.6, il fallait utiliser l'opérateur `%`, puis de la version 2.7 jusqu'à la 3.5 il était plutôt conseillé d'utiliser la méthode `.format()` (voir la rubrique suivante pour la définition du mot « méthode »). Même si les *f-strings* sont devenues la manière conseillée pour mettre en place l'écriture formatée, ces deux anciennes manières, sont encore pleinement compatibles avec les versions modernes de Python.",
          "Même si elle fonctionne encore, la première manière avec l'opérateur `%` est maintenant clairement déconseillée pour un certain nombre de [raisons](https://docs.python.org/fr/3/library/stdtypes.html?highlight=sprintf#printf-style-string-formatting). Néanmoins, nous rappelons ci-dessous son fonctionnement, car il se peut que vous tombiez dessus dans d'anciens livres ou si vous lisez de vieux programmes Python.\n\nLa deuxième manière avec la méthode `.format()` est encore largement utilisée et reste tout à fait valide. Elle est clairement plus puissante et évite un certain nombre de désagréments par rapport à l'opérateur `%`. Vous la croiserez sans doute très fréquemment dans des programmes et ouvrages récents. Heureusement elle a un fonctionnement relativement proche des *f-strings*, donc vous ne serez pas totalement perdus !\n\nEnfin, nous indiquons à la fin de cette rubrique nos conseils sur quelle méthode utiliser.\n\n### L'opérateur `%`",
          "Enfin, nous indiquons à la fin de cette rubrique nos conseils sur quelle méthode utiliser.\n\n### L'opérateur `%`\n\nOn a vu avec les entiers que l'opérateur `%` ou *modulo* renvoyait le reste d'une division entière. Cet opérateur existe aussi pour les chaînes de caractères mais il met en place l'écriture formatée. En voici un exemple :\n\n```python\n>>> x = 32\n>>> nom = \"John\"\n>>> print(\"%s a %d ans\" % (nom, x))\nJohn a 32 ans\n>>> nb_G = 4500\n>>> nb_C = 2575\n>>> prop_GC = (nb_G + nb_C)/14800\n>>> print(\"On a %d G et %d C -> prop GC = %.2f\" % (nb_G, nb_C, prop_GC))\nOn a 4500 G et 2575 C -> prop GC = 0.48\n```\n\nLa syntaxe est légèrement différente. Le symbole `%` est d'abord appelé dans la chaîne de caractères (dans l'exemple ci-dessus `%d`, `%d` et `%.2f`) pour :",
          "La syntaxe est légèrement différente. Le symbole `%` est d'abord appelé dans la chaîne de caractères (dans l'exemple ci-dessus `%d`, `%d` et `%.2f`) pour :\n\n- Désigner l'endroit où sera placée la variable dans la chaîne de caractères.\n- Préciser le type de variable à formater, `d` pour un entier (`i` fonctionne également) ou `f` pour un *float*.\n- Éventuellement pour indiquer le format voulu. Ici `.2` signifie une précision de deux décimales.\n\nLe signe `%` est rappelé une seconde fois (`% (nb_G, nb_C, prop_GC)`) pour indiquer les variables à formater.\n\n### La méthode `.format()`\n\nDepuis la version 2.7 de Python, la méthode `.format()` (voir la rubrique suivante pour la définition d'une méthode) a apporté une nette amélioration pour mettre en place l'écriture formatée. Celle-ci fonctionne de la manière suivante :",
          "```python\n>>> x = 32\n>>> nom = \"John\"\n>>> print(\"{} a {} ans\".format(nom, x))\nJohn a 32 ans\n>>> nb_G = 4500\n>>> nb_C = 2575\n>>> prop_GC = (nb_G + nb_C)/14800\n>>> print(\"On a {} G et {} C -> prop GC = {:.2f}\".format(nb_G, nb_C, prop_GC))\nOn a 4500 G et 2575 C -> prop GC = 0.48\n```\n\n- Dans la chaîne de caractères, les accolades vides `{}` précisent l'endroit où le contenu de la variable doit être inséré.\n- Juste après la chaîne de caractères, l'instruction `.format(nom, x)` fournit la liste des variables à insérer, d'abord la variable `nom` puis la variable `x`. \n- On peut éventuellement préciser le formatage en mettant un caractère deux-points `:` puis par exemple ici `.2f` qui signifie 2 chiffres après la virgule.\n- La méthode `.format()` agit sur la chaîne de caractères à laquelle elle est attachée par le point.",
          "Tout ce que nous avons vu avec les *f-strings* sur la manière de formatter l'affichage d'une variable (après les `:` au sein des accolades) est identique avec la méthode `.format()`. Par exemple `{:.2f}`, `{:0>6d}`, `{:.6e}`, etc., fonctionneront de la même manière. La différence notable est qu'on ne met pas directement le nom de la variable au sein des accolades. Comme pour l'opérateur `%`, c'est l'emplacement dans les arguments passés à la méthode `.format()` qui dicte quelle variable doit être remplacée. Par exemple, dans `\"{} {} {}\".format(bidule, machin, truc)`, les premières accolades remplaceront la variable `bidule`, les deuxièmes la variable `machin`, les troisièmes la variable `truc`.",
          "Le formattage avec la méthode `.format()` se rapproche de la syntaxe des *f-strings* (accolades, deux-points), mais présente l'inconvénient -- comme avec l'opérateur `%` -- de devoir mettre la liste des variables tout à la fin, alourdissant ainsi la syntaxe. En effet, dans l'exemple avec la proportion de GC, la ligne équivalente avec une *f-string* apparait tout de même plus simple à lire :\n\n```python\n>>> print(f\"On a {nb_G} G et {nb_C} C -> prop GC = {prop_GC:.2f}\")\nOn a 4500 G et 2575 C -> prop GC = 0.48\n```\n\nopen-box-adv",
          "```python\n>>> print(f\"On a {nb_G} G et {nb_C} C -> prop GC = {prop_GC:.2f}\")\nOn a 4500 G et 2575 C -> prop GC = 0.48\n```\n\nopen-box-adv\n\nPour conclure, ces deux anciennes façons de formater une chaîne de caractères avec l'opérateur `%` ou la méthode `.format()` vous sont présentées à titre d'information. La première avec l'opérateur `%` est clairement déconseillée. La deuxième avec la méthode `.format()` est encore tout à fait valable. Si vous débutez Python, nous vous conseillons fortement d'apprendre et d'utiliser les *f-strings*. C'est ce que vous rencontrerez dans la suite de ce cours. Si vous connaissez déjà Python et que vous utilisez la méthode `.format()`, nous vous conseillons de passer aux *f-strings*. Depuis que nous les avons découvertes, aucun retour n'est envisageable pour nous tant elles sont puissantes et plus claires à utiliser !",
          "Enfin, si vous souhaitez aller plus loin, voici deux articles (en anglais) très bien faits sur le site *RealPython*: sur l'[écriture formatée](https://realpython.com/python-string-formatting) et sur les [*f-strings*](https://realpython.com/python-f-strings/)\n\nclose-box-adv\n\n## Note sur le vocabulaire et la syntaxe\n\nRevenons quelques instants sur la notion de **méthode** abordée dans ce chapitre avec `.format()`. En Python, on peut considérer chaque variable comme un objet sur lequel on peut appliquer des méthodes. Une méthode est simplement une fonction qui utilise et/ou agit sur l'objet lui-même, les deux étant connectés par un point. La syntaxe générale est de la forme `objet.méthode()`.\n\nDans l'exemple suivant :\n\n```python\n>>> \"Joe a {} ans\".format(20)\n'Joe a 20 ans'\n```\n\nla méthode `.format()` est liée à `\"Joe a {} ans\"` qui est un objet de type chaîne de caractères. La méthode renvoie une nouvelle chaîne de caractères avec le bon formatage (ici, `'Joe a 20 ans'`).",
          "la méthode `.format()` est liée à `\"Joe a {} ans\"` qui est un objet de type chaîne de caractères. La méthode renvoie une nouvelle chaîne de caractères avec le bon formatage (ici, `'Joe a 20 ans'`).\n\nNous aurons de nombreuses occasions de revoir cette notation `objet.méthode()`.\n\n\n## Exercices\n\n*Conseil* : utilisez l'interpréteur Python pour les exercices 2 à 5.\n\n\n### Affichage dans l'interpréteur et dans un programme\n\nOuvrez l'interpréteur Python et tapez l'instruction `1+1`. Que se passe-t-il ?\n\nÉcrivez la même chose dans un script `test.py` que vous allez créer avec un éditeur de texte. Exécutez ce script en tapant `python test.py` dans un *shell*. Que se passe-t-il ? Pourquoi ? Faites en sorte d'afficher le résultat de l'addition `1+1` en exécutant le script dans un *shell*.\n\n\n### Poly-A\n\nGénérez une chaîne de caractères représentant un brin d'ADN poly-A (c'est-à-dire qui ne contient que des bases A) de 20 bases de longueur, sans taper littéralement toutes les bases.",
          "### Poly-A\n\nGénérez une chaîne de caractères représentant un brin d'ADN poly-A (c'est-à-dire qui ne contient que des bases A) de 20 bases de longueur, sans taper littéralement toutes les bases.\n\n\n### Poly-A et poly-GC\n\nSur le modèle de l'exercice précédent, générez en une ligne de code un brin d'ADN poly-A (AAAA...) de 20 bases suivi d'un poly-GC régulier (GCGCGC...) de 40 bases.\n\n\n### Écriture formatée\n\nEn utilisant l'écriture formatée, affichez en une seule ligne les variables `a`, `b` et `c` dont les valeurs sont respectivement la chaîne de caractères `\"salut\"`, le nombre entier `102` et le *float* `10.318`. La variable `c` sera affichée avec 2 décimales.\n\n\n### Écriture formatée 2\n\nDans un script `percGC.py`, calculez un pourcentage de GC avec l'instruction suivante :\n\n`perc_GC = ((4500 + 2575)/14800)*100`",
          "### Écriture formatée 2\n\nDans un script `percGC.py`, calculez un pourcentage de GC avec l'instruction suivante :\n\n`perc_GC = ((4500 + 2575)/14800)*100`\n\nEnsuite, affichez le contenu de la variable `perc_GC` à l'écran avec 0, 1, 2 puis 3 décimales sous forme arrondie en utilisant l'écriture formatée et les *f-strings*. On souhaite que le programme affiche la sortie suivante :\n\n```text\nLe pourcentage de GC est 48     %\nLe pourcentage de GC est 47.8   %\nLe pourcentage de GC est 47.80  %\nLe pourcentage de GC est 47.804 %\n```"
         ],
         "marker": {
          "color": 0,
          "colorscale": [
           [
            0,
            "#440154"
           ],
           [
            0.1111111111111111,
            "#482878"
           ],
           [
            0.2222222222222222,
            "#3e4989"
           ],
           [
            0.3333333333333333,
            "#31688e"
           ],
           [
            0.4444444444444444,
            "#26828e"
           ],
           [
            0.5555555555555556,
            "#1f9e89"
           ],
           [
            0.6666666666666666,
            "#35b779"
           ],
           [
            0.7777777777777778,
            "#6ece58"
           ],
           [
            0.8888888888888888,
            "#b5de2b"
           ],
           [
            1,
            "#fde725"
           ]
          ],
          "opacity": 0.8,
          "size": 8
         },
         "mode": "markers",
         "name": "Affichage",
         "type": "scatter",
         "x": [
          0.016274999428092553,
          0.13792298741709383,
          0.17470485750988488,
          0.2574185243091817,
          0.30783702159950216,
          0.3263191087591847,
          0.31120376403043115,
          0.3353133637151352,
          0.5057234807945082,
          0.4744157549869594,
          0.4812443456794617,
          0.4428823581112448,
          0.34388587062926923,
          0.392927049621332,
          0.5374047796683165,
          0.41218187725911193,
          0.36549816858457207,
          0.3165015097965502,
          0.4148766349683315,
          0.34993795946640394,
          0.32031065742043724,
          0.40186892852737977,
          0.4105573374861233,
          0.3847950366685124,
          0.46009083913743143,
          0.4901763227606463,
          0.2948973280215908,
          0.20587543296986788,
          0.17958651734098544,
          0.3846450541346676
         ],
         "y": [
          -0.06715714614512844,
          -0.05717872502410425,
          -0.04909702102291303,
          0.06710700106581852,
          0.06578306558634239,
          0.03219441646717937,
          -0.02722921854855173,
          0.022682816017097533,
          0.08236900568670334,
          0.08654611748775272,
          0.07051938589986427,
          0.11384263841419552,
          0.09330682808623748,
          0.13628406151621986,
          0.060311283872744,
          0.01767700288949432,
          -0.0275409282947361,
          0.09128056522061685,
          0.08567166925733911,
          0.06085338798697632,
          0.022422508214778272,
          0.04564128926193265,
          0.04881728838880811,
          0.04335942783871188,
          0.10131956670887743,
          0.12643564633392348,
          0.0061722179160723974,
          0.0285693775970677,
          0.029022165871804267,
          0.06344773467527182
         ]
        },
        {
         "hoverinfo": "text",
         "hovertext": [
          "## Principe et généralités\n\nEn programmation, les **fonctions** sont très utiles pour réaliser plusieurs fois la même opération au sein d'un programme. Elles rendent également le code plus lisible et plus clair en le fractionnant en blocs logiques.\n\nVous connaissez déjà certaines fonctions Python. Par exemple `math.cos(angle)` du module `math` renvoie le cosinus de la variable `angle` exprimé en radian. Vous connaissez aussi des fonctions internes à Python comme `range()` ou `len()`. Pour l'instant, une fonction est à vos yeux une sorte de « boîte noire » (voir figure @fig:schema_fonction) :\n\n1. À laquelle vous passez aucune, une ou plusieurs variable(s) entre parenthèses. Ces variables sont appelées **arguments**. Il peut s'agir de n'importe quel type d'objet Python.\n2. Qui effectue une action.\n3. Et qui renvoie un objet Python ou rien du tout.\n\n![Fonctionnement schématique d'une fonction.](img/schema_fonction.png){ #fig:schema_fonction width=90% }",
          "![Fonctionnement schématique d'une fonction.](img/schema_fonction.png){ #fig:schema_fonction width=90% }\n\nPar exemple, si vous appelez la fonction `len()` de la manière suivante :\n\n```python\n>>> len([0, 1, 2])\n3\n```\n\nvoici ce qui se passe :\n\n1. vous appelez `len()` en lui passant une liste en argument (ici la liste `[0, 1, 2]`) ;\n2. la fonction calcule la longueur de cette liste ;\n3. elle vous renvoie un entier égal à cette longueur.\n\nAutre exemple, si vous appelez la méthode `ma_liste.append()` (n'oubliez pas, une **méthode** est une **fonction** qui agit sur l'objet auquel elle est attachée par un point) :\n\n```python\n>>> ma_liste.append(5)\n```\n\n1. Vous passez l'entier `5` en argument ;\n2. la méthode `append()` ajoute l'entier `5` à l'objet `ma_liste` ;\n3. et elle ne renvoie rien.",
          "```python\n>>> ma_liste.append(5)\n```\n\n1. Vous passez l'entier `5` en argument ;\n2. la méthode `append()` ajoute l'entier `5` à l'objet `ma_liste` ;\n3. et elle ne renvoie rien.\n\nAux yeux du programmeur au contraire, une fonction est une portion de code effectuant une suite d'instructions bien particulière. Mais avant de vous présenter la syntaxe et la manière de construire une fonction, revenons une dernière fois sur cette notion de « boîte noire » :\n\n- Une fonction effectue une tâche. Pour cela, elle reçoit éventuellement des arguments et renvoie éventuellement quelque chose. L'algorithme utilisé au sein de la fonction n'intéresse pas directement l'utilisateur. Par exemple, il est inutile de savoir comment la fonction `math.cos()` calcule un cosinus. On a juste besoin de savoir qu'il faut lui passer en argument un angle en radian et qu'elle renvoie le cosinus de cet angle. Ce qui se passe à l'intérieur de la fonction ne regarde que le programmeur.",
          "- Chaque fonction effectue en général une tâche **unique et précise**. Si cela se complique, il est plus judicieux d'écrire plusieurs fonctions (qui peuvent éventuellement s'appeler les unes les autres). Cette **modularité** améliore la qualité générale et la lisibilité du code. Vous verrez qu'en Python, les fonctions présentent une grande flexibilité.",
          "Pour finir sur les généralités, nous avons utilisé dans la Figure @fig:schema_fonction le terme **programme principal** (*main* en anglais) pour désigner l'endroit depuis lequel on appelle une fonction (on verra plus tard que l'on peut en fait appeler une fonction de n'importe où). Le programme principal désigne le code qui est exécuté lorsqu'on lance le script Python, c'est-à-dire toute la suite d'instructions en dehors des fonctions. En général, dans un script Python, on écrit d'abord les fonctions puis le programme principal. Nous aurons l'occasion de revenir sur cette notion de programme principal plus tard dans ce chapitre ainsi que dans le chapitre 12 *Plus sur les fonctions*.\n\n\n## Définition\n\nPour définir une fonction, Python utilise le mot-clé `def`. Si on souhaite que la fonction renvoie quelque chose, il faut utiliser le mot-clé `return`. Par exemple :",
          "## Définition\n\nPour définir une fonction, Python utilise le mot-clé `def`. Si on souhaite que la fonction renvoie quelque chose, il faut utiliser le mot-clé `return`. Par exemple :\n\n```python\n>>> def carre(x):\n...     return x**2\n...\n>>> print(carre(2))\n4\n```\nNotez que la syntaxe de `def` utilise les deux-points comme les boucles `for` et `while` ainsi que les tests `if`, un bloc d’instructions est donc attendu. De même que pour les boucles et les tests, l'**indentation** de ce bloc d'instructions (qu'on appelle le corps de la fonction) est **obligatoire**.\n\nDans l'exemple précédent, nous avons passé un argument à la fonction `carre()` qui nous a renvoyé (ou retourné) une valeur que nous avons immédiatement affichée à l'écran avec l'instruction `print()`. Que veut dire valeur renvoyée ? Et bien cela signifie que cette dernière est récupérable dans une variable :",
          "```python\n>>> res = carre(2)\n>>> print(res)\n4\n```\nIci, le résultat renvoyé par la fonction est stocké dans la variable `res`.\nNotez qu'une fonction ne prend pas forcément un argument et ne renvoie pas forcément une valeur, par exemple :\n\n```python\n>>> def hello():\n...     print(\"bonjour\")\n...\n>>> hello()\nbonjour\n```\n\nDans ce cas la fonction, `hello()` se contente d'afficher la chaîne de caractères `\"bonjour\"` à l'écran. Elle ne prend aucun argument et ne renvoie rien. Par conséquent, cela n'a pas de sens de vouloir récupérer dans une variable le résultat renvoyé par une telle fonction. Si on essaie tout de même, Python affecte la valeur `None` qui signifie *rien* en anglais:\n\n```python\n>>> var = hello()\nbonjour\n>>> print(var)\nNone\n```\n\nCeci n'est pas une faute car Python n'émet pas d'erreur, toutefois cela ne présente, la plupart du temps, guère d'intérêt.\n\n\n## Passage d'arguments",
          "Ceci n'est pas une faute car Python n'émet pas d'erreur, toutefois cela ne présente, la plupart du temps, guère d'intérêt.\n\n\n## Passage d'arguments\n\nLe nombre d'arguments que l'on peut passer à une fonction est variable. Nous avons vu ci-dessus des fonctions auxquelles on passait 0 ou 1 argument. Dans les chapitres précédents, vous avez rencontré des fonctions internes à Python qui prenaient au moins 2 arguments. Souvenez-vous par exemple de `range(1, 10)` ou encore `range(1, 10, 2)`. Le nombre d'argument est donc laissé libre à l'initiative du programmeur qui développe une nouvelle fonction.\n\nUne particularité des fonctions en Python est que vous n'êtes pas obligé de préciser le type des arguments que vous lui passez, dès lors que les opérations que vous effectuez avec ces arguments sont valides. Python est en effet connu comme étant un langage au « typage dynamique », c'est-à-dire qu'il reconnaît pour vous le type des variables au moment de l'exécution. Par exemple :",
          "```python\n>>> def fois(x, y):\n...     return x*y\n...\n>>> fois(2, 3)\n6\n>>> fois(3.1415, 5.23)\n16.430045000000003\n>>> fois(\"to\", 2)\n'toto'\n>>> fois([1,3], 2)\n[1, 3, 1, 3]\n```\n\nL'opérateur `*` reconnaît plusieurs types (entiers, *floats*, chaînes de caractères, listes). Notre fonction `fois()` est donc capable d'effectuer des tâches différentes ! Même si Python autorise cela, méfiez-vous tout de même de cette grande flexibilité qui pourrait conduire à des surprises dans vos futurs programmes. En général, il est plus judicieux que chaque argument ait un type précis (entiers, *floats*, chaînes de caractères, etc) et pas l'un ou l'autre.\n\n\n## Renvoi de résultats\n\nUn énorme avantage en Python est que les fonctions sont capables de renvoyer plusieurs objets à la fois, comme dans cette fraction de code :\n\n```python\n>>> def carre_cube(x):\n...     return x**2, x**3\n...\n>>> carre_cube(2)\n(4, 8)\n```",
          "```python\n>>> def carre_cube(x):\n...     return x**2, x**3\n...\n>>> carre_cube(2)\n(4, 8)\n```\n\nEn réalité Python ne renvoie qu'un seul objet, mais celui-ci peut être séquentiel, c'est-à-dire contenir lui même d'autres objets. Dans notre exemple Python renvoie un objet de type `tuple`, type que nous verrons dans le chapitre 13 *Dictionnaires et tuples* (*grosso modo*, il s'agit d'une sorte de liste avec des propriétés différentes). Notre fonction pourrait tout autant renvoyer une liste :\n\n```python\n>>> def carre_cube2(x):\n...     return [x**2, x**3]\n...\n>>> carre_cube2(3)\n[9, 27]\n```\n\nRenvoyer un *tuple* ou une liste de deux éléments (ou plus) est très pratique en conjonction avec l'**affectation multiple**, par exemple :\n\n```python\n>>> z1, z2 = carre_cube2(3)\n>>> z1\n9\n>>> z2\n27\n```\n\nCela permet de récupérer plusieurs valeurs renvoyées par une fonction et de les affecter à la volée à des variables différentes.\n\n\n## Arguments positionnels et arguments par mot-clé",
          "Cela permet de récupérer plusieurs valeurs renvoyées par une fonction et de les affecter à la volée à des variables différentes.\n\n\n## Arguments positionnels et arguments par mot-clé\n\nJusqu'à maintenant, nous avons systématiquement passé le nombre d'arguments que la fonction attendait. Que se passe-t-il si une fonction attend deux arguments et que nous ne lui en passons qu'un seul ?\n\n```python\n>>> def fois(x, y):\n...     return x*y\n...\n>>> fois(2, 3)\n6\n>>> fois(2)\nTraceback (most recent call last):\n  File \"<stdin>\", line 1, in <module>\nTypeError: fois() missing 1 required positional argument: 'y'\n```\n\nOn constate que passer un seul argument à une fonction qui en attend deux conduit à une erreur.\n\nopen-box-def",
          "On constate que passer un seul argument à une fonction qui en attend deux conduit à une erreur.\n\nopen-box-def\n\nLorsqu'on définit une fonction `def fct(x, y):` les arguments `x` et `y` sont appelés **arguments positionnels** (en anglais *positional arguments*). Il est strictement obligatoire de les préciser lors de l'appel de la fonction. De plus, il est nécessaire de respecter le même ordre lors de l'appel que dans la définition de la fonction. Dans l'exemple ci-dessus, `2` correspondra à `x` et `3` correspondra à `y`. Finalement, tout dépendra de leur position, d'où leur qualification de positionnel.\n\nclose-box-def\n\nMais il est aussi possible de passer un ou plusieurs argument(s) de manière facultative et de leur attribuer une valeur par défaut :\n\n```python\n>>> def fct(x=1):\n...     return x\n...\n>>> fct()\n1\n>>> fct(10)\n10\n```\n\nopen-box-def",
          "```python\n>>> def fct(x=1):\n...     return x\n...\n>>> fct()\n1\n>>> fct(10)\n10\n```\n\nopen-box-def\n\nUn argument défini avec une syntaxe `def fct(arg=val):` est appelé **argument par mot-clé** (en anglais *keyword argument*). Le passage d'un tel argument lors de l'appel de la fonction est facultatif. Ce type d'argument ne doit pas être confondu avec les arguments positionnels présentés ci-dessus, dont la syntaxe est `def fct(arg):`.\n\nclose-box-def\n\nIl est bien sûr possible de passer plusieurs arguments par mot-clé :\n\n```python\n>>> def fct(x=0, y=0, z=0):\n...     return x, y, z\n...\n>>> fct()\n(0, 0, 0)\n>>> fct(10)\n(10, 0, 0)\n>>> fct(10, 8)\n(10, 8, 0)\n>>> fct(10, 8, 3)\n(10, 8, 3)\n```",
          "```python\n>>> def fct(x=0, y=0, z=0):\n...     return x, y, z\n...\n>>> fct()\n(0, 0, 0)\n>>> fct(10)\n(10, 0, 0)\n>>> fct(10, 8)\n(10, 8, 0)\n>>> fct(10, 8, 3)\n(10, 8, 3)\n```\n\nOn observe que pour l'instant, les arguments par mot-clé sont pris dans l'ordre dans lesquels on les passe lors de l'appel. Comment pourrions-nous faire si on souhaitait préciser l'argument par mot-clé `z` et garder les valeurs de `x` et `y` par défaut ? Simplement en  précisant le nom de l'argument lors de l'appel :\n\n```python\n>>> fct(z=10)\n(0, 0, 10)\n```\n\nPython permet même de rentrer les arguments par mot-clé dans un ordre arbitraire :\n\n```python\n>>> fct(z=10, x=3, y=80)\n(3, 80, 10)\n>>> fct(z=10, y=80)\n(0, 80, 10)\n```\n\nQue se passe-t-il lorsque nous avons un mélange d'arguments positionnels et par mot-clé ? Et bien les arguments positionnels doivent toujours être placés avant les arguments par mot-clé :",
          "Que se passe-t-il lorsque nous avons un mélange d'arguments positionnels et par mot-clé ? Et bien les arguments positionnels doivent toujours être placés avant les arguments par mot-clé :\n\n```python\n>>> def fct(a, b, x=0, y=0, z=0):\n...     return a, b, x, y, z\n...\n>>> fct(1, 1)\n(1, 1, 0, 0, 0)\n>>> fct(1, 1, z=5)\n(1, 1, 0, 0, 5)\n>>> fct(1, 1, z=5, y=32)\n(1, 1, 0, 32, 5)\n```\n\nOn peut toujours passer les arguments par mot-clé dans un ordre arbitraire à partir du moment où on précise leur nom. Par contre, si les deux arguments positionnels `a` et `b` ne sont pas passés à la fonction, Python renvoie une erreur.\n\n```python\n>>> fct(z=0)\nTraceback (most recent call last):\n  File \"<stdin>\", line 1, in <module>\nTypeError: fct() missing 2 required positional arguments: 'a' and 'b'\n```\n\nopen-box-adv\n\nPréciser le nom des arguments par mot-clé lors de l'appel d'une fonction est une pratique que nous vous recommandons. Cela les distingue clairement des arguments positionnels.\n\nclose-box-adv",
          "Préciser le nom des arguments par mot-clé lors de l'appel d'une fonction est une pratique que nous vous recommandons. Cela les distingue clairement des arguments positionnels.\n\nclose-box-adv\n\nL'utilisation d'arguments par mot-clé est habituelle en Python. Elle permet de modifier le comportement par défaut de nombreuses fonctions. Par exemple, si on souhaite que la fonction `print()` n'affiche pas un retour à la ligne, on peut utiliser l'argument `end` :\n\n```python\n>>> print(\"Message \", end=\"\")\nMessage >>>\n```\n\nNous verrons, dans le chapitre 20 *Fenêtres graphiques et Tkinter*, que l'utilisation d'arguments par mot-clé est systématique lorsqu'on crée un objet graphique (une fenêtre, un bouton, etc.).\n\n\n## Variables locales et variables globales",
          "## Variables locales et variables globales\n\nLorsqu'on manipule des fonctions, il est essentiel de bien comprendre comment se comportent les variables. Une variable est dite **locale** lorsqu'elle est créée dans une fonction. Elle n'existera et ne sera visible que lors de l'exécution de ladite fonction.\n\nUne variable est dite **globale** lorsqu'elle est créée dans le programme principal. Elle sera visible partout dans le programme.\n\nCeci ne vous paraît pas clair ? Nous allons prendre un exemple simple qui vous aidera à mieux saisir ces concepts. Observez le code suivant :\n\n```python\n# définition d'une fonction carre()\ndef carre(x):\n    y = x**2\n    return y\n\n# programme principal\nz = 5\nresultat = carre(z)\nprint(resultat)\n```",
          "```python\n# définition d'une fonction carre()\ndef carre(x):\n    y = x**2\n    return y\n\n# programme principal\nz = 5\nresultat = carre(z)\nprint(resultat)\n```\n\nPour la suite des explications, nous allons utiliser l'excellent site [*Python Tutor*](http://www.pythontutor.com) qui permet de visualiser l'état des variables au fur et à mesure de l'exécution d'un code Python. Avant de poursuivre, nous vous conseillons de prendre 5 minutes pour tester ce site.\n\nRegardons maintenant ce qui se passe dans le code ci-dessus, étape par étape :\n\n- Étape 1 : Python est prêt à lire la première ligne de code.\n\n![Étape 1.](img/fct_step1.png){ #fig:fct_step1 width=80% }\n\\",
          "- Étape 1 : Python est prêt à lire la première ligne de code.\n\n![Étape 1.](img/fct_step1.png){ #fig:fct_step1 width=80% }\n\\\n\n\n- Étape 2 : Python met en mémoire la fonction `carre()`. Notez qu'il ne l'exécute pas ! La fonction est mise dans un espace de la mémoire nommé *Global frame*, il s'agit de l'espace du programme principal. Dans cet espace, seront stockées toutes les variables *globales* créées dans le programme. Python est maintenant prêt à exécuter le programme principal.\n\n![Étape 2.](img/fct_step2.png){ #fig:fct_step2 width=80% }\n\\\n\n\n- Étape 3 : Python lit et met en mémoire la variable `z`. Celle-ci étant créée dans le programme principal, il s'agira d'une variable *globale*. Ainsi, elle sera également stockée dans le *Global frame*.\n\n![Étape 3.](img/fct_step3.png){ #fig:fct_step3 width=80% }\n\\",
          "![Étape 3.](img/fct_step3.png){ #fig:fct_step3 width=80% }\n\\\n\n\n- Étape 4 : La fonction `carre()` est appelée et on lui passe en argument l'entier `z`. La fonction s'exécute et un nouveau cadre est créé dans lequel *Python Tutor* va indiquer toutes les variables *locales* à la fonction. Notez bien que la variable passée en argument, qui s'appelle `x` dans la fonction, est créée en tant que variable *locale*. On remarquera aussi que les variables *globales* situées dans le *Global frame* sont toujours là.\n\n![Étape 4.](img/fct_step4.png){ #fig:fct_step4 width=80% }\n\\\n\n\n- Étape 5 : Python est maintenant prêt à exécuter chaque ligne de code de la fonction.\n\n![Étape 5.](img/fct_step5.png){ #fig:fct_step5 width=80% }\n\\\n\n\n- Étape 6 : La variable `y` est créée dans la fonction. Celle-ci est donc stockée en tant que variable *locale* à la fonction.\n\n![Étape 6.](img/fct_step6.png){ #fig:fct_step6 width=80% }\n\\",
          "- Étape 6 : La variable `y` est créée dans la fonction. Celle-ci est donc stockée en tant que variable *locale* à la fonction.\n\n![Étape 6.](img/fct_step6.png){ #fig:fct_step6 width=80% }\n\\\n\n\n- Étape 7 : Python s'apprête à renvoyer la variable *locale* `y` au programme principal. *Python Tutor* nous indique le contenu de la valeur renvoyée.\n\n![Étape 7.](img/fct_step7.png){ #fig:fct_step7 width=80% }\n\\\n\n\n- Étape 8 : Python quitte la fonction et la valeur renvoyée par celle-ci est affectée à la variable *globale* `resultat`. Notez bien que lorsque Python quitte la fonction, **l'espace des variables alloué à la fonction est détruit**. Ainsi, toutes les variables créées dans la fonction n'existent plus. On comprend pourquoi elles portent le nom de *locales* puisqu'elles n'existent que lorsque la fonction est exécutée.\n\n![Étape 8.](img/fct_step8.png){ #fig:fct_step8 width=80% }\n\\\n\n\n- Étape 9 : Python affiche le contenu de la variable `resultat` et l'exécution est terminée.",
          "![Étape 8.](img/fct_step8.png){ #fig:fct_step8 width=80% }\n\\\n\n\n- Étape 9 : Python affiche le contenu de la variable `resultat` et l'exécution est terminée.\n\n![Étape 9.](img/fct_step9.png){ #fig:fct_step9 width=80% }\n\\\n\n\nNous espérons que cet exemple guidé facilitera la compréhension des concepts de variables locales et globales. Cela viendra aussi avec la pratique. Nous irons un peu plus loin sur les fonctions dans le chapitre 12. D'ici là, essayez de vous entraîner au maximum avec les fonctions. C'est un concept ardu, mais il est impératif de le maîtriser.\n\nEnfin, comme vous avez pu le constater, *Python Tutor* nous a grandement aidé à comprendre ce qui se passait. N'hésitez pas à l'utiliser sur des exemples ponctuels, ce site vous aidera à visualiser ce qui se passe lorsqu'un code ne fait pas ce que vous attendez.\n\n\n## Principe DRY",
          "## Principe DRY\n\nL'acronyme [DRY](https://www.earthdatascience.org/courses/intro-to-earth-data-science/write-efficient-python-code/intro-to-clean-code/dry-modular-code/) signifie *Don't Repeat Yourself*. Les fonctions permettent de satisfaire ce principe en évitant la duplication de code.\nEn effet, plus un code est dupliqué plusieurs fois dans un programme, plus il sera source d'erreurs, notamment lorsqu'il faudra le faire évoluer.\n\nConsidérons par exemple le code suivant qui convertit plusieurs températures des degrés Fahrenheit en degrés Celsius :\n\n```python\n>>> temp_in_fahrenheit = 60\n>>> (temp_in_fahrenheit - 32) * (5/8)\n17.5\n>>> temp_in_fahrenheit = 80\n>>> (temp_in_fahrenheit - 32) * (5/8)\n30.0\n>>> temp_in_fahrenheit = 100\n>>> (temp_in_fahrenheit - 32) * (5/8)\n42.5\n```\n\nMalheureusement il y a une erreur dans la formule de conversion. En effet la formule exacte est :\n\n$$\n{\\rm temp\\_celsius} = ({\\rm temp\\_fahrenheit} - 32) \\times \\frac{5}{9}\n$$",
          "Malheureusement il y a une erreur dans la formule de conversion. En effet la formule exacte est :\n\n$$\n{\\rm temp\\_celsius} = ({\\rm temp\\_fahrenheit} - 32) \\times \\frac{5}{9}\n$$\n\nIl faut alors reprendre les lignes 2, 5 et 8 précédentes et les corriger. Cela n'est pas efficace, surtout si le même code est utilisé à différents endroits dans le programme.\n\nEn écrivant qu'une seule fois la formule de conversion dans une fonction, on applique le principe DRY :\n\n```python\n>>> def convert_fahrenheit_to_celsius(temperature):\n...     return (temperature - 32) * (5/9)\n... \n>>> temp_in_fahrenheit = 60\n>>> convert_fahrenheit_to_celsius(temp_in_fahrenheit)\n15.555555555555557\n>>> temp_in_fahrenheit = 80\n>>> convert_fahrenheit_to_celsius(temp_in_fahrenheit)\n26.666666666666668\n>>> temp_in_fahrenheit = 100\n>>> convert_fahrenheit_to_celsius(temp_in_fahrenheit)\n37.77777777777778\n```",
          "Et s'il y a une erreur dans la formule, il suffira de le corriger qu'une seule fois, dans la fonction `convert_fahrenheit_to_celsius()`.\n\n## Exercices\n\n*Conseil* : pour le premier exercice, utilisez *Python Tutor*. Pour les exercices suivants, créez des scripts puis exécutez-les dans un *shell*.\n\n\n### Carré et factorielle\n\nReprenez l'exemple précédent à l'aide du site [*Python Tutor*](http://www.pythontutor.com) :\n\n```python\n# définition d'une fonction carre()\ndef carre(x):\n    y = x**2\n    return y\n\n# programme principal\nz = 5\nresultat = carre(z)\nprint(resultat)\n```\n\nAnalysez ensuite le code suivant et tentez de prédire sa sortie :\n\n```python\ndef calc_factorielle(n):\n    fact = 1\n    for i in range(2, n+1):\n        fact = fact * i\n    return fact\n\n# programme principal\nnb = 4\nfactorielle_nb = calc_factorielle(nb)\nprint(f\"{nb}! = {factorielle_nb}\")\nnb2 = 10\nprint(f\"{nb2}! = {calc_factorielle(nb2)}\")\n```",
          "# programme principal\nnb = 4\nfactorielle_nb = calc_factorielle(nb)\nprint(f\"{nb}! = {factorielle_nb}\")\nnb2 = 10\nprint(f\"{nb2}! = {calc_factorielle(nb2)}\")\n```\n\nTestez ensuite cette portion de code avec *Python Tutor* en cherchant à bien comprendre chaque étape.\nAvez-vous réussi à prédire la sortie correctement ?\n\nopen-box-rem\n\nUne remarque concernant l'utilisation des *f-strings* que nous avions vues dans le chapitre 3 *Affichage*. On voit à nouveau une possibilité puissante des *f-strings* dans l'instruction `f\"{nb2}! = {calc_factorielle(nb2)}\"` : il est possible de mettre directement au sein des accolades un appel à une fonction (ici `{calc_factorielle(nb2)}`) ! Ainsi, pas besoin de créer une variable intermédiaire dans laquelle on stocke ce que retourne la fonction. \n\nclose-box-rem\n\n### Puissance\n\nCréez une fonction `calc_puissance(x, y)` qui renvoie $x^y$ en utilisant l'opérateur `**`. Pour rappel :\n\n```python\n>>> 2**2\n4\n>>> 2**3\n8\n>>> 2**4\n16\n```",
          "close-box-rem\n\n### Puissance\n\nCréez une fonction `calc_puissance(x, y)` qui renvoie $x^y$ en utilisant l'opérateur `**`. Pour rappel :\n\n```python\n>>> 2**2\n4\n>>> 2**3\n8\n>>> 2**4\n16\n```\n\nDans le programme principal, calculez et affichez à l'écran $2^i$ avec $i$ variant de 0 à 20 inclus. On souhaite que le résultat soit présenté avec le formatage suivant :\n\n```text\n2^ 0 =       1\n2^ 1 =       2\n2^ 2 =       4\n[...]\n2^20 = 1048576\n```\n\n### Pyramide\n\nReprenez l'exercice du chapitre 5 *Boucles et comparaisons* qui dessine une pyramide.\n\nDans un script `pyra.py`, créez une fonction `gen_pyramide()` à laquelle vous passez un nombre entier `N` et qui renvoie une pyramide de $N$ lignes sous forme de chaîne de caractères. Le programme principal demandera à l'utilisateur le nombre de lignes souhaitées (utilisez pour cela la fonction `input()`) et affichera la pyramide à l'écran.\n\n\n### Nombres premiers\n\nReprenez l'exercice du chapitre 6 *Tests* sur les nombres premiers.",
          "### Nombres premiers\n\nReprenez l'exercice du chapitre 6 *Tests* sur les nombres premiers.\n\nCréez une fonction `est_premier()` qui prend comme argument un nombre entier positif *n* (supérieur à 2) et qui renvoie le booléen `True` si *n* est premier et `False` si *n* n'est pas premier. Déterminez tous les nombres premiers de 2 à 100. On souhaite avoir une sortie similaire à celle-ci :\n\n```text\n  2 est premier\n  3 est premier\n  4 n'est pas premier\n[...]\n100 n'est pas premier\n```\n\n\n### Séquence complémentaire\n\nCréez une fonction `seq_comp()` qui prend comme argument une liste de bases et qui renvoie la séquence complémentaire d'une séquence d'ADN sous forme de liste.\n\nDans le programme principal, à partir de la séquence d'ADN \n`seq = [\"A\", \"T\", \"C\", \"G\", \"A\", \"T\", \"C\", \"G\", \"A\", \"T\", \"C\"]` \naffichez `seq` et sa séquence complémentaire (en utilisant votre fonction `seq_comp()`).\n\nRappel : la séquence complémentaire s'obtient en remplaçant A par T, T par A, C par G et G par C.",
          "Rappel : la séquence complémentaire s'obtient en remplaçant A par T, T par A, C par G et G par C.\n\n\n### Distance 3D\n\nCréez une fonction `calc_distance_3D()` qui calcule la distance euclidienne en trois dimensions entre deux atomes. Testez votre fonction sur les 2 points `A(0,0,0)` et `B(1,1,1)`. Trouvez-vous bien $\\sqrt{3}$ ?\n\nOn rappelle que la distance euclidienne *d* entre deux points A et B de coordonnées cartésiennes respectives $(x_A, y_A, z_A)$ et $(x_B, y_B, z_B)$ se calcule comme suit :\n\n$$\nd = \\sqrt{(x_B - x_A)^2 + (y_B - y_A)^2 + (z_B - z_A)^2}\n$$\n\n\n### Distribution et statistiques\n\nCréez une fonction `gen_distrib()` qui prend comme argument trois entiers : *debut*, *fin* et *n*. La fonction renverra une liste de $n$ *floats* aléatoires entre *debut* et *fin*. Pour générer un nombre aléatoire dans un intervalle donné, utilisez la fonction `uniform()` du module *random* dont voici quelques exemple d'utilisation :",
          "```python\n>>> import random\n>>> random.uniform(1, 10)\n8.199672607202174\n>>> random.uniform(1, 10)\n2.607528561528022\n>>> random.uniform(1, 10)\n9.000404025130946\n```\n\nAvec la fonction `random.uniform()`, les bornes passées en argument sont incluses, c'est-à-dire qu'ici, le nombre aléatoire renvoyé est dans l'intervalle [1, 10].\n\nCréez une autre fonction `calc_stat()` qui prend en argument une liste de *floats* et qui renvoie une liste de trois éléments contenant respectivement le minimum, le maximum et la moyenne de la liste.\n\nDans le programme principal, générez 20 listes aléatoires de 100 *floats* compris entre 0 et 100 et affichez le minimum (`min()`), le maximum (`max()`) et la moyenne pour chacune d'entre elles. La moyenne pourra être calculée avec les fonctions `sum()` et `len()`.",
          "Pour chacune des 20 listes, affichez les statistiques (min, max, et moyenne) avec deux chiffres après la virgule :\n```text\nListe  1 : min = 0.17 ; max = 99.72 ; moyenne = 57.38\nListe  2 : min = 1.25 ; max = 99.99 ; moyenne = 47.41\n[...]\nListe 19 : min = 1.05 ; max = 99.36 ; moyenne = 49.43\nListe 20 : min = 1.33 ; max = 97.63 ; moyenne = 46.53\n\n```\n\nLes écarts sur les statistiques entre les différentes listes sont-ils importants ? Relancez votre script avec des listes de 1000 éléments, puis 10 000 éléments. Les écarts changent-ils quand le nombre d'éléments par liste augmente ?\n\n\n### Distance à l'origine (exercice +++)\n\nEn reprenant votre fonction de calcul de distance euclidienne en 3D `calc_distance_3D()`, faites-en une version pour deux dimensions que vous appellerez `calc_distance_2D()`.",
          "En reprenant votre fonction de calcul de distance euclidienne en 3D `calc_distance_3D()`, faites-en une version pour deux dimensions que vous appellerez `calc_distance_2D()`.\n\nCréez une autre fonction `calc_dist2ori()` à laquelle vous passez en argument deux listes de *floats* `list_x` et `list_y` représentant les coordonnées d'une fonction mathématique (par exemple $x$ et $sin(x)$). Cette fonction renverra une liste de *floats* représentant la distance entre chaque point de la fonction et l'origine (de coordonnées $(0,0)$).\n\nLa figure @fig:sin2ori montre un exemple sur quelques points de la fonction $sin(x)$ (courbe en trait épais). Chaque trait pointillé représente la distance que l'on cherche à calculer entre les points de la courbe et l'origine du repère de coordonnées (0, 0).\n\n![Illustration de la distance à l'origine.](img/sin2ori.png){ #fig:sin2ori width=60% }",
          "![Illustration de la distance à l'origine.](img/sin2ori.png){ #fig:sin2ori width=60% }\n\nVotre programme générera un fichier `sin2ori.dat` qui contiendra deux colonnes : la première représente les $x$, la seconde la distance entre chaque point de la fonction $sin(x)$ à l'origine.\n\nEnfin, pour visualiser votre résultat, ajoutez le code suivant tout à la fin de votre script :\n\n```python\n# création d'une image pour la visualisation du résultat\nimport matplotlib.pyplot as plt\n\nx = []\ny = []\nwith open(\"sin2ori.dat\", \"r\") as f_in:\n    for line in f_in:\n        coords = line.split()\n        x.append(float(coords[0]))\n        y.append(float(coords[1]))\nplt.figure(figsize=(8,8))\nplt.plot(x, y)\nplt.xlabel(\"x\")\nplt.ylabel(\"Distance de sin(x)à l'origine\")\nplt.savefig(\"sin2ori.png\")\n```\n\nOuvrez l'image `sin2ori.png`.\n\nopen-box-rem\n\nLe module *matplotlib* sera expliqué en détail dans le chapitre 17 *Quelques modules d'intérêt en bioinformatique*.\n\nclose-box-rem"
         ],
         "marker": {
          "color": 1,
          "colorscale": [
           [
            0,
            "#440154"
           ],
           [
            0.1111111111111111,
            "#482878"
           ],
           [
            0.2222222222222222,
            "#3e4989"
           ],
           [
            0.3333333333333333,
            "#31688e"
           ],
           [
            0.4444444444444444,
            "#26828e"
           ],
           [
            0.5555555555555556,
            "#1f9e89"
           ],
           [
            0.6666666666666666,
            "#35b779"
           ],
           [
            0.7777777777777778,
            "#6ece58"
           ],
           [
            0.8888888888888888,
            "#b5de2b"
           ],
           [
            1,
            "#fde725"
           ]
          ],
          "opacity": 0.8,
          "size": 8
         },
         "mode": "markers",
         "name": "Fonctions",
         "type": "scatter",
         "x": [
          -0.14739642707921308,
          -0.20846240024563936,
          -0.21569253041734784,
          -0.08114361419792816,
          -0.13526164459563206,
          -0.10425091663319012,
          -0.11969602817232262,
          -0.09544232515583748,
          -0.05542340641315607,
          -0.14506414321129496,
          -0.09514422172827706,
          -0.0628162235042397,
          -0.04796660481930922,
          -0.014863632406939959,
          -0.026180912631333018,
          -0.007331338848613879,
          -0.10936357819197332,
          -0.1530475050082885,
          -0.16466802072712736,
          -0.13361195420133637,
          -0.11659855481735706,
          -0.0760456079497705,
          -0.00728923441460053,
          0.06603676301159951,
          -0.09944624664738463,
          -0.04307771795228019,
          -0.1340174803775116,
          -0.11790552924232521,
          -0.1195108027987085,
          -0.10489140681086143,
          -0.19495309307208977,
          -0.2580109316365603,
          -0.15829878903279884
         ],
         "y": [
          -0.22491402143578976,
          -0.24171907271542004,
          -0.2520832064052619,
          -0.1438810713180627,
          -0.15381968740779736,
          -0.2030786891824417,
          -0.24527387523980615,
          -0.2766245806871308,
          -0.2569001393126343,
          -0.27507929163801215,
          -0.26505796467409154,
          -0.29401280125135215,
          -0.2891551544830743,
          -0.2775958993704842,
          -0.2332920637617769,
          -0.17322843680542788,
          -0.16775296744088503,
          -0.13836205022975734,
          -0.040849195022235794,
          -0.10076183805660201,
          -0.10673258637486187,
          -0.02130013867896839,
          -0.08251235724085623,
          -0.11402388433199857,
          -0.09907369794810934,
          -0.08230617701436373,
          -0.08957434865695918,
          -0.10841205823587813,
          -0.10448855980788636,
          -0.16975297284170668,
          -0.10616838620377003,
          -0.16017968564021604,
          0.043421334081142765
         ]
        },
        {
         "hoverinfo": "text",
         "hovertext": [
          "Les notebooks Jupyter sont des cahiers électroniques qui, dans le même document, peuvent rassembler du texte, des images, des formules mathématiques et du code informatique exécutable. Ils sont manipulables interactivement dans un navigateur web.\n\nInitialement développés pour les langages de programmation Julia, Python et R (d'où le nom Jupyter), les notebooks Jupyter supportent près de 40 langages différents.\n\nLa cellule est l'élément de base d'un notebook Jupyter. Elle peut contenir du texte formaté au format Markdown ou du code informatique qui pourra être exécuté.\n\nVoici un exemple de notebook Jupyter (figure @fig:jupyter-exemple) :\n\n![Exemple de notebook Jupyter. Les chiffres entourés désignent les différentes cellules.](img/jupyter-exemple.png \"Exemple de notebook Jupyter\"){ #fig:jupyter-exemple width=80% }\n\nCe notebook est constitué de cinq cellules : deux avec du texte en Markdown (la première et la dernière) et trois avec du code Python (notées avec `In [ ]`).",
          "Ce notebook est constitué de cinq cellules : deux avec du texte en Markdown (la première et la dernière) et trois avec du code Python (notées avec `In [ ]`).\n\n## Installation\n\nAvec la distribution Miniconda, les notebooks Jupyter s'installent avec la commande :\n\n```bash\n$ conda install -y jupyterlab\n```\n\nPour être exact, la commande précédente installe un peu plus que les notebooks Jupyter mais nous verrons cela par la suite.\n\n\n## Lancement de Jupyter et création d'un notebook\n\nPour lancer les notebooks Jupyter, utilisez la commande suivante depuis un *shell* :\n\n```bash\n$ jupyter-notebook\n```\n\nUne nouvelle page devrait s'ouvrir dans votre navigateur web  et ressembler à la figure @fig:jupyter-interface.\n\n![Interface de Jupyter.](img/jupyter-interface.png \"Interface de Jupyter\"){ #fig:jupyter-interface width=80% }\n\nCette interface liste les notebooks Jupyter existants (pour le moment aucun).",
          "![Interface de Jupyter.](img/jupyter-interface.png \"Interface de Jupyter\"){ #fig:jupyter-interface width=80% }\n\nCette interface liste les notebooks Jupyter existants (pour le moment aucun).\n\nPour créer un notebook, cliquez sur le bouton à droite *New* puis sélectionnez *Python 3*. Vous noterez au passage qu'il est également possible de créer un fichier texte, un répertoire ou bien encore de lancer un *shell* via un *Terminal* (voir figure @fig:jupyter-nouveau-notebook).\n\n![Création d'un nouveau notebook.](img/jupyter-nouveau-notebook.png \"Création d'un nouveau notebook\"){ #fig:jupyter-nouveau-notebook width=80% }\n\nLe notebook fraîchement créé ne contient qu'une cellule vide.\n\n![Nouveau notebook.](img/jupyter-nouveau-notebook-vide.png \"Nouveau notebook\"){ #fig:jupyter-nouveau-notebook-vide width=80% }",
          "Le notebook fraîchement créé ne contient qu'une cellule vide.\n\n![Nouveau notebook.](img/jupyter-nouveau-notebook-vide.png \"Nouveau notebook\"){ #fig:jupyter-nouveau-notebook-vide width=80% }\n\nLa première chose à faire est de donner un nom à votre notebook en cliquant sur *Untitled*, à droite du logo de Jupyter. Si le nom de votre notebook est *test* alors le fichier *test.ipynb* sera créé dans le répertoire depuis lequel vous avez lancé Jupyter.\n\nopen-box-rem\n\nL'extension *.ipynb* est l'extension de fichier des notebooks Jupyter.\n\nclose-box-rem\n\nVous pouvez entrer des instructions Python dans la première cellule. Par exemple :\n\n```python\na = 2\nb = 3\nprint(a+b)\n```\n\nPour exécuter le contenu de cette cellule, vous avez plusieurs possibilités :\n\n- Cliquer sur le menu *Cell*, puis *Run Cells*.\n- Cliquer sur le bouton *Run* (sous la barre de menu).\n- Presser simultanément les touches *Ctrl* + *Entrée*.",
          "- Cliquer sur le menu *Cell*, puis *Run Cells*.\n- Cliquer sur le bouton *Run* (sous la barre de menu).\n- Presser simultanément les touches *Ctrl* + *Entrée*.\n\nDans tous les cas, vous devriez obtenir quelque chose qui ressemble à l'image @fig:jupyter-cellule-1. La notation `In [1]` à gauche de la cellule indique qu'il s'agit de la première cellule exécutée.\n\n![Exécution d'une première cellule.](img/jupyter-cellule-1.png \"Exécution d'une première cellule.\"){ #fig:jupyter-cellule-1 width=80% }\n\nPour créer une nouvelle cellule, vous avez, ici encore, plusieurs possibilités :\n\n- Cliquer sur l’icône *+* sous la barre de menu.\n- Cliquer sur le menu *Insert*, puis *Insert Cell Below*.\n\nUne nouvelle cellule vide devrait apparaître.",
          "- Cliquer sur l’icône *+* sous la barre de menu.\n- Cliquer sur le menu *Insert*, puis *Insert Cell Below*.\n\nUne nouvelle cellule vide devrait apparaître.\n\nVous pouvez également créer une nouvelle cellule en positionnant votre curseur dans la première cellule, puis en pressant simultanément les touches *Alt* + *Entrée*. Si vous utilisez cette combinaison de touches, vous remarquerez que le numéro à gauche de la première cellule est passée de `In [1]` à `In [2]` car vous avez exécuté la première cellule *puis* créé une nouvelle cellule.\n\nVous pouvez ainsi créer plusieurs cellules les unes à la suite des autres. Un objet créé dans une cellule antérieure sera disponible dans les cellules suivantes. Par exemple, dans la figure @fig:jupyter-cellule-4, nous avons quatre cellules. Vous remarquerez que pour les cellules 3 et 4, le résultat renvoyé par le code Python est précédé par `Out [3]` et `Out [4]`.",
          "![Notebook avec plusieurs cellules de code Python.](img/jupyter-cellule-4.png \"Notebook avec plusieurs cellules de code Python\"){ #fig:jupyter-cellule-4 width=80% }\n\nDans un notebook Jupyter, il est parfaitement possible de réexécuter une cellule précédente. Par exemple la première cellule, qui porte désormais à sa gauche la numérotation `In [5]` (voir figure @fig:jupyter-cellule-4-mauvais-ordre).\n\n![Notebook avec une cellule ré-exécutée.](img/jupyter-cellule-4-mauvais-ordre.png \"Notebook avec une cellule ré-executée.\"){ #fig:jupyter-cellule-4-mauvais-ordre width=80% }\n\nopen-box-warn\n\nLa possibilité d'exécuter les cellules d'un notebook Jupyter dans un ordre arbitraire peut prêter à confusion, notamment si vous modifiez la même variable d'une cellule à l'autre.",
          "open-box-warn\n\nLa possibilité d'exécuter les cellules d'un notebook Jupyter dans un ordre arbitraire peut prêter à confusion, notamment si vous modifiez la même variable d'une cellule à l'autre.\n\nNous vous recommandons de régulièrement relancer complètement l'exécution de toutes les cellules de votre notebook, de la première à la dernière, en cliquant sur le menu *Kernel* puis *Restart & Run All* et enfin de valider le message *Restart and Run All Cells*.\n\nclose-box-warn\n\n\n## Le format Markdown\n\nDans le tout premier exemple (figure @fig:jupyter-exemple), nous avons vu qu'il était possible de mettre du texte au format Markdown dans une cellule.\n\nIl faut cependant indiquer à Jupyter que cette cellule est au format Markdown en cliquant sur *Code* sous la barre de menu puis en choisissant *Markdown*.",
          "Il faut cependant indiquer à Jupyter que cette cellule est au format Markdown en cliquant sur *Code* sous la barre de menu puis en choisissant *Markdown*.\n\nLe format Markdown permet de rédiger du texte formaté (gras, italique, liens, titres, images, formules mathématiques...) avec quelques balises très simples. Voici un exemple dans une notebook Jupyter (figure @fig:jupyter-markdown-1) et le rendu lorsque la cellule est exécutée (figure @fig:jupyter-markdown-2).\n\n![Notebook avec une cellule au format Markdown.](img/jupyter-markdown-1.png \"Notebook avec une cellule au format Markdown.\"){ #fig:jupyter-markdown-1 width=80% }\n\n![Notebook avec une cellule au format Markdown (après exécution).](img/jupyter-markdown-2.png \"Notebook avec une cellule au format Markdown (après exécution).\"){ #fig:jupyter-markdown-2 width=80% }\n\nNotez qu'une cellule Markdown n'a pas le marqueur `In [ ]` à sa gauche.",
          "Notez qu'une cellule Markdown n'a pas le marqueur `In [ ]` à sa gauche.\n\nLe format Markdown permet de rapidement et très simplement rédiger du texte structuré. Ce cours est par exemple complètement rédigé en Markdown ;-)\n\nNous vous conseillons d'explorer les possibilités du Markdown en consultant la page [Wikipédia](https://fr.wikipedia.org/wiki/Markdown) ou directement la [page de référence](https://daringfireball.net/projects/markdown/syntax).\n\n\n## Des graphiques dans les notebooks\n\nUn autre intérêt des notebooks Jupyter est de pouvoir y incorporer des graphiques réalisés avec la bibliothèque *matplotlib*.\n\nVoici un exemple en reprenant un graphique présenté dans le chapitre 17 *Quelques modules d'intérêt en bioinformatique* (figure @fig:jupyter-matplotlib).\n\n![Incorporation d'un graphique dans un notebook Jupyter.](img/jupyter-matplotlib.png \"Incorporation d'un graphique dans un notebook Jupyter.\"){ #fig:jupyter-matplotlib width=80% }",
          "![Incorporation d'un graphique dans un notebook Jupyter.](img/jupyter-matplotlib.png \"Incorporation d'un graphique dans un notebook Jupyter.\"){ #fig:jupyter-matplotlib width=80% }\n\nLa différence notable est l'utilisation de la commande :  \n`%matplotlib inline`  \nqui n'est à lancer qu'une seule fois (en général dans la première cellule du notebook) et qui permet l'incorporation de figures dans un notebook Jupyter.\n\nopen-box-rem\n\nPour quitter l'interface des notebooks Jupyter, il faut, dans le premier onglet qui est apparu, cliquer sur le bouton *Quit* (figure @fig:jupyter-interface).\n\nUne méthode plus radicale est de revenir sur le *shell* depuis lequel les notebooks Jupyter ont été lancés puis de presser deux fois la combinaison de touches *Ctrl* + *C*.\n\nclose-box-rem\n\n\n## Les *magic commands*\n\nLa commande précédente (`%matplotlib inline`) est une *magic command*. Il en existe beaucoup, en voici deux :",
          "close-box-rem\n\n\n## Les *magic commands*\n\nLa commande précédente (`%matplotlib inline`) est une *magic command*. Il en existe beaucoup, en voici deux :\n\n- `%whos` liste tous les objets (variables, fonctions, modules...) utilisés dans le notebook (voir figure @fig:jupyter-whos).\n- `%history` liste toutes les commandes Python lancées dans un notebook (voir figure @fig:jupyter-history).\n\n![*Magic command* `%whos`.](img/jupyter-whos.png){ #fig:jupyter-whos width=80% }\n\n![*Magic command* `%history`.](img/jupyter-history.png){ #fig:jupyter-history width=80% }\n\nEnfin, avec les environnements Linux ou Mac OS X, il est possible de lancer une commande Unix depuis un notebook Jupyter. Il faut pour cela précéder la commande du symbole « `!` ». La figure @fig:jupyter-ls illustre cette possibilité avec la commande `ls` qui affiche le contenu d'un répertoire.\n\n![Lancement d'une commande Unix.](img/jupyter-ls.png){ #fig:jupyter-ls width=80% }\n\nopen-box-rem",
          "![Lancement d'une commande Unix.](img/jupyter-ls.png){ #fig:jupyter-ls width=80% }\n\nopen-box-rem\n\nLe lancement de n'importe quelle commande Unix depuis un notebook Jupyter (en précédant cette commande de `!`) est une fonctionnalité très puissante.\n\nPour vous en rendre compte, jetez un œil au [notebook](https://github.com/MaayanLab/Zika-RNAseq-Pipeline/blob/master/Zika.ipynb) produit par les chercheurs Zichen Wang et Avi Ma'ayan qui reproduit l'analyse complète de données obtenues par séquençage haut débit. Ces analyses ont donné lieu à la publication de l'article scientifique « [*An open RNA-Seq data analysis pipeline tutorial with an example of reprocessing data from a recent Zika virus study*](https://f1000research.com/articles/5-1574/) » (F1000 Research, 2016).\n\nclose-box-rem\n\n\n## JupyterLab\n\nEn 2018, le consortium Jupyter a lancé *JupyterLab* qui est un environnement complet d'analyse.\nPour obtenir cette interface, lancez la commande suivante depuis un *shell* :",
          "## JupyterLab\n\nEn 2018, le consortium Jupyter a lancé *JupyterLab* qui est un environnement complet d'analyse.\nPour obtenir cette interface, lancez la commande suivante depuis un *shell* :\n\n```bash\n$ jupyter lab\n```\n\nUne nouvelle page devrait s'ouvrir dans votre navigateur web et vous devriez\nobtenir une interface similaire à la figure @fig:jupyterlab-1.\n\n![Interface de JupyterLab.](img/jupyterlab-1.png \"Interface de JupyterLab.\"){ #fig:jupyterlab-1 width=95% }\n\nL'interface proposée par JupyterLab est très riche. On peut y organiser un notebook Jupyter « classique » avec une figure en encart, un *shell* (voir figure @fig:jupyterlab-2)... Les possibilités sont infinies !\n\n![JupyterLab comme environnement d'analyse.](img/jupyterlab-2.png \"JupyterLab comme environnement d'analyse.\"){ #fig:jupyterlab-2 width=95% }\n\nopen-box-more\n\nLes *notebooks* Jupyter sont particulièrement adaptés à l'analyse de données en combinaison avec les modules *matplotlib* et *pandas*.\n\nclose-box-more"
         ],
         "marker": {
          "color": 2,
          "colorscale": [
           [
            0,
            "#440154"
           ],
           [
            0.1111111111111111,
            "#482878"
           ],
           [
            0.2222222222222222,
            "#3e4989"
           ],
           [
            0.3333333333333333,
            "#31688e"
           ],
           [
            0.4444444444444444,
            "#26828e"
           ],
           [
            0.5555555555555556,
            "#1f9e89"
           ],
           [
            0.6666666666666666,
            "#35b779"
           ],
           [
            0.7777777777777778,
            "#6ece58"
           ],
           [
            0.8888888888888888,
            "#b5de2b"
           ],
           [
            1,
            "#fde725"
           ]
          ],
          "opacity": 0.8,
          "size": 8
         },
         "mode": "markers",
         "name": "Jupyter et ses notebooks",
         "type": "scatter",
         "x": [
          -0.2988092211438102,
          -0.31636596744630363,
          -0.3308968962877051,
          -0.3250918805177674,
          -0.30081732355948,
          -0.2821338026924879,
          -0.24909529746653666,
          -0.23045960549564248,
          -0.1460304673806076,
          -0.18856743554819838,
          -0.21878602579520331,
          -0.21828958981565325,
          -0.2929383499589362,
          -0.2943992016872073
         ],
         "y": [
          0.5365092837855581,
          0.5114583691829307,
          0.5410499625998202,
          0.470125722572691,
          0.4467919089341423,
          0.3587604000153248,
          0.40657716709975544,
          0.5130272369035348,
          0.5338768218385521,
          0.48352877903582286,
          0.47358447421121386,
          0.35084631630480584,
          0.5048274329892541,
          0.5415575290215241
         ]
        },
        {
         "hoverinfo": "text",
         "hovertext": [
          "## Définition\n\nUne **liste** est une structure de données qui contient une série de valeurs. Python autorise la construction de liste contenant des valeurs de types différents (par exemple entier et chaîne de caractères), ce qui leur confère une grande flexibilité. Une liste est déclarée par une série de valeurs (n'oubliez pas les guillemets, simples ou doubles, s'il s'agit de chaînes de caractères) séparées par des **virgules**, et le tout encadré par des **crochets**. En voici quelques exemples :\n\n```python\n>>> animaux = [\"girafe\", \"tigre\", \"singe\", \"souris\"]\n>>> tailles = [5, 2.5, 1.75, 0.15]\n>>> mixte = [\"girafe\", 5, \"souris\", 0.15]\n>>> animaux\n['girafe', 'tigre', 'singe', 'souris']\n>>> tailles\n[5, 2.5, 1.75, 0.15]\n>>> mixte\n['girafe', 5, 'souris', 0.15]\n```\n\nLorsque l'on affiche une liste, Python la restitue telle qu'elle a été saisie.\n\n\n## Utilisation",
          "Lorsque l'on affiche une liste, Python la restitue telle qu'elle a été saisie.\n\n\n## Utilisation\n\nUn des gros avantages d'une liste est que vous pouvez appeler ses éléments par leur position. Ce numéro est appelé **indice** (ou *index*) de la liste.\n\n```text\nliste  : [\"girafe\", \"tigre\", \"singe\", \"souris\"]\nindice :        0        1        2         3\n```\n\nSoyez très **attentif** au fait que les indices d'une liste de *n* éléments commencent à *0* et se terminent à *n-1*. Voyez l'exemple suivant :\n\n```python\n>>> animaux = [\"girafe\", \"tigre\", \"singe\", \"souris\"]\n>>> animaux[0]\n'girafe'\n>>> animaux[1]\n'tigre'\n>>> animaux[3]\n'souris'\n```\n\nPar conséquent, si on appelle l'élément d'indice 4 de notre liste, Python renverra un message d'erreur :\n\n```python\n>>> animaux[4]\nTraceback (innermost last):\n  File \"<stdin>\", line 1, in ?\nIndexError: list index out of range\n```\n\nN'oubliez pas ceci ou vous risquez d'obtenir des bugs inattendus !\n\n\n## Opération sur les listes",
          "N'oubliez pas ceci ou vous risquez d'obtenir des bugs inattendus !\n\n\n## Opération sur les listes\n\nTout comme les chaînes de caractères, les listes supportent l'opérateur `+` de concaténation, ainsi que l'opérateur `*` pour la duplication :\n\n```python\n>>> ani1 = [\"girafe\", \"tigre\"]\n>>> ani2 = [\"singe\", \"souris\"]\n>>> ani1 + ani2\n['girafe', 'tigre', 'singe', 'souris']\n>>> ani1 * 3\n['girafe', 'tigre', 'girafe', 'tigre', 'girafe', 'tigre']\n```\n\nL'opérateur `+` est très pratique pour concaténer deux listes.\n\nVous pouvez aussi utiliser la méthode `.append()` lorsque vous souhaitez ajouter un seul élément à la fin d'une liste.\n\nDans l'exemple suivant nous allons créer une liste vide :\n\n```python\n>>> a = []\n>>> a\n[]\n```\n\npuis lui ajouter deux éléments, l'un après l'autre, d'abord avec la concaténation :\n\n```python\n>>> a = a + [15]\n>>> a\n[15]\n>>> a = a + [-5]\n>>> a\n[15, -5]\n```\n\npuis avec la méthode `.append()` :",
          "puis lui ajouter deux éléments, l'un après l'autre, d'abord avec la concaténation :\n\n```python\n>>> a = a + [15]\n>>> a\n[15]\n>>> a = a + [-5]\n>>> a\n[15, -5]\n```\n\npuis avec la méthode `.append()` :\n\n```python\n>>> a.append(13)\n>>> a\n[15, -5, 13]\n>>> a.append(-3)\n>>> a\n[15, -5, 13, -3]\n```\n\nDans l'exemple ci-dessus, nous ajoutons des éléments à une liste en utilisant l'opérateur de concaténation `+` ou la méthode `.append()`. Nous vous conseillons dans ce cas précis d'utiliser la méthode `.append()` dont la syntaxe est plus élégante.\n\nNous reverrons en détail la méthode `.append()` dans le chapitre 11 *Plus sur les listes*.\n\n\n## Indiçage négatif\n\nLa liste peut également être indexée avec des nombres négatifs selon le modèle suivant :\n\n```text\nliste          : [\"girafe\", \"tigre\", \"singe\", \"souris\"]\nindice positif :        0        1        2         3\nindice négatif :       -4       -3       -2        -1\n```\n\nou encore :",
          "```text\nliste          : [\"girafe\", \"tigre\", \"singe\", \"souris\"]\nindice positif :        0        1        2         3\nindice négatif :       -4       -3       -2        -1\n```\n\nou encore :\n\n```text\nliste          : [\"A\", \"B\", \"C\", \"D\", \"E\", \"F\"]\nindice positif :   0    1    2    3    4    5\nindice négatif :  -6   -5   -4   -3   -2   -1\n```\n\nLes indices négatifs reviennent à compter à partir de la fin. Leur principal avantage est que vous pouvez accéder au dernier élément d'une liste à l'aide de l'indice `-1` sans pour autant connaître la longueur de cette liste. L'avant-dernier élément a lui l'indice `-2`, l'avant-avant dernier l'indice `-3`, etc.\n\n```python\n>>> animaux = [\"girafe\", \"tigre\", \"singe\", \"souris\"]\n>>> animaux[-1]\n'souris'\n>>> animaux[-2]\n'singe'\n```\n\nPour accéder au premier élément de la liste avec un indice négatif, il faut par contre connaître le bon indice :\n\n```python\n>>> animaux[-4]\n'girafe'\n```\n\nDans ce cas, on utilise plutôt `animaux[0]`.\n\n\n## Tranches",
          "```python\n>>> animaux[-4]\n'girafe'\n```\n\nDans ce cas, on utilise plutôt `animaux[0]`.\n\n\n## Tranches\n\nUn autre avantage des listes est la possibilité de sélectionner une partie d'une liste en utilisant un indiçage construit sur le modèle `[m:n+1]` pour récupérer tous les éléments, du émième au énième (de l'élément `m` inclus à l'élément `n+1` exclu). On dit alors qu'on récupère une **tranche** de la liste, par exemple :\n\n```python\n>>> animaux = [\"girafe\", \"tigre\", \"singe\", \"souris\"]\n>>> animaux[0:2]\n['girafe', 'tigre']\n>>> animaux[0:3]\n['girafe', 'tigre', 'singe']\n>>> animaux[0:]\n['girafe', 'tigre', 'singe', 'souris']\n>>> animaux[:]\n['girafe', 'tigre', 'singe', 'souris']\n>>> animaux[1:]\n['tigre', 'singe', 'souris']\n>>> animaux[1:-1]\n['tigre', 'singe']\n```\n\nNotez que lorsqu'aucun indice n'est indiqué à gauche ou à droite du symbole deux-points, Python prend par défaut tous les éléments depuis le début ou tous les éléments jusqu'à la fin respectivement.",
          "Notez que lorsqu'aucun indice n'est indiqué à gauche ou à droite du symbole deux-points, Python prend par défaut tous les éléments depuis le début ou tous les éléments jusqu'à la fin respectivement.\n\nOn peut aussi préciser le pas en ajoutant un symbole deux-points supplémentaire et en indiquant le pas par un entier.\n\n```python\n>>> animaux = [\"girafe\", \"tigre\", \"singe\", \"souris\"]\n>>> animaux[0:3:2]\n['girafe', 'singe']\n>>> x = [0, 1, 2, 3, 4, 5, 6, 7, 8, 9]\n>>> x\n[0, 1, 2, 3, 4, 5, 6, 7, 8, 9]\n>>> x[::1]\n[0, 1, 2, 3, 4, 5, 6, 7, 8, 9]\n>>> x[::2]\n[0, 2, 4, 6, 8]\n>>> x[::3]\n[0, 3, 6, 9]\n>>> x[1:6:3]\n[1, 4]\n```\n\nFinalement, on se rend compte que l'accès au contenu d'une liste fonctionne sur le modèle `liste[début:fin:pas]`.\n\n\n## Fonction `len()`\n\nL'instruction `len()` vous permet de connaître la longueur d'une liste, c'est-à-dire le nombre d'éléments que contient la liste. Voici un exemple d'utilisation :",
          "## Fonction `len()`\n\nL'instruction `len()` vous permet de connaître la longueur d'une liste, c'est-à-dire le nombre d'éléments que contient la liste. Voici un exemple d'utilisation :\n\n```python\n>>> animaux = [\"girafe\", \"tigre\", \"singe\", \"souris\"]\n>>> len(animaux)\n4\n>>> len([1, 2, 3, 4, 5, 6, 7, 8])\n8\n```\n\n\n## Les fonctions `range()` et `list()`\n\nL'instruction `range()` est une fonction spéciale en Python qui  génère des nombres entiers compris dans un intervalle. Lorsqu'elle est utilisée en combinaison avec la fonction `list()`, on obtient une liste d'entiers. Par exemple :\n\n```python\n>>> list(range(10))\n[0, 1, 2, 3, 4, 5, 6, 7, 8, 9]\n```\n\nLa commande `list(range(10))` a généré une liste contenant tous les nombres entiers de 0 inclus à 10 **exclu**. Nous verrons l'utilisation de la fonction `range()` toute seule dans le chapitre 5 *Boucles et comparaisons*.",
          "Dans l'exemple ci-dessus, la fonction `range()` a pris un argument, mais elle peut également prendre deux ou trois arguments, voyez plutôt :\n\n```python\n>>> list(range(0, 5))\n[0, 1, 2, 3, 4]\n>>> list(range(15, 20))\n[15, 16, 17, 18, 19]\n>>> list(range(0, 1000, 200))\n[0, 200, 400, 600, 800]\n>>> list(range(2, -2, -1))\n[2, 1, 0, -1]\n```\n\nL'instruction `range()` fonctionne sur le modèle `range([début,] fin[, pas])`. Les arguments entre crochets sont optionnels. Pour obtenir une liste de nombres entiers, il faut l'utiliser systématiquement avec la fonction `list()`.\n\nEnfin, prenez garde aux arguments optionnels par défaut (`0` pour `début` et `1` pour `pas`) :\n\n```python\n>>> list(range(10,0))\n[]\n```",
          "Enfin, prenez garde aux arguments optionnels par défaut (`0` pour `début` et `1` pour `pas`) :\n\n```python\n>>> list(range(10,0))\n[]\n```\n\nIci la liste est vide car Python a pris la valeur du pas par défaut qui est de 1. Ainsi, si on commence à 10 et qu'on avance par pas de 1, on ne pourra jamais atteindre 0. Python génère ainsi une liste vide. Pour éviter ça, il faudrait, par exemple, préciser un pas de -1 pour obtenir une liste d'entiers décroissants :\n\n```python\n>>> list(range(10,0,-1))\n[10, 9, 8, 7, 6, 5, 4, 3, 2, 1]\n```\n\n## Listes de listes\n\nPour finir, sachez qu'il est tout à fait possible de construire des listes de listes. Cette fonctionnalité peut parfois être très pratique. Par exemple :\n\n```python\n>>> enclos1 = [\"girafe\", 4]\n>>> enclos2 = [\"tigre\", 2]\n>>> enclos3 = [\"singe\", 5]\n>>> zoo = [enclos1, enclos2, enclos3]\n>>> zoo\n[['girafe', 4], ['tigre', 2], ['singe', 5]]\n```",
          "```python\n>>> enclos1 = [\"girafe\", 4]\n>>> enclos2 = [\"tigre\", 2]\n>>> enclos3 = [\"singe\", 5]\n>>> zoo = [enclos1, enclos2, enclos3]\n>>> zoo\n[['girafe', 4], ['tigre', 2], ['singe', 5]]\n```\n\nDans cet exemple, chaque sous-liste contient une catégorie d'animal et le nombre d'animaux pour chaque catégorie.\n\nPour accéder à un élément de la liste, on utilise l'indiçage habituel :\n\n```python\n>>> zoo[1]\n['tigre', 2]\n```\n\nPour accéder à un élément de la sous-liste, on utilise un double indiçage :\n\n```python\n>>> zoo[1][0]\n'tigre'\n>>> zoo[1][1]\n2\n```\n\nOn verra un peu plus loin qu'il existe en Python des dictionnaires qui sont également très pratiques pour stocker de l'information structurée. On verra aussi qu'il existe un module nommé *NumPy* qui permet de créer des listes ou des tableaux de nombres (vecteurs et matrices) et de les manipuler.\n\n## Minimum, maximum et somme d'une liste",
          "## Minimum, maximum et somme d'une liste\n\nLes fonctions `min()`, `max()` et `sum()` renvoient respectivement le minimum, le maximum et la somme d'une liste passée en argument.\n\n```python\n>>> liste = list(range(10))\n>>> liste\n[0, 1, 2, 3, 4, 5, 6, 7, 8, 9]\n>>> sum(liste)\n45\n>>> min(liste)\n0\n>>> max(liste)\n9\n```\n\nMême si en théorie ces fonctions peuvent prendre en argument une liste de *strings*, on les utilisera la plupart du temps avec des types numériques (liste d'entiers et / ou de *floats*). \n\nNous avions déjà croisé `min()`, `max()` dans le chapitre 2 *Variables*. On avait vu que ces deux fonctions pouvaient prendre plusieurs arguments entiers et / ou *floats*, par exemple :\n\n```python\n>>> min(3, 4)\n3\n```\n\nAttention toutefois à ne pas mélanger entiers et *floats* d'une part avec une liste d'autre part, car cela renvoie une erreur :",
          "```python\n>>> min(3, 4)\n3\n```\n\nAttention toutefois à ne pas mélanger entiers et *floats* d'une part avec une liste d'autre part, car cela renvoie une erreur :\n\n```python\n>>> min(liste, 3, 4)\nTraceback (most recent call last):\n  File \"<stdin>\", line 1, in <module>\nTypeError: '<' not supported between instances of 'int' and 'list'\n```\n\nSoit on passe plusieurs entiers et / ou *floats* en argument, soit on passe une liste unique.\n\n## Exercices\n\n*Conseil* : utilisez l'interpréteur Python.\n\n\n### Jours de la semaine\n\nConstituez une liste `semaine` contenant les 7 jours de la semaine.\n\n1. À partir de cette liste, comment récupérez-vous seulement les 5 premiers jours de la semaine d'une part, et ceux du week-end d'autre part ? Utilisez pour cela l'indiçage.\n2. Cherchez un autre moyen pour arriver au même résultat (*en utilisant un autre indiçage*).\n3. Trouvez deux manières pour accéder au dernier jour de la semaine.\n4. Inversez les jours de la semaine en une commande.\n\n\n### Saisons",
          "### Saisons\n\nCréez 4 listes `hiver`, `printemps`, `ete` et `automne` contenant les mois correspondants à ces saisons. Créez ensuite une liste `saisons` contenant les listes `hiver`, `printemps`, `ete` et `automne`. Prévoyez ce que renvoient les instructions suivantes, puis vérifiez-le dans l'interpréteur :\n\n1. `saisons[2]`\n2. `saisons[1][0]`\n3. `saisons[1:2]`\n4. `saisons[:][1]`. Comment expliquez-vous ce dernier résultat ?\n\n\n### Table de multiplication par 9\n\nAffichez la table de multiplication par 9 en une seule commande avec les instructions `range()` et `list()`.\n\n\n### Nombres pairs\n\nRépondez à la question suivante en une seule commande. Combien y a-t-il de nombres pairs dans l'intervalle `[2, 10000]` inclus ?"
         ],
         "marker": {
          "color": 3,
          "colorscale": [
           [
            0,
            "#440154"
           ],
           [
            0.1111111111111111,
            "#482878"
           ],
           [
            0.2222222222222222,
            "#3e4989"
           ],
           [
            0.3333333333333333,
            "#31688e"
           ],
           [
            0.4444444444444444,
            "#26828e"
           ],
           [
            0.5555555555555556,
            "#1f9e89"
           ],
           [
            0.6666666666666666,
            "#35b779"
           ],
           [
            0.7777777777777778,
            "#6ece58"
           ],
           [
            0.8888888888888888,
            "#b5de2b"
           ],
           [
            1,
            "#fde725"
           ]
          ],
          "opacity": 0.8,
          "size": 8
         },
         "mode": "markers",
         "name": "Listes",
         "type": "scatter",
         "x": [
          -0.23891034821303941,
          -0.2480915062048939,
          -0.17826287942420485,
          -0.21372403359418185,
          -0.2589533264979965,
          -0.24006226417523263,
          -0.2260673549960422,
          -0.2567978596114692,
          -0.19925541024469628,
          -0.2893665228550668,
          -0.2746915110108575,
          -0.19965047223571816,
          -0.20485032097788175,
          -0.2290769360357403
         ],
         "y": [
          -0.16548738441547617,
          -0.15719614224775663,
          -0.13634779917633766,
          -0.1515467883895148,
          -0.14388600155743558,
          -0.17558969194279228,
          -0.1992156857789921,
          -0.19060109407451498,
          -0.2696569047208721,
          -0.20915772944032782,
          -0.17594314507587466,
          -0.28379024828460353,
          -0.21529441493150842,
          -0.11769627835284423
         ]
        }
       ],
       "layout": {
        "autosize": false,
        "height": 500,
        "margin": {
         "b": 100,
         "l": 50,
         "pad": 10,
         "r": 50,
         "t": 100
        },
        "template": {
         "data": {
          "bar": [
           {
            "error_x": {
             "color": "#2a3f5f"
            },
            "error_y": {
             "color": "#2a3f5f"
            },
            "marker": {
             "line": {
              "color": "#E5ECF6",
              "width": 0.5
             },
             "pattern": {
              "fillmode": "overlay",
              "size": 10,
              "solidity": 0.2
             }
            },
            "type": "bar"
           }
          ],
          "barpolar": [
           {
            "marker": {
             "line": {
              "color": "#E5ECF6",
              "width": 0.5
             },
             "pattern": {
              "fillmode": "overlay",
              "size": 10,
              "solidity": 0.2
             }
            },
            "type": "barpolar"
           }
          ],
          "carpet": [
           {
            "aaxis": {
             "endlinecolor": "#2a3f5f",
             "gridcolor": "white",
             "linecolor": "white",
             "minorgridcolor": "white",
             "startlinecolor": "#2a3f5f"
            },
            "baxis": {
             "endlinecolor": "#2a3f5f",
             "gridcolor": "white",
             "linecolor": "white",
             "minorgridcolor": "white",
             "startlinecolor": "#2a3f5f"
            },
            "type": "carpet"
           }
          ],
          "choropleth": [
           {
            "colorbar": {
             "outlinewidth": 0,
             "ticks": ""
            },
            "type": "choropleth"
           }
          ],
          "contour": [
           {
            "colorbar": {
             "outlinewidth": 0,
             "ticks": ""
            },
            "colorscale": [
             [
              0,
              "#0d0887"
             ],
             [
              0.1111111111111111,
              "#46039f"
             ],
             [
              0.2222222222222222,
              "#7201a8"
             ],
             [
              0.3333333333333333,
              "#9c179e"
             ],
             [
              0.4444444444444444,
              "#bd3786"
             ],
             [
              0.5555555555555556,
              "#d8576b"
             ],
             [
              0.6666666666666666,
              "#ed7953"
             ],
             [
              0.7777777777777778,
              "#fb9f3a"
             ],
             [
              0.8888888888888888,
              "#fdca26"
             ],
             [
              1,
              "#f0f921"
             ]
            ],
            "type": "contour"
           }
          ],
          "contourcarpet": [
           {
            "colorbar": {
             "outlinewidth": 0,
             "ticks": ""
            },
            "type": "contourcarpet"
           }
          ],
          "heatmap": [
           {
            "colorbar": {
             "outlinewidth": 0,
             "ticks": ""
            },
            "colorscale": [
             [
              0,
              "#0d0887"
             ],
             [
              0.1111111111111111,
              "#46039f"
             ],
             [
              0.2222222222222222,
              "#7201a8"
             ],
             [
              0.3333333333333333,
              "#9c179e"
             ],
             [
              0.4444444444444444,
              "#bd3786"
             ],
             [
              0.5555555555555556,
              "#d8576b"
             ],
             [
              0.6666666666666666,
              "#ed7953"
             ],
             [
              0.7777777777777778,
              "#fb9f3a"
             ],
             [
              0.8888888888888888,
              "#fdca26"
             ],
             [
              1,
              "#f0f921"
             ]
            ],
            "type": "heatmap"
           }
          ],
          "heatmapgl": [
           {
            "colorbar": {
             "outlinewidth": 0,
             "ticks": ""
            },
            "colorscale": [
             [
              0,
              "#0d0887"
             ],
             [
              0.1111111111111111,
              "#46039f"
             ],
             [
              0.2222222222222222,
              "#7201a8"
             ],
             [
              0.3333333333333333,
              "#9c179e"
             ],
             [
              0.4444444444444444,
              "#bd3786"
             ],
             [
              0.5555555555555556,
              "#d8576b"
             ],
             [
              0.6666666666666666,
              "#ed7953"
             ],
             [
              0.7777777777777778,
              "#fb9f3a"
             ],
             [
              0.8888888888888888,
              "#fdca26"
             ],
             [
              1,
              "#f0f921"
             ]
            ],
            "type": "heatmapgl"
           }
          ],
          "histogram": [
           {
            "marker": {
             "pattern": {
              "fillmode": "overlay",
              "size": 10,
              "solidity": 0.2
             }
            },
            "type": "histogram"
           }
          ],
          "histogram2d": [
           {
            "colorbar": {
             "outlinewidth": 0,
             "ticks": ""
            },
            "colorscale": [
             [
              0,
              "#0d0887"
             ],
             [
              0.1111111111111111,
              "#46039f"
             ],
             [
              0.2222222222222222,
              "#7201a8"
             ],
             [
              0.3333333333333333,
              "#9c179e"
             ],
             [
              0.4444444444444444,
              "#bd3786"
             ],
             [
              0.5555555555555556,
              "#d8576b"
             ],
             [
              0.6666666666666666,
              "#ed7953"
             ],
             [
              0.7777777777777778,
              "#fb9f3a"
             ],
             [
              0.8888888888888888,
              "#fdca26"
             ],
             [
              1,
              "#f0f921"
             ]
            ],
            "type": "histogram2d"
           }
          ],
          "histogram2dcontour": [
           {
            "colorbar": {
             "outlinewidth": 0,
             "ticks": ""
            },
            "colorscale": [
             [
              0,
              "#0d0887"
             ],
             [
              0.1111111111111111,
              "#46039f"
             ],
             [
              0.2222222222222222,
              "#7201a8"
             ],
             [
              0.3333333333333333,
              "#9c179e"
             ],
             [
              0.4444444444444444,
              "#bd3786"
             ],
             [
              0.5555555555555556,
              "#d8576b"
             ],
             [
              0.6666666666666666,
              "#ed7953"
             ],
             [
              0.7777777777777778,
              "#fb9f3a"
             ],
             [
              0.8888888888888888,
              "#fdca26"
             ],
             [
              1,
              "#f0f921"
             ]
            ],
            "type": "histogram2dcontour"
           }
          ],
          "mesh3d": [
           {
            "colorbar": {
             "outlinewidth": 0,
             "ticks": ""
            },
            "type": "mesh3d"
           }
          ],
          "parcoords": [
           {
            "line": {
             "colorbar": {
              "outlinewidth": 0,
              "ticks": ""
             }
            },
            "type": "parcoords"
           }
          ],
          "pie": [
           {
            "automargin": true,
            "type": "pie"
           }
          ],
          "scatter": [
           {
            "fillpattern": {
             "fillmode": "overlay",
             "size": 10,
             "solidity": 0.2
            },
            "type": "scatter"
           }
          ],
          "scatter3d": [
           {
            "line": {
             "colorbar": {
              "outlinewidth": 0,
              "ticks": ""
             }
            },
            "marker": {
             "colorbar": {
              "outlinewidth": 0,
              "ticks": ""
             }
            },
            "type": "scatter3d"
           }
          ],
          "scattercarpet": [
           {
            "marker": {
             "colorbar": {
              "outlinewidth": 0,
              "ticks": ""
             }
            },
            "type": "scattercarpet"
           }
          ],
          "scattergeo": [
           {
            "marker": {
             "colorbar": {
              "outlinewidth": 0,
              "ticks": ""
             }
            },
            "type": "scattergeo"
           }
          ],
          "scattergl": [
           {
            "marker": {
             "colorbar": {
              "outlinewidth": 0,
              "ticks": ""
             }
            },
            "type": "scattergl"
           }
          ],
          "scattermapbox": [
           {
            "marker": {
             "colorbar": {
              "outlinewidth": 0,
              "ticks": ""
             }
            },
            "type": "scattermapbox"
           }
          ],
          "scatterpolar": [
           {
            "marker": {
             "colorbar": {
              "outlinewidth": 0,
              "ticks": ""
             }
            },
            "type": "scatterpolar"
           }
          ],
          "scatterpolargl": [
           {
            "marker": {
             "colorbar": {
              "outlinewidth": 0,
              "ticks": ""
             }
            },
            "type": "scatterpolargl"
           }
          ],
          "scatterternary": [
           {
            "marker": {
             "colorbar": {
              "outlinewidth": 0,
              "ticks": ""
             }
            },
            "type": "scatterternary"
           }
          ],
          "surface": [
           {
            "colorbar": {
             "outlinewidth": 0,
             "ticks": ""
            },
            "colorscale": [
             [
              0,
              "#0d0887"
             ],
             [
              0.1111111111111111,
              "#46039f"
             ],
             [
              0.2222222222222222,
              "#7201a8"
             ],
             [
              0.3333333333333333,
              "#9c179e"
             ],
             [
              0.4444444444444444,
              "#bd3786"
             ],
             [
              0.5555555555555556,
              "#d8576b"
             ],
             [
              0.6666666666666666,
              "#ed7953"
             ],
             [
              0.7777777777777778,
              "#fb9f3a"
             ],
             [
              0.8888888888888888,
              "#fdca26"
             ],
             [
              1,
              "#f0f921"
             ]
            ],
            "type": "surface"
           }
          ],
          "table": [
           {
            "cells": {
             "fill": {
              "color": "#EBF0F8"
             },
             "line": {
              "color": "white"
             }
            },
            "header": {
             "fill": {
              "color": "#C8D4E3"
             },
             "line": {
              "color": "white"
             }
            },
            "type": "table"
           }
          ]
         },
         "layout": {
          "annotationdefaults": {
           "arrowcolor": "#2a3f5f",
           "arrowhead": 0,
           "arrowwidth": 1
          },
          "autotypenumbers": "strict",
          "coloraxis": {
           "colorbar": {
            "outlinewidth": 0,
            "ticks": ""
           }
          },
          "colorscale": {
           "diverging": [
            [
             0,
             "#8e0152"
            ],
            [
             0.1,
             "#c51b7d"
            ],
            [
             0.2,
             "#de77ae"
            ],
            [
             0.3,
             "#f1b6da"
            ],
            [
             0.4,
             "#fde0ef"
            ],
            [
             0.5,
             "#f7f7f7"
            ],
            [
             0.6,
             "#e6f5d0"
            ],
            [
             0.7,
             "#b8e186"
            ],
            [
             0.8,
             "#7fbc41"
            ],
            [
             0.9,
             "#4d9221"
            ],
            [
             1,
             "#276419"
            ]
           ],
           "sequential": [
            [
             0,
             "#0d0887"
            ],
            [
             0.1111111111111111,
             "#46039f"
            ],
            [
             0.2222222222222222,
             "#7201a8"
            ],
            [
             0.3333333333333333,
             "#9c179e"
            ],
            [
             0.4444444444444444,
             "#bd3786"
            ],
            [
             0.5555555555555556,
             "#d8576b"
            ],
            [
             0.6666666666666666,
             "#ed7953"
            ],
            [
             0.7777777777777778,
             "#fb9f3a"
            ],
            [
             0.8888888888888888,
             "#fdca26"
            ],
            [
             1,
             "#f0f921"
            ]
           ],
           "sequentialminus": [
            [
             0,
             "#0d0887"
            ],
            [
             0.1111111111111111,
             "#46039f"
            ],
            [
             0.2222222222222222,
             "#7201a8"
            ],
            [
             0.3333333333333333,
             "#9c179e"
            ],
            [
             0.4444444444444444,
             "#bd3786"
            ],
            [
             0.5555555555555556,
             "#d8576b"
            ],
            [
             0.6666666666666666,
             "#ed7953"
            ],
            [
             0.7777777777777778,
             "#fb9f3a"
            ],
            [
             0.8888888888888888,
             "#fdca26"
            ],
            [
             1,
             "#f0f921"
            ]
           ]
          },
          "colorway": [
           "#636efa",
           "#EF553B",
           "#00cc96",
           "#ab63fa",
           "#FFA15A",
           "#19d3f3",
           "#FF6692",
           "#B6E880",
           "#FF97FF",
           "#FECB52"
          ],
          "font": {
           "color": "#2a3f5f"
          },
          "geo": {
           "bgcolor": "white",
           "lakecolor": "white",
           "landcolor": "#E5ECF6",
           "showlakes": true,
           "showland": true,
           "subunitcolor": "white"
          },
          "hoverlabel": {
           "align": "left"
          },
          "hovermode": "closest",
          "mapbox": {
           "style": "light"
          },
          "paper_bgcolor": "white",
          "plot_bgcolor": "#E5ECF6",
          "polar": {
           "angularaxis": {
            "gridcolor": "white",
            "linecolor": "white",
            "ticks": ""
           },
           "bgcolor": "#E5ECF6",
           "radialaxis": {
            "gridcolor": "white",
            "linecolor": "white",
            "ticks": ""
           }
          },
          "scene": {
           "xaxis": {
            "backgroundcolor": "#E5ECF6",
            "gridcolor": "white",
            "gridwidth": 2,
            "linecolor": "white",
            "showbackground": true,
            "ticks": "",
            "zerolinecolor": "white"
           },
           "yaxis": {
            "backgroundcolor": "#E5ECF6",
            "gridcolor": "white",
            "gridwidth": 2,
            "linecolor": "white",
            "showbackground": true,
            "ticks": "",
            "zerolinecolor": "white"
           },
           "zaxis": {
            "backgroundcolor": "#E5ECF6",
            "gridcolor": "white",
            "gridwidth": 2,
            "linecolor": "white",
            "showbackground": true,
            "ticks": "",
            "zerolinecolor": "white"
           }
          },
          "shapedefaults": {
           "line": {
            "color": "#2a3f5f"
           }
          },
          "ternary": {
           "aaxis": {
            "gridcolor": "white",
            "linecolor": "white",
            "ticks": ""
           },
           "baxis": {
            "gridcolor": "white",
            "linecolor": "white",
            "ticks": ""
           },
           "bgcolor": "#E5ECF6",
           "caxis": {
            "gridcolor": "white",
            "linecolor": "white",
            "ticks": ""
           }
          },
          "title": {
           "x": 0.05
          },
          "xaxis": {
           "automargin": true,
           "gridcolor": "white",
           "linecolor": "white",
           "ticks": "",
           "title": {
            "standoff": 15
           },
           "zerolinecolor": "white",
           "zerolinewidth": 2
          },
          "yaxis": {
           "automargin": true,
           "gridcolor": "white",
           "linecolor": "white",
           "ticks": "",
           "title": {
            "standoff": 15
           },
           "zerolinecolor": "white",
           "zerolinewidth": 2
          }
         }
        },
        "title": {
         "text": "2D Scatter Plot of Chapters"
        },
        "width": 800,
        "xaxis": {
         "title": {
          "text": "x"
         }
        },
        "yaxis": {
         "title": {
          "text": "y"
         }
        }
       }
      }
     },
     "metadata": {},
     "output_type": "display_data"
    }
   ],
   "source": [
    "# Display the 2D scatter plot of Categories using Plotly\n",
    "fig = go.Figure()\n",
    "\n",
    "for i, chapter in enumerate(chapters_list):\n",
    "    sub_matrix = np.array(df_chapter[df_chapter[\"chapter\"] == chapter][\"chunk_embedding_pca\"].to_list())\n",
    "    x = sub_matrix[:, 0] # first dimension of the embeddings\n",
    "    y = sub_matrix[:, 1] # second dimension of the embeddings\n",
    "\n",
    "    # get the question text for hover\n",
    "    hover_text = df_chapter[df_chapter[\"chapter\"] == chapter][\"chunk_content\"]\n",
    "\n",
    "    fig.add_trace(\n",
    "        go.Scatter(\n",
    "            x=x,\n",
    "            y=y,\n",
    "            mode=\"markers\",\n",
    "            marker=dict(size=8, color=i, colorscale=\"Viridis\", opacity=0.8),\n",
    "            name=chapter,\n",
    "            hovertext=hover_text,\n",
    "            hoverinfo=\"text\",\n",
    "        )\n",
    "    )\n",
    "\n",
    "fig.update_layout(\n",
    "    autosize=False,\n",
    "    title=\"2D Scatter Plot of Chapters\",\n",
    "    width=800,\n",
    "    height=500,\n",
    "    margin=dict(l=50, r=50, b=100, t=100, pad=10),\n",
    "    xaxis=dict(title=\"x\"),\n",
    "    yaxis=dict(title=\"y\"),\n",
    ")\n",
    "\n",
    "fig.show()"
   ]
  },
  {
   "cell_type": "code",
   "execution_count": 77,
   "metadata": {},
   "outputs": [
    {
     "data": {
      "application/vnd.plotly.v1+json": {
       "config": {
        "plotlyServerURL": "https://plot.ly"
       },
       "data": [
        {
         "hoverinfo": "text",
         "hovertext": [
          "## La fonction `print()`\n\nDans le chapitre 1, nous avons rencontré la fonction `print()` qui affiche une chaîne de caractères (le fameux `\"Hello world!\"`). En fait, la fonction `print()` affiche l'argument qu'on lui passe entre parenthèses **et** un retour à ligne. Ce retour à ligne supplémentaire est ajouté par défaut. Si toutefois, on ne veut pas afficher ce retour à la ligne, on peut utiliser l'argument par « mot-clé » `end` :\n\n```python\n>>> print(\"Hello world!\")\nHello world!\n>>> print(\"Hello world!\", end=\"\")\nHello world!>>>\n```\n\nLigne 1. On a utilisé l'instruction `print()` classiquement en passant la chaîne de caractères `\"Hello world!\"` en argument.\n\nLigne 3. On a ajouté un second argument `end=\"\"`, en précisant le mot-clé `end`. Nous aborderons les arguments par mot-clé dans le chapitre 9 *Fonctions*. Pour l'instant, dites-vous que cela modifie le comportement par défaut des fonctions.",
          "Ligne 4. L'effet de l'argument `end=\"\"` est que les trois chevrons `>>>` se retrouvent collés après la chaîne de caractères `\"Hello world!\"`.\n\nUne autre manière de s'en rendre compte est d'utiliser deux fonctions `print()` à la suite. Dans la portion de code suivante, le caractère « `;` » sert à séparer plusieurs instructions Python sur une même ligne :\n\n```python\n>>> print(\"Hello\") ; print(\"Joe\")\nHello\nJoe\n>>> print(\"Hello\", end=\"\") ; print(\"Joe\")\nHelloJoe\n>>> print(\"Hello\", end=\" \") ; print(\"Joe\")\nHello Joe\n```\n\nLa fonction `print()` peut également afficher le contenu d'une variable quel que soit son type. Par exemple, pour un entier :\n\n```python\n>>> var = 3\n>>> print(var)\n3\n```\n\nIl est également possible d'afficher le contenu de plusieurs variables (quel que soit leur type) en les séparant par des virgules :\n\n```python\n>>> x = 32\n>>> nom = \"John\"\n>>> print(nom, \"a\", x, \"ans\")\nJohn a 32 ans\n```",
          "```python\n>>> x = 32\n>>> nom = \"John\"\n>>> print(nom, \"a\", x, \"ans\")\nJohn a 32 ans\n```\n\nPython a écrit une phrase complète en remplaçant les variables `x` et `nom` par leur contenu. Vous remarquerez que pour afficher plusieurs éléments de texte sur une seule ligne, nous avons utilisé le séparateur « `,` » entre les différents éléments. Python a également ajouté un espace à chaque fois que l'on utilisait le séparateur « `,` ». On peut modifier ce comportement en passant à la fonction `print()` l'argument par mot-clé `sep` :\n\n```python\n>>> x = 32\n>>> nom = \"John\"\n>>> print(nom, \"a\", x, \"ans\", sep=\"\")\nJohna32ans\n>>> print(nom, \"a\", x, \"ans\", sep=\"-\")\nJohn-a-32-ans\n```\n\nPour afficher deux chaînes de caractères l'une à côté de l'autre, sans espace, on peut soit les concaténer, soit utiliser l'argument par mot-clé `sep` avec une chaîne de caractères vide :",
          "Pour afficher deux chaînes de caractères l'une à côté de l'autre, sans espace, on peut soit les concaténer, soit utiliser l'argument par mot-clé `sep` avec une chaîne de caractères vide :\n\n```python\n>>> ani1 = \"chat\"\n>>> ani2 = \"souris\"\n>>> print(ani1, ani2)\nchat souris\n>>> print(ani1 + ani2)\nchatsouris\n>>> print(ani1, ani2, sep=\"\")\nchatsouris\n```\n\n## Écriture formatée\n\n### Définitions\n\nQue signifie « écriture formatée » ?\n\nopen-box-def\n\nL'écriture formatée est un mécanisme permettant d'afficher des variables avec un certain format, par exemple justifiées à gauche ou à droite, ou encore avec un certain nombre de décimales pour les *floats*. L'écriture formatée est incontournable lorsqu'on veut créer des fichiers organisés en « belles colonnes » comme par exemple les fichiers PDB (pour en savoir plus sur ce format, reportez-vous à l'annexe A *Quelques formats de données rencontrés en biologie*).\n\nclose-box-def",
          "close-box-def\n\nDepuis la version 3.6, Python a introduit les *f-strings* pour mettre en place l'écriture formatée que nous allons décrire en détail dans cette rubrique. Il existe d'autres  manières pour formatter des chaînes de caractères qui étaient utilisées avant la version 3.6, nous en avons mis un rappel bref dans la rubrique suivante. Toutefois, nous conseillons vivement l'utilisation des *f-strings* si vous débutez l'apprentissage de Python.\n\nQue signifie *f-string* ?\n\nopen-box-def\n\n*f-string* est le diminutif de *formatted string literals*. Mais encore ? Dans le chapitre précédent, nous avons vu les chaînes de caractères ou encore *strings* qui étaient représentées par un texte entouré de guillemets simples ou doubles. Par exemple :\n\n```python\n\"Ceci est une chaîne de caractères\"\n```\n\nL'équivalent en *f-string* est tout simplement la même chaîne de caractères précédée du caractère `f` **sans espace** entre les deux :\n\n```python\nf\"Ceci est une chaîne de caractères\"\n```",
          "L'équivalent en *f-string* est tout simplement la même chaîne de caractères précédée du caractère `f` **sans espace** entre les deux :\n\n```python\nf\"Ceci est une chaîne de caractères\"\n```\n\nCe caractère `f` avant les guillemets va indiquer à Python qu'il s'agit d'une *f-string* permettant de mettre en place le mécanisme de l'écriture formatée, contrairement à une *string* normale.\n\nclose-box-def\n\nNous expliquons plus en détail dans le chapitre 10 *Plus sur les chaînes de caractères* pourquoi on doit mettre ce `f` et le mécanisme sous-jacent.\n\n\n### Prise en main des *f-strings*\n\nLes *f-strings* permettent une meilleure organisation de l'affichage des variables. Reprenons l'exemple ci-dessus à propos de notre ami John :\n\n```python\n>>> x = 32\n>>> nom = \"John\"\n>>> print(f\"{nom} a {x} ans\")\nJohn a 32 ans\n```",
          "```python\n>>> x = 32\n>>> nom = \"John\"\n>>> print(f\"{nom} a {x} ans\")\nJohn a 32 ans\n```\n\nIl suffit de passer un nom de variable au sein de chaque couple d'accolades et Python les remplace par leur contenu ! Première remarque, la syntaxe apparait plus lisible que l'équivalent vu ci-avant `print(nom, \"a\", x, \"ans\")`. Bien sûr, il ne faut pas omettre le `f` avant le premier guillemet, sinon Python prendra cela pour une chaîne de caractères normale et ne mettra pas en place ce mécanisme de remplacement :\n\n```python\n>>> print(\"{nom} a {x} ans\")\n{nom} a {x} ans\n```\n\nopen-box-rem\n\nUne variable est utilisable plus d'une fois pour une *f-string* donnée :\n\n```python\n>>> var = \"to\"\n>>> print(f\"{var} et {var} font {var}{var}\")\nto et to font toto\n>>>\n```\n\nclose-box-rem\n\nEnfin, il est possible de mettre entre les accolades des valeurs numériques ou des chaînes de caractères :",
          "close-box-rem\n\nEnfin, il est possible de mettre entre les accolades des valeurs numériques ou des chaînes de caractères :\n\n```python\n>>> print(f\"J'affiche l'entier {10} et le float {3.14}\")\nJ'affiche l'entier 10 et le float 3.14\n>>> print(f\"J'affiche la chaine {'Python'}\")\nJ'affiche la chaine Python\n```\n\nMême si cela ne présente que peu d'intérêt pour l'instant, il s'agit d'une commande Python parfaitement valide. Nous verrons des exemples plus pertinents par la suite. Cela fonctionne avec n'importe quel type de variable (entiers, chaînes de caractères, *floats*, etc.). Attention toutefois pour les chaînes de caractères, utilisez des guillemets simples au sein des accolades si vous définissez votre *f-string* avec des guillemets doubles.\n\n### Spécification de format\n\nLes *f-strings* permettent de remplacer des variables au sein d'une chaîne de caractères. On peut également spécifier le format de leur affichage.",
          "### Spécification de format\n\nLes *f-strings* permettent de remplacer des variables au sein d'une chaîne de caractères. On peut également spécifier le format de leur affichage.\n\nPrenons un exemple. Imaginez maintenant que vous vouliez calculer, puis afficher, la proportion de GC d'un génome. La proportion de GC s'obtient comme la somme des bases Guanine (G) et Cytosine (C) divisée par le nombre total de bases (A, T, C, G) du génome considéré. Si on a, par exemple, 4500 bases G et 2575 bases C, pour un total de 14800 bases, vous pourriez procéder comme suit (notez bien l'utilisation des parenthèses pour gérer les priorités des opérateurs) :\n\n```python\n>>> prop_GC = (4500 + 2575) / 14800\n>>> print(\"La proportion de GC est\", prop_GC)\nLa proportion de GC est 0.4780405405405405\n```",
          "```python\n>>> prop_GC = (4500 + 2575) / 14800\n>>> print(\"La proportion de GC est\", prop_GC)\nLa proportion de GC est 0.4780405405405405\n```\n\nLe résultat obtenu présente trop de décimales (seize dans le cas présent). Pour écrire le résultat plus lisiblement, vous pouvez spécifier dans les accolades `{}` le format qui vous intéresse. Dans le cas présent, vous voulez formater un *float* pour l'afficher avec deux puis trois décimales :\n\n```python\n>>> print(f\"La proportion de GC est {prop_GC:.2f}\")\nLa proportion de GC est 0.48\n>>> print(f\"La proportion de GC est {prop_GC:.3f}\")\nLa proportion de GC est 0.478\n```\n\nDétaillons le contenu des accolades de la première ligne (`{prop_GC:.2f}`) :\n\n- D'abord on a le nom de la variable à formatter, `prop_GC`, c'est indispensable avec les *f-strings*.\n\n- Ensuite on rencontre les deux-points `:`, ceux-ci indiquent que ce qui suit va spécifier le format dans lequel on veut afficher la variable `prop_GC`.",
          "- Ensuite on rencontre les deux-points `:`, ceux-ci indiquent que ce qui suit va spécifier le format dans lequel on veut afficher la variable `prop_GC`.\n\n- À droite des deux-points on trouve `.2f` qui indique ce format : la lettre `f` indique qu'on souhaite afficher la variable sous forme d'un *float*, les caractères `.2` indiquent la précision voulue, soit ici deux chiffres après la virgule. \n\nNotez enfin que le formatage avec `.xf` (`x` étant un entier positif) renvoie un résultat arrondi.\n\nVous pouvez aussi formater des entiers avec la lettre `d` (ici `d` veut dire *decimal integer*) :\n\n```python\n>>> nb_G = 4500\n>>> print(f\"Ce génome contient {nb_G:d} guanines\")\nCe génome contient 4500 guanines\n```\n\nou mettre plusieurs nombres dans une même chaîne de caractères.",
          "```python\n>>> nb_G = 4500\n>>> print(f\"Ce génome contient {nb_G:d} guanines\")\nCe génome contient 4500 guanines\n```\n\nou mettre plusieurs nombres dans une même chaîne de caractères.\n\n```python\n>>> nb_G = 4500\n>>> nb_C = 2575\n>>> print(f\"Ce génome contient {nb_G:d} G et {nb_C:d} C, soit une prop de GC de {prop_GC:.2f}\")\nCe génome contient 4500 G et 2575 C, soit une prop de GC de 0.48\n>>> perc_GC = prop_GC * 100\n>>> print(f\"Ce génome contient {nb_G:d} G et {nb_C:d} C, soit un %GC de {perc_GC:.2f} %\")\nCe génome contient 4500 G et 2575 C, soit un %GC de 47.80 %\n```\n\nEnfin, il est possible de préciser sur combien de caractères vous voulez qu'un résultat soit écrit et comment se fait l'alignement (à gauche, à droite ou centré). Dans la portion de code suivante, le caractère `;` sert de séparateur entre les instructions sur une même ligne :",
          "```python\n>>> print(10) ; print(1000)\n10\n1000\n>>> print(f\"{10:>6d}\") ; print(f\"{1000:>6d}\")\n    10\n  1000\n>>> print(f\"{10:<6d}\") ; print(f\"{1000:<6d}\")\n10    \n1000  \n>>> print(f\"{10:^6d}\") ; print(f\"{1000:^6d}\")\n  10  \n 1000 \n>>> print(f\"{10:*^6d}\") ; print(f\"{1000:*^6d}\")\n**10**\n*1000*\n>>> print(f\"{10:0>6d}\") ; print(f\"{1000:0>6d}\")\n000010\n001000\n```\n\nNotez que `>` spécifie un alignement à droite, `<` spécifie un alignement à gauche et `^` spécifie un alignement centré. Il est également possible d'indiquer le caractère qui servira de remplissage lors des alignements (l'espace est le caractère par défaut).\n\nCe formatage est également possible sur des chaînes de caractères avec la lettre `s` (comme *string*) :\n\n```python\n>>> print(\"atom HN\") ; print(\"atom HDE1\")\natom HN\natom HDE1\n>>> print(f\"atom {'HN':>4s}\") ; print(f\"atom {'HDE1':>4s}\")\natom   HN\natom HDE1\n```",
          "```python\n>>> print(\"atom HN\") ; print(\"atom HDE1\")\natom HN\natom HDE1\n>>> print(f\"atom {'HN':>4s}\") ; print(f\"atom {'HDE1':>4s}\")\natom   HN\natom HDE1\n```\n\nVous voyez tout de suite l'énorme avantage de l'écriture formatée. Elle vous permet d'écrire en colonnes parfaitement alignées. Nous verrons que ceci est très pratique si l'on veut écrire les coordonnées des atomes d'une molécule au format PDB (pour en savoir plus sur ce format, reportez-vous à l'annexe A *Quelques formats de données rencontrés en biologie*).\n\nPour les *floats*, il est possible de combiner le nombre de caractères à afficher avec le nombre de décimales :\n\n```python\n>>> print(f\"{perc_GC:7.3f}\")\n 47.804\n>>> print(f\"{perc_GC:10.3f}\")\n    47.804\n```",
          "```python\n>>> print(f\"{perc_GC:7.3f}\")\n 47.804\n>>> print(f\"{perc_GC:10.3f}\")\n    47.804\n```\n\nL'instruction `7.3f` signifie que l'on souhaite écrire un *float* avec 3 décimales et formaté sur 7 caractères (par défaut justifiés à droite). L'instruction `10.3f` fait la même chose sur 10 caractères. Remarquez que le séparateur décimal `.` compte pour un caractère. De même, si on avait un nombre négatif, le signe `-` compterait aussi pour un caractère.\n\n### Autres détails sur les *f-strings*\n\nSi on veut afficher des accolades littérales avec les *f-strings*, il faut les doubler pour échapper au formatage :\n\n```python\n>>> print(f\"Accolades littérales {{}} ou {{ ou }} et pour le formatage {10}\")\nAccolades littérales {} ou { ou } et pour le formatage 10\n```\n\nUne remarque importante, si on ne met pas de variable à formater entre les accolades dans une *f-string*, cela conduit à une erreur :",
          "Une remarque importante, si on ne met pas de variable à formater entre les accolades dans une *f-string*, cela conduit à une erreur :\n\n```python\n>>> print(f\"accolades sans variable {}\")\n  File \"<stdin>\", line 1\nSyntaxError: f-string: empty expression not allowed\n```\n\nEnfin, il est important de bien comprendre qu'une *f-string* est indépendante de la fonction `print()`. Si on donne une *f-string* à la fonction `print()`, Python évalue d'abord la *f-string* et c'est la chaîne de caractères qui en résulte qui est affichée à l'écran. Tout comme dans l'instruction `print(5*5)`, c'est d'abord la multiplication (`5*5`) qui est évaluée, puis son résultat qui est affiché à l'écran. On peut s'en rendre compte de la manière suivante dans l'interpréteur :\n\n```python\n>>> f\"{perc_GC:10.3f}\"\n'    47.804'\n>>> type(f\"{perc_GC:10.3f}\")\n<class 'str'>\n```\n\nPython considère le résultat de l'instruction `f\"{perc_GC:10.3f}\"` comme une chaîne de caractères et la fonction `type()` nous le confirme.",
          "Python considère le résultat de l'instruction `f\"{perc_GC:10.3f}\"` comme une chaîne de caractères et la fonction `type()` nous le confirme.\n\n### Expressions dans les *f-strings*\n\nUne fonctionnalité extrêmement puissante des *f-strings* est de supporter des expressions Python au sein des accolades. Ainsi, il est possible d'y mettre directement une opération ou encore un appel à une fonction :\n\n```python\n>>> print(f\"Le résultat de 5 * 5 vaut {5 * 5}\")\nLe résultat de 5 * 5 vaut 25\n>>> print(f\"Résultat d'une opération avec des floats : {(4.1 * 6.7)}\")\nRésultat d'une opération avec des floats : 27.47\n>>> print(f\"Le minimum est {min(1, -2, 4)}\")\nLe minimum est -2\n>>> entier = 2\n>>> print(f\"Le type de {entier} est {type(entier)}\")\nLe type de 2 est <class 'int'>\n```\n\nNous aurons l'occasion de revenir sur cette fonctionnalité au fur et à mesure de ce cours.",
          "Nous aurons l'occasion de revenir sur cette fonctionnalité au fur et à mesure de ce cours.\n\nLes possibilités offertes par les *f-strings* sont nombreuses. Pour vous y retrouver dans les différentes options de formatage, nous vous conseillons de consulter ce [mémo](https://fstring.help/cheat/) (en anglais).\n\n\n## Écriture scientifique\n\nPour les nombres très grands ou très petits, l'écriture formatée permet d'afficher un nombre en notation scientifique (sous forme de puissance de 10) avec la lettre `e` :\n\n```python\n>>> print(f\"{1_000_000_000:e}\")\n1.000000e+09\n>>> print(f\"{0.000_000_001:e}\")\n1.000000e-09\n```\n\nIl est également possible de définir le nombre de chiffres après la virgule. Dans l'exemple ci-dessous, on affiche un nombre avec aucun, 3 et 6 chiffres après la virgule :\n\n```python\n>>> avogadro_number = 6.022_140_76e23\n>>> print(f\"{avogadro_number:.0e}\")\n6e+23\n>>> print(f\"{avogadro_number:.3e}\")\n6.022e+23\n>>> print(f\"{avogadro_number:.6e}\")\n6.022141e+23\n```",
          "```python\n>>> avogadro_number = 6.022_140_76e23\n>>> print(f\"{avogadro_number:.0e}\")\n6e+23\n>>> print(f\"{avogadro_number:.3e}\")\n6.022e+23\n>>> print(f\"{avogadro_number:.6e}\")\n6.022141e+23\n```\n\n\n## Ancienne méthode de formatage des chaînes de caractères\n\n*Conseil* : Pour les débutants, tout ce qui est écrit dans cette rubrique n'est pas à retenir.\n\nDans les premières versions de Python jusqu'à la 2.6, il fallait utiliser l'opérateur `%`, puis de la version 2.7 jusqu'à la 3.5 il était plutôt conseillé d'utiliser la méthode `.format()` (voir la rubrique suivante pour la définition du mot « méthode »). Même si les *f-strings* sont devenues la manière conseillée pour mettre en place l'écriture formatée, ces deux anciennes manières, sont encore pleinement compatibles avec les versions modernes de Python.",
          "Même si elle fonctionne encore, la première manière avec l'opérateur `%` est maintenant clairement déconseillée pour un certain nombre de [raisons](https://docs.python.org/fr/3/library/stdtypes.html?highlight=sprintf#printf-style-string-formatting). Néanmoins, nous rappelons ci-dessous son fonctionnement, car il se peut que vous tombiez dessus dans d'anciens livres ou si vous lisez de vieux programmes Python.\n\nLa deuxième manière avec la méthode `.format()` est encore largement utilisée et reste tout à fait valide. Elle est clairement plus puissante et évite un certain nombre de désagréments par rapport à l'opérateur `%`. Vous la croiserez sans doute très fréquemment dans des programmes et ouvrages récents. Heureusement elle a un fonctionnement relativement proche des *f-strings*, donc vous ne serez pas totalement perdus !\n\nEnfin, nous indiquons à la fin de cette rubrique nos conseils sur quelle méthode utiliser.\n\n### L'opérateur `%`",
          "Enfin, nous indiquons à la fin de cette rubrique nos conseils sur quelle méthode utiliser.\n\n### L'opérateur `%`\n\nOn a vu avec les entiers que l'opérateur `%` ou *modulo* renvoyait le reste d'une division entière. Cet opérateur existe aussi pour les chaînes de caractères mais il met en place l'écriture formatée. En voici un exemple :\n\n```python\n>>> x = 32\n>>> nom = \"John\"\n>>> print(\"%s a %d ans\" % (nom, x))\nJohn a 32 ans\n>>> nb_G = 4500\n>>> nb_C = 2575\n>>> prop_GC = (nb_G + nb_C)/14800\n>>> print(\"On a %d G et %d C -> prop GC = %.2f\" % (nb_G, nb_C, prop_GC))\nOn a 4500 G et 2575 C -> prop GC = 0.48\n```\n\nLa syntaxe est légèrement différente. Le symbole `%` est d'abord appelé dans la chaîne de caractères (dans l'exemple ci-dessus `%d`, `%d` et `%.2f`) pour :",
          "La syntaxe est légèrement différente. Le symbole `%` est d'abord appelé dans la chaîne de caractères (dans l'exemple ci-dessus `%d`, `%d` et `%.2f`) pour :\n\n- Désigner l'endroit où sera placée la variable dans la chaîne de caractères.\n- Préciser le type de variable à formater, `d` pour un entier (`i` fonctionne également) ou `f` pour un *float*.\n- Éventuellement pour indiquer le format voulu. Ici `.2` signifie une précision de deux décimales.\n\nLe signe `%` est rappelé une seconde fois (`% (nb_G, nb_C, prop_GC)`) pour indiquer les variables à formater.\n\n### La méthode `.format()`\n\nDepuis la version 2.7 de Python, la méthode `.format()` (voir la rubrique suivante pour la définition d'une méthode) a apporté une nette amélioration pour mettre en place l'écriture formatée. Celle-ci fonctionne de la manière suivante :",
          "```python\n>>> x = 32\n>>> nom = \"John\"\n>>> print(\"{} a {} ans\".format(nom, x))\nJohn a 32 ans\n>>> nb_G = 4500\n>>> nb_C = 2575\n>>> prop_GC = (nb_G + nb_C)/14800\n>>> print(\"On a {} G et {} C -> prop GC = {:.2f}\".format(nb_G, nb_C, prop_GC))\nOn a 4500 G et 2575 C -> prop GC = 0.48\n```\n\n- Dans la chaîne de caractères, les accolades vides `{}` précisent l'endroit où le contenu de la variable doit être inséré.\n- Juste après la chaîne de caractères, l'instruction `.format(nom, x)` fournit la liste des variables à insérer, d'abord la variable `nom` puis la variable `x`. \n- On peut éventuellement préciser le formatage en mettant un caractère deux-points `:` puis par exemple ici `.2f` qui signifie 2 chiffres après la virgule.\n- La méthode `.format()` agit sur la chaîne de caractères à laquelle elle est attachée par le point.",
          "Tout ce que nous avons vu avec les *f-strings* sur la manière de formatter l'affichage d'une variable (après les `:` au sein des accolades) est identique avec la méthode `.format()`. Par exemple `{:.2f}`, `{:0>6d}`, `{:.6e}`, etc., fonctionneront de la même manière. La différence notable est qu'on ne met pas directement le nom de la variable au sein des accolades. Comme pour l'opérateur `%`, c'est l'emplacement dans les arguments passés à la méthode `.format()` qui dicte quelle variable doit être remplacée. Par exemple, dans `\"{} {} {}\".format(bidule, machin, truc)`, les premières accolades remplaceront la variable `bidule`, les deuxièmes la variable `machin`, les troisièmes la variable `truc`.",
          "Le formattage avec la méthode `.format()` se rapproche de la syntaxe des *f-strings* (accolades, deux-points), mais présente l'inconvénient -- comme avec l'opérateur `%` -- de devoir mettre la liste des variables tout à la fin, alourdissant ainsi la syntaxe. En effet, dans l'exemple avec la proportion de GC, la ligne équivalente avec une *f-string* apparait tout de même plus simple à lire :\n\n```python\n>>> print(f\"On a {nb_G} G et {nb_C} C -> prop GC = {prop_GC:.2f}\")\nOn a 4500 G et 2575 C -> prop GC = 0.48\n```\n\nopen-box-adv",
          "```python\n>>> print(f\"On a {nb_G} G et {nb_C} C -> prop GC = {prop_GC:.2f}\")\nOn a 4500 G et 2575 C -> prop GC = 0.48\n```\n\nopen-box-adv\n\nPour conclure, ces deux anciennes façons de formater une chaîne de caractères avec l'opérateur `%` ou la méthode `.format()` vous sont présentées à titre d'information. La première avec l'opérateur `%` est clairement déconseillée. La deuxième avec la méthode `.format()` est encore tout à fait valable. Si vous débutez Python, nous vous conseillons fortement d'apprendre et d'utiliser les *f-strings*. C'est ce que vous rencontrerez dans la suite de ce cours. Si vous connaissez déjà Python et que vous utilisez la méthode `.format()`, nous vous conseillons de passer aux *f-strings*. Depuis que nous les avons découvertes, aucun retour n'est envisageable pour nous tant elles sont puissantes et plus claires à utiliser !",
          "Enfin, si vous souhaitez aller plus loin, voici deux articles (en anglais) très bien faits sur le site *RealPython*: sur l'[écriture formatée](https://realpython.com/python-string-formatting) et sur les [*f-strings*](https://realpython.com/python-f-strings/)\n\nclose-box-adv\n\n## Note sur le vocabulaire et la syntaxe\n\nRevenons quelques instants sur la notion de **méthode** abordée dans ce chapitre avec `.format()`. En Python, on peut considérer chaque variable comme un objet sur lequel on peut appliquer des méthodes. Une méthode est simplement une fonction qui utilise et/ou agit sur l'objet lui-même, les deux étant connectés par un point. La syntaxe générale est de la forme `objet.méthode()`.\n\nDans l'exemple suivant :\n\n```python\n>>> \"Joe a {} ans\".format(20)\n'Joe a 20 ans'\n```\n\nla méthode `.format()` est liée à `\"Joe a {} ans\"` qui est un objet de type chaîne de caractères. La méthode renvoie une nouvelle chaîne de caractères avec le bon formatage (ici, `'Joe a 20 ans'`).",
          "la méthode `.format()` est liée à `\"Joe a {} ans\"` qui est un objet de type chaîne de caractères. La méthode renvoie une nouvelle chaîne de caractères avec le bon formatage (ici, `'Joe a 20 ans'`).\n\nNous aurons de nombreuses occasions de revoir cette notation `objet.méthode()`.\n\n\n## Exercices\n\n*Conseil* : utilisez l'interpréteur Python pour les exercices 2 à 5.\n\n\n### Affichage dans l'interpréteur et dans un programme\n\nOuvrez l'interpréteur Python et tapez l'instruction `1+1`. Que se passe-t-il ?\n\nÉcrivez la même chose dans un script `test.py` que vous allez créer avec un éditeur de texte. Exécutez ce script en tapant `python test.py` dans un *shell*. Que se passe-t-il ? Pourquoi ? Faites en sorte d'afficher le résultat de l'addition `1+1` en exécutant le script dans un *shell*.\n\n\n### Poly-A\n\nGénérez une chaîne de caractères représentant un brin d'ADN poly-A (c'est-à-dire qui ne contient que des bases A) de 20 bases de longueur, sans taper littéralement toutes les bases.",
          "### Poly-A\n\nGénérez une chaîne de caractères représentant un brin d'ADN poly-A (c'est-à-dire qui ne contient que des bases A) de 20 bases de longueur, sans taper littéralement toutes les bases.\n\n\n### Poly-A et poly-GC\n\nSur le modèle de l'exercice précédent, générez en une ligne de code un brin d'ADN poly-A (AAAA...) de 20 bases suivi d'un poly-GC régulier (GCGCGC...) de 40 bases.\n\n\n### Écriture formatée\n\nEn utilisant l'écriture formatée, affichez en une seule ligne les variables `a`, `b` et `c` dont les valeurs sont respectivement la chaîne de caractères `\"salut\"`, le nombre entier `102` et le *float* `10.318`. La variable `c` sera affichée avec 2 décimales.\n\n\n### Écriture formatée 2\n\nDans un script `percGC.py`, calculez un pourcentage de GC avec l'instruction suivante :\n\n`perc_GC = ((4500 + 2575)/14800)*100`",
          "### Écriture formatée 2\n\nDans un script `percGC.py`, calculez un pourcentage de GC avec l'instruction suivante :\n\n`perc_GC = ((4500 + 2575)/14800)*100`\n\nEnsuite, affichez le contenu de la variable `perc_GC` à l'écran avec 0, 1, 2 puis 3 décimales sous forme arrondie en utilisant l'écriture formatée et les *f-strings*. On souhaite que le programme affiche la sortie suivante :\n\n```text\nLe pourcentage de GC est 48     %\nLe pourcentage de GC est 47.8   %\nLe pourcentage de GC est 47.80  %\nLe pourcentage de GC est 47.804 %\n```"
         ],
         "marker": {
          "color": 0,
          "colorscale": [
           [
            0,
            "#440154"
           ],
           [
            0.1111111111111111,
            "#482878"
           ],
           [
            0.2222222222222222,
            "#3e4989"
           ],
           [
            0.3333333333333333,
            "#31688e"
           ],
           [
            0.4444444444444444,
            "#26828e"
           ],
           [
            0.5555555555555556,
            "#1f9e89"
           ],
           [
            0.6666666666666666,
            "#35b779"
           ],
           [
            0.7777777777777778,
            "#6ece58"
           ],
           [
            0.8888888888888888,
            "#b5de2b"
           ],
           [
            1,
            "#fde725"
           ]
          ],
          "opacity": 0.8,
          "size": 5
         },
         "mode": "markers",
         "name": "Affichage",
         "type": "scatter3d",
         "x": [
          0.016274999428092553,
          0.13792298741709383,
          0.17470485750988488,
          0.2574185243091817,
          0.30783702159950216,
          0.3263191087591847,
          0.31120376403043115,
          0.3353133637151352,
          0.5057234807945082,
          0.4744157549869594,
          0.4812443456794617,
          0.4428823581112448,
          0.34388587062926923,
          0.392927049621332,
          0.5374047796683165,
          0.41218187725911193,
          0.36549816858457207,
          0.3165015097965502,
          0.4148766349683315,
          0.34993795946640394,
          0.32031065742043724,
          0.40186892852737977,
          0.4105573374861233,
          0.3847950366685124,
          0.46009083913743143,
          0.4901763227606463,
          0.2948973280215908,
          0.20587543296986788,
          0.17958651734098544,
          0.3846450541346676
         ],
         "y": [
          -0.06715714614512844,
          -0.05717872502410425,
          -0.04909702102291303,
          0.06710700106581852,
          0.06578306558634239,
          0.03219441646717937,
          -0.02722921854855173,
          0.022682816017097533,
          0.08236900568670334,
          0.08654611748775272,
          0.07051938589986427,
          0.11384263841419552,
          0.09330682808623748,
          0.13628406151621986,
          0.060311283872744,
          0.01767700288949432,
          -0.0275409282947361,
          0.09128056522061685,
          0.08567166925733911,
          0.06085338798697632,
          0.022422508214778272,
          0.04564128926193265,
          0.04881728838880811,
          0.04335942783871188,
          0.10131956670887743,
          0.12643564633392348,
          0.0061722179160723974,
          0.0285693775970677,
          0.029022165871804267,
          0.06344773467527182
         ],
         "z": [
          -0.0807652891293263,
          0.034770218000480635,
          0.05513226680948805,
          0.08154477932110932,
          -0.057412215105650165,
          -0.048415829051421784,
          -0.045177837479459644,
          0.01943816246144635,
          0.08273380606086521,
          0.08902612864888038,
          0.09696124412629746,
          0.1620506858494319,
          0.1320790067405,
          0.09908260810105982,
          0.06853097293037663,
          -0.05325156438343218,
          0.010660832740343094,
          0.05210616551601311,
          0.08249520883857699,
          0.02340794275127411,
          0.08571024304497003,
          -0.02464115599287146,
          0.06411531336762667,
          0.015890178094674873,
          0.07445253689501508,
          0.022131061942409935,
          -0.034961740653725204,
          0.08584469326410155,
          0.11765152030314037,
          0.0730040268758718
         ]
        },
        {
         "hoverinfo": "text",
         "hovertext": [
          "## Principe et généralités\n\nEn programmation, les **fonctions** sont très utiles pour réaliser plusieurs fois la même opération au sein d'un programme. Elles rendent également le code plus lisible et plus clair en le fractionnant en blocs logiques.\n\nVous connaissez déjà certaines fonctions Python. Par exemple `math.cos(angle)` du module `math` renvoie le cosinus de la variable `angle` exprimé en radian. Vous connaissez aussi des fonctions internes à Python comme `range()` ou `len()`. Pour l'instant, une fonction est à vos yeux une sorte de « boîte noire » (voir figure @fig:schema_fonction) :\n\n1. À laquelle vous passez aucune, une ou plusieurs variable(s) entre parenthèses. Ces variables sont appelées **arguments**. Il peut s'agir de n'importe quel type d'objet Python.\n2. Qui effectue une action.\n3. Et qui renvoie un objet Python ou rien du tout.\n\n![Fonctionnement schématique d'une fonction.](img/schema_fonction.png){ #fig:schema_fonction width=90% }",
          "![Fonctionnement schématique d'une fonction.](img/schema_fonction.png){ #fig:schema_fonction width=90% }\n\nPar exemple, si vous appelez la fonction `len()` de la manière suivante :\n\n```python\n>>> len([0, 1, 2])\n3\n```\n\nvoici ce qui se passe :\n\n1. vous appelez `len()` en lui passant une liste en argument (ici la liste `[0, 1, 2]`) ;\n2. la fonction calcule la longueur de cette liste ;\n3. elle vous renvoie un entier égal à cette longueur.\n\nAutre exemple, si vous appelez la méthode `ma_liste.append()` (n'oubliez pas, une **méthode** est une **fonction** qui agit sur l'objet auquel elle est attachée par un point) :\n\n```python\n>>> ma_liste.append(5)\n```\n\n1. Vous passez l'entier `5` en argument ;\n2. la méthode `append()` ajoute l'entier `5` à l'objet `ma_liste` ;\n3. et elle ne renvoie rien.",
          "```python\n>>> ma_liste.append(5)\n```\n\n1. Vous passez l'entier `5` en argument ;\n2. la méthode `append()` ajoute l'entier `5` à l'objet `ma_liste` ;\n3. et elle ne renvoie rien.\n\nAux yeux du programmeur au contraire, une fonction est une portion de code effectuant une suite d'instructions bien particulière. Mais avant de vous présenter la syntaxe et la manière de construire une fonction, revenons une dernière fois sur cette notion de « boîte noire » :\n\n- Une fonction effectue une tâche. Pour cela, elle reçoit éventuellement des arguments et renvoie éventuellement quelque chose. L'algorithme utilisé au sein de la fonction n'intéresse pas directement l'utilisateur. Par exemple, il est inutile de savoir comment la fonction `math.cos()` calcule un cosinus. On a juste besoin de savoir qu'il faut lui passer en argument un angle en radian et qu'elle renvoie le cosinus de cet angle. Ce qui se passe à l'intérieur de la fonction ne regarde que le programmeur.",
          "- Chaque fonction effectue en général une tâche **unique et précise**. Si cela se complique, il est plus judicieux d'écrire plusieurs fonctions (qui peuvent éventuellement s'appeler les unes les autres). Cette **modularité** améliore la qualité générale et la lisibilité du code. Vous verrez qu'en Python, les fonctions présentent une grande flexibilité.",
          "Pour finir sur les généralités, nous avons utilisé dans la Figure @fig:schema_fonction le terme **programme principal** (*main* en anglais) pour désigner l'endroit depuis lequel on appelle une fonction (on verra plus tard que l'on peut en fait appeler une fonction de n'importe où). Le programme principal désigne le code qui est exécuté lorsqu'on lance le script Python, c'est-à-dire toute la suite d'instructions en dehors des fonctions. En général, dans un script Python, on écrit d'abord les fonctions puis le programme principal. Nous aurons l'occasion de revenir sur cette notion de programme principal plus tard dans ce chapitre ainsi que dans le chapitre 12 *Plus sur les fonctions*.\n\n\n## Définition\n\nPour définir une fonction, Python utilise le mot-clé `def`. Si on souhaite que la fonction renvoie quelque chose, il faut utiliser le mot-clé `return`. Par exemple :",
          "## Définition\n\nPour définir une fonction, Python utilise le mot-clé `def`. Si on souhaite que la fonction renvoie quelque chose, il faut utiliser le mot-clé `return`. Par exemple :\n\n```python\n>>> def carre(x):\n...     return x**2\n...\n>>> print(carre(2))\n4\n```\nNotez que la syntaxe de `def` utilise les deux-points comme les boucles `for` et `while` ainsi que les tests `if`, un bloc d’instructions est donc attendu. De même que pour les boucles et les tests, l'**indentation** de ce bloc d'instructions (qu'on appelle le corps de la fonction) est **obligatoire**.\n\nDans l'exemple précédent, nous avons passé un argument à la fonction `carre()` qui nous a renvoyé (ou retourné) une valeur que nous avons immédiatement affichée à l'écran avec l'instruction `print()`. Que veut dire valeur renvoyée ? Et bien cela signifie que cette dernière est récupérable dans une variable :",
          "```python\n>>> res = carre(2)\n>>> print(res)\n4\n```\nIci, le résultat renvoyé par la fonction est stocké dans la variable `res`.\nNotez qu'une fonction ne prend pas forcément un argument et ne renvoie pas forcément une valeur, par exemple :\n\n```python\n>>> def hello():\n...     print(\"bonjour\")\n...\n>>> hello()\nbonjour\n```\n\nDans ce cas la fonction, `hello()` se contente d'afficher la chaîne de caractères `\"bonjour\"` à l'écran. Elle ne prend aucun argument et ne renvoie rien. Par conséquent, cela n'a pas de sens de vouloir récupérer dans une variable le résultat renvoyé par une telle fonction. Si on essaie tout de même, Python affecte la valeur `None` qui signifie *rien* en anglais:\n\n```python\n>>> var = hello()\nbonjour\n>>> print(var)\nNone\n```\n\nCeci n'est pas une faute car Python n'émet pas d'erreur, toutefois cela ne présente, la plupart du temps, guère d'intérêt.\n\n\n## Passage d'arguments",
          "Ceci n'est pas une faute car Python n'émet pas d'erreur, toutefois cela ne présente, la plupart du temps, guère d'intérêt.\n\n\n## Passage d'arguments\n\nLe nombre d'arguments que l'on peut passer à une fonction est variable. Nous avons vu ci-dessus des fonctions auxquelles on passait 0 ou 1 argument. Dans les chapitres précédents, vous avez rencontré des fonctions internes à Python qui prenaient au moins 2 arguments. Souvenez-vous par exemple de `range(1, 10)` ou encore `range(1, 10, 2)`. Le nombre d'argument est donc laissé libre à l'initiative du programmeur qui développe une nouvelle fonction.\n\nUne particularité des fonctions en Python est que vous n'êtes pas obligé de préciser le type des arguments que vous lui passez, dès lors que les opérations que vous effectuez avec ces arguments sont valides. Python est en effet connu comme étant un langage au « typage dynamique », c'est-à-dire qu'il reconnaît pour vous le type des variables au moment de l'exécution. Par exemple :",
          "```python\n>>> def fois(x, y):\n...     return x*y\n...\n>>> fois(2, 3)\n6\n>>> fois(3.1415, 5.23)\n16.430045000000003\n>>> fois(\"to\", 2)\n'toto'\n>>> fois([1,3], 2)\n[1, 3, 1, 3]\n```\n\nL'opérateur `*` reconnaît plusieurs types (entiers, *floats*, chaînes de caractères, listes). Notre fonction `fois()` est donc capable d'effectuer des tâches différentes ! Même si Python autorise cela, méfiez-vous tout de même de cette grande flexibilité qui pourrait conduire à des surprises dans vos futurs programmes. En général, il est plus judicieux que chaque argument ait un type précis (entiers, *floats*, chaînes de caractères, etc) et pas l'un ou l'autre.\n\n\n## Renvoi de résultats\n\nUn énorme avantage en Python est que les fonctions sont capables de renvoyer plusieurs objets à la fois, comme dans cette fraction de code :\n\n```python\n>>> def carre_cube(x):\n...     return x**2, x**3\n...\n>>> carre_cube(2)\n(4, 8)\n```",
          "```python\n>>> def carre_cube(x):\n...     return x**2, x**3\n...\n>>> carre_cube(2)\n(4, 8)\n```\n\nEn réalité Python ne renvoie qu'un seul objet, mais celui-ci peut être séquentiel, c'est-à-dire contenir lui même d'autres objets. Dans notre exemple Python renvoie un objet de type `tuple`, type que nous verrons dans le chapitre 13 *Dictionnaires et tuples* (*grosso modo*, il s'agit d'une sorte de liste avec des propriétés différentes). Notre fonction pourrait tout autant renvoyer une liste :\n\n```python\n>>> def carre_cube2(x):\n...     return [x**2, x**3]\n...\n>>> carre_cube2(3)\n[9, 27]\n```\n\nRenvoyer un *tuple* ou une liste de deux éléments (ou plus) est très pratique en conjonction avec l'**affectation multiple**, par exemple :\n\n```python\n>>> z1, z2 = carre_cube2(3)\n>>> z1\n9\n>>> z2\n27\n```\n\nCela permet de récupérer plusieurs valeurs renvoyées par une fonction et de les affecter à la volée à des variables différentes.\n\n\n## Arguments positionnels et arguments par mot-clé",
          "Cela permet de récupérer plusieurs valeurs renvoyées par une fonction et de les affecter à la volée à des variables différentes.\n\n\n## Arguments positionnels et arguments par mot-clé\n\nJusqu'à maintenant, nous avons systématiquement passé le nombre d'arguments que la fonction attendait. Que se passe-t-il si une fonction attend deux arguments et que nous ne lui en passons qu'un seul ?\n\n```python\n>>> def fois(x, y):\n...     return x*y\n...\n>>> fois(2, 3)\n6\n>>> fois(2)\nTraceback (most recent call last):\n  File \"<stdin>\", line 1, in <module>\nTypeError: fois() missing 1 required positional argument: 'y'\n```\n\nOn constate que passer un seul argument à une fonction qui en attend deux conduit à une erreur.\n\nopen-box-def",
          "On constate que passer un seul argument à une fonction qui en attend deux conduit à une erreur.\n\nopen-box-def\n\nLorsqu'on définit une fonction `def fct(x, y):` les arguments `x` et `y` sont appelés **arguments positionnels** (en anglais *positional arguments*). Il est strictement obligatoire de les préciser lors de l'appel de la fonction. De plus, il est nécessaire de respecter le même ordre lors de l'appel que dans la définition de la fonction. Dans l'exemple ci-dessus, `2` correspondra à `x` et `3` correspondra à `y`. Finalement, tout dépendra de leur position, d'où leur qualification de positionnel.\n\nclose-box-def\n\nMais il est aussi possible de passer un ou plusieurs argument(s) de manière facultative et de leur attribuer une valeur par défaut :\n\n```python\n>>> def fct(x=1):\n...     return x\n...\n>>> fct()\n1\n>>> fct(10)\n10\n```\n\nopen-box-def",
          "```python\n>>> def fct(x=1):\n...     return x\n...\n>>> fct()\n1\n>>> fct(10)\n10\n```\n\nopen-box-def\n\nUn argument défini avec une syntaxe `def fct(arg=val):` est appelé **argument par mot-clé** (en anglais *keyword argument*). Le passage d'un tel argument lors de l'appel de la fonction est facultatif. Ce type d'argument ne doit pas être confondu avec les arguments positionnels présentés ci-dessus, dont la syntaxe est `def fct(arg):`.\n\nclose-box-def\n\nIl est bien sûr possible de passer plusieurs arguments par mot-clé :\n\n```python\n>>> def fct(x=0, y=0, z=0):\n...     return x, y, z\n...\n>>> fct()\n(0, 0, 0)\n>>> fct(10)\n(10, 0, 0)\n>>> fct(10, 8)\n(10, 8, 0)\n>>> fct(10, 8, 3)\n(10, 8, 3)\n```",
          "```python\n>>> def fct(x=0, y=0, z=0):\n...     return x, y, z\n...\n>>> fct()\n(0, 0, 0)\n>>> fct(10)\n(10, 0, 0)\n>>> fct(10, 8)\n(10, 8, 0)\n>>> fct(10, 8, 3)\n(10, 8, 3)\n```\n\nOn observe que pour l'instant, les arguments par mot-clé sont pris dans l'ordre dans lesquels on les passe lors de l'appel. Comment pourrions-nous faire si on souhaitait préciser l'argument par mot-clé `z` et garder les valeurs de `x` et `y` par défaut ? Simplement en  précisant le nom de l'argument lors de l'appel :\n\n```python\n>>> fct(z=10)\n(0, 0, 10)\n```\n\nPython permet même de rentrer les arguments par mot-clé dans un ordre arbitraire :\n\n```python\n>>> fct(z=10, x=3, y=80)\n(3, 80, 10)\n>>> fct(z=10, y=80)\n(0, 80, 10)\n```\n\nQue se passe-t-il lorsque nous avons un mélange d'arguments positionnels et par mot-clé ? Et bien les arguments positionnels doivent toujours être placés avant les arguments par mot-clé :",
          "Que se passe-t-il lorsque nous avons un mélange d'arguments positionnels et par mot-clé ? Et bien les arguments positionnels doivent toujours être placés avant les arguments par mot-clé :\n\n```python\n>>> def fct(a, b, x=0, y=0, z=0):\n...     return a, b, x, y, z\n...\n>>> fct(1, 1)\n(1, 1, 0, 0, 0)\n>>> fct(1, 1, z=5)\n(1, 1, 0, 0, 5)\n>>> fct(1, 1, z=5, y=32)\n(1, 1, 0, 32, 5)\n```\n\nOn peut toujours passer les arguments par mot-clé dans un ordre arbitraire à partir du moment où on précise leur nom. Par contre, si les deux arguments positionnels `a` et `b` ne sont pas passés à la fonction, Python renvoie une erreur.\n\n```python\n>>> fct(z=0)\nTraceback (most recent call last):\n  File \"<stdin>\", line 1, in <module>\nTypeError: fct() missing 2 required positional arguments: 'a' and 'b'\n```\n\nopen-box-adv\n\nPréciser le nom des arguments par mot-clé lors de l'appel d'une fonction est une pratique que nous vous recommandons. Cela les distingue clairement des arguments positionnels.\n\nclose-box-adv",
          "Préciser le nom des arguments par mot-clé lors de l'appel d'une fonction est une pratique que nous vous recommandons. Cela les distingue clairement des arguments positionnels.\n\nclose-box-adv\n\nL'utilisation d'arguments par mot-clé est habituelle en Python. Elle permet de modifier le comportement par défaut de nombreuses fonctions. Par exemple, si on souhaite que la fonction `print()` n'affiche pas un retour à la ligne, on peut utiliser l'argument `end` :\n\n```python\n>>> print(\"Message \", end=\"\")\nMessage >>>\n```\n\nNous verrons, dans le chapitre 20 *Fenêtres graphiques et Tkinter*, que l'utilisation d'arguments par mot-clé est systématique lorsqu'on crée un objet graphique (une fenêtre, un bouton, etc.).\n\n\n## Variables locales et variables globales",
          "## Variables locales et variables globales\n\nLorsqu'on manipule des fonctions, il est essentiel de bien comprendre comment se comportent les variables. Une variable est dite **locale** lorsqu'elle est créée dans une fonction. Elle n'existera et ne sera visible que lors de l'exécution de ladite fonction.\n\nUne variable est dite **globale** lorsqu'elle est créée dans le programme principal. Elle sera visible partout dans le programme.\n\nCeci ne vous paraît pas clair ? Nous allons prendre un exemple simple qui vous aidera à mieux saisir ces concepts. Observez le code suivant :\n\n```python\n# définition d'une fonction carre()\ndef carre(x):\n    y = x**2\n    return y\n\n# programme principal\nz = 5\nresultat = carre(z)\nprint(resultat)\n```",
          "```python\n# définition d'une fonction carre()\ndef carre(x):\n    y = x**2\n    return y\n\n# programme principal\nz = 5\nresultat = carre(z)\nprint(resultat)\n```\n\nPour la suite des explications, nous allons utiliser l'excellent site [*Python Tutor*](http://www.pythontutor.com) qui permet de visualiser l'état des variables au fur et à mesure de l'exécution d'un code Python. Avant de poursuivre, nous vous conseillons de prendre 5 minutes pour tester ce site.\n\nRegardons maintenant ce qui se passe dans le code ci-dessus, étape par étape :\n\n- Étape 1 : Python est prêt à lire la première ligne de code.\n\n![Étape 1.](img/fct_step1.png){ #fig:fct_step1 width=80% }\n\\",
          "- Étape 1 : Python est prêt à lire la première ligne de code.\n\n![Étape 1.](img/fct_step1.png){ #fig:fct_step1 width=80% }\n\\\n\n\n- Étape 2 : Python met en mémoire la fonction `carre()`. Notez qu'il ne l'exécute pas ! La fonction est mise dans un espace de la mémoire nommé *Global frame*, il s'agit de l'espace du programme principal. Dans cet espace, seront stockées toutes les variables *globales* créées dans le programme. Python est maintenant prêt à exécuter le programme principal.\n\n![Étape 2.](img/fct_step2.png){ #fig:fct_step2 width=80% }\n\\\n\n\n- Étape 3 : Python lit et met en mémoire la variable `z`. Celle-ci étant créée dans le programme principal, il s'agira d'une variable *globale*. Ainsi, elle sera également stockée dans le *Global frame*.\n\n![Étape 3.](img/fct_step3.png){ #fig:fct_step3 width=80% }\n\\",
          "![Étape 3.](img/fct_step3.png){ #fig:fct_step3 width=80% }\n\\\n\n\n- Étape 4 : La fonction `carre()` est appelée et on lui passe en argument l'entier `z`. La fonction s'exécute et un nouveau cadre est créé dans lequel *Python Tutor* va indiquer toutes les variables *locales* à la fonction. Notez bien que la variable passée en argument, qui s'appelle `x` dans la fonction, est créée en tant que variable *locale*. On remarquera aussi que les variables *globales* situées dans le *Global frame* sont toujours là.\n\n![Étape 4.](img/fct_step4.png){ #fig:fct_step4 width=80% }\n\\\n\n\n- Étape 5 : Python est maintenant prêt à exécuter chaque ligne de code de la fonction.\n\n![Étape 5.](img/fct_step5.png){ #fig:fct_step5 width=80% }\n\\\n\n\n- Étape 6 : La variable `y` est créée dans la fonction. Celle-ci est donc stockée en tant que variable *locale* à la fonction.\n\n![Étape 6.](img/fct_step6.png){ #fig:fct_step6 width=80% }\n\\",
          "- Étape 6 : La variable `y` est créée dans la fonction. Celle-ci est donc stockée en tant que variable *locale* à la fonction.\n\n![Étape 6.](img/fct_step6.png){ #fig:fct_step6 width=80% }\n\\\n\n\n- Étape 7 : Python s'apprête à renvoyer la variable *locale* `y` au programme principal. *Python Tutor* nous indique le contenu de la valeur renvoyée.\n\n![Étape 7.](img/fct_step7.png){ #fig:fct_step7 width=80% }\n\\\n\n\n- Étape 8 : Python quitte la fonction et la valeur renvoyée par celle-ci est affectée à la variable *globale* `resultat`. Notez bien que lorsque Python quitte la fonction, **l'espace des variables alloué à la fonction est détruit**. Ainsi, toutes les variables créées dans la fonction n'existent plus. On comprend pourquoi elles portent le nom de *locales* puisqu'elles n'existent que lorsque la fonction est exécutée.\n\n![Étape 8.](img/fct_step8.png){ #fig:fct_step8 width=80% }\n\\\n\n\n- Étape 9 : Python affiche le contenu de la variable `resultat` et l'exécution est terminée.",
          "![Étape 8.](img/fct_step8.png){ #fig:fct_step8 width=80% }\n\\\n\n\n- Étape 9 : Python affiche le contenu de la variable `resultat` et l'exécution est terminée.\n\n![Étape 9.](img/fct_step9.png){ #fig:fct_step9 width=80% }\n\\\n\n\nNous espérons que cet exemple guidé facilitera la compréhension des concepts de variables locales et globales. Cela viendra aussi avec la pratique. Nous irons un peu plus loin sur les fonctions dans le chapitre 12. D'ici là, essayez de vous entraîner au maximum avec les fonctions. C'est un concept ardu, mais il est impératif de le maîtriser.\n\nEnfin, comme vous avez pu le constater, *Python Tutor* nous a grandement aidé à comprendre ce qui se passait. N'hésitez pas à l'utiliser sur des exemples ponctuels, ce site vous aidera à visualiser ce qui se passe lorsqu'un code ne fait pas ce que vous attendez.\n\n\n## Principe DRY",
          "## Principe DRY\n\nL'acronyme [DRY](https://www.earthdatascience.org/courses/intro-to-earth-data-science/write-efficient-python-code/intro-to-clean-code/dry-modular-code/) signifie *Don't Repeat Yourself*. Les fonctions permettent de satisfaire ce principe en évitant la duplication de code.\nEn effet, plus un code est dupliqué plusieurs fois dans un programme, plus il sera source d'erreurs, notamment lorsqu'il faudra le faire évoluer.\n\nConsidérons par exemple le code suivant qui convertit plusieurs températures des degrés Fahrenheit en degrés Celsius :\n\n```python\n>>> temp_in_fahrenheit = 60\n>>> (temp_in_fahrenheit - 32) * (5/8)\n17.5\n>>> temp_in_fahrenheit = 80\n>>> (temp_in_fahrenheit - 32) * (5/8)\n30.0\n>>> temp_in_fahrenheit = 100\n>>> (temp_in_fahrenheit - 32) * (5/8)\n42.5\n```\n\nMalheureusement il y a une erreur dans la formule de conversion. En effet la formule exacte est :\n\n$$\n{\\rm temp\\_celsius} = ({\\rm temp\\_fahrenheit} - 32) \\times \\frac{5}{9}\n$$",
          "Malheureusement il y a une erreur dans la formule de conversion. En effet la formule exacte est :\n\n$$\n{\\rm temp\\_celsius} = ({\\rm temp\\_fahrenheit} - 32) \\times \\frac{5}{9}\n$$\n\nIl faut alors reprendre les lignes 2, 5 et 8 précédentes et les corriger. Cela n'est pas efficace, surtout si le même code est utilisé à différents endroits dans le programme.\n\nEn écrivant qu'une seule fois la formule de conversion dans une fonction, on applique le principe DRY :\n\n```python\n>>> def convert_fahrenheit_to_celsius(temperature):\n...     return (temperature - 32) * (5/9)\n... \n>>> temp_in_fahrenheit = 60\n>>> convert_fahrenheit_to_celsius(temp_in_fahrenheit)\n15.555555555555557\n>>> temp_in_fahrenheit = 80\n>>> convert_fahrenheit_to_celsius(temp_in_fahrenheit)\n26.666666666666668\n>>> temp_in_fahrenheit = 100\n>>> convert_fahrenheit_to_celsius(temp_in_fahrenheit)\n37.77777777777778\n```",
          "Et s'il y a une erreur dans la formule, il suffira de le corriger qu'une seule fois, dans la fonction `convert_fahrenheit_to_celsius()`.\n\n## Exercices\n\n*Conseil* : pour le premier exercice, utilisez *Python Tutor*. Pour les exercices suivants, créez des scripts puis exécutez-les dans un *shell*.\n\n\n### Carré et factorielle\n\nReprenez l'exemple précédent à l'aide du site [*Python Tutor*](http://www.pythontutor.com) :\n\n```python\n# définition d'une fonction carre()\ndef carre(x):\n    y = x**2\n    return y\n\n# programme principal\nz = 5\nresultat = carre(z)\nprint(resultat)\n```\n\nAnalysez ensuite le code suivant et tentez de prédire sa sortie :\n\n```python\ndef calc_factorielle(n):\n    fact = 1\n    for i in range(2, n+1):\n        fact = fact * i\n    return fact\n\n# programme principal\nnb = 4\nfactorielle_nb = calc_factorielle(nb)\nprint(f\"{nb}! = {factorielle_nb}\")\nnb2 = 10\nprint(f\"{nb2}! = {calc_factorielle(nb2)}\")\n```",
          "# programme principal\nnb = 4\nfactorielle_nb = calc_factorielle(nb)\nprint(f\"{nb}! = {factorielle_nb}\")\nnb2 = 10\nprint(f\"{nb2}! = {calc_factorielle(nb2)}\")\n```\n\nTestez ensuite cette portion de code avec *Python Tutor* en cherchant à bien comprendre chaque étape.\nAvez-vous réussi à prédire la sortie correctement ?\n\nopen-box-rem\n\nUne remarque concernant l'utilisation des *f-strings* que nous avions vues dans le chapitre 3 *Affichage*. On voit à nouveau une possibilité puissante des *f-strings* dans l'instruction `f\"{nb2}! = {calc_factorielle(nb2)}\"` : il est possible de mettre directement au sein des accolades un appel à une fonction (ici `{calc_factorielle(nb2)}`) ! Ainsi, pas besoin de créer une variable intermédiaire dans laquelle on stocke ce que retourne la fonction. \n\nclose-box-rem\n\n### Puissance\n\nCréez une fonction `calc_puissance(x, y)` qui renvoie $x^y$ en utilisant l'opérateur `**`. Pour rappel :\n\n```python\n>>> 2**2\n4\n>>> 2**3\n8\n>>> 2**4\n16\n```",
          "close-box-rem\n\n### Puissance\n\nCréez une fonction `calc_puissance(x, y)` qui renvoie $x^y$ en utilisant l'opérateur `**`. Pour rappel :\n\n```python\n>>> 2**2\n4\n>>> 2**3\n8\n>>> 2**4\n16\n```\n\nDans le programme principal, calculez et affichez à l'écran $2^i$ avec $i$ variant de 0 à 20 inclus. On souhaite que le résultat soit présenté avec le formatage suivant :\n\n```text\n2^ 0 =       1\n2^ 1 =       2\n2^ 2 =       4\n[...]\n2^20 = 1048576\n```\n\n### Pyramide\n\nReprenez l'exercice du chapitre 5 *Boucles et comparaisons* qui dessine une pyramide.\n\nDans un script `pyra.py`, créez une fonction `gen_pyramide()` à laquelle vous passez un nombre entier `N` et qui renvoie une pyramide de $N$ lignes sous forme de chaîne de caractères. Le programme principal demandera à l'utilisateur le nombre de lignes souhaitées (utilisez pour cela la fonction `input()`) et affichera la pyramide à l'écran.\n\n\n### Nombres premiers\n\nReprenez l'exercice du chapitre 6 *Tests* sur les nombres premiers.",
          "### Nombres premiers\n\nReprenez l'exercice du chapitre 6 *Tests* sur les nombres premiers.\n\nCréez une fonction `est_premier()` qui prend comme argument un nombre entier positif *n* (supérieur à 2) et qui renvoie le booléen `True` si *n* est premier et `False` si *n* n'est pas premier. Déterminez tous les nombres premiers de 2 à 100. On souhaite avoir une sortie similaire à celle-ci :\n\n```text\n  2 est premier\n  3 est premier\n  4 n'est pas premier\n[...]\n100 n'est pas premier\n```\n\n\n### Séquence complémentaire\n\nCréez une fonction `seq_comp()` qui prend comme argument une liste de bases et qui renvoie la séquence complémentaire d'une séquence d'ADN sous forme de liste.\n\nDans le programme principal, à partir de la séquence d'ADN \n`seq = [\"A\", \"T\", \"C\", \"G\", \"A\", \"T\", \"C\", \"G\", \"A\", \"T\", \"C\"]` \naffichez `seq` et sa séquence complémentaire (en utilisant votre fonction `seq_comp()`).\n\nRappel : la séquence complémentaire s'obtient en remplaçant A par T, T par A, C par G et G par C.",
          "Rappel : la séquence complémentaire s'obtient en remplaçant A par T, T par A, C par G et G par C.\n\n\n### Distance 3D\n\nCréez une fonction `calc_distance_3D()` qui calcule la distance euclidienne en trois dimensions entre deux atomes. Testez votre fonction sur les 2 points `A(0,0,0)` et `B(1,1,1)`. Trouvez-vous bien $\\sqrt{3}$ ?\n\nOn rappelle que la distance euclidienne *d* entre deux points A et B de coordonnées cartésiennes respectives $(x_A, y_A, z_A)$ et $(x_B, y_B, z_B)$ se calcule comme suit :\n\n$$\nd = \\sqrt{(x_B - x_A)^2 + (y_B - y_A)^2 + (z_B - z_A)^2}\n$$\n\n\n### Distribution et statistiques\n\nCréez une fonction `gen_distrib()` qui prend comme argument trois entiers : *debut*, *fin* et *n*. La fonction renverra une liste de $n$ *floats* aléatoires entre *debut* et *fin*. Pour générer un nombre aléatoire dans un intervalle donné, utilisez la fonction `uniform()` du module *random* dont voici quelques exemple d'utilisation :",
          "```python\n>>> import random\n>>> random.uniform(1, 10)\n8.199672607202174\n>>> random.uniform(1, 10)\n2.607528561528022\n>>> random.uniform(1, 10)\n9.000404025130946\n```\n\nAvec la fonction `random.uniform()`, les bornes passées en argument sont incluses, c'est-à-dire qu'ici, le nombre aléatoire renvoyé est dans l'intervalle [1, 10].\n\nCréez une autre fonction `calc_stat()` qui prend en argument une liste de *floats* et qui renvoie une liste de trois éléments contenant respectivement le minimum, le maximum et la moyenne de la liste.\n\nDans le programme principal, générez 20 listes aléatoires de 100 *floats* compris entre 0 et 100 et affichez le minimum (`min()`), le maximum (`max()`) et la moyenne pour chacune d'entre elles. La moyenne pourra être calculée avec les fonctions `sum()` et `len()`.",
          "Pour chacune des 20 listes, affichez les statistiques (min, max, et moyenne) avec deux chiffres après la virgule :\n```text\nListe  1 : min = 0.17 ; max = 99.72 ; moyenne = 57.38\nListe  2 : min = 1.25 ; max = 99.99 ; moyenne = 47.41\n[...]\nListe 19 : min = 1.05 ; max = 99.36 ; moyenne = 49.43\nListe 20 : min = 1.33 ; max = 97.63 ; moyenne = 46.53\n\n```\n\nLes écarts sur les statistiques entre les différentes listes sont-ils importants ? Relancez votre script avec des listes de 1000 éléments, puis 10 000 éléments. Les écarts changent-ils quand le nombre d'éléments par liste augmente ?\n\n\n### Distance à l'origine (exercice +++)\n\nEn reprenant votre fonction de calcul de distance euclidienne en 3D `calc_distance_3D()`, faites-en une version pour deux dimensions que vous appellerez `calc_distance_2D()`.",
          "En reprenant votre fonction de calcul de distance euclidienne en 3D `calc_distance_3D()`, faites-en une version pour deux dimensions que vous appellerez `calc_distance_2D()`.\n\nCréez une autre fonction `calc_dist2ori()` à laquelle vous passez en argument deux listes de *floats* `list_x` et `list_y` représentant les coordonnées d'une fonction mathématique (par exemple $x$ et $sin(x)$). Cette fonction renverra une liste de *floats* représentant la distance entre chaque point de la fonction et l'origine (de coordonnées $(0,0)$).\n\nLa figure @fig:sin2ori montre un exemple sur quelques points de la fonction $sin(x)$ (courbe en trait épais). Chaque trait pointillé représente la distance que l'on cherche à calculer entre les points de la courbe et l'origine du repère de coordonnées (0, 0).\n\n![Illustration de la distance à l'origine.](img/sin2ori.png){ #fig:sin2ori width=60% }",
          "![Illustration de la distance à l'origine.](img/sin2ori.png){ #fig:sin2ori width=60% }\n\nVotre programme générera un fichier `sin2ori.dat` qui contiendra deux colonnes : la première représente les $x$, la seconde la distance entre chaque point de la fonction $sin(x)$ à l'origine.\n\nEnfin, pour visualiser votre résultat, ajoutez le code suivant tout à la fin de votre script :\n\n```python\n# création d'une image pour la visualisation du résultat\nimport matplotlib.pyplot as plt\n\nx = []\ny = []\nwith open(\"sin2ori.dat\", \"r\") as f_in:\n    for line in f_in:\n        coords = line.split()\n        x.append(float(coords[0]))\n        y.append(float(coords[1]))\nplt.figure(figsize=(8,8))\nplt.plot(x, y)\nplt.xlabel(\"x\")\nplt.ylabel(\"Distance de sin(x)à l'origine\")\nplt.savefig(\"sin2ori.png\")\n```\n\nOuvrez l'image `sin2ori.png`.\n\nopen-box-rem\n\nLe module *matplotlib* sera expliqué en détail dans le chapitre 17 *Quelques modules d'intérêt en bioinformatique*.\n\nclose-box-rem"
         ],
         "marker": {
          "color": 1,
          "colorscale": [
           [
            0,
            "#440154"
           ],
           [
            0.1111111111111111,
            "#482878"
           ],
           [
            0.2222222222222222,
            "#3e4989"
           ],
           [
            0.3333333333333333,
            "#31688e"
           ],
           [
            0.4444444444444444,
            "#26828e"
           ],
           [
            0.5555555555555556,
            "#1f9e89"
           ],
           [
            0.6666666666666666,
            "#35b779"
           ],
           [
            0.7777777777777778,
            "#6ece58"
           ],
           [
            0.8888888888888888,
            "#b5de2b"
           ],
           [
            1,
            "#fde725"
           ]
          ],
          "opacity": 0.8,
          "size": 5
         },
         "mode": "markers",
         "name": "Fonctions",
         "type": "scatter3d",
         "x": [
          -0.14739642707921308,
          -0.20846240024563936,
          -0.21569253041734784,
          -0.08114361419792816,
          -0.13526164459563206,
          -0.10425091663319012,
          -0.11969602817232262,
          -0.09544232515583748,
          -0.05542340641315607,
          -0.14506414321129496,
          -0.09514422172827706,
          -0.0628162235042397,
          -0.04796660481930922,
          -0.014863632406939959,
          -0.026180912631333018,
          -0.007331338848613879,
          -0.10936357819197332,
          -0.1530475050082885,
          -0.16466802072712736,
          -0.13361195420133637,
          -0.11659855481735706,
          -0.0760456079497705,
          -0.00728923441460053,
          0.06603676301159951,
          -0.09944624664738463,
          -0.04307771795228019,
          -0.1340174803775116,
          -0.11790552924232521,
          -0.1195108027987085,
          -0.10489140681086143,
          -0.19495309307208977,
          -0.2580109316365603,
          -0.15829878903279884
         ],
         "y": [
          -0.22491402143578976,
          -0.24171907271542004,
          -0.2520832064052619,
          -0.1438810713180627,
          -0.15381968740779736,
          -0.2030786891824417,
          -0.24527387523980615,
          -0.2766245806871308,
          -0.2569001393126343,
          -0.27507929163801215,
          -0.26505796467409154,
          -0.29401280125135215,
          -0.2891551544830743,
          -0.2775958993704842,
          -0.2332920637617769,
          -0.17322843680542788,
          -0.16775296744088503,
          -0.13836205022975734,
          -0.040849195022235794,
          -0.10076183805660201,
          -0.10673258637486187,
          -0.02130013867896839,
          -0.08251235724085623,
          -0.11402388433199857,
          -0.09907369794810934,
          -0.08230617701436373,
          -0.08957434865695918,
          -0.10841205823587813,
          -0.10448855980788636,
          -0.16975297284170668,
          -0.10616838620377003,
          -0.16017968564021604,
          0.043421334081142765
         ],
         "z": [
          -0.2208296668794026,
          -0.019535635875895158,
          -0.02016431494122736,
          -0.1829660940519734,
          -0.24915249379273377,
          -0.3135500731690906,
          -0.2722532310210177,
          -0.13546869138176673,
          -0.2143339437393704,
          -0.26483982863025757,
          -0.2647953632372741,
          -0.3029939768651562,
          -0.33946512122167777,
          -0.26643859270039194,
          -0.2344875411148837,
          -0.20674478038836977,
          -0.3038349372234861,
          -0.2963990788164852,
          -0.2615424688325797,
          -0.36582789287605344,
          -0.30049510246185174,
          -0.1782127619432452,
          -0.18325018582866628,
          -0.1517860449688798,
          -0.18898904403180164,
          -0.20244467072607839,
          -0.13587210566561675,
          0.08885875444255341,
          0.1043492901385024,
          0.1983647582889218,
          0.19684549485964525,
          0.02302354104119226,
          -0.03508919676316351
         ]
        },
        {
         "hoverinfo": "text",
         "hovertext": [
          "Les notebooks Jupyter sont des cahiers électroniques qui, dans le même document, peuvent rassembler du texte, des images, des formules mathématiques et du code informatique exécutable. Ils sont manipulables interactivement dans un navigateur web.\n\nInitialement développés pour les langages de programmation Julia, Python et R (d'où le nom Jupyter), les notebooks Jupyter supportent près de 40 langages différents.\n\nLa cellule est l'élément de base d'un notebook Jupyter. Elle peut contenir du texte formaté au format Markdown ou du code informatique qui pourra être exécuté.\n\nVoici un exemple de notebook Jupyter (figure @fig:jupyter-exemple) :\n\n![Exemple de notebook Jupyter. Les chiffres entourés désignent les différentes cellules.](img/jupyter-exemple.png \"Exemple de notebook Jupyter\"){ #fig:jupyter-exemple width=80% }\n\nCe notebook est constitué de cinq cellules : deux avec du texte en Markdown (la première et la dernière) et trois avec du code Python (notées avec `In [ ]`).",
          "Ce notebook est constitué de cinq cellules : deux avec du texte en Markdown (la première et la dernière) et trois avec du code Python (notées avec `In [ ]`).\n\n## Installation\n\nAvec la distribution Miniconda, les notebooks Jupyter s'installent avec la commande :\n\n```bash\n$ conda install -y jupyterlab\n```\n\nPour être exact, la commande précédente installe un peu plus que les notebooks Jupyter mais nous verrons cela par la suite.\n\n\n## Lancement de Jupyter et création d'un notebook\n\nPour lancer les notebooks Jupyter, utilisez la commande suivante depuis un *shell* :\n\n```bash\n$ jupyter-notebook\n```\n\nUne nouvelle page devrait s'ouvrir dans votre navigateur web  et ressembler à la figure @fig:jupyter-interface.\n\n![Interface de Jupyter.](img/jupyter-interface.png \"Interface de Jupyter\"){ #fig:jupyter-interface width=80% }\n\nCette interface liste les notebooks Jupyter existants (pour le moment aucun).",
          "![Interface de Jupyter.](img/jupyter-interface.png \"Interface de Jupyter\"){ #fig:jupyter-interface width=80% }\n\nCette interface liste les notebooks Jupyter existants (pour le moment aucun).\n\nPour créer un notebook, cliquez sur le bouton à droite *New* puis sélectionnez *Python 3*. Vous noterez au passage qu'il est également possible de créer un fichier texte, un répertoire ou bien encore de lancer un *shell* via un *Terminal* (voir figure @fig:jupyter-nouveau-notebook).\n\n![Création d'un nouveau notebook.](img/jupyter-nouveau-notebook.png \"Création d'un nouveau notebook\"){ #fig:jupyter-nouveau-notebook width=80% }\n\nLe notebook fraîchement créé ne contient qu'une cellule vide.\n\n![Nouveau notebook.](img/jupyter-nouveau-notebook-vide.png \"Nouveau notebook\"){ #fig:jupyter-nouveau-notebook-vide width=80% }",
          "Le notebook fraîchement créé ne contient qu'une cellule vide.\n\n![Nouveau notebook.](img/jupyter-nouveau-notebook-vide.png \"Nouveau notebook\"){ #fig:jupyter-nouveau-notebook-vide width=80% }\n\nLa première chose à faire est de donner un nom à votre notebook en cliquant sur *Untitled*, à droite du logo de Jupyter. Si le nom de votre notebook est *test* alors le fichier *test.ipynb* sera créé dans le répertoire depuis lequel vous avez lancé Jupyter.\n\nopen-box-rem\n\nL'extension *.ipynb* est l'extension de fichier des notebooks Jupyter.\n\nclose-box-rem\n\nVous pouvez entrer des instructions Python dans la première cellule. Par exemple :\n\n```python\na = 2\nb = 3\nprint(a+b)\n```\n\nPour exécuter le contenu de cette cellule, vous avez plusieurs possibilités :\n\n- Cliquer sur le menu *Cell*, puis *Run Cells*.\n- Cliquer sur le bouton *Run* (sous la barre de menu).\n- Presser simultanément les touches *Ctrl* + *Entrée*.",
          "- Cliquer sur le menu *Cell*, puis *Run Cells*.\n- Cliquer sur le bouton *Run* (sous la barre de menu).\n- Presser simultanément les touches *Ctrl* + *Entrée*.\n\nDans tous les cas, vous devriez obtenir quelque chose qui ressemble à l'image @fig:jupyter-cellule-1. La notation `In [1]` à gauche de la cellule indique qu'il s'agit de la première cellule exécutée.\n\n![Exécution d'une première cellule.](img/jupyter-cellule-1.png \"Exécution d'une première cellule.\"){ #fig:jupyter-cellule-1 width=80% }\n\nPour créer une nouvelle cellule, vous avez, ici encore, plusieurs possibilités :\n\n- Cliquer sur l’icône *+* sous la barre de menu.\n- Cliquer sur le menu *Insert*, puis *Insert Cell Below*.\n\nUne nouvelle cellule vide devrait apparaître.",
          "- Cliquer sur l’icône *+* sous la barre de menu.\n- Cliquer sur le menu *Insert*, puis *Insert Cell Below*.\n\nUne nouvelle cellule vide devrait apparaître.\n\nVous pouvez également créer une nouvelle cellule en positionnant votre curseur dans la première cellule, puis en pressant simultanément les touches *Alt* + *Entrée*. Si vous utilisez cette combinaison de touches, vous remarquerez que le numéro à gauche de la première cellule est passée de `In [1]` à `In [2]` car vous avez exécuté la première cellule *puis* créé une nouvelle cellule.\n\nVous pouvez ainsi créer plusieurs cellules les unes à la suite des autres. Un objet créé dans une cellule antérieure sera disponible dans les cellules suivantes. Par exemple, dans la figure @fig:jupyter-cellule-4, nous avons quatre cellules. Vous remarquerez que pour les cellules 3 et 4, le résultat renvoyé par le code Python est précédé par `Out [3]` et `Out [4]`.",
          "![Notebook avec plusieurs cellules de code Python.](img/jupyter-cellule-4.png \"Notebook avec plusieurs cellules de code Python\"){ #fig:jupyter-cellule-4 width=80% }\n\nDans un notebook Jupyter, il est parfaitement possible de réexécuter une cellule précédente. Par exemple la première cellule, qui porte désormais à sa gauche la numérotation `In [5]` (voir figure @fig:jupyter-cellule-4-mauvais-ordre).\n\n![Notebook avec une cellule ré-exécutée.](img/jupyter-cellule-4-mauvais-ordre.png \"Notebook avec une cellule ré-executée.\"){ #fig:jupyter-cellule-4-mauvais-ordre width=80% }\n\nopen-box-warn\n\nLa possibilité d'exécuter les cellules d'un notebook Jupyter dans un ordre arbitraire peut prêter à confusion, notamment si vous modifiez la même variable d'une cellule à l'autre.",
          "open-box-warn\n\nLa possibilité d'exécuter les cellules d'un notebook Jupyter dans un ordre arbitraire peut prêter à confusion, notamment si vous modifiez la même variable d'une cellule à l'autre.\n\nNous vous recommandons de régulièrement relancer complètement l'exécution de toutes les cellules de votre notebook, de la première à la dernière, en cliquant sur le menu *Kernel* puis *Restart & Run All* et enfin de valider le message *Restart and Run All Cells*.\n\nclose-box-warn\n\n\n## Le format Markdown\n\nDans le tout premier exemple (figure @fig:jupyter-exemple), nous avons vu qu'il était possible de mettre du texte au format Markdown dans une cellule.\n\nIl faut cependant indiquer à Jupyter que cette cellule est au format Markdown en cliquant sur *Code* sous la barre de menu puis en choisissant *Markdown*.",
          "Il faut cependant indiquer à Jupyter que cette cellule est au format Markdown en cliquant sur *Code* sous la barre de menu puis en choisissant *Markdown*.\n\nLe format Markdown permet de rédiger du texte formaté (gras, italique, liens, titres, images, formules mathématiques...) avec quelques balises très simples. Voici un exemple dans une notebook Jupyter (figure @fig:jupyter-markdown-1) et le rendu lorsque la cellule est exécutée (figure @fig:jupyter-markdown-2).\n\n![Notebook avec une cellule au format Markdown.](img/jupyter-markdown-1.png \"Notebook avec une cellule au format Markdown.\"){ #fig:jupyter-markdown-1 width=80% }\n\n![Notebook avec une cellule au format Markdown (après exécution).](img/jupyter-markdown-2.png \"Notebook avec une cellule au format Markdown (après exécution).\"){ #fig:jupyter-markdown-2 width=80% }\n\nNotez qu'une cellule Markdown n'a pas le marqueur `In [ ]` à sa gauche.",
          "Notez qu'une cellule Markdown n'a pas le marqueur `In [ ]` à sa gauche.\n\nLe format Markdown permet de rapidement et très simplement rédiger du texte structuré. Ce cours est par exemple complètement rédigé en Markdown ;-)\n\nNous vous conseillons d'explorer les possibilités du Markdown en consultant la page [Wikipédia](https://fr.wikipedia.org/wiki/Markdown) ou directement la [page de référence](https://daringfireball.net/projects/markdown/syntax).\n\n\n## Des graphiques dans les notebooks\n\nUn autre intérêt des notebooks Jupyter est de pouvoir y incorporer des graphiques réalisés avec la bibliothèque *matplotlib*.\n\nVoici un exemple en reprenant un graphique présenté dans le chapitre 17 *Quelques modules d'intérêt en bioinformatique* (figure @fig:jupyter-matplotlib).\n\n![Incorporation d'un graphique dans un notebook Jupyter.](img/jupyter-matplotlib.png \"Incorporation d'un graphique dans un notebook Jupyter.\"){ #fig:jupyter-matplotlib width=80% }",
          "![Incorporation d'un graphique dans un notebook Jupyter.](img/jupyter-matplotlib.png \"Incorporation d'un graphique dans un notebook Jupyter.\"){ #fig:jupyter-matplotlib width=80% }\n\nLa différence notable est l'utilisation de la commande :  \n`%matplotlib inline`  \nqui n'est à lancer qu'une seule fois (en général dans la première cellule du notebook) et qui permet l'incorporation de figures dans un notebook Jupyter.\n\nopen-box-rem\n\nPour quitter l'interface des notebooks Jupyter, il faut, dans le premier onglet qui est apparu, cliquer sur le bouton *Quit* (figure @fig:jupyter-interface).\n\nUne méthode plus radicale est de revenir sur le *shell* depuis lequel les notebooks Jupyter ont été lancés puis de presser deux fois la combinaison de touches *Ctrl* + *C*.\n\nclose-box-rem\n\n\n## Les *magic commands*\n\nLa commande précédente (`%matplotlib inline`) est une *magic command*. Il en existe beaucoup, en voici deux :",
          "close-box-rem\n\n\n## Les *magic commands*\n\nLa commande précédente (`%matplotlib inline`) est une *magic command*. Il en existe beaucoup, en voici deux :\n\n- `%whos` liste tous les objets (variables, fonctions, modules...) utilisés dans le notebook (voir figure @fig:jupyter-whos).\n- `%history` liste toutes les commandes Python lancées dans un notebook (voir figure @fig:jupyter-history).\n\n![*Magic command* `%whos`.](img/jupyter-whos.png){ #fig:jupyter-whos width=80% }\n\n![*Magic command* `%history`.](img/jupyter-history.png){ #fig:jupyter-history width=80% }\n\nEnfin, avec les environnements Linux ou Mac OS X, il est possible de lancer une commande Unix depuis un notebook Jupyter. Il faut pour cela précéder la commande du symbole « `!` ». La figure @fig:jupyter-ls illustre cette possibilité avec la commande `ls` qui affiche le contenu d'un répertoire.\n\n![Lancement d'une commande Unix.](img/jupyter-ls.png){ #fig:jupyter-ls width=80% }\n\nopen-box-rem",
          "![Lancement d'une commande Unix.](img/jupyter-ls.png){ #fig:jupyter-ls width=80% }\n\nopen-box-rem\n\nLe lancement de n'importe quelle commande Unix depuis un notebook Jupyter (en précédant cette commande de `!`) est une fonctionnalité très puissante.\n\nPour vous en rendre compte, jetez un œil au [notebook](https://github.com/MaayanLab/Zika-RNAseq-Pipeline/blob/master/Zika.ipynb) produit par les chercheurs Zichen Wang et Avi Ma'ayan qui reproduit l'analyse complète de données obtenues par séquençage haut débit. Ces analyses ont donné lieu à la publication de l'article scientifique « [*An open RNA-Seq data analysis pipeline tutorial with an example of reprocessing data from a recent Zika virus study*](https://f1000research.com/articles/5-1574/) » (F1000 Research, 2016).\n\nclose-box-rem\n\n\n## JupyterLab\n\nEn 2018, le consortium Jupyter a lancé *JupyterLab* qui est un environnement complet d'analyse.\nPour obtenir cette interface, lancez la commande suivante depuis un *shell* :",
          "## JupyterLab\n\nEn 2018, le consortium Jupyter a lancé *JupyterLab* qui est un environnement complet d'analyse.\nPour obtenir cette interface, lancez la commande suivante depuis un *shell* :\n\n```bash\n$ jupyter lab\n```\n\nUne nouvelle page devrait s'ouvrir dans votre navigateur web et vous devriez\nobtenir une interface similaire à la figure @fig:jupyterlab-1.\n\n![Interface de JupyterLab.](img/jupyterlab-1.png \"Interface de JupyterLab.\"){ #fig:jupyterlab-1 width=95% }\n\nL'interface proposée par JupyterLab est très riche. On peut y organiser un notebook Jupyter « classique » avec une figure en encart, un *shell* (voir figure @fig:jupyterlab-2)... Les possibilités sont infinies !\n\n![JupyterLab comme environnement d'analyse.](img/jupyterlab-2.png \"JupyterLab comme environnement d'analyse.\"){ #fig:jupyterlab-2 width=95% }\n\nopen-box-more\n\nLes *notebooks* Jupyter sont particulièrement adaptés à l'analyse de données en combinaison avec les modules *matplotlib* et *pandas*.\n\nclose-box-more"
         ],
         "marker": {
          "color": 2,
          "colorscale": [
           [
            0,
            "#440154"
           ],
           [
            0.1111111111111111,
            "#482878"
           ],
           [
            0.2222222222222222,
            "#3e4989"
           ],
           [
            0.3333333333333333,
            "#31688e"
           ],
           [
            0.4444444444444444,
            "#26828e"
           ],
           [
            0.5555555555555556,
            "#1f9e89"
           ],
           [
            0.6666666666666666,
            "#35b779"
           ],
           [
            0.7777777777777778,
            "#6ece58"
           ],
           [
            0.8888888888888888,
            "#b5de2b"
           ],
           [
            1,
            "#fde725"
           ]
          ],
          "opacity": 0.8,
          "size": 5
         },
         "mode": "markers",
         "name": "Jupyter et ses notebooks",
         "type": "scatter3d",
         "x": [
          -0.2988092211438102,
          -0.31636596744630363,
          -0.3308968962877051,
          -0.3250918805177674,
          -0.30081732355948,
          -0.2821338026924879,
          -0.24909529746653666,
          -0.23045960549564248,
          -0.1460304673806076,
          -0.18856743554819838,
          -0.21878602579520331,
          -0.21828958981565325,
          -0.2929383499589362,
          -0.2943992016872073
         ],
         "y": [
          0.5365092837855581,
          0.5114583691829307,
          0.5410499625998202,
          0.470125722572691,
          0.4467919089341423,
          0.3587604000153248,
          0.40657716709975544,
          0.5130272369035348,
          0.5338768218385521,
          0.48352877903582286,
          0.47358447421121386,
          0.35084631630480584,
          0.5048274329892541,
          0.5415575290215241
         ],
         "z": [
          -0.04263187228392361,
          -0.001343297352219545,
          -0.029097940304212127,
          -0.08475168867693232,
          -0.08102796284999485,
          -0.03411041470615628,
          -0.09703753610000351,
          -0.07435664538397352,
          -0.009777781341819971,
          0.03207903793690034,
          -0.07506089252141881,
          -0.04479110785951985,
          -0.01986199075087678,
          -0.022042793686121435
         ]
        },
        {
         "hoverinfo": "text",
         "hovertext": [
          "## Définition\n\nUne **liste** est une structure de données qui contient une série de valeurs. Python autorise la construction de liste contenant des valeurs de types différents (par exemple entier et chaîne de caractères), ce qui leur confère une grande flexibilité. Une liste est déclarée par une série de valeurs (n'oubliez pas les guillemets, simples ou doubles, s'il s'agit de chaînes de caractères) séparées par des **virgules**, et le tout encadré par des **crochets**. En voici quelques exemples :\n\n```python\n>>> animaux = [\"girafe\", \"tigre\", \"singe\", \"souris\"]\n>>> tailles = [5, 2.5, 1.75, 0.15]\n>>> mixte = [\"girafe\", 5, \"souris\", 0.15]\n>>> animaux\n['girafe', 'tigre', 'singe', 'souris']\n>>> tailles\n[5, 2.5, 1.75, 0.15]\n>>> mixte\n['girafe', 5, 'souris', 0.15]\n```\n\nLorsque l'on affiche une liste, Python la restitue telle qu'elle a été saisie.\n\n\n## Utilisation",
          "Lorsque l'on affiche une liste, Python la restitue telle qu'elle a été saisie.\n\n\n## Utilisation\n\nUn des gros avantages d'une liste est que vous pouvez appeler ses éléments par leur position. Ce numéro est appelé **indice** (ou *index*) de la liste.\n\n```text\nliste  : [\"girafe\", \"tigre\", \"singe\", \"souris\"]\nindice :        0        1        2         3\n```\n\nSoyez très **attentif** au fait que les indices d'une liste de *n* éléments commencent à *0* et se terminent à *n-1*. Voyez l'exemple suivant :\n\n```python\n>>> animaux = [\"girafe\", \"tigre\", \"singe\", \"souris\"]\n>>> animaux[0]\n'girafe'\n>>> animaux[1]\n'tigre'\n>>> animaux[3]\n'souris'\n```\n\nPar conséquent, si on appelle l'élément d'indice 4 de notre liste, Python renverra un message d'erreur :\n\n```python\n>>> animaux[4]\nTraceback (innermost last):\n  File \"<stdin>\", line 1, in ?\nIndexError: list index out of range\n```\n\nN'oubliez pas ceci ou vous risquez d'obtenir des bugs inattendus !\n\n\n## Opération sur les listes",
          "N'oubliez pas ceci ou vous risquez d'obtenir des bugs inattendus !\n\n\n## Opération sur les listes\n\nTout comme les chaînes de caractères, les listes supportent l'opérateur `+` de concaténation, ainsi que l'opérateur `*` pour la duplication :\n\n```python\n>>> ani1 = [\"girafe\", \"tigre\"]\n>>> ani2 = [\"singe\", \"souris\"]\n>>> ani1 + ani2\n['girafe', 'tigre', 'singe', 'souris']\n>>> ani1 * 3\n['girafe', 'tigre', 'girafe', 'tigre', 'girafe', 'tigre']\n```\n\nL'opérateur `+` est très pratique pour concaténer deux listes.\n\nVous pouvez aussi utiliser la méthode `.append()` lorsque vous souhaitez ajouter un seul élément à la fin d'une liste.\n\nDans l'exemple suivant nous allons créer une liste vide :\n\n```python\n>>> a = []\n>>> a\n[]\n```\n\npuis lui ajouter deux éléments, l'un après l'autre, d'abord avec la concaténation :\n\n```python\n>>> a = a + [15]\n>>> a\n[15]\n>>> a = a + [-5]\n>>> a\n[15, -5]\n```\n\npuis avec la méthode `.append()` :",
          "puis lui ajouter deux éléments, l'un après l'autre, d'abord avec la concaténation :\n\n```python\n>>> a = a + [15]\n>>> a\n[15]\n>>> a = a + [-5]\n>>> a\n[15, -5]\n```\n\npuis avec la méthode `.append()` :\n\n```python\n>>> a.append(13)\n>>> a\n[15, -5, 13]\n>>> a.append(-3)\n>>> a\n[15, -5, 13, -3]\n```\n\nDans l'exemple ci-dessus, nous ajoutons des éléments à une liste en utilisant l'opérateur de concaténation `+` ou la méthode `.append()`. Nous vous conseillons dans ce cas précis d'utiliser la méthode `.append()` dont la syntaxe est plus élégante.\n\nNous reverrons en détail la méthode `.append()` dans le chapitre 11 *Plus sur les listes*.\n\n\n## Indiçage négatif\n\nLa liste peut également être indexée avec des nombres négatifs selon le modèle suivant :\n\n```text\nliste          : [\"girafe\", \"tigre\", \"singe\", \"souris\"]\nindice positif :        0        1        2         3\nindice négatif :       -4       -3       -2        -1\n```\n\nou encore :",
          "```text\nliste          : [\"girafe\", \"tigre\", \"singe\", \"souris\"]\nindice positif :        0        1        2         3\nindice négatif :       -4       -3       -2        -1\n```\n\nou encore :\n\n```text\nliste          : [\"A\", \"B\", \"C\", \"D\", \"E\", \"F\"]\nindice positif :   0    1    2    3    4    5\nindice négatif :  -6   -5   -4   -3   -2   -1\n```\n\nLes indices négatifs reviennent à compter à partir de la fin. Leur principal avantage est que vous pouvez accéder au dernier élément d'une liste à l'aide de l'indice `-1` sans pour autant connaître la longueur de cette liste. L'avant-dernier élément a lui l'indice `-2`, l'avant-avant dernier l'indice `-3`, etc.\n\n```python\n>>> animaux = [\"girafe\", \"tigre\", \"singe\", \"souris\"]\n>>> animaux[-1]\n'souris'\n>>> animaux[-2]\n'singe'\n```\n\nPour accéder au premier élément de la liste avec un indice négatif, il faut par contre connaître le bon indice :\n\n```python\n>>> animaux[-4]\n'girafe'\n```\n\nDans ce cas, on utilise plutôt `animaux[0]`.\n\n\n## Tranches",
          "```python\n>>> animaux[-4]\n'girafe'\n```\n\nDans ce cas, on utilise plutôt `animaux[0]`.\n\n\n## Tranches\n\nUn autre avantage des listes est la possibilité de sélectionner une partie d'une liste en utilisant un indiçage construit sur le modèle `[m:n+1]` pour récupérer tous les éléments, du émième au énième (de l'élément `m` inclus à l'élément `n+1` exclu). On dit alors qu'on récupère une **tranche** de la liste, par exemple :\n\n```python\n>>> animaux = [\"girafe\", \"tigre\", \"singe\", \"souris\"]\n>>> animaux[0:2]\n['girafe', 'tigre']\n>>> animaux[0:3]\n['girafe', 'tigre', 'singe']\n>>> animaux[0:]\n['girafe', 'tigre', 'singe', 'souris']\n>>> animaux[:]\n['girafe', 'tigre', 'singe', 'souris']\n>>> animaux[1:]\n['tigre', 'singe', 'souris']\n>>> animaux[1:-1]\n['tigre', 'singe']\n```\n\nNotez que lorsqu'aucun indice n'est indiqué à gauche ou à droite du symbole deux-points, Python prend par défaut tous les éléments depuis le début ou tous les éléments jusqu'à la fin respectivement.",
          "Notez que lorsqu'aucun indice n'est indiqué à gauche ou à droite du symbole deux-points, Python prend par défaut tous les éléments depuis le début ou tous les éléments jusqu'à la fin respectivement.\n\nOn peut aussi préciser le pas en ajoutant un symbole deux-points supplémentaire et en indiquant le pas par un entier.\n\n```python\n>>> animaux = [\"girafe\", \"tigre\", \"singe\", \"souris\"]\n>>> animaux[0:3:2]\n['girafe', 'singe']\n>>> x = [0, 1, 2, 3, 4, 5, 6, 7, 8, 9]\n>>> x\n[0, 1, 2, 3, 4, 5, 6, 7, 8, 9]\n>>> x[::1]\n[0, 1, 2, 3, 4, 5, 6, 7, 8, 9]\n>>> x[::2]\n[0, 2, 4, 6, 8]\n>>> x[::3]\n[0, 3, 6, 9]\n>>> x[1:6:3]\n[1, 4]\n```\n\nFinalement, on se rend compte que l'accès au contenu d'une liste fonctionne sur le modèle `liste[début:fin:pas]`.\n\n\n## Fonction `len()`\n\nL'instruction `len()` vous permet de connaître la longueur d'une liste, c'est-à-dire le nombre d'éléments que contient la liste. Voici un exemple d'utilisation :",
          "## Fonction `len()`\n\nL'instruction `len()` vous permet de connaître la longueur d'une liste, c'est-à-dire le nombre d'éléments que contient la liste. Voici un exemple d'utilisation :\n\n```python\n>>> animaux = [\"girafe\", \"tigre\", \"singe\", \"souris\"]\n>>> len(animaux)\n4\n>>> len([1, 2, 3, 4, 5, 6, 7, 8])\n8\n```\n\n\n## Les fonctions `range()` et `list()`\n\nL'instruction `range()` est une fonction spéciale en Python qui  génère des nombres entiers compris dans un intervalle. Lorsqu'elle est utilisée en combinaison avec la fonction `list()`, on obtient une liste d'entiers. Par exemple :\n\n```python\n>>> list(range(10))\n[0, 1, 2, 3, 4, 5, 6, 7, 8, 9]\n```\n\nLa commande `list(range(10))` a généré une liste contenant tous les nombres entiers de 0 inclus à 10 **exclu**. Nous verrons l'utilisation de la fonction `range()` toute seule dans le chapitre 5 *Boucles et comparaisons*.",
          "Dans l'exemple ci-dessus, la fonction `range()` a pris un argument, mais elle peut également prendre deux ou trois arguments, voyez plutôt :\n\n```python\n>>> list(range(0, 5))\n[0, 1, 2, 3, 4]\n>>> list(range(15, 20))\n[15, 16, 17, 18, 19]\n>>> list(range(0, 1000, 200))\n[0, 200, 400, 600, 800]\n>>> list(range(2, -2, -1))\n[2, 1, 0, -1]\n```\n\nL'instruction `range()` fonctionne sur le modèle `range([début,] fin[, pas])`. Les arguments entre crochets sont optionnels. Pour obtenir une liste de nombres entiers, il faut l'utiliser systématiquement avec la fonction `list()`.\n\nEnfin, prenez garde aux arguments optionnels par défaut (`0` pour `début` et `1` pour `pas`) :\n\n```python\n>>> list(range(10,0))\n[]\n```",
          "Enfin, prenez garde aux arguments optionnels par défaut (`0` pour `début` et `1` pour `pas`) :\n\n```python\n>>> list(range(10,0))\n[]\n```\n\nIci la liste est vide car Python a pris la valeur du pas par défaut qui est de 1. Ainsi, si on commence à 10 et qu'on avance par pas de 1, on ne pourra jamais atteindre 0. Python génère ainsi une liste vide. Pour éviter ça, il faudrait, par exemple, préciser un pas de -1 pour obtenir une liste d'entiers décroissants :\n\n```python\n>>> list(range(10,0,-1))\n[10, 9, 8, 7, 6, 5, 4, 3, 2, 1]\n```\n\n## Listes de listes\n\nPour finir, sachez qu'il est tout à fait possible de construire des listes de listes. Cette fonctionnalité peut parfois être très pratique. Par exemple :\n\n```python\n>>> enclos1 = [\"girafe\", 4]\n>>> enclos2 = [\"tigre\", 2]\n>>> enclos3 = [\"singe\", 5]\n>>> zoo = [enclos1, enclos2, enclos3]\n>>> zoo\n[['girafe', 4], ['tigre', 2], ['singe', 5]]\n```",
          "```python\n>>> enclos1 = [\"girafe\", 4]\n>>> enclos2 = [\"tigre\", 2]\n>>> enclos3 = [\"singe\", 5]\n>>> zoo = [enclos1, enclos2, enclos3]\n>>> zoo\n[['girafe', 4], ['tigre', 2], ['singe', 5]]\n```\n\nDans cet exemple, chaque sous-liste contient une catégorie d'animal et le nombre d'animaux pour chaque catégorie.\n\nPour accéder à un élément de la liste, on utilise l'indiçage habituel :\n\n```python\n>>> zoo[1]\n['tigre', 2]\n```\n\nPour accéder à un élément de la sous-liste, on utilise un double indiçage :\n\n```python\n>>> zoo[1][0]\n'tigre'\n>>> zoo[1][1]\n2\n```\n\nOn verra un peu plus loin qu'il existe en Python des dictionnaires qui sont également très pratiques pour stocker de l'information structurée. On verra aussi qu'il existe un module nommé *NumPy* qui permet de créer des listes ou des tableaux de nombres (vecteurs et matrices) et de les manipuler.\n\n## Minimum, maximum et somme d'une liste",
          "## Minimum, maximum et somme d'une liste\n\nLes fonctions `min()`, `max()` et `sum()` renvoient respectivement le minimum, le maximum et la somme d'une liste passée en argument.\n\n```python\n>>> liste = list(range(10))\n>>> liste\n[0, 1, 2, 3, 4, 5, 6, 7, 8, 9]\n>>> sum(liste)\n45\n>>> min(liste)\n0\n>>> max(liste)\n9\n```\n\nMême si en théorie ces fonctions peuvent prendre en argument une liste de *strings*, on les utilisera la plupart du temps avec des types numériques (liste d'entiers et / ou de *floats*). \n\nNous avions déjà croisé `min()`, `max()` dans le chapitre 2 *Variables*. On avait vu que ces deux fonctions pouvaient prendre plusieurs arguments entiers et / ou *floats*, par exemple :\n\n```python\n>>> min(3, 4)\n3\n```\n\nAttention toutefois à ne pas mélanger entiers et *floats* d'une part avec une liste d'autre part, car cela renvoie une erreur :",
          "```python\n>>> min(3, 4)\n3\n```\n\nAttention toutefois à ne pas mélanger entiers et *floats* d'une part avec une liste d'autre part, car cela renvoie une erreur :\n\n```python\n>>> min(liste, 3, 4)\nTraceback (most recent call last):\n  File \"<stdin>\", line 1, in <module>\nTypeError: '<' not supported between instances of 'int' and 'list'\n```\n\nSoit on passe plusieurs entiers et / ou *floats* en argument, soit on passe une liste unique.\n\n## Exercices\n\n*Conseil* : utilisez l'interpréteur Python.\n\n\n### Jours de la semaine\n\nConstituez une liste `semaine` contenant les 7 jours de la semaine.\n\n1. À partir de cette liste, comment récupérez-vous seulement les 5 premiers jours de la semaine d'une part, et ceux du week-end d'autre part ? Utilisez pour cela l'indiçage.\n2. Cherchez un autre moyen pour arriver au même résultat (*en utilisant un autre indiçage*).\n3. Trouvez deux manières pour accéder au dernier jour de la semaine.\n4. Inversez les jours de la semaine en une commande.\n\n\n### Saisons",
          "### Saisons\n\nCréez 4 listes `hiver`, `printemps`, `ete` et `automne` contenant les mois correspondants à ces saisons. Créez ensuite une liste `saisons` contenant les listes `hiver`, `printemps`, `ete` et `automne`. Prévoyez ce que renvoient les instructions suivantes, puis vérifiez-le dans l'interpréteur :\n\n1. `saisons[2]`\n2. `saisons[1][0]`\n3. `saisons[1:2]`\n4. `saisons[:][1]`. Comment expliquez-vous ce dernier résultat ?\n\n\n### Table de multiplication par 9\n\nAffichez la table de multiplication par 9 en une seule commande avec les instructions `range()` et `list()`.\n\n\n### Nombres pairs\n\nRépondez à la question suivante en une seule commande. Combien y a-t-il de nombres pairs dans l'intervalle `[2, 10000]` inclus ?"
         ],
         "marker": {
          "color": 3,
          "colorscale": [
           [
            0,
            "#440154"
           ],
           [
            0.1111111111111111,
            "#482878"
           ],
           [
            0.2222222222222222,
            "#3e4989"
           ],
           [
            0.3333333333333333,
            "#31688e"
           ],
           [
            0.4444444444444444,
            "#26828e"
           ],
           [
            0.5555555555555556,
            "#1f9e89"
           ],
           [
            0.6666666666666666,
            "#35b779"
           ],
           [
            0.7777777777777778,
            "#6ece58"
           ],
           [
            0.8888888888888888,
            "#b5de2b"
           ],
           [
            1,
            "#fde725"
           ]
          ],
          "opacity": 0.8,
          "size": 5
         },
         "mode": "markers",
         "name": "Listes",
         "type": "scatter3d",
         "x": [
          -0.23891034821303941,
          -0.2480915062048939,
          -0.17826287942420485,
          -0.21372403359418185,
          -0.2589533264979965,
          -0.24006226417523263,
          -0.2260673549960422,
          -0.2567978596114692,
          -0.19925541024469628,
          -0.2893665228550668,
          -0.2746915110108575,
          -0.19965047223571816,
          -0.20485032097788175,
          -0.2290769360357403
         ],
         "y": [
          -0.16548738441547617,
          -0.15719614224775663,
          -0.13634779917633766,
          -0.1515467883895148,
          -0.14388600155743558,
          -0.17558969194279228,
          -0.1992156857789921,
          -0.19060109407451498,
          -0.2696569047208721,
          -0.20915772944032782,
          -0.17594314507587466,
          -0.28379024828460353,
          -0.21529441493150842,
          -0.11769627835284423
         ],
         "z": [
          0.3419410568369783,
          0.37562587445005424,
          0.33854053417160557,
          0.4462351900459969,
          0.4827083944971482,
          0.4719365213476934,
          0.4118095199645888,
          0.3408376105802702,
          0.1479053758131074,
          0.29499763313833444,
          0.42686577879852844,
          0.24343073364749918,
          0.2837614178660892,
          0.19334427421189365
         ]
        }
       ],
       "layout": {
        "autosize": false,
        "height": 500,
        "margin": {
         "b": 100,
         "l": 50,
         "pad": 10,
         "r": 50,
         "t": 100
        },
        "scene": {
         "xaxis": {
          "title": {
           "text": "x"
          }
         },
         "yaxis": {
          "title": {
           "text": "y"
          }
         },
         "zaxis": {
          "title": {
           "text": "z"
          }
         }
        },
        "template": {
         "data": {
          "bar": [
           {
            "error_x": {
             "color": "#2a3f5f"
            },
            "error_y": {
             "color": "#2a3f5f"
            },
            "marker": {
             "line": {
              "color": "#E5ECF6",
              "width": 0.5
             },
             "pattern": {
              "fillmode": "overlay",
              "size": 10,
              "solidity": 0.2
             }
            },
            "type": "bar"
           }
          ],
          "barpolar": [
           {
            "marker": {
             "line": {
              "color": "#E5ECF6",
              "width": 0.5
             },
             "pattern": {
              "fillmode": "overlay",
              "size": 10,
              "solidity": 0.2
             }
            },
            "type": "barpolar"
           }
          ],
          "carpet": [
           {
            "aaxis": {
             "endlinecolor": "#2a3f5f",
             "gridcolor": "white",
             "linecolor": "white",
             "minorgridcolor": "white",
             "startlinecolor": "#2a3f5f"
            },
            "baxis": {
             "endlinecolor": "#2a3f5f",
             "gridcolor": "white",
             "linecolor": "white",
             "minorgridcolor": "white",
             "startlinecolor": "#2a3f5f"
            },
            "type": "carpet"
           }
          ],
          "choropleth": [
           {
            "colorbar": {
             "outlinewidth": 0,
             "ticks": ""
            },
            "type": "choropleth"
           }
          ],
          "contour": [
           {
            "colorbar": {
             "outlinewidth": 0,
             "ticks": ""
            },
            "colorscale": [
             [
              0,
              "#0d0887"
             ],
             [
              0.1111111111111111,
              "#46039f"
             ],
             [
              0.2222222222222222,
              "#7201a8"
             ],
             [
              0.3333333333333333,
              "#9c179e"
             ],
             [
              0.4444444444444444,
              "#bd3786"
             ],
             [
              0.5555555555555556,
              "#d8576b"
             ],
             [
              0.6666666666666666,
              "#ed7953"
             ],
             [
              0.7777777777777778,
              "#fb9f3a"
             ],
             [
              0.8888888888888888,
              "#fdca26"
             ],
             [
              1,
              "#f0f921"
             ]
            ],
            "type": "contour"
           }
          ],
          "contourcarpet": [
           {
            "colorbar": {
             "outlinewidth": 0,
             "ticks": ""
            },
            "type": "contourcarpet"
           }
          ],
          "heatmap": [
           {
            "colorbar": {
             "outlinewidth": 0,
             "ticks": ""
            },
            "colorscale": [
             [
              0,
              "#0d0887"
             ],
             [
              0.1111111111111111,
              "#46039f"
             ],
             [
              0.2222222222222222,
              "#7201a8"
             ],
             [
              0.3333333333333333,
              "#9c179e"
             ],
             [
              0.4444444444444444,
              "#bd3786"
             ],
             [
              0.5555555555555556,
              "#d8576b"
             ],
             [
              0.6666666666666666,
              "#ed7953"
             ],
             [
              0.7777777777777778,
              "#fb9f3a"
             ],
             [
              0.8888888888888888,
              "#fdca26"
             ],
             [
              1,
              "#f0f921"
             ]
            ],
            "type": "heatmap"
           }
          ],
          "heatmapgl": [
           {
            "colorbar": {
             "outlinewidth": 0,
             "ticks": ""
            },
            "colorscale": [
             [
              0,
              "#0d0887"
             ],
             [
              0.1111111111111111,
              "#46039f"
             ],
             [
              0.2222222222222222,
              "#7201a8"
             ],
             [
              0.3333333333333333,
              "#9c179e"
             ],
             [
              0.4444444444444444,
              "#bd3786"
             ],
             [
              0.5555555555555556,
              "#d8576b"
             ],
             [
              0.6666666666666666,
              "#ed7953"
             ],
             [
              0.7777777777777778,
              "#fb9f3a"
             ],
             [
              0.8888888888888888,
              "#fdca26"
             ],
             [
              1,
              "#f0f921"
             ]
            ],
            "type": "heatmapgl"
           }
          ],
          "histogram": [
           {
            "marker": {
             "pattern": {
              "fillmode": "overlay",
              "size": 10,
              "solidity": 0.2
             }
            },
            "type": "histogram"
           }
          ],
          "histogram2d": [
           {
            "colorbar": {
             "outlinewidth": 0,
             "ticks": ""
            },
            "colorscale": [
             [
              0,
              "#0d0887"
             ],
             [
              0.1111111111111111,
              "#46039f"
             ],
             [
              0.2222222222222222,
              "#7201a8"
             ],
             [
              0.3333333333333333,
              "#9c179e"
             ],
             [
              0.4444444444444444,
              "#bd3786"
             ],
             [
              0.5555555555555556,
              "#d8576b"
             ],
             [
              0.6666666666666666,
              "#ed7953"
             ],
             [
              0.7777777777777778,
              "#fb9f3a"
             ],
             [
              0.8888888888888888,
              "#fdca26"
             ],
             [
              1,
              "#f0f921"
             ]
            ],
            "type": "histogram2d"
           }
          ],
          "histogram2dcontour": [
           {
            "colorbar": {
             "outlinewidth": 0,
             "ticks": ""
            },
            "colorscale": [
             [
              0,
              "#0d0887"
             ],
             [
              0.1111111111111111,
              "#46039f"
             ],
             [
              0.2222222222222222,
              "#7201a8"
             ],
             [
              0.3333333333333333,
              "#9c179e"
             ],
             [
              0.4444444444444444,
              "#bd3786"
             ],
             [
              0.5555555555555556,
              "#d8576b"
             ],
             [
              0.6666666666666666,
              "#ed7953"
             ],
             [
              0.7777777777777778,
              "#fb9f3a"
             ],
             [
              0.8888888888888888,
              "#fdca26"
             ],
             [
              1,
              "#f0f921"
             ]
            ],
            "type": "histogram2dcontour"
           }
          ],
          "mesh3d": [
           {
            "colorbar": {
             "outlinewidth": 0,
             "ticks": ""
            },
            "type": "mesh3d"
           }
          ],
          "parcoords": [
           {
            "line": {
             "colorbar": {
              "outlinewidth": 0,
              "ticks": ""
             }
            },
            "type": "parcoords"
           }
          ],
          "pie": [
           {
            "automargin": true,
            "type": "pie"
           }
          ],
          "scatter": [
           {
            "fillpattern": {
             "fillmode": "overlay",
             "size": 10,
             "solidity": 0.2
            },
            "type": "scatter"
           }
          ],
          "scatter3d": [
           {
            "line": {
             "colorbar": {
              "outlinewidth": 0,
              "ticks": ""
             }
            },
            "marker": {
             "colorbar": {
              "outlinewidth": 0,
              "ticks": ""
             }
            },
            "type": "scatter3d"
           }
          ],
          "scattercarpet": [
           {
            "marker": {
             "colorbar": {
              "outlinewidth": 0,
              "ticks": ""
             }
            },
            "type": "scattercarpet"
           }
          ],
          "scattergeo": [
           {
            "marker": {
             "colorbar": {
              "outlinewidth": 0,
              "ticks": ""
             }
            },
            "type": "scattergeo"
           }
          ],
          "scattergl": [
           {
            "marker": {
             "colorbar": {
              "outlinewidth": 0,
              "ticks": ""
             }
            },
            "type": "scattergl"
           }
          ],
          "scattermapbox": [
           {
            "marker": {
             "colorbar": {
              "outlinewidth": 0,
              "ticks": ""
             }
            },
            "type": "scattermapbox"
           }
          ],
          "scatterpolar": [
           {
            "marker": {
             "colorbar": {
              "outlinewidth": 0,
              "ticks": ""
             }
            },
            "type": "scatterpolar"
           }
          ],
          "scatterpolargl": [
           {
            "marker": {
             "colorbar": {
              "outlinewidth": 0,
              "ticks": ""
             }
            },
            "type": "scatterpolargl"
           }
          ],
          "scatterternary": [
           {
            "marker": {
             "colorbar": {
              "outlinewidth": 0,
              "ticks": ""
             }
            },
            "type": "scatterternary"
           }
          ],
          "surface": [
           {
            "colorbar": {
             "outlinewidth": 0,
             "ticks": ""
            },
            "colorscale": [
             [
              0,
              "#0d0887"
             ],
             [
              0.1111111111111111,
              "#46039f"
             ],
             [
              0.2222222222222222,
              "#7201a8"
             ],
             [
              0.3333333333333333,
              "#9c179e"
             ],
             [
              0.4444444444444444,
              "#bd3786"
             ],
             [
              0.5555555555555556,
              "#d8576b"
             ],
             [
              0.6666666666666666,
              "#ed7953"
             ],
             [
              0.7777777777777778,
              "#fb9f3a"
             ],
             [
              0.8888888888888888,
              "#fdca26"
             ],
             [
              1,
              "#f0f921"
             ]
            ],
            "type": "surface"
           }
          ],
          "table": [
           {
            "cells": {
             "fill": {
              "color": "#EBF0F8"
             },
             "line": {
              "color": "white"
             }
            },
            "header": {
             "fill": {
              "color": "#C8D4E3"
             },
             "line": {
              "color": "white"
             }
            },
            "type": "table"
           }
          ]
         },
         "layout": {
          "annotationdefaults": {
           "arrowcolor": "#2a3f5f",
           "arrowhead": 0,
           "arrowwidth": 1
          },
          "autotypenumbers": "strict",
          "coloraxis": {
           "colorbar": {
            "outlinewidth": 0,
            "ticks": ""
           }
          },
          "colorscale": {
           "diverging": [
            [
             0,
             "#8e0152"
            ],
            [
             0.1,
             "#c51b7d"
            ],
            [
             0.2,
             "#de77ae"
            ],
            [
             0.3,
             "#f1b6da"
            ],
            [
             0.4,
             "#fde0ef"
            ],
            [
             0.5,
             "#f7f7f7"
            ],
            [
             0.6,
             "#e6f5d0"
            ],
            [
             0.7,
             "#b8e186"
            ],
            [
             0.8,
             "#7fbc41"
            ],
            [
             0.9,
             "#4d9221"
            ],
            [
             1,
             "#276419"
            ]
           ],
           "sequential": [
            [
             0,
             "#0d0887"
            ],
            [
             0.1111111111111111,
             "#46039f"
            ],
            [
             0.2222222222222222,
             "#7201a8"
            ],
            [
             0.3333333333333333,
             "#9c179e"
            ],
            [
             0.4444444444444444,
             "#bd3786"
            ],
            [
             0.5555555555555556,
             "#d8576b"
            ],
            [
             0.6666666666666666,
             "#ed7953"
            ],
            [
             0.7777777777777778,
             "#fb9f3a"
            ],
            [
             0.8888888888888888,
             "#fdca26"
            ],
            [
             1,
             "#f0f921"
            ]
           ],
           "sequentialminus": [
            [
             0,
             "#0d0887"
            ],
            [
             0.1111111111111111,
             "#46039f"
            ],
            [
             0.2222222222222222,
             "#7201a8"
            ],
            [
             0.3333333333333333,
             "#9c179e"
            ],
            [
             0.4444444444444444,
             "#bd3786"
            ],
            [
             0.5555555555555556,
             "#d8576b"
            ],
            [
             0.6666666666666666,
             "#ed7953"
            ],
            [
             0.7777777777777778,
             "#fb9f3a"
            ],
            [
             0.8888888888888888,
             "#fdca26"
            ],
            [
             1,
             "#f0f921"
            ]
           ]
          },
          "colorway": [
           "#636efa",
           "#EF553B",
           "#00cc96",
           "#ab63fa",
           "#FFA15A",
           "#19d3f3",
           "#FF6692",
           "#B6E880",
           "#FF97FF",
           "#FECB52"
          ],
          "font": {
           "color": "#2a3f5f"
          },
          "geo": {
           "bgcolor": "white",
           "lakecolor": "white",
           "landcolor": "#E5ECF6",
           "showlakes": true,
           "showland": true,
           "subunitcolor": "white"
          },
          "hoverlabel": {
           "align": "left"
          },
          "hovermode": "closest",
          "mapbox": {
           "style": "light"
          },
          "paper_bgcolor": "white",
          "plot_bgcolor": "#E5ECF6",
          "polar": {
           "angularaxis": {
            "gridcolor": "white",
            "linecolor": "white",
            "ticks": ""
           },
           "bgcolor": "#E5ECF6",
           "radialaxis": {
            "gridcolor": "white",
            "linecolor": "white",
            "ticks": ""
           }
          },
          "scene": {
           "xaxis": {
            "backgroundcolor": "#E5ECF6",
            "gridcolor": "white",
            "gridwidth": 2,
            "linecolor": "white",
            "showbackground": true,
            "ticks": "",
            "zerolinecolor": "white"
           },
           "yaxis": {
            "backgroundcolor": "#E5ECF6",
            "gridcolor": "white",
            "gridwidth": 2,
            "linecolor": "white",
            "showbackground": true,
            "ticks": "",
            "zerolinecolor": "white"
           },
           "zaxis": {
            "backgroundcolor": "#E5ECF6",
            "gridcolor": "white",
            "gridwidth": 2,
            "linecolor": "white",
            "showbackground": true,
            "ticks": "",
            "zerolinecolor": "white"
           }
          },
          "shapedefaults": {
           "line": {
            "color": "#2a3f5f"
           }
          },
          "ternary": {
           "aaxis": {
            "gridcolor": "white",
            "linecolor": "white",
            "ticks": ""
           },
           "baxis": {
            "gridcolor": "white",
            "linecolor": "white",
            "ticks": ""
           },
           "bgcolor": "#E5ECF6",
           "caxis": {
            "gridcolor": "white",
            "linecolor": "white",
            "ticks": ""
           }
          },
          "title": {
           "x": 0.05
          },
          "xaxis": {
           "automargin": true,
           "gridcolor": "white",
           "linecolor": "white",
           "ticks": "",
           "title": {
            "standoff": 15
           },
           "zerolinecolor": "white",
           "zerolinewidth": 2
          },
          "yaxis": {
           "automargin": true,
           "gridcolor": "white",
           "linecolor": "white",
           "ticks": "",
           "title": {
            "standoff": 15
           },
           "zerolinecolor": "white",
           "zerolinewidth": 2
          }
         }
        },
        "title": {
         "text": "3D Scatter Plot of Chapters"
        },
        "width": 800
       }
      }
     },
     "metadata": {},
     "output_type": "display_data"
    }
   ],
   "source": [
    "# Display the 3D Scatter Plot of Categories\n",
    "fig = go.Figure()\n",
    "\n",
    "for i, chapter in enumerate(chapters_list):\n",
    "    sub_matrix = np.array(df_chapter[df_chapter[\"chapter\"] == chapter][\"chunk_embedding_pca\"].to_list())\n",
    "    x = sub_matrix[:, 0]\n",
    "    y = sub_matrix[:, 1]\n",
    "    z = sub_matrix[:, 2]\n",
    "\n",
    "    # get the question text for hover\n",
    "    hover_text = df_chapter[df_chapter[\"chapter\"] == chapter][\"chunk_content\"]\n",
    "\n",
    "    fig.add_trace(\n",
    "        go.Scatter3d(\n",
    "            x=x,\n",
    "            y=y,\n",
    "            z=z,\n",
    "            mode=\"markers\",\n",
    "            marker=dict(size=5, color=i, colorscale=\"Viridis\", opacity=0.8),\n",
    "            name=chapter,\n",
    "            hovertext=hover_text,\n",
    "            hoverinfo=\"text\",\n",
    "        )\n",
    "    )\n",
    "\n",
    "fig.update_layout(\n",
    "    autosize=False,\n",
    "    title=\"3D Scatter Plot of Chapters\",\n",
    "    width=800,\n",
    "    height=500,\n",
    "    margin=dict(l=50, r=50, b=100, t=100, pad=10),\n",
    "    scene=dict(\n",
    "        xaxis=dict(title=\"x\"),\n",
    "        yaxis=dict(title=\"y\"),\n",
    "        zaxis=dict(title=\"z\"),\n",
    "    ),\n",
    ")\n",
    "\n",
    "fig.show()"
   ]
  },
  {
   "cell_type": "code",
   "execution_count": null,
   "metadata": {},
   "outputs": [],
   "source": []
  }
 ],
 "metadata": {
  "kernelspec": {
   "display_name": "biopyassistantenv",
   "language": "python",
   "name": "python3"
  },
  "language_info": {
   "codemirror_mode": {
    "name": "ipython",
    "version": 3
   },
   "file_extension": ".py",
   "mimetype": "text/x-python",
   "name": "python",
   "nbconvert_exporter": "python",
   "pygments_lexer": "ipython3",
   "version": "3.12.3"
  }
 },
 "nbformat": 4,
 "nbformat_minor": 2
}
