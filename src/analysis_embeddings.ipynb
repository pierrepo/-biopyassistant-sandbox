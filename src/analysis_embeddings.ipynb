{
 "cells": [
  {
   "cell_type": "markdown",
   "metadata": {},
   "source": [
    "# Embeddings analysis and 2D/3D projections\n"
   ]
  },
  {
   "cell_type": "markdown",
   "metadata": {},
   "source": [
    "An embedding is a vector that represents the word or sentences in a high-dimensional space, such that elements with similar meanings are close together in this space. Embeddings make it easy for machine learning models and other algorithms to understand the relationships between content and to perform tasks like clustering or retrieval."
   ]
  },
  {
   "cell_type": "code",
   "execution_count": 16,
   "metadata": {
    "execution": {
     "iopub.execute_input": "2024-05-14T18:23:23.681946Z",
     "iopub.status.busy": "2024-05-14T18:23:23.681468Z",
     "iopub.status.idle": "2024-05-14T18:23:23.685169Z",
     "shell.execute_reply": "2024-05-14T18:23:23.684525Z",
     "shell.execute_reply.started": "2024-05-14T18:23:23.681928Z"
    }
   },
   "outputs": [],
   "source": [
    "from pathlib import Path\n",
    "\n",
    "from dotenv import load_dotenv, find_dotenv\n",
    "from langchain_text_splitters import RecursiveCharacterTextSplitter\n",
    "import matplotlib.pyplot as plt\n",
    "import numpy as np\n",
    "from openai import OpenAI\n",
    "import pandas as pd\n",
    "import plotly.graph_objects as go\n",
    "from sklearn.decomposition import PCA\n",
    "from tqdm.autonotebook import tqdm"
   ]
  },
  {
   "cell_type": "code",
   "execution_count": 17,
   "metadata": {
    "execution": {
     "iopub.execute_input": "2024-05-14T18:23:25.386093Z",
     "iopub.status.busy": "2024-05-14T18:23:25.385523Z",
     "iopub.status.idle": "2024-05-14T18:23:25.392625Z",
     "shell.execute_reply": "2024-05-14T18:23:25.391481Z",
     "shell.execute_reply.started": "2024-05-14T18:23:25.386045Z"
    }
   },
   "outputs": [],
   "source": [
    "tqdm.pandas()"
   ]
  },
  {
   "cell_type": "markdown",
   "metadata": {},
   "source": [
    "## Settings"
   ]
  },
  {
   "cell_type": "markdown",
   "metadata": {},
   "source": [
    "Load OpenAI API key"
   ]
  },
  {
   "cell_type": "code",
   "execution_count": 9,
   "metadata": {
    "execution": {
     "iopub.execute_input": "2024-05-14T18:22:32.976975Z",
     "iopub.status.busy": "2024-05-14T18:22:32.976715Z",
     "iopub.status.idle": "2024-05-14T18:22:32.982352Z",
     "shell.execute_reply": "2024-05-14T18:22:32.981535Z",
     "shell.execute_reply.started": "2024-05-14T18:22:32.976956Z"
    }
   },
   "outputs": [
    {
     "data": {
      "text/plain": [
       "True"
      ]
     },
     "execution_count": 9,
     "metadata": {},
     "output_type": "execute_result"
    }
   ],
   "source": [
    "load_dotenv()"
   ]
  },
  {
   "cell_type": "markdown",
   "metadata": {},
   "source": [
    "Define the embedding model to use"
   ]
  },
  {
   "cell_type": "code",
   "execution_count": 10,
   "metadata": {
    "execution": {
     "iopub.execute_input": "2024-05-14T18:22:34.236692Z",
     "iopub.status.busy": "2024-05-14T18:22:34.235439Z",
     "iopub.status.idle": "2024-05-14T18:22:34.240739Z",
     "shell.execute_reply": "2024-05-14T18:22:34.239706Z",
     "shell.execute_reply.started": "2024-05-14T18:22:34.236652Z"
    }
   },
   "outputs": [],
   "source": [
    "EMBEDDING_MODEL = \"text-embedding-3-large\""
   ]
  },
  {
   "cell_type": "markdown",
   "metadata": {},
   "source": [
    "## Tooling"
   ]
  },
  {
   "cell_type": "code",
   "execution_count": 19,
   "metadata": {
    "execution": {
     "iopub.execute_input": "2024-05-14T18:27:30.027431Z",
     "iopub.status.busy": "2024-05-14T18:27:30.026482Z",
     "iopub.status.idle": "2024-05-14T18:27:30.050384Z",
     "shell.execute_reply": "2024-05-14T18:27:30.049831Z",
     "shell.execute_reply.started": "2024-05-14T18:27:30.027346Z"
    }
   },
   "outputs": [],
   "source": [
    "# Function to create the embeddings\n",
    "client = OpenAI()\n",
    "\n",
    "def get_embeddings(text, model=EMBEDDING_MODEL):\n",
    "   return client.embeddings.create(\n",
    "       input=[text],\n",
    "       model=model\n",
    "   ).data[0].embedding"
   ]
  },
  {
   "cell_type": "code",
   "execution_count": 20,
   "metadata": {
    "execution": {
     "iopub.execute_input": "2024-05-14T18:27:30.262946Z",
     "iopub.status.busy": "2024-05-14T18:27:30.262600Z",
     "iopub.status.idle": "2024-05-14T18:27:30.268171Z",
     "shell.execute_reply": "2024-05-14T18:27:30.267387Z",
     "shell.execute_reply.started": "2024-05-14T18:27:30.262914Z"
    }
   },
   "outputs": [],
   "source": [
    "def compute_pca(df, col_name=\"embeddings\"):\n",
    "    \"\"\"Reduce the dimension of the embeddings with PCA\n",
    "    \"\"\"\n",
    "    pca = PCA(n_components=3).fit(df[col_name].tolist())\n",
    "    for idx, component in enumerate(pca.transform(df[col_name].tolist()).T, start=1):\n",
    "        col_name = f\"pca_comp_{idx}\"\n",
    "        df[col_name] = component\n",
    "    \n",
    "    labels = {\n",
    "        idx: f\"PCA compotent {idx} ({ratio*100:.0f} %)\"\n",
    "        for idx, ratio in enumerate(pca.explained_variance_ratio_, start=1)\n",
    "    }\n",
    "    return df, labels"
   ]
  },
  {
   "cell_type": "code",
   "execution_count": 28,
   "metadata": {
    "execution": {
     "iopub.execute_input": "2024-05-14T18:31:08.562911Z",
     "iopub.status.busy": "2024-05-14T18:31:08.562504Z",
     "iopub.status.idle": "2024-05-14T18:31:08.569195Z",
     "shell.execute_reply": "2024-05-14T18:31:08.568365Z",
     "shell.execute_reply.started": "2024-05-14T18:31:08.562877Z"
    }
   },
   "outputs": [],
   "source": [
    "def plot_2D_matplotlib(df, labels=None):\n",
    "    \"\"\"Get the list of categories.\"\"\"\n",
    "    categories = df[\"category\"].unique().tolist()\n",
    "    fig, ax = plt.subplots(figsize=(6, 6))\n",
    "    for category in categories:\n",
    "        ax.scatter(df[df[\"category\"] == category][\"pca_comp_1\"], \n",
    "                    df[df[\"category\"] == category][\"pca_comp_2\"], \n",
    "                    label=category)\n",
    "    ax.set_xlabel(labels[1])\n",
    "    ax.set_ylabel(labels[2])\n",
    "    ax.set_title(\"2D projection of embeddings\")\n",
    "    ax.legend()\n",
    "    plt.show()"
   ]
  },
  {
   "cell_type": "code",
   "execution_count": 35,
   "metadata": {
    "execution": {
     "iopub.execute_input": "2024-05-14T18:33:26.365376Z",
     "iopub.status.busy": "2024-05-14T18:33:26.364865Z",
     "iopub.status.idle": "2024-05-14T18:33:26.371380Z",
     "shell.execute_reply": "2024-05-14T18:33:26.370580Z",
     "shell.execute_reply.started": "2024-05-14T18:33:26.365352Z"
    }
   },
   "outputs": [],
   "source": [
    "def plot_2D_plotly(df, labels=None):\n",
    "    fig = go.Figure()\n",
    "    \n",
    "    for category in categories:\n",
    "        # Get data points\n",
    "        x = df[df[\"category\"] == category][\"pca_comp_1\"]\n",
    "        y = df[df[\"category\"] == category][\"pca_comp_2\"]\n",
    "        # Get the text for hover\n",
    "        hover_text = df[df[\"category\"] == category][\"text\"]\n",
    "        fig.add_trace(\n",
    "            go.Scatter(\n",
    "                x=x,\n",
    "                y=y,\n",
    "                mode=\"markers\",\n",
    "                marker=dict(size=8, colorscale=\"Viridis\", opacity=0.8),\n",
    "                name=category,\n",
    "                hovertext=hover_text,\n",
    "                hoverinfo=\"text\",\n",
    "            )\n",
    "        )\n",
    "    \n",
    "    fig.update_layout(\n",
    "        autosize=False,\n",
    "        title=\"2D projection of embeddings\",\n",
    "        width=800,\n",
    "        height=600,\n",
    "        margin=dict(l=50, r=50, b=100, t=100, pad=10),\n",
    "        xaxis=dict(title=labels[1]),\n",
    "        yaxis=dict(title=labels[2]),\n",
    "    )\n",
    "\n",
    "    fig.show()"
   ]
  },
  {
   "cell_type": "markdown",
   "metadata": {},
   "source": [
    "## Exploratory Data Analysis"
   ]
  },
  {
   "cell_type": "markdown",
   "metadata": {},
   "source": [
    "### Load data"
   ]
  },
  {
   "cell_type": "code",
   "execution_count": 12,
   "metadata": {
    "execution": {
     "iopub.execute_input": "2024-05-14T18:22:37.803816Z",
     "iopub.status.busy": "2024-05-14T18:22:37.803526Z",
     "iopub.status.idle": "2024-05-14T18:22:37.816438Z",
     "shell.execute_reply": "2024-05-14T18:22:37.815673Z",
     "shell.execute_reply.started": "2024-05-14T18:22:37.803790Z"
    }
   },
   "outputs": [
    {
     "data": {
      "text/html": [
       "<div>\n",
       "<style scoped>\n",
       "    .dataframe tbody tr th:only-of-type {\n",
       "        vertical-align: middle;\n",
       "    }\n",
       "\n",
       "    .dataframe tbody tr th {\n",
       "        vertical-align: top;\n",
       "    }\n",
       "\n",
       "    .dataframe thead th {\n",
       "        text-align: right;\n",
       "    }\n",
       "</style>\n",
       "<table border=\"1\" class=\"dataframe\">\n",
       "  <thead>\n",
       "    <tr style=\"text-align: right;\">\n",
       "      <th></th>\n",
       "      <th>category</th>\n",
       "      <th>text</th>\n",
       "    </tr>\n",
       "  </thead>\n",
       "  <tbody>\n",
       "    <tr>\n",
       "      <th>0</th>\n",
       "      <td>Programmation</td>\n",
       "      <td>Python est un langage de programmation interprété dynamique et polyvalent.</td>\n",
       "    </tr>\n",
       "    <tr>\n",
       "      <th>1</th>\n",
       "      <td>Programmation</td>\n",
       "      <td>Les développeurs utilisent souvent Python pour l'analyse de données en raison de ses bibliothèques robustes comme Pandas et NumPy.</td>\n",
       "    </tr>\n",
       "    <tr>\n",
       "      <th>2</th>\n",
       "      <td>Programmation</td>\n",
       "      <td>La syntaxe claire et concise de Python en fait un excellent choix pour les débutants en programmation.</td>\n",
       "    </tr>\n",
       "    <tr>\n",
       "      <th>3</th>\n",
       "      <td>Programmation</td>\n",
       "      <td>Python est un langage polyvalent utilisé dans des domaines allant du développement de jeux à l'automatisation des tâches système.</td>\n",
       "    </tr>\n",
       "    <tr>\n",
       "      <th>4</th>\n",
       "      <td>Programmation</td>\n",
       "      <td>Les grandes entreprises telles que Google Facebook et Netflix font largement usage de Python dans leur infrastructure logicielle.</td>\n",
       "    </tr>\n",
       "    <tr>\n",
       "      <th>5</th>\n",
       "      <td>Programmation</td>\n",
       "      <td>Les listes en Python sont des structures de données flexibles et polyvalentes permettant de stocker et de manipuler des collections d'éléments.</td>\n",
       "    </tr>\n",
       "    <tr>\n",
       "      <th>6</th>\n",
       "      <td>Programmation</td>\n",
       "      <td>La vaste bibliothèque standard de Python offre des modules pour pratiquement toutes les tâches courantes de programmation.</td>\n",
       "    </tr>\n",
       "    <tr>\n",
       "      <th>7</th>\n",
       "      <td>Programmation</td>\n",
       "      <td>Les frameworks web populaires comme Django et Flask sont écrits en Python permettant un développement rapide et efficace des applications web.</td>\n",
       "    </tr>\n",
       "    <tr>\n",
       "      <th>8</th>\n",
       "      <td>Animaux</td>\n",
       "      <td>Le python royal est une espèce de serpent non venimeux originaire d'Afrique.</td>\n",
       "    </tr>\n",
       "    <tr>\n",
       "      <th>9</th>\n",
       "      <td>Animaux</td>\n",
       "      <td>Les pythons peuvent avaler des proies entières grâce à leur mâchoire extensible.</td>\n",
       "    </tr>\n",
       "    <tr>\n",
       "      <th>10</th>\n",
       "      <td>Animaux</td>\n",
       "      <td>Certains pythons peuvent atteindre des longueurs impressionnantes dépassant souvent les 6 mètres.</td>\n",
       "    </tr>\n",
       "    <tr>\n",
       "      <th>11</th>\n",
       "      <td>Animaux</td>\n",
       "      <td>Les pythons sont non venimeux et tuent leur proie en l'étouffant</td>\n",
       "    </tr>\n",
       "    <tr>\n",
       "      <th>12</th>\n",
       "      <td>Animaux</td>\n",
       "      <td>Les pandas géants sont célèbres pour leur pelage noir et blanc distinctif.</td>\n",
       "    </tr>\n",
       "    <tr>\n",
       "      <th>13</th>\n",
       "      <td>Animaux</td>\n",
       "      <td>Les pandas roux bien que moins connus que les pandas géants sont également des créatures adorables.</td>\n",
       "    </tr>\n",
       "    <tr>\n",
       "      <th>14</th>\n",
       "      <td>Animaux</td>\n",
       "      <td>Les pandas passent la majeure partie de leur journée à manger du bambou.</td>\n",
       "    </tr>\n",
       "    <tr>\n",
       "      <th>15</th>\n",
       "      <td>Animaux</td>\n",
       "      <td>Les pandas géants vivent principalement dans les forêts de bambous des montagnes de Chine centrale</td>\n",
       "    </tr>\n",
       "    <tr>\n",
       "      <th>16</th>\n",
       "      <td>Animaux</td>\n",
       "      <td>Un panda géant adulte peut manger jusqu'à 12 à 38 kilogrammes de bambou par jour.</td>\n",
       "    </tr>\n",
       "    <tr>\n",
       "      <th>17</th>\n",
       "      <td>Animaux</td>\n",
       "      <td>Les pandas et les serpents Python sont tous deux des vertébrés.</td>\n",
       "    </tr>\n",
       "    <tr>\n",
       "      <th>18</th>\n",
       "      <td>Animaux</td>\n",
       "      <td>Certaines espèces de pandas et de Python sont menacées et protégées par des lois de conservation.</td>\n",
       "    </tr>\n",
       "    <tr>\n",
       "      <th>19</th>\n",
       "      <td>Animaux</td>\n",
       "      <td>Le Panda est un mammifère alors que le Python est un reptile.</td>\n",
       "    </tr>\n",
       "  </tbody>\n",
       "</table>\n",
       "</div>"
      ],
      "text/plain": [
       "         category  \\\n",
       "0   Programmation   \n",
       "1   Programmation   \n",
       "2   Programmation   \n",
       "3   Programmation   \n",
       "4   Programmation   \n",
       "5   Programmation   \n",
       "6   Programmation   \n",
       "7   Programmation   \n",
       "8         Animaux   \n",
       "9         Animaux   \n",
       "10        Animaux   \n",
       "11        Animaux   \n",
       "12        Animaux   \n",
       "13        Animaux   \n",
       "14        Animaux   \n",
       "15        Animaux   \n",
       "16        Animaux   \n",
       "17        Animaux   \n",
       "18        Animaux   \n",
       "19        Animaux   \n",
       "\n",
       "                                                                                                                                               text  \n",
       "0                                                                        Python est un langage de programmation interprété dynamique et polyvalent.  \n",
       "1                Les développeurs utilisent souvent Python pour l'analyse de données en raison de ses bibliothèques robustes comme Pandas et NumPy.  \n",
       "2                                            La syntaxe claire et concise de Python en fait un excellent choix pour les débutants en programmation.  \n",
       "3                 Python est un langage polyvalent utilisé dans des domaines allant du développement de jeux à l'automatisation des tâches système.  \n",
       "4                 Les grandes entreprises telles que Google Facebook et Netflix font largement usage de Python dans leur infrastructure logicielle.  \n",
       "5   Les listes en Python sont des structures de données flexibles et polyvalentes permettant de stocker et de manipuler des collections d'éléments.  \n",
       "6                        La vaste bibliothèque standard de Python offre des modules pour pratiquement toutes les tâches courantes de programmation.  \n",
       "7    Les frameworks web populaires comme Django et Flask sont écrits en Python permettant un développement rapide et efficace des applications web.  \n",
       "8                                                                      Le python royal est une espèce de serpent non venimeux originaire d'Afrique.  \n",
       "9                                                                  Les pythons peuvent avaler des proies entières grâce à leur mâchoire extensible.  \n",
       "10                                                Certains pythons peuvent atteindre des longueurs impressionnantes dépassant souvent les 6 mètres.  \n",
       "11                                                                                 Les pythons sont non venimeux et tuent leur proie en l'étouffant  \n",
       "12                                                                       Les pandas géants sont célèbres pour leur pelage noir et blanc distinctif.  \n",
       "13                                              Les pandas roux bien que moins connus que les pandas géants sont également des créatures adorables.  \n",
       "14                                                                         Les pandas passent la majeure partie de leur journée à manger du bambou.  \n",
       "15                                               Les pandas géants vivent principalement dans les forêts de bambous des montagnes de Chine centrale  \n",
       "16                                                                Un panda géant adulte peut manger jusqu'à 12 à 38 kilogrammes de bambou par jour.  \n",
       "17                                                                                  Les pandas et les serpents Python sont tous deux des vertébrés.  \n",
       "18                                                Certaines espèces de pandas et de Python sont menacées et protégées par des lois de conservation.  \n",
       "19                                                                                    Le Panda est un mammifère alors que le Python est un reptile.  "
      ]
     },
     "execution_count": 12,
     "metadata": {},
     "output_type": "execute_result"
    }
   ],
   "source": [
    "# Import the data\n",
    "pd.set_option(\"display.max_colwidth\", None)\n",
    "df = pd.read_csv(\"sentence.csv\", sep=\",\")\n",
    "df"
   ]
  },
  {
   "cell_type": "markdown",
   "metadata": {},
   "source": [
    "### Get embeddings"
   ]
  },
  {
   "cell_type": "code",
   "execution_count": 18,
   "metadata": {
    "execution": {
     "iopub.execute_input": "2024-05-14T18:23:30.515929Z",
     "iopub.status.busy": "2024-05-14T18:23:30.515625Z",
     "iopub.status.idle": "2024-05-14T18:23:39.203557Z",
     "shell.execute_reply": "2024-05-14T18:23:39.202780Z",
     "shell.execute_reply.started": "2024-05-14T18:23:30.515902Z"
    }
   },
   "outputs": [
    {
     "data": {
      "application/vnd.jupyter.widget-view+json": {
       "model_id": "fbcb39bdb0ac4031ac4e8d21cb0d94ab",
       "version_major": 2,
       "version_minor": 0
      },
      "text/plain": [
       "  0%|          | 0/20 [00:00<?, ?it/s]"
      ]
     },
     "metadata": {},
     "output_type": "display_data"
    },
    {
     "data": {
      "text/html": [
       "<div>\n",
       "<style scoped>\n",
       "    .dataframe tbody tr th:only-of-type {\n",
       "        vertical-align: middle;\n",
       "    }\n",
       "\n",
       "    .dataframe tbody tr th {\n",
       "        vertical-align: top;\n",
       "    }\n",
       "\n",
       "    .dataframe thead th {\n",
       "        text-align: right;\n",
       "    }\n",
       "</style>\n",
       "<table border=\"1\" class=\"dataframe\">\n",
       "  <thead>\n",
       "    <tr style=\"text-align: right;\">\n",
       "      <th></th>\n",
       "      <th>category</th>\n",
       "      <th>text</th>\n",
       "      <th>embeddings</th>\n",
       "      <th>embeddings_dim</th>\n",
       "      <th>embeddings_norm</th>\n",
       "    </tr>\n",
       "  </thead>\n",
       "  <tbody>\n",
       "    <tr>\n",
       "      <th>0</th>\n",
       "      <td>Programmation</td>\n",
       "      <td>Python est un langage de programmation interprété dynamique et polyvalent.</td>\n",
       "      <td>[-0.01979663595557213, 0.0003639243368525058, -0.012069671414792538, 0.026395514607429504, 0.02342686802148819, 0.013079010881483555, 0.0196439623...</td>\n",
       "      <td>3072</td>\n",
       "      <td>1.0</td>\n",
       "    </tr>\n",
       "    <tr>\n",
       "      <th>1</th>\n",
       "      <td>Programmation</td>\n",
       "      <td>Les développeurs utilisent souvent Python pour l'analyse de données en raison de ses bibliothèques robustes comme Pandas et NumPy.</td>\n",
       "      <td>[-0.016689483076334, -0.01706320233643055, -0.019246505573391914, 0.01595188118517399, 0.04362672194838524, -0.005438588559627533, -0.001374399173...</td>\n",
       "      <td>3072</td>\n",
       "      <td>1.0</td>\n",
       "    </tr>\n",
       "    <tr>\n",
       "      <th>2</th>\n",
       "      <td>Programmation</td>\n",
       "      <td>La syntaxe claire et concise de Python en fait un excellent choix pour les débutants en programmation.</td>\n",
       "      <td>[0.011798487976193428, 0.0072993808425962925, -0.0020477003417909145, 0.018304457888007164, -0.004055730067193508, 0.006123265717178583, 0.0145707...</td>\n",
       "      <td>3072</td>\n",
       "      <td>1.0</td>\n",
       "    </tr>\n",
       "  </tbody>\n",
       "</table>\n",
       "</div>"
      ],
      "text/plain": [
       "        category  \\\n",
       "0  Programmation   \n",
       "1  Programmation   \n",
       "2  Programmation   \n",
       "\n",
       "                                                                                                                                 text  \\\n",
       "0                                                          Python est un langage de programmation interprété dynamique et polyvalent.   \n",
       "1  Les développeurs utilisent souvent Python pour l'analyse de données en raison de ses bibliothèques robustes comme Pandas et NumPy.   \n",
       "2                              La syntaxe claire et concise de Python en fait un excellent choix pour les débutants en programmation.   \n",
       "\n",
       "                                                                                                                                              embeddings  \\\n",
       "0  [-0.01979663595557213, 0.0003639243368525058, -0.012069671414792538, 0.026395514607429504, 0.02342686802148819, 0.013079010881483555, 0.0196439623...   \n",
       "1  [-0.016689483076334, -0.01706320233643055, -0.019246505573391914, 0.01595188118517399, 0.04362672194838524, -0.005438588559627533, -0.001374399173...   \n",
       "2  [0.011798487976193428, 0.0072993808425962925, -0.0020477003417909145, 0.018304457888007164, -0.004055730067193508, 0.006123265717178583, 0.0145707...   \n",
       "\n",
       "   embeddings_dim  embeddings_norm  \n",
       "0            3072              1.0  \n",
       "1            3072              1.0  \n",
       "2            3072              1.0  "
      ]
     },
     "execution_count": 18,
     "metadata": {},
     "output_type": "execute_result"
    }
   ],
   "source": [
    "# Get embeddings, dimension and norm\n",
    "pd.set_option(\"display.max_colwidth\", 150)\n",
    "\n",
    "df[\"embeddings\"] = df[\"text\"].progress_apply(get_embeddings)\n",
    "df[\"embeddings_dim\"] = df[\"embeddings\"].apply(lambda x: len(x))\n",
    "df[\"embeddings_norm\"] = df[\"embeddings\"].apply(lambda x: np.linalg.norm(x))\n",
    "df.head(3)"
   ]
  },
  {
   "cell_type": "markdown",
   "metadata": {},
   "source": [
    "The dimension of the embeddings is 3072, that is coherent with the [documentation](https://platform.openai.com/docs/guides/embeddings/embeddings) for the model used.\n",
    "\n",
    "The norm of embeddings vector is 1 for all the embeddings, which means that the embeddings are normalized. This is a common practice in machine learning to normalize the embeddings to make the training process easier.\n",
    "\n",
    "### PCA"
   ]
  },
  {
   "cell_type": "code",
   "execution_count": 30,
   "metadata": {
    "execution": {
     "iopub.execute_input": "2024-05-14T18:31:22.005777Z",
     "iopub.status.busy": "2024-05-14T18:31:22.005424Z",
     "iopub.status.idle": "2024-05-14T18:31:22.039406Z",
     "shell.execute_reply": "2024-05-14T18:31:22.038698Z",
     "shell.execute_reply.started": "2024-05-14T18:31:22.005757Z"
    }
   },
   "outputs": [
    {
     "data": {
      "text/html": [
       "<div>\n",
       "<style scoped>\n",
       "    .dataframe tbody tr th:only-of-type {\n",
       "        vertical-align: middle;\n",
       "    }\n",
       "\n",
       "    .dataframe tbody tr th {\n",
       "        vertical-align: top;\n",
       "    }\n",
       "\n",
       "    .dataframe thead th {\n",
       "        text-align: right;\n",
       "    }\n",
       "</style>\n",
       "<table border=\"1\" class=\"dataframe\">\n",
       "  <thead>\n",
       "    <tr style=\"text-align: right;\">\n",
       "      <th></th>\n",
       "      <th>category</th>\n",
       "      <th>text</th>\n",
       "      <th>embeddings</th>\n",
       "      <th>embeddings_dim</th>\n",
       "      <th>embeddings_norm</th>\n",
       "      <th>pca_comp_1</th>\n",
       "      <th>pca_comp_2</th>\n",
       "      <th>pca_comp_3</th>\n",
       "    </tr>\n",
       "  </thead>\n",
       "  <tbody>\n",
       "    <tr>\n",
       "      <th>0</th>\n",
       "      <td>Programmation</td>\n",
       "      <td>Python est un langage de programmation interprété dynamique et polyvalent.</td>\n",
       "      <td>[-0.01979663595557213, 0.0003639243368525058, -0.012069671414792538, 0.026395514607429504, 0.02342686802148819, 0.013079010881483555, 0.0196439623...</td>\n",
       "      <td>3072</td>\n",
       "      <td>1.0</td>\n",
       "      <td>0.466166</td>\n",
       "      <td>0.033150</td>\n",
       "      <td>0.194229</td>\n",
       "    </tr>\n",
       "    <tr>\n",
       "      <th>1</th>\n",
       "      <td>Programmation</td>\n",
       "      <td>Les développeurs utilisent souvent Python pour l'analyse de données en raison de ses bibliothèques robustes comme Pandas et NumPy.</td>\n",
       "      <td>[-0.016689483076334, -0.01706320233643055, -0.019246505573391914, 0.01595188118517399, 0.04362672194838524, -0.005438588559627533, -0.001374399173...</td>\n",
       "      <td>3072</td>\n",
       "      <td>1.0</td>\n",
       "      <td>0.401231</td>\n",
       "      <td>-0.236807</td>\n",
       "      <td>-0.045365</td>\n",
       "    </tr>\n",
       "    <tr>\n",
       "      <th>2</th>\n",
       "      <td>Programmation</td>\n",
       "      <td>La syntaxe claire et concise de Python en fait un excellent choix pour les débutants en programmation.</td>\n",
       "      <td>[0.011798487976193428, 0.0072993808425962925, -0.0020477003417909145, 0.018304457888007164, -0.004055730067193508, 0.006123265717178583, 0.0145707...</td>\n",
       "      <td>3072</td>\n",
       "      <td>1.0</td>\n",
       "      <td>0.411000</td>\n",
       "      <td>-0.029979</td>\n",
       "      <td>0.042367</td>\n",
       "    </tr>\n",
       "  </tbody>\n",
       "</table>\n",
       "</div>"
      ],
      "text/plain": [
       "        category  \\\n",
       "0  Programmation   \n",
       "1  Programmation   \n",
       "2  Programmation   \n",
       "\n",
       "                                                                                                                                 text  \\\n",
       "0                                                          Python est un langage de programmation interprété dynamique et polyvalent.   \n",
       "1  Les développeurs utilisent souvent Python pour l'analyse de données en raison de ses bibliothèques robustes comme Pandas et NumPy.   \n",
       "2                              La syntaxe claire et concise de Python en fait un excellent choix pour les débutants en programmation.   \n",
       "\n",
       "                                                                                                                                              embeddings  \\\n",
       "0  [-0.01979663595557213, 0.0003639243368525058, -0.012069671414792538, 0.026395514607429504, 0.02342686802148819, 0.013079010881483555, 0.0196439623...   \n",
       "1  [-0.016689483076334, -0.01706320233643055, -0.019246505573391914, 0.01595188118517399, 0.04362672194838524, -0.005438588559627533, -0.001374399173...   \n",
       "2  [0.011798487976193428, 0.0072993808425962925, -0.0020477003417909145, 0.018304457888007164, -0.004055730067193508, 0.006123265717178583, 0.0145707...   \n",
       "\n",
       "   embeddings_dim  embeddings_norm  pca_comp_1  pca_comp_2  pca_comp_3  \n",
       "0            3072              1.0    0.466166    0.033150    0.194229  \n",
       "1            3072              1.0    0.401231   -0.236807   -0.045365  \n",
       "2            3072              1.0    0.411000   -0.029979    0.042367  "
      ]
     },
     "execution_count": 30,
     "metadata": {},
     "output_type": "execute_result"
    }
   ],
   "source": [
    "df, component_labels = compute_pca(df, col_name=\"embeddings\")\n",
    "df.head(3)"
   ]
  },
  {
   "cell_type": "markdown",
   "metadata": {},
   "source": [
    "### 2D projection of embeddings"
   ]
  },
  {
   "cell_type": "code",
   "execution_count": 31,
   "metadata": {
    "execution": {
     "iopub.execute_input": "2024-05-14T18:31:26.545189Z",
     "iopub.status.busy": "2024-05-14T18:31:26.542896Z",
     "iopub.status.idle": "2024-05-14T18:31:26.769391Z",
     "shell.execute_reply": "2024-05-14T18:31:26.768627Z",
     "shell.execute_reply.started": "2024-05-14T18:31:26.545130Z"
    }
   },
   "outputs": [
    {
     "data": {
      "image/png": "[encoded data removed]",
      "text/plain": [
       "<Figure size 600x600 with 1 Axes>"
      ]
     },
     "metadata": {},
     "output_type": "display_data"
    }
   ],
   "source": [
    "# with Matplotlib\n",
    "plot_2D_matplotlib(df, labels=component_labels)"
   ]
  },
  {
   "cell_type": "code",
   "execution_count": 36,
   "metadata": {
    "execution": {
     "iopub.execute_input": "2024-05-14T18:33:30.964735Z",
     "iopub.status.busy": "2024-05-14T18:33:30.964492Z",
     "iopub.status.idle": "2024-05-14T18:33:30.982980Z",
     "shell.execute_reply": "2024-05-14T18:33:30.982156Z",
     "shell.execute_reply.started": "2024-05-14T18:33:30.964715Z"
    }
   },
   "outputs": [
    {
     "data": {
      "application/vnd.plotly.v1+json": {
       "config": {
        "plotlyServerURL": "https://plot.ly"
       },
       "data": [
        {
         "hoverinfo": "text",
         "hovertext": [
          "Python est un langage de programmation interprété dynamique et polyvalent.",
          "Les développeurs utilisent souvent Python pour l'analyse de données en raison de ses bibliothèques robustes comme Pandas et NumPy.",
          "La syntaxe claire et concise de Python en fait un excellent choix pour les débutants en programmation.",
          "Python est un langage polyvalent utilisé dans des domaines allant du développement de jeux à l'automatisation des tâches système.",
          "Les grandes entreprises telles que Google Facebook et Netflix font largement usage de Python dans leur infrastructure logicielle.",
          "Les listes en Python sont des structures de données flexibles et polyvalentes permettant de stocker et de manipuler des collections d'éléments.",
          "La vaste bibliothèque standard de Python offre des modules pour pratiquement toutes les tâches courantes de programmation.",
          "Les frameworks web populaires comme Django et Flask sont écrits en Python permettant un développement rapide et efficace des applications web."
         ],
         "marker": {
          "colorscale": [
           [
            0,
            "#440154"
           ],
           [
            0.1111111111111111,
            "#482878"
           ],
           [
            0.2222222222222222,
            "#3e4989"
           ],
           [
            0.3333333333333333,
            "#31688e"
           ],
           [
            0.4444444444444444,
            "#26828e"
           ],
           [
            0.5555555555555556,
            "#1f9e89"
           ],
           [
            0.6666666666666666,
            "#35b779"
           ],
           [
            0.7777777777777778,
            "#6ece58"
           ],
           [
            0.8888888888888888,
            "#b5de2b"
           ],
           [
            1,
            "#fde725"
           ]
          ],
          "opacity": 0.8,
          "size": 8
         },
         "mode": "markers",
         "name": "Programmation",
         "type": "scatter",
         "x": [
          0.466165927259119,
          0.40123071678670086,
          0.41099991885961495,
          0.49002822319450967,
          0.32910014604671517,
          0.33460476496181246,
          0.376372281155422,
          0.4347873000611889
         ],
         "y": [
          0.033150462260785524,
          -0.2368069285152452,
          -0.02997865103299267,
          -0.06475847537610888,
          -0.18543649576997512,
          0.01461244603561928,
          -0.1593023941281154,
          -0.14060426758112257
         ]
        },
        {
         "hoverinfo": "text",
         "hovertext": [
          "Le python royal est une espèce de serpent non venimeux originaire d'Afrique.",
          "Les pythons peuvent avaler des proies entières grâce à leur mâchoire extensible.",
          "Certains pythons peuvent atteindre des longueurs impressionnantes dépassant souvent les 6 mètres.",
          "Les pythons sont non venimeux et tuent leur proie en l'étouffant",
          "Les pandas géants sont célèbres pour leur pelage noir et blanc distinctif.",
          "Les pandas roux bien que moins connus que les pandas géants sont également des créatures adorables.",
          "Les pandas passent la majeure partie de leur journée à manger du bambou.",
          "Les pandas géants vivent principalement dans les forêts de bambous des montagnes de Chine centrale",
          "Un panda géant adulte peut manger jusqu'à 12 à 38 kilogrammes de bambou par jour.",
          "Les pandas et les serpents Python sont tous deux des vertébrés.",
          "Certaines espèces de pandas et de Python sont menacées et protégées par des lois de conservation.",
          "Le Panda est un mammifère alors que le Python est un reptile."
         ],
         "marker": {
          "colorscale": [
           [
            0,
            "#440154"
           ],
           [
            0.1111111111111111,
            "#482878"
           ],
           [
            0.2222222222222222,
            "#3e4989"
           ],
           [
            0.3333333333333333,
            "#31688e"
           ],
           [
            0.4444444444444444,
            "#26828e"
           ],
           [
            0.5555555555555556,
            "#1f9e89"
           ],
           [
            0.6666666666666666,
            "#35b779"
           ],
           [
            0.7777777777777778,
            "#6ece58"
           ],
           [
            0.8888888888888888,
            "#b5de2b"
           ],
           [
            1,
            "#fde725"
           ]
          ],
          "opacity": 0.8,
          "size": 8
         },
         "mode": "markers",
         "name": "Animaux",
         "type": "scatter",
         "x": [
          -0.12422191037546633,
          -0.09521634821341235,
          -0.08936212681925595,
          -0.1253047334823973,
          -0.42794144333490103,
          -0.38535984357038194,
          -0.41574278922748514,
          -0.4091727713818286,
          -0.4628706425828935,
          -0.21670143258113722,
          -0.2278018234932195,
          -0.26359341326270413
         ],
         "y": [
          0.540577981460766,
          0.3705479570504655,
          0.31423165377928586,
          0.5067360725065205,
          -0.2504316688766956,
          -0.19457633317209494,
          -0.3585846977078014,
          -0.3371989050213521,
          -0.3041938763501037,
          0.19996423934164248,
          0.07061052660437406,
          0.21144135449214832
         ]
        }
       ],
       "layout": {
        "autosize": false,
        "height": 600,
        "margin": {
         "b": 100,
         "l": 50,
         "pad": 10,
         "r": 50,
         "t": 100
        },
        "template": {
         "data": {
          "bar": [
           {
            "error_x": {
             "color": "#2a3f5f"
            },
            "error_y": {
             "color": "#2a3f5f"
            },
            "marker": {
             "line": {
              "color": "#E5ECF6",
              "width": 0.5
             },
             "pattern": {
              "fillmode": "overlay",
              "size": 10,
              "solidity": 0.2
             }
            },
            "type": "bar"
           }
          ],
          "barpolar": [
           {
            "marker": {
             "line": {
              "color": "#E5ECF6",
              "width": 0.5
             },
             "pattern": {
              "fillmode": "overlay",
              "size": 10,
              "solidity": 0.2
             }
            },
            "type": "barpolar"
           }
          ],
          "carpet": [
           {
            "aaxis": {
             "endlinecolor": "#2a3f5f",
             "gridcolor": "white",
             "linecolor": "white",
             "minorgridcolor": "white",
             "startlinecolor": "#2a3f5f"
            },
            "baxis": {
             "endlinecolor": "#2a3f5f",
             "gridcolor": "white",
             "linecolor": "white",
             "minorgridcolor": "white",
             "startlinecolor": "#2a3f5f"
            },
            "type": "carpet"
           }
          ],
          "choropleth": [
           {
            "colorbar": {
             "outlinewidth": 0,
             "ticks": ""
            },
            "type": "choropleth"
           }
          ],
          "contour": [
           {
            "colorbar": {
             "outlinewidth": 0,
             "ticks": ""
            },
            "colorscale": [
             [
              0,
              "#0d0887"
             ],
             [
              0.1111111111111111,
              "#46039f"
             ],
             [
              0.2222222222222222,
              "#7201a8"
             ],
             [
              0.3333333333333333,
              "#9c179e"
             ],
             [
              0.4444444444444444,
              "#bd3786"
             ],
             [
              0.5555555555555556,
              "#d8576b"
             ],
             [
              0.6666666666666666,
              "#ed7953"
             ],
             [
              0.7777777777777778,
              "#fb9f3a"
             ],
             [
              0.8888888888888888,
              "#fdca26"
             ],
             [
              1,
              "#f0f921"
             ]
            ],
            "type": "contour"
           }
          ],
          "contourcarpet": [
           {
            "colorbar": {
             "outlinewidth": 0,
             "ticks": ""
            },
            "type": "contourcarpet"
           }
          ],
          "heatmap": [
           {
            "colorbar": {
             "outlinewidth": 0,
             "ticks": ""
            },
            "colorscale": [
             [
              0,
              "#0d0887"
             ],
             [
              0.1111111111111111,
              "#46039f"
             ],
             [
              0.2222222222222222,
              "#7201a8"
             ],
             [
              0.3333333333333333,
              "#9c179e"
             ],
             [
              0.4444444444444444,
              "#bd3786"
             ],
             [
              0.5555555555555556,
              "#d8576b"
             ],
             [
              0.6666666666666666,
              "#ed7953"
             ],
             [
              0.7777777777777778,
              "#fb9f3a"
             ],
             [
              0.8888888888888888,
              "#fdca26"
             ],
             [
              1,
              "#f0f921"
             ]
            ],
            "type": "heatmap"
           }
          ],
          "heatmapgl": [
           {
            "colorbar": {
             "outlinewidth": 0,
             "ticks": ""
            },
            "colorscale": [
             [
              0,
              "#0d0887"
             ],
             [
              0.1111111111111111,
              "#46039f"
             ],
             [
              0.2222222222222222,
              "#7201a8"
             ],
             [
              0.3333333333333333,
              "#9c179e"
             ],
             [
              0.4444444444444444,
              "#bd3786"
             ],
             [
              0.5555555555555556,
              "#d8576b"
             ],
             [
              0.6666666666666666,
              "#ed7953"
             ],
             [
              0.7777777777777778,
              "#fb9f3a"
             ],
             [
              0.8888888888888888,
              "#fdca26"
             ],
             [
              1,
              "#f0f921"
             ]
            ],
            "type": "heatmapgl"
           }
          ],
          "histogram": [
           {
            "marker": {
             "pattern": {
              "fillmode": "overlay",
              "size": 10,
              "solidity": 0.2
             }
            },
            "type": "histogram"
           }
          ],
          "histogram2d": [
           {
            "colorbar": {
             "outlinewidth": 0,
             "ticks": ""
            },
            "colorscale": [
             [
              0,
              "#0d0887"
             ],
             [
              0.1111111111111111,
              "#46039f"
             ],
             [
              0.2222222222222222,
              "#7201a8"
             ],
             [
              0.3333333333333333,
              "#9c179e"
             ],
             [
              0.4444444444444444,
              "#bd3786"
             ],
             [
              0.5555555555555556,
              "#d8576b"
             ],
             [
              0.6666666666666666,
              "#ed7953"
             ],
             [
              0.7777777777777778,
              "#fb9f3a"
             ],
             [
              0.8888888888888888,
              "#fdca26"
             ],
             [
              1,
              "#f0f921"
             ]
            ],
            "type": "histogram2d"
           }
          ],
          "histogram2dcontour": [
           {
            "colorbar": {
             "outlinewidth": 0,
             "ticks": ""
            },
            "colorscale": [
             [
              0,
              "#0d0887"
             ],
             [
              0.1111111111111111,
              "#46039f"
             ],
             [
              0.2222222222222222,
              "#7201a8"
             ],
             [
              0.3333333333333333,
              "#9c179e"
             ],
             [
              0.4444444444444444,
              "#bd3786"
             ],
             [
              0.5555555555555556,
              "#d8576b"
             ],
             [
              0.6666666666666666,
              "#ed7953"
             ],
             [
              0.7777777777777778,
              "#fb9f3a"
             ],
             [
              0.8888888888888888,
              "#fdca26"
             ],
             [
              1,
              "#f0f921"
             ]
            ],
            "type": "histogram2dcontour"
           }
          ],
          "mesh3d": [
           {
            "colorbar": {
             "outlinewidth": 0,
             "ticks": ""
            },
            "type": "mesh3d"
           }
          ],
          "parcoords": [
           {
            "line": {
             "colorbar": {
              "outlinewidth": 0,
              "ticks": ""
             }
            },
            "type": "parcoords"
           }
          ],
          "pie": [
           {
            "automargin": true,
            "type": "pie"
           }
          ],
          "scatter": [
           {
            "fillpattern": {
             "fillmode": "overlay",
             "size": 10,
             "solidity": 0.2
            },
            "type": "scatter"
           }
          ],
          "scatter3d": [
           {
            "line": {
             "colorbar": {
              "outlinewidth": 0,
              "ticks": ""
             }
            },
            "marker": {
             "colorbar": {
              "outlinewidth": 0,
              "ticks": ""
             }
            },
            "type": "scatter3d"
           }
          ],
          "scattercarpet": [
           {
            "marker": {
             "colorbar": {
              "outlinewidth": 0,
              "ticks": ""
             }
            },
            "type": "scattercarpet"
           }
          ],
          "scattergeo": [
           {
            "marker": {
             "colorbar": {
              "outlinewidth": 0,
              "ticks": ""
             }
            },
            "type": "scattergeo"
           }
          ],
          "scattergl": [
           {
            "marker": {
             "colorbar": {
              "outlinewidth": 0,
              "ticks": ""
             }
            },
            "type": "scattergl"
           }
          ],
          "scattermapbox": [
           {
            "marker": {
             "colorbar": {
              "outlinewidth": 0,
              "ticks": ""
             }
            },
            "type": "scattermapbox"
           }
          ],
          "scatterpolar": [
           {
            "marker": {
             "colorbar": {
              "outlinewidth": 0,
              "ticks": ""
             }
            },
            "type": "scatterpolar"
           }
          ],
          "scatterpolargl": [
           {
            "marker": {
             "colorbar": {
              "outlinewidth": 0,
              "ticks": ""
             }
            },
            "type": "scatterpolargl"
           }
          ],
          "scatterternary": [
           {
            "marker": {
             "colorbar": {
              "outlinewidth": 0,
              "ticks": ""
             }
            },
            "type": "scatterternary"
           }
          ],
          "surface": [
           {
            "colorbar": {
             "outlinewidth": 0,
             "ticks": ""
            },
            "colorscale": [
             [
              0,
              "#0d0887"
             ],
             [
              0.1111111111111111,
              "#46039f"
             ],
             [
              0.2222222222222222,
              "#7201a8"
             ],
             [
              0.3333333333333333,
              "#9c179e"
             ],
             [
              0.4444444444444444,
              "#bd3786"
             ],
             [
              0.5555555555555556,
              "#d8576b"
             ],
             [
              0.6666666666666666,
              "#ed7953"
             ],
             [
              0.7777777777777778,
              "#fb9f3a"
             ],
             [
              0.8888888888888888,
              "#fdca26"
             ],
             [
              1,
              "#f0f921"
             ]
            ],
            "type": "surface"
           }
          ],
          "table": [
           {
            "cells": {
             "fill": {
              "color": "#EBF0F8"
             },
             "line": {
              "color": "white"
             }
            },
            "header": {
             "fill": {
              "color": "#C8D4E3"
             },
             "line": {
              "color": "white"
             }
            },
            "type": "table"
           }
          ]
         },
         "layout": {
          "annotationdefaults": {
           "arrowcolor": "#2a3f5f",
           "arrowhead": 0,
           "arrowwidth": 1
          },
          "autotypenumbers": "strict",
          "coloraxis": {
           "colorbar": {
            "outlinewidth": 0,
            "ticks": ""
           }
          },
          "colorscale": {
           "diverging": [
            [
             0,
             "#8e0152"
            ],
            [
             0.1,
             "#c51b7d"
            ],
            [
             0.2,
             "#de77ae"
            ],
            [
             0.3,
             "#f1b6da"
            ],
            [
             0.4,
             "#fde0ef"
            ],
            [
             0.5,
             "#f7f7f7"
            ],
            [
             0.6,
             "#e6f5d0"
            ],
            [
             0.7,
             "#b8e186"
            ],
            [
             0.8,
             "#7fbc41"
            ],
            [
             0.9,
             "#4d9221"
            ],
            [
             1,
             "#276419"
            ]
           ],
           "sequential": [
            [
             0,
             "#0d0887"
            ],
            [
             0.1111111111111111,
             "#46039f"
            ],
            [
             0.2222222222222222,
             "#7201a8"
            ],
            [
             0.3333333333333333,
             "#9c179e"
            ],
            [
             0.4444444444444444,
             "#bd3786"
            ],
            [
             0.5555555555555556,
             "#d8576b"
            ],
            [
             0.6666666666666666,
             "#ed7953"
            ],
            [
             0.7777777777777778,
             "#fb9f3a"
            ],
            [
             0.8888888888888888,
             "#fdca26"
            ],
            [
             1,
             "#f0f921"
            ]
           ],
           "sequentialminus": [
            [
             0,
             "#0d0887"
            ],
            [
             0.1111111111111111,
             "#46039f"
            ],
            [
             0.2222222222222222,
             "#7201a8"
            ],
            [
             0.3333333333333333,
             "#9c179e"
            ],
            [
             0.4444444444444444,
             "#bd3786"
            ],
            [
             0.5555555555555556,
             "#d8576b"
            ],
            [
             0.6666666666666666,
             "#ed7953"
            ],
            [
             0.7777777777777778,
             "#fb9f3a"
            ],
            [
             0.8888888888888888,
             "#fdca26"
            ],
            [
             1,
             "#f0f921"
            ]
           ]
          },
          "colorway": [
           "#636efa",
           "#EF553B",
           "#00cc96",
           "#ab63fa",
           "#FFA15A",
           "#19d3f3",
           "#FF6692",
           "#B6E880",
           "#FF97FF",
           "#FECB52"
          ],
          "font": {
           "color": "#2a3f5f"
          },
          "geo": {
           "bgcolor": "white",
           "lakecolor": "white",
           "landcolor": "#E5ECF6",
           "showlakes": true,
           "showland": true,
           "subunitcolor": "white"
          },
          "hoverlabel": {
           "align": "left"
          },
          "hovermode": "closest",
          "mapbox": {
           "style": "light"
          },
          "paper_bgcolor": "white",
          "plot_bgcolor": "#E5ECF6",
          "polar": {
           "angularaxis": {
            "gridcolor": "white",
            "linecolor": "white",
            "ticks": ""
           },
           "bgcolor": "#E5ECF6",
           "radialaxis": {
            "gridcolor": "white",
            "linecolor": "white",
            "ticks": ""
           }
          },
          "scene": {
           "xaxis": {
            "backgroundcolor": "#E5ECF6",
            "gridcolor": "white",
            "gridwidth": 2,
            "linecolor": "white",
            "showbackground": true,
            "ticks": "",
            "zerolinecolor": "white"
           },
           "yaxis": {
            "backgroundcolor": "#E5ECF6",
            "gridcolor": "white",
            "gridwidth": 2,
            "linecolor": "white",
            "showbackground": true,
            "ticks": "",
            "zerolinecolor": "white"
           },
           "zaxis": {
            "backgroundcolor": "#E5ECF6",
            "gridcolor": "white",
            "gridwidth": 2,
            "linecolor": "white",
            "showbackground": true,
            "ticks": "",
            "zerolinecolor": "white"
           }
          },
          "shapedefaults": {
           "line": {
            "color": "#2a3f5f"
           }
          },
          "ternary": {
           "aaxis": {
            "gridcolor": "white",
            "linecolor": "white",
            "ticks": ""
           },
           "baxis": {
            "gridcolor": "white",
            "linecolor": "white",
            "ticks": ""
           },
           "bgcolor": "#E5ECF6",
           "caxis": {
            "gridcolor": "white",
            "linecolor": "white",
            "ticks": ""
           }
          },
          "title": {
           "x": 0.05
          },
          "xaxis": {
           "automargin": true,
           "gridcolor": "white",
           "linecolor": "white",
           "ticks": "",
           "title": {
            "standoff": 15
           },
           "zerolinecolor": "white",
           "zerolinewidth": 2
          },
          "yaxis": {
           "automargin": true,
           "gridcolor": "white",
           "linecolor": "white",
           "ticks": "",
           "title": {
            "standoff": 15
           },
           "zerolinecolor": "white",
           "zerolinewidth": 2
          }
         }
        },
        "title": {
         "text": "2D projection of embeddings"
        },
        "width": 800,
        "xaxis": {
         "autorange": true,
         "range": [
          -0.5263340859298975,
          0.5534916665415137
         ],
         "title": {
          "text": "PCA compotent 1 (20 %)"
         },
         "type": "linear"
        },
        "yaxis": {
         "autorange": true,
         "range": [
          -0.42281060336269904,
          0.6048038871156637
         ],
         "title": {
          "text": "PCA compotent 2 (12 %)"
         },
         "type": "linear"
        }
       }
      },
      "image/png": "[encoded data removed]",
      "text/html": [
       "<div>                            <div id=\"5a60172b-d082-4069-be82-c1ede7416bfe\" class=\"plotly-graph-div\" style=\"height:600px; width:800px;\"></div>            <script type=\"text/javascript\">                require([\"plotly\"], function(Plotly) {                    window.PLOTLYENV=window.PLOTLYENV || {};                                    if (document.getElementById(\"5a60172b-d082-4069-be82-c1ede7416bfe\")) {                    Plotly.newPlot(                        \"5a60172b-d082-4069-be82-c1ede7416bfe\",                        [{\"hoverinfo\":\"text\",\"hovertext\":[\"Python est un langage de programmation interprété dynamique et polyvalent.\",\"Les développeurs utilisent souvent Python pour l'analyse de données en raison de ses bibliothèques robustes comme Pandas et NumPy.\",\"La syntaxe claire et concise de Python en fait un excellent choix pour les débutants en programmation.\",\"Python est un langage polyvalent utilisé dans des domaines allant du développement de jeux à l'automatisation des tâches système.\",\"Les grandes entreprises telles que Google Facebook et Netflix font largement usage de Python dans leur infrastructure logicielle.\",\"Les listes en Python sont des structures de données flexibles et polyvalentes permettant de stocker et de manipuler des collections d'éléments.\",\"La vaste bibliothèque standard de Python offre des modules pour pratiquement toutes les tâches courantes de programmation.\",\"Les frameworks web populaires comme Django et Flask sont écrits en Python permettant un développement rapide et efficace des applications web.\"],\"marker\":{\"colorscale\":[[0.0,\"#440154\"],[0.1111111111111111,\"#482878\"],[0.2222222222222222,\"#3e4989\"],[0.3333333333333333,\"#31688e\"],[0.4444444444444444,\"#26828e\"],[0.5555555555555556,\"#1f9e89\"],[0.6666666666666666,\"#35b779\"],[0.7777777777777778,\"#6ece58\"],[0.8888888888888888,\"#b5de2b\"],[1.0,\"#fde725\"]],\"opacity\":0.8,\"size\":8},\"mode\":\"markers\",\"name\":\"Programmation\",\"x\":[0.466165927259119,0.40123071678670086,0.41099991885961495,0.49002822319450967,0.32910014604671517,0.33460476496181246,0.376372281155422,0.4347873000611889],\"y\":[0.033150462260785524,-0.2368069285152452,-0.02997865103299267,-0.06475847537610888,-0.18543649576997512,0.01461244603561928,-0.1593023941281154,-0.14060426758112257],\"type\":\"scatter\"},{\"hoverinfo\":\"text\",\"hovertext\":[\"Le python royal est une espèce de serpent non venimeux originaire d'Afrique.\",\"Les pythons peuvent avaler des proies entières grâce à leur mâchoire extensible.\",\"Certains pythons peuvent atteindre des longueurs impressionnantes dépassant souvent les 6 mètres.\",\"Les pythons sont non venimeux et tuent leur proie en l'étouffant\",\"Les pandas géants sont célèbres pour leur pelage noir et blanc distinctif.\",\"Les pandas roux bien que moins connus que les pandas géants sont également des créatures adorables.\",\"Les pandas passent la majeure partie de leur journée à manger du bambou.\",\"Les pandas géants vivent principalement dans les forêts de bambous des montagnes de Chine centrale\",\"Un panda géant adulte peut manger jusqu'à 12 à 38 kilogrammes de bambou par jour.\",\"Les pandas et les serpents Python sont tous deux des vertébrés.\",\"Certaines espèces de pandas et de Python sont menacées et protégées par des lois de conservation.\",\"Le Panda est un mammifère alors que le Python est un reptile.\"],\"marker\":{\"colorscale\":[[0.0,\"#440154\"],[0.1111111111111111,\"#482878\"],[0.2222222222222222,\"#3e4989\"],[0.3333333333333333,\"#31688e\"],[0.4444444444444444,\"#26828e\"],[0.5555555555555556,\"#1f9e89\"],[0.6666666666666666,\"#35b779\"],[0.7777777777777778,\"#6ece58\"],[0.8888888888888888,\"#b5de2b\"],[1.0,\"#fde725\"]],\"opacity\":0.8,\"size\":8},\"mode\":\"markers\",\"name\":\"Animaux\",\"x\":[-0.12422191037546633,-0.09521634821341235,-0.08936212681925595,-0.1253047334823973,-0.42794144333490103,-0.38535984357038194,-0.41574278922748514,-0.4091727713818286,-0.4628706425828935,-0.21670143258113722,-0.2278018234932195,-0.26359341326270413],\"y\":[0.540577981460766,0.3705479570504655,0.31423165377928586,0.5067360725065205,-0.2504316688766956,-0.19457633317209494,-0.3585846977078014,-0.3371989050213521,-0.3041938763501037,0.19996423934164248,0.07061052660437406,0.21144135449214832],\"type\":\"scatter\"}],                        {\"template\":{\"data\":{\"histogram2dcontour\":[{\"type\":\"histogram2dcontour\",\"colorbar\":{\"outlinewidth\":0,\"ticks\":\"\"},\"colorscale\":[[0.0,\"#0d0887\"],[0.1111111111111111,\"#46039f\"],[0.2222222222222222,\"#7201a8\"],[0.3333333333333333,\"#9c179e\"],[0.4444444444444444,\"#bd3786\"],[0.5555555555555556,\"#d8576b\"],[0.6666666666666666,\"#ed7953\"],[0.7777777777777778,\"#fb9f3a\"],[0.8888888888888888,\"#fdca26\"],[1.0,\"#f0f921\"]]}],\"choropleth\":[{\"type\":\"choropleth\",\"colorbar\":{\"outlinewidth\":0,\"ticks\":\"\"}}],\"histogram2d\":[{\"type\":\"histogram2d\",\"colorbar\":{\"outlinewidth\":0,\"ticks\":\"\"},\"colorscale\":[[0.0,\"#0d0887\"],[0.1111111111111111,\"#46039f\"],[0.2222222222222222,\"#7201a8\"],[0.3333333333333333,\"#9c179e\"],[0.4444444444444444,\"#bd3786\"],[0.5555555555555556,\"#d8576b\"],[0.6666666666666666,\"#ed7953\"],[0.7777777777777778,\"#fb9f3a\"],[0.8888888888888888,\"#fdca26\"],[1.0,\"#f0f921\"]]}],\"heatmap\":[{\"type\":\"heatmap\",\"colorbar\":{\"outlinewidth\":0,\"ticks\":\"\"},\"colorscale\":[[0.0,\"#0d0887\"],[0.1111111111111111,\"#46039f\"],[0.2222222222222222,\"#7201a8\"],[0.3333333333333333,\"#9c179e\"],[0.4444444444444444,\"#bd3786\"],[0.5555555555555556,\"#d8576b\"],[0.6666666666666666,\"#ed7953\"],[0.7777777777777778,\"#fb9f3a\"],[0.8888888888888888,\"#fdca26\"],[1.0,\"#f0f921\"]]}],\"heatmapgl\":[{\"type\":\"heatmapgl\",\"colorbar\":{\"outlinewidth\":0,\"ticks\":\"\"},\"colorscale\":[[0.0,\"#0d0887\"],[0.1111111111111111,\"#46039f\"],[0.2222222222222222,\"#7201a8\"],[0.3333333333333333,\"#9c179e\"],[0.4444444444444444,\"#bd3786\"],[0.5555555555555556,\"#d8576b\"],[0.6666666666666666,\"#ed7953\"],[0.7777777777777778,\"#fb9f3a\"],[0.8888888888888888,\"#fdca26\"],[1.0,\"#f0f921\"]]}],\"contourcarpet\":[{\"type\":\"contourcarpet\",\"colorbar\":{\"outlinewidth\":0,\"ticks\":\"\"}}],\"contour\":[{\"type\":\"contour\",\"colorbar\":{\"outlinewidth\":0,\"ticks\":\"\"},\"colorscale\":[[0.0,\"#0d0887\"],[0.1111111111111111,\"#46039f\"],[0.2222222222222222,\"#7201a8\"],[0.3333333333333333,\"#9c179e\"],[0.4444444444444444,\"#bd3786\"],[0.5555555555555556,\"#d8576b\"],[0.6666666666666666,\"#ed7953\"],[0.7777777777777778,\"#fb9f3a\"],[0.8888888888888888,\"#fdca26\"],[1.0,\"#f0f921\"]]}],\"surface\":[{\"type\":\"surface\",\"colorbar\":{\"outlinewidth\":0,\"ticks\":\"\"},\"colorscale\":[[0.0,\"#0d0887\"],[0.1111111111111111,\"#46039f\"],[0.2222222222222222,\"#7201a8\"],[0.3333333333333333,\"#9c179e\"],[0.4444444444444444,\"#bd3786\"],[0.5555555555555556,\"#d8576b\"],[0.6666666666666666,\"#ed7953\"],[0.7777777777777778,\"#fb9f3a\"],[0.8888888888888888,\"#fdca26\"],[1.0,\"#f0f921\"]]}],\"mesh3d\":[{\"type\":\"mesh3d\",\"colorbar\":{\"outlinewidth\":0,\"ticks\":\"\"}}],\"scatter\":[{\"fillpattern\":{\"fillmode\":\"overlay\",\"size\":10,\"solidity\":0.2},\"type\":\"scatter\"}],\"parcoords\":[{\"type\":\"parcoords\",\"line\":{\"colorbar\":{\"outlinewidth\":0,\"ticks\":\"\"}}}],\"scatterpolargl\":[{\"type\":\"scatterpolargl\",\"marker\":{\"colorbar\":{\"outlinewidth\":0,\"ticks\":\"\"}}}],\"bar\":[{\"error_x\":{\"color\":\"#2a3f5f\"},\"error_y\":{\"color\":\"#2a3f5f\"},\"marker\":{\"line\":{\"color\":\"#E5ECF6\",\"width\":0.5},\"pattern\":{\"fillmode\":\"overlay\",\"size\":10,\"solidity\":0.2}},\"type\":\"bar\"}],\"scattergeo\":[{\"type\":\"scattergeo\",\"marker\":{\"colorbar\":{\"outlinewidth\":0,\"ticks\":\"\"}}}],\"scatterpolar\":[{\"type\":\"scatterpolar\",\"marker\":{\"colorbar\":{\"outlinewidth\":0,\"ticks\":\"\"}}}],\"histogram\":[{\"marker\":{\"pattern\":{\"fillmode\":\"overlay\",\"size\":10,\"solidity\":0.2}},\"type\":\"histogram\"}],\"scattergl\":[{\"type\":\"scattergl\",\"marker\":{\"colorbar\":{\"outlinewidth\":0,\"ticks\":\"\"}}}],\"scatter3d\":[{\"type\":\"scatter3d\",\"line\":{\"colorbar\":{\"outlinewidth\":0,\"ticks\":\"\"}},\"marker\":{\"colorbar\":{\"outlinewidth\":0,\"ticks\":\"\"}}}],\"scattermapbox\":[{\"type\":\"scattermapbox\",\"marker\":{\"colorbar\":{\"outlinewidth\":0,\"ticks\":\"\"}}}],\"scatterternary\":[{\"type\":\"scatterternary\",\"marker\":{\"colorbar\":{\"outlinewidth\":0,\"ticks\":\"\"}}}],\"scattercarpet\":[{\"type\":\"scattercarpet\",\"marker\":{\"colorbar\":{\"outlinewidth\":0,\"ticks\":\"\"}}}],\"carpet\":[{\"aaxis\":{\"endlinecolor\":\"#2a3f5f\",\"gridcolor\":\"white\",\"linecolor\":\"white\",\"minorgridcolor\":\"white\",\"startlinecolor\":\"#2a3f5f\"},\"baxis\":{\"endlinecolor\":\"#2a3f5f\",\"gridcolor\":\"white\",\"linecolor\":\"white\",\"minorgridcolor\":\"white\",\"startlinecolor\":\"#2a3f5f\"},\"type\":\"carpet\"}],\"table\":[{\"cells\":{\"fill\":{\"color\":\"#EBF0F8\"},\"line\":{\"color\":\"white\"}},\"header\":{\"fill\":{\"color\":\"#C8D4E3\"},\"line\":{\"color\":\"white\"}},\"type\":\"table\"}],\"barpolar\":[{\"marker\":{\"line\":{\"color\":\"#E5ECF6\",\"width\":0.5},\"pattern\":{\"fillmode\":\"overlay\",\"size\":10,\"solidity\":0.2}},\"type\":\"barpolar\"}],\"pie\":[{\"automargin\":true,\"type\":\"pie\"}]},\"layout\":{\"autotypenumbers\":\"strict\",\"colorway\":[\"#636efa\",\"#EF553B\",\"#00cc96\",\"#ab63fa\",\"#FFA15A\",\"#19d3f3\",\"#FF6692\",\"#B6E880\",\"#FF97FF\",\"#FECB52\"],\"font\":{\"color\":\"#2a3f5f\"},\"hovermode\":\"closest\",\"hoverlabel\":{\"align\":\"left\"},\"paper_bgcolor\":\"white\",\"plot_bgcolor\":\"#E5ECF6\",\"polar\":{\"bgcolor\":\"#E5ECF6\",\"angularaxis\":{\"gridcolor\":\"white\",\"linecolor\":\"white\",\"ticks\":\"\"},\"radialaxis\":{\"gridcolor\":\"white\",\"linecolor\":\"white\",\"ticks\":\"\"}},\"ternary\":{\"bgcolor\":\"#E5ECF6\",\"aaxis\":{\"gridcolor\":\"white\",\"linecolor\":\"white\",\"ticks\":\"\"},\"baxis\":{\"gridcolor\":\"white\",\"linecolor\":\"white\",\"ticks\":\"\"},\"caxis\":{\"gridcolor\":\"white\",\"linecolor\":\"white\",\"ticks\":\"\"}},\"coloraxis\":{\"colorbar\":{\"outlinewidth\":0,\"ticks\":\"\"}},\"colorscale\":{\"sequential\":[[0.0,\"#0d0887\"],[0.1111111111111111,\"#46039f\"],[0.2222222222222222,\"#7201a8\"],[0.3333333333333333,\"#9c179e\"],[0.4444444444444444,\"#bd3786\"],[0.5555555555555556,\"#d8576b\"],[0.6666666666666666,\"#ed7953\"],[0.7777777777777778,\"#fb9f3a\"],[0.8888888888888888,\"#fdca26\"],[1.0,\"#f0f921\"]],\"sequentialminus\":[[0.0,\"#0d0887\"],[0.1111111111111111,\"#46039f\"],[0.2222222222222222,\"#7201a8\"],[0.3333333333333333,\"#9c179e\"],[0.4444444444444444,\"#bd3786\"],[0.5555555555555556,\"#d8576b\"],[0.6666666666666666,\"#ed7953\"],[0.7777777777777778,\"#fb9f3a\"],[0.8888888888888888,\"#fdca26\"],[1.0,\"#f0f921\"]],\"diverging\":[[0,\"#8e0152\"],[0.1,\"#c51b7d\"],[0.2,\"#de77ae\"],[0.3,\"#f1b6da\"],[0.4,\"#fde0ef\"],[0.5,\"#f7f7f7\"],[0.6,\"#e6f5d0\"],[0.7,\"#b8e186\"],[0.8,\"#7fbc41\"],[0.9,\"#4d9221\"],[1,\"#276419\"]]},\"xaxis\":{\"gridcolor\":\"white\",\"linecolor\":\"white\",\"ticks\":\"\",\"title\":{\"standoff\":15},\"zerolinecolor\":\"white\",\"automargin\":true,\"zerolinewidth\":2},\"yaxis\":{\"gridcolor\":\"white\",\"linecolor\":\"white\",\"ticks\":\"\",\"title\":{\"standoff\":15},\"zerolinecolor\":\"white\",\"automargin\":true,\"zerolinewidth\":2},\"scene\":{\"xaxis\":{\"backgroundcolor\":\"#E5ECF6\",\"gridcolor\":\"white\",\"linecolor\":\"white\",\"showbackground\":true,\"ticks\":\"\",\"zerolinecolor\":\"white\",\"gridwidth\":2},\"yaxis\":{\"backgroundcolor\":\"#E5ECF6\",\"gridcolor\":\"white\",\"linecolor\":\"white\",\"showbackground\":true,\"ticks\":\"\",\"zerolinecolor\":\"white\",\"gridwidth\":2},\"zaxis\":{\"backgroundcolor\":\"#E5ECF6\",\"gridcolor\":\"white\",\"linecolor\":\"white\",\"showbackground\":true,\"ticks\":\"\",\"zerolinecolor\":\"white\",\"gridwidth\":2}},\"shapedefaults\":{\"line\":{\"color\":\"#2a3f5f\"}},\"annotationdefaults\":{\"arrowcolor\":\"#2a3f5f\",\"arrowhead\":0,\"arrowwidth\":1},\"geo\":{\"bgcolor\":\"white\",\"landcolor\":\"#E5ECF6\",\"subunitcolor\":\"white\",\"showland\":true,\"showlakes\":true,\"lakecolor\":\"white\"},\"title\":{\"x\":0.05},\"mapbox\":{\"style\":\"light\"}}},\"margin\":{\"l\":50,\"r\":50,\"b\":100,\"t\":100,\"pad\":10},\"autosize\":false,\"title\":{\"text\":\"2D projection of embeddings\"},\"width\":800,\"height\":600,\"xaxis\":{\"title\":{\"text\":\"PCA compotent 1 (20 %)\"}},\"yaxis\":{\"title\":{\"text\":\"PCA compotent 2 (12 %)\"}}},                        {\"responsive\": true}                    ).then(function(){\n",
       "                            \n",
       "var gd = document.getElementById('5a60172b-d082-4069-be82-c1ede7416bfe');\n",
       "var x = new MutationObserver(function (mutations, observer) {{\n",
       "        var display = window.getComputedStyle(gd).display;\n",
       "        if (!display || display === 'none') {{\n",
       "            console.log([gd, 'removed!']);\n",
       "            Plotly.purge(gd);\n",
       "            observer.disconnect();\n",
       "        }}\n",
       "}});\n",
       "\n",
       "// Listen for the removal of the full notebook cells\n",
       "var notebookContainer = gd.closest('#notebook-container');\n",
       "if (notebookContainer) {{\n",
       "    x.observe(notebookContainer, {childList: true});\n",
       "}}\n",
       "\n",
       "// Listen for the clearing of the current output cell\n",
       "var outputEl = gd.closest('.output');\n",
       "if (outputEl) {{\n",
       "    x.observe(outputEl, {childList: true});\n",
       "}}\n",
       "\n",
       "                        })                };                });            </script>        </div>"
      ]
     },
     "metadata": {},
     "output_type": "display_data"
    }
   ],
   "source": [
    "# with Plotly\n",
    "plot_2D_plotly(df,  labels=component_labels)"
   ]
  },
  {
   "cell_type": "markdown",
   "metadata": {},
   "source": [
    "### 3D projection of embeddings"
   ]
  },
  {
   "cell_type": "code",
   "execution_count": 90,
   "metadata": {
    "execution": {
     "iopub.execute_input": "2024-05-14T17:36:52.320700Z",
     "iopub.status.busy": "2024-05-14T17:36:52.320265Z",
     "iopub.status.idle": "2024-05-14T17:36:52.343940Z",
     "shell.execute_reply": "2024-05-14T17:36:52.343408Z",
     "shell.execute_reply.started": "2024-05-14T17:36:52.320678Z"
    }
   },
   "outputs": [
    {
     "data": {
      "application/vnd.plotly.v1+json": {
       "config": {
        "plotlyServerURL": "https://plot.ly"
       },
       "data": [
        {
         "hoverinfo": "text",
         "hovertext": [
          "Python est un langage de programmation interprété dynamique et polyvalent.",
          "Les développeurs utilisent souvent Python pour l'analyse de données en raison de ses bibliothèques robustes comme Pandas et NumPy.",
          "La syntaxe claire et concise de Python en fait un excellent choix pour les débutants en programmation.",
          "Python est un langage polyvalent utilisé dans des domaines allant du développement de jeux à l'automatisation des tâches système.",
          "Les grandes entreprises telles que Google Facebook et Netflix font largement usage de Python dans leur infrastructure logicielle.",
          "Les listes en Python sont des structures de données flexibles et polyvalentes permettant de stocker et de manipuler des collections d'éléments.",
          "La vaste bibliothèque standard de Python offre des modules pour pratiquement toutes les tâches courantes de programmation.",
          "Les frameworks web populaires comme Django et Flask sont écrits en Python permettant un développement rapide et efficace des applications web."
         ],
         "marker": {
          "color": 1,
          "colorscale": [
           [
            0,
            "#440154"
           ],
           [
            0.1111111111111111,
            "#482878"
           ],
           [
            0.2222222222222222,
            "#3e4989"
           ],
           [
            0.3333333333333333,
            "#31688e"
           ],
           [
            0.4444444444444444,
            "#26828e"
           ],
           [
            0.5555555555555556,
            "#1f9e89"
           ],
           [
            0.6666666666666666,
            "#35b779"
           ],
           [
            0.7777777777777778,
            "#6ece58"
           ],
           [
            0.8888888888888888,
            "#b5de2b"
           ],
           [
            1,
            "#fde725"
           ]
          ],
          "opacity": 0.8,
          "size": 5
         },
         "mode": "markers",
         "name": "Programmation",
         "type": "scatter3d",
         "x": [
          0.4666218230648091,
          0.4006151390334554,
          0.41102764672717285,
          0.4903497403596862,
          0.32894584361808,
          0.33486823190526105,
          0.3760597387496142,
          0.4345069406945947
         ],
         "y": [
          0.033733168012561265,
          -0.23814396643068086,
          -0.030420249828492955,
          -0.06461418903868253,
          -0.18673253095246858,
          0.014774873744712508,
          -0.1591734266932329,
          -0.1415454261338355
         ],
         "z": [
          0.1993941883092058,
          -0.05980371181549883,
          0.031234215659297276,
          0.12170492090883844,
          -0.21686215782589946,
          0.162682944428916,
          -0.18361982663573942,
          0.012815323477471269
         ]
        },
        {
         "hoverinfo": "text",
         "hovertext": [
          "Le python royal est une espèce de serpent non venimeux originaire d'Afrique.",
          "Les pythons peuvent avaler des proies entières grâce à leur mâchoire extensible.",
          "Certains pythons peuvent atteindre des longueurs impressionnantes dépassant souvent les 6 mètres.",
          "Les pythons sont non venimeux et tuent leur proie en l'étouffant",
          "Les pandas géants sont célèbres pour leur pelage noir et blanc distinctif.",
          "Les pandas roux bien que moins connus que les pandas géants sont également des créatures adorables.",
          "Les pandas passent la majeure partie de leur journée à manger du bambou.",
          "Les pandas géants vivent principalement dans les forêts de bambous des montagnes de Chine centrale",
          "Un panda géant adulte peut manger jusqu'à 12 à 38 kilogrammes de bambou par jour.",
          "Les pandas et les serpents Python sont tous deux des vertébrés.",
          "Certaines espèces de pandas et de Python sont menacées et protégées par des lois de conservation.",
          "Le Panda est un mammifère alors que le Python est un reptile."
         ],
         "marker": {
          "color": 1,
          "colorscale": [
           [
            0,
            "#440154"
           ],
           [
            0.1111111111111111,
            "#482878"
           ],
           [
            0.2222222222222222,
            "#3e4989"
           ],
           [
            0.3333333333333333,
            "#31688e"
           ],
           [
            0.4444444444444444,
            "#26828e"
           ],
           [
            0.5555555555555556,
            "#1f9e89"
           ],
           [
            0.6666666666666666,
            "#35b779"
           ],
           [
            0.7777777777777778,
            "#6ece58"
           ],
           [
            0.8888888888888888,
            "#b5de2b"
           ],
           [
            1,
            "#fde725"
           ]
          ],
          "opacity": 0.8,
          "size": 5
         },
         "mode": "markers",
         "name": "Animaux",
         "type": "scatter3d",
         "x": [
          -0.12347168632708362,
          -0.09479089655429485,
          -0.08992012145837631,
          -0.12401729102985506,
          -0.4284223003641564,
          -0.38547756489964036,
          -0.4160752352367513,
          -0.4111111147984246,
          -0.46279609739211036,
          -0.21601561591361657,
          -0.22773248427804968,
          -0.2631646959003147
         ],
         "y": [
          0.540601099573922,
          0.36981238777251174,
          0.3133387068590323,
          0.5077518520993903,
          -0.2501141827532924,
          -0.19546307483376152,
          -0.35737870550600037,
          -0.33673659628289415,
          -0.302934477075114,
          0.20063969237464332,
          0.07113912134611003,
          0.21146592374557194
         ],
         "z": [
          -0.017010299205250275,
          -0.31817630364556354,
          -0.32576220454566174,
          -0.19667197230191857,
          0.10490867604051472,
          0.29851534417976217,
          -0.17781204988961738,
          -0.14654657718062247,
          -0.20759760416781342,
          0.3236954429515748,
          0.25379825094411373,
          0.341113400313891
         ]
        }
       ],
       "layout": {
        "autosize": false,
        "height": 500,
        "margin": {
         "b": 50,
         "l": 10,
         "pad": 10,
         "r": 10,
         "t": 50
        },
        "scene": {
         "aspectmode": "auto",
         "aspectratio": {
          "x": 1.1490416479053793,
          "y": 1.0825375867438605,
          "z": 0.8039355716677394
         },
         "camera": {
          "center": {
           "x": 0,
           "y": 0,
           "z": 0
          },
          "eye": {
           "x": -1.8983387529434994,
           "y": 2.196417017324151,
           "z": 0.9623255800650442
          },
          "projection": {
           "type": "perspective"
          },
          "up": {
           "x": 0,
           "y": 0,
           "z": 1
          }
         },
         "xaxis": {
          "title": {
           "text": "PCA compotent 1 (20 %)"
          },
          "type": "linear"
         },
         "yaxis": {
          "title": {
           "text": "PCA compotent 2 (12 %)"
          },
          "type": "linear"
         },
         "zaxis": {
          "title": {
           "text": "PCA compotent 3 (7 %)"
          },
          "type": "linear"
         }
        },
        "template": {
         "data": {
          "bar": [
           {
            "error_x": {
             "color": "#2a3f5f"
            },
            "error_y": {
             "color": "#2a3f5f"
            },
            "marker": {
             "line": {
              "color": "#E5ECF6",
              "width": 0.5
             },
             "pattern": {
              "fillmode": "overlay",
              "size": 10,
              "solidity": 0.2
             }
            },
            "type": "bar"
           }
          ],
          "barpolar": [
           {
            "marker": {
             "line": {
              "color": "#E5ECF6",
              "width": 0.5
             },
             "pattern": {
              "fillmode": "overlay",
              "size": 10,
              "solidity": 0.2
             }
            },
            "type": "barpolar"
           }
          ],
          "carpet": [
           {
            "aaxis": {
             "endlinecolor": "#2a3f5f",
             "gridcolor": "white",
             "linecolor": "white",
             "minorgridcolor": "white",
             "startlinecolor": "#2a3f5f"
            },
            "baxis": {
             "endlinecolor": "#2a3f5f",
             "gridcolor": "white",
             "linecolor": "white",
             "minorgridcolor": "white",
             "startlinecolor": "#2a3f5f"
            },
            "type": "carpet"
           }
          ],
          "choropleth": [
           {
            "colorbar": {
             "outlinewidth": 0,
             "ticks": ""
            },
            "type": "choropleth"
           }
          ],
          "contour": [
           {
            "colorbar": {
             "outlinewidth": 0,
             "ticks": ""
            },
            "colorscale": [
             [
              0,
              "#0d0887"
             ],
             [
              0.1111111111111111,
              "#46039f"
             ],
             [
              0.2222222222222222,
              "#7201a8"
             ],
             [
              0.3333333333333333,
              "#9c179e"
             ],
             [
              0.4444444444444444,
              "#bd3786"
             ],
             [
              0.5555555555555556,
              "#d8576b"
             ],
             [
              0.6666666666666666,
              "#ed7953"
             ],
             [
              0.7777777777777778,
              "#fb9f3a"
             ],
             [
              0.8888888888888888,
              "#fdca26"
             ],
             [
              1,
              "#f0f921"
             ]
            ],
            "type": "contour"
           }
          ],
          "contourcarpet": [
           {
            "colorbar": {
             "outlinewidth": 0,
             "ticks": ""
            },
            "type": "contourcarpet"
           }
          ],
          "heatmap": [
           {
            "colorbar": {
             "outlinewidth": 0,
             "ticks": ""
            },
            "colorscale": [
             [
              0,
              "#0d0887"
             ],
             [
              0.1111111111111111,
              "#46039f"
             ],
             [
              0.2222222222222222,
              "#7201a8"
             ],
             [
              0.3333333333333333,
              "#9c179e"
             ],
             [
              0.4444444444444444,
              "#bd3786"
             ],
             [
              0.5555555555555556,
              "#d8576b"
             ],
             [
              0.6666666666666666,
              "#ed7953"
             ],
             [
              0.7777777777777778,
              "#fb9f3a"
             ],
             [
              0.8888888888888888,
              "#fdca26"
             ],
             [
              1,
              "#f0f921"
             ]
            ],
            "type": "heatmap"
           }
          ],
          "heatmapgl": [
           {
            "colorbar": {
             "outlinewidth": 0,
             "ticks": ""
            },
            "colorscale": [
             [
              0,
              "#0d0887"
             ],
             [
              0.1111111111111111,
              "#46039f"
             ],
             [
              0.2222222222222222,
              "#7201a8"
             ],
             [
              0.3333333333333333,
              "#9c179e"
             ],
             [
              0.4444444444444444,
              "#bd3786"
             ],
             [
              0.5555555555555556,
              "#d8576b"
             ],
             [
              0.6666666666666666,
              "#ed7953"
             ],
             [
              0.7777777777777778,
              "#fb9f3a"
             ],
             [
              0.8888888888888888,
              "#fdca26"
             ],
             [
              1,
              "#f0f921"
             ]
            ],
            "type": "heatmapgl"
           }
          ],
          "histogram": [
           {
            "marker": {
             "pattern": {
              "fillmode": "overlay",
              "size": 10,
              "solidity": 0.2
             }
            },
            "type": "histogram"
           }
          ],
          "histogram2d": [
           {
            "colorbar": {
             "outlinewidth": 0,
             "ticks": ""
            },
            "colorscale": [
             [
              0,
              "#0d0887"
             ],
             [
              0.1111111111111111,
              "#46039f"
             ],
             [
              0.2222222222222222,
              "#7201a8"
             ],
             [
              0.3333333333333333,
              "#9c179e"
             ],
             [
              0.4444444444444444,
              "#bd3786"
             ],
             [
              0.5555555555555556,
              "#d8576b"
             ],
             [
              0.6666666666666666,
              "#ed7953"
             ],
             [
              0.7777777777777778,
              "#fb9f3a"
             ],
             [
              0.8888888888888888,
              "#fdca26"
             ],
             [
              1,
              "#f0f921"
             ]
            ],
            "type": "histogram2d"
           }
          ],
          "histogram2dcontour": [
           {
            "colorbar": {
             "outlinewidth": 0,
             "ticks": ""
            },
            "colorscale": [
             [
              0,
              "#0d0887"
             ],
             [
              0.1111111111111111,
              "#46039f"
             ],
             [
              0.2222222222222222,
              "#7201a8"
             ],
             [
              0.3333333333333333,
              "#9c179e"
             ],
             [
              0.4444444444444444,
              "#bd3786"
             ],
             [
              0.5555555555555556,
              "#d8576b"
             ],
             [
              0.6666666666666666,
              "#ed7953"
             ],
             [
              0.7777777777777778,
              "#fb9f3a"
             ],
             [
              0.8888888888888888,
              "#fdca26"
             ],
             [
              1,
              "#f0f921"
             ]
            ],
            "type": "histogram2dcontour"
           }
          ],
          "mesh3d": [
           {
            "colorbar": {
             "outlinewidth": 0,
             "ticks": ""
            },
            "type": "mesh3d"
           }
          ],
          "parcoords": [
           {
            "line": {
             "colorbar": {
              "outlinewidth": 0,
              "ticks": ""
             }
            },
            "type": "parcoords"
           }
          ],
          "pie": [
           {
            "automargin": true,
            "type": "pie"
           }
          ],
          "scatter": [
           {
            "fillpattern": {
             "fillmode": "overlay",
             "size": 10,
             "solidity": 0.2
            },
            "type": "scatter"
           }
          ],
          "scatter3d": [
           {
            "line": {
             "colorbar": {
              "outlinewidth": 0,
              "ticks": ""
             }
            },
            "marker": {
             "colorbar": {
              "outlinewidth": 0,
              "ticks": ""
             }
            },
            "type": "scatter3d"
           }
          ],
          "scattercarpet": [
           {
            "marker": {
             "colorbar": {
              "outlinewidth": 0,
              "ticks": ""
             }
            },
            "type": "scattercarpet"
           }
          ],
          "scattergeo": [
           {
            "marker": {
             "colorbar": {
              "outlinewidth": 0,
              "ticks": ""
             }
            },
            "type": "scattergeo"
           }
          ],
          "scattergl": [
           {
            "marker": {
             "colorbar": {
              "outlinewidth": 0,
              "ticks": ""
             }
            },
            "type": "scattergl"
           }
          ],
          "scattermapbox": [
           {
            "marker": {
             "colorbar": {
              "outlinewidth": 0,
              "ticks": ""
             }
            },
            "type": "scattermapbox"
           }
          ],
          "scatterpolar": [
           {
            "marker": {
             "colorbar": {
              "outlinewidth": 0,
              "ticks": ""
             }
            },
            "type": "scatterpolar"
           }
          ],
          "scatterpolargl": [
           {
            "marker": {
             "colorbar": {
              "outlinewidth": 0,
              "ticks": ""
             }
            },
            "type": "scatterpolargl"
           }
          ],
          "scatterternary": [
           {
            "marker": {
             "colorbar": {
              "outlinewidth": 0,
              "ticks": ""
             }
            },
            "type": "scatterternary"
           }
          ],
          "surface": [
           {
            "colorbar": {
             "outlinewidth": 0,
             "ticks": ""
            },
            "colorscale": [
             [
              0,
              "#0d0887"
             ],
             [
              0.1111111111111111,
              "#46039f"
             ],
             [
              0.2222222222222222,
              "#7201a8"
             ],
             [
              0.3333333333333333,
              "#9c179e"
             ],
             [
              0.4444444444444444,
              "#bd3786"
             ],
             [
              0.5555555555555556,
              "#d8576b"
             ],
             [
              0.6666666666666666,
              "#ed7953"
             ],
             [
              0.7777777777777778,
              "#fb9f3a"
             ],
             [
              0.8888888888888888,
              "#fdca26"
             ],
             [
              1,
              "#f0f921"
             ]
            ],
            "type": "surface"
           }
          ],
          "table": [
           {
            "cells": {
             "fill": {
              "color": "#EBF0F8"
             },
             "line": {
              "color": "white"
             }
            },
            "header": {
             "fill": {
              "color": "#C8D4E3"
             },
             "line": {
              "color": "white"
             }
            },
            "type": "table"
           }
          ]
         },
         "layout": {
          "annotationdefaults": {
           "arrowcolor": "#2a3f5f",
           "arrowhead": 0,
           "arrowwidth": 1
          },
          "autotypenumbers": "strict",
          "coloraxis": {
           "colorbar": {
            "outlinewidth": 0,
            "ticks": ""
           }
          },
          "colorscale": {
           "diverging": [
            [
             0,
             "#8e0152"
            ],
            [
             0.1,
             "#c51b7d"
            ],
            [
             0.2,
             "#de77ae"
            ],
            [
             0.3,
             "#f1b6da"
            ],
            [
             0.4,
             "#fde0ef"
            ],
            [
             0.5,
             "#f7f7f7"
            ],
            [
             0.6,
             "#e6f5d0"
            ],
            [
             0.7,
             "#b8e186"
            ],
            [
             0.8,
             "#7fbc41"
            ],
            [
             0.9,
             "#4d9221"
            ],
            [
             1,
             "#276419"
            ]
           ],
           "sequential": [
            [
             0,
             "#0d0887"
            ],
            [
             0.1111111111111111,
             "#46039f"
            ],
            [
             0.2222222222222222,
             "#7201a8"
            ],
            [
             0.3333333333333333,
             "#9c179e"
            ],
            [
             0.4444444444444444,
             "#bd3786"
            ],
            [
             0.5555555555555556,
             "#d8576b"
            ],
            [
             0.6666666666666666,
             "#ed7953"
            ],
            [
             0.7777777777777778,
             "#fb9f3a"
            ],
            [
             0.8888888888888888,
             "#fdca26"
            ],
            [
             1,
             "#f0f921"
            ]
           ],
           "sequentialminus": [
            [
             0,
             "#0d0887"
            ],
            [
             0.1111111111111111,
             "#46039f"
            ],
            [
             0.2222222222222222,
             "#7201a8"
            ],
            [
             0.3333333333333333,
             "#9c179e"
            ],
            [
             0.4444444444444444,
             "#bd3786"
            ],
            [
             0.5555555555555556,
             "#d8576b"
            ],
            [
             0.6666666666666666,
             "#ed7953"
            ],
            [
             0.7777777777777778,
             "#fb9f3a"
            ],
            [
             0.8888888888888888,
             "#fdca26"
            ],
            [
             1,
             "#f0f921"
            ]
           ]
          },
          "colorway": [
           "#636efa",
           "#EF553B",
           "#00cc96",
           "#ab63fa",
           "#FFA15A",
           "#19d3f3",
           "#FF6692",
           "#B6E880",
           "#FF97FF",
           "#FECB52"
          ],
          "font": {
           "color": "#2a3f5f"
          },
          "geo": {
           "bgcolor": "white",
           "lakecolor": "white",
           "landcolor": "#E5ECF6",
           "showlakes": true,
           "showland": true,
           "subunitcolor": "white"
          },
          "hoverlabel": {
           "align": "left"
          },
          "hovermode": "closest",
          "mapbox": {
           "style": "light"
          },
          "paper_bgcolor": "white",
          "plot_bgcolor": "#E5ECF6",
          "polar": {
           "angularaxis": {
            "gridcolor": "white",
            "linecolor": "white",
            "ticks": ""
           },
           "bgcolor": "#E5ECF6",
           "radialaxis": {
            "gridcolor": "white",
            "linecolor": "white",
            "ticks": ""
           }
          },
          "scene": {
           "xaxis": {
            "backgroundcolor": "#E5ECF6",
            "gridcolor": "white",
            "gridwidth": 2,
            "linecolor": "white",
            "showbackground": true,
            "ticks": "",
            "zerolinecolor": "white"
           },
           "yaxis": {
            "backgroundcolor": "#E5ECF6",
            "gridcolor": "white",
            "gridwidth": 2,
            "linecolor": "white",
            "showbackground": true,
            "ticks": "",
            "zerolinecolor": "white"
           },
           "zaxis": {
            "backgroundcolor": "#E5ECF6",
            "gridcolor": "white",
            "gridwidth": 2,
            "linecolor": "white",
            "showbackground": true,
            "ticks": "",
            "zerolinecolor": "white"
           }
          },
          "shapedefaults": {
           "line": {
            "color": "#2a3f5f"
           }
          },
          "ternary": {
           "aaxis": {
            "gridcolor": "white",
            "linecolor": "white",
            "ticks": ""
           },
           "baxis": {
            "gridcolor": "white",
            "linecolor": "white",
            "ticks": ""
           },
           "bgcolor": "#E5ECF6",
           "caxis": {
            "gridcolor": "white",
            "linecolor": "white",
            "ticks": ""
           }
          },
          "title": {
           "x": 0.05
          },
          "xaxis": {
           "automargin": true,
           "gridcolor": "white",
           "linecolor": "white",
           "ticks": "",
           "title": {
            "standoff": 15
           },
           "zerolinecolor": "white",
           "zerolinewidth": 2
          },
          "yaxis": {
           "automargin": true,
           "gridcolor": "white",
           "linecolor": "white",
           "ticks": "",
           "title": {
            "standoff": 15
           },
           "zerolinecolor": "white",
           "zerolinewidth": 2
          }
         }
        },
        "title": {
         "text": "3D projection of embeddings"
        },
        "width": 800
       }
      },
      "image/png": "[encoded data removed]",
      "text/html": [
       "<div>                            <div id=\"65c4b6b4-db6f-4f38-8ff7-b505c561a4e4\" class=\"plotly-graph-div\" style=\"height:500px; width:800px;\"></div>            <script type=\"text/javascript\">                require([\"plotly\"], function(Plotly) {                    window.PLOTLYENV=window.PLOTLYENV || {};                                    if (document.getElementById(\"65c4b6b4-db6f-4f38-8ff7-b505c561a4e4\")) {                    Plotly.newPlot(                        \"65c4b6b4-db6f-4f38-8ff7-b505c561a4e4\",                        [{\"hoverinfo\":\"text\",\"hovertext\":[\"Python est un langage de programmation interprété dynamique et polyvalent.\",\"Les développeurs utilisent souvent Python pour l'analyse de données en raison de ses bibliothèques robustes comme Pandas et NumPy.\",\"La syntaxe claire et concise de Python en fait un excellent choix pour les débutants en programmation.\",\"Python est un langage polyvalent utilisé dans des domaines allant du développement de jeux à l'automatisation des tâches système.\",\"Les grandes entreprises telles que Google Facebook et Netflix font largement usage de Python dans leur infrastructure logicielle.\",\"Les listes en Python sont des structures de données flexibles et polyvalentes permettant de stocker et de manipuler des collections d'éléments.\",\"La vaste bibliothèque standard de Python offre des modules pour pratiquement toutes les tâches courantes de programmation.\",\"Les frameworks web populaires comme Django et Flask sont écrits en Python permettant un développement rapide et efficace des applications web.\"],\"marker\":{\"color\":1,\"colorscale\":[[0.0,\"#440154\"],[0.1111111111111111,\"#482878\"],[0.2222222222222222,\"#3e4989\"],[0.3333333333333333,\"#31688e\"],[0.4444444444444444,\"#26828e\"],[0.5555555555555556,\"#1f9e89\"],[0.6666666666666666,\"#35b779\"],[0.7777777777777778,\"#6ece58\"],[0.8888888888888888,\"#b5de2b\"],[1.0,\"#fde725\"]],\"opacity\":0.8,\"size\":5},\"mode\":\"markers\",\"name\":\"Programmation\",\"x\":[0.4666218230648091,0.4006151390334554,0.41102764672717285,0.4903497403596862,0.32894584361808,0.33486823190526105,0.3760597387496142,0.4345069406945947],\"y\":[0.033733168012561265,-0.23814396643068086,-0.030420249828492955,-0.06461418903868253,-0.18673253095246858,0.014774873744712508,-0.1591734266932329,-0.1415454261338355],\"z\":[0.1993941883092058,-0.05980371181549883,0.031234215659297276,0.12170492090883844,-0.21686215782589946,0.162682944428916,-0.18361982663573942,0.012815323477471269],\"type\":\"scatter3d\"},{\"hoverinfo\":\"text\",\"hovertext\":[\"Le python royal est une espèce de serpent non venimeux originaire d'Afrique.\",\"Les pythons peuvent avaler des proies entières grâce à leur mâchoire extensible.\",\"Certains pythons peuvent atteindre des longueurs impressionnantes dépassant souvent les 6 mètres.\",\"Les pythons sont non venimeux et tuent leur proie en l'étouffant\",\"Les pandas géants sont célèbres pour leur pelage noir et blanc distinctif.\",\"Les pandas roux bien que moins connus que les pandas géants sont également des créatures adorables.\",\"Les pandas passent la majeure partie de leur journée à manger du bambou.\",\"Les pandas géants vivent principalement dans les forêts de bambous des montagnes de Chine centrale\",\"Un panda géant adulte peut manger jusqu'à 12 à 38 kilogrammes de bambou par jour.\",\"Les pandas et les serpents Python sont tous deux des vertébrés.\",\"Certaines espèces de pandas et de Python sont menacées et protégées par des lois de conservation.\",\"Le Panda est un mammifère alors que le Python est un reptile.\"],\"marker\":{\"color\":1,\"colorscale\":[[0.0,\"#440154\"],[0.1111111111111111,\"#482878\"],[0.2222222222222222,\"#3e4989\"],[0.3333333333333333,\"#31688e\"],[0.4444444444444444,\"#26828e\"],[0.5555555555555556,\"#1f9e89\"],[0.6666666666666666,\"#35b779\"],[0.7777777777777778,\"#6ece58\"],[0.8888888888888888,\"#b5de2b\"],[1.0,\"#fde725\"]],\"opacity\":0.8,\"size\":5},\"mode\":\"markers\",\"name\":\"Animaux\",\"x\":[-0.12347168632708362,-0.09479089655429485,-0.08992012145837631,-0.12401729102985506,-0.4284223003641564,-0.38547756489964036,-0.4160752352367513,-0.4111111147984246,-0.46279609739211036,-0.21601561591361657,-0.22773248427804968,-0.2631646959003147],\"y\":[0.540601099573922,0.36981238777251174,0.3133387068590323,0.5077518520993903,-0.2501141827532924,-0.19546307483376152,-0.35737870550600037,-0.33673659628289415,-0.302934477075114,0.20063969237464332,0.07113912134611003,0.21146592374557194],\"z\":[-0.017010299205250275,-0.31817630364556354,-0.32576220454566174,-0.19667197230191857,0.10490867604051472,0.29851534417976217,-0.17781204988961738,-0.14654657718062247,-0.20759760416781342,0.3236954429515748,0.25379825094411373,0.341113400313891],\"type\":\"scatter3d\"}],                        {\"template\":{\"data\":{\"histogram2dcontour\":[{\"type\":\"histogram2dcontour\",\"colorbar\":{\"outlinewidth\":0,\"ticks\":\"\"},\"colorscale\":[[0.0,\"#0d0887\"],[0.1111111111111111,\"#46039f\"],[0.2222222222222222,\"#7201a8\"],[0.3333333333333333,\"#9c179e\"],[0.4444444444444444,\"#bd3786\"],[0.5555555555555556,\"#d8576b\"],[0.6666666666666666,\"#ed7953\"],[0.7777777777777778,\"#fb9f3a\"],[0.8888888888888888,\"#fdca26\"],[1.0,\"#f0f921\"]]}],\"choropleth\":[{\"type\":\"choropleth\",\"colorbar\":{\"outlinewidth\":0,\"ticks\":\"\"}}],\"histogram2d\":[{\"type\":\"histogram2d\",\"colorbar\":{\"outlinewidth\":0,\"ticks\":\"\"},\"colorscale\":[[0.0,\"#0d0887\"],[0.1111111111111111,\"#46039f\"],[0.2222222222222222,\"#7201a8\"],[0.3333333333333333,\"#9c179e\"],[0.4444444444444444,\"#bd3786\"],[0.5555555555555556,\"#d8576b\"],[0.6666666666666666,\"#ed7953\"],[0.7777777777777778,\"#fb9f3a\"],[0.8888888888888888,\"#fdca26\"],[1.0,\"#f0f921\"]]}],\"heatmap\":[{\"type\":\"heatmap\",\"colorbar\":{\"outlinewidth\":0,\"ticks\":\"\"},\"colorscale\":[[0.0,\"#0d0887\"],[0.1111111111111111,\"#46039f\"],[0.2222222222222222,\"#7201a8\"],[0.3333333333333333,\"#9c179e\"],[0.4444444444444444,\"#bd3786\"],[0.5555555555555556,\"#d8576b\"],[0.6666666666666666,\"#ed7953\"],[0.7777777777777778,\"#fb9f3a\"],[0.8888888888888888,\"#fdca26\"],[1.0,\"#f0f921\"]]}],\"heatmapgl\":[{\"type\":\"heatmapgl\",\"colorbar\":{\"outlinewidth\":0,\"ticks\":\"\"},\"colorscale\":[[0.0,\"#0d0887\"],[0.1111111111111111,\"#46039f\"],[0.2222222222222222,\"#7201a8\"],[0.3333333333333333,\"#9c179e\"],[0.4444444444444444,\"#bd3786\"],[0.5555555555555556,\"#d8576b\"],[0.6666666666666666,\"#ed7953\"],[0.7777777777777778,\"#fb9f3a\"],[0.8888888888888888,\"#fdca26\"],[1.0,\"#f0f921\"]]}],\"contourcarpet\":[{\"type\":\"contourcarpet\",\"colorbar\":{\"outlinewidth\":0,\"ticks\":\"\"}}],\"contour\":[{\"type\":\"contour\",\"colorbar\":{\"outlinewidth\":0,\"ticks\":\"\"},\"colorscale\":[[0.0,\"#0d0887\"],[0.1111111111111111,\"#46039f\"],[0.2222222222222222,\"#7201a8\"],[0.3333333333333333,\"#9c179e\"],[0.4444444444444444,\"#bd3786\"],[0.5555555555555556,\"#d8576b\"],[0.6666666666666666,\"#ed7953\"],[0.7777777777777778,\"#fb9f3a\"],[0.8888888888888888,\"#fdca26\"],[1.0,\"#f0f921\"]]}],\"surface\":[{\"type\":\"surface\",\"colorbar\":{\"outlinewidth\":0,\"ticks\":\"\"},\"colorscale\":[[0.0,\"#0d0887\"],[0.1111111111111111,\"#46039f\"],[0.2222222222222222,\"#7201a8\"],[0.3333333333333333,\"#9c179e\"],[0.4444444444444444,\"#bd3786\"],[0.5555555555555556,\"#d8576b\"],[0.6666666666666666,\"#ed7953\"],[0.7777777777777778,\"#fb9f3a\"],[0.8888888888888888,\"#fdca26\"],[1.0,\"#f0f921\"]]}],\"mesh3d\":[{\"type\":\"mesh3d\",\"colorbar\":{\"outlinewidth\":0,\"ticks\":\"\"}}],\"scatter\":[{\"fillpattern\":{\"fillmode\":\"overlay\",\"size\":10,\"solidity\":0.2},\"type\":\"scatter\"}],\"parcoords\":[{\"type\":\"parcoords\",\"line\":{\"colorbar\":{\"outlinewidth\":0,\"ticks\":\"\"}}}],\"scatterpolargl\":[{\"type\":\"scatterpolargl\",\"marker\":{\"colorbar\":{\"outlinewidth\":0,\"ticks\":\"\"}}}],\"bar\":[{\"error_x\":{\"color\":\"#2a3f5f\"},\"error_y\":{\"color\":\"#2a3f5f\"},\"marker\":{\"line\":{\"color\":\"#E5ECF6\",\"width\":0.5},\"pattern\":{\"fillmode\":\"overlay\",\"size\":10,\"solidity\":0.2}},\"type\":\"bar\"}],\"scattergeo\":[{\"type\":\"scattergeo\",\"marker\":{\"colorbar\":{\"outlinewidth\":0,\"ticks\":\"\"}}}],\"scatterpolar\":[{\"type\":\"scatterpolar\",\"marker\":{\"colorbar\":{\"outlinewidth\":0,\"ticks\":\"\"}}}],\"histogram\":[{\"marker\":{\"pattern\":{\"fillmode\":\"overlay\",\"size\":10,\"solidity\":0.2}},\"type\":\"histogram\"}],\"scattergl\":[{\"type\":\"scattergl\",\"marker\":{\"colorbar\":{\"outlinewidth\":0,\"ticks\":\"\"}}}],\"scatter3d\":[{\"type\":\"scatter3d\",\"line\":{\"colorbar\":{\"outlinewidth\":0,\"ticks\":\"\"}},\"marker\":{\"colorbar\":{\"outlinewidth\":0,\"ticks\":\"\"}}}],\"scattermapbox\":[{\"type\":\"scattermapbox\",\"marker\":{\"colorbar\":{\"outlinewidth\":0,\"ticks\":\"\"}}}],\"scatterternary\":[{\"type\":\"scatterternary\",\"marker\":{\"colorbar\":{\"outlinewidth\":0,\"ticks\":\"\"}}}],\"scattercarpet\":[{\"type\":\"scattercarpet\",\"marker\":{\"colorbar\":{\"outlinewidth\":0,\"ticks\":\"\"}}}],\"carpet\":[{\"aaxis\":{\"endlinecolor\":\"#2a3f5f\",\"gridcolor\":\"white\",\"linecolor\":\"white\",\"minorgridcolor\":\"white\",\"startlinecolor\":\"#2a3f5f\"},\"baxis\":{\"endlinecolor\":\"#2a3f5f\",\"gridcolor\":\"white\",\"linecolor\":\"white\",\"minorgridcolor\":\"white\",\"startlinecolor\":\"#2a3f5f\"},\"type\":\"carpet\"}],\"table\":[{\"cells\":{\"fill\":{\"color\":\"#EBF0F8\"},\"line\":{\"color\":\"white\"}},\"header\":{\"fill\":{\"color\":\"#C8D4E3\"},\"line\":{\"color\":\"white\"}},\"type\":\"table\"}],\"barpolar\":[{\"marker\":{\"line\":{\"color\":\"#E5ECF6\",\"width\":0.5},\"pattern\":{\"fillmode\":\"overlay\",\"size\":10,\"solidity\":0.2}},\"type\":\"barpolar\"}],\"pie\":[{\"automargin\":true,\"type\":\"pie\"}]},\"layout\":{\"autotypenumbers\":\"strict\",\"colorway\":[\"#636efa\",\"#EF553B\",\"#00cc96\",\"#ab63fa\",\"#FFA15A\",\"#19d3f3\",\"#FF6692\",\"#B6E880\",\"#FF97FF\",\"#FECB52\"],\"font\":{\"color\":\"#2a3f5f\"},\"hovermode\":\"closest\",\"hoverlabel\":{\"align\":\"left\"},\"paper_bgcolor\":\"white\",\"plot_bgcolor\":\"#E5ECF6\",\"polar\":{\"bgcolor\":\"#E5ECF6\",\"angularaxis\":{\"gridcolor\":\"white\",\"linecolor\":\"white\",\"ticks\":\"\"},\"radialaxis\":{\"gridcolor\":\"white\",\"linecolor\":\"white\",\"ticks\":\"\"}},\"ternary\":{\"bgcolor\":\"#E5ECF6\",\"aaxis\":{\"gridcolor\":\"white\",\"linecolor\":\"white\",\"ticks\":\"\"},\"baxis\":{\"gridcolor\":\"white\",\"linecolor\":\"white\",\"ticks\":\"\"},\"caxis\":{\"gridcolor\":\"white\",\"linecolor\":\"white\",\"ticks\":\"\"}},\"coloraxis\":{\"colorbar\":{\"outlinewidth\":0,\"ticks\":\"\"}},\"colorscale\":{\"sequential\":[[0.0,\"#0d0887\"],[0.1111111111111111,\"#46039f\"],[0.2222222222222222,\"#7201a8\"],[0.3333333333333333,\"#9c179e\"],[0.4444444444444444,\"#bd3786\"],[0.5555555555555556,\"#d8576b\"],[0.6666666666666666,\"#ed7953\"],[0.7777777777777778,\"#fb9f3a\"],[0.8888888888888888,\"#fdca26\"],[1.0,\"#f0f921\"]],\"sequentialminus\":[[0.0,\"#0d0887\"],[0.1111111111111111,\"#46039f\"],[0.2222222222222222,\"#7201a8\"],[0.3333333333333333,\"#9c179e\"],[0.4444444444444444,\"#bd3786\"],[0.5555555555555556,\"#d8576b\"],[0.6666666666666666,\"#ed7953\"],[0.7777777777777778,\"#fb9f3a\"],[0.8888888888888888,\"#fdca26\"],[1.0,\"#f0f921\"]],\"diverging\":[[0,\"#8e0152\"],[0.1,\"#c51b7d\"],[0.2,\"#de77ae\"],[0.3,\"#f1b6da\"],[0.4,\"#fde0ef\"],[0.5,\"#f7f7f7\"],[0.6,\"#e6f5d0\"],[0.7,\"#b8e186\"],[0.8,\"#7fbc41\"],[0.9,\"#4d9221\"],[1,\"#276419\"]]},\"xaxis\":{\"gridcolor\":\"white\",\"linecolor\":\"white\",\"ticks\":\"\",\"title\":{\"standoff\":15},\"zerolinecolor\":\"white\",\"automargin\":true,\"zerolinewidth\":2},\"yaxis\":{\"gridcolor\":\"white\",\"linecolor\":\"white\",\"ticks\":\"\",\"title\":{\"standoff\":15},\"zerolinecolor\":\"white\",\"automargin\":true,\"zerolinewidth\":2},\"scene\":{\"xaxis\":{\"backgroundcolor\":\"#E5ECF6\",\"gridcolor\":\"white\",\"linecolor\":\"white\",\"showbackground\":true,\"ticks\":\"\",\"zerolinecolor\":\"white\",\"gridwidth\":2},\"yaxis\":{\"backgroundcolor\":\"#E5ECF6\",\"gridcolor\":\"white\",\"linecolor\":\"white\",\"showbackground\":true,\"ticks\":\"\",\"zerolinecolor\":\"white\",\"gridwidth\":2},\"zaxis\":{\"backgroundcolor\":\"#E5ECF6\",\"gridcolor\":\"white\",\"linecolor\":\"white\",\"showbackground\":true,\"ticks\":\"\",\"zerolinecolor\":\"white\",\"gridwidth\":2}},\"shapedefaults\":{\"line\":{\"color\":\"#2a3f5f\"}},\"annotationdefaults\":{\"arrowcolor\":\"#2a3f5f\",\"arrowhead\":0,\"arrowwidth\":1},\"geo\":{\"bgcolor\":\"white\",\"landcolor\":\"#E5ECF6\",\"subunitcolor\":\"white\",\"showland\":true,\"showlakes\":true,\"lakecolor\":\"white\"},\"title\":{\"x\":0.05},\"mapbox\":{\"style\":\"light\"}}},\"margin\":{\"l\":10,\"r\":10,\"b\":50,\"t\":50,\"pad\":10},\"autosize\":false,\"title\":{\"text\":\"3D projection of embeddings\"},\"width\":800,\"height\":500,\"scene\":{\"xaxis\":{\"title\":{\"text\":\"PCA compotent 1 (20 %)\"}},\"yaxis\":{\"title\":{\"text\":\"PCA compotent 2 (12 %)\"}},\"zaxis\":{\"title\":{\"text\":\"PCA compotent 3 (7 %)\"}}}},                        {\"responsive\": true}                    ).then(function(){\n",
       "                            \n",
       "var gd = document.getElementById('65c4b6b4-db6f-4f38-8ff7-b505c561a4e4');\n",
       "var x = new MutationObserver(function (mutations, observer) {{\n",
       "        var display = window.getComputedStyle(gd).display;\n",
       "        if (!display || display === 'none') {{\n",
       "            console.log([gd, 'removed!']);\n",
       "            Plotly.purge(gd);\n",
       "            observer.disconnect();\n",
       "        }}\n",
       "}});\n",
       "\n",
       "// Listen for the removal of the full notebook cells\n",
       "var notebookContainer = gd.closest('#notebook-container');\n",
       "if (notebookContainer) {{\n",
       "    x.observe(notebookContainer, {childList: true});\n",
       "}}\n",
       "\n",
       "// Listen for the clearing of the current output cell\n",
       "var outputEl = gd.closest('.output');\n",
       "if (outputEl) {{\n",
       "    x.observe(outputEl, {childList: true});\n",
       "}}\n",
       "\n",
       "                        })                };                });            </script>        </div>"
      ]
     },
     "metadata": {},
     "output_type": "display_data"
    }
   ],
   "source": [
    "# Display the 3D Scatter Plot of Categories\n",
    "fig = go.Figure()\n",
    "\n",
    "for category in categories:\n",
    "    # Get data points\n",
    "    x = df[df[\"category\"] == category][\"pca_comp_1\"]\n",
    "    y = df[df[\"category\"] == category][\"pca_comp_2\"]\n",
    "    z = df[df[\"category\"] == category][\"pca_comp_3\"]\n",
    "    # Set the hover text\n",
    "    hover_text = df[df[\"category\"] == category][\"text\"]\n",
    "\n",
    "    fig.add_trace(\n",
    "        go.Scatter3d(\n",
    "            x=x,\n",
    "            y=y,\n",
    "            z=z,\n",
    "            mode=\"markers\",\n",
    "            marker=dict(size=5, color=i, colorscale=\"Viridis\", opacity=0.8),\n",
    "            name=category,\n",
    "            hovertext=hover_text,\n",
    "            hoverinfo=\"text\",\n",
    "        )\n",
    "    )\n",
    "\n",
    "fig.update_layout(\n",
    "    autosize=False,\n",
    "    title=\"3D projection of embeddings\",\n",
    "    width=800,\n",
    "    height=500,\n",
    "    margin=dict(l=10, r=10, b=50, t=50, pad=10),\n",
    "    scene=dict(\n",
    "        xaxis=dict(title=component_labels[1]),\n",
    "        yaxis=dict(title=component_labels[2]),\n",
    "        zaxis=dict(title=component_labels[3]),\n",
    "    ),\n",
    ")\n",
    "\n",
    "fig.show()"
   ]
  },
  {
   "cell_type": "markdown",
   "metadata": {},
   "source": [
    "## Application to the content of Python course chapters\n",
    "\n",
    "Markdown files should be in `../markdown_raw`"
   ]
  },
  {
   "cell_type": "code",
   "execution_count": 135,
   "metadata": {
    "execution": {
     "iopub.execute_input": "2024-05-14T18:06:15.558985Z",
     "iopub.status.busy": "2024-05-14T18:06:15.558311Z",
     "iopub.status.idle": "2024-05-14T18:06:15.562660Z",
     "shell.execute_reply": "2024-05-14T18:06:15.561887Z",
     "shell.execute_reply.started": "2024-05-14T18:06:15.558962Z"
    }
   },
   "outputs": [],
   "source": [
    "# Path to the chapters\n",
    "markdown_path = \"../data/markdown_raw\"\n",
    "\n",
    "# Define chapters\n",
    "chapters = [\n",
    "    {\"name\": \"Affichage\", \"filename\": \"03_affichage.md\"},\n",
    "    {\"name\": \"Listes\", \"filename\": \"04_listes.md\"},\n",
    "    {\"name\": \"Fonctions\", \"filename\": \"09_fonctions.md\"},\n",
    "    {\"name\": \"Jupyter\", \"filename\": \"18_jupyter.md\"},\n",
    "]"
   ]
  },
  {
   "cell_type": "markdown",
   "metadata": {},
   "source": [
    "The question is:\n",
    "\n",
    "> **Can we correctly separate the chunks of these 4 chapters or are they a bit mixed up?**"
   ]
  },
  {
   "cell_type": "code",
   "execution_count": 136,
   "metadata": {
    "execution": {
     "iopub.execute_input": "2024-05-14T18:06:16.316440Z",
     "iopub.status.busy": "2024-05-14T18:06:16.315722Z",
     "iopub.status.idle": "2024-05-14T18:06:16.332788Z",
     "shell.execute_reply": "2024-05-14T18:06:16.331123Z",
     "shell.execute_reply.started": "2024-05-14T18:06:16.316380Z"
    }
   },
   "outputs": [
    {
     "data": {
      "text/plain": [
       "dict_keys(['Affichage', 'Listes', 'Fonctions', 'Jupyter'])"
      ]
     },
     "execution_count": 136,
     "metadata": {},
     "output_type": "execute_result"
    }
   ],
   "source": [
    "# Get the content of the chapters\n",
    "chapter_content = {}\n",
    "\n",
    "for chapter in chapters:\n",
    "    f_in = Path(markdown_path) / chapter[\"filename\"]\n",
    "    chapter_content[chapter[\"name\"]] = f_in.read_text()\n",
    "\n",
    "chapter_content.keys()"
   ]
  },
  {
   "cell_type": "code",
   "execution_count": 137,
   "metadata": {
    "execution": {
     "iopub.execute_input": "2024-05-14T18:06:16.727274Z",
     "iopub.status.busy": "2024-05-14T18:06:16.726551Z",
     "iopub.status.idle": "2024-05-14T18:06:16.738642Z",
     "shell.execute_reply": "2024-05-14T18:06:16.737219Z",
     "shell.execute_reply.started": "2024-05-14T18:06:16.727215Z"
    }
   },
   "outputs": [],
   "source": [
    "# Split content into chunks\n",
    "def split_text(text: str, chunk_size: int, chunk_overlap: int) -> list[str]:\n",
    "    \"\"\"\"\n",
    "    Split the text into chunks of the specified size and overlap\n",
    "\n",
    "    Parameters\n",
    "    ----------\n",
    "    text : str\n",
    "        The text to split into chunks\n",
    "    chunk_size : int\n",
    "        The size of each chunk\n",
    "    chunk_overlap : int\n",
    "        The overlap between each chunk\n",
    "    \n",
    "    Returns\n",
    "    -------\n",
    "    chunks : list[str]\n",
    "        A list of text chunks\n",
    "\n",
    "    \"\"\"\n",
    "    # Create a character-based text splitter\n",
    "    text_splitter = RecursiveCharacterTextSplitter(\n",
    "        chunk_size=chunk_size,\n",
    "        chunk_overlap=chunk_overlap,\n",
    "        # split on paragraphs, sentences\n",
    "        separators=[\"\\n\\n\", \"\\n\"],\n",
    "    )\n",
    "    # Split the resulting chunks further based on character limits\n",
    "    chunks = text_splitter.split_text(text)\n",
    "\n",
    "    return chunks"
   ]
  },
  {
   "cell_type": "code",
   "execution_count": 138,
   "metadata": {
    "execution": {
     "iopub.execute_input": "2024-05-14T18:06:17.138121Z",
     "iopub.status.busy": "2024-05-14T18:06:17.137380Z",
     "iopub.status.idle": "2024-05-14T18:06:17.154893Z",
     "shell.execute_reply": "2024-05-14T18:06:17.153635Z",
     "shell.execute_reply.started": "2024-05-14T18:06:17.138062Z"
    }
   },
   "outputs": [
    {
     "name": "stdout",
     "output_type": "stream",
     "text": [
      "Chapter: Affichage\n",
      "Number of Chunks: 30\n",
      "\n",
      "\n",
      "Chapter: Listes\n",
      "Number of Chunks: 14\n",
      "\n",
      "\n",
      "Chapter: Fonctions\n",
      "Number of Chunks: 33\n",
      "\n",
      "\n",
      "Chapter: Jupyter\n",
      "Number of Chunks: 14\n",
      "\n",
      "\n"
     ]
    }
   ],
   "source": [
    "# Split the content of the chapters\n",
    "chapter_chunks = {}\n",
    "for name, content in chapter_content.items():\n",
    "    chunks = split_text(content, chunk_size=1000, chunk_overlap=200)\n",
    "    chapter_chunks[name] = chunks\n",
    "\n",
    "for chapter, chunks in chapter_chunks.items():\n",
    "    print(f\"Chapter: {chapter}\")\n",
    "    print(f\"Number of Chunks: {len(chunks)}\")\n",
    "    print(\"\\n\")"
   ]
  },
  {
   "cell_type": "code",
   "execution_count": 139,
   "metadata": {
    "execution": {
     "iopub.execute_input": "2024-05-14T18:06:17.665041Z",
     "iopub.status.busy": "2024-05-14T18:06:17.664754Z",
     "iopub.status.idle": "2024-05-14T18:06:17.677202Z",
     "shell.execute_reply": "2024-05-14T18:06:17.676485Z",
     "shell.execute_reply.started": "2024-05-14T18:06:17.665017Z"
    }
   },
   "outputs": [
    {
     "data": {
      "text/html": [
       "<div>\n",
       "<style scoped>\n",
       "    .dataframe tbody tr th:only-of-type {\n",
       "        vertical-align: middle;\n",
       "    }\n",
       "\n",
       "    .dataframe tbody tr th {\n",
       "        vertical-align: top;\n",
       "    }\n",
       "\n",
       "    .dataframe thead th {\n",
       "        text-align: right;\n",
       "    }\n",
       "</style>\n",
       "<table border=\"1\" class=\"dataframe\">\n",
       "  <thead>\n",
       "    <tr style=\"text-align: right;\">\n",
       "      <th></th>\n",
       "      <th>chapter</th>\n",
       "      <th>chunk</th>\n",
       "    </tr>\n",
       "  </thead>\n",
       "  <tbody>\n",
       "    <tr>\n",
       "      <th>0</th>\n",
       "      <td>Affichage</td>\n",
       "      <td># Affichage\\n\\n## La fonction `print()`\\n\\nDans le chapitre 1, nous avons rencontré la fonction `print()` qui affiche une chaîne de caractères (le...</td>\n",
       "    </tr>\n",
       "    <tr>\n",
       "      <th>1</th>\n",
       "      <td>Affichage</td>\n",
       "      <td>Ligne 4. L'effet de l'argument `end=\"\"` est que les trois chevrons `&gt;&gt;&gt;` se retrouvent collés après la chaîne de caractères `\"Hello world!\"`.\\n\\nU...</td>\n",
       "    </tr>\n",
       "    <tr>\n",
       "      <th>2</th>\n",
       "      <td>Affichage</td>\n",
       "      <td>```python\\n&gt;&gt;&gt; x = 32\\n&gt;&gt;&gt; nom = \"John\"\\n&gt;&gt;&gt; print(nom, \"a\", x, \"ans\")\\nJohn a 32 ans\\n```\\n\\nPython a écrit une phrase complète en remplaçant les...</td>\n",
       "    </tr>\n",
       "    <tr>\n",
       "      <th>3</th>\n",
       "      <td>Affichage</td>\n",
       "      <td>Pour afficher deux chaînes de caractères l'une à côté de l'autre, sans espace, on peut soit les concaténer, soit utiliser l'argument par mot-clé `...</td>\n",
       "    </tr>\n",
       "    <tr>\n",
       "      <th>4</th>\n",
       "      <td>Affichage</td>\n",
       "      <td>close-box-def\\n\\nDepuis la version 3.6, Python a introduit les *f-strings* pour mettre en place l'écriture formatée que nous allons décrire en dét...</td>\n",
       "    </tr>\n",
       "    <tr>\n",
       "      <th>...</th>\n",
       "      <td>...</td>\n",
       "      <td>...</td>\n",
       "    </tr>\n",
       "    <tr>\n",
       "      <th>86</th>\n",
       "      <td>Jupyter</td>\n",
       "      <td>Notez qu'une cellule Markdown n'a pas le marqueur `In [ ]` à sa gauche.\\n\\nLe format Markdown permet de rapidement et très simplement rédiger du t...</td>\n",
       "    </tr>\n",
       "    <tr>\n",
       "      <th>87</th>\n",
       "      <td>Jupyter</td>\n",
       "      <td>![Incorporation d'un graphique dans un notebook Jupyter.](img/jupyter-matplotlib.png \"Incorporation d'un graphique dans un notebook Jupyter.\"){ #f...</td>\n",
       "    </tr>\n",
       "    <tr>\n",
       "      <th>88</th>\n",
       "      <td>Jupyter</td>\n",
       "      <td>close-box-rem\\n\\n\\n## Les *magic commands*\\n\\nLa commande précédente (`%matplotlib inline`) est une *magic command*. Il en existe beaucoup, en voi...</td>\n",
       "    </tr>\n",
       "    <tr>\n",
       "      <th>89</th>\n",
       "      <td>Jupyter</td>\n",
       "      <td>![Lancement d'une commande Unix.](img/jupyter-ls.png){ #fig:jupyter-ls width=80% }\\n\\nopen-box-rem\\n\\nLe lancement de n'importe quelle commande Un...</td>\n",
       "    </tr>\n",
       "    <tr>\n",
       "      <th>90</th>\n",
       "      <td>Jupyter</td>\n",
       "      <td>## JupyterLab\\n\\nEn 2018, le consortium Jupyter a lancé *JupyterLab* qui est un environnement complet d'analyse.\\nPour obtenir cette interface, la...</td>\n",
       "    </tr>\n",
       "  </tbody>\n",
       "</table>\n",
       "<p>91 rows × 2 columns</p>\n",
       "</div>"
      ],
      "text/plain": [
       "      chapter  \\\n",
       "0   Affichage   \n",
       "1   Affichage   \n",
       "2   Affichage   \n",
       "3   Affichage   \n",
       "4   Affichage   \n",
       "..        ...   \n",
       "86    Jupyter   \n",
       "87    Jupyter   \n",
       "88    Jupyter   \n",
       "89    Jupyter   \n",
       "90    Jupyter   \n",
       "\n",
       "                                                                                                                                                    chunk  \n",
       "0   # Affichage\\n\\n## La fonction `print()`\\n\\nDans le chapitre 1, nous avons rencontré la fonction `print()` qui affiche une chaîne de caractères (le...  \n",
       "1   Ligne 4. L'effet de l'argument `end=\"\"` est que les trois chevrons `>>>` se retrouvent collés après la chaîne de caractères `\"Hello world!\"`.\\n\\nU...  \n",
       "2   ```python\\n>>> x = 32\\n>>> nom = \"John\"\\n>>> print(nom, \"a\", x, \"ans\")\\nJohn a 32 ans\\n```\\n\\nPython a écrit une phrase complète en remplaçant les...  \n",
       "3   Pour afficher deux chaînes de caractères l'une à côté de l'autre, sans espace, on peut soit les concaténer, soit utiliser l'argument par mot-clé `...  \n",
       "4   close-box-def\\n\\nDepuis la version 3.6, Python a introduit les *f-strings* pour mettre en place l'écriture formatée que nous allons décrire en dét...  \n",
       "..                                                                                                                                                    ...  \n",
       "86  Notez qu'une cellule Markdown n'a pas le marqueur `In [ ]` à sa gauche.\\n\\nLe format Markdown permet de rapidement et très simplement rédiger du t...  \n",
       "87  ![Incorporation d'un graphique dans un notebook Jupyter.](img/jupyter-matplotlib.png \"Incorporation d'un graphique dans un notebook Jupyter.\"){ #f...  \n",
       "88  close-box-rem\\n\\n\\n## Les *magic commands*\\n\\nLa commande précédente (`%matplotlib inline`) est une *magic command*. Il en existe beaucoup, en voi...  \n",
       "89  ![Lancement d'une commande Unix.](img/jupyter-ls.png){ #fig:jupyter-ls width=80% }\\n\\nopen-box-rem\\n\\nLe lancement de n'importe quelle commande Un...  \n",
       "90  ## JupyterLab\\n\\nEn 2018, le consortium Jupyter a lancé *JupyterLab* qui est un environnement complet d'analyse.\\nPour obtenir cette interface, la...  \n",
       "\n",
       "[91 rows x 2 columns]"
      ]
     },
     "execution_count": 139,
     "metadata": {},
     "output_type": "execute_result"
    }
   ],
   "source": [
    "df = pd.DataFrame(columns=[\"chapter\", \"chunk\"])\n",
    "for chapter, chunks in chapter_chunks.items():\n",
    "    df = pd.concat([\n",
    "        df,\n",
    "        pd.DataFrame({\"chapter\": [chapter]*len(chunks), \"chunk\": chunks})\n",
    "        ], ignore_index=True\n",
    "    )\n",
    "\n",
    "df"
   ]
  },
  {
   "cell_type": "code",
   "execution_count": 140,
   "metadata": {
    "execution": {
     "iopub.execute_input": "2024-05-14T18:06:18.116358Z",
     "iopub.status.busy": "2024-05-14T18:06:18.115611Z",
     "iopub.status.idle": "2024-05-14T18:06:18.127970Z",
     "shell.execute_reply": "2024-05-14T18:06:18.126551Z",
     "shell.execute_reply.started": "2024-05-14T18:06:18.116297Z"
    }
   },
   "outputs": [
    {
     "data": {
      "text/plain": [
       "['Affichage', 'Listes', 'Fonctions', 'Jupyter']"
      ]
     },
     "execution_count": 140,
     "metadata": {},
     "output_type": "execute_result"
    }
   ],
   "source": [
    "# Get the list of chapters\n",
    "chapters = df[\"chapter\"].unique().tolist()\n",
    "chapters"
   ]
  },
  {
   "cell_type": "markdown",
   "metadata": {},
   "source": [
    "### Get embeddings"
   ]
  },
  {
   "cell_type": "code",
   "execution_count": 141,
   "metadata": {
    "execution": {
     "iopub.execute_input": "2024-05-14T18:06:19.091784Z",
     "iopub.status.busy": "2024-05-14T18:06:19.091370Z",
     "iopub.status.idle": "2024-05-14T18:07:02.218960Z",
     "shell.execute_reply": "2024-05-14T18:07:02.218298Z",
     "shell.execute_reply.started": "2024-05-14T18:06:19.091767Z"
    }
   },
   "outputs": [
    {
     "data": {
      "text/html": [
       "<div>\n",
       "<style scoped>\n",
       "    .dataframe tbody tr th:only-of-type {\n",
       "        vertical-align: middle;\n",
       "    }\n",
       "\n",
       "    .dataframe tbody tr th {\n",
       "        vertical-align: top;\n",
       "    }\n",
       "\n",
       "    .dataframe thead th {\n",
       "        text-align: right;\n",
       "    }\n",
       "</style>\n",
       "<table border=\"1\" class=\"dataframe\">\n",
       "  <thead>\n",
       "    <tr style=\"text-align: right;\">\n",
       "      <th></th>\n",
       "      <th>chapter</th>\n",
       "      <th>chunk</th>\n",
       "      <th>embeddings</th>\n",
       "      <th>embeddings_dim</th>\n",
       "      <th>embeddings_norm</th>\n",
       "    </tr>\n",
       "  </thead>\n",
       "  <tbody>\n",
       "    <tr>\n",
       "      <th>0</th>\n",
       "      <td>Affichage</td>\n",
       "      <td># Affichage\\n\\n## La fonction `print()`\\n\\nDans le chapitre 1, nous avons rencontré la fonction `print()` qui affiche une chaîne de caractères (le...</td>\n",
       "      <td>[0.013749700039625168, 0.004799423739314079, 0.0009146321681328118, 0.03575393557548523, -0.02669752947986126, -0.043489616364240646, 0.0012381805...</td>\n",
       "      <td>3072</td>\n",
       "      <td>1.0</td>\n",
       "    </tr>\n",
       "    <tr>\n",
       "      <th>1</th>\n",
       "      <td>Affichage</td>\n",
       "      <td>Ligne 4. L'effet de l'argument `end=\"\"` est que les trois chevrons `&gt;&gt;&gt;` se retrouvent collés après la chaîne de caractères `\"Hello world!\"`.\\n\\nU...</td>\n",
       "      <td>[0.019545402377843857, -0.0049816519021987915, -0.009379944764077663, 0.047592826187610626, -0.00587979331612587, -0.025251921266317368, -0.017985...</td>\n",
       "      <td>3072</td>\n",
       "      <td>1.0</td>\n",
       "    </tr>\n",
       "    <tr>\n",
       "      <th>2</th>\n",
       "      <td>Affichage</td>\n",
       "      <td>```python\\n&gt;&gt;&gt; x = 32\\n&gt;&gt;&gt; nom = \"John\"\\n&gt;&gt;&gt; print(nom, \"a\", x, \"ans\")\\nJohn a 32 ans\\n```\\n\\nPython a écrit une phrase complète en remplaçant les...</td>\n",
       "      <td>[0.04040946066379547, -0.006302121095359325, -0.011963951401412487, 0.046504080295562744, 0.016185127198696136, -0.006906840018928051, 0.008857355...</td>\n",
       "      <td>3072</td>\n",
       "      <td>1.0</td>\n",
       "    </tr>\n",
       "  </tbody>\n",
       "</table>\n",
       "</div>"
      ],
      "text/plain": [
       "     chapter  \\\n",
       "0  Affichage   \n",
       "1  Affichage   \n",
       "2  Affichage   \n",
       "\n",
       "                                                                                                                                                   chunk  \\\n",
       "0  # Affichage\\n\\n## La fonction `print()`\\n\\nDans le chapitre 1, nous avons rencontré la fonction `print()` qui affiche une chaîne de caractères (le...   \n",
       "1  Ligne 4. L'effet de l'argument `end=\"\"` est que les trois chevrons `>>>` se retrouvent collés après la chaîne de caractères `\"Hello world!\"`.\\n\\nU...   \n",
       "2  ```python\\n>>> x = 32\\n>>> nom = \"John\"\\n>>> print(nom, \"a\", x, \"ans\")\\nJohn a 32 ans\\n```\\n\\nPython a écrit une phrase complète en remplaçant les...   \n",
       "\n",
       "                                                                                                                                              embeddings  \\\n",
       "0  [0.013749700039625168, 0.004799423739314079, 0.0009146321681328118, 0.03575393557548523, -0.02669752947986126, -0.043489616364240646, 0.0012381805...   \n",
       "1  [0.019545402377843857, -0.0049816519021987915, -0.009379944764077663, 0.047592826187610626, -0.00587979331612587, -0.025251921266317368, -0.017985...   \n",
       "2  [0.04040946066379547, -0.006302121095359325, -0.011963951401412487, 0.046504080295562744, 0.016185127198696136, -0.006906840018928051, 0.008857355...   \n",
       "\n",
       "   embeddings_dim  embeddings_norm  \n",
       "0            3072              1.0  \n",
       "1            3072              1.0  \n",
       "2            3072              1.0  "
      ]
     },
     "execution_count": 141,
     "metadata": {},
     "output_type": "execute_result"
    }
   ],
   "source": [
    "# Get embeddings, dimension and norm\n",
    "pd.set_option(\"display.max_colwidth\", 150)\n",
    "\n",
    "df[\"embeddings\"] = df[\"chunk\"].apply(get_embeddings)\n",
    "df[\"embeddings_dim\"] = df[\"embeddings\"].apply(lambda x: len(x))\n",
    "df[\"embeddings_norm\"] = df[\"embeddings\"].apply(lambda x: np.linalg.norm(x))\n",
    "df.head(3)"
   ]
  },
  {
   "cell_type": "markdown",
   "metadata": {},
   "source": [
    "### PCA"
   ]
  },
  {
   "cell_type": "code",
   "execution_count": 142,
   "metadata": {
    "execution": {
     "iopub.execute_input": "2024-05-14T18:07:24.410648Z",
     "iopub.status.busy": "2024-05-14T18:07:24.409734Z",
     "iopub.status.idle": "2024-05-14T18:07:24.500190Z",
     "shell.execute_reply": "2024-05-14T18:07:24.499631Z",
     "shell.execute_reply.started": "2024-05-14T18:07:24.410614Z"
    }
   },
   "outputs": [
    {
     "data": {
      "text/html": [
       "<div>\n",
       "<style scoped>\n",
       "    .dataframe tbody tr th:only-of-type {\n",
       "        vertical-align: middle;\n",
       "    }\n",
       "\n",
       "    .dataframe tbody tr th {\n",
       "        vertical-align: top;\n",
       "    }\n",
       "\n",
       "    .dataframe thead th {\n",
       "        text-align: right;\n",
       "    }\n",
       "</style>\n",
       "<table border=\"1\" class=\"dataframe\">\n",
       "  <thead>\n",
       "    <tr style=\"text-align: right;\">\n",
       "      <th></th>\n",
       "      <th>chapter</th>\n",
       "      <th>chunk</th>\n",
       "      <th>embeddings</th>\n",
       "      <th>embeddings_dim</th>\n",
       "      <th>embeddings_norm</th>\n",
       "      <th>pca_comp_1</th>\n",
       "      <th>pca_comp_2</th>\n",
       "      <th>pca_comp_3</th>\n",
       "    </tr>\n",
       "  </thead>\n",
       "  <tbody>\n",
       "    <tr>\n",
       "      <th>0</th>\n",
       "      <td>Affichage</td>\n",
       "      <td># Affichage\\n\\n## La fonction `print()`\\n\\nDans le chapitre 1, nous avons rencontré la fonction `print()` qui affiche une chaîne de caractères (le...</td>\n",
       "      <td>[0.013749700039625168, 0.004799423739314079, 0.0009146321681328118, 0.03575393557548523, -0.02669752947986126, -0.043489616364240646, 0.0012381805...</td>\n",
       "      <td>3072</td>\n",
       "      <td>1.0</td>\n",
       "      <td>0.024603</td>\n",
       "      <td>-0.008120</td>\n",
       "      <td>-0.032844</td>\n",
       "    </tr>\n",
       "    <tr>\n",
       "      <th>1</th>\n",
       "      <td>Affichage</td>\n",
       "      <td>Ligne 4. L'effet de l'argument `end=\"\"` est que les trois chevrons `&gt;&gt;&gt;` se retrouvent collés après la chaîne de caractères `\"Hello world!\"`.\\n\\nU...</td>\n",
       "      <td>[0.019545402377843857, -0.0049816519021987915, -0.009379944764077663, 0.047592826187610626, -0.00587979331612587, -0.025251921266317368, -0.017985...</td>\n",
       "      <td>3072</td>\n",
       "      <td>1.0</td>\n",
       "      <td>0.138866</td>\n",
       "      <td>-0.061333</td>\n",
       "      <td>0.047900</td>\n",
       "    </tr>\n",
       "    <tr>\n",
       "      <th>2</th>\n",
       "      <td>Affichage</td>\n",
       "      <td>```python\\n&gt;&gt;&gt; x = 32\\n&gt;&gt;&gt; nom = \"John\"\\n&gt;&gt;&gt; print(nom, \"a\", x, \"ans\")\\nJohn a 32 ans\\n```\\n\\nPython a écrit une phrase complète en remplaçant les...</td>\n",
       "      <td>[0.04040946066379547, -0.006302121095359325, -0.011963951401412487, 0.046504080295562744, 0.016185127198696136, -0.006906840018928051, 0.008857355...</td>\n",
       "      <td>3072</td>\n",
       "      <td>1.0</td>\n",
       "      <td>0.171965</td>\n",
       "      <td>-0.040078</td>\n",
       "      <td>0.048338</td>\n",
       "    </tr>\n",
       "  </tbody>\n",
       "</table>\n",
       "</div>"
      ],
      "text/plain": [
       "     chapter  \\\n",
       "0  Affichage   \n",
       "1  Affichage   \n",
       "2  Affichage   \n",
       "\n",
       "                                                                                                                                                   chunk  \\\n",
       "0  # Affichage\\n\\n## La fonction `print()`\\n\\nDans le chapitre 1, nous avons rencontré la fonction `print()` qui affiche une chaîne de caractères (le...   \n",
       "1  Ligne 4. L'effet de l'argument `end=\"\"` est que les trois chevrons `>>>` se retrouvent collés après la chaîne de caractères `\"Hello world!\"`.\\n\\nU...   \n",
       "2  ```python\\n>>> x = 32\\n>>> nom = \"John\"\\n>>> print(nom, \"a\", x, \"ans\")\\nJohn a 32 ans\\n```\\n\\nPython a écrit une phrase complète en remplaçant les...   \n",
       "\n",
       "                                                                                                                                              embeddings  \\\n",
       "0  [0.013749700039625168, 0.004799423739314079, 0.0009146321681328118, 0.03575393557548523, -0.02669752947986126, -0.043489616364240646, 0.0012381805...   \n",
       "1  [0.019545402377843857, -0.0049816519021987915, -0.009379944764077663, 0.047592826187610626, -0.00587979331612587, -0.025251921266317368, -0.017985...   \n",
       "2  [0.04040946066379547, -0.006302121095359325, -0.011963951401412487, 0.046504080295562744, 0.016185127198696136, -0.006906840018928051, 0.008857355...   \n",
       "\n",
       "   embeddings_dim  embeddings_norm  pca_comp_1  pca_comp_2  pca_comp_3  \n",
       "0            3072              1.0    0.024603   -0.008120   -0.032844  \n",
       "1            3072              1.0    0.138866   -0.061333    0.047900  \n",
       "2            3072              1.0    0.171965   -0.040078    0.048338  "
      ]
     },
     "execution_count": 142,
     "metadata": {},
     "output_type": "execute_result"
    }
   ],
   "source": [
    "pca = PCA(n_components=3).fit(df[\"embeddings\"].tolist())\n",
    "for idx, component in enumerate(pca.transform(df[\"embeddings\"].tolist()).T, start=1):\n",
    "    col_name = f\"pca_comp_{idx}\"\n",
    "    df[col_name] = component\n",
    "\n",
    "\n",
    "component_labels = {\n",
    "    idx: f\"PCA compotent {idx} ({ratio*100:.0f} %)\"\n",
    "    for idx, ratio in enumerate(pca.explained_variance_ratio_, start=1)\n",
    "}\n",
    "\n",
    "df.head(3)"
   ]
  },
  {
   "cell_type": "markdown",
   "metadata": {},
   "source": [
    "### 2D projection of embeddings"
   ]
  },
  {
   "cell_type": "code",
   "execution_count": 143,
   "metadata": {
    "execution": {
     "iopub.execute_input": "2024-05-14T18:07:28.333740Z",
     "iopub.status.busy": "2024-05-14T18:07:28.333517Z",
     "iopub.status.idle": "2024-05-14T18:07:28.505739Z",
     "shell.execute_reply": "2024-05-14T18:07:28.504794Z",
     "shell.execute_reply.started": "2024-05-14T18:07:28.333722Z"
    }
   },
   "outputs": [
    {
     "data": {
      "image/png": "[encoded data removed]",
      "text/plain": [
       "<Figure size 600x600 with 1 Axes>"
      ]
     },
     "metadata": {},
     "output_type": "display_data"
    }
   ],
   "source": [
    "# with Matplotlib\n",
    "fig, ax = plt.subplots(figsize=(6, 6))\n",
    "\n",
    "for chapter in chapters:\n",
    "    ax.scatter(df[df[\"chapter\"] == chapter][\"pca_comp_1\"], \n",
    "                df[df[\"chapter\"] == chapter][\"pca_comp_2\"], \n",
    "                label=chapter)\n",
    "    \n",
    "ax.set_xlabel(component_labels[1])\n",
    "ax.set_ylabel(component_labels[2])\n",
    "ax.set_title(\"2D projection of embeddings\")\n",
    "ax.legend()\n",
    "plt.show()"
   ]
  },
  {
   "cell_type": "code",
   "execution_count": 145,
   "metadata": {
    "execution": {
     "iopub.execute_input": "2024-05-14T18:07:53.222310Z",
     "iopub.status.busy": "2024-05-14T18:07:53.221613Z",
     "iopub.status.idle": "2024-05-14T18:07:53.252348Z",
     "shell.execute_reply": "2024-05-14T18:07:53.251686Z",
     "shell.execute_reply.started": "2024-05-14T18:07:53.222288Z"
    }
   },
   "outputs": [
    {
     "data": {
      "application/vnd.plotly.v1+json": {
       "config": {
        "plotlyServerURL": "https://plot.ly"
       },
       "data": [
        {
         "hoverinfo": "text",
         "hovertext": [
          "# Affichage\n\n## La fonction `print()`\n\nDans le chapitre 1, nous avons rencontré la fonction `print()` qui affiche une chaîne de caractères (le fameux `\"Hello world!\"`). En fait, la fonction `print()` affiche l'argument qu'on lui passe entre parenthèses **et** un retour à ligne. Ce retour à ligne supplémentaire est ajouté par défaut. Si toutefois, on ne veut pas afficher ce retour à la ligne, on peut utiliser l'argument par « mot-clé » `end` :\n\n```python\n>>> print(\"Hello world!\")\nHello world!\n>>> print(\"Hello world!\", end=\"\")\nHello world!>>>\n```\n\nLigne 1. On a utilisé l'instruction `print()` classiquement en passant la chaîne de caractères `\"Hello world!\"` en argument.\n\nLigne 3. On a ajouté un second argument `end=\"\"`, en précisant le mot-clé `end`. Nous aborderons les arguments par mot-clé dans le chapitre 9 *Fonctions*. Pour l'instant, dites-vous que cela modifie le comportement par défaut des fonctions.",
          "Ligne 4. L'effet de l'argument `end=\"\"` est que les trois chevrons `>>>` se retrouvent collés après la chaîne de caractères `\"Hello world!\"`.\n\nUne autre manière de s'en rendre compte est d'utiliser deux fonctions `print()` à la suite. Dans la portion de code suivante, le caractère « `;` » sert à séparer plusieurs instructions Python sur une même ligne :\n\n```python\n>>> print(\"Hello\") ; print(\"Joe\")\nHello\nJoe\n>>> print(\"Hello\", end=\"\") ; print(\"Joe\")\nHelloJoe\n>>> print(\"Hello\", end=\" \") ; print(\"Joe\")\nHello Joe\n```\n\nLa fonction `print()` peut également afficher le contenu d'une variable quel que soit son type. Par exemple, pour un entier :\n\n```python\n>>> var = 3\n>>> print(var)\n3\n```\n\nIl est également possible d'afficher le contenu de plusieurs variables (quel que soit leur type) en les séparant par des virgules :\n\n```python\n>>> x = 32\n>>> nom = \"John\"\n>>> print(nom, \"a\", x, \"ans\")\nJohn a 32 ans\n```",
          "```python\n>>> x = 32\n>>> nom = \"John\"\n>>> print(nom, \"a\", x, \"ans\")\nJohn a 32 ans\n```\n\nPython a écrit une phrase complète en remplaçant les variables `x` et `nom` par leur contenu. Vous remarquerez que pour afficher plusieurs éléments de texte sur une seule ligne, nous avons utilisé le séparateur « `,` » entre les différents éléments. Python a également ajouté un espace à chaque fois que l'on utilisait le séparateur « `,` ». On peut modifier ce comportement en passant à la fonction `print()` l'argument par mot-clé `sep` :\n\n```python\n>>> x = 32\n>>> nom = \"John\"\n>>> print(nom, \"a\", x, \"ans\", sep=\"\")\nJohna32ans\n>>> print(nom, \"a\", x, \"ans\", sep=\"-\")\nJohn-a-32-ans\n```\n\nPour afficher deux chaînes de caractères l'une à côté de l'autre, sans espace, on peut soit les concaténer, soit utiliser l'argument par mot-clé `sep` avec une chaîne de caractères vide :",
          "Pour afficher deux chaînes de caractères l'une à côté de l'autre, sans espace, on peut soit les concaténer, soit utiliser l'argument par mot-clé `sep` avec une chaîne de caractères vide :\n\n```python\n>>> ani1 = \"chat\"\n>>> ani2 = \"souris\"\n>>> print(ani1, ani2)\nchat souris\n>>> print(ani1 + ani2)\nchatsouris\n>>> print(ani1, ani2, sep=\"\")\nchatsouris\n```\n\n## Écriture formatée\n\n### Définitions\n\nQue signifie « écriture formatée » ?\n\nopen-box-def\n\nL'écriture formatée est un mécanisme permettant d'afficher des variables avec un certain format, par exemple justifiées à gauche ou à droite, ou encore avec un certain nombre de décimales pour les *floats*. L'écriture formatée est incontournable lorsqu'on veut créer des fichiers organisés en « belles colonnes » comme par exemple les fichiers PDB (pour en savoir plus sur ce format, reportez-vous à l'annexe A *Quelques formats de données rencontrés en biologie*).\n\nclose-box-def",
          "close-box-def\n\nDepuis la version 3.6, Python a introduit les *f-strings* pour mettre en place l'écriture formatée que nous allons décrire en détail dans cette rubrique. Il existe d'autres  manières pour formatter des chaînes de caractères qui étaient utilisées avant la version 3.6, nous en avons mis un rappel bref dans la rubrique suivante. Toutefois, nous conseillons vivement l'utilisation des *f-strings* si vous débutez l'apprentissage de Python.\n\nQue signifie *f-string* ?\n\nopen-box-def\n\n*f-string* est le diminutif de *formatted string literals*. Mais encore ? Dans le chapitre précédent, nous avons vu les chaînes de caractères ou encore *strings* qui étaient représentées par un texte entouré de guillemets simples ou doubles. Par exemple :\n\n```python\n\"Ceci est une chaîne de caractères\"\n```\n\nL'équivalent en *f-string* est tout simplement la même chaîne de caractères précédée du caractère `f` **sans espace** entre les deux :\n\n```python\nf\"Ceci est une chaîne de caractères\"\n```",
          "L'équivalent en *f-string* est tout simplement la même chaîne de caractères précédée du caractère `f` **sans espace** entre les deux :\n\n```python\nf\"Ceci est une chaîne de caractères\"\n```\n\nCe caractère `f` avant les guillemets va indiquer à Python qu'il s'agit d'une *f-string* permettant de mettre en place le mécanisme de l'écriture formatée, contrairement à une *string* normale.\n\nclose-box-def\n\nNous expliquons plus en détail dans le chapitre 10 *Plus sur les chaînes de caractères* pourquoi on doit mettre ce `f` et le mécanisme sous-jacent.\n\n\n### Prise en main des *f-strings*\n\nLes *f-strings* permettent une meilleure organisation de l'affichage des variables. Reprenons l'exemple ci-dessus à propos de notre ami John :\n\n```python\n>>> x = 32\n>>> nom = \"John\"\n>>> print(f\"{nom} a {x} ans\")\nJohn a 32 ans\n```",
          "```python\n>>> x = 32\n>>> nom = \"John\"\n>>> print(f\"{nom} a {x} ans\")\nJohn a 32 ans\n```\n\nIl suffit de passer un nom de variable au sein de chaque couple d'accolades et Python les remplace par leur contenu ! Première remarque, la syntaxe apparait plus lisible que l'équivalent vu ci-avant `print(nom, \"a\", x, \"ans\")`. Bien sûr, il ne faut pas omettre le `f` avant le premier guillemet, sinon Python prendra cela pour une chaîne de caractères normale et ne mettra pas en place ce mécanisme de remplacement :\n\n```python\n>>> print(\"{nom} a {x} ans\")\n{nom} a {x} ans\n```\n\nopen-box-rem\n\nUne variable est utilisable plus d'une fois pour une *f-string* donnée :\n\n```python\n>>> var = \"to\"\n>>> print(f\"{var} et {var} font {var}{var}\")\nto et to font toto\n>>>\n```\n\nclose-box-rem\n\nEnfin, il est possible de mettre entre les accolades des valeurs numériques ou des chaînes de caractères :",
          "close-box-rem\n\nEnfin, il est possible de mettre entre les accolades des valeurs numériques ou des chaînes de caractères :\n\n```python\n>>> print(f\"J'affiche l'entier {10} et le float {3.14}\")\nJ'affiche l'entier 10 et le float 3.14\n>>> print(f\"J'affiche la chaine {'Python'}\")\nJ'affiche la chaine Python\n```\n\nMême si cela ne présente que peu d'intérêt pour l'instant, il s'agit d'une commande Python parfaitement valide. Nous verrons des exemples plus pertinents par la suite. Cela fonctionne avec n'importe quel type de variable (entiers, chaînes de caractères, *floats*, etc.). Attention toutefois pour les chaînes de caractères, utilisez des guillemets simples au sein des accolades si vous définissez votre *f-string* avec des guillemets doubles.\n\n### Spécification de format\n\nLes *f-strings* permettent de remplacer des variables au sein d'une chaîne de caractères. On peut également spécifier le format de leur affichage.",
          "### Spécification de format\n\nLes *f-strings* permettent de remplacer des variables au sein d'une chaîne de caractères. On peut également spécifier le format de leur affichage.\n\nPrenons un exemple. Imaginez maintenant que vous vouliez calculer, puis afficher, la proportion de GC d'un génome. La proportion de GC s'obtient comme la somme des bases Guanine (G) et Cytosine (C) divisée par le nombre total de bases (A, T, C, G) du génome considéré. Si on a, par exemple, 4500 bases G et 2575 bases C, pour un total de 14800 bases, vous pourriez procéder comme suit (notez bien l'utilisation des parenthèses pour gérer les priorités des opérateurs) :\n\n```python\n>>> prop_GC = (4500 + 2575) / 14800\n>>> print(\"La proportion de GC est\", prop_GC)\nLa proportion de GC est 0.4780405405405405\n```",
          "```python\n>>> prop_GC = (4500 + 2575) / 14800\n>>> print(\"La proportion de GC est\", prop_GC)\nLa proportion de GC est 0.4780405405405405\n```\n\nLe résultat obtenu présente trop de décimales (seize dans le cas présent). Pour écrire le résultat plus lisiblement, vous pouvez spécifier dans les accolades `{}` le format qui vous intéresse. Dans le cas présent, vous voulez formater un *float* pour l'afficher avec deux puis trois décimales :\n\n```python\n>>> print(f\"La proportion de GC est {prop_GC:.2f}\")\nLa proportion de GC est 0.48\n>>> print(f\"La proportion de GC est {prop_GC:.3f}\")\nLa proportion de GC est 0.478\n```\n\nDétaillons le contenu des accolades de la première ligne (`{prop_GC:.2f}`) :\n\n- D'abord on a le nom de la variable à formatter, `prop_GC`, c'est indispensable avec les *f-strings*.\n\n- Ensuite on rencontre les deux-points `:`, ceux-ci indiquent que ce qui suit va spécifier le format dans lequel on veut afficher la variable `prop_GC`.",
          "- Ensuite on rencontre les deux-points `:`, ceux-ci indiquent que ce qui suit va spécifier le format dans lequel on veut afficher la variable `prop_GC`.\n\n- À droite des deux-points on trouve `.2f` qui indique ce format : la lettre `f` indique qu'on souhaite afficher la variable sous forme d'un *float*, les caractères `.2` indiquent la précision voulue, soit ici deux chiffres après la virgule. \n\nNotez enfin que le formatage avec `.xf` (`x` étant un entier positif) renvoie un résultat arrondi.\n\nVous pouvez aussi formater des entiers avec la lettre `d` (ici `d` veut dire *decimal integer*) :\n\n```python\n>>> nb_G = 4500\n>>> print(f\"Ce génome contient {nb_G:d} guanines\")\nCe génome contient 4500 guanines\n```\n\nou mettre plusieurs nombres dans une même chaîne de caractères.",
          "```python\n>>> nb_G = 4500\n>>> print(f\"Ce génome contient {nb_G:d} guanines\")\nCe génome contient 4500 guanines\n```\n\nou mettre plusieurs nombres dans une même chaîne de caractères.\n\n```python\n>>> nb_G = 4500\n>>> nb_C = 2575\n>>> print(f\"Ce génome contient {nb_G:d} G et {nb_C:d} C, soit une prop de GC de {prop_GC:.2f}\")\nCe génome contient 4500 G et 2575 C, soit une prop de GC de 0.48\n>>> perc_GC = prop_GC * 100\n>>> print(f\"Ce génome contient {nb_G:d} G et {nb_C:d} C, soit un %GC de {perc_GC:.2f} %\")\nCe génome contient 4500 G et 2575 C, soit un %GC de 47.80 %\n```\n\nEnfin, il est possible de préciser sur combien de caractères vous voulez qu'un résultat soit écrit et comment se fait l'alignement (à gauche, à droite ou centré). Dans la portion de code suivante, le caractère `;` sert de séparateur entre les instructions sur une même ligne :",
          "```python\n>>> print(10) ; print(1000)\n10\n1000\n>>> print(f\"{10:>6d}\") ; print(f\"{1000:>6d}\")\n    10\n  1000\n>>> print(f\"{10:<6d}\") ; print(f\"{1000:<6d}\")\n10    \n1000  \n>>> print(f\"{10:^6d}\") ; print(f\"{1000:^6d}\")\n  10  \n 1000 \n>>> print(f\"{10:*^6d}\") ; print(f\"{1000:*^6d}\")\n**10**\n*1000*\n>>> print(f\"{10:0>6d}\") ; print(f\"{1000:0>6d}\")\n000010\n001000\n```\n\nNotez que `>` spécifie un alignement à droite, `<` spécifie un alignement à gauche et `^` spécifie un alignement centré. Il est également possible d'indiquer le caractère qui servira de remplissage lors des alignements (l'espace est le caractère par défaut).\n\nCe formatage est également possible sur des chaînes de caractères avec la lettre `s` (comme *string*) :\n\n```python\n>>> print(\"atom HN\") ; print(\"atom HDE1\")\natom HN\natom HDE1\n>>> print(f\"atom {'HN':>4s}\") ; print(f\"atom {'HDE1':>4s}\")\natom   HN\natom HDE1\n```",
          "```python\n>>> print(\"atom HN\") ; print(\"atom HDE1\")\natom HN\natom HDE1\n>>> print(f\"atom {'HN':>4s}\") ; print(f\"atom {'HDE1':>4s}\")\natom   HN\natom HDE1\n```\n\nVous voyez tout de suite l'énorme avantage de l'écriture formatée. Elle vous permet d'écrire en colonnes parfaitement alignées. Nous verrons que ceci est très pratique si l'on veut écrire les coordonnées des atomes d'une molécule au format PDB (pour en savoir plus sur ce format, reportez-vous à l'annexe A *Quelques formats de données rencontrés en biologie*).\n\nPour les *floats*, il est possible de combiner le nombre de caractères à afficher avec le nombre de décimales :\n\n```python\n>>> print(f\"{perc_GC:7.3f}\")\n 47.804\n>>> print(f\"{perc_GC:10.3f}\")\n    47.804\n```",
          "```python\n>>> print(f\"{perc_GC:7.3f}\")\n 47.804\n>>> print(f\"{perc_GC:10.3f}\")\n    47.804\n```\n\nL'instruction `7.3f` signifie que l'on souhaite écrire un *float* avec 3 décimales et formaté sur 7 caractères (par défaut justifiés à droite). L'instruction `10.3f` fait la même chose sur 10 caractères. Remarquez que le séparateur décimal `.` compte pour un caractère. De même, si on avait un nombre négatif, le signe `-` compterait aussi pour un caractère.\n\n### Autres détails sur les *f-strings*\n\nSi on veut afficher des accolades littérales avec les *f-strings*, il faut les doubler pour échapper au formatage :\n\n```python\n>>> print(f\"Accolades littérales {{}} ou {{ ou }} et pour le formatage {10}\")\nAccolades littérales {} ou { ou } et pour le formatage 10\n```\n\nUne remarque importante, si on ne met pas de variable à formater entre les accolades dans une *f-string*, cela conduit à une erreur :",
          "Une remarque importante, si on ne met pas de variable à formater entre les accolades dans une *f-string*, cela conduit à une erreur :\n\n```python\n>>> print(f\"accolades sans variable {}\")\n  File \"<stdin>\", line 1\nSyntaxError: f-string: empty expression not allowed\n```\n\nEnfin, il est important de bien comprendre qu'une *f-string* est indépendante de la fonction `print()`. Si on donne une *f-string* à la fonction `print()`, Python évalue d'abord la *f-string* et c'est la chaîne de caractères qui en résulte qui est affichée à l'écran. Tout comme dans l'instruction `print(5*5)`, c'est d'abord la multiplication (`5*5`) qui est évaluée, puis son résultat qui est affiché à l'écran. On peut s'en rendre compte de la manière suivante dans l'interpréteur :\n\n```python\n>>> f\"{perc_GC:10.3f}\"\n'    47.804'\n>>> type(f\"{perc_GC:10.3f}\")\n<class 'str'>\n```\n\nPython considère le résultat de l'instruction `f\"{perc_GC:10.3f}\"` comme une chaîne de caractères et la fonction `type()` nous le confirme.",
          "Python considère le résultat de l'instruction `f\"{perc_GC:10.3f}\"` comme une chaîne de caractères et la fonction `type()` nous le confirme.\n\n### Expressions dans les *f-strings*\n\nUne fonctionnalité extrêmement puissante des *f-strings* est de supporter des expressions Python au sein des accolades. Ainsi, il est possible d'y mettre directement une opération ou encore un appel à une fonction :\n\n```python\n>>> print(f\"Le résultat de 5 * 5 vaut {5 * 5}\")\nLe résultat de 5 * 5 vaut 25\n>>> print(f\"Résultat d'une opération avec des floats : {(4.1 * 6.7)}\")\nRésultat d'une opération avec des floats : 27.47\n>>> print(f\"Le minimum est {min(1, -2, 4)}\")\nLe minimum est -2\n>>> entier = 2\n>>> print(f\"Le type de {entier} est {type(entier)}\")\nLe type de 2 est <class 'int'>\n```\n\nNous aurons l'occasion de revenir sur cette fonctionnalité au fur et à mesure de ce cours.",
          "Nous aurons l'occasion de revenir sur cette fonctionnalité au fur et à mesure de ce cours.\n\nLes possibilités offertes par les *f-strings* sont nombreuses. Pour vous y retrouver dans les différentes options de formatage, nous vous conseillons de consulter ce [mémo](https://fstring.help/cheat/) (en anglais).\n\n\n## Écriture scientifique\n\nPour les nombres très grands ou très petits, l'écriture formatée permet d'afficher un nombre en notation scientifique (sous forme de puissance de 10) avec la lettre `e` :\n\n```python\n>>> print(f\"{1_000_000_000:e}\")\n1.000000e+09\n>>> print(f\"{0.000_000_001:e}\")\n1.000000e-09\n```\n\nIl est également possible de définir le nombre de chiffres après la virgule. Dans l'exemple ci-dessous, on affiche un nombre avec aucun, 3 et 6 chiffres après la virgule :\n\n```python\n>>> avogadro_number = 6.022_140_76e23\n>>> print(f\"{avogadro_number:.0e}\")\n6e+23\n>>> print(f\"{avogadro_number:.3e}\")\n6.022e+23\n>>> print(f\"{avogadro_number:.6e}\")\n6.022141e+23\n```",
          "```python\n>>> avogadro_number = 6.022_140_76e23\n>>> print(f\"{avogadro_number:.0e}\")\n6e+23\n>>> print(f\"{avogadro_number:.3e}\")\n6.022e+23\n>>> print(f\"{avogadro_number:.6e}\")\n6.022141e+23\n```\n\n\n## Ancienne méthode de formatage des chaînes de caractères\n\n*Conseil* : Pour les débutants, tout ce qui est écrit dans cette rubrique n'est pas à retenir.\n\nDans les premières versions de Python jusqu'à la 2.6, il fallait utiliser l'opérateur `%`, puis de la version 2.7 jusqu'à la 3.5 il était plutôt conseillé d'utiliser la méthode `.format()` (voir la rubrique suivante pour la définition du mot « méthode »). Même si les *f-strings* sont devenues la manière conseillée pour mettre en place l'écriture formatée, ces deux anciennes manières, sont encore pleinement compatibles avec les versions modernes de Python.",
          "Même si elle fonctionne encore, la première manière avec l'opérateur `%` est maintenant clairement déconseillée pour un certain nombre de [raisons](https://docs.python.org/fr/3/library/stdtypes.html?highlight=sprintf#printf-style-string-formatting). Néanmoins, nous rappelons ci-dessous son fonctionnement, car il se peut que vous tombiez dessus dans d'anciens livres ou si vous lisez de vieux programmes Python.\n\nLa deuxième manière avec la méthode `.format()` est encore largement utilisée et reste tout à fait valide. Elle est clairement plus puissante et évite un certain nombre de désagréments par rapport à l'opérateur `%`. Vous la croiserez sans doute très fréquemment dans des programmes et ouvrages récents. Heureusement elle a un fonctionnement relativement proche des *f-strings*, donc vous ne serez pas totalement perdus !\n\nEnfin, nous indiquons à la fin de cette rubrique nos conseils sur quelle méthode utiliser.\n\n### L'opérateur `%`",
          "Enfin, nous indiquons à la fin de cette rubrique nos conseils sur quelle méthode utiliser.\n\n### L'opérateur `%`\n\nOn a vu avec les entiers que l'opérateur `%` ou *modulo* renvoyait le reste d'une division entière. Cet opérateur existe aussi pour les chaînes de caractères mais il met en place l'écriture formatée. En voici un exemple :\n\n```python\n>>> x = 32\n>>> nom = \"John\"\n>>> print(\"%s a %d ans\" % (nom, x))\nJohn a 32 ans\n>>> nb_G = 4500\n>>> nb_C = 2575\n>>> prop_GC = (nb_G + nb_C)/14800\n>>> print(\"On a %d G et %d C -> prop GC = %.2f\" % (nb_G, nb_C, prop_GC))\nOn a 4500 G et 2575 C -> prop GC = 0.48\n```\n\nLa syntaxe est légèrement différente. Le symbole `%` est d'abord appelé dans la chaîne de caractères (dans l'exemple ci-dessus `%d`, `%d` et `%.2f`) pour :",
          "La syntaxe est légèrement différente. Le symbole `%` est d'abord appelé dans la chaîne de caractères (dans l'exemple ci-dessus `%d`, `%d` et `%.2f`) pour :\n\n- Désigner l'endroit où sera placée la variable dans la chaîne de caractères.\n- Préciser le type de variable à formater, `d` pour un entier (`i` fonctionne également) ou `f` pour un *float*.\n- Éventuellement pour indiquer le format voulu. Ici `.2` signifie une précision de deux décimales.\n\nLe signe `%` est rappelé une seconde fois (`% (nb_G, nb_C, prop_GC)`) pour indiquer les variables à formater.\n\n### La méthode `.format()`\n\nDepuis la version 2.7 de Python, la méthode `.format()` (voir la rubrique suivante pour la définition d'une méthode) a apporté une nette amélioration pour mettre en place l'écriture formatée. Celle-ci fonctionne de la manière suivante :",
          "```python\n>>> x = 32\n>>> nom = \"John\"\n>>> print(\"{} a {} ans\".format(nom, x))\nJohn a 32 ans\n>>> nb_G = 4500\n>>> nb_C = 2575\n>>> prop_GC = (nb_G + nb_C)/14800\n>>> print(\"On a {} G et {} C -> prop GC = {:.2f}\".format(nb_G, nb_C, prop_GC))\nOn a 4500 G et 2575 C -> prop GC = 0.48\n```\n\n- Dans la chaîne de caractères, les accolades vides `{}` précisent l'endroit où le contenu de la variable doit être inséré.\n- Juste après la chaîne de caractères, l'instruction `.format(nom, x)` fournit la liste des variables à insérer, d'abord la variable `nom` puis la variable `x`. \n- On peut éventuellement préciser le formatage en mettant un caractère deux-points `:` puis par exemple ici `.2f` qui signifie 2 chiffres après la virgule.\n- La méthode `.format()` agit sur la chaîne de caractères à laquelle elle est attachée par le point.",
          "Tout ce que nous avons vu avec les *f-strings* sur la manière de formatter l'affichage d'une variable (après les `:` au sein des accolades) est identique avec la méthode `.format()`. Par exemple `{:.2f}`, `{:0>6d}`, `{:.6e}`, etc., fonctionneront de la même manière. La différence notable est qu'on ne met pas directement le nom de la variable au sein des accolades. Comme pour l'opérateur `%`, c'est l'emplacement dans les arguments passés à la méthode `.format()` qui dicte quelle variable doit être remplacée. Par exemple, dans `\"{} {} {}\".format(bidule, machin, truc)`, les premières accolades remplaceront la variable `bidule`, les deuxièmes la variable `machin`, les troisièmes la variable `truc`.",
          "Le formattage avec la méthode `.format()` se rapproche de la syntaxe des *f-strings* (accolades, deux-points), mais présente l'inconvénient -- comme avec l'opérateur `%` -- de devoir mettre la liste des variables tout à la fin, alourdissant ainsi la syntaxe. En effet, dans l'exemple avec la proportion de GC, la ligne équivalente avec une *f-string* apparait tout de même plus simple à lire :\n\n```python\n>>> print(f\"On a {nb_G} G et {nb_C} C -> prop GC = {prop_GC:.2f}\")\nOn a 4500 G et 2575 C -> prop GC = 0.48\n```\n\nopen-box-adv",
          "```python\n>>> print(f\"On a {nb_G} G et {nb_C} C -> prop GC = {prop_GC:.2f}\")\nOn a 4500 G et 2575 C -> prop GC = 0.48\n```\n\nopen-box-adv\n\nPour conclure, ces deux anciennes façons de formater une chaîne de caractères avec l'opérateur `%` ou la méthode `.format()` vous sont présentées à titre d'information. La première avec l'opérateur `%` est clairement déconseillée. La deuxième avec la méthode `.format()` est encore tout à fait valable. Si vous débutez Python, nous vous conseillons fortement d'apprendre et d'utiliser les *f-strings*. C'est ce que vous rencontrerez dans la suite de ce cours. Si vous connaissez déjà Python et que vous utilisez la méthode `.format()`, nous vous conseillons de passer aux *f-strings*. Depuis que nous les avons découvertes, aucun retour n'est envisageable pour nous tant elles sont puissantes et plus claires à utiliser !",
          "Enfin, si vous souhaitez aller plus loin, voici deux articles (en anglais) très bien faits sur le site *RealPython*: sur l'[écriture formatée](https://realpython.com/python-string-formatting) et sur les [*f-strings*](https://realpython.com/python-f-strings/)\n\nclose-box-adv\n\n## Note sur le vocabulaire et la syntaxe\n\nRevenons quelques instants sur la notion de **méthode** abordée dans ce chapitre avec `.format()`. En Python, on peut considérer chaque variable comme un objet sur lequel on peut appliquer des méthodes. Une méthode est simplement une fonction qui utilise et/ou agit sur l'objet lui-même, les deux étant connectés par un point. La syntaxe générale est de la forme `objet.méthode()`.\n\nDans l'exemple suivant :\n\n```python\n>>> \"Joe a {} ans\".format(20)\n'Joe a 20 ans'\n```\n\nla méthode `.format()` est liée à `\"Joe a {} ans\"` qui est un objet de type chaîne de caractères. La méthode renvoie une nouvelle chaîne de caractères avec le bon formatage (ici, `'Joe a 20 ans'`).",
          "la méthode `.format()` est liée à `\"Joe a {} ans\"` qui est un objet de type chaîne de caractères. La méthode renvoie une nouvelle chaîne de caractères avec le bon formatage (ici, `'Joe a 20 ans'`).\n\nNous aurons de nombreuses occasions de revoir cette notation `objet.méthode()`.\n\n\n## Exercices\n\n*Conseil* : utilisez l'interpréteur Python pour les exercices 2 à 5.\n\n\n### Affichage dans l'interpréteur et dans un programme\n\nOuvrez l'interpréteur Python et tapez l'instruction `1+1`. Que se passe-t-il ?\n\nÉcrivez la même chose dans un script `test.py` que vous allez créer avec un éditeur de texte. Exécutez ce script en tapant `python test.py` dans un *shell*. Que se passe-t-il ? Pourquoi ? Faites en sorte d'afficher le résultat de l'addition `1+1` en exécutant le script dans un *shell*.\n\n\n### Poly-A\n\nGénérez une chaîne de caractères représentant un brin d'ADN poly-A (c'est-à-dire qui ne contient que des bases A) de 20 bases de longueur, sans taper littéralement toutes les bases.",
          "### Poly-A\n\nGénérez une chaîne de caractères représentant un brin d'ADN poly-A (c'est-à-dire qui ne contient que des bases A) de 20 bases de longueur, sans taper littéralement toutes les bases.\n\n\n### Poly-A et poly-GC\n\nSur le modèle de l'exercice précédent, générez en une ligne de code un brin d'ADN poly-A (AAAA...) de 20 bases suivi d'un poly-GC régulier (GCGCGC...) de 40 bases.\n\n\n### Écriture formatée\n\nEn utilisant l'écriture formatée, affichez en une seule ligne les variables `a`, `b` et `c` dont les valeurs sont respectivement la chaîne de caractères `\"salut\"`, le nombre entier `102` et le *float* `10.318`. La variable `c` sera affichée avec 2 décimales.\n\n\n### Écriture formatée 2\n\nDans un script `percGC.py`, calculez un pourcentage de GC avec l'instruction suivante :\n\n`perc_GC = ((4500 + 2575)/14800)*100`",
          "### Écriture formatée 2\n\nDans un script `percGC.py`, calculez un pourcentage de GC avec l'instruction suivante :\n\n`perc_GC = ((4500 + 2575)/14800)*100`\n\nEnsuite, affichez le contenu de la variable `perc_GC` à l'écran avec 0, 1, 2 puis 3 décimales sous forme arrondie en utilisant l'écriture formatée et les *f-strings*. On souhaite que le programme affiche la sortie suivante :\n\n```text\nLe pourcentage de GC est 48     %\nLe pourcentage de GC est 47.8   %\nLe pourcentage de GC est 47.80  %\nLe pourcentage de GC est 47.804 %\n```"
         ],
         "marker": {
          "colorscale": [
           [
            0,
            "#440154"
           ],
           [
            0.1111111111111111,
            "#482878"
           ],
           [
            0.2222222222222222,
            "#3e4989"
           ],
           [
            0.3333333333333333,
            "#31688e"
           ],
           [
            0.4444444444444444,
            "#26828e"
           ],
           [
            0.5555555555555556,
            "#1f9e89"
           ],
           [
            0.6666666666666666,
            "#35b779"
           ],
           [
            0.7777777777777778,
            "#6ece58"
           ],
           [
            0.8888888888888888,
            "#b5de2b"
           ],
           [
            1,
            "#fde725"
           ]
          ],
          "opacity": 0.8,
          "size": 8
         },
         "mode": "markers",
         "name": "Affichage",
         "type": "scatter",
         "x": [
          0.024602879560722588,
          0.1388655681233343,
          0.171964926891132,
          0.2889450451367363,
          0.32191479576156357,
          0.3250446577984859,
          0.3291009345452451,
          0.33773232871021847,
          0.4969287512582874,
          0.4422143914309633,
          0.4665182705855518,
          0.42318288700552414,
          0.3386592672988308,
          0.4162357622673455,
          0.5347998849863937,
          0.4048874901911374,
          0.3197082687251081,
          0.3006409016914391,
          0.4358612188456685,
          0.35010638870258975,
          0.32829635613450314,
          0.4018565370663623,
          0.4147897124054015,
          0.388519972866369,
          0.46674292241906584,
          0.46358317871001076,
          0.2700086530798403,
          0.1441732654235471,
          0.15246136245288816,
          0.3499673312445188
         ],
         "y": [
          -0.008120174632583018,
          -0.06133291414119984,
          -0.04007834919686302,
          0.06849376462678752,
          0.05078401311491109,
          0.017407424153207673,
          -0.03334889565138034,
          0.02655890131463781,
          0.06602207632038694,
          0.08267123206088911,
          0.06532656848377072,
          0.09855157650865672,
          0.07953140653691214,
          0.1179830834616547,
          0.05358966546830183,
          0.002458307953487078,
          -0.04676728827937236,
          0.0758980519988771,
          0.07749618170350583,
          0.05629885608302704,
          0.03205940417293732,
          0.044137559233391715,
          0.048214199659582305,
          0.03614222466792514,
          0.09410080957932265,
          0.12809278823476886,
          -0.004210049841486531,
          0.04311741442093951,
          0.030069259940256075,
          0.061419790544436935
         ]
        },
        {
         "hoverinfo": "text",
         "hovertext": [
          "# Listes\n\n## Définition\n\nUne **liste** est une structure de données qui contient une série de valeurs. Python autorise la construction de liste contenant des valeurs de types différents (par exemple entier et chaîne de caractères), ce qui leur confère une grande flexibilité. Une liste est déclarée par une série de valeurs (n'oubliez pas les guillemets, simples ou doubles, s'il s'agit de chaînes de caractères) séparées par des **virgules**, et le tout encadré par des **crochets**. En voici quelques exemples :\n\n```python\n>>> animaux = [\"girafe\", \"tigre\", \"singe\", \"souris\"]\n>>> tailles = [5, 2.5, 1.75, 0.15]\n>>> mixte = [\"girafe\", 5, \"souris\", 0.15]\n>>> animaux\n['girafe', 'tigre', 'singe', 'souris']\n>>> tailles\n[5, 2.5, 1.75, 0.15]\n>>> mixte\n['girafe', 5, 'souris', 0.15]\n```\n\nLorsque l'on affiche une liste, Python la restitue telle qu'elle a été saisie.\n\n\n## Utilisation",
          "Lorsque l'on affiche une liste, Python la restitue telle qu'elle a été saisie.\n\n\n## Utilisation\n\nUn des gros avantages d'une liste est que vous pouvez appeler ses éléments par leur position. Ce numéro est appelé **indice** (ou *index*) de la liste.\n\n```text\nliste  : [\"girafe\", \"tigre\", \"singe\", \"souris\"]\nindice :        0        1        2         3\n```\n\nSoyez très **attentif** au fait que les indices d'une liste de *n* éléments commencent à *0* et se terminent à *n-1*. Voyez l'exemple suivant :\n\n```python\n>>> animaux = [\"girafe\", \"tigre\", \"singe\", \"souris\"]\n>>> animaux[0]\n'girafe'\n>>> animaux[1]\n'tigre'\n>>> animaux[3]\n'souris'\n```\n\nPar conséquent, si on appelle l'élément d'indice 4 de notre liste, Python renverra un message d'erreur :\n\n```python\n>>> animaux[4]\nTraceback (innermost last):\n  File \"<stdin>\", line 1, in ?\nIndexError: list index out of range\n```\n\nN'oubliez pas ceci ou vous risquez d'obtenir des bugs inattendus !\n\n\n## Opération sur les listes",
          "N'oubliez pas ceci ou vous risquez d'obtenir des bugs inattendus !\n\n\n## Opération sur les listes\n\nTout comme les chaînes de caractères, les listes supportent l'opérateur `+` de concaténation, ainsi que l'opérateur `*` pour la duplication :\n\n```python\n>>> ani1 = [\"girafe\", \"tigre\"]\n>>> ani2 = [\"singe\", \"souris\"]\n>>> ani1 + ani2\n['girafe', 'tigre', 'singe', 'souris']\n>>> ani1 * 3\n['girafe', 'tigre', 'girafe', 'tigre', 'girafe', 'tigre']\n```\n\nL'opérateur `+` est très pratique pour concaténer deux listes.\n\nVous pouvez aussi utiliser la méthode `.append()` lorsque vous souhaitez ajouter un seul élément à la fin d'une liste.\n\nDans l'exemple suivant nous allons créer une liste vide :\n\n```python\n>>> a = []\n>>> a\n[]\n```\n\npuis lui ajouter deux éléments, l'un après l'autre, d'abord avec la concaténation :\n\n```python\n>>> a = a + [15]\n>>> a\n[15]\n>>> a = a + [-5]\n>>> a\n[15, -5]\n```\n\npuis avec la méthode `.append()` :",
          "puis lui ajouter deux éléments, l'un après l'autre, d'abord avec la concaténation :\n\n```python\n>>> a = a + [15]\n>>> a\n[15]\n>>> a = a + [-5]\n>>> a\n[15, -5]\n```\n\npuis avec la méthode `.append()` :\n\n```python\n>>> a.append(13)\n>>> a\n[15, -5, 13]\n>>> a.append(-3)\n>>> a\n[15, -5, 13, -3]\n```\n\nDans l'exemple ci-dessus, nous ajoutons des éléments à une liste en utilisant l'opérateur de concaténation `+` ou la méthode `.append()`. Nous vous conseillons dans ce cas précis d'utiliser la méthode `.append()` dont la syntaxe est plus élégante.\n\nNous reverrons en détail la méthode `.append()` dans le chapitre 11 *Plus sur les listes*.\n\n\n## Indiçage négatif\n\nLa liste peut également être indexée avec des nombres négatifs selon le modèle suivant :\n\n```text\nliste          : [\"girafe\", \"tigre\", \"singe\", \"souris\"]\nindice positif :        0        1        2         3\nindice négatif :       -4       -3       -2        -1\n```\n\nou encore :",
          "```text\nliste          : [\"girafe\", \"tigre\", \"singe\", \"souris\"]\nindice positif :        0        1        2         3\nindice négatif :       -4       -3       -2        -1\n```\n\nou encore :\n\n```text\nliste          : [\"A\", \"B\", \"C\", \"D\", \"E\", \"F\"]\nindice positif :   0    1    2    3    4    5\nindice négatif :  -6   -5   -4   -3   -2   -1\n```\n\nLes indices négatifs reviennent à compter à partir de la fin. Leur principal avantage est que vous pouvez accéder au dernier élément d'une liste à l'aide de l'indice `-1` sans pour autant connaître la longueur de cette liste. L'avant-dernier élément a lui l'indice `-2`, l'avant-avant dernier l'indice `-3`, etc.\n\n```python\n>>> animaux = [\"girafe\", \"tigre\", \"singe\", \"souris\"]\n>>> animaux[-1]\n'souris'\n>>> animaux[-2]\n'singe'\n```\n\nPour accéder au premier élément de la liste avec un indice négatif, il faut par contre connaître le bon indice :\n\n```python\n>>> animaux[-4]\n'girafe'\n```\n\nDans ce cas, on utilise plutôt `animaux[0]`.\n\n\n## Tranches",
          "```python\n>>> animaux[-4]\n'girafe'\n```\n\nDans ce cas, on utilise plutôt `animaux[0]`.\n\n\n## Tranches\n\nUn autre avantage des listes est la possibilité de sélectionner une partie d'une liste en utilisant un indiçage construit sur le modèle `[m:n+1]` pour récupérer tous les éléments, du émième au énième (de l'élément `m` inclus à l'élément `n+1` exclu). On dit alors qu'on récupère une **tranche** de la liste, par exemple :\n\n```python\n>>> animaux = [\"girafe\", \"tigre\", \"singe\", \"souris\"]\n>>> animaux[0:2]\n['girafe', 'tigre']\n>>> animaux[0:3]\n['girafe', 'tigre', 'singe']\n>>> animaux[0:]\n['girafe', 'tigre', 'singe', 'souris']\n>>> animaux[:]\n['girafe', 'tigre', 'singe', 'souris']\n>>> animaux[1:]\n['tigre', 'singe', 'souris']\n>>> animaux[1:-1]\n['tigre', 'singe']\n```\n\nNotez que lorsqu'aucun indice n'est indiqué à gauche ou à droite du symbole deux-points, Python prend par défaut tous les éléments depuis le début ou tous les éléments jusqu'à la fin respectivement.",
          "Notez que lorsqu'aucun indice n'est indiqué à gauche ou à droite du symbole deux-points, Python prend par défaut tous les éléments depuis le début ou tous les éléments jusqu'à la fin respectivement.\n\nOn peut aussi préciser le pas en ajoutant un symbole deux-points supplémentaire et en indiquant le pas par un entier.\n\n```python\n>>> animaux = [\"girafe\", \"tigre\", \"singe\", \"souris\"]\n>>> animaux[0:3:2]\n['girafe', 'singe']\n>>> x = [0, 1, 2, 3, 4, 5, 6, 7, 8, 9]\n>>> x\n[0, 1, 2, 3, 4, 5, 6, 7, 8, 9]\n>>> x[::1]\n[0, 1, 2, 3, 4, 5, 6, 7, 8, 9]\n>>> x[::2]\n[0, 2, 4, 6, 8]\n>>> x[::3]\n[0, 3, 6, 9]\n>>> x[1:6:3]\n[1, 4]\n```\n\nFinalement, on se rend compte que l'accès au contenu d'une liste fonctionne sur le modèle `liste[début:fin:pas]`.\n\n\n## Fonction `len()`\n\nL'instruction `len()` vous permet de connaître la longueur d'une liste, c'est-à-dire le nombre d'éléments que contient la liste. Voici un exemple d'utilisation :",
          "## Fonction `len()`\n\nL'instruction `len()` vous permet de connaître la longueur d'une liste, c'est-à-dire le nombre d'éléments que contient la liste. Voici un exemple d'utilisation :\n\n```python\n>>> animaux = [\"girafe\", \"tigre\", \"singe\", \"souris\"]\n>>> len(animaux)\n4\n>>> len([1, 2, 3, 4, 5, 6, 7, 8])\n8\n```\n\n\n## Les fonctions `range()` et `list()`\n\nL'instruction `range()` est une fonction spéciale en Python qui  génère des nombres entiers compris dans un intervalle. Lorsqu'elle est utilisée en combinaison avec la fonction `list()`, on obtient une liste d'entiers. Par exemple :\n\n```python\n>>> list(range(10))\n[0, 1, 2, 3, 4, 5, 6, 7, 8, 9]\n```\n\nLa commande `list(range(10))` a généré une liste contenant tous les nombres entiers de 0 inclus à 10 **exclu**. Nous verrons l'utilisation de la fonction `range()` toute seule dans le chapitre 5 *Boucles et comparaisons*.",
          "Dans l'exemple ci-dessus, la fonction `range()` a pris un argument, mais elle peut également prendre deux ou trois arguments, voyez plutôt :\n\n```python\n>>> list(range(0, 5))\n[0, 1, 2, 3, 4]\n>>> list(range(15, 20))\n[15, 16, 17, 18, 19]\n>>> list(range(0, 1000, 200))\n[0, 200, 400, 600, 800]\n>>> list(range(2, -2, -1))\n[2, 1, 0, -1]\n```\n\nL'instruction `range()` fonctionne sur le modèle `range([début,] fin[, pas])`. Les arguments entre crochets sont optionnels. Pour obtenir une liste de nombres entiers, il faut l'utiliser systématiquement avec la fonction `list()`.\n\nEnfin, prenez garde aux arguments optionnels par défaut (`0` pour `début` et `1` pour `pas`) :\n\n```python\n>>> list(range(10,0))\n[]\n```",
          "Enfin, prenez garde aux arguments optionnels par défaut (`0` pour `début` et `1` pour `pas`) :\n\n```python\n>>> list(range(10,0))\n[]\n```\n\nIci la liste est vide car Python a pris la valeur du pas par défaut qui est de 1. Ainsi, si on commence à 10 et qu'on avance par pas de 1, on ne pourra jamais atteindre 0. Python génère ainsi une liste vide. Pour éviter ça, il faudrait, par exemple, préciser un pas de -1 pour obtenir une liste d'entiers décroissants :\n\n```python\n>>> list(range(10,0,-1))\n[10, 9, 8, 7, 6, 5, 4, 3, 2, 1]\n```\n\n## Listes de listes\n\nPour finir, sachez qu'il est tout à fait possible de construire des listes de listes. Cette fonctionnalité peut parfois être très pratique. Par exemple :\n\n```python\n>>> enclos1 = [\"girafe\", 4]\n>>> enclos2 = [\"tigre\", 2]\n>>> enclos3 = [\"singe\", 5]\n>>> zoo = [enclos1, enclos2, enclos3]\n>>> zoo\n[['girafe', 4], ['tigre', 2], ['singe', 5]]\n```",
          "```python\n>>> enclos1 = [\"girafe\", 4]\n>>> enclos2 = [\"tigre\", 2]\n>>> enclos3 = [\"singe\", 5]\n>>> zoo = [enclos1, enclos2, enclos3]\n>>> zoo\n[['girafe', 4], ['tigre', 2], ['singe', 5]]\n```\n\nDans cet exemple, chaque sous-liste contient une catégorie d'animal et le nombre d'animaux pour chaque catégorie.\n\nPour accéder à un élément de la liste, on utilise l'indiçage habituel :\n\n```python\n>>> zoo[1]\n['tigre', 2]\n```\n\nPour accéder à un élément de la sous-liste, on utilise un double indiçage :\n\n```python\n>>> zoo[1][0]\n'tigre'\n>>> zoo[1][1]\n2\n```\n\nOn verra un peu plus loin qu'il existe en Python des dictionnaires qui sont également très pratiques pour stocker de l'information structurée. On verra aussi qu'il existe un module nommé *NumPy* qui permet de créer des listes ou des tableaux de nombres (vecteurs et matrices) et de les manipuler.\n\n## Minimum, maximum et somme d'une liste",
          "## Minimum, maximum et somme d'une liste\n\nLes fonctions `min()`, `max()` et `sum()` renvoient respectivement le minimum, le maximum et la somme d'une liste passée en argument.\n\n```python\n>>> liste = list(range(10))\n>>> liste\n[0, 1, 2, 3, 4, 5, 6, 7, 8, 9]\n>>> sum(liste)\n45\n>>> min(liste)\n0\n>>> max(liste)\n9\n```\n\nMême si en théorie ces fonctions peuvent prendre en argument une liste de *strings*, on les utilisera la plupart du temps avec des types numériques (liste d'entiers et / ou de *floats*). \n\nNous avions déjà croisé `min()`, `max()` dans le chapitre 2 *Variables*. On avait vu que ces deux fonctions pouvaient prendre plusieurs arguments entiers et / ou *floats*, par exemple :\n\n```python\n>>> min(3, 4)\n3\n```\n\nAttention toutefois à ne pas mélanger entiers et *floats* d'une part avec une liste d'autre part, car cela renvoie une erreur :",
          "```python\n>>> min(3, 4)\n3\n```\n\nAttention toutefois à ne pas mélanger entiers et *floats* d'une part avec une liste d'autre part, car cela renvoie une erreur :\n\n```python\n>>> min(liste, 3, 4)\nTraceback (most recent call last):\n  File \"<stdin>\", line 1, in <module>\nTypeError: '<' not supported between instances of 'int' and 'list'\n```\n\nSoit on passe plusieurs entiers et / ou *floats* en argument, soit on passe une liste unique.\n\n## Exercices\n\n*Conseil* : utilisez l'interpréteur Python.\n\n\n### Jours de la semaine\n\nConstituez une liste `semaine` contenant les 7 jours de la semaine.\n\n1. À partir de cette liste, comment récupérez-vous seulement les 5 premiers jours de la semaine d'une part, et ceux du week-end d'autre part ? Utilisez pour cela l'indiçage.\n2. Cherchez un autre moyen pour arriver au même résultat (*en utilisant un autre indiçage*).\n3. Trouvez deux manières pour accéder au dernier jour de la semaine.\n4. Inversez les jours de la semaine en une commande.\n\n\n### Saisons",
          "### Saisons\n\nCréez 4 listes `hiver`, `printemps`, `ete` et `automne` contenant les mois correspondants à ces saisons. Créez ensuite une liste `saisons` contenant les listes `hiver`, `printemps`, `ete` et `automne`. Prévoyez ce que renvoient les instructions suivantes, puis vérifiez-le dans l'interpréteur :\n\n1. `saisons[2]`\n2. `saisons[1][0]`\n3. `saisons[1:2]`\n4. `saisons[:][1]`. Comment expliquez-vous ce dernier résultat ?\n\n\n### Table de multiplication par 9\n\nAffichez la table de multiplication par 9 en une seule commande avec les instructions `range()` et `list()`.\n\n\n### Nombres pairs\n\nRépondez à la question suivante en une seule commande. Combien y a-t-il de nombres pairs dans l'intervalle `[2, 10000]` inclus ?"
         ],
         "marker": {
          "colorscale": [
           [
            0,
            "#440154"
           ],
           [
            0.1111111111111111,
            "#482878"
           ],
           [
            0.2222222222222222,
            "#3e4989"
           ],
           [
            0.3333333333333333,
            "#31688e"
           ],
           [
            0.4444444444444444,
            "#26828e"
           ],
           [
            0.5555555555555556,
            "#1f9e89"
           ],
           [
            0.6666666666666666,
            "#35b779"
           ],
           [
            0.7777777777777778,
            "#6ece58"
           ],
           [
            0.8888888888888888,
            "#b5de2b"
           ],
           [
            1,
            "#fde725"
           ]
          ],
          "opacity": 0.8,
          "size": 8
         },
         "mode": "markers",
         "name": "Listes",
         "type": "scatter",
         "x": [
          -0.24913705025788202,
          -0.2543274930239324,
          -0.2172149455308283,
          -0.23944686696791181,
          -0.28074064423712625,
          -0.25108491904188057,
          -0.22963015582976867,
          -0.2640734122896219,
          -0.19536626813790955,
          -0.29626080400503857,
          -0.2894399498100807,
          -0.2136829127923837,
          -0.21471960751602945,
          -0.23307818092369118
         ],
         "y": [
          -0.19001765455483266,
          -0.1573455993857062,
          -0.12728930248276468,
          -0.15350137232056962,
          -0.13405114447641917,
          -0.1771449566457973,
          -0.19620135151015156,
          -0.20513217896470848,
          -0.2757328691983465,
          -0.20707911990881783,
          -0.19927875419538643,
          -0.2844974993919806,
          -0.21562971868929362,
          -0.12661057572512985
         ]
        },
        {
         "hoverinfo": "text",
         "hovertext": [
          "# Fonctions\n\n## Principe et généralités\n\nEn programmation, les **fonctions** sont très utiles pour réaliser plusieurs fois la même opération au sein d'un programme. Elles rendent également le code plus lisible et plus clair en le fractionnant en blocs logiques.\n\nVous connaissez déjà certaines fonctions Python. Par exemple `math.cos(angle)` du module `math` renvoie le cosinus de la variable `angle` exprimé en radian. Vous connaissez aussi des fonctions internes à Python comme `range()` ou `len()`. Pour l'instant, une fonction est à vos yeux une sorte de « boîte noire » (voir figure @fig:schema_fonction) :\n\n1. À laquelle vous passez aucune, une ou plusieurs variable(s) entre parenthèses. Ces variables sont appelées **arguments**. Il peut s'agir de n'importe quel type d'objet Python.\n2. Qui effectue une action.\n3. Et qui renvoie un objet Python ou rien du tout.\n\n![Fonctionnement schématique d'une fonction.](img/schema_fonction.png){ #fig:schema_fonction width=90% }",
          "![Fonctionnement schématique d'une fonction.](img/schema_fonction.png){ #fig:schema_fonction width=90% }\n\nPar exemple, si vous appelez la fonction `len()` de la manière suivante :\n\n```python\n>>> len([0, 1, 2])\n3\n```\n\nvoici ce qui se passe :\n\n1. vous appelez `len()` en lui passant une liste en argument (ici la liste `[0, 1, 2]`) ;\n2. la fonction calcule la longueur de cette liste ;\n3. elle vous renvoie un entier égal à cette longueur.\n\nAutre exemple, si vous appelez la méthode `ma_liste.append()` (n'oubliez pas, une **méthode** est une **fonction** qui agit sur l'objet auquel elle est attachée par un point) :\n\n```python\n>>> ma_liste.append(5)\n```\n\n1. Vous passez l'entier `5` en argument ;\n2. la méthode `append()` ajoute l'entier `5` à l'objet `ma_liste` ;\n3. et elle ne renvoie rien.",
          "```python\n>>> ma_liste.append(5)\n```\n\n1. Vous passez l'entier `5` en argument ;\n2. la méthode `append()` ajoute l'entier `5` à l'objet `ma_liste` ;\n3. et elle ne renvoie rien.\n\nAux yeux du programmeur au contraire, une fonction est une portion de code effectuant une suite d'instructions bien particulière. Mais avant de vous présenter la syntaxe et la manière de construire une fonction, revenons une dernière fois sur cette notion de « boîte noire » :\n\n- Une fonction effectue une tâche. Pour cela, elle reçoit éventuellement des arguments et renvoie éventuellement quelque chose. L'algorithme utilisé au sein de la fonction n'intéresse pas directement l'utilisateur. Par exemple, il est inutile de savoir comment la fonction `math.cos()` calcule un cosinus. On a juste besoin de savoir qu'il faut lui passer en argument un angle en radian et qu'elle renvoie le cosinus de cet angle. Ce qui se passe à l'intérieur de la fonction ne regarde que le programmeur.",
          "- Chaque fonction effectue en général une tâche **unique et précise**. Si cela se complique, il est plus judicieux d'écrire plusieurs fonctions (qui peuvent éventuellement s'appeler les unes les autres). Cette **modularité** améliore la qualité générale et la lisibilité du code. Vous verrez qu'en Python, les fonctions présentent une grande flexibilité.",
          "Pour finir sur les généralités, nous avons utilisé dans la Figure @fig:schema_fonction le terme **programme principal** (*main* en anglais) pour désigner l'endroit depuis lequel on appelle une fonction (on verra plus tard que l'on peut en fait appeler une fonction de n'importe où). Le programme principal désigne le code qui est exécuté lorsqu'on lance le script Python, c'est-à-dire toute la suite d'instructions en dehors des fonctions. En général, dans un script Python, on écrit d'abord les fonctions puis le programme principal. Nous aurons l'occasion de revenir sur cette notion de programme principal plus tard dans ce chapitre ainsi que dans le chapitre 12 *Plus sur les fonctions*.\n\n\n## Définition\n\nPour définir une fonction, Python utilise le mot-clé `def`. Si on souhaite que la fonction renvoie quelque chose, il faut utiliser le mot-clé `return`. Par exemple :",
          "## Définition\n\nPour définir une fonction, Python utilise le mot-clé `def`. Si on souhaite que la fonction renvoie quelque chose, il faut utiliser le mot-clé `return`. Par exemple :\n\n```python\n>>> def carre(x):\n...     return x**2\n...\n>>> print(carre(2))\n4\n```\nNotez que la syntaxe de `def` utilise les deux-points comme les boucles `for` et `while` ainsi que les tests `if`, un bloc d’instructions est donc attendu. De même que pour les boucles et les tests, l'**indentation** de ce bloc d'instructions (qu'on appelle le corps de la fonction) est **obligatoire**.\n\nDans l'exemple précédent, nous avons passé un argument à la fonction `carre()` qui nous a renvoyé (ou retourné) une valeur que nous avons immédiatement affichée à l'écran avec l'instruction `print()`. Que veut dire valeur renvoyée ? Et bien cela signifie que cette dernière est récupérable dans une variable :",
          "```python\n>>> res = carre(2)\n>>> print(res)\n4\n```\nIci, le résultat renvoyé par la fonction est stocké dans la variable `res`.\nNotez qu'une fonction ne prend pas forcément un argument et ne renvoie pas forcément une valeur, par exemple :\n\n```python\n>>> def hello():\n...     print(\"bonjour\")\n...\n>>> hello()\nbonjour\n```\n\nDans ce cas la fonction, `hello()` se contente d'afficher la chaîne de caractères `\"bonjour\"` à l'écran. Elle ne prend aucun argument et ne renvoie rien. Par conséquent, cela n'a pas de sens de vouloir récupérer dans une variable le résultat renvoyé par une telle fonction. Si on essaie tout de même, Python affecte la valeur `None` qui signifie *rien* en anglais:\n\n```python\n>>> var = hello()\nbonjour\n>>> print(var)\nNone\n```\n\nCeci n'est pas une faute car Python n'émet pas d'erreur, toutefois cela ne présente, la plupart du temps, guère d'intérêt.\n\n\n## Passage d'arguments",
          "Ceci n'est pas une faute car Python n'émet pas d'erreur, toutefois cela ne présente, la plupart du temps, guère d'intérêt.\n\n\n## Passage d'arguments\n\nLe nombre d'arguments que l'on peut passer à une fonction est variable. Nous avons vu ci-dessus des fonctions auxquelles on passait 0 ou 1 argument. Dans les chapitres précédents, vous avez rencontré des fonctions internes à Python qui prenaient au moins 2 arguments. Souvenez-vous par exemple de `range(1, 10)` ou encore `range(1, 10, 2)`. Le nombre d'argument est donc laissé libre à l'initiative du programmeur qui développe une nouvelle fonction.\n\nUne particularité des fonctions en Python est que vous n'êtes pas obligé de préciser le type des arguments que vous lui passez, dès lors que les opérations que vous effectuez avec ces arguments sont valides. Python est en effet connu comme étant un langage au « typage dynamique », c'est-à-dire qu'il reconnaît pour vous le type des variables au moment de l'exécution. Par exemple :",
          "```python\n>>> def fois(x, y):\n...     return x*y\n...\n>>> fois(2, 3)\n6\n>>> fois(3.1415, 5.23)\n16.430045000000003\n>>> fois(\"to\", 2)\n'toto'\n>>> fois([1,3], 2)\n[1, 3, 1, 3]\n```\n\nL'opérateur `*` reconnaît plusieurs types (entiers, *floats*, chaînes de caractères, listes). Notre fonction `fois()` est donc capable d'effectuer des tâches différentes ! Même si Python autorise cela, méfiez-vous tout de même de cette grande flexibilité qui pourrait conduire à des surprises dans vos futurs programmes. En général, il est plus judicieux que chaque argument ait un type précis (entiers, *floats*, chaînes de caractères, etc) et pas l'un ou l'autre.\n\n\n## Renvoi de résultats\n\nUn énorme avantage en Python est que les fonctions sont capables de renvoyer plusieurs objets à la fois, comme dans cette fraction de code :\n\n```python\n>>> def carre_cube(x):\n...     return x**2, x**3\n...\n>>> carre_cube(2)\n(4, 8)\n```",
          "```python\n>>> def carre_cube(x):\n...     return x**2, x**3\n...\n>>> carre_cube(2)\n(4, 8)\n```\n\nEn réalité Python ne renvoie qu'un seul objet, mais celui-ci peut être séquentiel, c'est-à-dire contenir lui même d'autres objets. Dans notre exemple Python renvoie un objet de type `tuple`, type que nous verrons dans le chapitre 13 *Dictionnaires et tuples* (*grosso modo*, il s'agit d'une sorte de liste avec des propriétés différentes). Notre fonction pourrait tout autant renvoyer une liste :\n\n```python\n>>> def carre_cube2(x):\n...     return [x**2, x**3]\n...\n>>> carre_cube2(3)\n[9, 27]\n```\n\nRenvoyer un *tuple* ou une liste de deux éléments (ou plus) est très pratique en conjonction avec l'**affectation multiple**, par exemple :\n\n```python\n>>> z1, z2 = carre_cube2(3)\n>>> z1\n9\n>>> z2\n27\n```\n\nCela permet de récupérer plusieurs valeurs renvoyées par une fonction et de les affecter à la volée à des variables différentes.\n\n\n## Arguments positionnels et arguments par mot-clé",
          "Cela permet de récupérer plusieurs valeurs renvoyées par une fonction et de les affecter à la volée à des variables différentes.\n\n\n## Arguments positionnels et arguments par mot-clé\n\nJusqu'à maintenant, nous avons systématiquement passé le nombre d'arguments que la fonction attendait. Que se passe-t-il si une fonction attend deux arguments et que nous ne lui en passons qu'un seul ?\n\n```python\n>>> def fois(x, y):\n...     return x*y\n...\n>>> fois(2, 3)\n6\n>>> fois(2)\nTraceback (most recent call last):\n  File \"<stdin>\", line 1, in <module>\nTypeError: fois() missing 1 required positional argument: 'y'\n```\n\nOn constate que passer un seul argument à une fonction qui en attend deux conduit à une erreur.\n\nopen-box-def",
          "On constate que passer un seul argument à une fonction qui en attend deux conduit à une erreur.\n\nopen-box-def\n\nLorsqu'on définit une fonction `def fct(x, y):` les arguments `x` et `y` sont appelés **arguments positionnels** (en anglais *positional arguments*). Il est strictement obligatoire de les préciser lors de l'appel de la fonction. De plus, il est nécessaire de respecter le même ordre lors de l'appel que dans la définition de la fonction. Dans l'exemple ci-dessus, `2` correspondra à `x` et `3` correspondra à `y`. Finalement, tout dépendra de leur position, d'où leur qualification de positionnel.\n\nclose-box-def\n\nMais il est aussi possible de passer un ou plusieurs argument(s) de manière facultative et de leur attribuer une valeur par défaut :\n\n```python\n>>> def fct(x=1):\n...     return x\n...\n>>> fct()\n1\n>>> fct(10)\n10\n```\n\nopen-box-def",
          "```python\n>>> def fct(x=1):\n...     return x\n...\n>>> fct()\n1\n>>> fct(10)\n10\n```\n\nopen-box-def\n\nUn argument défini avec une syntaxe `def fct(arg=val):` est appelé **argument par mot-clé** (en anglais *keyword argument*). Le passage d'un tel argument lors de l'appel de la fonction est facultatif. Ce type d'argument ne doit pas être confondu avec les arguments positionnels présentés ci-dessus, dont la syntaxe est `def fct(arg):`.\n\nclose-box-def\n\nIl est bien sûr possible de passer plusieurs arguments par mot-clé :\n\n```python\n>>> def fct(x=0, y=0, z=0):\n...     return x, y, z\n...\n>>> fct()\n(0, 0, 0)\n>>> fct(10)\n(10, 0, 0)\n>>> fct(10, 8)\n(10, 8, 0)\n>>> fct(10, 8, 3)\n(10, 8, 3)\n```",
          "```python\n>>> def fct(x=0, y=0, z=0):\n...     return x, y, z\n...\n>>> fct()\n(0, 0, 0)\n>>> fct(10)\n(10, 0, 0)\n>>> fct(10, 8)\n(10, 8, 0)\n>>> fct(10, 8, 3)\n(10, 8, 3)\n```\n\nOn observe que pour l'instant, les arguments par mot-clé sont pris dans l'ordre dans lesquels on les passe lors de l'appel. Comment pourrions-nous faire si on souhaitait préciser l'argument par mot-clé `z` et garder les valeurs de `x` et `y` par défaut ? Simplement en  précisant le nom de l'argument lors de l'appel :\n\n```python\n>>> fct(z=10)\n(0, 0, 10)\n```\n\nPython permet même de rentrer les arguments par mot-clé dans un ordre arbitraire :\n\n```python\n>>> fct(z=10, x=3, y=80)\n(3, 80, 10)\n>>> fct(z=10, y=80)\n(0, 80, 10)\n```\n\nQue se passe-t-il lorsque nous avons un mélange d'arguments positionnels et par mot-clé ? Et bien les arguments positionnels doivent toujours être placés avant les arguments par mot-clé :",
          "Que se passe-t-il lorsque nous avons un mélange d'arguments positionnels et par mot-clé ? Et bien les arguments positionnels doivent toujours être placés avant les arguments par mot-clé :\n\n```python\n>>> def fct(a, b, x=0, y=0, z=0):\n...     return a, b, x, y, z\n...\n>>> fct(1, 1)\n(1, 1, 0, 0, 0)\n>>> fct(1, 1, z=5)\n(1, 1, 0, 0, 5)\n>>> fct(1, 1, z=5, y=32)\n(1, 1, 0, 32, 5)\n```\n\nOn peut toujours passer les arguments par mot-clé dans un ordre arbitraire à partir du moment où on précise leur nom. Par contre, si les deux arguments positionnels `a` et `b` ne sont pas passés à la fonction, Python renvoie une erreur.\n\n```python\n>>> fct(z=0)\nTraceback (most recent call last):\n  File \"<stdin>\", line 1, in <module>\nTypeError: fct() missing 2 required positional arguments: 'a' and 'b'\n```\n\nopen-box-adv\n\nPréciser le nom des arguments par mot-clé lors de l'appel d'une fonction est une pratique que nous vous recommandons. Cela les distingue clairement des arguments positionnels.\n\nclose-box-adv",
          "Préciser le nom des arguments par mot-clé lors de l'appel d'une fonction est une pratique que nous vous recommandons. Cela les distingue clairement des arguments positionnels.\n\nclose-box-adv\n\nL'utilisation d'arguments par mot-clé est habituelle en Python. Elle permet de modifier le comportement par défaut de nombreuses fonctions. Par exemple, si on souhaite que la fonction `print()` n'affiche pas un retour à la ligne, on peut utiliser l'argument `end` :\n\n```python\n>>> print(\"Message \", end=\"\")\nMessage >>>\n```\n\nNous verrons, dans le chapitre 20 *Fenêtres graphiques et Tkinter*, que l'utilisation d'arguments par mot-clé est systématique lorsqu'on crée un objet graphique (une fenêtre, un bouton, etc.).\n\n\n## Variables locales et variables globales",
          "## Variables locales et variables globales\n\nLorsqu'on manipule des fonctions, il est essentiel de bien comprendre comment se comportent les variables. Une variable est dite **locale** lorsqu'elle est créée dans une fonction. Elle n'existera et ne sera visible que lors de l'exécution de ladite fonction.\n\nUne variable est dite **globale** lorsqu'elle est créée dans le programme principal. Elle sera visible partout dans le programme.\n\nCeci ne vous paraît pas clair ? Nous allons prendre un exemple simple qui vous aidera à mieux saisir ces concepts. Observez le code suivant :\n\n```python\n# définition d'une fonction carre()\ndef carre(x):\n    y = x**2\n    return y\n\n# programme principal\nz = 5\nresultat = carre(z)\nprint(resultat)\n```",
          "```python\n# définition d'une fonction carre()\ndef carre(x):\n    y = x**2\n    return y\n\n# programme principal\nz = 5\nresultat = carre(z)\nprint(resultat)\n```\n\nPour la suite des explications, nous allons utiliser l'excellent site [*Python Tutor*](http://www.pythontutor.com) qui permet de visualiser l'état des variables au fur et à mesure de l'exécution d'un code Python. Avant de poursuivre, nous vous conseillons de prendre 5 minutes pour tester ce site.\n\nRegardons maintenant ce qui se passe dans le code ci-dessus, étape par étape :\n\n- Étape 1 : Python est prêt à lire la première ligne de code.\n\n![Étape 1.](img/fct_step1.png){ #fig:fct_step1 width=80% }\n\\",
          "- Étape 1 : Python est prêt à lire la première ligne de code.\n\n![Étape 1.](img/fct_step1.png){ #fig:fct_step1 width=80% }\n\\\n\n\n- Étape 2 : Python met en mémoire la fonction `carre()`. Notez qu'il ne l'exécute pas ! La fonction est mise dans un espace de la mémoire nommé *Global frame*, il s'agit de l'espace du programme principal. Dans cet espace, seront stockées toutes les variables *globales* créées dans le programme. Python est maintenant prêt à exécuter le programme principal.\n\n![Étape 2.](img/fct_step2.png){ #fig:fct_step2 width=80% }\n\\\n\n\n- Étape 3 : Python lit et met en mémoire la variable `z`. Celle-ci étant créée dans le programme principal, il s'agira d'une variable *globale*. Ainsi, elle sera également stockée dans le *Global frame*.\n\n![Étape 3.](img/fct_step3.png){ #fig:fct_step3 width=80% }\n\\",
          "![Étape 3.](img/fct_step3.png){ #fig:fct_step3 width=80% }\n\\\n\n\n- Étape 4 : La fonction `carre()` est appelée et on lui passe en argument l'entier `z`. La fonction s'exécute et un nouveau cadre est créé dans lequel *Python Tutor* va indiquer toutes les variables *locales* à la fonction. Notez bien que la variable passée en argument, qui s'appelle `x` dans la fonction, est créée en tant que variable *locale*. On remarquera aussi que les variables *globales* situées dans le *Global frame* sont toujours là.\n\n![Étape 4.](img/fct_step4.png){ #fig:fct_step4 width=80% }\n\\\n\n\n- Étape 5 : Python est maintenant prêt à exécuter chaque ligne de code de la fonction.\n\n![Étape 5.](img/fct_step5.png){ #fig:fct_step5 width=80% }\n\\\n\n\n- Étape 6 : La variable `y` est créée dans la fonction. Celle-ci est donc stockée en tant que variable *locale* à la fonction.\n\n![Étape 6.](img/fct_step6.png){ #fig:fct_step6 width=80% }\n\\",
          "- Étape 6 : La variable `y` est créée dans la fonction. Celle-ci est donc stockée en tant que variable *locale* à la fonction.\n\n![Étape 6.](img/fct_step6.png){ #fig:fct_step6 width=80% }\n\\\n\n\n- Étape 7 : Python s'apprête à renvoyer la variable *locale* `y` au programme principal. *Python Tutor* nous indique le contenu de la valeur renvoyée.\n\n![Étape 7.](img/fct_step7.png){ #fig:fct_step7 width=80% }\n\\\n\n\n- Étape 8 : Python quitte la fonction et la valeur renvoyée par celle-ci est affectée à la variable *globale* `resultat`. Notez bien que lorsque Python quitte la fonction, **l'espace des variables alloué à la fonction est détruit**. Ainsi, toutes les variables créées dans la fonction n'existent plus. On comprend pourquoi elles portent le nom de *locales* puisqu'elles n'existent que lorsque la fonction est exécutée.\n\n![Étape 8.](img/fct_step8.png){ #fig:fct_step8 width=80% }\n\\\n\n\n- Étape 9 : Python affiche le contenu de la variable `resultat` et l'exécution est terminée.",
          "![Étape 8.](img/fct_step8.png){ #fig:fct_step8 width=80% }\n\\\n\n\n- Étape 9 : Python affiche le contenu de la variable `resultat` et l'exécution est terminée.\n\n![Étape 9.](img/fct_step9.png){ #fig:fct_step9 width=80% }\n\\\n\n\nNous espérons que cet exemple guidé facilitera la compréhension des concepts de variables locales et globales. Cela viendra aussi avec la pratique. Nous irons un peu plus loin sur les fonctions dans le chapitre 12. D'ici là, essayez de vous entraîner au maximum avec les fonctions. C'est un concept ardu, mais il est impératif de le maîtriser.\n\nEnfin, comme vous avez pu le constater, *Python Tutor* nous a grandement aidé à comprendre ce qui se passait. N'hésitez pas à l'utiliser sur des exemples ponctuels, ce site vous aidera à visualiser ce qui se passe lorsqu'un code ne fait pas ce que vous attendez.\n\n\n## Principe DRY",
          "## Principe DRY\n\nL'acronyme [DRY](https://www.earthdatascience.org/courses/intro-to-earth-data-science/write-efficient-python-code/intro-to-clean-code/dry-modular-code/) signifie *Don't Repeat Yourself*. Les fonctions permettent de satisfaire ce principe en évitant la duplication de code.\nEn effet, plus un code est dupliqué plusieurs fois dans un programme, plus il sera source d'erreurs, notamment lorsqu'il faudra le faire évoluer.\n\nConsidérons par exemple le code suivant qui convertit plusieurs températures des degrés Fahrenheit en degrés Celsius :\n\n```python\n>>> temp_in_fahrenheit = 60\n>>> (temp_in_fahrenheit - 32) * (5/8)\n17.5\n>>> temp_in_fahrenheit = 80\n>>> (temp_in_fahrenheit - 32) * (5/8)\n30.0\n>>> temp_in_fahrenheit = 100\n>>> (temp_in_fahrenheit - 32) * (5/8)\n42.5\n```\n\nMalheureusement il y a une erreur dans la formule de conversion. En effet la formule exacte est :\n\n$$\n{\\rm temp\\_celsius} = ({\\rm temp\\_fahrenheit} - 32) \\times \\frac{5}{9}\n$$",
          "Malheureusement il y a une erreur dans la formule de conversion. En effet la formule exacte est :\n\n$$\n{\\rm temp\\_celsius} = ({\\rm temp\\_fahrenheit} - 32) \\times \\frac{5}{9}\n$$\n\nIl faut alors reprendre les lignes 2, 5 et 8 précédentes et les corriger. Cela n'est pas efficace, surtout si le même code est utilisé à différents endroits dans le programme.\n\nEn écrivant qu'une seule fois la formule de conversion dans une fonction, on applique le principe DRY :\n\n```python\n>>> def convert_fahrenheit_to_celsius(temperature):\n...     return (temperature - 32) * (5/9)\n... \n>>> temp_in_fahrenheit = 60\n>>> convert_fahrenheit_to_celsius(temp_in_fahrenheit)\n15.555555555555557\n>>> temp_in_fahrenheit = 80\n>>> convert_fahrenheit_to_celsius(temp_in_fahrenheit)\n26.666666666666668\n>>> temp_in_fahrenheit = 100\n>>> convert_fahrenheit_to_celsius(temp_in_fahrenheit)\n37.77777777777778\n```",
          "Et s'il y a une erreur dans la formule, il suffira de le corriger qu'une seule fois, dans la fonction `convert_fahrenheit_to_celsius()`.\n\n## Exercices\n\n*Conseil* : pour le premier exercice, utilisez *Python Tutor*. Pour les exercices suivants, créez des scripts puis exécutez-les dans un *shell*.\n\n\n### Carré et factorielle\n\nReprenez l'exemple précédent à l'aide du site [*Python Tutor*](http://www.pythontutor.com) :\n\n```python\n# définition d'une fonction carre()\ndef carre(x):\n    y = x**2\n    return y\n\n# programme principal\nz = 5\nresultat = carre(z)\nprint(resultat)\n```\n\nAnalysez ensuite le code suivant et tentez de prédire sa sortie :\n\n```python\ndef calc_factorielle(n):\n    fact = 1\n    for i in range(2, n+1):\n        fact = fact * i\n    return fact\n\n# programme principal\nnb = 4\nfactorielle_nb = calc_factorielle(nb)\nprint(f\"{nb}! = {factorielle_nb}\")\nnb2 = 10\nprint(f\"{nb2}! = {calc_factorielle(nb2)}\")\n```",
          "# programme principal\nnb = 4\nfactorielle_nb = calc_factorielle(nb)\nprint(f\"{nb}! = {factorielle_nb}\")\nnb2 = 10\nprint(f\"{nb2}! = {calc_factorielle(nb2)}\")\n```\n\nTestez ensuite cette portion de code avec *Python Tutor* en cherchant à bien comprendre chaque étape.\nAvez-vous réussi à prédire la sortie correctement ?\n\nopen-box-rem\n\nUne remarque concernant l'utilisation des *f-strings* que nous avions vues dans le chapitre 3 *Affichage*. On voit à nouveau une possibilité puissante des *f-strings* dans l'instruction `f\"{nb2}! = {calc_factorielle(nb2)}\"` : il est possible de mettre directement au sein des accolades un appel à une fonction (ici `{calc_factorielle(nb2)}`) ! Ainsi, pas besoin de créer une variable intermédiaire dans laquelle on stocke ce que retourne la fonction. \n\nclose-box-rem\n\n### Puissance\n\nCréez une fonction `calc_puissance(x, y)` qui renvoie $x^y$ en utilisant l'opérateur `**`. Pour rappel :\n\n```python\n>>> 2**2\n4\n>>> 2**3\n8\n>>> 2**4\n16\n```",
          "close-box-rem\n\n### Puissance\n\nCréez une fonction `calc_puissance(x, y)` qui renvoie $x^y$ en utilisant l'opérateur `**`. Pour rappel :\n\n```python\n>>> 2**2\n4\n>>> 2**3\n8\n>>> 2**4\n16\n```\n\nDans le programme principal, calculez et affichez à l'écran $2^i$ avec $i$ variant de 0 à 20 inclus. On souhaite que le résultat soit présenté avec le formatage suivant :\n\n```text\n2^ 0 =       1\n2^ 1 =       2\n2^ 2 =       4\n[...]\n2^20 = 1048576\n```\n\n### Pyramide\n\nReprenez l'exercice du chapitre 5 *Boucles et comparaisons* qui dessine une pyramide.\n\nDans un script `pyra.py`, créez une fonction `gen_pyramide()` à laquelle vous passez un nombre entier `N` et qui renvoie une pyramide de $N$ lignes sous forme de chaîne de caractères. Le programme principal demandera à l'utilisateur le nombre de lignes souhaitées (utilisez pour cela la fonction `input()`) et affichera la pyramide à l'écran.\n\n\n### Nombres premiers\n\nReprenez l'exercice du chapitre 6 *Tests* sur les nombres premiers.",
          "### Nombres premiers\n\nReprenez l'exercice du chapitre 6 *Tests* sur les nombres premiers.\n\nCréez une fonction `est_premier()` qui prend comme argument un nombre entier positif *n* (supérieur à 2) et qui renvoie le booléen `True` si *n* est premier et `False` si *n* n'est pas premier. Déterminez tous les nombres premiers de 2 à 100. On souhaite avoir une sortie similaire à celle-ci :\n\n```text\n  2 est premier\n  3 est premier\n  4 n'est pas premier\n[...]\n100 n'est pas premier\n```\n\n\n### Séquence complémentaire\n\nCréez une fonction `seq_comp()` qui prend comme argument une liste de bases et qui renvoie la séquence complémentaire d'une séquence d'ADN sous forme de liste.\n\nDans le programme principal, à partir de la séquence d'ADN \n`seq = [\"A\", \"T\", \"C\", \"G\", \"A\", \"T\", \"C\", \"G\", \"A\", \"T\", \"C\"]` \naffichez `seq` et sa séquence complémentaire (en utilisant votre fonction `seq_comp()`).\n\nRappel : la séquence complémentaire s'obtient en remplaçant A par T, T par A, C par G et G par C.",
          "Rappel : la séquence complémentaire s'obtient en remplaçant A par T, T par A, C par G et G par C.\n\n\n### Distance 3D\n\nCréez une fonction `calc_distance_3D()` qui calcule la distance euclidienne en trois dimensions entre deux atomes. Testez votre fonction sur les 2 points `A(0,0,0)` et `B(1,1,1)`. Trouvez-vous bien $\\sqrt{3}$ ?\n\nOn rappelle que la distance euclidienne *d* entre deux points A et B de coordonnées cartésiennes respectives $(x_A, y_A, z_A)$ et $(x_B, y_B, z_B)$ se calcule comme suit :\n\n$$\nd = \\sqrt{(x_B - x_A)^2 + (y_B - y_A)^2 + (z_B - z_A)^2}\n$$\n\n\n### Distribution et statistiques\n\nCréez une fonction `gen_distrib()` qui prend comme argument trois entiers : *debut*, *fin* et *n*. La fonction renverra une liste de $n$ *floats* aléatoires entre *debut* et *fin*. Pour générer un nombre aléatoire dans un intervalle donné, utilisez la fonction `uniform()` du module *random* dont voici quelques exemple d'utilisation :",
          "```python\n>>> import random\n>>> random.uniform(1, 10)\n8.199672607202174\n>>> random.uniform(1, 10)\n2.607528561528022\n>>> random.uniform(1, 10)\n9.000404025130946\n```\n\nAvec la fonction `random.uniform()`, les bornes passées en argument sont incluses, c'est-à-dire qu'ici, le nombre aléatoire renvoyé est dans l'intervalle [1, 10].\n\nCréez une autre fonction `calc_stat()` qui prend en argument une liste de *floats* et qui renvoie une liste de trois éléments contenant respectivement le minimum, le maximum et la moyenne de la liste.\n\nDans le programme principal, générez 20 listes aléatoires de 100 *floats* compris entre 0 et 100 et affichez le minimum (`min()`), le maximum (`max()`) et la moyenne pour chacune d'entre elles. La moyenne pourra être calculée avec les fonctions `sum()` et `len()`.",
          "Pour chacune des 20 listes, affichez les statistiques (min, max, et moyenne) avec deux chiffres après la virgule :\n```text\nListe  1 : min = 0.17 ; max = 99.72 ; moyenne = 57.38\nListe  2 : min = 1.25 ; max = 99.99 ; moyenne = 47.41\n[...]\nListe 19 : min = 1.05 ; max = 99.36 ; moyenne = 49.43\nListe 20 : min = 1.33 ; max = 97.63 ; moyenne = 46.53\n\n```\n\nLes écarts sur les statistiques entre les différentes listes sont-ils importants ? Relancez votre script avec des listes de 1000 éléments, puis 10 000 éléments. Les écarts changent-ils quand le nombre d'éléments par liste augmente ?\n\n\n### Distance à l'origine (exercice +++)\n\nEn reprenant votre fonction de calcul de distance euclidienne en 3D `calc_distance_3D()`, faites-en une version pour deux dimensions que vous appellerez `calc_distance_2D()`.",
          "En reprenant votre fonction de calcul de distance euclidienne en 3D `calc_distance_3D()`, faites-en une version pour deux dimensions que vous appellerez `calc_distance_2D()`.\n\nCréez une autre fonction `calc_dist2ori()` à laquelle vous passez en argument deux listes de *floats* `list_x` et `list_y` représentant les coordonnées d'une fonction mathématique (par exemple $x$ et $sin(x)$). Cette fonction renverra une liste de *floats* représentant la distance entre chaque point de la fonction et l'origine (de coordonnées $(0,0)$).\n\nLa figure @fig:sin2ori montre un exemple sur quelques points de la fonction $sin(x)$ (courbe en trait épais). Chaque trait pointillé représente la distance que l'on cherche à calculer entre les points de la courbe et l'origine du repère de coordonnées (0, 0).\n\n![Illustration de la distance à l'origine.](img/sin2ori.png){ #fig:sin2ori width=60% }",
          "![Illustration de la distance à l'origine.](img/sin2ori.png){ #fig:sin2ori width=60% }\n\nVotre programme générera un fichier `sin2ori.dat` qui contiendra deux colonnes : la première représente les $x$, la seconde la distance entre chaque point de la fonction $sin(x)$ à l'origine.\n\nEnfin, pour visualiser votre résultat, ajoutez le code suivant tout à la fin de votre script :\n\n```python\n# création d'une image pour la visualisation du résultat\nimport matplotlib.pyplot as plt\n\nx = []\ny = []\nwith open(\"sin2ori.dat\", \"r\") as f_in:\n    for line in f_in:\n        coords = line.split()\n        x.append(float(coords[0]))\n        y.append(float(coords[1]))\nplt.figure(figsize=(8,8))\nplt.plot(x, y)\nplt.xlabel(\"x\")\nplt.ylabel(\"Distance de sin(x)à l'origine\")\nplt.savefig(\"sin2ori.png\")\n```\n\nOuvrez l'image `sin2ori.png`.\n\nopen-box-rem\n\nLe module *matplotlib* sera expliqué en détail dans le chapitre 17 *Quelques modules d'intérêt en bioinformatique*.\n\nclose-box-rem"
         ],
         "marker": {
          "colorscale": [
           [
            0,
            "#440154"
           ],
           [
            0.1111111111111111,
            "#482878"
           ],
           [
            0.2222222222222222,
            "#3e4989"
           ],
           [
            0.3333333333333333,
            "#31688e"
           ],
           [
            0.4444444444444444,
            "#26828e"
           ],
           [
            0.5555555555555556,
            "#1f9e89"
           ],
           [
            0.6666666666666666,
            "#35b779"
           ],
           [
            0.7777777777777778,
            "#6ece58"
           ],
           [
            0.8888888888888888,
            "#b5de2b"
           ],
           [
            1,
            "#fde725"
           ]
          ],
          "opacity": 0.8,
          "size": 8
         },
         "mode": "markers",
         "name": "Fonctions",
         "type": "scatter",
         "x": [
          -0.15111364681142925,
          -0.21586192032587675,
          -0.20706403303621895,
          -0.07364235534261881,
          -0.111507055881893,
          -0.10286672455648568,
          -0.10814851017403505,
          -0.09717338673011017,
          -0.05594478084324134,
          -0.1289116375924312,
          -0.08981639056851887,
          -0.04815719599028903,
          -0.028527804898144205,
          0.014798231360872117,
          -0.003675461675989591,
          -0.017075324294569774,
          -0.10162104835012672,
          -0.1518481671770359,
          -0.1382818503968296,
          -0.13212916437829217,
          -0.10544129194214587,
          -0.08415807351368798,
          0.016366095727193938,
          0.075476981897244,
          -0.09208776147572917,
          -0.050362026895805795,
          -0.1440087259817946,
          -0.12510302645255994,
          -0.12047234555996218,
          -0.11337946811134786,
          -0.2188597609942691,
          -0.27050983316462285,
          -0.15758775624922394
         ],
         "y": [
          -0.20319219985353149,
          -0.24220802296380817,
          -0.22714843969435755,
          -0.14812182085784562,
          -0.15180564009022707,
          -0.19081234373467434,
          -0.24225964858623933,
          -0.26994635679993556,
          -0.2512576895664294,
          -0.2825315165494158,
          -0.2594587240844509,
          -0.28379903747357704,
          -0.27634784085528846,
          -0.2875812650389058,
          -0.23994276611446252,
          -0.16796796758486035,
          -0.17931377095474135,
          -0.14817937113039792,
          -0.05791528716165782,
          -0.11076899744283693,
          -0.10252872221647102,
          -0.027287977570601862,
          -0.09884212208373733,
          -0.12039672469764694,
          -0.08361546691286564,
          -0.06563062017953565,
          -0.06334032804388415,
          -0.07141815929421362,
          -0.09917845658235977,
          -0.17376074179601292,
          -0.11153147802208285,
          -0.14840373521124625,
          0.06580039253207218
         ]
        },
        {
         "hoverinfo": "text",
         "hovertext": [
          "# Jupyter et ses notebooks\n\nLes notebooks Jupyter sont des cahiers électroniques qui, dans le même document, peuvent rassembler du texte, des images, des formules mathématiques et du code informatique exécutable. Ils sont manipulables interactivement dans un navigateur web.\n\nInitialement développés pour les langages de programmation Julia, Python et R (d'où le nom Jupyter), les notebooks Jupyter supportent près de 40 langages différents.\n\nLa cellule est l'élément de base d'un notebook Jupyter. Elle peut contenir du texte formaté au format Markdown ou du code informatique qui pourra être exécuté.\n\nVoici un exemple de notebook Jupyter (figure @fig:jupyter-exemple) :\n\n![Exemple de notebook Jupyter. Les chiffres entourés désignent les différentes cellules.](img/jupyter-exemple.png \"Exemple de notebook Jupyter\"){ #fig:jupyter-exemple width=80% }",
          "![Exemple de notebook Jupyter. Les chiffres entourés désignent les différentes cellules.](img/jupyter-exemple.png \"Exemple de notebook Jupyter\"){ #fig:jupyter-exemple width=80% }\n\nCe notebook est constitué de cinq cellules : deux avec du texte en Markdown (la première et la dernière) et trois avec du code Python (notées avec `In [ ]`).\n\n## Installation\n\nAvec la distribution Miniconda, les notebooks Jupyter s'installent avec la commande :\n\n```bash\n$ conda install -y jupyterlab\n```\n\nPour être exact, la commande précédente installe un peu plus que les notebooks Jupyter mais nous verrons cela par la suite.\n\n\n## Lancement de Jupyter et création d'un notebook\n\nPour lancer les notebooks Jupyter, utilisez la commande suivante depuis un *shell* :\n\n```bash\n$ jupyter-notebook\n```\n\nUne nouvelle page devrait s'ouvrir dans votre navigateur web  et ressembler à la figure @fig:jupyter-interface.",
          "```bash\n$ jupyter-notebook\n```\n\nUne nouvelle page devrait s'ouvrir dans votre navigateur web  et ressembler à la figure @fig:jupyter-interface.\n\n![Interface de Jupyter.](img/jupyter-interface.png \"Interface de Jupyter\"){ #fig:jupyter-interface width=80% }\n\nCette interface liste les notebooks Jupyter existants (pour le moment aucun).\n\nPour créer un notebook, cliquez sur le bouton à droite *New* puis sélectionnez *Python 3*. Vous noterez au passage qu'il est également possible de créer un fichier texte, un répertoire ou bien encore de lancer un *shell* via un *Terminal* (voir figure @fig:jupyter-nouveau-notebook).\n\n![Création d'un nouveau notebook.](img/jupyter-nouveau-notebook.png \"Création d'un nouveau notebook\"){ #fig:jupyter-nouveau-notebook width=80% }\n\nLe notebook fraîchement créé ne contient qu'une cellule vide.\n\n![Nouveau notebook.](img/jupyter-nouveau-notebook-vide.png \"Nouveau notebook\"){ #fig:jupyter-nouveau-notebook-vide width=80% }",
          "Le notebook fraîchement créé ne contient qu'une cellule vide.\n\n![Nouveau notebook.](img/jupyter-nouveau-notebook-vide.png \"Nouveau notebook\"){ #fig:jupyter-nouveau-notebook-vide width=80% }\n\nLa première chose à faire est de donner un nom à votre notebook en cliquant sur *Untitled*, à droite du logo de Jupyter. Si le nom de votre notebook est *test* alors le fichier *test.ipynb* sera créé dans le répertoire depuis lequel vous avez lancé Jupyter.\n\nopen-box-rem\n\nL'extension *.ipynb* est l'extension de fichier des notebooks Jupyter.\n\nclose-box-rem\n\nVous pouvez entrer des instructions Python dans la première cellule. Par exemple :\n\n```python\na = 2\nb = 3\nprint(a+b)\n```\n\nPour exécuter le contenu de cette cellule, vous avez plusieurs possibilités :\n\n- Cliquer sur le menu *Cell*, puis *Run Cells*.\n- Cliquer sur le bouton *Run* (sous la barre de menu).\n- Presser simultanément les touches *Ctrl* + *Entrée*.",
          "- Cliquer sur le menu *Cell*, puis *Run Cells*.\n- Cliquer sur le bouton *Run* (sous la barre de menu).\n- Presser simultanément les touches *Ctrl* + *Entrée*.\n\nDans tous les cas, vous devriez obtenir quelque chose qui ressemble à l'image @fig:jupyter-cellule-1. La notation `In [1]` à gauche de la cellule indique qu'il s'agit de la première cellule exécutée.\n\n![Exécution d'une première cellule.](img/jupyter-cellule-1.png \"Exécution d'une première cellule.\"){ #fig:jupyter-cellule-1 width=80% }\n\nPour créer une nouvelle cellule, vous avez, ici encore, plusieurs possibilités :\n\n- Cliquer sur l’icône *+* sous la barre de menu.\n- Cliquer sur le menu *Insert*, puis *Insert Cell Below*.\n\nUne nouvelle cellule vide devrait apparaître.",
          "- Cliquer sur l’icône *+* sous la barre de menu.\n- Cliquer sur le menu *Insert*, puis *Insert Cell Below*.\n\nUne nouvelle cellule vide devrait apparaître.\n\nVous pouvez également créer une nouvelle cellule en positionnant votre curseur dans la première cellule, puis en pressant simultanément les touches *Alt* + *Entrée*. Si vous utilisez cette combinaison de touches, vous remarquerez que le numéro à gauche de la première cellule est passée de `In [1]` à `In [2]` car vous avez exécuté la première cellule *puis* créé une nouvelle cellule.\n\nVous pouvez ainsi créer plusieurs cellules les unes à la suite des autres. Un objet créé dans une cellule antérieure sera disponible dans les cellules suivantes. Par exemple, dans la figure @fig:jupyter-cellule-4, nous avons quatre cellules. Vous remarquerez que pour les cellules 3 et 4, le résultat renvoyé par le code Python est précédé par `Out [3]` et `Out [4]`.",
          "![Notebook avec plusieurs cellules de code Python.](img/jupyter-cellule-4.png \"Notebook avec plusieurs cellules de code Python\"){ #fig:jupyter-cellule-4 width=80% }\n\nDans un notebook Jupyter, il est parfaitement possible de réexécuter une cellule précédente. Par exemple la première cellule, qui porte désormais à sa gauche la numérotation `In [5]` (voir figure @fig:jupyter-cellule-4-mauvais-ordre).\n\n![Notebook avec une cellule ré-exécutée.](img/jupyter-cellule-4-mauvais-ordre.png \"Notebook avec une cellule ré-executée.\"){ #fig:jupyter-cellule-4-mauvais-ordre width=80% }\n\nopen-box-warn\n\nLa possibilité d'exécuter les cellules d'un notebook Jupyter dans un ordre arbitraire peut prêter à confusion, notamment si vous modifiez la même variable d'une cellule à l'autre.",
          "open-box-warn\n\nLa possibilité d'exécuter les cellules d'un notebook Jupyter dans un ordre arbitraire peut prêter à confusion, notamment si vous modifiez la même variable d'une cellule à l'autre.\n\nNous vous recommandons de régulièrement relancer complètement l'exécution de toutes les cellules de votre notebook, de la première à la dernière, en cliquant sur le menu *Kernel* puis *Restart & Run All* et enfin de valider le message *Restart and Run All Cells*.\n\nclose-box-warn\n\n\n## Le format Markdown\n\nDans le tout premier exemple (figure @fig:jupyter-exemple), nous avons vu qu'il était possible de mettre du texte au format Markdown dans une cellule.\n\nIl faut cependant indiquer à Jupyter que cette cellule est au format Markdown en cliquant sur *Code* sous la barre de menu puis en choisissant *Markdown*.",
          "Il faut cependant indiquer à Jupyter que cette cellule est au format Markdown en cliquant sur *Code* sous la barre de menu puis en choisissant *Markdown*.\n\nLe format Markdown permet de rédiger du texte formaté (gras, italique, liens, titres, images, formules mathématiques...) avec quelques balises très simples. Voici un exemple dans une notebook Jupyter (figure @fig:jupyter-markdown-1) et le rendu lorsque la cellule est exécutée (figure @fig:jupyter-markdown-2).\n\n![Notebook avec une cellule au format Markdown.](img/jupyter-markdown-1.png \"Notebook avec une cellule au format Markdown.\"){ #fig:jupyter-markdown-1 width=80% }\n\n![Notebook avec une cellule au format Markdown (après exécution).](img/jupyter-markdown-2.png \"Notebook avec une cellule au format Markdown (après exécution).\"){ #fig:jupyter-markdown-2 width=80% }\n\nNotez qu'une cellule Markdown n'a pas le marqueur `In [ ]` à sa gauche.",
          "Notez qu'une cellule Markdown n'a pas le marqueur `In [ ]` à sa gauche.\n\nLe format Markdown permet de rapidement et très simplement rédiger du texte structuré. Ce cours est par exemple complètement rédigé en Markdown ;-)\n\nNous vous conseillons d'explorer les possibilités du Markdown en consultant la page [Wikipédia](https://fr.wikipedia.org/wiki/Markdown) ou directement la [page de référence](https://daringfireball.net/projects/markdown/syntax).\n\n\n## Des graphiques dans les notebooks\n\nUn autre intérêt des notebooks Jupyter est de pouvoir y incorporer des graphiques réalisés avec la bibliothèque *matplotlib*.\n\nVoici un exemple en reprenant un graphique présenté dans le chapitre 17 *Quelques modules d'intérêt en bioinformatique* (figure @fig:jupyter-matplotlib).\n\n![Incorporation d'un graphique dans un notebook Jupyter.](img/jupyter-matplotlib.png \"Incorporation d'un graphique dans un notebook Jupyter.\"){ #fig:jupyter-matplotlib width=80% }",
          "![Incorporation d'un graphique dans un notebook Jupyter.](img/jupyter-matplotlib.png \"Incorporation d'un graphique dans un notebook Jupyter.\"){ #fig:jupyter-matplotlib width=80% }\n\nLa différence notable est l'utilisation de la commande :  \n`%matplotlib inline`  \nqui n'est à lancer qu'une seule fois (en général dans la première cellule du notebook) et qui permet l'incorporation de figures dans un notebook Jupyter.\n\nopen-box-rem\n\nPour quitter l'interface des notebooks Jupyter, il faut, dans le premier onglet qui est apparu, cliquer sur le bouton *Quit* (figure @fig:jupyter-interface).\n\nUne méthode plus radicale est de revenir sur le *shell* depuis lequel les notebooks Jupyter ont été lancés puis de presser deux fois la combinaison de touches *Ctrl* + *C*.\n\nclose-box-rem\n\n\n## Les *magic commands*\n\nLa commande précédente (`%matplotlib inline`) est une *magic command*. Il en existe beaucoup, en voici deux :",
          "close-box-rem\n\n\n## Les *magic commands*\n\nLa commande précédente (`%matplotlib inline`) est une *magic command*. Il en existe beaucoup, en voici deux :\n\n- `%whos` liste tous les objets (variables, fonctions, modules...) utilisés dans le notebook (voir figure @fig:jupyter-whos).\n- `%history` liste toutes les commandes Python lancées dans un notebook (voir figure @fig:jupyter-history).\n\n![*Magic command* `%whos`.](img/jupyter-whos.png){ #fig:jupyter-whos width=80% }\n\n![*Magic command* `%history`.](img/jupyter-history.png){ #fig:jupyter-history width=80% }\n\nEnfin, avec les environnements Linux ou Mac OS X, il est possible de lancer une commande Unix depuis un notebook Jupyter. Il faut pour cela précéder la commande du symbole « `!` ». La figure @fig:jupyter-ls illustre cette possibilité avec la commande `ls` qui affiche le contenu d'un répertoire.\n\n![Lancement d'une commande Unix.](img/jupyter-ls.png){ #fig:jupyter-ls width=80% }\n\nopen-box-rem",
          "![Lancement d'une commande Unix.](img/jupyter-ls.png){ #fig:jupyter-ls width=80% }\n\nopen-box-rem\n\nLe lancement de n'importe quelle commande Unix depuis un notebook Jupyter (en précédant cette commande de `!`) est une fonctionnalité très puissante.\n\nPour vous en rendre compte, jetez un œil au [notebook](https://github.com/MaayanLab/Zika-RNAseq-Pipeline/blob/master/Zika.ipynb) produit par les chercheurs Zichen Wang et Avi Ma'ayan qui reproduit l'analyse complète de données obtenues par séquençage haut débit. Ces analyses ont donné lieu à la publication de l'article scientifique « [*An open RNA-Seq data analysis pipeline tutorial with an example of reprocessing data from a recent Zika virus study*](https://f1000research.com/articles/5-1574/) » (F1000 Research, 2016).\n\nclose-box-rem\n\n\n## JupyterLab\n\nEn 2018, le consortium Jupyter a lancé *JupyterLab* qui est un environnement complet d'analyse.\nPour obtenir cette interface, lancez la commande suivante depuis un *shell* :",
          "## JupyterLab\n\nEn 2018, le consortium Jupyter a lancé *JupyterLab* qui est un environnement complet d'analyse.\nPour obtenir cette interface, lancez la commande suivante depuis un *shell* :\n\n```bash\n$ jupyter lab\n```\n\nUne nouvelle page devrait s'ouvrir dans votre navigateur web et vous devriez\nobtenir une interface similaire à la figure @fig:jupyterlab-1.\n\n![Interface de JupyterLab.](img/jupyterlab-1.png \"Interface de JupyterLab.\"){ #fig:jupyterlab-1 width=95% }\n\nL'interface proposée par JupyterLab est très riche. On peut y organiser un notebook Jupyter « classique » avec une figure en encart, un *shell* (voir figure @fig:jupyterlab-2)... Les possibilités sont infinies !\n\n![JupyterLab comme environnement d'analyse.](img/jupyterlab-2.png \"JupyterLab comme environnement d'analyse.\"){ #fig:jupyterlab-2 width=95% }\n\nopen-box-more\n\nLes *notebooks* Jupyter sont particulièrement adaptés à l'analyse de données en combinaison avec les modules *matplotlib* et *pandas*.\n\nclose-box-more"
         ],
         "marker": {
          "colorscale": [
           [
            0,
            "#440154"
           ],
           [
            0.1111111111111111,
            "#482878"
           ],
           [
            0.2222222222222222,
            "#3e4989"
           ],
           [
            0.3333333333333333,
            "#31688e"
           ],
           [
            0.4444444444444444,
            "#26828e"
           ],
           [
            0.5555555555555556,
            "#1f9e89"
           ],
           [
            0.6666666666666666,
            "#35b779"
           ],
           [
            0.7777777777777778,
            "#6ece58"
           ],
           [
            0.8888888888888888,
            "#b5de2b"
           ],
           [
            1,
            "#fde725"
           ]
          ],
          "opacity": 0.8,
          "size": 8
         },
         "mode": "markers",
         "name": "Jupyter",
         "type": "scatter",
         "x": [
          -0.2791417153216221,
          -0.29133573827864434,
          -0.3447728040882956,
          -0.31133228405634183,
          -0.2919926400514851,
          -0.27046008543393,
          -0.22620155543301596,
          -0.1848689291255933,
          -0.1381289171816792,
          -0.18152713044759464,
          -0.1739395112033432,
          -0.2037226768438316,
          -0.298812940604099,
          -0.28517855250524854
         ],
         "y": [
          0.5262430804386944,
          0.5479241163090754,
          0.5544552561976398,
          0.47120405861476183,
          0.44168990016841747,
          0.3478826174200623,
          0.37674767290137046,
          0.5058344730534438,
          0.5373314044438071,
          0.4945086534757064,
          0.4542953353114166,
          0.39331446119765234,
          0.5157856637027955,
          0.540421362331601
         ]
        }
       ],
       "layout": {
        "autosize": false,
        "height": 500,
        "margin": {
         "b": 100,
         "l": 50,
         "pad": 10,
         "r": 50,
         "t": 100
        },
        "template": {
         "data": {
          "bar": [
           {
            "error_x": {
             "color": "#2a3f5f"
            },
            "error_y": {
             "color": "#2a3f5f"
            },
            "marker": {
             "line": {
              "color": "#E5ECF6",
              "width": 0.5
             },
             "pattern": {
              "fillmode": "overlay",
              "size": 10,
              "solidity": 0.2
             }
            },
            "type": "bar"
           }
          ],
          "barpolar": [
           {
            "marker": {
             "line": {
              "color": "#E5ECF6",
              "width": 0.5
             },
             "pattern": {
              "fillmode": "overlay",
              "size": 10,
              "solidity": 0.2
             }
            },
            "type": "barpolar"
           }
          ],
          "carpet": [
           {
            "aaxis": {
             "endlinecolor": "#2a3f5f",
             "gridcolor": "white",
             "linecolor": "white",
             "minorgridcolor": "white",
             "startlinecolor": "#2a3f5f"
            },
            "baxis": {
             "endlinecolor": "#2a3f5f",
             "gridcolor": "white",
             "linecolor": "white",
             "minorgridcolor": "white",
             "startlinecolor": "#2a3f5f"
            },
            "type": "carpet"
           }
          ],
          "choropleth": [
           {
            "colorbar": {
             "outlinewidth": 0,
             "ticks": ""
            },
            "type": "choropleth"
           }
          ],
          "contour": [
           {
            "colorbar": {
             "outlinewidth": 0,
             "ticks": ""
            },
            "colorscale": [
             [
              0,
              "#0d0887"
             ],
             [
              0.1111111111111111,
              "#46039f"
             ],
             [
              0.2222222222222222,
              "#7201a8"
             ],
             [
              0.3333333333333333,
              "#9c179e"
             ],
             [
              0.4444444444444444,
              "#bd3786"
             ],
             [
              0.5555555555555556,
              "#d8576b"
             ],
             [
              0.6666666666666666,
              "#ed7953"
             ],
             [
              0.7777777777777778,
              "#fb9f3a"
             ],
             [
              0.8888888888888888,
              "#fdca26"
             ],
             [
              1,
              "#f0f921"
             ]
            ],
            "type": "contour"
           }
          ],
          "contourcarpet": [
           {
            "colorbar": {
             "outlinewidth": 0,
             "ticks": ""
            },
            "type": "contourcarpet"
           }
          ],
          "heatmap": [
           {
            "colorbar": {
             "outlinewidth": 0,
             "ticks": ""
            },
            "colorscale": [
             [
              0,
              "#0d0887"
             ],
             [
              0.1111111111111111,
              "#46039f"
             ],
             [
              0.2222222222222222,
              "#7201a8"
             ],
             [
              0.3333333333333333,
              "#9c179e"
             ],
             [
              0.4444444444444444,
              "#bd3786"
             ],
             [
              0.5555555555555556,
              "#d8576b"
             ],
             [
              0.6666666666666666,
              "#ed7953"
             ],
             [
              0.7777777777777778,
              "#fb9f3a"
             ],
             [
              0.8888888888888888,
              "#fdca26"
             ],
             [
              1,
              "#f0f921"
             ]
            ],
            "type": "heatmap"
           }
          ],
          "heatmapgl": [
           {
            "colorbar": {
             "outlinewidth": 0,
             "ticks": ""
            },
            "colorscale": [
             [
              0,
              "#0d0887"
             ],
             [
              0.1111111111111111,
              "#46039f"
             ],
             [
              0.2222222222222222,
              "#7201a8"
             ],
             [
              0.3333333333333333,
              "#9c179e"
             ],
             [
              0.4444444444444444,
              "#bd3786"
             ],
             [
              0.5555555555555556,
              "#d8576b"
             ],
             [
              0.6666666666666666,
              "#ed7953"
             ],
             [
              0.7777777777777778,
              "#fb9f3a"
             ],
             [
              0.8888888888888888,
              "#fdca26"
             ],
             [
              1,
              "#f0f921"
             ]
            ],
            "type": "heatmapgl"
           }
          ],
          "histogram": [
           {
            "marker": {
             "pattern": {
              "fillmode": "overlay",
              "size": 10,
              "solidity": 0.2
             }
            },
            "type": "histogram"
           }
          ],
          "histogram2d": [
           {
            "colorbar": {
             "outlinewidth": 0,
             "ticks": ""
            },
            "colorscale": [
             [
              0,
              "#0d0887"
             ],
             [
              0.1111111111111111,
              "#46039f"
             ],
             [
              0.2222222222222222,
              "#7201a8"
             ],
             [
              0.3333333333333333,
              "#9c179e"
             ],
             [
              0.4444444444444444,
              "#bd3786"
             ],
             [
              0.5555555555555556,
              "#d8576b"
             ],
             [
              0.6666666666666666,
              "#ed7953"
             ],
             [
              0.7777777777777778,
              "#fb9f3a"
             ],
             [
              0.8888888888888888,
              "#fdca26"
             ],
             [
              1,
              "#f0f921"
             ]
            ],
            "type": "histogram2d"
           }
          ],
          "histogram2dcontour": [
           {
            "colorbar": {
             "outlinewidth": 0,
             "ticks": ""
            },
            "colorscale": [
             [
              0,
              "#0d0887"
             ],
             [
              0.1111111111111111,
              "#46039f"
             ],
             [
              0.2222222222222222,
              "#7201a8"
             ],
             [
              0.3333333333333333,
              "#9c179e"
             ],
             [
              0.4444444444444444,
              "#bd3786"
             ],
             [
              0.5555555555555556,
              "#d8576b"
             ],
             [
              0.6666666666666666,
              "#ed7953"
             ],
             [
              0.7777777777777778,
              "#fb9f3a"
             ],
             [
              0.8888888888888888,
              "#fdca26"
             ],
             [
              1,
              "#f0f921"
             ]
            ],
            "type": "histogram2dcontour"
           }
          ],
          "mesh3d": [
           {
            "colorbar": {
             "outlinewidth": 0,
             "ticks": ""
            },
            "type": "mesh3d"
           }
          ],
          "parcoords": [
           {
            "line": {
             "colorbar": {
              "outlinewidth": 0,
              "ticks": ""
             }
            },
            "type": "parcoords"
           }
          ],
          "pie": [
           {
            "automargin": true,
            "type": "pie"
           }
          ],
          "scatter": [
           {
            "fillpattern": {
             "fillmode": "overlay",
             "size": 10,
             "solidity": 0.2
            },
            "type": "scatter"
           }
          ],
          "scatter3d": [
           {
            "line": {
             "colorbar": {
              "outlinewidth": 0,
              "ticks": ""
             }
            },
            "marker": {
             "colorbar": {
              "outlinewidth": 0,
              "ticks": ""
             }
            },
            "type": "scatter3d"
           }
          ],
          "scattercarpet": [
           {
            "marker": {
             "colorbar": {
              "outlinewidth": 0,
              "ticks": ""
             }
            },
            "type": "scattercarpet"
           }
          ],
          "scattergeo": [
           {
            "marker": {
             "colorbar": {
              "outlinewidth": 0,
              "ticks": ""
             }
            },
            "type": "scattergeo"
           }
          ],
          "scattergl": [
           {
            "marker": {
             "colorbar": {
              "outlinewidth": 0,
              "ticks": ""
             }
            },
            "type": "scattergl"
           }
          ],
          "scattermapbox": [
           {
            "marker": {
             "colorbar": {
              "outlinewidth": 0,
              "ticks": ""
             }
            },
            "type": "scattermapbox"
           }
          ],
          "scatterpolar": [
           {
            "marker": {
             "colorbar": {
              "outlinewidth": 0,
              "ticks": ""
             }
            },
            "type": "scatterpolar"
           }
          ],
          "scatterpolargl": [
           {
            "marker": {
             "colorbar": {
              "outlinewidth": 0,
              "ticks": ""
             }
            },
            "type": "scatterpolargl"
           }
          ],
          "scatterternary": [
           {
            "marker": {
             "colorbar": {
              "outlinewidth": 0,
              "ticks": ""
             }
            },
            "type": "scatterternary"
           }
          ],
          "surface": [
           {
            "colorbar": {
             "outlinewidth": 0,
             "ticks": ""
            },
            "colorscale": [
             [
              0,
              "#0d0887"
             ],
             [
              0.1111111111111111,
              "#46039f"
             ],
             [
              0.2222222222222222,
              "#7201a8"
             ],
             [
              0.3333333333333333,
              "#9c179e"
             ],
             [
              0.4444444444444444,
              "#bd3786"
             ],
             [
              0.5555555555555556,
              "#d8576b"
             ],
             [
              0.6666666666666666,
              "#ed7953"
             ],
             [
              0.7777777777777778,
              "#fb9f3a"
             ],
             [
              0.8888888888888888,
              "#fdca26"
             ],
             [
              1,
              "#f0f921"
             ]
            ],
            "type": "surface"
           }
          ],
          "table": [
           {
            "cells": {
             "fill": {
              "color": "#EBF0F8"
             },
             "line": {
              "color": "white"
             }
            },
            "header": {
             "fill": {
              "color": "#C8D4E3"
             },
             "line": {
              "color": "white"
             }
            },
            "type": "table"
           }
          ]
         },
         "layout": {
          "annotationdefaults": {
           "arrowcolor": "#2a3f5f",
           "arrowhead": 0,
           "arrowwidth": 1
          },
          "autotypenumbers": "strict",
          "coloraxis": {
           "colorbar": {
            "outlinewidth": 0,
            "ticks": ""
           }
          },
          "colorscale": {
           "diverging": [
            [
             0,
             "#8e0152"
            ],
            [
             0.1,
             "#c51b7d"
            ],
            [
             0.2,
             "#de77ae"
            ],
            [
             0.3,
             "#f1b6da"
            ],
            [
             0.4,
             "#fde0ef"
            ],
            [
             0.5,
             "#f7f7f7"
            ],
            [
             0.6,
             "#e6f5d0"
            ],
            [
             0.7,
             "#b8e186"
            ],
            [
             0.8,
             "#7fbc41"
            ],
            [
             0.9,
             "#4d9221"
            ],
            [
             1,
             "#276419"
            ]
           ],
           "sequential": [
            [
             0,
             "#0d0887"
            ],
            [
             0.1111111111111111,
             "#46039f"
            ],
            [
             0.2222222222222222,
             "#7201a8"
            ],
            [
             0.3333333333333333,
             "#9c179e"
            ],
            [
             0.4444444444444444,
             "#bd3786"
            ],
            [
             0.5555555555555556,
             "#d8576b"
            ],
            [
             0.6666666666666666,
             "#ed7953"
            ],
            [
             0.7777777777777778,
             "#fb9f3a"
            ],
            [
             0.8888888888888888,
             "#fdca26"
            ],
            [
             1,
             "#f0f921"
            ]
           ],
           "sequentialminus": [
            [
             0,
             "#0d0887"
            ],
            [
             0.1111111111111111,
             "#46039f"
            ],
            [
             0.2222222222222222,
             "#7201a8"
            ],
            [
             0.3333333333333333,
             "#9c179e"
            ],
            [
             0.4444444444444444,
             "#bd3786"
            ],
            [
             0.5555555555555556,
             "#d8576b"
            ],
            [
             0.6666666666666666,
             "#ed7953"
            ],
            [
             0.7777777777777778,
             "#fb9f3a"
            ],
            [
             0.8888888888888888,
             "#fdca26"
            ],
            [
             1,
             "#f0f921"
            ]
           ]
          },
          "colorway": [
           "#636efa",
           "#EF553B",
           "#00cc96",
           "#ab63fa",
           "#FFA15A",
           "#19d3f3",
           "#FF6692",
           "#B6E880",
           "#FF97FF",
           "#FECB52"
          ],
          "font": {
           "color": "#2a3f5f"
          },
          "geo": {
           "bgcolor": "white",
           "lakecolor": "white",
           "landcolor": "#E5ECF6",
           "showlakes": true,
           "showland": true,
           "subunitcolor": "white"
          },
          "hoverlabel": {
           "align": "left"
          },
          "hovermode": "closest",
          "mapbox": {
           "style": "light"
          },
          "paper_bgcolor": "white",
          "plot_bgcolor": "#E5ECF6",
          "polar": {
           "angularaxis": {
            "gridcolor": "white",
            "linecolor": "white",
            "ticks": ""
           },
           "bgcolor": "#E5ECF6",
           "radialaxis": {
            "gridcolor": "white",
            "linecolor": "white",
            "ticks": ""
           }
          },
          "scene": {
           "xaxis": {
            "backgroundcolor": "#E5ECF6",
            "gridcolor": "white",
            "gridwidth": 2,
            "linecolor": "white",
            "showbackground": true,
            "ticks": "",
            "zerolinecolor": "white"
           },
           "yaxis": {
            "backgroundcolor": "#E5ECF6",
            "gridcolor": "white",
            "gridwidth": 2,
            "linecolor": "white",
            "showbackground": true,
            "ticks": "",
            "zerolinecolor": "white"
           },
           "zaxis": {
            "backgroundcolor": "#E5ECF6",
            "gridcolor": "white",
            "gridwidth": 2,
            "linecolor": "white",
            "showbackground": true,
            "ticks": "",
            "zerolinecolor": "white"
           }
          },
          "shapedefaults": {
           "line": {
            "color": "#2a3f5f"
           }
          },
          "ternary": {
           "aaxis": {
            "gridcolor": "white",
            "linecolor": "white",
            "ticks": ""
           },
           "baxis": {
            "gridcolor": "white",
            "linecolor": "white",
            "ticks": ""
           },
           "bgcolor": "#E5ECF6",
           "caxis": {
            "gridcolor": "white",
            "linecolor": "white",
            "ticks": ""
           }
          },
          "title": {
           "x": 0.05
          },
          "xaxis": {
           "automargin": true,
           "gridcolor": "white",
           "linecolor": "white",
           "ticks": "",
           "title": {
            "standoff": 15
           },
           "zerolinecolor": "white",
           "zerolinewidth": 2
          },
          "yaxis": {
           "automargin": true,
           "gridcolor": "white",
           "linecolor": "white",
           "ticks": "",
           "title": {
            "standoff": 15
           },
           "zerolinecolor": "white",
           "zerolinewidth": 2
          }
         }
        },
        "title": {
         "text": "2D projection of embeddings"
        },
        "width": 800,
        "xaxis": {
         "autorange": true,
         "range": [
          -0.4028110620589645,
          0.5928381429570626
         ],
         "title": {
          "text": "PCA compotent 1 (12 %)"
         },
         "type": "linear"
        },
        "yaxis": {
         "autorange": true,
         "range": [
          -0.3523533051340247,
          0.6192272962927587
         ],
         "title": {
          "text": "PCA compotent 2 (10 %)"
         },
         "type": "linear"
        }
       }
      },
      "image/png": "[encoded data removed]",
      "text/html": [
       "<div>                            <div id=\"6e05901b-bee3-4dfd-84d3-0517bbf5afb1\" class=\"plotly-graph-div\" style=\"height:500px; width:800px;\"></div>            <script type=\"text/javascript\">                require([\"plotly\"], function(Plotly) {                    window.PLOTLYENV=window.PLOTLYENV || {};                                    if (document.getElementById(\"6e05901b-bee3-4dfd-84d3-0517bbf5afb1\")) {                    Plotly.newPlot(                        \"6e05901b-bee3-4dfd-84d3-0517bbf5afb1\",                        [{\"hoverinfo\":\"text\",\"hovertext\":[\"# Affichage\\n\\n## La fonction `print()`\\n\\nDans le chapitre 1, nous avons rencontré la fonction `print()` qui affiche une chaîne de caractères (le fameux `\\\"Hello world!\\\"`). En fait, la fonction `print()` affiche l'argument qu'on lui passe entre parenthèses **et** un retour à ligne. Ce retour à ligne supplémentaire est ajouté par défaut. Si toutefois, on ne veut pas afficher ce retour à la ligne, on peut utiliser l'argument par « mot-clé » `end` :\\n\\n```python\\n\\u003e\\u003e\\u003e print(\\\"Hello world!\\\")\\nHello world!\\n\\u003e\\u003e\\u003e print(\\\"Hello world!\\\", end=\\\"\\\")\\nHello world!\\u003e\\u003e\\u003e\\n```\\n\\nLigne 1. On a utilisé l'instruction `print()` classiquement en passant la chaîne de caractères `\\\"Hello world!\\\"` en argument.\\n\\nLigne 3. On a ajouté un second argument `end=\\\"\\\"`, en précisant le mot-clé `end`. Nous aborderons les arguments par mot-clé dans le chapitre 9 *Fonctions*. Pour l'instant, dites-vous que cela modifie le comportement par défaut des fonctions.\",\"Ligne 4. L'effet de l'argument `end=\\\"\\\"` est que les trois chevrons `\\u003e\\u003e\\u003e` se retrouvent collés après la chaîne de caractères `\\\"Hello world!\\\"`.\\n\\nUne autre manière de s'en rendre compte est d'utiliser deux fonctions `print()` à la suite. Dans la portion de code suivante, le caractère « `;` » sert à séparer plusieurs instructions Python sur une même ligne :\\n\\n```python\\n\\u003e\\u003e\\u003e print(\\\"Hello\\\") ; print(\\\"Joe\\\")\\nHello\\nJoe\\n\\u003e\\u003e\\u003e print(\\\"Hello\\\", end=\\\"\\\") ; print(\\\"Joe\\\")\\nHelloJoe\\n\\u003e\\u003e\\u003e print(\\\"Hello\\\", end=\\\" \\\") ; print(\\\"Joe\\\")\\nHello Joe\\n```\\n\\nLa fonction `print()` peut également afficher le contenu d'une variable quel que soit son type. Par exemple, pour un entier :\\n\\n```python\\n\\u003e\\u003e\\u003e var = 3\\n\\u003e\\u003e\\u003e print(var)\\n3\\n```\\n\\nIl est également possible d'afficher le contenu de plusieurs variables (quel que soit leur type) en les séparant par des virgules :\\n\\n```python\\n\\u003e\\u003e\\u003e x = 32\\n\\u003e\\u003e\\u003e nom = \\\"John\\\"\\n\\u003e\\u003e\\u003e print(nom, \\\"a\\\", x, \\\"ans\\\")\\nJohn a 32 ans\\n```\",\"```python\\n\\u003e\\u003e\\u003e x = 32\\n\\u003e\\u003e\\u003e nom = \\\"John\\\"\\n\\u003e\\u003e\\u003e print(nom, \\\"a\\\", x, \\\"ans\\\")\\nJohn a 32 ans\\n```\\n\\nPython a écrit une phrase complète en remplaçant les variables `x` et `nom` par leur contenu. Vous remarquerez que pour afficher plusieurs éléments de texte sur une seule ligne, nous avons utilisé le séparateur « `,` » entre les différents éléments. Python a également ajouté un espace à chaque fois que l'on utilisait le séparateur « `,` ». On peut modifier ce comportement en passant à la fonction `print()` l'argument par mot-clé `sep` :\\n\\n```python\\n\\u003e\\u003e\\u003e x = 32\\n\\u003e\\u003e\\u003e nom = \\\"John\\\"\\n\\u003e\\u003e\\u003e print(nom, \\\"a\\\", x, \\\"ans\\\", sep=\\\"\\\")\\nJohna32ans\\n\\u003e\\u003e\\u003e print(nom, \\\"a\\\", x, \\\"ans\\\", sep=\\\"-\\\")\\nJohn-a-32-ans\\n```\\n\\nPour afficher deux chaînes de caractères l'une à côté de l'autre, sans espace, on peut soit les concaténer, soit utiliser l'argument par mot-clé `sep` avec une chaîne de caractères vide :\",\"Pour afficher deux chaînes de caractères l'une à côté de l'autre, sans espace, on peut soit les concaténer, soit utiliser l'argument par mot-clé `sep` avec une chaîne de caractères vide :\\n\\n```python\\n\\u003e\\u003e\\u003e ani1 = \\\"chat\\\"\\n\\u003e\\u003e\\u003e ani2 = \\\"souris\\\"\\n\\u003e\\u003e\\u003e print(ani1, ani2)\\nchat souris\\n\\u003e\\u003e\\u003e print(ani1 + ani2)\\nchatsouris\\n\\u003e\\u003e\\u003e print(ani1, ani2, sep=\\\"\\\")\\nchatsouris\\n```\\n\\n## Écriture formatée\\n\\n### Définitions\\n\\nQue signifie « écriture formatée » ?\\n\\nopen-box-def\\n\\nL'écriture formatée est un mécanisme permettant d'afficher des variables avec un certain format, par exemple justifiées à gauche ou à droite, ou encore avec un certain nombre de décimales pour les *floats*. L'écriture formatée est incontournable lorsqu'on veut créer des fichiers organisés en « belles colonnes » comme par exemple les fichiers PDB (pour en savoir plus sur ce format, reportez-vous à l'annexe A *Quelques formats de données rencontrés en biologie*).\\n\\nclose-box-def\",\"close-box-def\\n\\nDepuis la version 3.6, Python a introduit les *f-strings* pour mettre en place l'écriture formatée que nous allons décrire en détail dans cette rubrique. Il existe d'autres  manières pour formatter des chaînes de caractères qui étaient utilisées avant la version 3.6, nous en avons mis un rappel bref dans la rubrique suivante. Toutefois, nous conseillons vivement l'utilisation des *f-strings* si vous débutez l'apprentissage de Python.\\n\\nQue signifie *f-string* ?\\n\\nopen-box-def\\n\\n*f-string* est le diminutif de *formatted string literals*. Mais encore ? Dans le chapitre précédent, nous avons vu les chaînes de caractères ou encore *strings* qui étaient représentées par un texte entouré de guillemets simples ou doubles. Par exemple :\\n\\n```python\\n\\\"Ceci est une chaîne de caractères\\\"\\n```\\n\\nL'équivalent en *f-string* est tout simplement la même chaîne de caractères précédée du caractère `f` **sans espace** entre les deux :\\n\\n```python\\nf\\\"Ceci est une chaîne de caractères\\\"\\n```\",\"L'équivalent en *f-string* est tout simplement la même chaîne de caractères précédée du caractère `f` **sans espace** entre les deux :\\n\\n```python\\nf\\\"Ceci est une chaîne de caractères\\\"\\n```\\n\\nCe caractère `f` avant les guillemets va indiquer à Python qu'il s'agit d'une *f-string* permettant de mettre en place le mécanisme de l'écriture formatée, contrairement à une *string* normale.\\n\\nclose-box-def\\n\\nNous expliquons plus en détail dans le chapitre 10 *Plus sur les chaînes de caractères* pourquoi on doit mettre ce `f` et le mécanisme sous-jacent.\\n\\n\\n### Prise en main des *f-strings*\\n\\nLes *f-strings* permettent une meilleure organisation de l'affichage des variables. Reprenons l'exemple ci-dessus à propos de notre ami John :\\n\\n```python\\n\\u003e\\u003e\\u003e x = 32\\n\\u003e\\u003e\\u003e nom = \\\"John\\\"\\n\\u003e\\u003e\\u003e print(f\\\"{nom} a {x} ans\\\")\\nJohn a 32 ans\\n```\",\"```python\\n\\u003e\\u003e\\u003e x = 32\\n\\u003e\\u003e\\u003e nom = \\\"John\\\"\\n\\u003e\\u003e\\u003e print(f\\\"{nom} a {x} ans\\\")\\nJohn a 32 ans\\n```\\n\\nIl suffit de passer un nom de variable au sein de chaque couple d'accolades et Python les remplace par leur contenu ! Première remarque, la syntaxe apparait plus lisible que l'équivalent vu ci-avant `print(nom, \\\"a\\\", x, \\\"ans\\\")`. Bien sûr, il ne faut pas omettre le `f` avant le premier guillemet, sinon Python prendra cela pour une chaîne de caractères normale et ne mettra pas en place ce mécanisme de remplacement :\\n\\n```python\\n\\u003e\\u003e\\u003e print(\\\"{nom} a {x} ans\\\")\\n{nom} a {x} ans\\n```\\n\\nopen-box-rem\\n\\nUne variable est utilisable plus d'une fois pour une *f-string* donnée :\\n\\n```python\\n\\u003e\\u003e\\u003e var = \\\"to\\\"\\n\\u003e\\u003e\\u003e print(f\\\"{var} et {var} font {var}{var}\\\")\\nto et to font toto\\n\\u003e\\u003e\\u003e\\n```\\n\\nclose-box-rem\\n\\nEnfin, il est possible de mettre entre les accolades des valeurs numériques ou des chaînes de caractères :\",\"close-box-rem\\n\\nEnfin, il est possible de mettre entre les accolades des valeurs numériques ou des chaînes de caractères :\\n\\n```python\\n\\u003e\\u003e\\u003e print(f\\\"J'affiche l'entier {10} et le float {3.14}\\\")\\nJ'affiche l'entier 10 et le float 3.14\\n\\u003e\\u003e\\u003e print(f\\\"J'affiche la chaine {'Python'}\\\")\\nJ'affiche la chaine Python\\n```\\n\\nMême si cela ne présente que peu d'intérêt pour l'instant, il s'agit d'une commande Python parfaitement valide. Nous verrons des exemples plus pertinents par la suite. Cela fonctionne avec n'importe quel type de variable (entiers, chaînes de caractères, *floats*, etc.). Attention toutefois pour les chaînes de caractères, utilisez des guillemets simples au sein des accolades si vous définissez votre *f-string* avec des guillemets doubles.\\n\\n### Spécification de format\\n\\nLes *f-strings* permettent de remplacer des variables au sein d'une chaîne de caractères. On peut également spécifier le format de leur affichage.\",\"### Spécification de format\\n\\nLes *f-strings* permettent de remplacer des variables au sein d'une chaîne de caractères. On peut également spécifier le format de leur affichage.\\n\\nPrenons un exemple. Imaginez maintenant que vous vouliez calculer, puis afficher, la proportion de GC d'un génome. La proportion de GC s'obtient comme la somme des bases Guanine (G) et Cytosine (C) divisée par le nombre total de bases (A, T, C, G) du génome considéré. Si on a, par exemple, 4500 bases G et 2575 bases C, pour un total de 14800 bases, vous pourriez procéder comme suit (notez bien l'utilisation des parenthèses pour gérer les priorités des opérateurs) :\\n\\n```python\\n\\u003e\\u003e\\u003e prop_GC = (4500 + 2575) \\u002f 14800\\n\\u003e\\u003e\\u003e print(\\\"La proportion de GC est\\\", prop_GC)\\nLa proportion de GC est 0.4780405405405405\\n```\",\"```python\\n\\u003e\\u003e\\u003e prop_GC = (4500 + 2575) \\u002f 14800\\n\\u003e\\u003e\\u003e print(\\\"La proportion de GC est\\\", prop_GC)\\nLa proportion de GC est 0.4780405405405405\\n```\\n\\nLe résultat obtenu présente trop de décimales (seize dans le cas présent). Pour écrire le résultat plus lisiblement, vous pouvez spécifier dans les accolades `{}` le format qui vous intéresse. Dans le cas présent, vous voulez formater un *float* pour l'afficher avec deux puis trois décimales :\\n\\n```python\\n\\u003e\\u003e\\u003e print(f\\\"La proportion de GC est {prop_GC:.2f}\\\")\\nLa proportion de GC est 0.48\\n\\u003e\\u003e\\u003e print(f\\\"La proportion de GC est {prop_GC:.3f}\\\")\\nLa proportion de GC est 0.478\\n```\\n\\nDétaillons le contenu des accolades de la première ligne (`{prop_GC:.2f}`) :\\n\\n- D'abord on a le nom de la variable à formatter, `prop_GC`, c'est indispensable avec les *f-strings*.\\n\\n- Ensuite on rencontre les deux-points `:`, ceux-ci indiquent que ce qui suit va spécifier le format dans lequel on veut afficher la variable `prop_GC`.\",\"- Ensuite on rencontre les deux-points `:`, ceux-ci indiquent que ce qui suit va spécifier le format dans lequel on veut afficher la variable `prop_GC`.\\n\\n- À droite des deux-points on trouve `.2f` qui indique ce format : la lettre `f` indique qu'on souhaite afficher la variable sous forme d'un *float*, les caractères `.2` indiquent la précision voulue, soit ici deux chiffres après la virgule. \\n\\nNotez enfin que le formatage avec `.xf` (`x` étant un entier positif) renvoie un résultat arrondi.\\n\\nVous pouvez aussi formater des entiers avec la lettre `d` (ici `d` veut dire *decimal integer*) :\\n\\n```python\\n\\u003e\\u003e\\u003e nb_G = 4500\\n\\u003e\\u003e\\u003e print(f\\\"Ce génome contient {nb_G:d} guanines\\\")\\nCe génome contient 4500 guanines\\n```\\n\\nou mettre plusieurs nombres dans une même chaîne de caractères.\",\"```python\\n\\u003e\\u003e\\u003e nb_G = 4500\\n\\u003e\\u003e\\u003e print(f\\\"Ce génome contient {nb_G:d} guanines\\\")\\nCe génome contient 4500 guanines\\n```\\n\\nou mettre plusieurs nombres dans une même chaîne de caractères.\\n\\n```python\\n\\u003e\\u003e\\u003e nb_G = 4500\\n\\u003e\\u003e\\u003e nb_C = 2575\\n\\u003e\\u003e\\u003e print(f\\\"Ce génome contient {nb_G:d} G et {nb_C:d} C, soit une prop de GC de {prop_GC:.2f}\\\")\\nCe génome contient 4500 G et 2575 C, soit une prop de GC de 0.48\\n\\u003e\\u003e\\u003e perc_GC = prop_GC * 100\\n\\u003e\\u003e\\u003e print(f\\\"Ce génome contient {nb_G:d} G et {nb_C:d} C, soit un %GC de {perc_GC:.2f} %\\\")\\nCe génome contient 4500 G et 2575 C, soit un %GC de 47.80 %\\n```\\n\\nEnfin, il est possible de préciser sur combien de caractères vous voulez qu'un résultat soit écrit et comment se fait l'alignement (à gauche, à droite ou centré). Dans la portion de code suivante, le caractère `;` sert de séparateur entre les instructions sur une même ligne :\",\"```python\\n\\u003e\\u003e\\u003e print(10) ; print(1000)\\n10\\n1000\\n\\u003e\\u003e\\u003e print(f\\\"{10:\\u003e6d}\\\") ; print(f\\\"{1000:\\u003e6d}\\\")\\n    10\\n  1000\\n\\u003e\\u003e\\u003e print(f\\\"{10:\\u003c6d}\\\") ; print(f\\\"{1000:\\u003c6d}\\\")\\n10    \\n1000  \\n\\u003e\\u003e\\u003e print(f\\\"{10:^6d}\\\") ; print(f\\\"{1000:^6d}\\\")\\n  10  \\n 1000 \\n\\u003e\\u003e\\u003e print(f\\\"{10:*^6d}\\\") ; print(f\\\"{1000:*^6d}\\\")\\n**10**\\n*1000*\\n\\u003e\\u003e\\u003e print(f\\\"{10:0\\u003e6d}\\\") ; print(f\\\"{1000:0\\u003e6d}\\\")\\n000010\\n001000\\n```\\n\\nNotez que `\\u003e` spécifie un alignement à droite, `\\u003c` spécifie un alignement à gauche et `^` spécifie un alignement centré. Il est également possible d'indiquer le caractère qui servira de remplissage lors des alignements (l'espace est le caractère par défaut).\\n\\nCe formatage est également possible sur des chaînes de caractères avec la lettre `s` (comme *string*) :\\n\\n```python\\n\\u003e\\u003e\\u003e print(\\\"atom HN\\\") ; print(\\\"atom HDE1\\\")\\natom HN\\natom HDE1\\n\\u003e\\u003e\\u003e print(f\\\"atom {'HN':\\u003e4s}\\\") ; print(f\\\"atom {'HDE1':\\u003e4s}\\\")\\natom   HN\\natom HDE1\\n```\",\"```python\\n\\u003e\\u003e\\u003e print(\\\"atom HN\\\") ; print(\\\"atom HDE1\\\")\\natom HN\\natom HDE1\\n\\u003e\\u003e\\u003e print(f\\\"atom {'HN':\\u003e4s}\\\") ; print(f\\\"atom {'HDE1':\\u003e4s}\\\")\\natom   HN\\natom HDE1\\n```\\n\\nVous voyez tout de suite l'énorme avantage de l'écriture formatée. Elle vous permet d'écrire en colonnes parfaitement alignées. Nous verrons que ceci est très pratique si l'on veut écrire les coordonnées des atomes d'une molécule au format PDB (pour en savoir plus sur ce format, reportez-vous à l'annexe A *Quelques formats de données rencontrés en biologie*).\\n\\nPour les *floats*, il est possible de combiner le nombre de caractères à afficher avec le nombre de décimales :\\n\\n```python\\n\\u003e\\u003e\\u003e print(f\\\"{perc_GC:7.3f}\\\")\\n 47.804\\n\\u003e\\u003e\\u003e print(f\\\"{perc_GC:10.3f}\\\")\\n    47.804\\n```\",\"```python\\n\\u003e\\u003e\\u003e print(f\\\"{perc_GC:7.3f}\\\")\\n 47.804\\n\\u003e\\u003e\\u003e print(f\\\"{perc_GC:10.3f}\\\")\\n    47.804\\n```\\n\\nL'instruction `7.3f` signifie que l'on souhaite écrire un *float* avec 3 décimales et formaté sur 7 caractères (par défaut justifiés à droite). L'instruction `10.3f` fait la même chose sur 10 caractères. Remarquez que le séparateur décimal `.` compte pour un caractère. De même, si on avait un nombre négatif, le signe `-` compterait aussi pour un caractère.\\n\\n### Autres détails sur les *f-strings*\\n\\nSi on veut afficher des accolades littérales avec les *f-strings*, il faut les doubler pour échapper au formatage :\\n\\n```python\\n\\u003e\\u003e\\u003e print(f\\\"Accolades littérales {{}} ou {{ ou }} et pour le formatage {10}\\\")\\nAccolades littérales {} ou { ou } et pour le formatage 10\\n```\\n\\nUne remarque importante, si on ne met pas de variable à formater entre les accolades dans une *f-string*, cela conduit à une erreur :\",\"Une remarque importante, si on ne met pas de variable à formater entre les accolades dans une *f-string*, cela conduit à une erreur :\\n\\n```python\\n\\u003e\\u003e\\u003e print(f\\\"accolades sans variable {}\\\")\\n  File \\\"\\u003cstdin\\u003e\\\", line 1\\nSyntaxError: f-string: empty expression not allowed\\n```\\n\\nEnfin, il est important de bien comprendre qu'une *f-string* est indépendante de la fonction `print()`. Si on donne une *f-string* à la fonction `print()`, Python évalue d'abord la *f-string* et c'est la chaîne de caractères qui en résulte qui est affichée à l'écran. Tout comme dans l'instruction `print(5*5)`, c'est d'abord la multiplication (`5*5`) qui est évaluée, puis son résultat qui est affiché à l'écran. On peut s'en rendre compte de la manière suivante dans l'interpréteur :\\n\\n```python\\n\\u003e\\u003e\\u003e f\\\"{perc_GC:10.3f}\\\"\\n'    47.804'\\n\\u003e\\u003e\\u003e type(f\\\"{perc_GC:10.3f}\\\")\\n\\u003cclass 'str'\\u003e\\n```\\n\\nPython considère le résultat de l'instruction `f\\\"{perc_GC:10.3f}\\\"` comme une chaîne de caractères et la fonction `type()` nous le confirme.\",\"Python considère le résultat de l'instruction `f\\\"{perc_GC:10.3f}\\\"` comme une chaîne de caractères et la fonction `type()` nous le confirme.\\n\\n### Expressions dans les *f-strings*\\n\\nUne fonctionnalité extrêmement puissante des *f-strings* est de supporter des expressions Python au sein des accolades. Ainsi, il est possible d'y mettre directement une opération ou encore un appel à une fonction :\\n\\n```python\\n\\u003e\\u003e\\u003e print(f\\\"Le résultat de 5 * 5 vaut {5 * 5}\\\")\\nLe résultat de 5 * 5 vaut 25\\n\\u003e\\u003e\\u003e print(f\\\"Résultat d'une opération avec des floats : {(4.1 * 6.7)}\\\")\\nRésultat d'une opération avec des floats : 27.47\\n\\u003e\\u003e\\u003e print(f\\\"Le minimum est {min(1, -2, 4)}\\\")\\nLe minimum est -2\\n\\u003e\\u003e\\u003e entier = 2\\n\\u003e\\u003e\\u003e print(f\\\"Le type de {entier} est {type(entier)}\\\")\\nLe type de 2 est \\u003cclass 'int'\\u003e\\n```\\n\\nNous aurons l'occasion de revenir sur cette fonctionnalité au fur et à mesure de ce cours.\",\"Nous aurons l'occasion de revenir sur cette fonctionnalité au fur et à mesure de ce cours.\\n\\nLes possibilités offertes par les *f-strings* sont nombreuses. Pour vous y retrouver dans les différentes options de formatage, nous vous conseillons de consulter ce [mémo](https:\\u002f\\u002ffstring.help\\u002fcheat\\u002f) (en anglais).\\n\\n\\n## Écriture scientifique\\n\\nPour les nombres très grands ou très petits, l'écriture formatée permet d'afficher un nombre en notation scientifique (sous forme de puissance de 10) avec la lettre `e` :\\n\\n```python\\n\\u003e\\u003e\\u003e print(f\\\"{1_000_000_000:e}\\\")\\n1.000000e+09\\n\\u003e\\u003e\\u003e print(f\\\"{0.000_000_001:e}\\\")\\n1.000000e-09\\n```\\n\\nIl est également possible de définir le nombre de chiffres après la virgule. Dans l'exemple ci-dessous, on affiche un nombre avec aucun, 3 et 6 chiffres après la virgule :\\n\\n```python\\n\\u003e\\u003e\\u003e avogadro_number = 6.022_140_76e23\\n\\u003e\\u003e\\u003e print(f\\\"{avogadro_number:.0e}\\\")\\n6e+23\\n\\u003e\\u003e\\u003e print(f\\\"{avogadro_number:.3e}\\\")\\n6.022e+23\\n\\u003e\\u003e\\u003e print(f\\\"{avogadro_number:.6e}\\\")\\n6.022141e+23\\n```\",\"```python\\n\\u003e\\u003e\\u003e avogadro_number = 6.022_140_76e23\\n\\u003e\\u003e\\u003e print(f\\\"{avogadro_number:.0e}\\\")\\n6e+23\\n\\u003e\\u003e\\u003e print(f\\\"{avogadro_number:.3e}\\\")\\n6.022e+23\\n\\u003e\\u003e\\u003e print(f\\\"{avogadro_number:.6e}\\\")\\n6.022141e+23\\n```\\n\\n\\n## Ancienne méthode de formatage des chaînes de caractères\\n\\n*Conseil* : Pour les débutants, tout ce qui est écrit dans cette rubrique n'est pas à retenir.\\n\\nDans les premières versions de Python jusqu'à la 2.6, il fallait utiliser l'opérateur `%`, puis de la version 2.7 jusqu'à la 3.5 il était plutôt conseillé d'utiliser la méthode `.format()` (voir la rubrique suivante pour la définition du mot « méthode »). Même si les *f-strings* sont devenues la manière conseillée pour mettre en place l'écriture formatée, ces deux anciennes manières, sont encore pleinement compatibles avec les versions modernes de Python.\",\"Même si elle fonctionne encore, la première manière avec l'opérateur `%` est maintenant clairement déconseillée pour un certain nombre de [raisons](https:\\u002f\\u002fdocs.python.org\\u002ffr\\u002f3\\u002flibrary\\u002fstdtypes.html?highlight=sprintf#printf-style-string-formatting). Néanmoins, nous rappelons ci-dessous son fonctionnement, car il se peut que vous tombiez dessus dans d'anciens livres ou si vous lisez de vieux programmes Python.\\n\\nLa deuxième manière avec la méthode `.format()` est encore largement utilisée et reste tout à fait valide. Elle est clairement plus puissante et évite un certain nombre de désagréments par rapport à l'opérateur `%`. Vous la croiserez sans doute très fréquemment dans des programmes et ouvrages récents. Heureusement elle a un fonctionnement relativement proche des *f-strings*, donc vous ne serez pas totalement perdus !\\n\\nEnfin, nous indiquons à la fin de cette rubrique nos conseils sur quelle méthode utiliser.\\n\\n### L'opérateur `%`\",\"Enfin, nous indiquons à la fin de cette rubrique nos conseils sur quelle méthode utiliser.\\n\\n### L'opérateur `%`\\n\\nOn a vu avec les entiers que l'opérateur `%` ou *modulo* renvoyait le reste d'une division entière. Cet opérateur existe aussi pour les chaînes de caractères mais il met en place l'écriture formatée. En voici un exemple :\\n\\n```python\\n\\u003e\\u003e\\u003e x = 32\\n\\u003e\\u003e\\u003e nom = \\\"John\\\"\\n\\u003e\\u003e\\u003e print(\\\"%s a %d ans\\\" % (nom, x))\\nJohn a 32 ans\\n\\u003e\\u003e\\u003e nb_G = 4500\\n\\u003e\\u003e\\u003e nb_C = 2575\\n\\u003e\\u003e\\u003e prop_GC = (nb_G + nb_C)\\u002f14800\\n\\u003e\\u003e\\u003e print(\\\"On a %d G et %d C -\\u003e prop GC = %.2f\\\" % (nb_G, nb_C, prop_GC))\\nOn a 4500 G et 2575 C -\\u003e prop GC = 0.48\\n```\\n\\nLa syntaxe est légèrement différente. Le symbole `%` est d'abord appelé dans la chaîne de caractères (dans l'exemple ci-dessus `%d`, `%d` et `%.2f`) pour :\",\"La syntaxe est légèrement différente. Le symbole `%` est d'abord appelé dans la chaîne de caractères (dans l'exemple ci-dessus `%d`, `%d` et `%.2f`) pour :\\n\\n- Désigner l'endroit où sera placée la variable dans la chaîne de caractères.\\n- Préciser le type de variable à formater, `d` pour un entier (`i` fonctionne également) ou `f` pour un *float*.\\n- Éventuellement pour indiquer le format voulu. Ici `.2` signifie une précision de deux décimales.\\n\\nLe signe `%` est rappelé une seconde fois (`% (nb_G, nb_C, prop_GC)`) pour indiquer les variables à formater.\\n\\n### La méthode `.format()`\\n\\nDepuis la version 2.7 de Python, la méthode `.format()` (voir la rubrique suivante pour la définition d'une méthode) a apporté une nette amélioration pour mettre en place l'écriture formatée. Celle-ci fonctionne de la manière suivante :\",\"```python\\n\\u003e\\u003e\\u003e x = 32\\n\\u003e\\u003e\\u003e nom = \\\"John\\\"\\n\\u003e\\u003e\\u003e print(\\\"{} a {} ans\\\".format(nom, x))\\nJohn a 32 ans\\n\\u003e\\u003e\\u003e nb_G = 4500\\n\\u003e\\u003e\\u003e nb_C = 2575\\n\\u003e\\u003e\\u003e prop_GC = (nb_G + nb_C)\\u002f14800\\n\\u003e\\u003e\\u003e print(\\\"On a {} G et {} C -\\u003e prop GC = {:.2f}\\\".format(nb_G, nb_C, prop_GC))\\nOn a 4500 G et 2575 C -\\u003e prop GC = 0.48\\n```\\n\\n- Dans la chaîne de caractères, les accolades vides `{}` précisent l'endroit où le contenu de la variable doit être inséré.\\n- Juste après la chaîne de caractères, l'instruction `.format(nom, x)` fournit la liste des variables à insérer, d'abord la variable `nom` puis la variable `x`. \\n- On peut éventuellement préciser le formatage en mettant un caractère deux-points `:` puis par exemple ici `.2f` qui signifie 2 chiffres après la virgule.\\n- La méthode `.format()` agit sur la chaîne de caractères à laquelle elle est attachée par le point.\",\"Tout ce que nous avons vu avec les *f-strings* sur la manière de formatter l'affichage d'une variable (après les `:` au sein des accolades) est identique avec la méthode `.format()`. Par exemple `{:.2f}`, `{:0\\u003e6d}`, `{:.6e}`, etc., fonctionneront de la même manière. La différence notable est qu'on ne met pas directement le nom de la variable au sein des accolades. Comme pour l'opérateur `%`, c'est l'emplacement dans les arguments passés à la méthode `.format()` qui dicte quelle variable doit être remplacée. Par exemple, dans `\\\"{} {} {}\\\".format(bidule, machin, truc)`, les premières accolades remplaceront la variable `bidule`, les deuxièmes la variable `machin`, les troisièmes la variable `truc`.\",\"Le formattage avec la méthode `.format()` se rapproche de la syntaxe des *f-strings* (accolades, deux-points), mais présente l'inconvénient -- comme avec l'opérateur `%` -- de devoir mettre la liste des variables tout à la fin, alourdissant ainsi la syntaxe. En effet, dans l'exemple avec la proportion de GC, la ligne équivalente avec une *f-string* apparait tout de même plus simple à lire :\\n\\n```python\\n\\u003e\\u003e\\u003e print(f\\\"On a {nb_G} G et {nb_C} C -\\u003e prop GC = {prop_GC:.2f}\\\")\\nOn a 4500 G et 2575 C -\\u003e prop GC = 0.48\\n```\\n\\nopen-box-adv\",\"```python\\n\\u003e\\u003e\\u003e print(f\\\"On a {nb_G} G et {nb_C} C -\\u003e prop GC = {prop_GC:.2f}\\\")\\nOn a 4500 G et 2575 C -\\u003e prop GC = 0.48\\n```\\n\\nopen-box-adv\\n\\nPour conclure, ces deux anciennes façons de formater une chaîne de caractères avec l'opérateur `%` ou la méthode `.format()` vous sont présentées à titre d'information. La première avec l'opérateur `%` est clairement déconseillée. La deuxième avec la méthode `.format()` est encore tout à fait valable. Si vous débutez Python, nous vous conseillons fortement d'apprendre et d'utiliser les *f-strings*. C'est ce que vous rencontrerez dans la suite de ce cours. Si vous connaissez déjà Python et que vous utilisez la méthode `.format()`, nous vous conseillons de passer aux *f-strings*. Depuis que nous les avons découvertes, aucun retour n'est envisageable pour nous tant elles sont puissantes et plus claires à utiliser !\",\"Enfin, si vous souhaitez aller plus loin, voici deux articles (en anglais) très bien faits sur le site *RealPython*: sur l'[écriture formatée](https:\\u002f\\u002frealpython.com\\u002fpython-string-formatting) et sur les [*f-strings*](https:\\u002f\\u002frealpython.com\\u002fpython-f-strings\\u002f)\\n\\nclose-box-adv\\n\\n## Note sur le vocabulaire et la syntaxe\\n\\nRevenons quelques instants sur la notion de **méthode** abordée dans ce chapitre avec `.format()`. En Python, on peut considérer chaque variable comme un objet sur lequel on peut appliquer des méthodes. Une méthode est simplement une fonction qui utilise et\\u002fou agit sur l'objet lui-même, les deux étant connectés par un point. La syntaxe générale est de la forme `objet.méthode()`.\\n\\nDans l'exemple suivant :\\n\\n```python\\n\\u003e\\u003e\\u003e \\\"Joe a {} ans\\\".format(20)\\n'Joe a 20 ans'\\n```\\n\\nla méthode `.format()` est liée à `\\\"Joe a {} ans\\\"` qui est un objet de type chaîne de caractères. La méthode renvoie une nouvelle chaîne de caractères avec le bon formatage (ici, `'Joe a 20 ans'`).\",\"la méthode `.format()` est liée à `\\\"Joe a {} ans\\\"` qui est un objet de type chaîne de caractères. La méthode renvoie une nouvelle chaîne de caractères avec le bon formatage (ici, `'Joe a 20 ans'`).\\n\\nNous aurons de nombreuses occasions de revoir cette notation `objet.méthode()`.\\n\\n\\n## Exercices\\n\\n*Conseil* : utilisez l'interpréteur Python pour les exercices 2 à 5.\\n\\n\\n### Affichage dans l'interpréteur et dans un programme\\n\\nOuvrez l'interpréteur Python et tapez l'instruction `1+1`. Que se passe-t-il ?\\n\\nÉcrivez la même chose dans un script `test.py` que vous allez créer avec un éditeur de texte. Exécutez ce script en tapant `python test.py` dans un *shell*. Que se passe-t-il ? Pourquoi ? Faites en sorte d'afficher le résultat de l'addition `1+1` en exécutant le script dans un *shell*.\\n\\n\\n### Poly-A\\n\\nGénérez une chaîne de caractères représentant un brin d'ADN poly-A (c'est-à-dire qui ne contient que des bases A) de 20 bases de longueur, sans taper littéralement toutes les bases.\",\"### Poly-A\\n\\nGénérez une chaîne de caractères représentant un brin d'ADN poly-A (c'est-à-dire qui ne contient que des bases A) de 20 bases de longueur, sans taper littéralement toutes les bases.\\n\\n\\n### Poly-A et poly-GC\\n\\nSur le modèle de l'exercice précédent, générez en une ligne de code un brin d'ADN poly-A (AAAA...) de 20 bases suivi d'un poly-GC régulier (GCGCGC...) de 40 bases.\\n\\n\\n### Écriture formatée\\n\\nEn utilisant l'écriture formatée, affichez en une seule ligne les variables `a`, `b` et `c` dont les valeurs sont respectivement la chaîne de caractères `\\\"salut\\\"`, le nombre entier `102` et le *float* `10.318`. La variable `c` sera affichée avec 2 décimales.\\n\\n\\n### Écriture formatée 2\\n\\nDans un script `percGC.py`, calculez un pourcentage de GC avec l'instruction suivante :\\n\\n`perc_GC = ((4500 + 2575)\\u002f14800)*100`\",\"### Écriture formatée 2\\n\\nDans un script `percGC.py`, calculez un pourcentage de GC avec l'instruction suivante :\\n\\n`perc_GC = ((4500 + 2575)\\u002f14800)*100`\\n\\nEnsuite, affichez le contenu de la variable `perc_GC` à l'écran avec 0, 1, 2 puis 3 décimales sous forme arrondie en utilisant l'écriture formatée et les *f-strings*. On souhaite que le programme affiche la sortie suivante :\\n\\n```text\\nLe pourcentage de GC est 48     %\\nLe pourcentage de GC est 47.8   %\\nLe pourcentage de GC est 47.80  %\\nLe pourcentage de GC est 47.804 %\\n```\"],\"marker\":{\"colorscale\":[[0.0,\"#440154\"],[0.1111111111111111,\"#482878\"],[0.2222222222222222,\"#3e4989\"],[0.3333333333333333,\"#31688e\"],[0.4444444444444444,\"#26828e\"],[0.5555555555555556,\"#1f9e89\"],[0.6666666666666666,\"#35b779\"],[0.7777777777777778,\"#6ece58\"],[0.8888888888888888,\"#b5de2b\"],[1.0,\"#fde725\"]],\"opacity\":0.8,\"size\":8},\"mode\":\"markers\",\"name\":\"Affichage\",\"x\":[0.024602879560722588,0.1388655681233343,0.171964926891132,0.2889450451367363,0.32191479576156357,0.3250446577984859,0.3291009345452451,0.33773232871021847,0.4969287512582874,0.4422143914309633,0.4665182705855518,0.42318288700552414,0.3386592672988308,0.4162357622673455,0.5347998849863937,0.4048874901911374,0.3197082687251081,0.3006409016914391,0.4358612188456685,0.35010638870258975,0.32829635613450314,0.4018565370663623,0.4147897124054015,0.388519972866369,0.46674292241906584,0.46358317871001076,0.2700086530798403,0.1441732654235471,0.15246136245288816,0.3499673312445188],\"y\":[-0.008120174632583018,-0.06133291414119984,-0.04007834919686302,0.06849376462678752,0.05078401311491109,0.017407424153207673,-0.03334889565138034,0.02655890131463781,0.06602207632038694,0.08267123206088911,0.06532656848377072,0.09855157650865672,0.07953140653691214,0.1179830834616547,0.05358966546830183,0.002458307953487078,-0.04676728827937236,0.0758980519988771,0.07749618170350583,0.05629885608302704,0.03205940417293732,0.044137559233391715,0.048214199659582305,0.03614222466792514,0.09410080957932265,0.12809278823476886,-0.004210049841486531,0.04311741442093951,0.030069259940256075,0.061419790544436935],\"type\":\"scatter\"},{\"hoverinfo\":\"text\",\"hovertext\":[\"# Listes\\n\\n## Définition\\n\\nUne **liste** est une structure de données qui contient une série de valeurs. Python autorise la construction de liste contenant des valeurs de types différents (par exemple entier et chaîne de caractères), ce qui leur confère une grande flexibilité. Une liste est déclarée par une série de valeurs (n'oubliez pas les guillemets, simples ou doubles, s'il s'agit de chaînes de caractères) séparées par des **virgules**, et le tout encadré par des **crochets**. En voici quelques exemples :\\n\\n```python\\n\\u003e\\u003e\\u003e animaux = [\\\"girafe\\\", \\\"tigre\\\", \\\"singe\\\", \\\"souris\\\"]\\n\\u003e\\u003e\\u003e tailles = [5, 2.5, 1.75, 0.15]\\n\\u003e\\u003e\\u003e mixte = [\\\"girafe\\\", 5, \\\"souris\\\", 0.15]\\n\\u003e\\u003e\\u003e animaux\\n['girafe', 'tigre', 'singe', 'souris']\\n\\u003e\\u003e\\u003e tailles\\n[5, 2.5, 1.75, 0.15]\\n\\u003e\\u003e\\u003e mixte\\n['girafe', 5, 'souris', 0.15]\\n```\\n\\nLorsque l'on affiche une liste, Python la restitue telle qu'elle a été saisie.\\n\\n\\n## Utilisation\",\"Lorsque l'on affiche une liste, Python la restitue telle qu'elle a été saisie.\\n\\n\\n## Utilisation\\n\\nUn des gros avantages d'une liste est que vous pouvez appeler ses éléments par leur position. Ce numéro est appelé **indice** (ou *index*) de la liste.\\n\\n```text\\nliste  : [\\\"girafe\\\", \\\"tigre\\\", \\\"singe\\\", \\\"souris\\\"]\\nindice :        0        1        2         3\\n```\\n\\nSoyez très **attentif** au fait que les indices d'une liste de *n* éléments commencent à *0* et se terminent à *n-1*. Voyez l'exemple suivant :\\n\\n```python\\n\\u003e\\u003e\\u003e animaux = [\\\"girafe\\\", \\\"tigre\\\", \\\"singe\\\", \\\"souris\\\"]\\n\\u003e\\u003e\\u003e animaux[0]\\n'girafe'\\n\\u003e\\u003e\\u003e animaux[1]\\n'tigre'\\n\\u003e\\u003e\\u003e animaux[3]\\n'souris'\\n```\\n\\nPar conséquent, si on appelle l'élément d'indice 4 de notre liste, Python renverra un message d'erreur :\\n\\n```python\\n\\u003e\\u003e\\u003e animaux[4]\\nTraceback (innermost last):\\n  File \\\"\\u003cstdin\\u003e\\\", line 1, in ?\\nIndexError: list index out of range\\n```\\n\\nN'oubliez pas ceci ou vous risquez d'obtenir des bugs inattendus !\\n\\n\\n## Opération sur les listes\",\"N'oubliez pas ceci ou vous risquez d'obtenir des bugs inattendus !\\n\\n\\n## Opération sur les listes\\n\\nTout comme les chaînes de caractères, les listes supportent l'opérateur `+` de concaténation, ainsi que l'opérateur `*` pour la duplication :\\n\\n```python\\n\\u003e\\u003e\\u003e ani1 = [\\\"girafe\\\", \\\"tigre\\\"]\\n\\u003e\\u003e\\u003e ani2 = [\\\"singe\\\", \\\"souris\\\"]\\n\\u003e\\u003e\\u003e ani1 + ani2\\n['girafe', 'tigre', 'singe', 'souris']\\n\\u003e\\u003e\\u003e ani1 * 3\\n['girafe', 'tigre', 'girafe', 'tigre', 'girafe', 'tigre']\\n```\\n\\nL'opérateur `+` est très pratique pour concaténer deux listes.\\n\\nVous pouvez aussi utiliser la méthode `.append()` lorsque vous souhaitez ajouter un seul élément à la fin d'une liste.\\n\\nDans l'exemple suivant nous allons créer une liste vide :\\n\\n```python\\n\\u003e\\u003e\\u003e a = []\\n\\u003e\\u003e\\u003e a\\n[]\\n```\\n\\npuis lui ajouter deux éléments, l'un après l'autre, d'abord avec la concaténation :\\n\\n```python\\n\\u003e\\u003e\\u003e a = a + [15]\\n\\u003e\\u003e\\u003e a\\n[15]\\n\\u003e\\u003e\\u003e a = a + [-5]\\n\\u003e\\u003e\\u003e a\\n[15, -5]\\n```\\n\\npuis avec la méthode `.append()` :\",\"puis lui ajouter deux éléments, l'un après l'autre, d'abord avec la concaténation :\\n\\n```python\\n\\u003e\\u003e\\u003e a = a + [15]\\n\\u003e\\u003e\\u003e a\\n[15]\\n\\u003e\\u003e\\u003e a = a + [-5]\\n\\u003e\\u003e\\u003e a\\n[15, -5]\\n```\\n\\npuis avec la méthode `.append()` :\\n\\n```python\\n\\u003e\\u003e\\u003e a.append(13)\\n\\u003e\\u003e\\u003e a\\n[15, -5, 13]\\n\\u003e\\u003e\\u003e a.append(-3)\\n\\u003e\\u003e\\u003e a\\n[15, -5, 13, -3]\\n```\\n\\nDans l'exemple ci-dessus, nous ajoutons des éléments à une liste en utilisant l'opérateur de concaténation `+` ou la méthode `.append()`. Nous vous conseillons dans ce cas précis d'utiliser la méthode `.append()` dont la syntaxe est plus élégante.\\n\\nNous reverrons en détail la méthode `.append()` dans le chapitre 11 *Plus sur les listes*.\\n\\n\\n## Indiçage négatif\\n\\nLa liste peut également être indexée avec des nombres négatifs selon le modèle suivant :\\n\\n```text\\nliste          : [\\\"girafe\\\", \\\"tigre\\\", \\\"singe\\\", \\\"souris\\\"]\\nindice positif :        0        1        2         3\\nindice négatif :       -4       -3       -2        -1\\n```\\n\\nou encore :\",\"```text\\nliste          : [\\\"girafe\\\", \\\"tigre\\\", \\\"singe\\\", \\\"souris\\\"]\\nindice positif :        0        1        2         3\\nindice négatif :       -4       -3       -2        -1\\n```\\n\\nou encore :\\n\\n```text\\nliste          : [\\\"A\\\", \\\"B\\\", \\\"C\\\", \\\"D\\\", \\\"E\\\", \\\"F\\\"]\\nindice positif :   0    1    2    3    4    5\\nindice négatif :  -6   -5   -4   -3   -2   -1\\n```\\n\\nLes indices négatifs reviennent à compter à partir de la fin. Leur principal avantage est que vous pouvez accéder au dernier élément d'une liste à l'aide de l'indice `-1` sans pour autant connaître la longueur de cette liste. L'avant-dernier élément a lui l'indice `-2`, l'avant-avant dernier l'indice `-3`, etc.\\n\\n```python\\n\\u003e\\u003e\\u003e animaux = [\\\"girafe\\\", \\\"tigre\\\", \\\"singe\\\", \\\"souris\\\"]\\n\\u003e\\u003e\\u003e animaux[-1]\\n'souris'\\n\\u003e\\u003e\\u003e animaux[-2]\\n'singe'\\n```\\n\\nPour accéder au premier élément de la liste avec un indice négatif, il faut par contre connaître le bon indice :\\n\\n```python\\n\\u003e\\u003e\\u003e animaux[-4]\\n'girafe'\\n```\\n\\nDans ce cas, on utilise plutôt `animaux[0]`.\\n\\n\\n## Tranches\",\"```python\\n\\u003e\\u003e\\u003e animaux[-4]\\n'girafe'\\n```\\n\\nDans ce cas, on utilise plutôt `animaux[0]`.\\n\\n\\n## Tranches\\n\\nUn autre avantage des listes est la possibilité de sélectionner une partie d'une liste en utilisant un indiçage construit sur le modèle `[m:n+1]` pour récupérer tous les éléments, du émième au énième (de l'élément `m` inclus à l'élément `n+1` exclu). On dit alors qu'on récupère une **tranche** de la liste, par exemple :\\n\\n```python\\n\\u003e\\u003e\\u003e animaux = [\\\"girafe\\\", \\\"tigre\\\", \\\"singe\\\", \\\"souris\\\"]\\n\\u003e\\u003e\\u003e animaux[0:2]\\n['girafe', 'tigre']\\n\\u003e\\u003e\\u003e animaux[0:3]\\n['girafe', 'tigre', 'singe']\\n\\u003e\\u003e\\u003e animaux[0:]\\n['girafe', 'tigre', 'singe', 'souris']\\n\\u003e\\u003e\\u003e animaux[:]\\n['girafe', 'tigre', 'singe', 'souris']\\n\\u003e\\u003e\\u003e animaux[1:]\\n['tigre', 'singe', 'souris']\\n\\u003e\\u003e\\u003e animaux[1:-1]\\n['tigre', 'singe']\\n```\\n\\nNotez que lorsqu'aucun indice n'est indiqué à gauche ou à droite du symbole deux-points, Python prend par défaut tous les éléments depuis le début ou tous les éléments jusqu'à la fin respectivement.\",\"Notez que lorsqu'aucun indice n'est indiqué à gauche ou à droite du symbole deux-points, Python prend par défaut tous les éléments depuis le début ou tous les éléments jusqu'à la fin respectivement.\\n\\nOn peut aussi préciser le pas en ajoutant un symbole deux-points supplémentaire et en indiquant le pas par un entier.\\n\\n```python\\n\\u003e\\u003e\\u003e animaux = [\\\"girafe\\\", \\\"tigre\\\", \\\"singe\\\", \\\"souris\\\"]\\n\\u003e\\u003e\\u003e animaux[0:3:2]\\n['girafe', 'singe']\\n\\u003e\\u003e\\u003e x = [0, 1, 2, 3, 4, 5, 6, 7, 8, 9]\\n\\u003e\\u003e\\u003e x\\n[0, 1, 2, 3, 4, 5, 6, 7, 8, 9]\\n\\u003e\\u003e\\u003e x[::1]\\n[0, 1, 2, 3, 4, 5, 6, 7, 8, 9]\\n\\u003e\\u003e\\u003e x[::2]\\n[0, 2, 4, 6, 8]\\n\\u003e\\u003e\\u003e x[::3]\\n[0, 3, 6, 9]\\n\\u003e\\u003e\\u003e x[1:6:3]\\n[1, 4]\\n```\\n\\nFinalement, on se rend compte que l'accès au contenu d'une liste fonctionne sur le modèle `liste[début:fin:pas]`.\\n\\n\\n## Fonction `len()`\\n\\nL'instruction `len()` vous permet de connaître la longueur d'une liste, c'est-à-dire le nombre d'éléments que contient la liste. Voici un exemple d'utilisation :\",\"## Fonction `len()`\\n\\nL'instruction `len()` vous permet de connaître la longueur d'une liste, c'est-à-dire le nombre d'éléments que contient la liste. Voici un exemple d'utilisation :\\n\\n```python\\n\\u003e\\u003e\\u003e animaux = [\\\"girafe\\\", \\\"tigre\\\", \\\"singe\\\", \\\"souris\\\"]\\n\\u003e\\u003e\\u003e len(animaux)\\n4\\n\\u003e\\u003e\\u003e len([1, 2, 3, 4, 5, 6, 7, 8])\\n8\\n```\\n\\n\\n## Les fonctions `range()` et `list()`\\n\\nL'instruction `range()` est une fonction spéciale en Python qui  génère des nombres entiers compris dans un intervalle. Lorsqu'elle est utilisée en combinaison avec la fonction `list()`, on obtient une liste d'entiers. Par exemple :\\n\\n```python\\n\\u003e\\u003e\\u003e list(range(10))\\n[0, 1, 2, 3, 4, 5, 6, 7, 8, 9]\\n```\\n\\nLa commande `list(range(10))` a généré une liste contenant tous les nombres entiers de 0 inclus à 10 **exclu**. Nous verrons l'utilisation de la fonction `range()` toute seule dans le chapitre 5 *Boucles et comparaisons*.\",\"Dans l'exemple ci-dessus, la fonction `range()` a pris un argument, mais elle peut également prendre deux ou trois arguments, voyez plutôt :\\n\\n```python\\n\\u003e\\u003e\\u003e list(range(0, 5))\\n[0, 1, 2, 3, 4]\\n\\u003e\\u003e\\u003e list(range(15, 20))\\n[15, 16, 17, 18, 19]\\n\\u003e\\u003e\\u003e list(range(0, 1000, 200))\\n[0, 200, 400, 600, 800]\\n\\u003e\\u003e\\u003e list(range(2, -2, -1))\\n[2, 1, 0, -1]\\n```\\n\\nL'instruction `range()` fonctionne sur le modèle `range([début,] fin[, pas])`. Les arguments entre crochets sont optionnels. Pour obtenir une liste de nombres entiers, il faut l'utiliser systématiquement avec la fonction `list()`.\\n\\nEnfin, prenez garde aux arguments optionnels par défaut (`0` pour `début` et `1` pour `pas`) :\\n\\n```python\\n\\u003e\\u003e\\u003e list(range(10,0))\\n[]\\n```\",\"Enfin, prenez garde aux arguments optionnels par défaut (`0` pour `début` et `1` pour `pas`) :\\n\\n```python\\n\\u003e\\u003e\\u003e list(range(10,0))\\n[]\\n```\\n\\nIci la liste est vide car Python a pris la valeur du pas par défaut qui est de 1. Ainsi, si on commence à 10 et qu'on avance par pas de 1, on ne pourra jamais atteindre 0. Python génère ainsi une liste vide. Pour éviter ça, il faudrait, par exemple, préciser un pas de -1 pour obtenir une liste d'entiers décroissants :\\n\\n```python\\n\\u003e\\u003e\\u003e list(range(10,0,-1))\\n[10, 9, 8, 7, 6, 5, 4, 3, 2, 1]\\n```\\n\\n## Listes de listes\\n\\nPour finir, sachez qu'il est tout à fait possible de construire des listes de listes. Cette fonctionnalité peut parfois être très pratique. Par exemple :\\n\\n```python\\n\\u003e\\u003e\\u003e enclos1 = [\\\"girafe\\\", 4]\\n\\u003e\\u003e\\u003e enclos2 = [\\\"tigre\\\", 2]\\n\\u003e\\u003e\\u003e enclos3 = [\\\"singe\\\", 5]\\n\\u003e\\u003e\\u003e zoo = [enclos1, enclos2, enclos3]\\n\\u003e\\u003e\\u003e zoo\\n[['girafe', 4], ['tigre', 2], ['singe', 5]]\\n```\",\"```python\\n\\u003e\\u003e\\u003e enclos1 = [\\\"girafe\\\", 4]\\n\\u003e\\u003e\\u003e enclos2 = [\\\"tigre\\\", 2]\\n\\u003e\\u003e\\u003e enclos3 = [\\\"singe\\\", 5]\\n\\u003e\\u003e\\u003e zoo = [enclos1, enclos2, enclos3]\\n\\u003e\\u003e\\u003e zoo\\n[['girafe', 4], ['tigre', 2], ['singe', 5]]\\n```\\n\\nDans cet exemple, chaque sous-liste contient une catégorie d'animal et le nombre d'animaux pour chaque catégorie.\\n\\nPour accéder à un élément de la liste, on utilise l'indiçage habituel :\\n\\n```python\\n\\u003e\\u003e\\u003e zoo[1]\\n['tigre', 2]\\n```\\n\\nPour accéder à un élément de la sous-liste, on utilise un double indiçage :\\n\\n```python\\n\\u003e\\u003e\\u003e zoo[1][0]\\n'tigre'\\n\\u003e\\u003e\\u003e zoo[1][1]\\n2\\n```\\n\\nOn verra un peu plus loin qu'il existe en Python des dictionnaires qui sont également très pratiques pour stocker de l'information structurée. On verra aussi qu'il existe un module nommé *NumPy* qui permet de créer des listes ou des tableaux de nombres (vecteurs et matrices) et de les manipuler.\\n\\n## Minimum, maximum et somme d'une liste\",\"## Minimum, maximum et somme d'une liste\\n\\nLes fonctions `min()`, `max()` et `sum()` renvoient respectivement le minimum, le maximum et la somme d'une liste passée en argument.\\n\\n```python\\n\\u003e\\u003e\\u003e liste = list(range(10))\\n\\u003e\\u003e\\u003e liste\\n[0, 1, 2, 3, 4, 5, 6, 7, 8, 9]\\n\\u003e\\u003e\\u003e sum(liste)\\n45\\n\\u003e\\u003e\\u003e min(liste)\\n0\\n\\u003e\\u003e\\u003e max(liste)\\n9\\n```\\n\\nMême si en théorie ces fonctions peuvent prendre en argument une liste de *strings*, on les utilisera la plupart du temps avec des types numériques (liste d'entiers et \\u002f ou de *floats*). \\n\\nNous avions déjà croisé `min()`, `max()` dans le chapitre 2 *Variables*. On avait vu que ces deux fonctions pouvaient prendre plusieurs arguments entiers et \\u002f ou *floats*, par exemple :\\n\\n```python\\n\\u003e\\u003e\\u003e min(3, 4)\\n3\\n```\\n\\nAttention toutefois à ne pas mélanger entiers et *floats* d'une part avec une liste d'autre part, car cela renvoie une erreur :\",\"```python\\n\\u003e\\u003e\\u003e min(3, 4)\\n3\\n```\\n\\nAttention toutefois à ne pas mélanger entiers et *floats* d'une part avec une liste d'autre part, car cela renvoie une erreur :\\n\\n```python\\n\\u003e\\u003e\\u003e min(liste, 3, 4)\\nTraceback (most recent call last):\\n  File \\\"\\u003cstdin\\u003e\\\", line 1, in \\u003cmodule\\u003e\\nTypeError: '\\u003c' not supported between instances of 'int' and 'list'\\n```\\n\\nSoit on passe plusieurs entiers et \\u002f ou *floats* en argument, soit on passe une liste unique.\\n\\n## Exercices\\n\\n*Conseil* : utilisez l'interpréteur Python.\\n\\n\\n### Jours de la semaine\\n\\nConstituez une liste `semaine` contenant les 7 jours de la semaine.\\n\\n1. À partir de cette liste, comment récupérez-vous seulement les 5 premiers jours de la semaine d'une part, et ceux du week-end d'autre part ? Utilisez pour cela l'indiçage.\\n2. Cherchez un autre moyen pour arriver au même résultat (*en utilisant un autre indiçage*).\\n3. Trouvez deux manières pour accéder au dernier jour de la semaine.\\n4. Inversez les jours de la semaine en une commande.\\n\\n\\n### Saisons\",\"### Saisons\\n\\nCréez 4 listes `hiver`, `printemps`, `ete` et `automne` contenant les mois correspondants à ces saisons. Créez ensuite une liste `saisons` contenant les listes `hiver`, `printemps`, `ete` et `automne`. Prévoyez ce que renvoient les instructions suivantes, puis vérifiez-le dans l'interpréteur :\\n\\n1. `saisons[2]`\\n2. `saisons[1][0]`\\n3. `saisons[1:2]`\\n4. `saisons[:][1]`. Comment expliquez-vous ce dernier résultat ?\\n\\n\\n### Table de multiplication par 9\\n\\nAffichez la table de multiplication par 9 en une seule commande avec les instructions `range()` et `list()`.\\n\\n\\n### Nombres pairs\\n\\nRépondez à la question suivante en une seule commande. Combien y a-t-il de nombres pairs dans l'intervalle `[2, 10000]` inclus ?\"],\"marker\":{\"colorscale\":[[0.0,\"#440154\"],[0.1111111111111111,\"#482878\"],[0.2222222222222222,\"#3e4989\"],[0.3333333333333333,\"#31688e\"],[0.4444444444444444,\"#26828e\"],[0.5555555555555556,\"#1f9e89\"],[0.6666666666666666,\"#35b779\"],[0.7777777777777778,\"#6ece58\"],[0.8888888888888888,\"#b5de2b\"],[1.0,\"#fde725\"]],\"opacity\":0.8,\"size\":8},\"mode\":\"markers\",\"name\":\"Listes\",\"x\":[-0.24913705025788202,-0.2543274930239324,-0.2172149455308283,-0.23944686696791181,-0.28074064423712625,-0.25108491904188057,-0.22963015582976867,-0.2640734122896219,-0.19536626813790955,-0.29626080400503857,-0.2894399498100807,-0.2136829127923837,-0.21471960751602945,-0.23307818092369118],\"y\":[-0.19001765455483266,-0.1573455993857062,-0.12728930248276468,-0.15350137232056962,-0.13405114447641917,-0.1771449566457973,-0.19620135151015156,-0.20513217896470848,-0.2757328691983465,-0.20707911990881783,-0.19927875419538643,-0.2844974993919806,-0.21562971868929362,-0.12661057572512985],\"type\":\"scatter\"},{\"hoverinfo\":\"text\",\"hovertext\":[\"# Fonctions\\n\\n## Principe et généralités\\n\\nEn programmation, les **fonctions** sont très utiles pour réaliser plusieurs fois la même opération au sein d'un programme. Elles rendent également le code plus lisible et plus clair en le fractionnant en blocs logiques.\\n\\nVous connaissez déjà certaines fonctions Python. Par exemple `math.cos(angle)` du module `math` renvoie le cosinus de la variable `angle` exprimé en radian. Vous connaissez aussi des fonctions internes à Python comme `range()` ou `len()`. Pour l'instant, une fonction est à vos yeux une sorte de « boîte noire » (voir figure @fig:schema_fonction) :\\n\\n1. À laquelle vous passez aucune, une ou plusieurs variable(s) entre parenthèses. Ces variables sont appelées **arguments**. Il peut s'agir de n'importe quel type d'objet Python.\\n2. Qui effectue une action.\\n3. Et qui renvoie un objet Python ou rien du tout.\\n\\n![Fonctionnement schématique d'une fonction.](img\\u002fschema_fonction.png){ #fig:schema_fonction width=90% }\",\"![Fonctionnement schématique d'une fonction.](img\\u002fschema_fonction.png){ #fig:schema_fonction width=90% }\\n\\nPar exemple, si vous appelez la fonction `len()` de la manière suivante :\\n\\n```python\\n\\u003e\\u003e\\u003e len([0, 1, 2])\\n3\\n```\\n\\nvoici ce qui se passe :\\n\\n1. vous appelez `len()` en lui passant une liste en argument (ici la liste `[0, 1, 2]`) ;\\n2. la fonction calcule la longueur de cette liste ;\\n3. elle vous renvoie un entier égal à cette longueur.\\n\\nAutre exemple, si vous appelez la méthode `ma_liste.append()` (n'oubliez pas, une **méthode** est une **fonction** qui agit sur l'objet auquel elle est attachée par un point) :\\n\\n```python\\n\\u003e\\u003e\\u003e ma_liste.append(5)\\n```\\n\\n1. Vous passez l'entier `5` en argument ;\\n2. la méthode `append()` ajoute l'entier `5` à l'objet `ma_liste` ;\\n3. et elle ne renvoie rien.\",\"```python\\n\\u003e\\u003e\\u003e ma_liste.append(5)\\n```\\n\\n1. Vous passez l'entier `5` en argument ;\\n2. la méthode `append()` ajoute l'entier `5` à l'objet `ma_liste` ;\\n3. et elle ne renvoie rien.\\n\\nAux yeux du programmeur au contraire, une fonction est une portion de code effectuant une suite d'instructions bien particulière. Mais avant de vous présenter la syntaxe et la manière de construire une fonction, revenons une dernière fois sur cette notion de « boîte noire » :\\n\\n- Une fonction effectue une tâche. Pour cela, elle reçoit éventuellement des arguments et renvoie éventuellement quelque chose. L'algorithme utilisé au sein de la fonction n'intéresse pas directement l'utilisateur. Par exemple, il est inutile de savoir comment la fonction `math.cos()` calcule un cosinus. On a juste besoin de savoir qu'il faut lui passer en argument un angle en radian et qu'elle renvoie le cosinus de cet angle. Ce qui se passe à l'intérieur de la fonction ne regarde que le programmeur.\",\"- Chaque fonction effectue en général une tâche **unique et précise**. Si cela se complique, il est plus judicieux d'écrire plusieurs fonctions (qui peuvent éventuellement s'appeler les unes les autres). Cette **modularité** améliore la qualité générale et la lisibilité du code. Vous verrez qu'en Python, les fonctions présentent une grande flexibilité.\",\"Pour finir sur les généralités, nous avons utilisé dans la Figure @fig:schema_fonction le terme **programme principal** (*main* en anglais) pour désigner l'endroit depuis lequel on appelle une fonction (on verra plus tard que l'on peut en fait appeler une fonction de n'importe où). Le programme principal désigne le code qui est exécuté lorsqu'on lance le script Python, c'est-à-dire toute la suite d'instructions en dehors des fonctions. En général, dans un script Python, on écrit d'abord les fonctions puis le programme principal. Nous aurons l'occasion de revenir sur cette notion de programme principal plus tard dans ce chapitre ainsi que dans le chapitre 12 *Plus sur les fonctions*.\\n\\n\\n## Définition\\n\\nPour définir une fonction, Python utilise le mot-clé `def`. Si on souhaite que la fonction renvoie quelque chose, il faut utiliser le mot-clé `return`. Par exemple :\",\"## Définition\\n\\nPour définir une fonction, Python utilise le mot-clé `def`. Si on souhaite que la fonction renvoie quelque chose, il faut utiliser le mot-clé `return`. Par exemple :\\n\\n```python\\n\\u003e\\u003e\\u003e def carre(x):\\n...     return x**2\\n...\\n\\u003e\\u003e\\u003e print(carre(2))\\n4\\n```\\nNotez que la syntaxe de `def` utilise les deux-points comme les boucles `for` et `while` ainsi que les tests `if`, un bloc d’instructions est donc attendu. De même que pour les boucles et les tests, l'**indentation** de ce bloc d'instructions (qu'on appelle le corps de la fonction) est **obligatoire**.\\n\\nDans l'exemple précédent, nous avons passé un argument à la fonction `carre()` qui nous a renvoyé (ou retourné) une valeur que nous avons immédiatement affichée à l'écran avec l'instruction `print()`. Que veut dire valeur renvoyée ? Et bien cela signifie que cette dernière est récupérable dans une variable :\",\"```python\\n\\u003e\\u003e\\u003e res = carre(2)\\n\\u003e\\u003e\\u003e print(res)\\n4\\n```\\nIci, le résultat renvoyé par la fonction est stocké dans la variable `res`.\\nNotez qu'une fonction ne prend pas forcément un argument et ne renvoie pas forcément une valeur, par exemple :\\n\\n```python\\n\\u003e\\u003e\\u003e def hello():\\n...     print(\\\"bonjour\\\")\\n...\\n\\u003e\\u003e\\u003e hello()\\nbonjour\\n```\\n\\nDans ce cas la fonction, `hello()` se contente d'afficher la chaîne de caractères `\\\"bonjour\\\"` à l'écran. Elle ne prend aucun argument et ne renvoie rien. Par conséquent, cela n'a pas de sens de vouloir récupérer dans une variable le résultat renvoyé par une telle fonction. Si on essaie tout de même, Python affecte la valeur `None` qui signifie *rien* en anglais:\\n\\n```python\\n\\u003e\\u003e\\u003e var = hello()\\nbonjour\\n\\u003e\\u003e\\u003e print(var)\\nNone\\n```\\n\\nCeci n'est pas une faute car Python n'émet pas d'erreur, toutefois cela ne présente, la plupart du temps, guère d'intérêt.\\n\\n\\n## Passage d'arguments\",\"Ceci n'est pas une faute car Python n'émet pas d'erreur, toutefois cela ne présente, la plupart du temps, guère d'intérêt.\\n\\n\\n## Passage d'arguments\\n\\nLe nombre d'arguments que l'on peut passer à une fonction est variable. Nous avons vu ci-dessus des fonctions auxquelles on passait 0 ou 1 argument. Dans les chapitres précédents, vous avez rencontré des fonctions internes à Python qui prenaient au moins 2 arguments. Souvenez-vous par exemple de `range(1, 10)` ou encore `range(1, 10, 2)`. Le nombre d'argument est donc laissé libre à l'initiative du programmeur qui développe une nouvelle fonction.\\n\\nUne particularité des fonctions en Python est que vous n'êtes pas obligé de préciser le type des arguments que vous lui passez, dès lors que les opérations que vous effectuez avec ces arguments sont valides. Python est en effet connu comme étant un langage au « typage dynamique », c'est-à-dire qu'il reconnaît pour vous le type des variables au moment de l'exécution. Par exemple :\",\"```python\\n\\u003e\\u003e\\u003e def fois(x, y):\\n...     return x*y\\n...\\n\\u003e\\u003e\\u003e fois(2, 3)\\n6\\n\\u003e\\u003e\\u003e fois(3.1415, 5.23)\\n16.430045000000003\\n\\u003e\\u003e\\u003e fois(\\\"to\\\", 2)\\n'toto'\\n\\u003e\\u003e\\u003e fois([1,3], 2)\\n[1, 3, 1, 3]\\n```\\n\\nL'opérateur `*` reconnaît plusieurs types (entiers, *floats*, chaînes de caractères, listes). Notre fonction `fois()` est donc capable d'effectuer des tâches différentes ! Même si Python autorise cela, méfiez-vous tout de même de cette grande flexibilité qui pourrait conduire à des surprises dans vos futurs programmes. En général, il est plus judicieux que chaque argument ait un type précis (entiers, *floats*, chaînes de caractères, etc) et pas l'un ou l'autre.\\n\\n\\n## Renvoi de résultats\\n\\nUn énorme avantage en Python est que les fonctions sont capables de renvoyer plusieurs objets à la fois, comme dans cette fraction de code :\\n\\n```python\\n\\u003e\\u003e\\u003e def carre_cube(x):\\n...     return x**2, x**3\\n...\\n\\u003e\\u003e\\u003e carre_cube(2)\\n(4, 8)\\n```\",\"```python\\n\\u003e\\u003e\\u003e def carre_cube(x):\\n...     return x**2, x**3\\n...\\n\\u003e\\u003e\\u003e carre_cube(2)\\n(4, 8)\\n```\\n\\nEn réalité Python ne renvoie qu'un seul objet, mais celui-ci peut être séquentiel, c'est-à-dire contenir lui même d'autres objets. Dans notre exemple Python renvoie un objet de type `tuple`, type que nous verrons dans le chapitre 13 *Dictionnaires et tuples* (*grosso modo*, il s'agit d'une sorte de liste avec des propriétés différentes). Notre fonction pourrait tout autant renvoyer une liste :\\n\\n```python\\n\\u003e\\u003e\\u003e def carre_cube2(x):\\n...     return [x**2, x**3]\\n...\\n\\u003e\\u003e\\u003e carre_cube2(3)\\n[9, 27]\\n```\\n\\nRenvoyer un *tuple* ou une liste de deux éléments (ou plus) est très pratique en conjonction avec l'**affectation multiple**, par exemple :\\n\\n```python\\n\\u003e\\u003e\\u003e z1, z2 = carre_cube2(3)\\n\\u003e\\u003e\\u003e z1\\n9\\n\\u003e\\u003e\\u003e z2\\n27\\n```\\n\\nCela permet de récupérer plusieurs valeurs renvoyées par une fonction et de les affecter à la volée à des variables différentes.\\n\\n\\n## Arguments positionnels et arguments par mot-clé\",\"Cela permet de récupérer plusieurs valeurs renvoyées par une fonction et de les affecter à la volée à des variables différentes.\\n\\n\\n## Arguments positionnels et arguments par mot-clé\\n\\nJusqu'à maintenant, nous avons systématiquement passé le nombre d'arguments que la fonction attendait. Que se passe-t-il si une fonction attend deux arguments et que nous ne lui en passons qu'un seul ?\\n\\n```python\\n\\u003e\\u003e\\u003e def fois(x, y):\\n...     return x*y\\n...\\n\\u003e\\u003e\\u003e fois(2, 3)\\n6\\n\\u003e\\u003e\\u003e fois(2)\\nTraceback (most recent call last):\\n  File \\\"\\u003cstdin\\u003e\\\", line 1, in \\u003cmodule\\u003e\\nTypeError: fois() missing 1 required positional argument: 'y'\\n```\\n\\nOn constate que passer un seul argument à une fonction qui en attend deux conduit à une erreur.\\n\\nopen-box-def\",\"On constate que passer un seul argument à une fonction qui en attend deux conduit à une erreur.\\n\\nopen-box-def\\n\\nLorsqu'on définit une fonction `def fct(x, y):` les arguments `x` et `y` sont appelés **arguments positionnels** (en anglais *positional arguments*). Il est strictement obligatoire de les préciser lors de l'appel de la fonction. De plus, il est nécessaire de respecter le même ordre lors de l'appel que dans la définition de la fonction. Dans l'exemple ci-dessus, `2` correspondra à `x` et `3` correspondra à `y`. Finalement, tout dépendra de leur position, d'où leur qualification de positionnel.\\n\\nclose-box-def\\n\\nMais il est aussi possible de passer un ou plusieurs argument(s) de manière facultative et de leur attribuer une valeur par défaut :\\n\\n```python\\n\\u003e\\u003e\\u003e def fct(x=1):\\n...     return x\\n...\\n\\u003e\\u003e\\u003e fct()\\n1\\n\\u003e\\u003e\\u003e fct(10)\\n10\\n```\\n\\nopen-box-def\",\"```python\\n\\u003e\\u003e\\u003e def fct(x=1):\\n...     return x\\n...\\n\\u003e\\u003e\\u003e fct()\\n1\\n\\u003e\\u003e\\u003e fct(10)\\n10\\n```\\n\\nopen-box-def\\n\\nUn argument défini avec une syntaxe `def fct(arg=val):` est appelé **argument par mot-clé** (en anglais *keyword argument*). Le passage d'un tel argument lors de l'appel de la fonction est facultatif. Ce type d'argument ne doit pas être confondu avec les arguments positionnels présentés ci-dessus, dont la syntaxe est `def fct(arg):`.\\n\\nclose-box-def\\n\\nIl est bien sûr possible de passer plusieurs arguments par mot-clé :\\n\\n```python\\n\\u003e\\u003e\\u003e def fct(x=0, y=0, z=0):\\n...     return x, y, z\\n...\\n\\u003e\\u003e\\u003e fct()\\n(0, 0, 0)\\n\\u003e\\u003e\\u003e fct(10)\\n(10, 0, 0)\\n\\u003e\\u003e\\u003e fct(10, 8)\\n(10, 8, 0)\\n\\u003e\\u003e\\u003e fct(10, 8, 3)\\n(10, 8, 3)\\n```\",\"```python\\n\\u003e\\u003e\\u003e def fct(x=0, y=0, z=0):\\n...     return x, y, z\\n...\\n\\u003e\\u003e\\u003e fct()\\n(0, 0, 0)\\n\\u003e\\u003e\\u003e fct(10)\\n(10, 0, 0)\\n\\u003e\\u003e\\u003e fct(10, 8)\\n(10, 8, 0)\\n\\u003e\\u003e\\u003e fct(10, 8, 3)\\n(10, 8, 3)\\n```\\n\\nOn observe que pour l'instant, les arguments par mot-clé sont pris dans l'ordre dans lesquels on les passe lors de l'appel. Comment pourrions-nous faire si on souhaitait préciser l'argument par mot-clé `z` et garder les valeurs de `x` et `y` par défaut ? Simplement en  précisant le nom de l'argument lors de l'appel :\\n\\n```python\\n\\u003e\\u003e\\u003e fct(z=10)\\n(0, 0, 10)\\n```\\n\\nPython permet même de rentrer les arguments par mot-clé dans un ordre arbitraire :\\n\\n```python\\n\\u003e\\u003e\\u003e fct(z=10, x=3, y=80)\\n(3, 80, 10)\\n\\u003e\\u003e\\u003e fct(z=10, y=80)\\n(0, 80, 10)\\n```\\n\\nQue se passe-t-il lorsque nous avons un mélange d'arguments positionnels et par mot-clé ? Et bien les arguments positionnels doivent toujours être placés avant les arguments par mot-clé :\",\"Que se passe-t-il lorsque nous avons un mélange d'arguments positionnels et par mot-clé ? Et bien les arguments positionnels doivent toujours être placés avant les arguments par mot-clé :\\n\\n```python\\n\\u003e\\u003e\\u003e def fct(a, b, x=0, y=0, z=0):\\n...     return a, b, x, y, z\\n...\\n\\u003e\\u003e\\u003e fct(1, 1)\\n(1, 1, 0, 0, 0)\\n\\u003e\\u003e\\u003e fct(1, 1, z=5)\\n(1, 1, 0, 0, 5)\\n\\u003e\\u003e\\u003e fct(1, 1, z=5, y=32)\\n(1, 1, 0, 32, 5)\\n```\\n\\nOn peut toujours passer les arguments par mot-clé dans un ordre arbitraire à partir du moment où on précise leur nom. Par contre, si les deux arguments positionnels `a` et `b` ne sont pas passés à la fonction, Python renvoie une erreur.\\n\\n```python\\n\\u003e\\u003e\\u003e fct(z=0)\\nTraceback (most recent call last):\\n  File \\\"\\u003cstdin\\u003e\\\", line 1, in \\u003cmodule\\u003e\\nTypeError: fct() missing 2 required positional arguments: 'a' and 'b'\\n```\\n\\nopen-box-adv\\n\\nPréciser le nom des arguments par mot-clé lors de l'appel d'une fonction est une pratique que nous vous recommandons. Cela les distingue clairement des arguments positionnels.\\n\\nclose-box-adv\",\"Préciser le nom des arguments par mot-clé lors de l'appel d'une fonction est une pratique que nous vous recommandons. Cela les distingue clairement des arguments positionnels.\\n\\nclose-box-adv\\n\\nL'utilisation d'arguments par mot-clé est habituelle en Python. Elle permet de modifier le comportement par défaut de nombreuses fonctions. Par exemple, si on souhaite que la fonction `print()` n'affiche pas un retour à la ligne, on peut utiliser l'argument `end` :\\n\\n```python\\n\\u003e\\u003e\\u003e print(\\\"Message \\\", end=\\\"\\\")\\nMessage \\u003e\\u003e\\u003e\\n```\\n\\nNous verrons, dans le chapitre 20 *Fenêtres graphiques et Tkinter*, que l'utilisation d'arguments par mot-clé est systématique lorsqu'on crée un objet graphique (une fenêtre, un bouton, etc.).\\n\\n\\n## Variables locales et variables globales\",\"## Variables locales et variables globales\\n\\nLorsqu'on manipule des fonctions, il est essentiel de bien comprendre comment se comportent les variables. Une variable est dite **locale** lorsqu'elle est créée dans une fonction. Elle n'existera et ne sera visible que lors de l'exécution de ladite fonction.\\n\\nUne variable est dite **globale** lorsqu'elle est créée dans le programme principal. Elle sera visible partout dans le programme.\\n\\nCeci ne vous paraît pas clair ? Nous allons prendre un exemple simple qui vous aidera à mieux saisir ces concepts. Observez le code suivant :\\n\\n```python\\n# définition d'une fonction carre()\\ndef carre(x):\\n    y = x**2\\n    return y\\n\\n# programme principal\\nz = 5\\nresultat = carre(z)\\nprint(resultat)\\n```\",\"```python\\n# définition d'une fonction carre()\\ndef carre(x):\\n    y = x**2\\n    return y\\n\\n# programme principal\\nz = 5\\nresultat = carre(z)\\nprint(resultat)\\n```\\n\\nPour la suite des explications, nous allons utiliser l'excellent site [*Python Tutor*](http:\\u002f\\u002fwww.pythontutor.com) qui permet de visualiser l'état des variables au fur et à mesure de l'exécution d'un code Python. Avant de poursuivre, nous vous conseillons de prendre 5 minutes pour tester ce site.\\n\\nRegardons maintenant ce qui se passe dans le code ci-dessus, étape par étape :\\n\\n- Étape 1 : Python est prêt à lire la première ligne de code.\\n\\n![Étape 1.](img\\u002ffct_step1.png){ #fig:fct_step1 width=80% }\\n\\\\\",\"- Étape 1 : Python est prêt à lire la première ligne de code.\\n\\n![Étape 1.](img\\u002ffct_step1.png){ #fig:fct_step1 width=80% }\\n\\\\\\n\\n\\n- Étape 2 : Python met en mémoire la fonction `carre()`. Notez qu'il ne l'exécute pas ! La fonction est mise dans un espace de la mémoire nommé *Global frame*, il s'agit de l'espace du programme principal. Dans cet espace, seront stockées toutes les variables *globales* créées dans le programme. Python est maintenant prêt à exécuter le programme principal.\\n\\n![Étape 2.](img\\u002ffct_step2.png){ #fig:fct_step2 width=80% }\\n\\\\\\n\\n\\n- Étape 3 : Python lit et met en mémoire la variable `z`. Celle-ci étant créée dans le programme principal, il s'agira d'une variable *globale*. Ainsi, elle sera également stockée dans le *Global frame*.\\n\\n![Étape 3.](img\\u002ffct_step3.png){ #fig:fct_step3 width=80% }\\n\\\\\",\"![Étape 3.](img\\u002ffct_step3.png){ #fig:fct_step3 width=80% }\\n\\\\\\n\\n\\n- Étape 4 : La fonction `carre()` est appelée et on lui passe en argument l'entier `z`. La fonction s'exécute et un nouveau cadre est créé dans lequel *Python Tutor* va indiquer toutes les variables *locales* à la fonction. Notez bien que la variable passée en argument, qui s'appelle `x` dans la fonction, est créée en tant que variable *locale*. On remarquera aussi que les variables *globales* situées dans le *Global frame* sont toujours là.\\n\\n![Étape 4.](img\\u002ffct_step4.png){ #fig:fct_step4 width=80% }\\n\\\\\\n\\n\\n- Étape 5 : Python est maintenant prêt à exécuter chaque ligne de code de la fonction.\\n\\n![Étape 5.](img\\u002ffct_step5.png){ #fig:fct_step5 width=80% }\\n\\\\\\n\\n\\n- Étape 6 : La variable `y` est créée dans la fonction. Celle-ci est donc stockée en tant que variable *locale* à la fonction.\\n\\n![Étape 6.](img\\u002ffct_step6.png){ #fig:fct_step6 width=80% }\\n\\\\\",\"- Étape 6 : La variable `y` est créée dans la fonction. Celle-ci est donc stockée en tant que variable *locale* à la fonction.\\n\\n![Étape 6.](img\\u002ffct_step6.png){ #fig:fct_step6 width=80% }\\n\\\\\\n\\n\\n- Étape 7 : Python s'apprête à renvoyer la variable *locale* `y` au programme principal. *Python Tutor* nous indique le contenu de la valeur renvoyée.\\n\\n![Étape 7.](img\\u002ffct_step7.png){ #fig:fct_step7 width=80% }\\n\\\\\\n\\n\\n- Étape 8 : Python quitte la fonction et la valeur renvoyée par celle-ci est affectée à la variable *globale* `resultat`. Notez bien que lorsque Python quitte la fonction, **l'espace des variables alloué à la fonction est détruit**. Ainsi, toutes les variables créées dans la fonction n'existent plus. On comprend pourquoi elles portent le nom de *locales* puisqu'elles n'existent que lorsque la fonction est exécutée.\\n\\n![Étape 8.](img\\u002ffct_step8.png){ #fig:fct_step8 width=80% }\\n\\\\\\n\\n\\n- Étape 9 : Python affiche le contenu de la variable `resultat` et l'exécution est terminée.\",\"![Étape 8.](img\\u002ffct_step8.png){ #fig:fct_step8 width=80% }\\n\\\\\\n\\n\\n- Étape 9 : Python affiche le contenu de la variable `resultat` et l'exécution est terminée.\\n\\n![Étape 9.](img\\u002ffct_step9.png){ #fig:fct_step9 width=80% }\\n\\\\\\n\\n\\nNous espérons que cet exemple guidé facilitera la compréhension des concepts de variables locales et globales. Cela viendra aussi avec la pratique. Nous irons un peu plus loin sur les fonctions dans le chapitre 12. D'ici là, essayez de vous entraîner au maximum avec les fonctions. C'est un concept ardu, mais il est impératif de le maîtriser.\\n\\nEnfin, comme vous avez pu le constater, *Python Tutor* nous a grandement aidé à comprendre ce qui se passait. N'hésitez pas à l'utiliser sur des exemples ponctuels, ce site vous aidera à visualiser ce qui se passe lorsqu'un code ne fait pas ce que vous attendez.\\n\\n\\n## Principe DRY\",\"## Principe DRY\\n\\nL'acronyme [DRY](https:\\u002f\\u002fwww.earthdatascience.org\\u002fcourses\\u002fintro-to-earth-data-science\\u002fwrite-efficient-python-code\\u002fintro-to-clean-code\\u002fdry-modular-code\\u002f) signifie *Don't Repeat Yourself*. Les fonctions permettent de satisfaire ce principe en évitant la duplication de code.\\nEn effet, plus un code est dupliqué plusieurs fois dans un programme, plus il sera source d'erreurs, notamment lorsqu'il faudra le faire évoluer.\\n\\nConsidérons par exemple le code suivant qui convertit plusieurs températures des degrés Fahrenheit en degrés Celsius :\\n\\n```python\\n\\u003e\\u003e\\u003e temp_in_fahrenheit = 60\\n\\u003e\\u003e\\u003e (temp_in_fahrenheit - 32) * (5\\u002f8)\\n17.5\\n\\u003e\\u003e\\u003e temp_in_fahrenheit = 80\\n\\u003e\\u003e\\u003e (temp_in_fahrenheit - 32) * (5\\u002f8)\\n30.0\\n\\u003e\\u003e\\u003e temp_in_fahrenheit = 100\\n\\u003e\\u003e\\u003e (temp_in_fahrenheit - 32) * (5\\u002f8)\\n42.5\\n```\\n\\nMalheureusement il y a une erreur dans la formule de conversion. En effet la formule exacte est :\\n\\n$$\\n{\\\\rm temp\\\\_celsius} = ({\\\\rm temp\\\\_fahrenheit} - 32) \\\\times \\\\frac{5}{9}\\n$$\",\"Malheureusement il y a une erreur dans la formule de conversion. En effet la formule exacte est :\\n\\n$$\\n{\\\\rm temp\\\\_celsius} = ({\\\\rm temp\\\\_fahrenheit} - 32) \\\\times \\\\frac{5}{9}\\n$$\\n\\nIl faut alors reprendre les lignes 2, 5 et 8 précédentes et les corriger. Cela n'est pas efficace, surtout si le même code est utilisé à différents endroits dans le programme.\\n\\nEn écrivant qu'une seule fois la formule de conversion dans une fonction, on applique le principe DRY :\\n\\n```python\\n\\u003e\\u003e\\u003e def convert_fahrenheit_to_celsius(temperature):\\n...     return (temperature - 32) * (5\\u002f9)\\n... \\n\\u003e\\u003e\\u003e temp_in_fahrenheit = 60\\n\\u003e\\u003e\\u003e convert_fahrenheit_to_celsius(temp_in_fahrenheit)\\n15.555555555555557\\n\\u003e\\u003e\\u003e temp_in_fahrenheit = 80\\n\\u003e\\u003e\\u003e convert_fahrenheit_to_celsius(temp_in_fahrenheit)\\n26.666666666666668\\n\\u003e\\u003e\\u003e temp_in_fahrenheit = 100\\n\\u003e\\u003e\\u003e convert_fahrenheit_to_celsius(temp_in_fahrenheit)\\n37.77777777777778\\n```\",\"Et s'il y a une erreur dans la formule, il suffira de le corriger qu'une seule fois, dans la fonction `convert_fahrenheit_to_celsius()`.\\n\\n## Exercices\\n\\n*Conseil* : pour le premier exercice, utilisez *Python Tutor*. Pour les exercices suivants, créez des scripts puis exécutez-les dans un *shell*.\\n\\n\\n### Carré et factorielle\\n\\nReprenez l'exemple précédent à l'aide du site [*Python Tutor*](http:\\u002f\\u002fwww.pythontutor.com) :\\n\\n```python\\n# définition d'une fonction carre()\\ndef carre(x):\\n    y = x**2\\n    return y\\n\\n# programme principal\\nz = 5\\nresultat = carre(z)\\nprint(resultat)\\n```\\n\\nAnalysez ensuite le code suivant et tentez de prédire sa sortie :\\n\\n```python\\ndef calc_factorielle(n):\\n    fact = 1\\n    for i in range(2, n+1):\\n        fact = fact * i\\n    return fact\\n\\n# programme principal\\nnb = 4\\nfactorielle_nb = calc_factorielle(nb)\\nprint(f\\\"{nb}! = {factorielle_nb}\\\")\\nnb2 = 10\\nprint(f\\\"{nb2}! = {calc_factorielle(nb2)}\\\")\\n```\",\"# programme principal\\nnb = 4\\nfactorielle_nb = calc_factorielle(nb)\\nprint(f\\\"{nb}! = {factorielle_nb}\\\")\\nnb2 = 10\\nprint(f\\\"{nb2}! = {calc_factorielle(nb2)}\\\")\\n```\\n\\nTestez ensuite cette portion de code avec *Python Tutor* en cherchant à bien comprendre chaque étape.\\nAvez-vous réussi à prédire la sortie correctement ?\\n\\nopen-box-rem\\n\\nUne remarque concernant l'utilisation des *f-strings* que nous avions vues dans le chapitre 3 *Affichage*. On voit à nouveau une possibilité puissante des *f-strings* dans l'instruction `f\\\"{nb2}! = {calc_factorielle(nb2)}\\\"` : il est possible de mettre directement au sein des accolades un appel à une fonction (ici `{calc_factorielle(nb2)}`) ! Ainsi, pas besoin de créer une variable intermédiaire dans laquelle on stocke ce que retourne la fonction. \\n\\nclose-box-rem\\n\\n### Puissance\\n\\nCréez une fonction `calc_puissance(x, y)` qui renvoie $x^y$ en utilisant l'opérateur `**`. Pour rappel :\\n\\n```python\\n\\u003e\\u003e\\u003e 2**2\\n4\\n\\u003e\\u003e\\u003e 2**3\\n8\\n\\u003e\\u003e\\u003e 2**4\\n16\\n```\",\"close-box-rem\\n\\n### Puissance\\n\\nCréez une fonction `calc_puissance(x, y)` qui renvoie $x^y$ en utilisant l'opérateur `**`. Pour rappel :\\n\\n```python\\n\\u003e\\u003e\\u003e 2**2\\n4\\n\\u003e\\u003e\\u003e 2**3\\n8\\n\\u003e\\u003e\\u003e 2**4\\n16\\n```\\n\\nDans le programme principal, calculez et affichez à l'écran $2^i$ avec $i$ variant de 0 à 20 inclus. On souhaite que le résultat soit présenté avec le formatage suivant :\\n\\n```text\\n2^ 0 =       1\\n2^ 1 =       2\\n2^ 2 =       4\\n[...]\\n2^20 = 1048576\\n```\\n\\n### Pyramide\\n\\nReprenez l'exercice du chapitre 5 *Boucles et comparaisons* qui dessine une pyramide.\\n\\nDans un script `pyra.py`, créez une fonction `gen_pyramide()` à laquelle vous passez un nombre entier `N` et qui renvoie une pyramide de $N$ lignes sous forme de chaîne de caractères. Le programme principal demandera à l'utilisateur le nombre de lignes souhaitées (utilisez pour cela la fonction `input()`) et affichera la pyramide à l'écran.\\n\\n\\n### Nombres premiers\\n\\nReprenez l'exercice du chapitre 6 *Tests* sur les nombres premiers.\",\"### Nombres premiers\\n\\nReprenez l'exercice du chapitre 6 *Tests* sur les nombres premiers.\\n\\nCréez une fonction `est_premier()` qui prend comme argument un nombre entier positif *n* (supérieur à 2) et qui renvoie le booléen `True` si *n* est premier et `False` si *n* n'est pas premier. Déterminez tous les nombres premiers de 2 à 100. On souhaite avoir une sortie similaire à celle-ci :\\n\\n```text\\n  2 est premier\\n  3 est premier\\n  4 n'est pas premier\\n[...]\\n100 n'est pas premier\\n```\\n\\n\\n### Séquence complémentaire\\n\\nCréez une fonction `seq_comp()` qui prend comme argument une liste de bases et qui renvoie la séquence complémentaire d'une séquence d'ADN sous forme de liste.\\n\\nDans le programme principal, à partir de la séquence d'ADN \\n`seq = [\\\"A\\\", \\\"T\\\", \\\"C\\\", \\\"G\\\", \\\"A\\\", \\\"T\\\", \\\"C\\\", \\\"G\\\", \\\"A\\\", \\\"T\\\", \\\"C\\\"]` \\naffichez `seq` et sa séquence complémentaire (en utilisant votre fonction `seq_comp()`).\\n\\nRappel : la séquence complémentaire s'obtient en remplaçant A par T, T par A, C par G et G par C.\",\"Rappel : la séquence complémentaire s'obtient en remplaçant A par T, T par A, C par G et G par C.\\n\\n\\n### Distance 3D\\n\\nCréez une fonction `calc_distance_3D()` qui calcule la distance euclidienne en trois dimensions entre deux atomes. Testez votre fonction sur les 2 points `A(0,0,0)` et `B(1,1,1)`. Trouvez-vous bien $\\\\sqrt{3}$ ?\\n\\nOn rappelle que la distance euclidienne *d* entre deux points A et B de coordonnées cartésiennes respectives $(x_A, y_A, z_A)$ et $(x_B, y_B, z_B)$ se calcule comme suit :\\n\\n$$\\nd = \\\\sqrt{(x_B - x_A)^2 + (y_B - y_A)^2 + (z_B - z_A)^2}\\n$$\\n\\n\\n### Distribution et statistiques\\n\\nCréez une fonction `gen_distrib()` qui prend comme argument trois entiers : *debut*, *fin* et *n*. La fonction renverra une liste de $n$ *floats* aléatoires entre *debut* et *fin*. Pour générer un nombre aléatoire dans un intervalle donné, utilisez la fonction `uniform()` du module *random* dont voici quelques exemple d'utilisation :\",\"```python\\n\\u003e\\u003e\\u003e import random\\n\\u003e\\u003e\\u003e random.uniform(1, 10)\\n8.199672607202174\\n\\u003e\\u003e\\u003e random.uniform(1, 10)\\n2.607528561528022\\n\\u003e\\u003e\\u003e random.uniform(1, 10)\\n9.000404025130946\\n```\\n\\nAvec la fonction `random.uniform()`, les bornes passées en argument sont incluses, c'est-à-dire qu'ici, le nombre aléatoire renvoyé est dans l'intervalle [1, 10].\\n\\nCréez une autre fonction `calc_stat()` qui prend en argument une liste de *floats* et qui renvoie une liste de trois éléments contenant respectivement le minimum, le maximum et la moyenne de la liste.\\n\\nDans le programme principal, générez 20 listes aléatoires de 100 *floats* compris entre 0 et 100 et affichez le minimum (`min()`), le maximum (`max()`) et la moyenne pour chacune d'entre elles. La moyenne pourra être calculée avec les fonctions `sum()` et `len()`.\",\"Pour chacune des 20 listes, affichez les statistiques (min, max, et moyenne) avec deux chiffres après la virgule :\\n```text\\nListe  1 : min = 0.17 ; max = 99.72 ; moyenne = 57.38\\nListe  2 : min = 1.25 ; max = 99.99 ; moyenne = 47.41\\n[...]\\nListe 19 : min = 1.05 ; max = 99.36 ; moyenne = 49.43\\nListe 20 : min = 1.33 ; max = 97.63 ; moyenne = 46.53\\n\\n```\\n\\nLes écarts sur les statistiques entre les différentes listes sont-ils importants ? Relancez votre script avec des listes de 1000 éléments, puis 10 000 éléments. Les écarts changent-ils quand le nombre d'éléments par liste augmente ?\\n\\n\\n### Distance à l'origine (exercice +++)\\n\\nEn reprenant votre fonction de calcul de distance euclidienne en 3D `calc_distance_3D()`, faites-en une version pour deux dimensions que vous appellerez `calc_distance_2D()`.\",\"En reprenant votre fonction de calcul de distance euclidienne en 3D `calc_distance_3D()`, faites-en une version pour deux dimensions que vous appellerez `calc_distance_2D()`.\\n\\nCréez une autre fonction `calc_dist2ori()` à laquelle vous passez en argument deux listes de *floats* `list_x` et `list_y` représentant les coordonnées d'une fonction mathématique (par exemple $x$ et $sin(x)$). Cette fonction renverra une liste de *floats* représentant la distance entre chaque point de la fonction et l'origine (de coordonnées $(0,0)$).\\n\\nLa figure @fig:sin2ori montre un exemple sur quelques points de la fonction $sin(x)$ (courbe en trait épais). Chaque trait pointillé représente la distance que l'on cherche à calculer entre les points de la courbe et l'origine du repère de coordonnées (0, 0).\\n\\n![Illustration de la distance à l'origine.](img\\u002fsin2ori.png){ #fig:sin2ori width=60% }\",\"![Illustration de la distance à l'origine.](img\\u002fsin2ori.png){ #fig:sin2ori width=60% }\\n\\nVotre programme générera un fichier `sin2ori.dat` qui contiendra deux colonnes : la première représente les $x$, la seconde la distance entre chaque point de la fonction $sin(x)$ à l'origine.\\n\\nEnfin, pour visualiser votre résultat, ajoutez le code suivant tout à la fin de votre script :\\n\\n```python\\n# création d'une image pour la visualisation du résultat\\nimport matplotlib.pyplot as plt\\n\\nx = []\\ny = []\\nwith open(\\\"sin2ori.dat\\\", \\\"r\\\") as f_in:\\n    for line in f_in:\\n        coords = line.split()\\n        x.append(float(coords[0]))\\n        y.append(float(coords[1]))\\nplt.figure(figsize=(8,8))\\nplt.plot(x, y)\\nplt.xlabel(\\\"x\\\")\\nplt.ylabel(\\\"Distance de sin(x)à l'origine\\\")\\nplt.savefig(\\\"sin2ori.png\\\")\\n```\\n\\nOuvrez l'image `sin2ori.png`.\\n\\nopen-box-rem\\n\\nLe module *matplotlib* sera expliqué en détail dans le chapitre 17 *Quelques modules d'intérêt en bioinformatique*.\\n\\nclose-box-rem\"],\"marker\":{\"colorscale\":[[0.0,\"#440154\"],[0.1111111111111111,\"#482878\"],[0.2222222222222222,\"#3e4989\"],[0.3333333333333333,\"#31688e\"],[0.4444444444444444,\"#26828e\"],[0.5555555555555556,\"#1f9e89\"],[0.6666666666666666,\"#35b779\"],[0.7777777777777778,\"#6ece58\"],[0.8888888888888888,\"#b5de2b\"],[1.0,\"#fde725\"]],\"opacity\":0.8,\"size\":8},\"mode\":\"markers\",\"name\":\"Fonctions\",\"x\":[-0.15111364681142925,-0.21586192032587675,-0.20706403303621895,-0.07364235534261881,-0.111507055881893,-0.10286672455648568,-0.10814851017403505,-0.09717338673011017,-0.05594478084324134,-0.1289116375924312,-0.08981639056851887,-0.04815719599028903,-0.028527804898144205,0.014798231360872117,-0.003675461675989591,-0.017075324294569774,-0.10162104835012672,-0.1518481671770359,-0.1382818503968296,-0.13212916437829217,-0.10544129194214587,-0.08415807351368798,0.016366095727193938,0.075476981897244,-0.09208776147572917,-0.050362026895805795,-0.1440087259817946,-0.12510302645255994,-0.12047234555996218,-0.11337946811134786,-0.2188597609942691,-0.27050983316462285,-0.15758775624922394],\"y\":[-0.20319219985353149,-0.24220802296380817,-0.22714843969435755,-0.14812182085784562,-0.15180564009022707,-0.19081234373467434,-0.24225964858623933,-0.26994635679993556,-0.2512576895664294,-0.2825315165494158,-0.2594587240844509,-0.28379903747357704,-0.27634784085528846,-0.2875812650389058,-0.23994276611446252,-0.16796796758486035,-0.17931377095474135,-0.14817937113039792,-0.05791528716165782,-0.11076899744283693,-0.10252872221647102,-0.027287977570601862,-0.09884212208373733,-0.12039672469764694,-0.08361546691286564,-0.06563062017953565,-0.06334032804388415,-0.07141815929421362,-0.09917845658235977,-0.17376074179601292,-0.11153147802208285,-0.14840373521124625,0.06580039253207218],\"type\":\"scatter\"},{\"hoverinfo\":\"text\",\"hovertext\":[\"# Jupyter et ses notebooks\\n\\nLes notebooks Jupyter sont des cahiers électroniques qui, dans le même document, peuvent rassembler du texte, des images, des formules mathématiques et du code informatique exécutable. Ils sont manipulables interactivement dans un navigateur web.\\n\\nInitialement développés pour les langages de programmation Julia, Python et R (d'où le nom Jupyter), les notebooks Jupyter supportent près de 40 langages différents.\\n\\nLa cellule est l'élément de base d'un notebook Jupyter. Elle peut contenir du texte formaté au format Markdown ou du code informatique qui pourra être exécuté.\\n\\nVoici un exemple de notebook Jupyter (figure @fig:jupyter-exemple) :\\n\\n![Exemple de notebook Jupyter. Les chiffres entourés désignent les différentes cellules.](img\\u002fjupyter-exemple.png \\\"Exemple de notebook Jupyter\\\"){ #fig:jupyter-exemple width=80% }\",\"![Exemple de notebook Jupyter. Les chiffres entourés désignent les différentes cellules.](img\\u002fjupyter-exemple.png \\\"Exemple de notebook Jupyter\\\"){ #fig:jupyter-exemple width=80% }\\n\\nCe notebook est constitué de cinq cellules : deux avec du texte en Markdown (la première et la dernière) et trois avec du code Python (notées avec `In [ ]`).\\n\\n## Installation\\n\\nAvec la distribution Miniconda, les notebooks Jupyter s'installent avec la commande :\\n\\n```bash\\n$ conda install -y jupyterlab\\n```\\n\\nPour être exact, la commande précédente installe un peu plus que les notebooks Jupyter mais nous verrons cela par la suite.\\n\\n\\n## Lancement de Jupyter et création d'un notebook\\n\\nPour lancer les notebooks Jupyter, utilisez la commande suivante depuis un *shell* :\\n\\n```bash\\n$ jupyter-notebook\\n```\\n\\nUne nouvelle page devrait s'ouvrir dans votre navigateur web  et ressembler à la figure @fig:jupyter-interface.\",\"```bash\\n$ jupyter-notebook\\n```\\n\\nUne nouvelle page devrait s'ouvrir dans votre navigateur web  et ressembler à la figure @fig:jupyter-interface.\\n\\n![Interface de Jupyter.](img\\u002fjupyter-interface.png \\\"Interface de Jupyter\\\"){ #fig:jupyter-interface width=80% }\\n\\nCette interface liste les notebooks Jupyter existants (pour le moment aucun).\\n\\nPour créer un notebook, cliquez sur le bouton à droite *New* puis sélectionnez *Python 3*. Vous noterez au passage qu'il est également possible de créer un fichier texte, un répertoire ou bien encore de lancer un *shell* via un *Terminal* (voir figure @fig:jupyter-nouveau-notebook).\\n\\n![Création d'un nouveau notebook.](img\\u002fjupyter-nouveau-notebook.png \\\"Création d'un nouveau notebook\\\"){ #fig:jupyter-nouveau-notebook width=80% }\\n\\nLe notebook fraîchement créé ne contient qu'une cellule vide.\\n\\n![Nouveau notebook.](img\\u002fjupyter-nouveau-notebook-vide.png \\\"Nouveau notebook\\\"){ #fig:jupyter-nouveau-notebook-vide width=80% }\",\"Le notebook fraîchement créé ne contient qu'une cellule vide.\\n\\n![Nouveau notebook.](img\\u002fjupyter-nouveau-notebook-vide.png \\\"Nouveau notebook\\\"){ #fig:jupyter-nouveau-notebook-vide width=80% }\\n\\nLa première chose à faire est de donner un nom à votre notebook en cliquant sur *Untitled*, à droite du logo de Jupyter. Si le nom de votre notebook est *test* alors le fichier *test.ipynb* sera créé dans le répertoire depuis lequel vous avez lancé Jupyter.\\n\\nopen-box-rem\\n\\nL'extension *.ipynb* est l'extension de fichier des notebooks Jupyter.\\n\\nclose-box-rem\\n\\nVous pouvez entrer des instructions Python dans la première cellule. Par exemple :\\n\\n```python\\na = 2\\nb = 3\\nprint(a+b)\\n```\\n\\nPour exécuter le contenu de cette cellule, vous avez plusieurs possibilités :\\n\\n- Cliquer sur le menu *Cell*, puis *Run Cells*.\\n- Cliquer sur le bouton *Run* (sous la barre de menu).\\n- Presser simultanément les touches *Ctrl* + *Entrée*.\",\"- Cliquer sur le menu *Cell*, puis *Run Cells*.\\n- Cliquer sur le bouton *Run* (sous la barre de menu).\\n- Presser simultanément les touches *Ctrl* + *Entrée*.\\n\\nDans tous les cas, vous devriez obtenir quelque chose qui ressemble à l'image @fig:jupyter-cellule-1. La notation `In [1]` à gauche de la cellule indique qu'il s'agit de la première cellule exécutée.\\n\\n![Exécution d'une première cellule.](img\\u002fjupyter-cellule-1.png \\\"Exécution d'une première cellule.\\\"){ #fig:jupyter-cellule-1 width=80% }\\n\\nPour créer une nouvelle cellule, vous avez, ici encore, plusieurs possibilités :\\n\\n- Cliquer sur l’icône *+* sous la barre de menu.\\n- Cliquer sur le menu *Insert*, puis *Insert Cell Below*.\\n\\nUne nouvelle cellule vide devrait apparaître.\",\"- Cliquer sur l’icône *+* sous la barre de menu.\\n- Cliquer sur le menu *Insert*, puis *Insert Cell Below*.\\n\\nUne nouvelle cellule vide devrait apparaître.\\n\\nVous pouvez également créer une nouvelle cellule en positionnant votre curseur dans la première cellule, puis en pressant simultanément les touches *Alt* + *Entrée*. Si vous utilisez cette combinaison de touches, vous remarquerez que le numéro à gauche de la première cellule est passée de `In [1]` à `In [2]` car vous avez exécuté la première cellule *puis* créé une nouvelle cellule.\\n\\nVous pouvez ainsi créer plusieurs cellules les unes à la suite des autres. Un objet créé dans une cellule antérieure sera disponible dans les cellules suivantes. Par exemple, dans la figure @fig:jupyter-cellule-4, nous avons quatre cellules. Vous remarquerez que pour les cellules 3 et 4, le résultat renvoyé par le code Python est précédé par `Out [3]` et `Out [4]`.\",\"![Notebook avec plusieurs cellules de code Python.](img\\u002fjupyter-cellule-4.png \\\"Notebook avec plusieurs cellules de code Python\\\"){ #fig:jupyter-cellule-4 width=80% }\\n\\nDans un notebook Jupyter, il est parfaitement possible de réexécuter une cellule précédente. Par exemple la première cellule, qui porte désormais à sa gauche la numérotation `In [5]` (voir figure @fig:jupyter-cellule-4-mauvais-ordre).\\n\\n![Notebook avec une cellule ré-exécutée.](img\\u002fjupyter-cellule-4-mauvais-ordre.png \\\"Notebook avec une cellule ré-executée.\\\"){ #fig:jupyter-cellule-4-mauvais-ordre width=80% }\\n\\nopen-box-warn\\n\\nLa possibilité d'exécuter les cellules d'un notebook Jupyter dans un ordre arbitraire peut prêter à confusion, notamment si vous modifiez la même variable d'une cellule à l'autre.\",\"open-box-warn\\n\\nLa possibilité d'exécuter les cellules d'un notebook Jupyter dans un ordre arbitraire peut prêter à confusion, notamment si vous modifiez la même variable d'une cellule à l'autre.\\n\\nNous vous recommandons de régulièrement relancer complètement l'exécution de toutes les cellules de votre notebook, de la première à la dernière, en cliquant sur le menu *Kernel* puis *Restart & Run All* et enfin de valider le message *Restart and Run All Cells*.\\n\\nclose-box-warn\\n\\n\\n## Le format Markdown\\n\\nDans le tout premier exemple (figure @fig:jupyter-exemple), nous avons vu qu'il était possible de mettre du texte au format Markdown dans une cellule.\\n\\nIl faut cependant indiquer à Jupyter que cette cellule est au format Markdown en cliquant sur *Code* sous la barre de menu puis en choisissant *Markdown*.\",\"Il faut cependant indiquer à Jupyter que cette cellule est au format Markdown en cliquant sur *Code* sous la barre de menu puis en choisissant *Markdown*.\\n\\nLe format Markdown permet de rédiger du texte formaté (gras, italique, liens, titres, images, formules mathématiques...) avec quelques balises très simples. Voici un exemple dans une notebook Jupyter (figure @fig:jupyter-markdown-1) et le rendu lorsque la cellule est exécutée (figure @fig:jupyter-markdown-2).\\n\\n![Notebook avec une cellule au format Markdown.](img\\u002fjupyter-markdown-1.png \\\"Notebook avec une cellule au format Markdown.\\\"){ #fig:jupyter-markdown-1 width=80% }\\n\\n![Notebook avec une cellule au format Markdown (après exécution).](img\\u002fjupyter-markdown-2.png \\\"Notebook avec une cellule au format Markdown (après exécution).\\\"){ #fig:jupyter-markdown-2 width=80% }\\n\\nNotez qu'une cellule Markdown n'a pas le marqueur `In [ ]` à sa gauche.\",\"Notez qu'une cellule Markdown n'a pas le marqueur `In [ ]` à sa gauche.\\n\\nLe format Markdown permet de rapidement et très simplement rédiger du texte structuré. Ce cours est par exemple complètement rédigé en Markdown ;-)\\n\\nNous vous conseillons d'explorer les possibilités du Markdown en consultant la page [Wikipédia](https:\\u002f\\u002ffr.wikipedia.org\\u002fwiki\\u002fMarkdown) ou directement la [page de référence](https:\\u002f\\u002fdaringfireball.net\\u002fprojects\\u002fmarkdown\\u002fsyntax).\\n\\n\\n## Des graphiques dans les notebooks\\n\\nUn autre intérêt des notebooks Jupyter est de pouvoir y incorporer des graphiques réalisés avec la bibliothèque *matplotlib*.\\n\\nVoici un exemple en reprenant un graphique présenté dans le chapitre 17 *Quelques modules d'intérêt en bioinformatique* (figure @fig:jupyter-matplotlib).\\n\\n![Incorporation d'un graphique dans un notebook Jupyter.](img\\u002fjupyter-matplotlib.png \\\"Incorporation d'un graphique dans un notebook Jupyter.\\\"){ #fig:jupyter-matplotlib width=80% }\",\"![Incorporation d'un graphique dans un notebook Jupyter.](img\\u002fjupyter-matplotlib.png \\\"Incorporation d'un graphique dans un notebook Jupyter.\\\"){ #fig:jupyter-matplotlib width=80% }\\n\\nLa différence notable est l'utilisation de la commande :  \\n`%matplotlib inline`  \\nqui n'est à lancer qu'une seule fois (en général dans la première cellule du notebook) et qui permet l'incorporation de figures dans un notebook Jupyter.\\n\\nopen-box-rem\\n\\nPour quitter l'interface des notebooks Jupyter, il faut, dans le premier onglet qui est apparu, cliquer sur le bouton *Quit* (figure @fig:jupyter-interface).\\n\\nUne méthode plus radicale est de revenir sur le *shell* depuis lequel les notebooks Jupyter ont été lancés puis de presser deux fois la combinaison de touches *Ctrl* + *C*.\\n\\nclose-box-rem\\n\\n\\n## Les *magic commands*\\n\\nLa commande précédente (`%matplotlib inline`) est une *magic command*. Il en existe beaucoup, en voici deux :\",\"close-box-rem\\n\\n\\n## Les *magic commands*\\n\\nLa commande précédente (`%matplotlib inline`) est une *magic command*. Il en existe beaucoup, en voici deux :\\n\\n- `%whos` liste tous les objets (variables, fonctions, modules...) utilisés dans le notebook (voir figure @fig:jupyter-whos).\\n- `%history` liste toutes les commandes Python lancées dans un notebook (voir figure @fig:jupyter-history).\\n\\n![*Magic command* `%whos`.](img\\u002fjupyter-whos.png){ #fig:jupyter-whos width=80% }\\n\\n![*Magic command* `%history`.](img\\u002fjupyter-history.png){ #fig:jupyter-history width=80% }\\n\\nEnfin, avec les environnements Linux ou Mac OS X, il est possible de lancer une commande Unix depuis un notebook Jupyter. Il faut pour cela précéder la commande du symbole « `!` ». La figure @fig:jupyter-ls illustre cette possibilité avec la commande `ls` qui affiche le contenu d'un répertoire.\\n\\n![Lancement d'une commande Unix.](img\\u002fjupyter-ls.png){ #fig:jupyter-ls width=80% }\\n\\nopen-box-rem\",\"![Lancement d'une commande Unix.](img\\u002fjupyter-ls.png){ #fig:jupyter-ls width=80% }\\n\\nopen-box-rem\\n\\nLe lancement de n'importe quelle commande Unix depuis un notebook Jupyter (en précédant cette commande de `!`) est une fonctionnalité très puissante.\\n\\nPour vous en rendre compte, jetez un œil au [notebook](https:\\u002f\\u002fgithub.com\\u002fMaayanLab\\u002fZika-RNAseq-Pipeline\\u002fblob\\u002fmaster\\u002fZika.ipynb) produit par les chercheurs Zichen Wang et Avi Ma'ayan qui reproduit l'analyse complète de données obtenues par séquençage haut débit. Ces analyses ont donné lieu à la publication de l'article scientifique « [*An open RNA-Seq data analysis pipeline tutorial with an example of reprocessing data from a recent Zika virus study*](https:\\u002f\\u002ff1000research.com\\u002farticles\\u002f5-1574\\u002f) » (F1000 Research, 2016).\\n\\nclose-box-rem\\n\\n\\n## JupyterLab\\n\\nEn 2018, le consortium Jupyter a lancé *JupyterLab* qui est un environnement complet d'analyse.\\nPour obtenir cette interface, lancez la commande suivante depuis un *shell* :\",\"## JupyterLab\\n\\nEn 2018, le consortium Jupyter a lancé *JupyterLab* qui est un environnement complet d'analyse.\\nPour obtenir cette interface, lancez la commande suivante depuis un *shell* :\\n\\n```bash\\n$ jupyter lab\\n```\\n\\nUne nouvelle page devrait s'ouvrir dans votre navigateur web et vous devriez\\nobtenir une interface similaire à la figure @fig:jupyterlab-1.\\n\\n![Interface de JupyterLab.](img\\u002fjupyterlab-1.png \\\"Interface de JupyterLab.\\\"){ #fig:jupyterlab-1 width=95% }\\n\\nL'interface proposée par JupyterLab est très riche. On peut y organiser un notebook Jupyter « classique » avec une figure en encart, un *shell* (voir figure @fig:jupyterlab-2)... Les possibilités sont infinies !\\n\\n![JupyterLab comme environnement d'analyse.](img\\u002fjupyterlab-2.png \\\"JupyterLab comme environnement d'analyse.\\\"){ #fig:jupyterlab-2 width=95% }\\n\\nopen-box-more\\n\\nLes *notebooks* Jupyter sont particulièrement adaptés à l'analyse de données en combinaison avec les modules *matplotlib* et *pandas*.\\n\\nclose-box-more\"],\"marker\":{\"colorscale\":[[0.0,\"#440154\"],[0.1111111111111111,\"#482878\"],[0.2222222222222222,\"#3e4989\"],[0.3333333333333333,\"#31688e\"],[0.4444444444444444,\"#26828e\"],[0.5555555555555556,\"#1f9e89\"],[0.6666666666666666,\"#35b779\"],[0.7777777777777778,\"#6ece58\"],[0.8888888888888888,\"#b5de2b\"],[1.0,\"#fde725\"]],\"opacity\":0.8,\"size\":8},\"mode\":\"markers\",\"name\":\"Jupyter\",\"x\":[-0.2791417153216221,-0.29133573827864434,-0.3447728040882956,-0.31133228405634183,-0.2919926400514851,-0.27046008543393,-0.22620155543301596,-0.1848689291255933,-0.1381289171816792,-0.18152713044759464,-0.1739395112033432,-0.2037226768438316,-0.298812940604099,-0.28517855250524854],\"y\":[0.5262430804386944,0.5479241163090754,0.5544552561976398,0.47120405861476183,0.44168990016841747,0.3478826174200623,0.37674767290137046,0.5058344730534438,0.5373314044438071,0.4945086534757064,0.4542953353114166,0.39331446119765234,0.5157856637027955,0.540421362331601],\"type\":\"scatter\"}],                        {\"template\":{\"data\":{\"histogram2dcontour\":[{\"type\":\"histogram2dcontour\",\"colorbar\":{\"outlinewidth\":0,\"ticks\":\"\"},\"colorscale\":[[0.0,\"#0d0887\"],[0.1111111111111111,\"#46039f\"],[0.2222222222222222,\"#7201a8\"],[0.3333333333333333,\"#9c179e\"],[0.4444444444444444,\"#bd3786\"],[0.5555555555555556,\"#d8576b\"],[0.6666666666666666,\"#ed7953\"],[0.7777777777777778,\"#fb9f3a\"],[0.8888888888888888,\"#fdca26\"],[1.0,\"#f0f921\"]]}],\"choropleth\":[{\"type\":\"choropleth\",\"colorbar\":{\"outlinewidth\":0,\"ticks\":\"\"}}],\"histogram2d\":[{\"type\":\"histogram2d\",\"colorbar\":{\"outlinewidth\":0,\"ticks\":\"\"},\"colorscale\":[[0.0,\"#0d0887\"],[0.1111111111111111,\"#46039f\"],[0.2222222222222222,\"#7201a8\"],[0.3333333333333333,\"#9c179e\"],[0.4444444444444444,\"#bd3786\"],[0.5555555555555556,\"#d8576b\"],[0.6666666666666666,\"#ed7953\"],[0.7777777777777778,\"#fb9f3a\"],[0.8888888888888888,\"#fdca26\"],[1.0,\"#f0f921\"]]}],\"heatmap\":[{\"type\":\"heatmap\",\"colorbar\":{\"outlinewidth\":0,\"ticks\":\"\"},\"colorscale\":[[0.0,\"#0d0887\"],[0.1111111111111111,\"#46039f\"],[0.2222222222222222,\"#7201a8\"],[0.3333333333333333,\"#9c179e\"],[0.4444444444444444,\"#bd3786\"],[0.5555555555555556,\"#d8576b\"],[0.6666666666666666,\"#ed7953\"],[0.7777777777777778,\"#fb9f3a\"],[0.8888888888888888,\"#fdca26\"],[1.0,\"#f0f921\"]]}],\"heatmapgl\":[{\"type\":\"heatmapgl\",\"colorbar\":{\"outlinewidth\":0,\"ticks\":\"\"},\"colorscale\":[[0.0,\"#0d0887\"],[0.1111111111111111,\"#46039f\"],[0.2222222222222222,\"#7201a8\"],[0.3333333333333333,\"#9c179e\"],[0.4444444444444444,\"#bd3786\"],[0.5555555555555556,\"#d8576b\"],[0.6666666666666666,\"#ed7953\"],[0.7777777777777778,\"#fb9f3a\"],[0.8888888888888888,\"#fdca26\"],[1.0,\"#f0f921\"]]}],\"contourcarpet\":[{\"type\":\"contourcarpet\",\"colorbar\":{\"outlinewidth\":0,\"ticks\":\"\"}}],\"contour\":[{\"type\":\"contour\",\"colorbar\":{\"outlinewidth\":0,\"ticks\":\"\"},\"colorscale\":[[0.0,\"#0d0887\"],[0.1111111111111111,\"#46039f\"],[0.2222222222222222,\"#7201a8\"],[0.3333333333333333,\"#9c179e\"],[0.4444444444444444,\"#bd3786\"],[0.5555555555555556,\"#d8576b\"],[0.6666666666666666,\"#ed7953\"],[0.7777777777777778,\"#fb9f3a\"],[0.8888888888888888,\"#fdca26\"],[1.0,\"#f0f921\"]]}],\"surface\":[{\"type\":\"surface\",\"colorbar\":{\"outlinewidth\":0,\"ticks\":\"\"},\"colorscale\":[[0.0,\"#0d0887\"],[0.1111111111111111,\"#46039f\"],[0.2222222222222222,\"#7201a8\"],[0.3333333333333333,\"#9c179e\"],[0.4444444444444444,\"#bd3786\"],[0.5555555555555556,\"#d8576b\"],[0.6666666666666666,\"#ed7953\"],[0.7777777777777778,\"#fb9f3a\"],[0.8888888888888888,\"#fdca26\"],[1.0,\"#f0f921\"]]}],\"mesh3d\":[{\"type\":\"mesh3d\",\"colorbar\":{\"outlinewidth\":0,\"ticks\":\"\"}}],\"scatter\":[{\"fillpattern\":{\"fillmode\":\"overlay\",\"size\":10,\"solidity\":0.2},\"type\":\"scatter\"}],\"parcoords\":[{\"type\":\"parcoords\",\"line\":{\"colorbar\":{\"outlinewidth\":0,\"ticks\":\"\"}}}],\"scatterpolargl\":[{\"type\":\"scatterpolargl\",\"marker\":{\"colorbar\":{\"outlinewidth\":0,\"ticks\":\"\"}}}],\"bar\":[{\"error_x\":{\"color\":\"#2a3f5f\"},\"error_y\":{\"color\":\"#2a3f5f\"},\"marker\":{\"line\":{\"color\":\"#E5ECF6\",\"width\":0.5},\"pattern\":{\"fillmode\":\"overlay\",\"size\":10,\"solidity\":0.2}},\"type\":\"bar\"}],\"scattergeo\":[{\"type\":\"scattergeo\",\"marker\":{\"colorbar\":{\"outlinewidth\":0,\"ticks\":\"\"}}}],\"scatterpolar\":[{\"type\":\"scatterpolar\",\"marker\":{\"colorbar\":{\"outlinewidth\":0,\"ticks\":\"\"}}}],\"histogram\":[{\"marker\":{\"pattern\":{\"fillmode\":\"overlay\",\"size\":10,\"solidity\":0.2}},\"type\":\"histogram\"}],\"scattergl\":[{\"type\":\"scattergl\",\"marker\":{\"colorbar\":{\"outlinewidth\":0,\"ticks\":\"\"}}}],\"scatter3d\":[{\"type\":\"scatter3d\",\"line\":{\"colorbar\":{\"outlinewidth\":0,\"ticks\":\"\"}},\"marker\":{\"colorbar\":{\"outlinewidth\":0,\"ticks\":\"\"}}}],\"scattermapbox\":[{\"type\":\"scattermapbox\",\"marker\":{\"colorbar\":{\"outlinewidth\":0,\"ticks\":\"\"}}}],\"scatterternary\":[{\"type\":\"scatterternary\",\"marker\":{\"colorbar\":{\"outlinewidth\":0,\"ticks\":\"\"}}}],\"scattercarpet\":[{\"type\":\"scattercarpet\",\"marker\":{\"colorbar\":{\"outlinewidth\":0,\"ticks\":\"\"}}}],\"carpet\":[{\"aaxis\":{\"endlinecolor\":\"#2a3f5f\",\"gridcolor\":\"white\",\"linecolor\":\"white\",\"minorgridcolor\":\"white\",\"startlinecolor\":\"#2a3f5f\"},\"baxis\":{\"endlinecolor\":\"#2a3f5f\",\"gridcolor\":\"white\",\"linecolor\":\"white\",\"minorgridcolor\":\"white\",\"startlinecolor\":\"#2a3f5f\"},\"type\":\"carpet\"}],\"table\":[{\"cells\":{\"fill\":{\"color\":\"#EBF0F8\"},\"line\":{\"color\":\"white\"}},\"header\":{\"fill\":{\"color\":\"#C8D4E3\"},\"line\":{\"color\":\"white\"}},\"type\":\"table\"}],\"barpolar\":[{\"marker\":{\"line\":{\"color\":\"#E5ECF6\",\"width\":0.5},\"pattern\":{\"fillmode\":\"overlay\",\"size\":10,\"solidity\":0.2}},\"type\":\"barpolar\"}],\"pie\":[{\"automargin\":true,\"type\":\"pie\"}]},\"layout\":{\"autotypenumbers\":\"strict\",\"colorway\":[\"#636efa\",\"#EF553B\",\"#00cc96\",\"#ab63fa\",\"#FFA15A\",\"#19d3f3\",\"#FF6692\",\"#B6E880\",\"#FF97FF\",\"#FECB52\"],\"font\":{\"color\":\"#2a3f5f\"},\"hovermode\":\"closest\",\"hoverlabel\":{\"align\":\"left\"},\"paper_bgcolor\":\"white\",\"plot_bgcolor\":\"#E5ECF6\",\"polar\":{\"bgcolor\":\"#E5ECF6\",\"angularaxis\":{\"gridcolor\":\"white\",\"linecolor\":\"white\",\"ticks\":\"\"},\"radialaxis\":{\"gridcolor\":\"white\",\"linecolor\":\"white\",\"ticks\":\"\"}},\"ternary\":{\"bgcolor\":\"#E5ECF6\",\"aaxis\":{\"gridcolor\":\"white\",\"linecolor\":\"white\",\"ticks\":\"\"},\"baxis\":{\"gridcolor\":\"white\",\"linecolor\":\"white\",\"ticks\":\"\"},\"caxis\":{\"gridcolor\":\"white\",\"linecolor\":\"white\",\"ticks\":\"\"}},\"coloraxis\":{\"colorbar\":{\"outlinewidth\":0,\"ticks\":\"\"}},\"colorscale\":{\"sequential\":[[0.0,\"#0d0887\"],[0.1111111111111111,\"#46039f\"],[0.2222222222222222,\"#7201a8\"],[0.3333333333333333,\"#9c179e\"],[0.4444444444444444,\"#bd3786\"],[0.5555555555555556,\"#d8576b\"],[0.6666666666666666,\"#ed7953\"],[0.7777777777777778,\"#fb9f3a\"],[0.8888888888888888,\"#fdca26\"],[1.0,\"#f0f921\"]],\"sequentialminus\":[[0.0,\"#0d0887\"],[0.1111111111111111,\"#46039f\"],[0.2222222222222222,\"#7201a8\"],[0.3333333333333333,\"#9c179e\"],[0.4444444444444444,\"#bd3786\"],[0.5555555555555556,\"#d8576b\"],[0.6666666666666666,\"#ed7953\"],[0.7777777777777778,\"#fb9f3a\"],[0.8888888888888888,\"#fdca26\"],[1.0,\"#f0f921\"]],\"diverging\":[[0,\"#8e0152\"],[0.1,\"#c51b7d\"],[0.2,\"#de77ae\"],[0.3,\"#f1b6da\"],[0.4,\"#fde0ef\"],[0.5,\"#f7f7f7\"],[0.6,\"#e6f5d0\"],[0.7,\"#b8e186\"],[0.8,\"#7fbc41\"],[0.9,\"#4d9221\"],[1,\"#276419\"]]},\"xaxis\":{\"gridcolor\":\"white\",\"linecolor\":\"white\",\"ticks\":\"\",\"title\":{\"standoff\":15},\"zerolinecolor\":\"white\",\"automargin\":true,\"zerolinewidth\":2},\"yaxis\":{\"gridcolor\":\"white\",\"linecolor\":\"white\",\"ticks\":\"\",\"title\":{\"standoff\":15},\"zerolinecolor\":\"white\",\"automargin\":true,\"zerolinewidth\":2},\"scene\":{\"xaxis\":{\"backgroundcolor\":\"#E5ECF6\",\"gridcolor\":\"white\",\"linecolor\":\"white\",\"showbackground\":true,\"ticks\":\"\",\"zerolinecolor\":\"white\",\"gridwidth\":2},\"yaxis\":{\"backgroundcolor\":\"#E5ECF6\",\"gridcolor\":\"white\",\"linecolor\":\"white\",\"showbackground\":true,\"ticks\":\"\",\"zerolinecolor\":\"white\",\"gridwidth\":2},\"zaxis\":{\"backgroundcolor\":\"#E5ECF6\",\"gridcolor\":\"white\",\"linecolor\":\"white\",\"showbackground\":true,\"ticks\":\"\",\"zerolinecolor\":\"white\",\"gridwidth\":2}},\"shapedefaults\":{\"line\":{\"color\":\"#2a3f5f\"}},\"annotationdefaults\":{\"arrowcolor\":\"#2a3f5f\",\"arrowhead\":0,\"arrowwidth\":1},\"geo\":{\"bgcolor\":\"white\",\"landcolor\":\"#E5ECF6\",\"subunitcolor\":\"white\",\"showland\":true,\"showlakes\":true,\"lakecolor\":\"white\"},\"title\":{\"x\":0.05},\"mapbox\":{\"style\":\"light\"}}},\"margin\":{\"l\":50,\"r\":50,\"b\":100,\"t\":100,\"pad\":10},\"autosize\":false,\"title\":{\"text\":\"2D projection of embeddings\"},\"width\":800,\"height\":500,\"xaxis\":{\"title\":{\"text\":\"PCA compotent 1 (12 %)\"}},\"yaxis\":{\"title\":{\"text\":\"PCA compotent 2 (10 %)\"}}},                        {\"responsive\": true}                    ).then(function(){\n",
       "                            \n",
       "var gd = document.getElementById('6e05901b-bee3-4dfd-84d3-0517bbf5afb1');\n",
       "var x = new MutationObserver(function (mutations, observer) {{\n",
       "        var display = window.getComputedStyle(gd).display;\n",
       "        if (!display || display === 'none') {{\n",
       "            console.log([gd, 'removed!']);\n",
       "            Plotly.purge(gd);\n",
       "            observer.disconnect();\n",
       "        }}\n",
       "}});\n",
       "\n",
       "// Listen for the removal of the full notebook cells\n",
       "var notebookContainer = gd.closest('#notebook-container');\n",
       "if (notebookContainer) {{\n",
       "    x.observe(notebookContainer, {childList: true});\n",
       "}}\n",
       "\n",
       "// Listen for the clearing of the current output cell\n",
       "var outputEl = gd.closest('.output');\n",
       "if (outputEl) {{\n",
       "    x.observe(outputEl, {childList: true});\n",
       "}}\n",
       "\n",
       "                        })                };                });            </script>        </div>"
      ]
     },
     "metadata": {},
     "output_type": "display_data"
    }
   ],
   "source": [
    "# with Plotly\n",
    "fig = go.Figure()\n",
    "\n",
    "for chapter in chapters:\n",
    "    # Get data points\n",
    "    x = df[df[\"chapter\"] == chapter][\"pca_comp_1\"]\n",
    "    y = df[df[\"chapter\"] == chapter][\"pca_comp_2\"]\n",
    "    # Get the text for hover\n",
    "    hover_text = df[df[\"chapter\"] == chapter][\"chunk\"]\n",
    "    fig.add_trace(\n",
    "        go.Scatter(\n",
    "            x=x,\n",
    "            y=y,\n",
    "            mode=\"markers\",\n",
    "            marker=dict(size=8, colorscale=\"Viridis\", opacity=0.8),\n",
    "            name=chapter,\n",
    "            hovertext=hover_text,\n",
    "            hoverinfo=\"text\",\n",
    "        )\n",
    "    )\n",
    "\n",
    "fig.update_layout(\n",
    "    autosize=False,\n",
    "    title=\"2D projection of embeddings\",\n",
    "    width=800,\n",
    "    height=500,\n",
    "    margin=dict(l=50, r=50, b=100, t=100, pad=10),\n",
    "    xaxis=dict(title=component_labels[1]),\n",
    "    yaxis=dict(title=component_labels[2]),\n",
    ")\n",
    "\n",
    "fig.show()"
   ]
  },
  {
   "cell_type": "markdown",
   "metadata": {},
   "source": [
    "### 3D projection of embeddings"
   ]
  },
  {
   "cell_type": "code",
   "execution_count": 152,
   "metadata": {
    "execution": {
     "iopub.execute_input": "2024-05-14T18:10:22.040424Z",
     "iopub.status.busy": "2024-05-14T18:10:22.039813Z",
     "iopub.status.idle": "2024-05-14T18:10:22.083018Z",
     "shell.execute_reply": "2024-05-14T18:10:22.082454Z",
     "shell.execute_reply.started": "2024-05-14T18:10:22.040398Z"
    }
   },
   "outputs": [
    {
     "data": {
      "application/vnd.plotly.v1+json": {
       "config": {
        "plotlyServerURL": "https://plot.ly"
       },
       "data": [
        {
         "hoverinfo": "text",
         "hovertext": [
          "# Affichage\n\n## La fonction `print()`\n\nDans le chapitre 1, nous avons rencontré la fonction `print()` qui affiche une chaîne de caractères (le fameux `\"Hello world!\"`). En fait, la fonction `print()` affiche l'argument qu'on lui passe entre parenthèses **et** un retour à ligne. Ce retour à ligne supplémentaire est ajouté par défaut. Si toutefois, on ne veut pas afficher ce retour à la ligne, on peut utiliser l'argument par « mot-clé » `end` :\n\n```python\n>>> print(\"Hello world!\")\nHello world!\n>>> print(\"Hello world!\", end=\"\")\nHello world!>>>\n```\n\nLigne 1. On a utilisé l'instruction `print()` classiquement en passant la chaîne de caractères `\"Hello world!\"` en argument.\n\nLigne 3. On a ajouté un second argument `end=\"\"`, en précisant le mot-clé `end`. Nous aborderons les arguments par mot-clé dans le chapitre 9 *Fonctions*. Pour l'instant, dites-vous que cela modifie le comportement par défaut des fonctions.",
          "Ligne 4. L'effet de l'argument `end=\"\"` est que les trois chevrons `>>>` se retrouvent collés après la chaîne de caractères `\"Hello world!\"`.\n\nUne autre manière de s'en rendre compte est d'utiliser deux fonctions `print()` à la suite. Dans la portion de code suivante, le caractère « `;` » sert à séparer plusieurs instructions Python sur une même ligne :\n\n```python\n>>> print(\"Hello\") ; print(\"Joe\")\nHello\nJoe\n>>> print(\"Hello\", end=\"\") ; print(\"Joe\")\nHelloJoe\n>>> print(\"Hello\", end=\" \") ; print(\"Joe\")\nHello Joe\n```\n\nLa fonction `print()` peut également afficher le contenu d'une variable quel que soit son type. Par exemple, pour un entier :\n\n```python\n>>> var = 3\n>>> print(var)\n3\n```\n\nIl est également possible d'afficher le contenu de plusieurs variables (quel que soit leur type) en les séparant par des virgules :\n\n```python\n>>> x = 32\n>>> nom = \"John\"\n>>> print(nom, \"a\", x, \"ans\")\nJohn a 32 ans\n```",
          "```python\n>>> x = 32\n>>> nom = \"John\"\n>>> print(nom, \"a\", x, \"ans\")\nJohn a 32 ans\n```\n\nPython a écrit une phrase complète en remplaçant les variables `x` et `nom` par leur contenu. Vous remarquerez que pour afficher plusieurs éléments de texte sur une seule ligne, nous avons utilisé le séparateur « `,` » entre les différents éléments. Python a également ajouté un espace à chaque fois que l'on utilisait le séparateur « `,` ». On peut modifier ce comportement en passant à la fonction `print()` l'argument par mot-clé `sep` :\n\n```python\n>>> x = 32\n>>> nom = \"John\"\n>>> print(nom, \"a\", x, \"ans\", sep=\"\")\nJohna32ans\n>>> print(nom, \"a\", x, \"ans\", sep=\"-\")\nJohn-a-32-ans\n```\n\nPour afficher deux chaînes de caractères l'une à côté de l'autre, sans espace, on peut soit les concaténer, soit utiliser l'argument par mot-clé `sep` avec une chaîne de caractères vide :",
          "Pour afficher deux chaînes de caractères l'une à côté de l'autre, sans espace, on peut soit les concaténer, soit utiliser l'argument par mot-clé `sep` avec une chaîne de caractères vide :\n\n```python\n>>> ani1 = \"chat\"\n>>> ani2 = \"souris\"\n>>> print(ani1, ani2)\nchat souris\n>>> print(ani1 + ani2)\nchatsouris\n>>> print(ani1, ani2, sep=\"\")\nchatsouris\n```\n\n## Écriture formatée\n\n### Définitions\n\nQue signifie « écriture formatée » ?\n\nopen-box-def\n\nL'écriture formatée est un mécanisme permettant d'afficher des variables avec un certain format, par exemple justifiées à gauche ou à droite, ou encore avec un certain nombre de décimales pour les *floats*. L'écriture formatée est incontournable lorsqu'on veut créer des fichiers organisés en « belles colonnes » comme par exemple les fichiers PDB (pour en savoir plus sur ce format, reportez-vous à l'annexe A *Quelques formats de données rencontrés en biologie*).\n\nclose-box-def",
          "close-box-def\n\nDepuis la version 3.6, Python a introduit les *f-strings* pour mettre en place l'écriture formatée que nous allons décrire en détail dans cette rubrique. Il existe d'autres  manières pour formatter des chaînes de caractères qui étaient utilisées avant la version 3.6, nous en avons mis un rappel bref dans la rubrique suivante. Toutefois, nous conseillons vivement l'utilisation des *f-strings* si vous débutez l'apprentissage de Python.\n\nQue signifie *f-string* ?\n\nopen-box-def\n\n*f-string* est le diminutif de *formatted string literals*. Mais encore ? Dans le chapitre précédent, nous avons vu les chaînes de caractères ou encore *strings* qui étaient représentées par un texte entouré de guillemets simples ou doubles. Par exemple :\n\n```python\n\"Ceci est une chaîne de caractères\"\n```\n\nL'équivalent en *f-string* est tout simplement la même chaîne de caractères précédée du caractère `f` **sans espace** entre les deux :\n\n```python\nf\"Ceci est une chaîne de caractères\"\n```",
          "L'équivalent en *f-string* est tout simplement la même chaîne de caractères précédée du caractère `f` **sans espace** entre les deux :\n\n```python\nf\"Ceci est une chaîne de caractères\"\n```\n\nCe caractère `f` avant les guillemets va indiquer à Python qu'il s'agit d'une *f-string* permettant de mettre en place le mécanisme de l'écriture formatée, contrairement à une *string* normale.\n\nclose-box-def\n\nNous expliquons plus en détail dans le chapitre 10 *Plus sur les chaînes de caractères* pourquoi on doit mettre ce `f` et le mécanisme sous-jacent.\n\n\n### Prise en main des *f-strings*\n\nLes *f-strings* permettent une meilleure organisation de l'affichage des variables. Reprenons l'exemple ci-dessus à propos de notre ami John :\n\n```python\n>>> x = 32\n>>> nom = \"John\"\n>>> print(f\"{nom} a {x} ans\")\nJohn a 32 ans\n```",
          "```python\n>>> x = 32\n>>> nom = \"John\"\n>>> print(f\"{nom} a {x} ans\")\nJohn a 32 ans\n```\n\nIl suffit de passer un nom de variable au sein de chaque couple d'accolades et Python les remplace par leur contenu ! Première remarque, la syntaxe apparait plus lisible que l'équivalent vu ci-avant `print(nom, \"a\", x, \"ans\")`. Bien sûr, il ne faut pas omettre le `f` avant le premier guillemet, sinon Python prendra cela pour une chaîne de caractères normale et ne mettra pas en place ce mécanisme de remplacement :\n\n```python\n>>> print(\"{nom} a {x} ans\")\n{nom} a {x} ans\n```\n\nopen-box-rem\n\nUne variable est utilisable plus d'une fois pour une *f-string* donnée :\n\n```python\n>>> var = \"to\"\n>>> print(f\"{var} et {var} font {var}{var}\")\nto et to font toto\n>>>\n```\n\nclose-box-rem\n\nEnfin, il est possible de mettre entre les accolades des valeurs numériques ou des chaînes de caractères :",
          "close-box-rem\n\nEnfin, il est possible de mettre entre les accolades des valeurs numériques ou des chaînes de caractères :\n\n```python\n>>> print(f\"J'affiche l'entier {10} et le float {3.14}\")\nJ'affiche l'entier 10 et le float 3.14\n>>> print(f\"J'affiche la chaine {'Python'}\")\nJ'affiche la chaine Python\n```\n\nMême si cela ne présente que peu d'intérêt pour l'instant, il s'agit d'une commande Python parfaitement valide. Nous verrons des exemples plus pertinents par la suite. Cela fonctionne avec n'importe quel type de variable (entiers, chaînes de caractères, *floats*, etc.). Attention toutefois pour les chaînes de caractères, utilisez des guillemets simples au sein des accolades si vous définissez votre *f-string* avec des guillemets doubles.\n\n### Spécification de format\n\nLes *f-strings* permettent de remplacer des variables au sein d'une chaîne de caractères. On peut également spécifier le format de leur affichage.",
          "### Spécification de format\n\nLes *f-strings* permettent de remplacer des variables au sein d'une chaîne de caractères. On peut également spécifier le format de leur affichage.\n\nPrenons un exemple. Imaginez maintenant que vous vouliez calculer, puis afficher, la proportion de GC d'un génome. La proportion de GC s'obtient comme la somme des bases Guanine (G) et Cytosine (C) divisée par le nombre total de bases (A, T, C, G) du génome considéré. Si on a, par exemple, 4500 bases G et 2575 bases C, pour un total de 14800 bases, vous pourriez procéder comme suit (notez bien l'utilisation des parenthèses pour gérer les priorités des opérateurs) :\n\n```python\n>>> prop_GC = (4500 + 2575) / 14800\n>>> print(\"La proportion de GC est\", prop_GC)\nLa proportion de GC est 0.4780405405405405\n```",
          "```python\n>>> prop_GC = (4500 + 2575) / 14800\n>>> print(\"La proportion de GC est\", prop_GC)\nLa proportion de GC est 0.4780405405405405\n```\n\nLe résultat obtenu présente trop de décimales (seize dans le cas présent). Pour écrire le résultat plus lisiblement, vous pouvez spécifier dans les accolades `{}` le format qui vous intéresse. Dans le cas présent, vous voulez formater un *float* pour l'afficher avec deux puis trois décimales :\n\n```python\n>>> print(f\"La proportion de GC est {prop_GC:.2f}\")\nLa proportion de GC est 0.48\n>>> print(f\"La proportion de GC est {prop_GC:.3f}\")\nLa proportion de GC est 0.478\n```\n\nDétaillons le contenu des accolades de la première ligne (`{prop_GC:.2f}`) :\n\n- D'abord on a le nom de la variable à formatter, `prop_GC`, c'est indispensable avec les *f-strings*.\n\n- Ensuite on rencontre les deux-points `:`, ceux-ci indiquent que ce qui suit va spécifier le format dans lequel on veut afficher la variable `prop_GC`.",
          "- Ensuite on rencontre les deux-points `:`, ceux-ci indiquent que ce qui suit va spécifier le format dans lequel on veut afficher la variable `prop_GC`.\n\n- À droite des deux-points on trouve `.2f` qui indique ce format : la lettre `f` indique qu'on souhaite afficher la variable sous forme d'un *float*, les caractères `.2` indiquent la précision voulue, soit ici deux chiffres après la virgule. \n\nNotez enfin que le formatage avec `.xf` (`x` étant un entier positif) renvoie un résultat arrondi.\n\nVous pouvez aussi formater des entiers avec la lettre `d` (ici `d` veut dire *decimal integer*) :\n\n```python\n>>> nb_G = 4500\n>>> print(f\"Ce génome contient {nb_G:d} guanines\")\nCe génome contient 4500 guanines\n```\n\nou mettre plusieurs nombres dans une même chaîne de caractères.",
          "```python\n>>> nb_G = 4500\n>>> print(f\"Ce génome contient {nb_G:d} guanines\")\nCe génome contient 4500 guanines\n```\n\nou mettre plusieurs nombres dans une même chaîne de caractères.\n\n```python\n>>> nb_G = 4500\n>>> nb_C = 2575\n>>> print(f\"Ce génome contient {nb_G:d} G et {nb_C:d} C, soit une prop de GC de {prop_GC:.2f}\")\nCe génome contient 4500 G et 2575 C, soit une prop de GC de 0.48\n>>> perc_GC = prop_GC * 100\n>>> print(f\"Ce génome contient {nb_G:d} G et {nb_C:d} C, soit un %GC de {perc_GC:.2f} %\")\nCe génome contient 4500 G et 2575 C, soit un %GC de 47.80 %\n```\n\nEnfin, il est possible de préciser sur combien de caractères vous voulez qu'un résultat soit écrit et comment se fait l'alignement (à gauche, à droite ou centré). Dans la portion de code suivante, le caractère `;` sert de séparateur entre les instructions sur une même ligne :",
          "```python\n>>> print(10) ; print(1000)\n10\n1000\n>>> print(f\"{10:>6d}\") ; print(f\"{1000:>6d}\")\n    10\n  1000\n>>> print(f\"{10:<6d}\") ; print(f\"{1000:<6d}\")\n10    \n1000  \n>>> print(f\"{10:^6d}\") ; print(f\"{1000:^6d}\")\n  10  \n 1000 \n>>> print(f\"{10:*^6d}\") ; print(f\"{1000:*^6d}\")\n**10**\n*1000*\n>>> print(f\"{10:0>6d}\") ; print(f\"{1000:0>6d}\")\n000010\n001000\n```\n\nNotez que `>` spécifie un alignement à droite, `<` spécifie un alignement à gauche et `^` spécifie un alignement centré. Il est également possible d'indiquer le caractère qui servira de remplissage lors des alignements (l'espace est le caractère par défaut).\n\nCe formatage est également possible sur des chaînes de caractères avec la lettre `s` (comme *string*) :\n\n```python\n>>> print(\"atom HN\") ; print(\"atom HDE1\")\natom HN\natom HDE1\n>>> print(f\"atom {'HN':>4s}\") ; print(f\"atom {'HDE1':>4s}\")\natom   HN\natom HDE1\n```",
          "```python\n>>> print(\"atom HN\") ; print(\"atom HDE1\")\natom HN\natom HDE1\n>>> print(f\"atom {'HN':>4s}\") ; print(f\"atom {'HDE1':>4s}\")\natom   HN\natom HDE1\n```\n\nVous voyez tout de suite l'énorme avantage de l'écriture formatée. Elle vous permet d'écrire en colonnes parfaitement alignées. Nous verrons que ceci est très pratique si l'on veut écrire les coordonnées des atomes d'une molécule au format PDB (pour en savoir plus sur ce format, reportez-vous à l'annexe A *Quelques formats de données rencontrés en biologie*).\n\nPour les *floats*, il est possible de combiner le nombre de caractères à afficher avec le nombre de décimales :\n\n```python\n>>> print(f\"{perc_GC:7.3f}\")\n 47.804\n>>> print(f\"{perc_GC:10.3f}\")\n    47.804\n```",
          "```python\n>>> print(f\"{perc_GC:7.3f}\")\n 47.804\n>>> print(f\"{perc_GC:10.3f}\")\n    47.804\n```\n\nL'instruction `7.3f` signifie que l'on souhaite écrire un *float* avec 3 décimales et formaté sur 7 caractères (par défaut justifiés à droite). L'instruction `10.3f` fait la même chose sur 10 caractères. Remarquez que le séparateur décimal `.` compte pour un caractère. De même, si on avait un nombre négatif, le signe `-` compterait aussi pour un caractère.\n\n### Autres détails sur les *f-strings*\n\nSi on veut afficher des accolades littérales avec les *f-strings*, il faut les doubler pour échapper au formatage :\n\n```python\n>>> print(f\"Accolades littérales {{}} ou {{ ou }} et pour le formatage {10}\")\nAccolades littérales {} ou { ou } et pour le formatage 10\n```\n\nUne remarque importante, si on ne met pas de variable à formater entre les accolades dans une *f-string*, cela conduit à une erreur :",
          "Une remarque importante, si on ne met pas de variable à formater entre les accolades dans une *f-string*, cela conduit à une erreur :\n\n```python\n>>> print(f\"accolades sans variable {}\")\n  File \"<stdin>\", line 1\nSyntaxError: f-string: empty expression not allowed\n```\n\nEnfin, il est important de bien comprendre qu'une *f-string* est indépendante de la fonction `print()`. Si on donne une *f-string* à la fonction `print()`, Python évalue d'abord la *f-string* et c'est la chaîne de caractères qui en résulte qui est affichée à l'écran. Tout comme dans l'instruction `print(5*5)`, c'est d'abord la multiplication (`5*5`) qui est évaluée, puis son résultat qui est affiché à l'écran. On peut s'en rendre compte de la manière suivante dans l'interpréteur :\n\n```python\n>>> f\"{perc_GC:10.3f}\"\n'    47.804'\n>>> type(f\"{perc_GC:10.3f}\")\n<class 'str'>\n```\n\nPython considère le résultat de l'instruction `f\"{perc_GC:10.3f}\"` comme une chaîne de caractères et la fonction `type()` nous le confirme.",
          "Python considère le résultat de l'instruction `f\"{perc_GC:10.3f}\"` comme une chaîne de caractères et la fonction `type()` nous le confirme.\n\n### Expressions dans les *f-strings*\n\nUne fonctionnalité extrêmement puissante des *f-strings* est de supporter des expressions Python au sein des accolades. Ainsi, il est possible d'y mettre directement une opération ou encore un appel à une fonction :\n\n```python\n>>> print(f\"Le résultat de 5 * 5 vaut {5 * 5}\")\nLe résultat de 5 * 5 vaut 25\n>>> print(f\"Résultat d'une opération avec des floats : {(4.1 * 6.7)}\")\nRésultat d'une opération avec des floats : 27.47\n>>> print(f\"Le minimum est {min(1, -2, 4)}\")\nLe minimum est -2\n>>> entier = 2\n>>> print(f\"Le type de {entier} est {type(entier)}\")\nLe type de 2 est <class 'int'>\n```\n\nNous aurons l'occasion de revenir sur cette fonctionnalité au fur et à mesure de ce cours.",
          "Nous aurons l'occasion de revenir sur cette fonctionnalité au fur et à mesure de ce cours.\n\nLes possibilités offertes par les *f-strings* sont nombreuses. Pour vous y retrouver dans les différentes options de formatage, nous vous conseillons de consulter ce [mémo](https://fstring.help/cheat/) (en anglais).\n\n\n## Écriture scientifique\n\nPour les nombres très grands ou très petits, l'écriture formatée permet d'afficher un nombre en notation scientifique (sous forme de puissance de 10) avec la lettre `e` :\n\n```python\n>>> print(f\"{1_000_000_000:e}\")\n1.000000e+09\n>>> print(f\"{0.000_000_001:e}\")\n1.000000e-09\n```\n\nIl est également possible de définir le nombre de chiffres après la virgule. Dans l'exemple ci-dessous, on affiche un nombre avec aucun, 3 et 6 chiffres après la virgule :\n\n```python\n>>> avogadro_number = 6.022_140_76e23\n>>> print(f\"{avogadro_number:.0e}\")\n6e+23\n>>> print(f\"{avogadro_number:.3e}\")\n6.022e+23\n>>> print(f\"{avogadro_number:.6e}\")\n6.022141e+23\n```",
          "```python\n>>> avogadro_number = 6.022_140_76e23\n>>> print(f\"{avogadro_number:.0e}\")\n6e+23\n>>> print(f\"{avogadro_number:.3e}\")\n6.022e+23\n>>> print(f\"{avogadro_number:.6e}\")\n6.022141e+23\n```\n\n\n## Ancienne méthode de formatage des chaînes de caractères\n\n*Conseil* : Pour les débutants, tout ce qui est écrit dans cette rubrique n'est pas à retenir.\n\nDans les premières versions de Python jusqu'à la 2.6, il fallait utiliser l'opérateur `%`, puis de la version 2.7 jusqu'à la 3.5 il était plutôt conseillé d'utiliser la méthode `.format()` (voir la rubrique suivante pour la définition du mot « méthode »). Même si les *f-strings* sont devenues la manière conseillée pour mettre en place l'écriture formatée, ces deux anciennes manières, sont encore pleinement compatibles avec les versions modernes de Python.",
          "Même si elle fonctionne encore, la première manière avec l'opérateur `%` est maintenant clairement déconseillée pour un certain nombre de [raisons](https://docs.python.org/fr/3/library/stdtypes.html?highlight=sprintf#printf-style-string-formatting). Néanmoins, nous rappelons ci-dessous son fonctionnement, car il se peut que vous tombiez dessus dans d'anciens livres ou si vous lisez de vieux programmes Python.\n\nLa deuxième manière avec la méthode `.format()` est encore largement utilisée et reste tout à fait valide. Elle est clairement plus puissante et évite un certain nombre de désagréments par rapport à l'opérateur `%`. Vous la croiserez sans doute très fréquemment dans des programmes et ouvrages récents. Heureusement elle a un fonctionnement relativement proche des *f-strings*, donc vous ne serez pas totalement perdus !\n\nEnfin, nous indiquons à la fin de cette rubrique nos conseils sur quelle méthode utiliser.\n\n### L'opérateur `%`",
          "Enfin, nous indiquons à la fin de cette rubrique nos conseils sur quelle méthode utiliser.\n\n### L'opérateur `%`\n\nOn a vu avec les entiers que l'opérateur `%` ou *modulo* renvoyait le reste d'une division entière. Cet opérateur existe aussi pour les chaînes de caractères mais il met en place l'écriture formatée. En voici un exemple :\n\n```python\n>>> x = 32\n>>> nom = \"John\"\n>>> print(\"%s a %d ans\" % (nom, x))\nJohn a 32 ans\n>>> nb_G = 4500\n>>> nb_C = 2575\n>>> prop_GC = (nb_G + nb_C)/14800\n>>> print(\"On a %d G et %d C -> prop GC = %.2f\" % (nb_G, nb_C, prop_GC))\nOn a 4500 G et 2575 C -> prop GC = 0.48\n```\n\nLa syntaxe est légèrement différente. Le symbole `%` est d'abord appelé dans la chaîne de caractères (dans l'exemple ci-dessus `%d`, `%d` et `%.2f`) pour :",
          "La syntaxe est légèrement différente. Le symbole `%` est d'abord appelé dans la chaîne de caractères (dans l'exemple ci-dessus `%d`, `%d` et `%.2f`) pour :\n\n- Désigner l'endroit où sera placée la variable dans la chaîne de caractères.\n- Préciser le type de variable à formater, `d` pour un entier (`i` fonctionne également) ou `f` pour un *float*.\n- Éventuellement pour indiquer le format voulu. Ici `.2` signifie une précision de deux décimales.\n\nLe signe `%` est rappelé une seconde fois (`% (nb_G, nb_C, prop_GC)`) pour indiquer les variables à formater.\n\n### La méthode `.format()`\n\nDepuis la version 2.7 de Python, la méthode `.format()` (voir la rubrique suivante pour la définition d'une méthode) a apporté une nette amélioration pour mettre en place l'écriture formatée. Celle-ci fonctionne de la manière suivante :",
          "```python\n>>> x = 32\n>>> nom = \"John\"\n>>> print(\"{} a {} ans\".format(nom, x))\nJohn a 32 ans\n>>> nb_G = 4500\n>>> nb_C = 2575\n>>> prop_GC = (nb_G + nb_C)/14800\n>>> print(\"On a {} G et {} C -> prop GC = {:.2f}\".format(nb_G, nb_C, prop_GC))\nOn a 4500 G et 2575 C -> prop GC = 0.48\n```\n\n- Dans la chaîne de caractères, les accolades vides `{}` précisent l'endroit où le contenu de la variable doit être inséré.\n- Juste après la chaîne de caractères, l'instruction `.format(nom, x)` fournit la liste des variables à insérer, d'abord la variable `nom` puis la variable `x`. \n- On peut éventuellement préciser le formatage en mettant un caractère deux-points `:` puis par exemple ici `.2f` qui signifie 2 chiffres après la virgule.\n- La méthode `.format()` agit sur la chaîne de caractères à laquelle elle est attachée par le point.",
          "Tout ce que nous avons vu avec les *f-strings* sur la manière de formatter l'affichage d'une variable (après les `:` au sein des accolades) est identique avec la méthode `.format()`. Par exemple `{:.2f}`, `{:0>6d}`, `{:.6e}`, etc., fonctionneront de la même manière. La différence notable est qu'on ne met pas directement le nom de la variable au sein des accolades. Comme pour l'opérateur `%`, c'est l'emplacement dans les arguments passés à la méthode `.format()` qui dicte quelle variable doit être remplacée. Par exemple, dans `\"{} {} {}\".format(bidule, machin, truc)`, les premières accolades remplaceront la variable `bidule`, les deuxièmes la variable `machin`, les troisièmes la variable `truc`.",
          "Le formattage avec la méthode `.format()` se rapproche de la syntaxe des *f-strings* (accolades, deux-points), mais présente l'inconvénient -- comme avec l'opérateur `%` -- de devoir mettre la liste des variables tout à la fin, alourdissant ainsi la syntaxe. En effet, dans l'exemple avec la proportion de GC, la ligne équivalente avec une *f-string* apparait tout de même plus simple à lire :\n\n```python\n>>> print(f\"On a {nb_G} G et {nb_C} C -> prop GC = {prop_GC:.2f}\")\nOn a 4500 G et 2575 C -> prop GC = 0.48\n```\n\nopen-box-adv",
          "```python\n>>> print(f\"On a {nb_G} G et {nb_C} C -> prop GC = {prop_GC:.2f}\")\nOn a 4500 G et 2575 C -> prop GC = 0.48\n```\n\nopen-box-adv\n\nPour conclure, ces deux anciennes façons de formater une chaîne de caractères avec l'opérateur `%` ou la méthode `.format()` vous sont présentées à titre d'information. La première avec l'opérateur `%` est clairement déconseillée. La deuxième avec la méthode `.format()` est encore tout à fait valable. Si vous débutez Python, nous vous conseillons fortement d'apprendre et d'utiliser les *f-strings*. C'est ce que vous rencontrerez dans la suite de ce cours. Si vous connaissez déjà Python et que vous utilisez la méthode `.format()`, nous vous conseillons de passer aux *f-strings*. Depuis que nous les avons découvertes, aucun retour n'est envisageable pour nous tant elles sont puissantes et plus claires à utiliser !",
          "Enfin, si vous souhaitez aller plus loin, voici deux articles (en anglais) très bien faits sur le site *RealPython*: sur l'[écriture formatée](https://realpython.com/python-string-formatting) et sur les [*f-strings*](https://realpython.com/python-f-strings/)\n\nclose-box-adv\n\n## Note sur le vocabulaire et la syntaxe\n\nRevenons quelques instants sur la notion de **méthode** abordée dans ce chapitre avec `.format()`. En Python, on peut considérer chaque variable comme un objet sur lequel on peut appliquer des méthodes. Une méthode est simplement une fonction qui utilise et/ou agit sur l'objet lui-même, les deux étant connectés par un point. La syntaxe générale est de la forme `objet.méthode()`.\n\nDans l'exemple suivant :\n\n```python\n>>> \"Joe a {} ans\".format(20)\n'Joe a 20 ans'\n```\n\nla méthode `.format()` est liée à `\"Joe a {} ans\"` qui est un objet de type chaîne de caractères. La méthode renvoie une nouvelle chaîne de caractères avec le bon formatage (ici, `'Joe a 20 ans'`).",
          "la méthode `.format()` est liée à `\"Joe a {} ans\"` qui est un objet de type chaîne de caractères. La méthode renvoie une nouvelle chaîne de caractères avec le bon formatage (ici, `'Joe a 20 ans'`).\n\nNous aurons de nombreuses occasions de revoir cette notation `objet.méthode()`.\n\n\n## Exercices\n\n*Conseil* : utilisez l'interpréteur Python pour les exercices 2 à 5.\n\n\n### Affichage dans l'interpréteur et dans un programme\n\nOuvrez l'interpréteur Python et tapez l'instruction `1+1`. Que se passe-t-il ?\n\nÉcrivez la même chose dans un script `test.py` que vous allez créer avec un éditeur de texte. Exécutez ce script en tapant `python test.py` dans un *shell*. Que se passe-t-il ? Pourquoi ? Faites en sorte d'afficher le résultat de l'addition `1+1` en exécutant le script dans un *shell*.\n\n\n### Poly-A\n\nGénérez une chaîne de caractères représentant un brin d'ADN poly-A (c'est-à-dire qui ne contient que des bases A) de 20 bases de longueur, sans taper littéralement toutes les bases.",
          "### Poly-A\n\nGénérez une chaîne de caractères représentant un brin d'ADN poly-A (c'est-à-dire qui ne contient que des bases A) de 20 bases de longueur, sans taper littéralement toutes les bases.\n\n\n### Poly-A et poly-GC\n\nSur le modèle de l'exercice précédent, générez en une ligne de code un brin d'ADN poly-A (AAAA...) de 20 bases suivi d'un poly-GC régulier (GCGCGC...) de 40 bases.\n\n\n### Écriture formatée\n\nEn utilisant l'écriture formatée, affichez en une seule ligne les variables `a`, `b` et `c` dont les valeurs sont respectivement la chaîne de caractères `\"salut\"`, le nombre entier `102` et le *float* `10.318`. La variable `c` sera affichée avec 2 décimales.\n\n\n### Écriture formatée 2\n\nDans un script `percGC.py`, calculez un pourcentage de GC avec l'instruction suivante :\n\n`perc_GC = ((4500 + 2575)/14800)*100`",
          "### Écriture formatée 2\n\nDans un script `percGC.py`, calculez un pourcentage de GC avec l'instruction suivante :\n\n`perc_GC = ((4500 + 2575)/14800)*100`\n\nEnsuite, affichez le contenu de la variable `perc_GC` à l'écran avec 0, 1, 2 puis 3 décimales sous forme arrondie en utilisant l'écriture formatée et les *f-strings*. On souhaite que le programme affiche la sortie suivante :\n\n```text\nLe pourcentage de GC est 48     %\nLe pourcentage de GC est 47.8   %\nLe pourcentage de GC est 47.80  %\nLe pourcentage de GC est 47.804 %\n```"
         ],
         "marker": {
          "color": 1,
          "colorscale": [
           [
            0,
            "#440154"
           ],
           [
            0.1111111111111111,
            "#482878"
           ],
           [
            0.2222222222222222,
            "#3e4989"
           ],
           [
            0.3333333333333333,
            "#31688e"
           ],
           [
            0.4444444444444444,
            "#26828e"
           ],
           [
            0.5555555555555556,
            "#1f9e89"
           ],
           [
            0.6666666666666666,
            "#35b779"
           ],
           [
            0.7777777777777778,
            "#6ece58"
           ],
           [
            0.8888888888888888,
            "#b5de2b"
           ],
           [
            1,
            "#fde725"
           ]
          ],
          "opacity": 0.8,
          "size": 5
         },
         "mode": "markers",
         "name": "Affichage",
         "type": "scatter3d",
         "x": [
          0.024602879560722588,
          0.1388655681233343,
          0.171964926891132,
          0.2889450451367363,
          0.32191479576156357,
          0.3250446577984859,
          0.3291009345452451,
          0.33773232871021847,
          0.4969287512582874,
          0.4422143914309633,
          0.4665182705855518,
          0.42318288700552414,
          0.3386592672988308,
          0.4162357622673455,
          0.5347998849863937,
          0.4048874901911374,
          0.3197082687251081,
          0.3006409016914391,
          0.4358612188456685,
          0.35010638870258975,
          0.32829635613450314,
          0.4018565370663623,
          0.4147897124054015,
          0.388519972866369,
          0.46674292241906584,
          0.46358317871001076,
          0.2700086530798403,
          0.1441732654235471,
          0.15246136245288816,
          0.3499673312445188
         ],
         "y": [
          -0.008120174632583018,
          -0.06133291414119984,
          -0.04007834919686302,
          0.06849376462678752,
          0.05078401311491109,
          0.017407424153207673,
          -0.03334889565138034,
          0.02655890131463781,
          0.06602207632038694,
          0.08267123206088911,
          0.06532656848377072,
          0.09855157650865672,
          0.07953140653691214,
          0.1179830834616547,
          0.05358966546830183,
          0.002458307953487078,
          -0.04676728827937236,
          0.0758980519988771,
          0.07749618170350583,
          0.05629885608302704,
          0.03205940417293732,
          0.044137559233391715,
          0.048214199659582305,
          0.03614222466792514,
          0.09410080957932265,
          0.12809278823476886,
          -0.004210049841486531,
          0.04311741442093951,
          0.030069259940256075,
          0.061419790544436935
         ],
         "z": [
          -0.03284447675697062,
          0.04789988414975875,
          0.04833806347157638,
          0.07201444601053711,
          -0.04962593092555338,
          -0.018554535560211683,
          -0.018706465498690435,
          0.04724363988733195,
          0.08739483245771489,
          0.08801210819378827,
          0.10190768811745414,
          0.16756473209620237,
          0.14531442159349067,
          0.10341045392035728,
          0.08484145902657778,
          -0.03919660795772571,
          0.02424674335074459,
          0.056272530247059985,
          0.08356534793503959,
          0.048172705871692,
          0.09873780224450461,
          -0.00876484764478009,
          0.07043150548812849,
          0.037359662436299075,
          0.08068397285712677,
          0.03874526004400646,
          -0.008326810016695095,
          0.09742082878372336,
          0.09427434936989386,
          0.04046506959313457
         ]
        },
        {
         "hoverinfo": "text",
         "hovertext": [
          "# Listes\n\n## Définition\n\nUne **liste** est une structure de données qui contient une série de valeurs. Python autorise la construction de liste contenant des valeurs de types différents (par exemple entier et chaîne de caractères), ce qui leur confère une grande flexibilité. Une liste est déclarée par une série de valeurs (n'oubliez pas les guillemets, simples ou doubles, s'il s'agit de chaînes de caractères) séparées par des **virgules**, et le tout encadré par des **crochets**. En voici quelques exemples :\n\n```python\n>>> animaux = [\"girafe\", \"tigre\", \"singe\", \"souris\"]\n>>> tailles = [5, 2.5, 1.75, 0.15]\n>>> mixte = [\"girafe\", 5, \"souris\", 0.15]\n>>> animaux\n['girafe', 'tigre', 'singe', 'souris']\n>>> tailles\n[5, 2.5, 1.75, 0.15]\n>>> mixte\n['girafe', 5, 'souris', 0.15]\n```\n\nLorsque l'on affiche une liste, Python la restitue telle qu'elle a été saisie.\n\n\n## Utilisation",
          "Lorsque l'on affiche une liste, Python la restitue telle qu'elle a été saisie.\n\n\n## Utilisation\n\nUn des gros avantages d'une liste est que vous pouvez appeler ses éléments par leur position. Ce numéro est appelé **indice** (ou *index*) de la liste.\n\n```text\nliste  : [\"girafe\", \"tigre\", \"singe\", \"souris\"]\nindice :        0        1        2         3\n```\n\nSoyez très **attentif** au fait que les indices d'une liste de *n* éléments commencent à *0* et se terminent à *n-1*. Voyez l'exemple suivant :\n\n```python\n>>> animaux = [\"girafe\", \"tigre\", \"singe\", \"souris\"]\n>>> animaux[0]\n'girafe'\n>>> animaux[1]\n'tigre'\n>>> animaux[3]\n'souris'\n```\n\nPar conséquent, si on appelle l'élément d'indice 4 de notre liste, Python renverra un message d'erreur :\n\n```python\n>>> animaux[4]\nTraceback (innermost last):\n  File \"<stdin>\", line 1, in ?\nIndexError: list index out of range\n```\n\nN'oubliez pas ceci ou vous risquez d'obtenir des bugs inattendus !\n\n\n## Opération sur les listes",
          "N'oubliez pas ceci ou vous risquez d'obtenir des bugs inattendus !\n\n\n## Opération sur les listes\n\nTout comme les chaînes de caractères, les listes supportent l'opérateur `+` de concaténation, ainsi que l'opérateur `*` pour la duplication :\n\n```python\n>>> ani1 = [\"girafe\", \"tigre\"]\n>>> ani2 = [\"singe\", \"souris\"]\n>>> ani1 + ani2\n['girafe', 'tigre', 'singe', 'souris']\n>>> ani1 * 3\n['girafe', 'tigre', 'girafe', 'tigre', 'girafe', 'tigre']\n```\n\nL'opérateur `+` est très pratique pour concaténer deux listes.\n\nVous pouvez aussi utiliser la méthode `.append()` lorsque vous souhaitez ajouter un seul élément à la fin d'une liste.\n\nDans l'exemple suivant nous allons créer une liste vide :\n\n```python\n>>> a = []\n>>> a\n[]\n```\n\npuis lui ajouter deux éléments, l'un après l'autre, d'abord avec la concaténation :\n\n```python\n>>> a = a + [15]\n>>> a\n[15]\n>>> a = a + [-5]\n>>> a\n[15, -5]\n```\n\npuis avec la méthode `.append()` :",
          "puis lui ajouter deux éléments, l'un après l'autre, d'abord avec la concaténation :\n\n```python\n>>> a = a + [15]\n>>> a\n[15]\n>>> a = a + [-5]\n>>> a\n[15, -5]\n```\n\npuis avec la méthode `.append()` :\n\n```python\n>>> a.append(13)\n>>> a\n[15, -5, 13]\n>>> a.append(-3)\n>>> a\n[15, -5, 13, -3]\n```\n\nDans l'exemple ci-dessus, nous ajoutons des éléments à une liste en utilisant l'opérateur de concaténation `+` ou la méthode `.append()`. Nous vous conseillons dans ce cas précis d'utiliser la méthode `.append()` dont la syntaxe est plus élégante.\n\nNous reverrons en détail la méthode `.append()` dans le chapitre 11 *Plus sur les listes*.\n\n\n## Indiçage négatif\n\nLa liste peut également être indexée avec des nombres négatifs selon le modèle suivant :\n\n```text\nliste          : [\"girafe\", \"tigre\", \"singe\", \"souris\"]\nindice positif :        0        1        2         3\nindice négatif :       -4       -3       -2        -1\n```\n\nou encore :",
          "```text\nliste          : [\"girafe\", \"tigre\", \"singe\", \"souris\"]\nindice positif :        0        1        2         3\nindice négatif :       -4       -3       -2        -1\n```\n\nou encore :\n\n```text\nliste          : [\"A\", \"B\", \"C\", \"D\", \"E\", \"F\"]\nindice positif :   0    1    2    3    4    5\nindice négatif :  -6   -5   -4   -3   -2   -1\n```\n\nLes indices négatifs reviennent à compter à partir de la fin. Leur principal avantage est que vous pouvez accéder au dernier élément d'une liste à l'aide de l'indice `-1` sans pour autant connaître la longueur de cette liste. L'avant-dernier élément a lui l'indice `-2`, l'avant-avant dernier l'indice `-3`, etc.\n\n```python\n>>> animaux = [\"girafe\", \"tigre\", \"singe\", \"souris\"]\n>>> animaux[-1]\n'souris'\n>>> animaux[-2]\n'singe'\n```\n\nPour accéder au premier élément de la liste avec un indice négatif, il faut par contre connaître le bon indice :\n\n```python\n>>> animaux[-4]\n'girafe'\n```\n\nDans ce cas, on utilise plutôt `animaux[0]`.\n\n\n## Tranches",
          "```python\n>>> animaux[-4]\n'girafe'\n```\n\nDans ce cas, on utilise plutôt `animaux[0]`.\n\n\n## Tranches\n\nUn autre avantage des listes est la possibilité de sélectionner une partie d'une liste en utilisant un indiçage construit sur le modèle `[m:n+1]` pour récupérer tous les éléments, du émième au énième (de l'élément `m` inclus à l'élément `n+1` exclu). On dit alors qu'on récupère une **tranche** de la liste, par exemple :\n\n```python\n>>> animaux = [\"girafe\", \"tigre\", \"singe\", \"souris\"]\n>>> animaux[0:2]\n['girafe', 'tigre']\n>>> animaux[0:3]\n['girafe', 'tigre', 'singe']\n>>> animaux[0:]\n['girafe', 'tigre', 'singe', 'souris']\n>>> animaux[:]\n['girafe', 'tigre', 'singe', 'souris']\n>>> animaux[1:]\n['tigre', 'singe', 'souris']\n>>> animaux[1:-1]\n['tigre', 'singe']\n```\n\nNotez que lorsqu'aucun indice n'est indiqué à gauche ou à droite du symbole deux-points, Python prend par défaut tous les éléments depuis le début ou tous les éléments jusqu'à la fin respectivement.",
          "Notez que lorsqu'aucun indice n'est indiqué à gauche ou à droite du symbole deux-points, Python prend par défaut tous les éléments depuis le début ou tous les éléments jusqu'à la fin respectivement.\n\nOn peut aussi préciser le pas en ajoutant un symbole deux-points supplémentaire et en indiquant le pas par un entier.\n\n```python\n>>> animaux = [\"girafe\", \"tigre\", \"singe\", \"souris\"]\n>>> animaux[0:3:2]\n['girafe', 'singe']\n>>> x = [0, 1, 2, 3, 4, 5, 6, 7, 8, 9]\n>>> x\n[0, 1, 2, 3, 4, 5, 6, 7, 8, 9]\n>>> x[::1]\n[0, 1, 2, 3, 4, 5, 6, 7, 8, 9]\n>>> x[::2]\n[0, 2, 4, 6, 8]\n>>> x[::3]\n[0, 3, 6, 9]\n>>> x[1:6:3]\n[1, 4]\n```\n\nFinalement, on se rend compte que l'accès au contenu d'une liste fonctionne sur le modèle `liste[début:fin:pas]`.\n\n\n## Fonction `len()`\n\nL'instruction `len()` vous permet de connaître la longueur d'une liste, c'est-à-dire le nombre d'éléments que contient la liste. Voici un exemple d'utilisation :",
          "## Fonction `len()`\n\nL'instruction `len()` vous permet de connaître la longueur d'une liste, c'est-à-dire le nombre d'éléments que contient la liste. Voici un exemple d'utilisation :\n\n```python\n>>> animaux = [\"girafe\", \"tigre\", \"singe\", \"souris\"]\n>>> len(animaux)\n4\n>>> len([1, 2, 3, 4, 5, 6, 7, 8])\n8\n```\n\n\n## Les fonctions `range()` et `list()`\n\nL'instruction `range()` est une fonction spéciale en Python qui  génère des nombres entiers compris dans un intervalle. Lorsqu'elle est utilisée en combinaison avec la fonction `list()`, on obtient une liste d'entiers. Par exemple :\n\n```python\n>>> list(range(10))\n[0, 1, 2, 3, 4, 5, 6, 7, 8, 9]\n```\n\nLa commande `list(range(10))` a généré une liste contenant tous les nombres entiers de 0 inclus à 10 **exclu**. Nous verrons l'utilisation de la fonction `range()` toute seule dans le chapitre 5 *Boucles et comparaisons*.",
          "Dans l'exemple ci-dessus, la fonction `range()` a pris un argument, mais elle peut également prendre deux ou trois arguments, voyez plutôt :\n\n```python\n>>> list(range(0, 5))\n[0, 1, 2, 3, 4]\n>>> list(range(15, 20))\n[15, 16, 17, 18, 19]\n>>> list(range(0, 1000, 200))\n[0, 200, 400, 600, 800]\n>>> list(range(2, -2, -1))\n[2, 1, 0, -1]\n```\n\nL'instruction `range()` fonctionne sur le modèle `range([début,] fin[, pas])`. Les arguments entre crochets sont optionnels. Pour obtenir une liste de nombres entiers, il faut l'utiliser systématiquement avec la fonction `list()`.\n\nEnfin, prenez garde aux arguments optionnels par défaut (`0` pour `début` et `1` pour `pas`) :\n\n```python\n>>> list(range(10,0))\n[]\n```",
          "Enfin, prenez garde aux arguments optionnels par défaut (`0` pour `début` et `1` pour `pas`) :\n\n```python\n>>> list(range(10,0))\n[]\n```\n\nIci la liste est vide car Python a pris la valeur du pas par défaut qui est de 1. Ainsi, si on commence à 10 et qu'on avance par pas de 1, on ne pourra jamais atteindre 0. Python génère ainsi une liste vide. Pour éviter ça, il faudrait, par exemple, préciser un pas de -1 pour obtenir une liste d'entiers décroissants :\n\n```python\n>>> list(range(10,0,-1))\n[10, 9, 8, 7, 6, 5, 4, 3, 2, 1]\n```\n\n## Listes de listes\n\nPour finir, sachez qu'il est tout à fait possible de construire des listes de listes. Cette fonctionnalité peut parfois être très pratique. Par exemple :\n\n```python\n>>> enclos1 = [\"girafe\", 4]\n>>> enclos2 = [\"tigre\", 2]\n>>> enclos3 = [\"singe\", 5]\n>>> zoo = [enclos1, enclos2, enclos3]\n>>> zoo\n[['girafe', 4], ['tigre', 2], ['singe', 5]]\n```",
          "```python\n>>> enclos1 = [\"girafe\", 4]\n>>> enclos2 = [\"tigre\", 2]\n>>> enclos3 = [\"singe\", 5]\n>>> zoo = [enclos1, enclos2, enclos3]\n>>> zoo\n[['girafe', 4], ['tigre', 2], ['singe', 5]]\n```\n\nDans cet exemple, chaque sous-liste contient une catégorie d'animal et le nombre d'animaux pour chaque catégorie.\n\nPour accéder à un élément de la liste, on utilise l'indiçage habituel :\n\n```python\n>>> zoo[1]\n['tigre', 2]\n```\n\nPour accéder à un élément de la sous-liste, on utilise un double indiçage :\n\n```python\n>>> zoo[1][0]\n'tigre'\n>>> zoo[1][1]\n2\n```\n\nOn verra un peu plus loin qu'il existe en Python des dictionnaires qui sont également très pratiques pour stocker de l'information structurée. On verra aussi qu'il existe un module nommé *NumPy* qui permet de créer des listes ou des tableaux de nombres (vecteurs et matrices) et de les manipuler.\n\n## Minimum, maximum et somme d'une liste",
          "## Minimum, maximum et somme d'une liste\n\nLes fonctions `min()`, `max()` et `sum()` renvoient respectivement le minimum, le maximum et la somme d'une liste passée en argument.\n\n```python\n>>> liste = list(range(10))\n>>> liste\n[0, 1, 2, 3, 4, 5, 6, 7, 8, 9]\n>>> sum(liste)\n45\n>>> min(liste)\n0\n>>> max(liste)\n9\n```\n\nMême si en théorie ces fonctions peuvent prendre en argument une liste de *strings*, on les utilisera la plupart du temps avec des types numériques (liste d'entiers et / ou de *floats*). \n\nNous avions déjà croisé `min()`, `max()` dans le chapitre 2 *Variables*. On avait vu que ces deux fonctions pouvaient prendre plusieurs arguments entiers et / ou *floats*, par exemple :\n\n```python\n>>> min(3, 4)\n3\n```\n\nAttention toutefois à ne pas mélanger entiers et *floats* d'une part avec une liste d'autre part, car cela renvoie une erreur :",
          "```python\n>>> min(3, 4)\n3\n```\n\nAttention toutefois à ne pas mélanger entiers et *floats* d'une part avec une liste d'autre part, car cela renvoie une erreur :\n\n```python\n>>> min(liste, 3, 4)\nTraceback (most recent call last):\n  File \"<stdin>\", line 1, in <module>\nTypeError: '<' not supported between instances of 'int' and 'list'\n```\n\nSoit on passe plusieurs entiers et / ou *floats* en argument, soit on passe une liste unique.\n\n## Exercices\n\n*Conseil* : utilisez l'interpréteur Python.\n\n\n### Jours de la semaine\n\nConstituez une liste `semaine` contenant les 7 jours de la semaine.\n\n1. À partir de cette liste, comment récupérez-vous seulement les 5 premiers jours de la semaine d'une part, et ceux du week-end d'autre part ? Utilisez pour cela l'indiçage.\n2. Cherchez un autre moyen pour arriver au même résultat (*en utilisant un autre indiçage*).\n3. Trouvez deux manières pour accéder au dernier jour de la semaine.\n4. Inversez les jours de la semaine en une commande.\n\n\n### Saisons",
          "### Saisons\n\nCréez 4 listes `hiver`, `printemps`, `ete` et `automne` contenant les mois correspondants à ces saisons. Créez ensuite une liste `saisons` contenant les listes `hiver`, `printemps`, `ete` et `automne`. Prévoyez ce que renvoient les instructions suivantes, puis vérifiez-le dans l'interpréteur :\n\n1. `saisons[2]`\n2. `saisons[1][0]`\n3. `saisons[1:2]`\n4. `saisons[:][1]`. Comment expliquez-vous ce dernier résultat ?\n\n\n### Table de multiplication par 9\n\nAffichez la table de multiplication par 9 en une seule commande avec les instructions `range()` et `list()`.\n\n\n### Nombres pairs\n\nRépondez à la question suivante en une seule commande. Combien y a-t-il de nombres pairs dans l'intervalle `[2, 10000]` inclus ?"
         ],
         "marker": {
          "color": 1,
          "colorscale": [
           [
            0,
            "#440154"
           ],
           [
            0.1111111111111111,
            "#482878"
           ],
           [
            0.2222222222222222,
            "#3e4989"
           ],
           [
            0.3333333333333333,
            "#31688e"
           ],
           [
            0.4444444444444444,
            "#26828e"
           ],
           [
            0.5555555555555556,
            "#1f9e89"
           ],
           [
            0.6666666666666666,
            "#35b779"
           ],
           [
            0.7777777777777778,
            "#6ece58"
           ],
           [
            0.8888888888888888,
            "#b5de2b"
           ],
           [
            1,
            "#fde725"
           ]
          ],
          "opacity": 0.8,
          "size": 5
         },
         "mode": "markers",
         "name": "Listes",
         "type": "scatter3d",
         "x": [
          -0.24913705025788202,
          -0.2543274930239324,
          -0.2172149455308283,
          -0.23944686696791181,
          -0.28074064423712625,
          -0.25108491904188057,
          -0.22963015582976867,
          -0.2640734122896219,
          -0.19536626813790955,
          -0.29626080400503857,
          -0.2894399498100807,
          -0.2136829127923837,
          -0.21471960751602945,
          -0.23307818092369118
         ],
         "y": [
          -0.19001765455483266,
          -0.1573455993857062,
          -0.12728930248276468,
          -0.15350137232056962,
          -0.13405114447641917,
          -0.1771449566457973,
          -0.19620135151015156,
          -0.20513217896470848,
          -0.2757328691983465,
          -0.20707911990881783,
          -0.19927875419538643,
          -0.2844974993919806,
          -0.21562971868929362,
          -0.12661057572512985
         ],
         "z": [
          0.3541312925850284,
          0.37744547815381363,
          0.3565508537620115,
          0.4404507717874559,
          0.46096016887412744,
          0.4570897782648427,
          0.39029342260423133,
          0.3123534463400778,
          0.12949917206856296,
          0.29010619817320643,
          0.4178735325079936,
          0.2465567083572028,
          0.2626152804584501,
          0.20011028877141146
         ]
        },
        {
         "hoverinfo": "text",
         "hovertext": [
          "# Fonctions\n\n## Principe et généralités\n\nEn programmation, les **fonctions** sont très utiles pour réaliser plusieurs fois la même opération au sein d'un programme. Elles rendent également le code plus lisible et plus clair en le fractionnant en blocs logiques.\n\nVous connaissez déjà certaines fonctions Python. Par exemple `math.cos(angle)` du module `math` renvoie le cosinus de la variable `angle` exprimé en radian. Vous connaissez aussi des fonctions internes à Python comme `range()` ou `len()`. Pour l'instant, une fonction est à vos yeux une sorte de « boîte noire » (voir figure @fig:schema_fonction) :\n\n1. À laquelle vous passez aucune, une ou plusieurs variable(s) entre parenthèses. Ces variables sont appelées **arguments**. Il peut s'agir de n'importe quel type d'objet Python.\n2. Qui effectue une action.\n3. Et qui renvoie un objet Python ou rien du tout.\n\n![Fonctionnement schématique d'une fonction.](img/schema_fonction.png){ #fig:schema_fonction width=90% }",
          "![Fonctionnement schématique d'une fonction.](img/schema_fonction.png){ #fig:schema_fonction width=90% }\n\nPar exemple, si vous appelez la fonction `len()` de la manière suivante :\n\n```python\n>>> len([0, 1, 2])\n3\n```\n\nvoici ce qui se passe :\n\n1. vous appelez `len()` en lui passant une liste en argument (ici la liste `[0, 1, 2]`) ;\n2. la fonction calcule la longueur de cette liste ;\n3. elle vous renvoie un entier égal à cette longueur.\n\nAutre exemple, si vous appelez la méthode `ma_liste.append()` (n'oubliez pas, une **méthode** est une **fonction** qui agit sur l'objet auquel elle est attachée par un point) :\n\n```python\n>>> ma_liste.append(5)\n```\n\n1. Vous passez l'entier `5` en argument ;\n2. la méthode `append()` ajoute l'entier `5` à l'objet `ma_liste` ;\n3. et elle ne renvoie rien.",
          "```python\n>>> ma_liste.append(5)\n```\n\n1. Vous passez l'entier `5` en argument ;\n2. la méthode `append()` ajoute l'entier `5` à l'objet `ma_liste` ;\n3. et elle ne renvoie rien.\n\nAux yeux du programmeur au contraire, une fonction est une portion de code effectuant une suite d'instructions bien particulière. Mais avant de vous présenter la syntaxe et la manière de construire une fonction, revenons une dernière fois sur cette notion de « boîte noire » :\n\n- Une fonction effectue une tâche. Pour cela, elle reçoit éventuellement des arguments et renvoie éventuellement quelque chose. L'algorithme utilisé au sein de la fonction n'intéresse pas directement l'utilisateur. Par exemple, il est inutile de savoir comment la fonction `math.cos()` calcule un cosinus. On a juste besoin de savoir qu'il faut lui passer en argument un angle en radian et qu'elle renvoie le cosinus de cet angle. Ce qui se passe à l'intérieur de la fonction ne regarde que le programmeur.",
          "- Chaque fonction effectue en général une tâche **unique et précise**. Si cela se complique, il est plus judicieux d'écrire plusieurs fonctions (qui peuvent éventuellement s'appeler les unes les autres). Cette **modularité** améliore la qualité générale et la lisibilité du code. Vous verrez qu'en Python, les fonctions présentent une grande flexibilité.",
          "Pour finir sur les généralités, nous avons utilisé dans la Figure @fig:schema_fonction le terme **programme principal** (*main* en anglais) pour désigner l'endroit depuis lequel on appelle une fonction (on verra plus tard que l'on peut en fait appeler une fonction de n'importe où). Le programme principal désigne le code qui est exécuté lorsqu'on lance le script Python, c'est-à-dire toute la suite d'instructions en dehors des fonctions. En général, dans un script Python, on écrit d'abord les fonctions puis le programme principal. Nous aurons l'occasion de revenir sur cette notion de programme principal plus tard dans ce chapitre ainsi que dans le chapitre 12 *Plus sur les fonctions*.\n\n\n## Définition\n\nPour définir une fonction, Python utilise le mot-clé `def`. Si on souhaite que la fonction renvoie quelque chose, il faut utiliser le mot-clé `return`. Par exemple :",
          "## Définition\n\nPour définir une fonction, Python utilise le mot-clé `def`. Si on souhaite que la fonction renvoie quelque chose, il faut utiliser le mot-clé `return`. Par exemple :\n\n```python\n>>> def carre(x):\n...     return x**2\n...\n>>> print(carre(2))\n4\n```\nNotez que la syntaxe de `def` utilise les deux-points comme les boucles `for` et `while` ainsi que les tests `if`, un bloc d’instructions est donc attendu. De même que pour les boucles et les tests, l'**indentation** de ce bloc d'instructions (qu'on appelle le corps de la fonction) est **obligatoire**.\n\nDans l'exemple précédent, nous avons passé un argument à la fonction `carre()` qui nous a renvoyé (ou retourné) une valeur que nous avons immédiatement affichée à l'écran avec l'instruction `print()`. Que veut dire valeur renvoyée ? Et bien cela signifie que cette dernière est récupérable dans une variable :",
          "```python\n>>> res = carre(2)\n>>> print(res)\n4\n```\nIci, le résultat renvoyé par la fonction est stocké dans la variable `res`.\nNotez qu'une fonction ne prend pas forcément un argument et ne renvoie pas forcément une valeur, par exemple :\n\n```python\n>>> def hello():\n...     print(\"bonjour\")\n...\n>>> hello()\nbonjour\n```\n\nDans ce cas la fonction, `hello()` se contente d'afficher la chaîne de caractères `\"bonjour\"` à l'écran. Elle ne prend aucun argument et ne renvoie rien. Par conséquent, cela n'a pas de sens de vouloir récupérer dans une variable le résultat renvoyé par une telle fonction. Si on essaie tout de même, Python affecte la valeur `None` qui signifie *rien* en anglais:\n\n```python\n>>> var = hello()\nbonjour\n>>> print(var)\nNone\n```\n\nCeci n'est pas une faute car Python n'émet pas d'erreur, toutefois cela ne présente, la plupart du temps, guère d'intérêt.\n\n\n## Passage d'arguments",
          "Ceci n'est pas une faute car Python n'émet pas d'erreur, toutefois cela ne présente, la plupart du temps, guère d'intérêt.\n\n\n## Passage d'arguments\n\nLe nombre d'arguments que l'on peut passer à une fonction est variable. Nous avons vu ci-dessus des fonctions auxquelles on passait 0 ou 1 argument. Dans les chapitres précédents, vous avez rencontré des fonctions internes à Python qui prenaient au moins 2 arguments. Souvenez-vous par exemple de `range(1, 10)` ou encore `range(1, 10, 2)`. Le nombre d'argument est donc laissé libre à l'initiative du programmeur qui développe une nouvelle fonction.\n\nUne particularité des fonctions en Python est que vous n'êtes pas obligé de préciser le type des arguments que vous lui passez, dès lors que les opérations que vous effectuez avec ces arguments sont valides. Python est en effet connu comme étant un langage au « typage dynamique », c'est-à-dire qu'il reconnaît pour vous le type des variables au moment de l'exécution. Par exemple :",
          "```python\n>>> def fois(x, y):\n...     return x*y\n...\n>>> fois(2, 3)\n6\n>>> fois(3.1415, 5.23)\n16.430045000000003\n>>> fois(\"to\", 2)\n'toto'\n>>> fois([1,3], 2)\n[1, 3, 1, 3]\n```\n\nL'opérateur `*` reconnaît plusieurs types (entiers, *floats*, chaînes de caractères, listes). Notre fonction `fois()` est donc capable d'effectuer des tâches différentes ! Même si Python autorise cela, méfiez-vous tout de même de cette grande flexibilité qui pourrait conduire à des surprises dans vos futurs programmes. En général, il est plus judicieux que chaque argument ait un type précis (entiers, *floats*, chaînes de caractères, etc) et pas l'un ou l'autre.\n\n\n## Renvoi de résultats\n\nUn énorme avantage en Python est que les fonctions sont capables de renvoyer plusieurs objets à la fois, comme dans cette fraction de code :\n\n```python\n>>> def carre_cube(x):\n...     return x**2, x**3\n...\n>>> carre_cube(2)\n(4, 8)\n```",
          "```python\n>>> def carre_cube(x):\n...     return x**2, x**3\n...\n>>> carre_cube(2)\n(4, 8)\n```\n\nEn réalité Python ne renvoie qu'un seul objet, mais celui-ci peut être séquentiel, c'est-à-dire contenir lui même d'autres objets. Dans notre exemple Python renvoie un objet de type `tuple`, type que nous verrons dans le chapitre 13 *Dictionnaires et tuples* (*grosso modo*, il s'agit d'une sorte de liste avec des propriétés différentes). Notre fonction pourrait tout autant renvoyer une liste :\n\n```python\n>>> def carre_cube2(x):\n...     return [x**2, x**3]\n...\n>>> carre_cube2(3)\n[9, 27]\n```\n\nRenvoyer un *tuple* ou une liste de deux éléments (ou plus) est très pratique en conjonction avec l'**affectation multiple**, par exemple :\n\n```python\n>>> z1, z2 = carre_cube2(3)\n>>> z1\n9\n>>> z2\n27\n```\n\nCela permet de récupérer plusieurs valeurs renvoyées par une fonction et de les affecter à la volée à des variables différentes.\n\n\n## Arguments positionnels et arguments par mot-clé",
          "Cela permet de récupérer plusieurs valeurs renvoyées par une fonction et de les affecter à la volée à des variables différentes.\n\n\n## Arguments positionnels et arguments par mot-clé\n\nJusqu'à maintenant, nous avons systématiquement passé le nombre d'arguments que la fonction attendait. Que se passe-t-il si une fonction attend deux arguments et que nous ne lui en passons qu'un seul ?\n\n```python\n>>> def fois(x, y):\n...     return x*y\n...\n>>> fois(2, 3)\n6\n>>> fois(2)\nTraceback (most recent call last):\n  File \"<stdin>\", line 1, in <module>\nTypeError: fois() missing 1 required positional argument: 'y'\n```\n\nOn constate que passer un seul argument à une fonction qui en attend deux conduit à une erreur.\n\nopen-box-def",
          "On constate que passer un seul argument à une fonction qui en attend deux conduit à une erreur.\n\nopen-box-def\n\nLorsqu'on définit une fonction `def fct(x, y):` les arguments `x` et `y` sont appelés **arguments positionnels** (en anglais *positional arguments*). Il est strictement obligatoire de les préciser lors de l'appel de la fonction. De plus, il est nécessaire de respecter le même ordre lors de l'appel que dans la définition de la fonction. Dans l'exemple ci-dessus, `2` correspondra à `x` et `3` correspondra à `y`. Finalement, tout dépendra de leur position, d'où leur qualification de positionnel.\n\nclose-box-def\n\nMais il est aussi possible de passer un ou plusieurs argument(s) de manière facultative et de leur attribuer une valeur par défaut :\n\n```python\n>>> def fct(x=1):\n...     return x\n...\n>>> fct()\n1\n>>> fct(10)\n10\n```\n\nopen-box-def",
          "```python\n>>> def fct(x=1):\n...     return x\n...\n>>> fct()\n1\n>>> fct(10)\n10\n```\n\nopen-box-def\n\nUn argument défini avec une syntaxe `def fct(arg=val):` est appelé **argument par mot-clé** (en anglais *keyword argument*). Le passage d'un tel argument lors de l'appel de la fonction est facultatif. Ce type d'argument ne doit pas être confondu avec les arguments positionnels présentés ci-dessus, dont la syntaxe est `def fct(arg):`.\n\nclose-box-def\n\nIl est bien sûr possible de passer plusieurs arguments par mot-clé :\n\n```python\n>>> def fct(x=0, y=0, z=0):\n...     return x, y, z\n...\n>>> fct()\n(0, 0, 0)\n>>> fct(10)\n(10, 0, 0)\n>>> fct(10, 8)\n(10, 8, 0)\n>>> fct(10, 8, 3)\n(10, 8, 3)\n```",
          "```python\n>>> def fct(x=0, y=0, z=0):\n...     return x, y, z\n...\n>>> fct()\n(0, 0, 0)\n>>> fct(10)\n(10, 0, 0)\n>>> fct(10, 8)\n(10, 8, 0)\n>>> fct(10, 8, 3)\n(10, 8, 3)\n```\n\nOn observe que pour l'instant, les arguments par mot-clé sont pris dans l'ordre dans lesquels on les passe lors de l'appel. Comment pourrions-nous faire si on souhaitait préciser l'argument par mot-clé `z` et garder les valeurs de `x` et `y` par défaut ? Simplement en  précisant le nom de l'argument lors de l'appel :\n\n```python\n>>> fct(z=10)\n(0, 0, 10)\n```\n\nPython permet même de rentrer les arguments par mot-clé dans un ordre arbitraire :\n\n```python\n>>> fct(z=10, x=3, y=80)\n(3, 80, 10)\n>>> fct(z=10, y=80)\n(0, 80, 10)\n```\n\nQue se passe-t-il lorsque nous avons un mélange d'arguments positionnels et par mot-clé ? Et bien les arguments positionnels doivent toujours être placés avant les arguments par mot-clé :",
          "Que se passe-t-il lorsque nous avons un mélange d'arguments positionnels et par mot-clé ? Et bien les arguments positionnels doivent toujours être placés avant les arguments par mot-clé :\n\n```python\n>>> def fct(a, b, x=0, y=0, z=0):\n...     return a, b, x, y, z\n...\n>>> fct(1, 1)\n(1, 1, 0, 0, 0)\n>>> fct(1, 1, z=5)\n(1, 1, 0, 0, 5)\n>>> fct(1, 1, z=5, y=32)\n(1, 1, 0, 32, 5)\n```\n\nOn peut toujours passer les arguments par mot-clé dans un ordre arbitraire à partir du moment où on précise leur nom. Par contre, si les deux arguments positionnels `a` et `b` ne sont pas passés à la fonction, Python renvoie une erreur.\n\n```python\n>>> fct(z=0)\nTraceback (most recent call last):\n  File \"<stdin>\", line 1, in <module>\nTypeError: fct() missing 2 required positional arguments: 'a' and 'b'\n```\n\nopen-box-adv\n\nPréciser le nom des arguments par mot-clé lors de l'appel d'une fonction est une pratique que nous vous recommandons. Cela les distingue clairement des arguments positionnels.\n\nclose-box-adv",
          "Préciser le nom des arguments par mot-clé lors de l'appel d'une fonction est une pratique que nous vous recommandons. Cela les distingue clairement des arguments positionnels.\n\nclose-box-adv\n\nL'utilisation d'arguments par mot-clé est habituelle en Python. Elle permet de modifier le comportement par défaut de nombreuses fonctions. Par exemple, si on souhaite que la fonction `print()` n'affiche pas un retour à la ligne, on peut utiliser l'argument `end` :\n\n```python\n>>> print(\"Message \", end=\"\")\nMessage >>>\n```\n\nNous verrons, dans le chapitre 20 *Fenêtres graphiques et Tkinter*, que l'utilisation d'arguments par mot-clé est systématique lorsqu'on crée un objet graphique (une fenêtre, un bouton, etc.).\n\n\n## Variables locales et variables globales",
          "## Variables locales et variables globales\n\nLorsqu'on manipule des fonctions, il est essentiel de bien comprendre comment se comportent les variables. Une variable est dite **locale** lorsqu'elle est créée dans une fonction. Elle n'existera et ne sera visible que lors de l'exécution de ladite fonction.\n\nUne variable est dite **globale** lorsqu'elle est créée dans le programme principal. Elle sera visible partout dans le programme.\n\nCeci ne vous paraît pas clair ? Nous allons prendre un exemple simple qui vous aidera à mieux saisir ces concepts. Observez le code suivant :\n\n```python\n# définition d'une fonction carre()\ndef carre(x):\n    y = x**2\n    return y\n\n# programme principal\nz = 5\nresultat = carre(z)\nprint(resultat)\n```",
          "```python\n# définition d'une fonction carre()\ndef carre(x):\n    y = x**2\n    return y\n\n# programme principal\nz = 5\nresultat = carre(z)\nprint(resultat)\n```\n\nPour la suite des explications, nous allons utiliser l'excellent site [*Python Tutor*](http://www.pythontutor.com) qui permet de visualiser l'état des variables au fur et à mesure de l'exécution d'un code Python. Avant de poursuivre, nous vous conseillons de prendre 5 minutes pour tester ce site.\n\nRegardons maintenant ce qui se passe dans le code ci-dessus, étape par étape :\n\n- Étape 1 : Python est prêt à lire la première ligne de code.\n\n![Étape 1.](img/fct_step1.png){ #fig:fct_step1 width=80% }\n\\",
          "- Étape 1 : Python est prêt à lire la première ligne de code.\n\n![Étape 1.](img/fct_step1.png){ #fig:fct_step1 width=80% }\n\\\n\n\n- Étape 2 : Python met en mémoire la fonction `carre()`. Notez qu'il ne l'exécute pas ! La fonction est mise dans un espace de la mémoire nommé *Global frame*, il s'agit de l'espace du programme principal. Dans cet espace, seront stockées toutes les variables *globales* créées dans le programme. Python est maintenant prêt à exécuter le programme principal.\n\n![Étape 2.](img/fct_step2.png){ #fig:fct_step2 width=80% }\n\\\n\n\n- Étape 3 : Python lit et met en mémoire la variable `z`. Celle-ci étant créée dans le programme principal, il s'agira d'une variable *globale*. Ainsi, elle sera également stockée dans le *Global frame*.\n\n![Étape 3.](img/fct_step3.png){ #fig:fct_step3 width=80% }\n\\",
          "![Étape 3.](img/fct_step3.png){ #fig:fct_step3 width=80% }\n\\\n\n\n- Étape 4 : La fonction `carre()` est appelée et on lui passe en argument l'entier `z`. La fonction s'exécute et un nouveau cadre est créé dans lequel *Python Tutor* va indiquer toutes les variables *locales* à la fonction. Notez bien que la variable passée en argument, qui s'appelle `x` dans la fonction, est créée en tant que variable *locale*. On remarquera aussi que les variables *globales* situées dans le *Global frame* sont toujours là.\n\n![Étape 4.](img/fct_step4.png){ #fig:fct_step4 width=80% }\n\\\n\n\n- Étape 5 : Python est maintenant prêt à exécuter chaque ligne de code de la fonction.\n\n![Étape 5.](img/fct_step5.png){ #fig:fct_step5 width=80% }\n\\\n\n\n- Étape 6 : La variable `y` est créée dans la fonction. Celle-ci est donc stockée en tant que variable *locale* à la fonction.\n\n![Étape 6.](img/fct_step6.png){ #fig:fct_step6 width=80% }\n\\",
          "- Étape 6 : La variable `y` est créée dans la fonction. Celle-ci est donc stockée en tant que variable *locale* à la fonction.\n\n![Étape 6.](img/fct_step6.png){ #fig:fct_step6 width=80% }\n\\\n\n\n- Étape 7 : Python s'apprête à renvoyer la variable *locale* `y` au programme principal. *Python Tutor* nous indique le contenu de la valeur renvoyée.\n\n![Étape 7.](img/fct_step7.png){ #fig:fct_step7 width=80% }\n\\\n\n\n- Étape 8 : Python quitte la fonction et la valeur renvoyée par celle-ci est affectée à la variable *globale* `resultat`. Notez bien que lorsque Python quitte la fonction, **l'espace des variables alloué à la fonction est détruit**. Ainsi, toutes les variables créées dans la fonction n'existent plus. On comprend pourquoi elles portent le nom de *locales* puisqu'elles n'existent que lorsque la fonction est exécutée.\n\n![Étape 8.](img/fct_step8.png){ #fig:fct_step8 width=80% }\n\\\n\n\n- Étape 9 : Python affiche le contenu de la variable `resultat` et l'exécution est terminée.",
          "![Étape 8.](img/fct_step8.png){ #fig:fct_step8 width=80% }\n\\\n\n\n- Étape 9 : Python affiche le contenu de la variable `resultat` et l'exécution est terminée.\n\n![Étape 9.](img/fct_step9.png){ #fig:fct_step9 width=80% }\n\\\n\n\nNous espérons que cet exemple guidé facilitera la compréhension des concepts de variables locales et globales. Cela viendra aussi avec la pratique. Nous irons un peu plus loin sur les fonctions dans le chapitre 12. D'ici là, essayez de vous entraîner au maximum avec les fonctions. C'est un concept ardu, mais il est impératif de le maîtriser.\n\nEnfin, comme vous avez pu le constater, *Python Tutor* nous a grandement aidé à comprendre ce qui se passait. N'hésitez pas à l'utiliser sur des exemples ponctuels, ce site vous aidera à visualiser ce qui se passe lorsqu'un code ne fait pas ce que vous attendez.\n\n\n## Principe DRY",
          "## Principe DRY\n\nL'acronyme [DRY](https://www.earthdatascience.org/courses/intro-to-earth-data-science/write-efficient-python-code/intro-to-clean-code/dry-modular-code/) signifie *Don't Repeat Yourself*. Les fonctions permettent de satisfaire ce principe en évitant la duplication de code.\nEn effet, plus un code est dupliqué plusieurs fois dans un programme, plus il sera source d'erreurs, notamment lorsqu'il faudra le faire évoluer.\n\nConsidérons par exemple le code suivant qui convertit plusieurs températures des degrés Fahrenheit en degrés Celsius :\n\n```python\n>>> temp_in_fahrenheit = 60\n>>> (temp_in_fahrenheit - 32) * (5/8)\n17.5\n>>> temp_in_fahrenheit = 80\n>>> (temp_in_fahrenheit - 32) * (5/8)\n30.0\n>>> temp_in_fahrenheit = 100\n>>> (temp_in_fahrenheit - 32) * (5/8)\n42.5\n```\n\nMalheureusement il y a une erreur dans la formule de conversion. En effet la formule exacte est :\n\n$$\n{\\rm temp\\_celsius} = ({\\rm temp\\_fahrenheit} - 32) \\times \\frac{5}{9}\n$$",
          "Malheureusement il y a une erreur dans la formule de conversion. En effet la formule exacte est :\n\n$$\n{\\rm temp\\_celsius} = ({\\rm temp\\_fahrenheit} - 32) \\times \\frac{5}{9}\n$$\n\nIl faut alors reprendre les lignes 2, 5 et 8 précédentes et les corriger. Cela n'est pas efficace, surtout si le même code est utilisé à différents endroits dans le programme.\n\nEn écrivant qu'une seule fois la formule de conversion dans une fonction, on applique le principe DRY :\n\n```python\n>>> def convert_fahrenheit_to_celsius(temperature):\n...     return (temperature - 32) * (5/9)\n... \n>>> temp_in_fahrenheit = 60\n>>> convert_fahrenheit_to_celsius(temp_in_fahrenheit)\n15.555555555555557\n>>> temp_in_fahrenheit = 80\n>>> convert_fahrenheit_to_celsius(temp_in_fahrenheit)\n26.666666666666668\n>>> temp_in_fahrenheit = 100\n>>> convert_fahrenheit_to_celsius(temp_in_fahrenheit)\n37.77777777777778\n```",
          "Et s'il y a une erreur dans la formule, il suffira de le corriger qu'une seule fois, dans la fonction `convert_fahrenheit_to_celsius()`.\n\n## Exercices\n\n*Conseil* : pour le premier exercice, utilisez *Python Tutor*. Pour les exercices suivants, créez des scripts puis exécutez-les dans un *shell*.\n\n\n### Carré et factorielle\n\nReprenez l'exemple précédent à l'aide du site [*Python Tutor*](http://www.pythontutor.com) :\n\n```python\n# définition d'une fonction carre()\ndef carre(x):\n    y = x**2\n    return y\n\n# programme principal\nz = 5\nresultat = carre(z)\nprint(resultat)\n```\n\nAnalysez ensuite le code suivant et tentez de prédire sa sortie :\n\n```python\ndef calc_factorielle(n):\n    fact = 1\n    for i in range(2, n+1):\n        fact = fact * i\n    return fact\n\n# programme principal\nnb = 4\nfactorielle_nb = calc_factorielle(nb)\nprint(f\"{nb}! = {factorielle_nb}\")\nnb2 = 10\nprint(f\"{nb2}! = {calc_factorielle(nb2)}\")\n```",
          "# programme principal\nnb = 4\nfactorielle_nb = calc_factorielle(nb)\nprint(f\"{nb}! = {factorielle_nb}\")\nnb2 = 10\nprint(f\"{nb2}! = {calc_factorielle(nb2)}\")\n```\n\nTestez ensuite cette portion de code avec *Python Tutor* en cherchant à bien comprendre chaque étape.\nAvez-vous réussi à prédire la sortie correctement ?\n\nopen-box-rem\n\nUne remarque concernant l'utilisation des *f-strings* que nous avions vues dans le chapitre 3 *Affichage*. On voit à nouveau une possibilité puissante des *f-strings* dans l'instruction `f\"{nb2}! = {calc_factorielle(nb2)}\"` : il est possible de mettre directement au sein des accolades un appel à une fonction (ici `{calc_factorielle(nb2)}`) ! Ainsi, pas besoin de créer une variable intermédiaire dans laquelle on stocke ce que retourne la fonction. \n\nclose-box-rem\n\n### Puissance\n\nCréez une fonction `calc_puissance(x, y)` qui renvoie $x^y$ en utilisant l'opérateur `**`. Pour rappel :\n\n```python\n>>> 2**2\n4\n>>> 2**3\n8\n>>> 2**4\n16\n```",
          "close-box-rem\n\n### Puissance\n\nCréez une fonction `calc_puissance(x, y)` qui renvoie $x^y$ en utilisant l'opérateur `**`. Pour rappel :\n\n```python\n>>> 2**2\n4\n>>> 2**3\n8\n>>> 2**4\n16\n```\n\nDans le programme principal, calculez et affichez à l'écran $2^i$ avec $i$ variant de 0 à 20 inclus. On souhaite que le résultat soit présenté avec le formatage suivant :\n\n```text\n2^ 0 =       1\n2^ 1 =       2\n2^ 2 =       4\n[...]\n2^20 = 1048576\n```\n\n### Pyramide\n\nReprenez l'exercice du chapitre 5 *Boucles et comparaisons* qui dessine une pyramide.\n\nDans un script `pyra.py`, créez une fonction `gen_pyramide()` à laquelle vous passez un nombre entier `N` et qui renvoie une pyramide de $N$ lignes sous forme de chaîne de caractères. Le programme principal demandera à l'utilisateur le nombre de lignes souhaitées (utilisez pour cela la fonction `input()`) et affichera la pyramide à l'écran.\n\n\n### Nombres premiers\n\nReprenez l'exercice du chapitre 6 *Tests* sur les nombres premiers.",
          "### Nombres premiers\n\nReprenez l'exercice du chapitre 6 *Tests* sur les nombres premiers.\n\nCréez une fonction `est_premier()` qui prend comme argument un nombre entier positif *n* (supérieur à 2) et qui renvoie le booléen `True` si *n* est premier et `False` si *n* n'est pas premier. Déterminez tous les nombres premiers de 2 à 100. On souhaite avoir une sortie similaire à celle-ci :\n\n```text\n  2 est premier\n  3 est premier\n  4 n'est pas premier\n[...]\n100 n'est pas premier\n```\n\n\n### Séquence complémentaire\n\nCréez une fonction `seq_comp()` qui prend comme argument une liste de bases et qui renvoie la séquence complémentaire d'une séquence d'ADN sous forme de liste.\n\nDans le programme principal, à partir de la séquence d'ADN \n`seq = [\"A\", \"T\", \"C\", \"G\", \"A\", \"T\", \"C\", \"G\", \"A\", \"T\", \"C\"]` \naffichez `seq` et sa séquence complémentaire (en utilisant votre fonction `seq_comp()`).\n\nRappel : la séquence complémentaire s'obtient en remplaçant A par T, T par A, C par G et G par C.",
          "Rappel : la séquence complémentaire s'obtient en remplaçant A par T, T par A, C par G et G par C.\n\n\n### Distance 3D\n\nCréez une fonction `calc_distance_3D()` qui calcule la distance euclidienne en trois dimensions entre deux atomes. Testez votre fonction sur les 2 points `A(0,0,0)` et `B(1,1,1)`. Trouvez-vous bien $\\sqrt{3}$ ?\n\nOn rappelle que la distance euclidienne *d* entre deux points A et B de coordonnées cartésiennes respectives $(x_A, y_A, z_A)$ et $(x_B, y_B, z_B)$ se calcule comme suit :\n\n$$\nd = \\sqrt{(x_B - x_A)^2 + (y_B - y_A)^2 + (z_B - z_A)^2}\n$$\n\n\n### Distribution et statistiques\n\nCréez une fonction `gen_distrib()` qui prend comme argument trois entiers : *debut*, *fin* et *n*. La fonction renverra une liste de $n$ *floats* aléatoires entre *debut* et *fin*. Pour générer un nombre aléatoire dans un intervalle donné, utilisez la fonction `uniform()` du module *random* dont voici quelques exemple d'utilisation :",
          "```python\n>>> import random\n>>> random.uniform(1, 10)\n8.199672607202174\n>>> random.uniform(1, 10)\n2.607528561528022\n>>> random.uniform(1, 10)\n9.000404025130946\n```\n\nAvec la fonction `random.uniform()`, les bornes passées en argument sont incluses, c'est-à-dire qu'ici, le nombre aléatoire renvoyé est dans l'intervalle [1, 10].\n\nCréez une autre fonction `calc_stat()` qui prend en argument une liste de *floats* et qui renvoie une liste de trois éléments contenant respectivement le minimum, le maximum et la moyenne de la liste.\n\nDans le programme principal, générez 20 listes aléatoires de 100 *floats* compris entre 0 et 100 et affichez le minimum (`min()`), le maximum (`max()`) et la moyenne pour chacune d'entre elles. La moyenne pourra être calculée avec les fonctions `sum()` et `len()`.",
          "Pour chacune des 20 listes, affichez les statistiques (min, max, et moyenne) avec deux chiffres après la virgule :\n```text\nListe  1 : min = 0.17 ; max = 99.72 ; moyenne = 57.38\nListe  2 : min = 1.25 ; max = 99.99 ; moyenne = 47.41\n[...]\nListe 19 : min = 1.05 ; max = 99.36 ; moyenne = 49.43\nListe 20 : min = 1.33 ; max = 97.63 ; moyenne = 46.53\n\n```\n\nLes écarts sur les statistiques entre les différentes listes sont-ils importants ? Relancez votre script avec des listes de 1000 éléments, puis 10 000 éléments. Les écarts changent-ils quand le nombre d'éléments par liste augmente ?\n\n\n### Distance à l'origine (exercice +++)\n\nEn reprenant votre fonction de calcul de distance euclidienne en 3D `calc_distance_3D()`, faites-en une version pour deux dimensions que vous appellerez `calc_distance_2D()`.",
          "En reprenant votre fonction de calcul de distance euclidienne en 3D `calc_distance_3D()`, faites-en une version pour deux dimensions que vous appellerez `calc_distance_2D()`.\n\nCréez une autre fonction `calc_dist2ori()` à laquelle vous passez en argument deux listes de *floats* `list_x` et `list_y` représentant les coordonnées d'une fonction mathématique (par exemple $x$ et $sin(x)$). Cette fonction renverra une liste de *floats* représentant la distance entre chaque point de la fonction et l'origine (de coordonnées $(0,0)$).\n\nLa figure @fig:sin2ori montre un exemple sur quelques points de la fonction $sin(x)$ (courbe en trait épais). Chaque trait pointillé représente la distance que l'on cherche à calculer entre les points de la courbe et l'origine du repère de coordonnées (0, 0).\n\n![Illustration de la distance à l'origine.](img/sin2ori.png){ #fig:sin2ori width=60% }",
          "![Illustration de la distance à l'origine.](img/sin2ori.png){ #fig:sin2ori width=60% }\n\nVotre programme générera un fichier `sin2ori.dat` qui contiendra deux colonnes : la première représente les $x$, la seconde la distance entre chaque point de la fonction $sin(x)$ à l'origine.\n\nEnfin, pour visualiser votre résultat, ajoutez le code suivant tout à la fin de votre script :\n\n```python\n# création d'une image pour la visualisation du résultat\nimport matplotlib.pyplot as plt\n\nx = []\ny = []\nwith open(\"sin2ori.dat\", \"r\") as f_in:\n    for line in f_in:\n        coords = line.split()\n        x.append(float(coords[0]))\n        y.append(float(coords[1]))\nplt.figure(figsize=(8,8))\nplt.plot(x, y)\nplt.xlabel(\"x\")\nplt.ylabel(\"Distance de sin(x)à l'origine\")\nplt.savefig(\"sin2ori.png\")\n```\n\nOuvrez l'image `sin2ori.png`.\n\nopen-box-rem\n\nLe module *matplotlib* sera expliqué en détail dans le chapitre 17 *Quelques modules d'intérêt en bioinformatique*.\n\nclose-box-rem"
         ],
         "marker": {
          "color": 1,
          "colorscale": [
           [
            0,
            "#440154"
           ],
           [
            0.1111111111111111,
            "#482878"
           ],
           [
            0.2222222222222222,
            "#3e4989"
           ],
           [
            0.3333333333333333,
            "#31688e"
           ],
           [
            0.4444444444444444,
            "#26828e"
           ],
           [
            0.5555555555555556,
            "#1f9e89"
           ],
           [
            0.6666666666666666,
            "#35b779"
           ],
           [
            0.7777777777777778,
            "#6ece58"
           ],
           [
            0.8888888888888888,
            "#b5de2b"
           ],
           [
            1,
            "#fde725"
           ]
          ],
          "opacity": 0.8,
          "size": 5
         },
         "mode": "markers",
         "name": "Fonctions",
         "type": "scatter3d",
         "x": [
          -0.15111364681142925,
          -0.21586192032587675,
          -0.20706403303621895,
          -0.07364235534261881,
          -0.111507055881893,
          -0.10286672455648568,
          -0.10814851017403505,
          -0.09717338673011017,
          -0.05594478084324134,
          -0.1289116375924312,
          -0.08981639056851887,
          -0.04815719599028903,
          -0.028527804898144205,
          0.014798231360872117,
          -0.003675461675989591,
          -0.017075324294569774,
          -0.10162104835012672,
          -0.1518481671770359,
          -0.1382818503968296,
          -0.13212916437829217,
          -0.10544129194214587,
          -0.08415807351368798,
          0.016366095727193938,
          0.075476981897244,
          -0.09208776147572917,
          -0.050362026895805795,
          -0.1440087259817946,
          -0.12510302645255994,
          -0.12047234555996218,
          -0.11337946811134786,
          -0.2188597609942691,
          -0.27050983316462285,
          -0.15758775624922394
         ],
         "y": [
          -0.20319219985353149,
          -0.24220802296380817,
          -0.22714843969435755,
          -0.14812182085784562,
          -0.15180564009022707,
          -0.19081234373467434,
          -0.24225964858623933,
          -0.26994635679993556,
          -0.2512576895664294,
          -0.2825315165494158,
          -0.2594587240844509,
          -0.28379903747357704,
          -0.27634784085528846,
          -0.2875812650389058,
          -0.23994276611446252,
          -0.16796796758486035,
          -0.17931377095474135,
          -0.14817937113039792,
          -0.05791528716165782,
          -0.11076899744283693,
          -0.10252872221647102,
          -0.027287977570601862,
          -0.09884212208373733,
          -0.12039672469764694,
          -0.08361546691286564,
          -0.06563062017953565,
          -0.06334032804388415,
          -0.07141815929421362,
          -0.09917845658235977,
          -0.17376074179601292,
          -0.11153147802208285,
          -0.14840373521124625,
          0.06580039253207218
         ],
         "z": [
          -0.18506397183115036,
          0.01767388355938453,
          0.026315880692550732,
          -0.18050602991550158,
          -0.2519990670754363,
          -0.32326898500106493,
          -0.2798897252268555,
          -0.11612940090156133,
          -0.22249172724182661,
          -0.2787171586418159,
          -0.27144508176473575,
          -0.29764554591577597,
          -0.3142778381067758,
          -0.2732929990504742,
          -0.2505674258860566,
          -0.2105496896607115,
          -0.3100989670544583,
          -0.31218298199155203,
          -0.28105062085849264,
          -0.3621036891845637,
          -0.2919180959101856,
          -0.17820153928174692,
          -0.19529961268835494,
          -0.1749749403310597,
          -0.1903400830949468,
          -0.22333552644863375,
          -0.13093338425795073,
          0.07549199779418292,
          0.07700901770246825,
          0.16692629339247084,
          0.11400082652783815,
          -0.0070113778057452215,
          -0.06438108761600925
         ]
        },
        {
         "hoverinfo": "text",
         "hovertext": [
          "# Jupyter et ses notebooks\n\nLes notebooks Jupyter sont des cahiers électroniques qui, dans le même document, peuvent rassembler du texte, des images, des formules mathématiques et du code informatique exécutable. Ils sont manipulables interactivement dans un navigateur web.\n\nInitialement développés pour les langages de programmation Julia, Python et R (d'où le nom Jupyter), les notebooks Jupyter supportent près de 40 langages différents.\n\nLa cellule est l'élément de base d'un notebook Jupyter. Elle peut contenir du texte formaté au format Markdown ou du code informatique qui pourra être exécuté.\n\nVoici un exemple de notebook Jupyter (figure @fig:jupyter-exemple) :\n\n![Exemple de notebook Jupyter. Les chiffres entourés désignent les différentes cellules.](img/jupyter-exemple.png \"Exemple de notebook Jupyter\"){ #fig:jupyter-exemple width=80% }",
          "![Exemple de notebook Jupyter. Les chiffres entourés désignent les différentes cellules.](img/jupyter-exemple.png \"Exemple de notebook Jupyter\"){ #fig:jupyter-exemple width=80% }\n\nCe notebook est constitué de cinq cellules : deux avec du texte en Markdown (la première et la dernière) et trois avec du code Python (notées avec `In [ ]`).\n\n## Installation\n\nAvec la distribution Miniconda, les notebooks Jupyter s'installent avec la commande :\n\n```bash\n$ conda install -y jupyterlab\n```\n\nPour être exact, la commande précédente installe un peu plus que les notebooks Jupyter mais nous verrons cela par la suite.\n\n\n## Lancement de Jupyter et création d'un notebook\n\nPour lancer les notebooks Jupyter, utilisez la commande suivante depuis un *shell* :\n\n```bash\n$ jupyter-notebook\n```\n\nUne nouvelle page devrait s'ouvrir dans votre navigateur web  et ressembler à la figure @fig:jupyter-interface.",
          "```bash\n$ jupyter-notebook\n```\n\nUne nouvelle page devrait s'ouvrir dans votre navigateur web  et ressembler à la figure @fig:jupyter-interface.\n\n![Interface de Jupyter.](img/jupyter-interface.png \"Interface de Jupyter\"){ #fig:jupyter-interface width=80% }\n\nCette interface liste les notebooks Jupyter existants (pour le moment aucun).\n\nPour créer un notebook, cliquez sur le bouton à droite *New* puis sélectionnez *Python 3*. Vous noterez au passage qu'il est également possible de créer un fichier texte, un répertoire ou bien encore de lancer un *shell* via un *Terminal* (voir figure @fig:jupyter-nouveau-notebook).\n\n![Création d'un nouveau notebook.](img/jupyter-nouveau-notebook.png \"Création d'un nouveau notebook\"){ #fig:jupyter-nouveau-notebook width=80% }\n\nLe notebook fraîchement créé ne contient qu'une cellule vide.\n\n![Nouveau notebook.](img/jupyter-nouveau-notebook-vide.png \"Nouveau notebook\"){ #fig:jupyter-nouveau-notebook-vide width=80% }",
          "Le notebook fraîchement créé ne contient qu'une cellule vide.\n\n![Nouveau notebook.](img/jupyter-nouveau-notebook-vide.png \"Nouveau notebook\"){ #fig:jupyter-nouveau-notebook-vide width=80% }\n\nLa première chose à faire est de donner un nom à votre notebook en cliquant sur *Untitled*, à droite du logo de Jupyter. Si le nom de votre notebook est *test* alors le fichier *test.ipynb* sera créé dans le répertoire depuis lequel vous avez lancé Jupyter.\n\nopen-box-rem\n\nL'extension *.ipynb* est l'extension de fichier des notebooks Jupyter.\n\nclose-box-rem\n\nVous pouvez entrer des instructions Python dans la première cellule. Par exemple :\n\n```python\na = 2\nb = 3\nprint(a+b)\n```\n\nPour exécuter le contenu de cette cellule, vous avez plusieurs possibilités :\n\n- Cliquer sur le menu *Cell*, puis *Run Cells*.\n- Cliquer sur le bouton *Run* (sous la barre de menu).\n- Presser simultanément les touches *Ctrl* + *Entrée*.",
          "- Cliquer sur le menu *Cell*, puis *Run Cells*.\n- Cliquer sur le bouton *Run* (sous la barre de menu).\n- Presser simultanément les touches *Ctrl* + *Entrée*.\n\nDans tous les cas, vous devriez obtenir quelque chose qui ressemble à l'image @fig:jupyter-cellule-1. La notation `In [1]` à gauche de la cellule indique qu'il s'agit de la première cellule exécutée.\n\n![Exécution d'une première cellule.](img/jupyter-cellule-1.png \"Exécution d'une première cellule.\"){ #fig:jupyter-cellule-1 width=80% }\n\nPour créer une nouvelle cellule, vous avez, ici encore, plusieurs possibilités :\n\n- Cliquer sur l’icône *+* sous la barre de menu.\n- Cliquer sur le menu *Insert*, puis *Insert Cell Below*.\n\nUne nouvelle cellule vide devrait apparaître.",
          "- Cliquer sur l’icône *+* sous la barre de menu.\n- Cliquer sur le menu *Insert*, puis *Insert Cell Below*.\n\nUne nouvelle cellule vide devrait apparaître.\n\nVous pouvez également créer une nouvelle cellule en positionnant votre curseur dans la première cellule, puis en pressant simultanément les touches *Alt* + *Entrée*. Si vous utilisez cette combinaison de touches, vous remarquerez que le numéro à gauche de la première cellule est passée de `In [1]` à `In [2]` car vous avez exécuté la première cellule *puis* créé une nouvelle cellule.\n\nVous pouvez ainsi créer plusieurs cellules les unes à la suite des autres. Un objet créé dans une cellule antérieure sera disponible dans les cellules suivantes. Par exemple, dans la figure @fig:jupyter-cellule-4, nous avons quatre cellules. Vous remarquerez que pour les cellules 3 et 4, le résultat renvoyé par le code Python est précédé par `Out [3]` et `Out [4]`.",
          "![Notebook avec plusieurs cellules de code Python.](img/jupyter-cellule-4.png \"Notebook avec plusieurs cellules de code Python\"){ #fig:jupyter-cellule-4 width=80% }\n\nDans un notebook Jupyter, il est parfaitement possible de réexécuter une cellule précédente. Par exemple la première cellule, qui porte désormais à sa gauche la numérotation `In [5]` (voir figure @fig:jupyter-cellule-4-mauvais-ordre).\n\n![Notebook avec une cellule ré-exécutée.](img/jupyter-cellule-4-mauvais-ordre.png \"Notebook avec une cellule ré-executée.\"){ #fig:jupyter-cellule-4-mauvais-ordre width=80% }\n\nopen-box-warn\n\nLa possibilité d'exécuter les cellules d'un notebook Jupyter dans un ordre arbitraire peut prêter à confusion, notamment si vous modifiez la même variable d'une cellule à l'autre.",
          "open-box-warn\n\nLa possibilité d'exécuter les cellules d'un notebook Jupyter dans un ordre arbitraire peut prêter à confusion, notamment si vous modifiez la même variable d'une cellule à l'autre.\n\nNous vous recommandons de régulièrement relancer complètement l'exécution de toutes les cellules de votre notebook, de la première à la dernière, en cliquant sur le menu *Kernel* puis *Restart & Run All* et enfin de valider le message *Restart and Run All Cells*.\n\nclose-box-warn\n\n\n## Le format Markdown\n\nDans le tout premier exemple (figure @fig:jupyter-exemple), nous avons vu qu'il était possible de mettre du texte au format Markdown dans une cellule.\n\nIl faut cependant indiquer à Jupyter que cette cellule est au format Markdown en cliquant sur *Code* sous la barre de menu puis en choisissant *Markdown*.",
          "Il faut cependant indiquer à Jupyter que cette cellule est au format Markdown en cliquant sur *Code* sous la barre de menu puis en choisissant *Markdown*.\n\nLe format Markdown permet de rédiger du texte formaté (gras, italique, liens, titres, images, formules mathématiques...) avec quelques balises très simples. Voici un exemple dans une notebook Jupyter (figure @fig:jupyter-markdown-1) et le rendu lorsque la cellule est exécutée (figure @fig:jupyter-markdown-2).\n\n![Notebook avec une cellule au format Markdown.](img/jupyter-markdown-1.png \"Notebook avec une cellule au format Markdown.\"){ #fig:jupyter-markdown-1 width=80% }\n\n![Notebook avec une cellule au format Markdown (après exécution).](img/jupyter-markdown-2.png \"Notebook avec une cellule au format Markdown (après exécution).\"){ #fig:jupyter-markdown-2 width=80% }\n\nNotez qu'une cellule Markdown n'a pas le marqueur `In [ ]` à sa gauche.",
          "Notez qu'une cellule Markdown n'a pas le marqueur `In [ ]` à sa gauche.\n\nLe format Markdown permet de rapidement et très simplement rédiger du texte structuré. Ce cours est par exemple complètement rédigé en Markdown ;-)\n\nNous vous conseillons d'explorer les possibilités du Markdown en consultant la page [Wikipédia](https://fr.wikipedia.org/wiki/Markdown) ou directement la [page de référence](https://daringfireball.net/projects/markdown/syntax).\n\n\n## Des graphiques dans les notebooks\n\nUn autre intérêt des notebooks Jupyter est de pouvoir y incorporer des graphiques réalisés avec la bibliothèque *matplotlib*.\n\nVoici un exemple en reprenant un graphique présenté dans le chapitre 17 *Quelques modules d'intérêt en bioinformatique* (figure @fig:jupyter-matplotlib).\n\n![Incorporation d'un graphique dans un notebook Jupyter.](img/jupyter-matplotlib.png \"Incorporation d'un graphique dans un notebook Jupyter.\"){ #fig:jupyter-matplotlib width=80% }",
          "![Incorporation d'un graphique dans un notebook Jupyter.](img/jupyter-matplotlib.png \"Incorporation d'un graphique dans un notebook Jupyter.\"){ #fig:jupyter-matplotlib width=80% }\n\nLa différence notable est l'utilisation de la commande :  \n`%matplotlib inline`  \nqui n'est à lancer qu'une seule fois (en général dans la première cellule du notebook) et qui permet l'incorporation de figures dans un notebook Jupyter.\n\nopen-box-rem\n\nPour quitter l'interface des notebooks Jupyter, il faut, dans le premier onglet qui est apparu, cliquer sur le bouton *Quit* (figure @fig:jupyter-interface).\n\nUne méthode plus radicale est de revenir sur le *shell* depuis lequel les notebooks Jupyter ont été lancés puis de presser deux fois la combinaison de touches *Ctrl* + *C*.\n\nclose-box-rem\n\n\n## Les *magic commands*\n\nLa commande précédente (`%matplotlib inline`) est une *magic command*. Il en existe beaucoup, en voici deux :",
          "close-box-rem\n\n\n## Les *magic commands*\n\nLa commande précédente (`%matplotlib inline`) est une *magic command*. Il en existe beaucoup, en voici deux :\n\n- `%whos` liste tous les objets (variables, fonctions, modules...) utilisés dans le notebook (voir figure @fig:jupyter-whos).\n- `%history` liste toutes les commandes Python lancées dans un notebook (voir figure @fig:jupyter-history).\n\n![*Magic command* `%whos`.](img/jupyter-whos.png){ #fig:jupyter-whos width=80% }\n\n![*Magic command* `%history`.](img/jupyter-history.png){ #fig:jupyter-history width=80% }\n\nEnfin, avec les environnements Linux ou Mac OS X, il est possible de lancer une commande Unix depuis un notebook Jupyter. Il faut pour cela précéder la commande du symbole « `!` ». La figure @fig:jupyter-ls illustre cette possibilité avec la commande `ls` qui affiche le contenu d'un répertoire.\n\n![Lancement d'une commande Unix.](img/jupyter-ls.png){ #fig:jupyter-ls width=80% }\n\nopen-box-rem",
          "![Lancement d'une commande Unix.](img/jupyter-ls.png){ #fig:jupyter-ls width=80% }\n\nopen-box-rem\n\nLe lancement de n'importe quelle commande Unix depuis un notebook Jupyter (en précédant cette commande de `!`) est une fonctionnalité très puissante.\n\nPour vous en rendre compte, jetez un œil au [notebook](https://github.com/MaayanLab/Zika-RNAseq-Pipeline/blob/master/Zika.ipynb) produit par les chercheurs Zichen Wang et Avi Ma'ayan qui reproduit l'analyse complète de données obtenues par séquençage haut débit. Ces analyses ont donné lieu à la publication de l'article scientifique « [*An open RNA-Seq data analysis pipeline tutorial with an example of reprocessing data from a recent Zika virus study*](https://f1000research.com/articles/5-1574/) » (F1000 Research, 2016).\n\nclose-box-rem\n\n\n## JupyterLab\n\nEn 2018, le consortium Jupyter a lancé *JupyterLab* qui est un environnement complet d'analyse.\nPour obtenir cette interface, lancez la commande suivante depuis un *shell* :",
          "## JupyterLab\n\nEn 2018, le consortium Jupyter a lancé *JupyterLab* qui est un environnement complet d'analyse.\nPour obtenir cette interface, lancez la commande suivante depuis un *shell* :\n\n```bash\n$ jupyter lab\n```\n\nUne nouvelle page devrait s'ouvrir dans votre navigateur web et vous devriez\nobtenir une interface similaire à la figure @fig:jupyterlab-1.\n\n![Interface de JupyterLab.](img/jupyterlab-1.png \"Interface de JupyterLab.\"){ #fig:jupyterlab-1 width=95% }\n\nL'interface proposée par JupyterLab est très riche. On peut y organiser un notebook Jupyter « classique » avec une figure en encart, un *shell* (voir figure @fig:jupyterlab-2)... Les possibilités sont infinies !\n\n![JupyterLab comme environnement d'analyse.](img/jupyterlab-2.png \"JupyterLab comme environnement d'analyse.\"){ #fig:jupyterlab-2 width=95% }\n\nopen-box-more\n\nLes *notebooks* Jupyter sont particulièrement adaptés à l'analyse de données en combinaison avec les modules *matplotlib* et *pandas*.\n\nclose-box-more"
         ],
         "marker": {
          "color": 1,
          "colorscale": [
           [
            0,
            "#440154"
           ],
           [
            0.1111111111111111,
            "#482878"
           ],
           [
            0.2222222222222222,
            "#3e4989"
           ],
           [
            0.3333333333333333,
            "#31688e"
           ],
           [
            0.4444444444444444,
            "#26828e"
           ],
           [
            0.5555555555555556,
            "#1f9e89"
           ],
           [
            0.6666666666666666,
            "#35b779"
           ],
           [
            0.7777777777777778,
            "#6ece58"
           ],
           [
            0.8888888888888888,
            "#b5de2b"
           ],
           [
            1,
            "#fde725"
           ]
          ],
          "opacity": 0.8,
          "size": 5
         },
         "mode": "markers",
         "name": "Jupyter",
         "type": "scatter3d",
         "x": [
          -0.2791417153216221,
          -0.29133573827864434,
          -0.3447728040882956,
          -0.31133228405634183,
          -0.2919926400514851,
          -0.27046008543393,
          -0.22620155543301596,
          -0.1848689291255933,
          -0.1381289171816792,
          -0.18152713044759464,
          -0.1739395112033432,
          -0.2037226768438316,
          -0.298812940604099,
          -0.28517855250524854
         ],
         "y": [
          0.5262430804386944,
          0.5479241163090754,
          0.5544552561976398,
          0.47120405861476183,
          0.44168990016841747,
          0.3478826174200623,
          0.37674767290137046,
          0.5058344730534438,
          0.5373314044438071,
          0.4945086534757064,
          0.4542953353114166,
          0.39331446119765234,
          0.5157856637027955,
          0.540421362331601
         ],
         "z": [
          -0.0370842923256112,
          -0.006642089173807453,
          -0.06120114300151226,
          -0.08935965205768537,
          -0.07428799200336916,
          -0.0375176501168219,
          -0.10051619018366438,
          -0.04693295732921465,
          -0.010498164470239187,
          0.022745504304754815,
          -0.04183852209412297,
          -0.028925685342964705,
          -0.03572026313810169,
          -0.036296475487025304
         ]
        }
       ],
       "layout": {
        "autosize": false,
        "height": 600,
        "margin": {
         "b": 50,
         "l": 10,
         "pad": 10,
         "r": 10,
         "t": 50
        },
        "scene": {
         "aspectmode": "auto",
         "aspectratio": {
          "x": 1.0373524507930956,
          "y": 0.993082959273023,
          "z": 0.9707069363586189
         },
         "camera": {
          "center": {
           "x": 0,
           "y": 0,
           "z": 0
          },
          "eye": {
           "x": 1.179829367607626,
           "y": 1.629711206318904,
           "z": 0.836585760042046
          },
          "projection": {
           "type": "perspective"
          },
          "up": {
           "x": 0,
           "y": 0,
           "z": 1
          }
         },
         "xaxis": {
          "title": {
           "text": "PCA compotent 1 (12 %)"
          },
          "type": "linear"
         },
         "yaxis": {
          "title": {
           "text": "PCA compotent 2 (10 %)"
          },
          "type": "linear"
         },
         "zaxis": {
          "title": {
           "text": "PCA compotent 3 (7 %)"
          },
          "type": "linear"
         }
        },
        "template": {
         "data": {
          "bar": [
           {
            "error_x": {
             "color": "#2a3f5f"
            },
            "error_y": {
             "color": "#2a3f5f"
            },
            "marker": {
             "line": {
              "color": "#E5ECF6",
              "width": 0.5
             },
             "pattern": {
              "fillmode": "overlay",
              "size": 10,
              "solidity": 0.2
             }
            },
            "type": "bar"
           }
          ],
          "barpolar": [
           {
            "marker": {
             "line": {
              "color": "#E5ECF6",
              "width": 0.5
             },
             "pattern": {
              "fillmode": "overlay",
              "size": 10,
              "solidity": 0.2
             }
            },
            "type": "barpolar"
           }
          ],
          "carpet": [
           {
            "aaxis": {
             "endlinecolor": "#2a3f5f",
             "gridcolor": "white",
             "linecolor": "white",
             "minorgridcolor": "white",
             "startlinecolor": "#2a3f5f"
            },
            "baxis": {
             "endlinecolor": "#2a3f5f",
             "gridcolor": "white",
             "linecolor": "white",
             "minorgridcolor": "white",
             "startlinecolor": "#2a3f5f"
            },
            "type": "carpet"
           }
          ],
          "choropleth": [
           {
            "colorbar": {
             "outlinewidth": 0,
             "ticks": ""
            },
            "type": "choropleth"
           }
          ],
          "contour": [
           {
            "colorbar": {
             "outlinewidth": 0,
             "ticks": ""
            },
            "colorscale": [
             [
              0,
              "#0d0887"
             ],
             [
              0.1111111111111111,
              "#46039f"
             ],
             [
              0.2222222222222222,
              "#7201a8"
             ],
             [
              0.3333333333333333,
              "#9c179e"
             ],
             [
              0.4444444444444444,
              "#bd3786"
             ],
             [
              0.5555555555555556,
              "#d8576b"
             ],
             [
              0.6666666666666666,
              "#ed7953"
             ],
             [
              0.7777777777777778,
              "#fb9f3a"
             ],
             [
              0.8888888888888888,
              "#fdca26"
             ],
             [
              1,
              "#f0f921"
             ]
            ],
            "type": "contour"
           }
          ],
          "contourcarpet": [
           {
            "colorbar": {
             "outlinewidth": 0,
             "ticks": ""
            },
            "type": "contourcarpet"
           }
          ],
          "heatmap": [
           {
            "colorbar": {
             "outlinewidth": 0,
             "ticks": ""
            },
            "colorscale": [
             [
              0,
              "#0d0887"
             ],
             [
              0.1111111111111111,
              "#46039f"
             ],
             [
              0.2222222222222222,
              "#7201a8"
             ],
             [
              0.3333333333333333,
              "#9c179e"
             ],
             [
              0.4444444444444444,
              "#bd3786"
             ],
             [
              0.5555555555555556,
              "#d8576b"
             ],
             [
              0.6666666666666666,
              "#ed7953"
             ],
             [
              0.7777777777777778,
              "#fb9f3a"
             ],
             [
              0.8888888888888888,
              "#fdca26"
             ],
             [
              1,
              "#f0f921"
             ]
            ],
            "type": "heatmap"
           }
          ],
          "heatmapgl": [
           {
            "colorbar": {
             "outlinewidth": 0,
             "ticks": ""
            },
            "colorscale": [
             [
              0,
              "#0d0887"
             ],
             [
              0.1111111111111111,
              "#46039f"
             ],
             [
              0.2222222222222222,
              "#7201a8"
             ],
             [
              0.3333333333333333,
              "#9c179e"
             ],
             [
              0.4444444444444444,
              "#bd3786"
             ],
             [
              0.5555555555555556,
              "#d8576b"
             ],
             [
              0.6666666666666666,
              "#ed7953"
             ],
             [
              0.7777777777777778,
              "#fb9f3a"
             ],
             [
              0.8888888888888888,
              "#fdca26"
             ],
             [
              1,
              "#f0f921"
             ]
            ],
            "type": "heatmapgl"
           }
          ],
          "histogram": [
           {
            "marker": {
             "pattern": {
              "fillmode": "overlay",
              "size": 10,
              "solidity": 0.2
             }
            },
            "type": "histogram"
           }
          ],
          "histogram2d": [
           {
            "colorbar": {
             "outlinewidth": 0,
             "ticks": ""
            },
            "colorscale": [
             [
              0,
              "#0d0887"
             ],
             [
              0.1111111111111111,
              "#46039f"
             ],
             [
              0.2222222222222222,
              "#7201a8"
             ],
             [
              0.3333333333333333,
              "#9c179e"
             ],
             [
              0.4444444444444444,
              "#bd3786"
             ],
             [
              0.5555555555555556,
              "#d8576b"
             ],
             [
              0.6666666666666666,
              "#ed7953"
             ],
             [
              0.7777777777777778,
              "#fb9f3a"
             ],
             [
              0.8888888888888888,
              "#fdca26"
             ],
             [
              1,
              "#f0f921"
             ]
            ],
            "type": "histogram2d"
           }
          ],
          "histogram2dcontour": [
           {
            "colorbar": {
             "outlinewidth": 0,
             "ticks": ""
            },
            "colorscale": [
             [
              0,
              "#0d0887"
             ],
             [
              0.1111111111111111,
              "#46039f"
             ],
             [
              0.2222222222222222,
              "#7201a8"
             ],
             [
              0.3333333333333333,
              "#9c179e"
             ],
             [
              0.4444444444444444,
              "#bd3786"
             ],
             [
              0.5555555555555556,
              "#d8576b"
             ],
             [
              0.6666666666666666,
              "#ed7953"
             ],
             [
              0.7777777777777778,
              "#fb9f3a"
             ],
             [
              0.8888888888888888,
              "#fdca26"
             ],
             [
              1,
              "#f0f921"
             ]
            ],
            "type": "histogram2dcontour"
           }
          ],
          "mesh3d": [
           {
            "colorbar": {
             "outlinewidth": 0,
             "ticks": ""
            },
            "type": "mesh3d"
           }
          ],
          "parcoords": [
           {
            "line": {
             "colorbar": {
              "outlinewidth": 0,
              "ticks": ""
             }
            },
            "type": "parcoords"
           }
          ],
          "pie": [
           {
            "automargin": true,
            "type": "pie"
           }
          ],
          "scatter": [
           {
            "fillpattern": {
             "fillmode": "overlay",
             "size": 10,
             "solidity": 0.2
            },
            "type": "scatter"
           }
          ],
          "scatter3d": [
           {
            "line": {
             "colorbar": {
              "outlinewidth": 0,
              "ticks": ""
             }
            },
            "marker": {
             "colorbar": {
              "outlinewidth": 0,
              "ticks": ""
             }
            },
            "type": "scatter3d"
           }
          ],
          "scattercarpet": [
           {
            "marker": {
             "colorbar": {
              "outlinewidth": 0,
              "ticks": ""
             }
            },
            "type": "scattercarpet"
           }
          ],
          "scattergeo": [
           {
            "marker": {
             "colorbar": {
              "outlinewidth": 0,
              "ticks": ""
             }
            },
            "type": "scattergeo"
           }
          ],
          "scattergl": [
           {
            "marker": {
             "colorbar": {
              "outlinewidth": 0,
              "ticks": ""
             }
            },
            "type": "scattergl"
           }
          ],
          "scattermapbox": [
           {
            "marker": {
             "colorbar": {
              "outlinewidth": 0,
              "ticks": ""
             }
            },
            "type": "scattermapbox"
           }
          ],
          "scatterpolar": [
           {
            "marker": {
             "colorbar": {
              "outlinewidth": 0,
              "ticks": ""
             }
            },
            "type": "scatterpolar"
           }
          ],
          "scatterpolargl": [
           {
            "marker": {
             "colorbar": {
              "outlinewidth": 0,
              "ticks": ""
             }
            },
            "type": "scatterpolargl"
           }
          ],
          "scatterternary": [
           {
            "marker": {
             "colorbar": {
              "outlinewidth": 0,
              "ticks": ""
             }
            },
            "type": "scatterternary"
           }
          ],
          "surface": [
           {
            "colorbar": {
             "outlinewidth": 0,
             "ticks": ""
            },
            "colorscale": [
             [
              0,
              "#0d0887"
             ],
             [
              0.1111111111111111,
              "#46039f"
             ],
             [
              0.2222222222222222,
              "#7201a8"
             ],
             [
              0.3333333333333333,
              "#9c179e"
             ],
             [
              0.4444444444444444,
              "#bd3786"
             ],
             [
              0.5555555555555556,
              "#d8576b"
             ],
             [
              0.6666666666666666,
              "#ed7953"
             ],
             [
              0.7777777777777778,
              "#fb9f3a"
             ],
             [
              0.8888888888888888,
              "#fdca26"
             ],
             [
              1,
              "#f0f921"
             ]
            ],
            "type": "surface"
           }
          ],
          "table": [
           {
            "cells": {
             "fill": {
              "color": "#EBF0F8"
             },
             "line": {
              "color": "white"
             }
            },
            "header": {
             "fill": {
              "color": "#C8D4E3"
             },
             "line": {
              "color": "white"
             }
            },
            "type": "table"
           }
          ]
         },
         "layout": {
          "annotationdefaults": {
           "arrowcolor": "#2a3f5f",
           "arrowhead": 0,
           "arrowwidth": 1
          },
          "autotypenumbers": "strict",
          "coloraxis": {
           "colorbar": {
            "outlinewidth": 0,
            "ticks": ""
           }
          },
          "colorscale": {
           "diverging": [
            [
             0,
             "#8e0152"
            ],
            [
             0.1,
             "#c51b7d"
            ],
            [
             0.2,
             "#de77ae"
            ],
            [
             0.3,
             "#f1b6da"
            ],
            [
             0.4,
             "#fde0ef"
            ],
            [
             0.5,
             "#f7f7f7"
            ],
            [
             0.6,
             "#e6f5d0"
            ],
            [
             0.7,
             "#b8e186"
            ],
            [
             0.8,
             "#7fbc41"
            ],
            [
             0.9,
             "#4d9221"
            ],
            [
             1,
             "#276419"
            ]
           ],
           "sequential": [
            [
             0,
             "#0d0887"
            ],
            [
             0.1111111111111111,
             "#46039f"
            ],
            [
             0.2222222222222222,
             "#7201a8"
            ],
            [
             0.3333333333333333,
             "#9c179e"
            ],
            [
             0.4444444444444444,
             "#bd3786"
            ],
            [
             0.5555555555555556,
             "#d8576b"
            ],
            [
             0.6666666666666666,
             "#ed7953"
            ],
            [
             0.7777777777777778,
             "#fb9f3a"
            ],
            [
             0.8888888888888888,
             "#fdca26"
            ],
            [
             1,
             "#f0f921"
            ]
           ],
           "sequentialminus": [
            [
             0,
             "#0d0887"
            ],
            [
             0.1111111111111111,
             "#46039f"
            ],
            [
             0.2222222222222222,
             "#7201a8"
            ],
            [
             0.3333333333333333,
             "#9c179e"
            ],
            [
             0.4444444444444444,
             "#bd3786"
            ],
            [
             0.5555555555555556,
             "#d8576b"
            ],
            [
             0.6666666666666666,
             "#ed7953"
            ],
            [
             0.7777777777777778,
             "#fb9f3a"
            ],
            [
             0.8888888888888888,
             "#fdca26"
            ],
            [
             1,
             "#f0f921"
            ]
           ]
          },
          "colorway": [
           "#636efa",
           "#EF553B",
           "#00cc96",
           "#ab63fa",
           "#FFA15A",
           "#19d3f3",
           "#FF6692",
           "#B6E880",
           "#FF97FF",
           "#FECB52"
          ],
          "font": {
           "color": "#2a3f5f"
          },
          "geo": {
           "bgcolor": "white",
           "lakecolor": "white",
           "landcolor": "#E5ECF6",
           "showlakes": true,
           "showland": true,
           "subunitcolor": "white"
          },
          "hoverlabel": {
           "align": "left"
          },
          "hovermode": "closest",
          "mapbox": {
           "style": "light"
          },
          "paper_bgcolor": "white",
          "plot_bgcolor": "#E5ECF6",
          "polar": {
           "angularaxis": {
            "gridcolor": "white",
            "linecolor": "white",
            "ticks": ""
           },
           "bgcolor": "#E5ECF6",
           "radialaxis": {
            "gridcolor": "white",
            "linecolor": "white",
            "ticks": ""
           }
          },
          "scene": {
           "xaxis": {
            "backgroundcolor": "#E5ECF6",
            "gridcolor": "white",
            "gridwidth": 2,
            "linecolor": "white",
            "showbackground": true,
            "ticks": "",
            "zerolinecolor": "white"
           },
           "yaxis": {
            "backgroundcolor": "#E5ECF6",
            "gridcolor": "white",
            "gridwidth": 2,
            "linecolor": "white",
            "showbackground": true,
            "ticks": "",
            "zerolinecolor": "white"
           },
           "zaxis": {
            "backgroundcolor": "#E5ECF6",
            "gridcolor": "white",
            "gridwidth": 2,
            "linecolor": "white",
            "showbackground": true,
            "ticks": "",
            "zerolinecolor": "white"
           }
          },
          "shapedefaults": {
           "line": {
            "color": "#2a3f5f"
           }
          },
          "ternary": {
           "aaxis": {
            "gridcolor": "white",
            "linecolor": "white",
            "ticks": ""
           },
           "baxis": {
            "gridcolor": "white",
            "linecolor": "white",
            "ticks": ""
           },
           "bgcolor": "#E5ECF6",
           "caxis": {
            "gridcolor": "white",
            "linecolor": "white",
            "ticks": ""
           }
          },
          "title": {
           "x": 0.05
          },
          "xaxis": {
           "automargin": true,
           "gridcolor": "white",
           "linecolor": "white",
           "ticks": "",
           "title": {
            "standoff": 15
           },
           "zerolinecolor": "white",
           "zerolinewidth": 2
          },
          "yaxis": {
           "automargin": true,
           "gridcolor": "white",
           "linecolor": "white",
           "ticks": "",
           "title": {
            "standoff": 15
           },
           "zerolinecolor": "white",
           "zerolinewidth": 2
          }
         }
        },
        "title": {
         "text": "3D projection of embeddings"
        },
        "width": 800
       }
      },
      "image/png": "[encoded data removed]",
      "text/html": [
       "<div>                            <div id=\"bdffc6e6-7a6e-433b-bc04-806af3f3369c\" class=\"plotly-graph-div\" style=\"height:600px; width:800px;\"></div>            <script type=\"text/javascript\">                require([\"plotly\"], function(Plotly) {                    window.PLOTLYENV=window.PLOTLYENV || {};                                    if (document.getElementById(\"bdffc6e6-7a6e-433b-bc04-806af3f3369c\")) {                    Plotly.newPlot(                        \"bdffc6e6-7a6e-433b-bc04-806af3f3369c\",                        [{\"hoverinfo\":\"text\",\"hovertext\":[\"# Affichage\\n\\n## La fonction `print()`\\n\\nDans le chapitre 1, nous avons rencontré la fonction `print()` qui affiche une chaîne de caractères (le fameux `\\\"Hello world!\\\"`). En fait, la fonction `print()` affiche l'argument qu'on lui passe entre parenthèses **et** un retour à ligne. Ce retour à ligne supplémentaire est ajouté par défaut. Si toutefois, on ne veut pas afficher ce retour à la ligne, on peut utiliser l'argument par « mot-clé » `end` :\\n\\n```python\\n\\u003e\\u003e\\u003e print(\\\"Hello world!\\\")\\nHello world!\\n\\u003e\\u003e\\u003e print(\\\"Hello world!\\\", end=\\\"\\\")\\nHello world!\\u003e\\u003e\\u003e\\n```\\n\\nLigne 1. On a utilisé l'instruction `print()` classiquement en passant la chaîne de caractères `\\\"Hello world!\\\"` en argument.\\n\\nLigne 3. On a ajouté un second argument `end=\\\"\\\"`, en précisant le mot-clé `end`. Nous aborderons les arguments par mot-clé dans le chapitre 9 *Fonctions*. Pour l'instant, dites-vous que cela modifie le comportement par défaut des fonctions.\",\"Ligne 4. L'effet de l'argument `end=\\\"\\\"` est que les trois chevrons `\\u003e\\u003e\\u003e` se retrouvent collés après la chaîne de caractères `\\\"Hello world!\\\"`.\\n\\nUne autre manière de s'en rendre compte est d'utiliser deux fonctions `print()` à la suite. Dans la portion de code suivante, le caractère « `;` » sert à séparer plusieurs instructions Python sur une même ligne :\\n\\n```python\\n\\u003e\\u003e\\u003e print(\\\"Hello\\\") ; print(\\\"Joe\\\")\\nHello\\nJoe\\n\\u003e\\u003e\\u003e print(\\\"Hello\\\", end=\\\"\\\") ; print(\\\"Joe\\\")\\nHelloJoe\\n\\u003e\\u003e\\u003e print(\\\"Hello\\\", end=\\\" \\\") ; print(\\\"Joe\\\")\\nHello Joe\\n```\\n\\nLa fonction `print()` peut également afficher le contenu d'une variable quel que soit son type. Par exemple, pour un entier :\\n\\n```python\\n\\u003e\\u003e\\u003e var = 3\\n\\u003e\\u003e\\u003e print(var)\\n3\\n```\\n\\nIl est également possible d'afficher le contenu de plusieurs variables (quel que soit leur type) en les séparant par des virgules :\\n\\n```python\\n\\u003e\\u003e\\u003e x = 32\\n\\u003e\\u003e\\u003e nom = \\\"John\\\"\\n\\u003e\\u003e\\u003e print(nom, \\\"a\\\", x, \\\"ans\\\")\\nJohn a 32 ans\\n```\",\"```python\\n\\u003e\\u003e\\u003e x = 32\\n\\u003e\\u003e\\u003e nom = \\\"John\\\"\\n\\u003e\\u003e\\u003e print(nom, \\\"a\\\", x, \\\"ans\\\")\\nJohn a 32 ans\\n```\\n\\nPython a écrit une phrase complète en remplaçant les variables `x` et `nom` par leur contenu. Vous remarquerez que pour afficher plusieurs éléments de texte sur une seule ligne, nous avons utilisé le séparateur « `,` » entre les différents éléments. Python a également ajouté un espace à chaque fois que l'on utilisait le séparateur « `,` ». On peut modifier ce comportement en passant à la fonction `print()` l'argument par mot-clé `sep` :\\n\\n```python\\n\\u003e\\u003e\\u003e x = 32\\n\\u003e\\u003e\\u003e nom = \\\"John\\\"\\n\\u003e\\u003e\\u003e print(nom, \\\"a\\\", x, \\\"ans\\\", sep=\\\"\\\")\\nJohna32ans\\n\\u003e\\u003e\\u003e print(nom, \\\"a\\\", x, \\\"ans\\\", sep=\\\"-\\\")\\nJohn-a-32-ans\\n```\\n\\nPour afficher deux chaînes de caractères l'une à côté de l'autre, sans espace, on peut soit les concaténer, soit utiliser l'argument par mot-clé `sep` avec une chaîne de caractères vide :\",\"Pour afficher deux chaînes de caractères l'une à côté de l'autre, sans espace, on peut soit les concaténer, soit utiliser l'argument par mot-clé `sep` avec une chaîne de caractères vide :\\n\\n```python\\n\\u003e\\u003e\\u003e ani1 = \\\"chat\\\"\\n\\u003e\\u003e\\u003e ani2 = \\\"souris\\\"\\n\\u003e\\u003e\\u003e print(ani1, ani2)\\nchat souris\\n\\u003e\\u003e\\u003e print(ani1 + ani2)\\nchatsouris\\n\\u003e\\u003e\\u003e print(ani1, ani2, sep=\\\"\\\")\\nchatsouris\\n```\\n\\n## Écriture formatée\\n\\n### Définitions\\n\\nQue signifie « écriture formatée » ?\\n\\nopen-box-def\\n\\nL'écriture formatée est un mécanisme permettant d'afficher des variables avec un certain format, par exemple justifiées à gauche ou à droite, ou encore avec un certain nombre de décimales pour les *floats*. L'écriture formatée est incontournable lorsqu'on veut créer des fichiers organisés en « belles colonnes » comme par exemple les fichiers PDB (pour en savoir plus sur ce format, reportez-vous à l'annexe A *Quelques formats de données rencontrés en biologie*).\\n\\nclose-box-def\",\"close-box-def\\n\\nDepuis la version 3.6, Python a introduit les *f-strings* pour mettre en place l'écriture formatée que nous allons décrire en détail dans cette rubrique. Il existe d'autres  manières pour formatter des chaînes de caractères qui étaient utilisées avant la version 3.6, nous en avons mis un rappel bref dans la rubrique suivante. Toutefois, nous conseillons vivement l'utilisation des *f-strings* si vous débutez l'apprentissage de Python.\\n\\nQue signifie *f-string* ?\\n\\nopen-box-def\\n\\n*f-string* est le diminutif de *formatted string literals*. Mais encore ? Dans le chapitre précédent, nous avons vu les chaînes de caractères ou encore *strings* qui étaient représentées par un texte entouré de guillemets simples ou doubles. Par exemple :\\n\\n```python\\n\\\"Ceci est une chaîne de caractères\\\"\\n```\\n\\nL'équivalent en *f-string* est tout simplement la même chaîne de caractères précédée du caractère `f` **sans espace** entre les deux :\\n\\n```python\\nf\\\"Ceci est une chaîne de caractères\\\"\\n```\",\"L'équivalent en *f-string* est tout simplement la même chaîne de caractères précédée du caractère `f` **sans espace** entre les deux :\\n\\n```python\\nf\\\"Ceci est une chaîne de caractères\\\"\\n```\\n\\nCe caractère `f` avant les guillemets va indiquer à Python qu'il s'agit d'une *f-string* permettant de mettre en place le mécanisme de l'écriture formatée, contrairement à une *string* normale.\\n\\nclose-box-def\\n\\nNous expliquons plus en détail dans le chapitre 10 *Plus sur les chaînes de caractères* pourquoi on doit mettre ce `f` et le mécanisme sous-jacent.\\n\\n\\n### Prise en main des *f-strings*\\n\\nLes *f-strings* permettent une meilleure organisation de l'affichage des variables. Reprenons l'exemple ci-dessus à propos de notre ami John :\\n\\n```python\\n\\u003e\\u003e\\u003e x = 32\\n\\u003e\\u003e\\u003e nom = \\\"John\\\"\\n\\u003e\\u003e\\u003e print(f\\\"{nom} a {x} ans\\\")\\nJohn a 32 ans\\n```\",\"```python\\n\\u003e\\u003e\\u003e x = 32\\n\\u003e\\u003e\\u003e nom = \\\"John\\\"\\n\\u003e\\u003e\\u003e print(f\\\"{nom} a {x} ans\\\")\\nJohn a 32 ans\\n```\\n\\nIl suffit de passer un nom de variable au sein de chaque couple d'accolades et Python les remplace par leur contenu ! Première remarque, la syntaxe apparait plus lisible que l'équivalent vu ci-avant `print(nom, \\\"a\\\", x, \\\"ans\\\")`. Bien sûr, il ne faut pas omettre le `f` avant le premier guillemet, sinon Python prendra cela pour une chaîne de caractères normale et ne mettra pas en place ce mécanisme de remplacement :\\n\\n```python\\n\\u003e\\u003e\\u003e print(\\\"{nom} a {x} ans\\\")\\n{nom} a {x} ans\\n```\\n\\nopen-box-rem\\n\\nUne variable est utilisable plus d'une fois pour une *f-string* donnée :\\n\\n```python\\n\\u003e\\u003e\\u003e var = \\\"to\\\"\\n\\u003e\\u003e\\u003e print(f\\\"{var} et {var} font {var}{var}\\\")\\nto et to font toto\\n\\u003e\\u003e\\u003e\\n```\\n\\nclose-box-rem\\n\\nEnfin, il est possible de mettre entre les accolades des valeurs numériques ou des chaînes de caractères :\",\"close-box-rem\\n\\nEnfin, il est possible de mettre entre les accolades des valeurs numériques ou des chaînes de caractères :\\n\\n```python\\n\\u003e\\u003e\\u003e print(f\\\"J'affiche l'entier {10} et le float {3.14}\\\")\\nJ'affiche l'entier 10 et le float 3.14\\n\\u003e\\u003e\\u003e print(f\\\"J'affiche la chaine {'Python'}\\\")\\nJ'affiche la chaine Python\\n```\\n\\nMême si cela ne présente que peu d'intérêt pour l'instant, il s'agit d'une commande Python parfaitement valide. Nous verrons des exemples plus pertinents par la suite. Cela fonctionne avec n'importe quel type de variable (entiers, chaînes de caractères, *floats*, etc.). Attention toutefois pour les chaînes de caractères, utilisez des guillemets simples au sein des accolades si vous définissez votre *f-string* avec des guillemets doubles.\\n\\n### Spécification de format\\n\\nLes *f-strings* permettent de remplacer des variables au sein d'une chaîne de caractères. On peut également spécifier le format de leur affichage.\",\"### Spécification de format\\n\\nLes *f-strings* permettent de remplacer des variables au sein d'une chaîne de caractères. On peut également spécifier le format de leur affichage.\\n\\nPrenons un exemple. Imaginez maintenant que vous vouliez calculer, puis afficher, la proportion de GC d'un génome. La proportion de GC s'obtient comme la somme des bases Guanine (G) et Cytosine (C) divisée par le nombre total de bases (A, T, C, G) du génome considéré. Si on a, par exemple, 4500 bases G et 2575 bases C, pour un total de 14800 bases, vous pourriez procéder comme suit (notez bien l'utilisation des parenthèses pour gérer les priorités des opérateurs) :\\n\\n```python\\n\\u003e\\u003e\\u003e prop_GC = (4500 + 2575) \\u002f 14800\\n\\u003e\\u003e\\u003e print(\\\"La proportion de GC est\\\", prop_GC)\\nLa proportion de GC est 0.4780405405405405\\n```\",\"```python\\n\\u003e\\u003e\\u003e prop_GC = (4500 + 2575) \\u002f 14800\\n\\u003e\\u003e\\u003e print(\\\"La proportion de GC est\\\", prop_GC)\\nLa proportion de GC est 0.4780405405405405\\n```\\n\\nLe résultat obtenu présente trop de décimales (seize dans le cas présent). Pour écrire le résultat plus lisiblement, vous pouvez spécifier dans les accolades `{}` le format qui vous intéresse. Dans le cas présent, vous voulez formater un *float* pour l'afficher avec deux puis trois décimales :\\n\\n```python\\n\\u003e\\u003e\\u003e print(f\\\"La proportion de GC est {prop_GC:.2f}\\\")\\nLa proportion de GC est 0.48\\n\\u003e\\u003e\\u003e print(f\\\"La proportion de GC est {prop_GC:.3f}\\\")\\nLa proportion de GC est 0.478\\n```\\n\\nDétaillons le contenu des accolades de la première ligne (`{prop_GC:.2f}`) :\\n\\n- D'abord on a le nom de la variable à formatter, `prop_GC`, c'est indispensable avec les *f-strings*.\\n\\n- Ensuite on rencontre les deux-points `:`, ceux-ci indiquent que ce qui suit va spécifier le format dans lequel on veut afficher la variable `prop_GC`.\",\"- Ensuite on rencontre les deux-points `:`, ceux-ci indiquent que ce qui suit va spécifier le format dans lequel on veut afficher la variable `prop_GC`.\\n\\n- À droite des deux-points on trouve `.2f` qui indique ce format : la lettre `f` indique qu'on souhaite afficher la variable sous forme d'un *float*, les caractères `.2` indiquent la précision voulue, soit ici deux chiffres après la virgule. \\n\\nNotez enfin que le formatage avec `.xf` (`x` étant un entier positif) renvoie un résultat arrondi.\\n\\nVous pouvez aussi formater des entiers avec la lettre `d` (ici `d` veut dire *decimal integer*) :\\n\\n```python\\n\\u003e\\u003e\\u003e nb_G = 4500\\n\\u003e\\u003e\\u003e print(f\\\"Ce génome contient {nb_G:d} guanines\\\")\\nCe génome contient 4500 guanines\\n```\\n\\nou mettre plusieurs nombres dans une même chaîne de caractères.\",\"```python\\n\\u003e\\u003e\\u003e nb_G = 4500\\n\\u003e\\u003e\\u003e print(f\\\"Ce génome contient {nb_G:d} guanines\\\")\\nCe génome contient 4500 guanines\\n```\\n\\nou mettre plusieurs nombres dans une même chaîne de caractères.\\n\\n```python\\n\\u003e\\u003e\\u003e nb_G = 4500\\n\\u003e\\u003e\\u003e nb_C = 2575\\n\\u003e\\u003e\\u003e print(f\\\"Ce génome contient {nb_G:d} G et {nb_C:d} C, soit une prop de GC de {prop_GC:.2f}\\\")\\nCe génome contient 4500 G et 2575 C, soit une prop de GC de 0.48\\n\\u003e\\u003e\\u003e perc_GC = prop_GC * 100\\n\\u003e\\u003e\\u003e print(f\\\"Ce génome contient {nb_G:d} G et {nb_C:d} C, soit un %GC de {perc_GC:.2f} %\\\")\\nCe génome contient 4500 G et 2575 C, soit un %GC de 47.80 %\\n```\\n\\nEnfin, il est possible de préciser sur combien de caractères vous voulez qu'un résultat soit écrit et comment se fait l'alignement (à gauche, à droite ou centré). Dans la portion de code suivante, le caractère `;` sert de séparateur entre les instructions sur une même ligne :\",\"```python\\n\\u003e\\u003e\\u003e print(10) ; print(1000)\\n10\\n1000\\n\\u003e\\u003e\\u003e print(f\\\"{10:\\u003e6d}\\\") ; print(f\\\"{1000:\\u003e6d}\\\")\\n    10\\n  1000\\n\\u003e\\u003e\\u003e print(f\\\"{10:\\u003c6d}\\\") ; print(f\\\"{1000:\\u003c6d}\\\")\\n10    \\n1000  \\n\\u003e\\u003e\\u003e print(f\\\"{10:^6d}\\\") ; print(f\\\"{1000:^6d}\\\")\\n  10  \\n 1000 \\n\\u003e\\u003e\\u003e print(f\\\"{10:*^6d}\\\") ; print(f\\\"{1000:*^6d}\\\")\\n**10**\\n*1000*\\n\\u003e\\u003e\\u003e print(f\\\"{10:0\\u003e6d}\\\") ; print(f\\\"{1000:0\\u003e6d}\\\")\\n000010\\n001000\\n```\\n\\nNotez que `\\u003e` spécifie un alignement à droite, `\\u003c` spécifie un alignement à gauche et `^` spécifie un alignement centré. Il est également possible d'indiquer le caractère qui servira de remplissage lors des alignements (l'espace est le caractère par défaut).\\n\\nCe formatage est également possible sur des chaînes de caractères avec la lettre `s` (comme *string*) :\\n\\n```python\\n\\u003e\\u003e\\u003e print(\\\"atom HN\\\") ; print(\\\"atom HDE1\\\")\\natom HN\\natom HDE1\\n\\u003e\\u003e\\u003e print(f\\\"atom {'HN':\\u003e4s}\\\") ; print(f\\\"atom {'HDE1':\\u003e4s}\\\")\\natom   HN\\natom HDE1\\n```\",\"```python\\n\\u003e\\u003e\\u003e print(\\\"atom HN\\\") ; print(\\\"atom HDE1\\\")\\natom HN\\natom HDE1\\n\\u003e\\u003e\\u003e print(f\\\"atom {'HN':\\u003e4s}\\\") ; print(f\\\"atom {'HDE1':\\u003e4s}\\\")\\natom   HN\\natom HDE1\\n```\\n\\nVous voyez tout de suite l'énorme avantage de l'écriture formatée. Elle vous permet d'écrire en colonnes parfaitement alignées. Nous verrons que ceci est très pratique si l'on veut écrire les coordonnées des atomes d'une molécule au format PDB (pour en savoir plus sur ce format, reportez-vous à l'annexe A *Quelques formats de données rencontrés en biologie*).\\n\\nPour les *floats*, il est possible de combiner le nombre de caractères à afficher avec le nombre de décimales :\\n\\n```python\\n\\u003e\\u003e\\u003e print(f\\\"{perc_GC:7.3f}\\\")\\n 47.804\\n\\u003e\\u003e\\u003e print(f\\\"{perc_GC:10.3f}\\\")\\n    47.804\\n```\",\"```python\\n\\u003e\\u003e\\u003e print(f\\\"{perc_GC:7.3f}\\\")\\n 47.804\\n\\u003e\\u003e\\u003e print(f\\\"{perc_GC:10.3f}\\\")\\n    47.804\\n```\\n\\nL'instruction `7.3f` signifie que l'on souhaite écrire un *float* avec 3 décimales et formaté sur 7 caractères (par défaut justifiés à droite). L'instruction `10.3f` fait la même chose sur 10 caractères. Remarquez que le séparateur décimal `.` compte pour un caractère. De même, si on avait un nombre négatif, le signe `-` compterait aussi pour un caractère.\\n\\n### Autres détails sur les *f-strings*\\n\\nSi on veut afficher des accolades littérales avec les *f-strings*, il faut les doubler pour échapper au formatage :\\n\\n```python\\n\\u003e\\u003e\\u003e print(f\\\"Accolades littérales {{}} ou {{ ou }} et pour le formatage {10}\\\")\\nAccolades littérales {} ou { ou } et pour le formatage 10\\n```\\n\\nUne remarque importante, si on ne met pas de variable à formater entre les accolades dans une *f-string*, cela conduit à une erreur :\",\"Une remarque importante, si on ne met pas de variable à formater entre les accolades dans une *f-string*, cela conduit à une erreur :\\n\\n```python\\n\\u003e\\u003e\\u003e print(f\\\"accolades sans variable {}\\\")\\n  File \\\"\\u003cstdin\\u003e\\\", line 1\\nSyntaxError: f-string: empty expression not allowed\\n```\\n\\nEnfin, il est important de bien comprendre qu'une *f-string* est indépendante de la fonction `print()`. Si on donne une *f-string* à la fonction `print()`, Python évalue d'abord la *f-string* et c'est la chaîne de caractères qui en résulte qui est affichée à l'écran. Tout comme dans l'instruction `print(5*5)`, c'est d'abord la multiplication (`5*5`) qui est évaluée, puis son résultat qui est affiché à l'écran. On peut s'en rendre compte de la manière suivante dans l'interpréteur :\\n\\n```python\\n\\u003e\\u003e\\u003e f\\\"{perc_GC:10.3f}\\\"\\n'    47.804'\\n\\u003e\\u003e\\u003e type(f\\\"{perc_GC:10.3f}\\\")\\n\\u003cclass 'str'\\u003e\\n```\\n\\nPython considère le résultat de l'instruction `f\\\"{perc_GC:10.3f}\\\"` comme une chaîne de caractères et la fonction `type()` nous le confirme.\",\"Python considère le résultat de l'instruction `f\\\"{perc_GC:10.3f}\\\"` comme une chaîne de caractères et la fonction `type()` nous le confirme.\\n\\n### Expressions dans les *f-strings*\\n\\nUne fonctionnalité extrêmement puissante des *f-strings* est de supporter des expressions Python au sein des accolades. Ainsi, il est possible d'y mettre directement une opération ou encore un appel à une fonction :\\n\\n```python\\n\\u003e\\u003e\\u003e print(f\\\"Le résultat de 5 * 5 vaut {5 * 5}\\\")\\nLe résultat de 5 * 5 vaut 25\\n\\u003e\\u003e\\u003e print(f\\\"Résultat d'une opération avec des floats : {(4.1 * 6.7)}\\\")\\nRésultat d'une opération avec des floats : 27.47\\n\\u003e\\u003e\\u003e print(f\\\"Le minimum est {min(1, -2, 4)}\\\")\\nLe minimum est -2\\n\\u003e\\u003e\\u003e entier = 2\\n\\u003e\\u003e\\u003e print(f\\\"Le type de {entier} est {type(entier)}\\\")\\nLe type de 2 est \\u003cclass 'int'\\u003e\\n```\\n\\nNous aurons l'occasion de revenir sur cette fonctionnalité au fur et à mesure de ce cours.\",\"Nous aurons l'occasion de revenir sur cette fonctionnalité au fur et à mesure de ce cours.\\n\\nLes possibilités offertes par les *f-strings* sont nombreuses. Pour vous y retrouver dans les différentes options de formatage, nous vous conseillons de consulter ce [mémo](https:\\u002f\\u002ffstring.help\\u002fcheat\\u002f) (en anglais).\\n\\n\\n## Écriture scientifique\\n\\nPour les nombres très grands ou très petits, l'écriture formatée permet d'afficher un nombre en notation scientifique (sous forme de puissance de 10) avec la lettre `e` :\\n\\n```python\\n\\u003e\\u003e\\u003e print(f\\\"{1_000_000_000:e}\\\")\\n1.000000e+09\\n\\u003e\\u003e\\u003e print(f\\\"{0.000_000_001:e}\\\")\\n1.000000e-09\\n```\\n\\nIl est également possible de définir le nombre de chiffres après la virgule. Dans l'exemple ci-dessous, on affiche un nombre avec aucun, 3 et 6 chiffres après la virgule :\\n\\n```python\\n\\u003e\\u003e\\u003e avogadro_number = 6.022_140_76e23\\n\\u003e\\u003e\\u003e print(f\\\"{avogadro_number:.0e}\\\")\\n6e+23\\n\\u003e\\u003e\\u003e print(f\\\"{avogadro_number:.3e}\\\")\\n6.022e+23\\n\\u003e\\u003e\\u003e print(f\\\"{avogadro_number:.6e}\\\")\\n6.022141e+23\\n```\",\"```python\\n\\u003e\\u003e\\u003e avogadro_number = 6.022_140_76e23\\n\\u003e\\u003e\\u003e print(f\\\"{avogadro_number:.0e}\\\")\\n6e+23\\n\\u003e\\u003e\\u003e print(f\\\"{avogadro_number:.3e}\\\")\\n6.022e+23\\n\\u003e\\u003e\\u003e print(f\\\"{avogadro_number:.6e}\\\")\\n6.022141e+23\\n```\\n\\n\\n## Ancienne méthode de formatage des chaînes de caractères\\n\\n*Conseil* : Pour les débutants, tout ce qui est écrit dans cette rubrique n'est pas à retenir.\\n\\nDans les premières versions de Python jusqu'à la 2.6, il fallait utiliser l'opérateur `%`, puis de la version 2.7 jusqu'à la 3.5 il était plutôt conseillé d'utiliser la méthode `.format()` (voir la rubrique suivante pour la définition du mot « méthode »). Même si les *f-strings* sont devenues la manière conseillée pour mettre en place l'écriture formatée, ces deux anciennes manières, sont encore pleinement compatibles avec les versions modernes de Python.\",\"Même si elle fonctionne encore, la première manière avec l'opérateur `%` est maintenant clairement déconseillée pour un certain nombre de [raisons](https:\\u002f\\u002fdocs.python.org\\u002ffr\\u002f3\\u002flibrary\\u002fstdtypes.html?highlight=sprintf#printf-style-string-formatting). Néanmoins, nous rappelons ci-dessous son fonctionnement, car il se peut que vous tombiez dessus dans d'anciens livres ou si vous lisez de vieux programmes Python.\\n\\nLa deuxième manière avec la méthode `.format()` est encore largement utilisée et reste tout à fait valide. Elle est clairement plus puissante et évite un certain nombre de désagréments par rapport à l'opérateur `%`. Vous la croiserez sans doute très fréquemment dans des programmes et ouvrages récents. Heureusement elle a un fonctionnement relativement proche des *f-strings*, donc vous ne serez pas totalement perdus !\\n\\nEnfin, nous indiquons à la fin de cette rubrique nos conseils sur quelle méthode utiliser.\\n\\n### L'opérateur `%`\",\"Enfin, nous indiquons à la fin de cette rubrique nos conseils sur quelle méthode utiliser.\\n\\n### L'opérateur `%`\\n\\nOn a vu avec les entiers que l'opérateur `%` ou *modulo* renvoyait le reste d'une division entière. Cet opérateur existe aussi pour les chaînes de caractères mais il met en place l'écriture formatée. En voici un exemple :\\n\\n```python\\n\\u003e\\u003e\\u003e x = 32\\n\\u003e\\u003e\\u003e nom = \\\"John\\\"\\n\\u003e\\u003e\\u003e print(\\\"%s a %d ans\\\" % (nom, x))\\nJohn a 32 ans\\n\\u003e\\u003e\\u003e nb_G = 4500\\n\\u003e\\u003e\\u003e nb_C = 2575\\n\\u003e\\u003e\\u003e prop_GC = (nb_G + nb_C)\\u002f14800\\n\\u003e\\u003e\\u003e print(\\\"On a %d G et %d C -\\u003e prop GC = %.2f\\\" % (nb_G, nb_C, prop_GC))\\nOn a 4500 G et 2575 C -\\u003e prop GC = 0.48\\n```\\n\\nLa syntaxe est légèrement différente. Le symbole `%` est d'abord appelé dans la chaîne de caractères (dans l'exemple ci-dessus `%d`, `%d` et `%.2f`) pour :\",\"La syntaxe est légèrement différente. Le symbole `%` est d'abord appelé dans la chaîne de caractères (dans l'exemple ci-dessus `%d`, `%d` et `%.2f`) pour :\\n\\n- Désigner l'endroit où sera placée la variable dans la chaîne de caractères.\\n- Préciser le type de variable à formater, `d` pour un entier (`i` fonctionne également) ou `f` pour un *float*.\\n- Éventuellement pour indiquer le format voulu. Ici `.2` signifie une précision de deux décimales.\\n\\nLe signe `%` est rappelé une seconde fois (`% (nb_G, nb_C, prop_GC)`) pour indiquer les variables à formater.\\n\\n### La méthode `.format()`\\n\\nDepuis la version 2.7 de Python, la méthode `.format()` (voir la rubrique suivante pour la définition d'une méthode) a apporté une nette amélioration pour mettre en place l'écriture formatée. Celle-ci fonctionne de la manière suivante :\",\"```python\\n\\u003e\\u003e\\u003e x = 32\\n\\u003e\\u003e\\u003e nom = \\\"John\\\"\\n\\u003e\\u003e\\u003e print(\\\"{} a {} ans\\\".format(nom, x))\\nJohn a 32 ans\\n\\u003e\\u003e\\u003e nb_G = 4500\\n\\u003e\\u003e\\u003e nb_C = 2575\\n\\u003e\\u003e\\u003e prop_GC = (nb_G + nb_C)\\u002f14800\\n\\u003e\\u003e\\u003e print(\\\"On a {} G et {} C -\\u003e prop GC = {:.2f}\\\".format(nb_G, nb_C, prop_GC))\\nOn a 4500 G et 2575 C -\\u003e prop GC = 0.48\\n```\\n\\n- Dans la chaîne de caractères, les accolades vides `{}` précisent l'endroit où le contenu de la variable doit être inséré.\\n- Juste après la chaîne de caractères, l'instruction `.format(nom, x)` fournit la liste des variables à insérer, d'abord la variable `nom` puis la variable `x`. \\n- On peut éventuellement préciser le formatage en mettant un caractère deux-points `:` puis par exemple ici `.2f` qui signifie 2 chiffres après la virgule.\\n- La méthode `.format()` agit sur la chaîne de caractères à laquelle elle est attachée par le point.\",\"Tout ce que nous avons vu avec les *f-strings* sur la manière de formatter l'affichage d'une variable (après les `:` au sein des accolades) est identique avec la méthode `.format()`. Par exemple `{:.2f}`, `{:0\\u003e6d}`, `{:.6e}`, etc., fonctionneront de la même manière. La différence notable est qu'on ne met pas directement le nom de la variable au sein des accolades. Comme pour l'opérateur `%`, c'est l'emplacement dans les arguments passés à la méthode `.format()` qui dicte quelle variable doit être remplacée. Par exemple, dans `\\\"{} {} {}\\\".format(bidule, machin, truc)`, les premières accolades remplaceront la variable `bidule`, les deuxièmes la variable `machin`, les troisièmes la variable `truc`.\",\"Le formattage avec la méthode `.format()` se rapproche de la syntaxe des *f-strings* (accolades, deux-points), mais présente l'inconvénient -- comme avec l'opérateur `%` -- de devoir mettre la liste des variables tout à la fin, alourdissant ainsi la syntaxe. En effet, dans l'exemple avec la proportion de GC, la ligne équivalente avec une *f-string* apparait tout de même plus simple à lire :\\n\\n```python\\n\\u003e\\u003e\\u003e print(f\\\"On a {nb_G} G et {nb_C} C -\\u003e prop GC = {prop_GC:.2f}\\\")\\nOn a 4500 G et 2575 C -\\u003e prop GC = 0.48\\n```\\n\\nopen-box-adv\",\"```python\\n\\u003e\\u003e\\u003e print(f\\\"On a {nb_G} G et {nb_C} C -\\u003e prop GC = {prop_GC:.2f}\\\")\\nOn a 4500 G et 2575 C -\\u003e prop GC = 0.48\\n```\\n\\nopen-box-adv\\n\\nPour conclure, ces deux anciennes façons de formater une chaîne de caractères avec l'opérateur `%` ou la méthode `.format()` vous sont présentées à titre d'information. La première avec l'opérateur `%` est clairement déconseillée. La deuxième avec la méthode `.format()` est encore tout à fait valable. Si vous débutez Python, nous vous conseillons fortement d'apprendre et d'utiliser les *f-strings*. C'est ce que vous rencontrerez dans la suite de ce cours. Si vous connaissez déjà Python et que vous utilisez la méthode `.format()`, nous vous conseillons de passer aux *f-strings*. Depuis que nous les avons découvertes, aucun retour n'est envisageable pour nous tant elles sont puissantes et plus claires à utiliser !\",\"Enfin, si vous souhaitez aller plus loin, voici deux articles (en anglais) très bien faits sur le site *RealPython*: sur l'[écriture formatée](https:\\u002f\\u002frealpython.com\\u002fpython-string-formatting) et sur les [*f-strings*](https:\\u002f\\u002frealpython.com\\u002fpython-f-strings\\u002f)\\n\\nclose-box-adv\\n\\n## Note sur le vocabulaire et la syntaxe\\n\\nRevenons quelques instants sur la notion de **méthode** abordée dans ce chapitre avec `.format()`. En Python, on peut considérer chaque variable comme un objet sur lequel on peut appliquer des méthodes. Une méthode est simplement une fonction qui utilise et\\u002fou agit sur l'objet lui-même, les deux étant connectés par un point. La syntaxe générale est de la forme `objet.méthode()`.\\n\\nDans l'exemple suivant :\\n\\n```python\\n\\u003e\\u003e\\u003e \\\"Joe a {} ans\\\".format(20)\\n'Joe a 20 ans'\\n```\\n\\nla méthode `.format()` est liée à `\\\"Joe a {} ans\\\"` qui est un objet de type chaîne de caractères. La méthode renvoie une nouvelle chaîne de caractères avec le bon formatage (ici, `'Joe a 20 ans'`).\",\"la méthode `.format()` est liée à `\\\"Joe a {} ans\\\"` qui est un objet de type chaîne de caractères. La méthode renvoie une nouvelle chaîne de caractères avec le bon formatage (ici, `'Joe a 20 ans'`).\\n\\nNous aurons de nombreuses occasions de revoir cette notation `objet.méthode()`.\\n\\n\\n## Exercices\\n\\n*Conseil* : utilisez l'interpréteur Python pour les exercices 2 à 5.\\n\\n\\n### Affichage dans l'interpréteur et dans un programme\\n\\nOuvrez l'interpréteur Python et tapez l'instruction `1+1`. Que se passe-t-il ?\\n\\nÉcrivez la même chose dans un script `test.py` que vous allez créer avec un éditeur de texte. Exécutez ce script en tapant `python test.py` dans un *shell*. Que se passe-t-il ? Pourquoi ? Faites en sorte d'afficher le résultat de l'addition `1+1` en exécutant le script dans un *shell*.\\n\\n\\n### Poly-A\\n\\nGénérez une chaîne de caractères représentant un brin d'ADN poly-A (c'est-à-dire qui ne contient que des bases A) de 20 bases de longueur, sans taper littéralement toutes les bases.\",\"### Poly-A\\n\\nGénérez une chaîne de caractères représentant un brin d'ADN poly-A (c'est-à-dire qui ne contient que des bases A) de 20 bases de longueur, sans taper littéralement toutes les bases.\\n\\n\\n### Poly-A et poly-GC\\n\\nSur le modèle de l'exercice précédent, générez en une ligne de code un brin d'ADN poly-A (AAAA...) de 20 bases suivi d'un poly-GC régulier (GCGCGC...) de 40 bases.\\n\\n\\n### Écriture formatée\\n\\nEn utilisant l'écriture formatée, affichez en une seule ligne les variables `a`, `b` et `c` dont les valeurs sont respectivement la chaîne de caractères `\\\"salut\\\"`, le nombre entier `102` et le *float* `10.318`. La variable `c` sera affichée avec 2 décimales.\\n\\n\\n### Écriture formatée 2\\n\\nDans un script `percGC.py`, calculez un pourcentage de GC avec l'instruction suivante :\\n\\n`perc_GC = ((4500 + 2575)\\u002f14800)*100`\",\"### Écriture formatée 2\\n\\nDans un script `percGC.py`, calculez un pourcentage de GC avec l'instruction suivante :\\n\\n`perc_GC = ((4500 + 2575)\\u002f14800)*100`\\n\\nEnsuite, affichez le contenu de la variable `perc_GC` à l'écran avec 0, 1, 2 puis 3 décimales sous forme arrondie en utilisant l'écriture formatée et les *f-strings*. On souhaite que le programme affiche la sortie suivante :\\n\\n```text\\nLe pourcentage de GC est 48     %\\nLe pourcentage de GC est 47.8   %\\nLe pourcentage de GC est 47.80  %\\nLe pourcentage de GC est 47.804 %\\n```\"],\"marker\":{\"color\":1,\"colorscale\":[[0.0,\"#440154\"],[0.1111111111111111,\"#482878\"],[0.2222222222222222,\"#3e4989\"],[0.3333333333333333,\"#31688e\"],[0.4444444444444444,\"#26828e\"],[0.5555555555555556,\"#1f9e89\"],[0.6666666666666666,\"#35b779\"],[0.7777777777777778,\"#6ece58\"],[0.8888888888888888,\"#b5de2b\"],[1.0,\"#fde725\"]],\"opacity\":0.8,\"size\":5},\"mode\":\"markers\",\"name\":\"Affichage\",\"x\":[0.024602879560722588,0.1388655681233343,0.171964926891132,0.2889450451367363,0.32191479576156357,0.3250446577984859,0.3291009345452451,0.33773232871021847,0.4969287512582874,0.4422143914309633,0.4665182705855518,0.42318288700552414,0.3386592672988308,0.4162357622673455,0.5347998849863937,0.4048874901911374,0.3197082687251081,0.3006409016914391,0.4358612188456685,0.35010638870258975,0.32829635613450314,0.4018565370663623,0.4147897124054015,0.388519972866369,0.46674292241906584,0.46358317871001076,0.2700086530798403,0.1441732654235471,0.15246136245288816,0.3499673312445188],\"y\":[-0.008120174632583018,-0.06133291414119984,-0.04007834919686302,0.06849376462678752,0.05078401311491109,0.017407424153207673,-0.03334889565138034,0.02655890131463781,0.06602207632038694,0.08267123206088911,0.06532656848377072,0.09855157650865672,0.07953140653691214,0.1179830834616547,0.05358966546830183,0.002458307953487078,-0.04676728827937236,0.0758980519988771,0.07749618170350583,0.05629885608302704,0.03205940417293732,0.044137559233391715,0.048214199659582305,0.03614222466792514,0.09410080957932265,0.12809278823476886,-0.004210049841486531,0.04311741442093951,0.030069259940256075,0.061419790544436935],\"z\":[-0.03284447675697062,0.04789988414975875,0.04833806347157638,0.07201444601053711,-0.04962593092555338,-0.018554535560211683,-0.018706465498690435,0.04724363988733195,0.08739483245771489,0.08801210819378827,0.10190768811745414,0.16756473209620237,0.14531442159349067,0.10341045392035728,0.08484145902657778,-0.03919660795772571,0.02424674335074459,0.056272530247059985,0.08356534793503959,0.048172705871692,0.09873780224450461,-0.00876484764478009,0.07043150548812849,0.037359662436299075,0.08068397285712677,0.03874526004400646,-0.008326810016695095,0.09742082878372336,0.09427434936989386,0.04046506959313457],\"type\":\"scatter3d\"},{\"hoverinfo\":\"text\",\"hovertext\":[\"# Listes\\n\\n## Définition\\n\\nUne **liste** est une structure de données qui contient une série de valeurs. Python autorise la construction de liste contenant des valeurs de types différents (par exemple entier et chaîne de caractères), ce qui leur confère une grande flexibilité. Une liste est déclarée par une série de valeurs (n'oubliez pas les guillemets, simples ou doubles, s'il s'agit de chaînes de caractères) séparées par des **virgules**, et le tout encadré par des **crochets**. En voici quelques exemples :\\n\\n```python\\n\\u003e\\u003e\\u003e animaux = [\\\"girafe\\\", \\\"tigre\\\", \\\"singe\\\", \\\"souris\\\"]\\n\\u003e\\u003e\\u003e tailles = [5, 2.5, 1.75, 0.15]\\n\\u003e\\u003e\\u003e mixte = [\\\"girafe\\\", 5, \\\"souris\\\", 0.15]\\n\\u003e\\u003e\\u003e animaux\\n['girafe', 'tigre', 'singe', 'souris']\\n\\u003e\\u003e\\u003e tailles\\n[5, 2.5, 1.75, 0.15]\\n\\u003e\\u003e\\u003e mixte\\n['girafe', 5, 'souris', 0.15]\\n```\\n\\nLorsque l'on affiche une liste, Python la restitue telle qu'elle a été saisie.\\n\\n\\n## Utilisation\",\"Lorsque l'on affiche une liste, Python la restitue telle qu'elle a été saisie.\\n\\n\\n## Utilisation\\n\\nUn des gros avantages d'une liste est que vous pouvez appeler ses éléments par leur position. Ce numéro est appelé **indice** (ou *index*) de la liste.\\n\\n```text\\nliste  : [\\\"girafe\\\", \\\"tigre\\\", \\\"singe\\\", \\\"souris\\\"]\\nindice :        0        1        2         3\\n```\\n\\nSoyez très **attentif** au fait que les indices d'une liste de *n* éléments commencent à *0* et se terminent à *n-1*. Voyez l'exemple suivant :\\n\\n```python\\n\\u003e\\u003e\\u003e animaux = [\\\"girafe\\\", \\\"tigre\\\", \\\"singe\\\", \\\"souris\\\"]\\n\\u003e\\u003e\\u003e animaux[0]\\n'girafe'\\n\\u003e\\u003e\\u003e animaux[1]\\n'tigre'\\n\\u003e\\u003e\\u003e animaux[3]\\n'souris'\\n```\\n\\nPar conséquent, si on appelle l'élément d'indice 4 de notre liste, Python renverra un message d'erreur :\\n\\n```python\\n\\u003e\\u003e\\u003e animaux[4]\\nTraceback (innermost last):\\n  File \\\"\\u003cstdin\\u003e\\\", line 1, in ?\\nIndexError: list index out of range\\n```\\n\\nN'oubliez pas ceci ou vous risquez d'obtenir des bugs inattendus !\\n\\n\\n## Opération sur les listes\",\"N'oubliez pas ceci ou vous risquez d'obtenir des bugs inattendus !\\n\\n\\n## Opération sur les listes\\n\\nTout comme les chaînes de caractères, les listes supportent l'opérateur `+` de concaténation, ainsi que l'opérateur `*` pour la duplication :\\n\\n```python\\n\\u003e\\u003e\\u003e ani1 = [\\\"girafe\\\", \\\"tigre\\\"]\\n\\u003e\\u003e\\u003e ani2 = [\\\"singe\\\", \\\"souris\\\"]\\n\\u003e\\u003e\\u003e ani1 + ani2\\n['girafe', 'tigre', 'singe', 'souris']\\n\\u003e\\u003e\\u003e ani1 * 3\\n['girafe', 'tigre', 'girafe', 'tigre', 'girafe', 'tigre']\\n```\\n\\nL'opérateur `+` est très pratique pour concaténer deux listes.\\n\\nVous pouvez aussi utiliser la méthode `.append()` lorsque vous souhaitez ajouter un seul élément à la fin d'une liste.\\n\\nDans l'exemple suivant nous allons créer une liste vide :\\n\\n```python\\n\\u003e\\u003e\\u003e a = []\\n\\u003e\\u003e\\u003e a\\n[]\\n```\\n\\npuis lui ajouter deux éléments, l'un après l'autre, d'abord avec la concaténation :\\n\\n```python\\n\\u003e\\u003e\\u003e a = a + [15]\\n\\u003e\\u003e\\u003e a\\n[15]\\n\\u003e\\u003e\\u003e a = a + [-5]\\n\\u003e\\u003e\\u003e a\\n[15, -5]\\n```\\n\\npuis avec la méthode `.append()` :\",\"puis lui ajouter deux éléments, l'un après l'autre, d'abord avec la concaténation :\\n\\n```python\\n\\u003e\\u003e\\u003e a = a + [15]\\n\\u003e\\u003e\\u003e a\\n[15]\\n\\u003e\\u003e\\u003e a = a + [-5]\\n\\u003e\\u003e\\u003e a\\n[15, -5]\\n```\\n\\npuis avec la méthode `.append()` :\\n\\n```python\\n\\u003e\\u003e\\u003e a.append(13)\\n\\u003e\\u003e\\u003e a\\n[15, -5, 13]\\n\\u003e\\u003e\\u003e a.append(-3)\\n\\u003e\\u003e\\u003e a\\n[15, -5, 13, -3]\\n```\\n\\nDans l'exemple ci-dessus, nous ajoutons des éléments à une liste en utilisant l'opérateur de concaténation `+` ou la méthode `.append()`. Nous vous conseillons dans ce cas précis d'utiliser la méthode `.append()` dont la syntaxe est plus élégante.\\n\\nNous reverrons en détail la méthode `.append()` dans le chapitre 11 *Plus sur les listes*.\\n\\n\\n## Indiçage négatif\\n\\nLa liste peut également être indexée avec des nombres négatifs selon le modèle suivant :\\n\\n```text\\nliste          : [\\\"girafe\\\", \\\"tigre\\\", \\\"singe\\\", \\\"souris\\\"]\\nindice positif :        0        1        2         3\\nindice négatif :       -4       -3       -2        -1\\n```\\n\\nou encore :\",\"```text\\nliste          : [\\\"girafe\\\", \\\"tigre\\\", \\\"singe\\\", \\\"souris\\\"]\\nindice positif :        0        1        2         3\\nindice négatif :       -4       -3       -2        -1\\n```\\n\\nou encore :\\n\\n```text\\nliste          : [\\\"A\\\", \\\"B\\\", \\\"C\\\", \\\"D\\\", \\\"E\\\", \\\"F\\\"]\\nindice positif :   0    1    2    3    4    5\\nindice négatif :  -6   -5   -4   -3   -2   -1\\n```\\n\\nLes indices négatifs reviennent à compter à partir de la fin. Leur principal avantage est que vous pouvez accéder au dernier élément d'une liste à l'aide de l'indice `-1` sans pour autant connaître la longueur de cette liste. L'avant-dernier élément a lui l'indice `-2`, l'avant-avant dernier l'indice `-3`, etc.\\n\\n```python\\n\\u003e\\u003e\\u003e animaux = [\\\"girafe\\\", \\\"tigre\\\", \\\"singe\\\", \\\"souris\\\"]\\n\\u003e\\u003e\\u003e animaux[-1]\\n'souris'\\n\\u003e\\u003e\\u003e animaux[-2]\\n'singe'\\n```\\n\\nPour accéder au premier élément de la liste avec un indice négatif, il faut par contre connaître le bon indice :\\n\\n```python\\n\\u003e\\u003e\\u003e animaux[-4]\\n'girafe'\\n```\\n\\nDans ce cas, on utilise plutôt `animaux[0]`.\\n\\n\\n## Tranches\",\"```python\\n\\u003e\\u003e\\u003e animaux[-4]\\n'girafe'\\n```\\n\\nDans ce cas, on utilise plutôt `animaux[0]`.\\n\\n\\n## Tranches\\n\\nUn autre avantage des listes est la possibilité de sélectionner une partie d'une liste en utilisant un indiçage construit sur le modèle `[m:n+1]` pour récupérer tous les éléments, du émième au énième (de l'élément `m` inclus à l'élément `n+1` exclu). On dit alors qu'on récupère une **tranche** de la liste, par exemple :\\n\\n```python\\n\\u003e\\u003e\\u003e animaux = [\\\"girafe\\\", \\\"tigre\\\", \\\"singe\\\", \\\"souris\\\"]\\n\\u003e\\u003e\\u003e animaux[0:2]\\n['girafe', 'tigre']\\n\\u003e\\u003e\\u003e animaux[0:3]\\n['girafe', 'tigre', 'singe']\\n\\u003e\\u003e\\u003e animaux[0:]\\n['girafe', 'tigre', 'singe', 'souris']\\n\\u003e\\u003e\\u003e animaux[:]\\n['girafe', 'tigre', 'singe', 'souris']\\n\\u003e\\u003e\\u003e animaux[1:]\\n['tigre', 'singe', 'souris']\\n\\u003e\\u003e\\u003e animaux[1:-1]\\n['tigre', 'singe']\\n```\\n\\nNotez que lorsqu'aucun indice n'est indiqué à gauche ou à droite du symbole deux-points, Python prend par défaut tous les éléments depuis le début ou tous les éléments jusqu'à la fin respectivement.\",\"Notez que lorsqu'aucun indice n'est indiqué à gauche ou à droite du symbole deux-points, Python prend par défaut tous les éléments depuis le début ou tous les éléments jusqu'à la fin respectivement.\\n\\nOn peut aussi préciser le pas en ajoutant un symbole deux-points supplémentaire et en indiquant le pas par un entier.\\n\\n```python\\n\\u003e\\u003e\\u003e animaux = [\\\"girafe\\\", \\\"tigre\\\", \\\"singe\\\", \\\"souris\\\"]\\n\\u003e\\u003e\\u003e animaux[0:3:2]\\n['girafe', 'singe']\\n\\u003e\\u003e\\u003e x = [0, 1, 2, 3, 4, 5, 6, 7, 8, 9]\\n\\u003e\\u003e\\u003e x\\n[0, 1, 2, 3, 4, 5, 6, 7, 8, 9]\\n\\u003e\\u003e\\u003e x[::1]\\n[0, 1, 2, 3, 4, 5, 6, 7, 8, 9]\\n\\u003e\\u003e\\u003e x[::2]\\n[0, 2, 4, 6, 8]\\n\\u003e\\u003e\\u003e x[::3]\\n[0, 3, 6, 9]\\n\\u003e\\u003e\\u003e x[1:6:3]\\n[1, 4]\\n```\\n\\nFinalement, on se rend compte que l'accès au contenu d'une liste fonctionne sur le modèle `liste[début:fin:pas]`.\\n\\n\\n## Fonction `len()`\\n\\nL'instruction `len()` vous permet de connaître la longueur d'une liste, c'est-à-dire le nombre d'éléments que contient la liste. Voici un exemple d'utilisation :\",\"## Fonction `len()`\\n\\nL'instruction `len()` vous permet de connaître la longueur d'une liste, c'est-à-dire le nombre d'éléments que contient la liste. Voici un exemple d'utilisation :\\n\\n```python\\n\\u003e\\u003e\\u003e animaux = [\\\"girafe\\\", \\\"tigre\\\", \\\"singe\\\", \\\"souris\\\"]\\n\\u003e\\u003e\\u003e len(animaux)\\n4\\n\\u003e\\u003e\\u003e len([1, 2, 3, 4, 5, 6, 7, 8])\\n8\\n```\\n\\n\\n## Les fonctions `range()` et `list()`\\n\\nL'instruction `range()` est une fonction spéciale en Python qui  génère des nombres entiers compris dans un intervalle. Lorsqu'elle est utilisée en combinaison avec la fonction `list()`, on obtient une liste d'entiers. Par exemple :\\n\\n```python\\n\\u003e\\u003e\\u003e list(range(10))\\n[0, 1, 2, 3, 4, 5, 6, 7, 8, 9]\\n```\\n\\nLa commande `list(range(10))` a généré une liste contenant tous les nombres entiers de 0 inclus à 10 **exclu**. Nous verrons l'utilisation de la fonction `range()` toute seule dans le chapitre 5 *Boucles et comparaisons*.\",\"Dans l'exemple ci-dessus, la fonction `range()` a pris un argument, mais elle peut également prendre deux ou trois arguments, voyez plutôt :\\n\\n```python\\n\\u003e\\u003e\\u003e list(range(0, 5))\\n[0, 1, 2, 3, 4]\\n\\u003e\\u003e\\u003e list(range(15, 20))\\n[15, 16, 17, 18, 19]\\n\\u003e\\u003e\\u003e list(range(0, 1000, 200))\\n[0, 200, 400, 600, 800]\\n\\u003e\\u003e\\u003e list(range(2, -2, -1))\\n[2, 1, 0, -1]\\n```\\n\\nL'instruction `range()` fonctionne sur le modèle `range([début,] fin[, pas])`. Les arguments entre crochets sont optionnels. Pour obtenir une liste de nombres entiers, il faut l'utiliser systématiquement avec la fonction `list()`.\\n\\nEnfin, prenez garde aux arguments optionnels par défaut (`0` pour `début` et `1` pour `pas`) :\\n\\n```python\\n\\u003e\\u003e\\u003e list(range(10,0))\\n[]\\n```\",\"Enfin, prenez garde aux arguments optionnels par défaut (`0` pour `début` et `1` pour `pas`) :\\n\\n```python\\n\\u003e\\u003e\\u003e list(range(10,0))\\n[]\\n```\\n\\nIci la liste est vide car Python a pris la valeur du pas par défaut qui est de 1. Ainsi, si on commence à 10 et qu'on avance par pas de 1, on ne pourra jamais atteindre 0. Python génère ainsi une liste vide. Pour éviter ça, il faudrait, par exemple, préciser un pas de -1 pour obtenir une liste d'entiers décroissants :\\n\\n```python\\n\\u003e\\u003e\\u003e list(range(10,0,-1))\\n[10, 9, 8, 7, 6, 5, 4, 3, 2, 1]\\n```\\n\\n## Listes de listes\\n\\nPour finir, sachez qu'il est tout à fait possible de construire des listes de listes. Cette fonctionnalité peut parfois être très pratique. Par exemple :\\n\\n```python\\n\\u003e\\u003e\\u003e enclos1 = [\\\"girafe\\\", 4]\\n\\u003e\\u003e\\u003e enclos2 = [\\\"tigre\\\", 2]\\n\\u003e\\u003e\\u003e enclos3 = [\\\"singe\\\", 5]\\n\\u003e\\u003e\\u003e zoo = [enclos1, enclos2, enclos3]\\n\\u003e\\u003e\\u003e zoo\\n[['girafe', 4], ['tigre', 2], ['singe', 5]]\\n```\",\"```python\\n\\u003e\\u003e\\u003e enclos1 = [\\\"girafe\\\", 4]\\n\\u003e\\u003e\\u003e enclos2 = [\\\"tigre\\\", 2]\\n\\u003e\\u003e\\u003e enclos3 = [\\\"singe\\\", 5]\\n\\u003e\\u003e\\u003e zoo = [enclos1, enclos2, enclos3]\\n\\u003e\\u003e\\u003e zoo\\n[['girafe', 4], ['tigre', 2], ['singe', 5]]\\n```\\n\\nDans cet exemple, chaque sous-liste contient une catégorie d'animal et le nombre d'animaux pour chaque catégorie.\\n\\nPour accéder à un élément de la liste, on utilise l'indiçage habituel :\\n\\n```python\\n\\u003e\\u003e\\u003e zoo[1]\\n['tigre', 2]\\n```\\n\\nPour accéder à un élément de la sous-liste, on utilise un double indiçage :\\n\\n```python\\n\\u003e\\u003e\\u003e zoo[1][0]\\n'tigre'\\n\\u003e\\u003e\\u003e zoo[1][1]\\n2\\n```\\n\\nOn verra un peu plus loin qu'il existe en Python des dictionnaires qui sont également très pratiques pour stocker de l'information structurée. On verra aussi qu'il existe un module nommé *NumPy* qui permet de créer des listes ou des tableaux de nombres (vecteurs et matrices) et de les manipuler.\\n\\n## Minimum, maximum et somme d'une liste\",\"## Minimum, maximum et somme d'une liste\\n\\nLes fonctions `min()`, `max()` et `sum()` renvoient respectivement le minimum, le maximum et la somme d'une liste passée en argument.\\n\\n```python\\n\\u003e\\u003e\\u003e liste = list(range(10))\\n\\u003e\\u003e\\u003e liste\\n[0, 1, 2, 3, 4, 5, 6, 7, 8, 9]\\n\\u003e\\u003e\\u003e sum(liste)\\n45\\n\\u003e\\u003e\\u003e min(liste)\\n0\\n\\u003e\\u003e\\u003e max(liste)\\n9\\n```\\n\\nMême si en théorie ces fonctions peuvent prendre en argument une liste de *strings*, on les utilisera la plupart du temps avec des types numériques (liste d'entiers et \\u002f ou de *floats*). \\n\\nNous avions déjà croisé `min()`, `max()` dans le chapitre 2 *Variables*. On avait vu que ces deux fonctions pouvaient prendre plusieurs arguments entiers et \\u002f ou *floats*, par exemple :\\n\\n```python\\n\\u003e\\u003e\\u003e min(3, 4)\\n3\\n```\\n\\nAttention toutefois à ne pas mélanger entiers et *floats* d'une part avec une liste d'autre part, car cela renvoie une erreur :\",\"```python\\n\\u003e\\u003e\\u003e min(3, 4)\\n3\\n```\\n\\nAttention toutefois à ne pas mélanger entiers et *floats* d'une part avec une liste d'autre part, car cela renvoie une erreur :\\n\\n```python\\n\\u003e\\u003e\\u003e min(liste, 3, 4)\\nTraceback (most recent call last):\\n  File \\\"\\u003cstdin\\u003e\\\", line 1, in \\u003cmodule\\u003e\\nTypeError: '\\u003c' not supported between instances of 'int' and 'list'\\n```\\n\\nSoit on passe plusieurs entiers et \\u002f ou *floats* en argument, soit on passe une liste unique.\\n\\n## Exercices\\n\\n*Conseil* : utilisez l'interpréteur Python.\\n\\n\\n### Jours de la semaine\\n\\nConstituez une liste `semaine` contenant les 7 jours de la semaine.\\n\\n1. À partir de cette liste, comment récupérez-vous seulement les 5 premiers jours de la semaine d'une part, et ceux du week-end d'autre part ? Utilisez pour cela l'indiçage.\\n2. Cherchez un autre moyen pour arriver au même résultat (*en utilisant un autre indiçage*).\\n3. Trouvez deux manières pour accéder au dernier jour de la semaine.\\n4. Inversez les jours de la semaine en une commande.\\n\\n\\n### Saisons\",\"### Saisons\\n\\nCréez 4 listes `hiver`, `printemps`, `ete` et `automne` contenant les mois correspondants à ces saisons. Créez ensuite une liste `saisons` contenant les listes `hiver`, `printemps`, `ete` et `automne`. Prévoyez ce que renvoient les instructions suivantes, puis vérifiez-le dans l'interpréteur :\\n\\n1. `saisons[2]`\\n2. `saisons[1][0]`\\n3. `saisons[1:2]`\\n4. `saisons[:][1]`. Comment expliquez-vous ce dernier résultat ?\\n\\n\\n### Table de multiplication par 9\\n\\nAffichez la table de multiplication par 9 en une seule commande avec les instructions `range()` et `list()`.\\n\\n\\n### Nombres pairs\\n\\nRépondez à la question suivante en une seule commande. Combien y a-t-il de nombres pairs dans l'intervalle `[2, 10000]` inclus ?\"],\"marker\":{\"color\":1,\"colorscale\":[[0.0,\"#440154\"],[0.1111111111111111,\"#482878\"],[0.2222222222222222,\"#3e4989\"],[0.3333333333333333,\"#31688e\"],[0.4444444444444444,\"#26828e\"],[0.5555555555555556,\"#1f9e89\"],[0.6666666666666666,\"#35b779\"],[0.7777777777777778,\"#6ece58\"],[0.8888888888888888,\"#b5de2b\"],[1.0,\"#fde725\"]],\"opacity\":0.8,\"size\":5},\"mode\":\"markers\",\"name\":\"Listes\",\"x\":[-0.24913705025788202,-0.2543274930239324,-0.2172149455308283,-0.23944686696791181,-0.28074064423712625,-0.25108491904188057,-0.22963015582976867,-0.2640734122896219,-0.19536626813790955,-0.29626080400503857,-0.2894399498100807,-0.2136829127923837,-0.21471960751602945,-0.23307818092369118],\"y\":[-0.19001765455483266,-0.1573455993857062,-0.12728930248276468,-0.15350137232056962,-0.13405114447641917,-0.1771449566457973,-0.19620135151015156,-0.20513217896470848,-0.2757328691983465,-0.20707911990881783,-0.19927875419538643,-0.2844974993919806,-0.21562971868929362,-0.12661057572512985],\"z\":[0.3541312925850284,0.37744547815381363,0.3565508537620115,0.4404507717874559,0.46096016887412744,0.4570897782648427,0.39029342260423133,0.3123534463400778,0.12949917206856296,0.29010619817320643,0.4178735325079936,0.2465567083572028,0.2626152804584501,0.20011028877141146],\"type\":\"scatter3d\"},{\"hoverinfo\":\"text\",\"hovertext\":[\"# Fonctions\\n\\n## Principe et généralités\\n\\nEn programmation, les **fonctions** sont très utiles pour réaliser plusieurs fois la même opération au sein d'un programme. Elles rendent également le code plus lisible et plus clair en le fractionnant en blocs logiques.\\n\\nVous connaissez déjà certaines fonctions Python. Par exemple `math.cos(angle)` du module `math` renvoie le cosinus de la variable `angle` exprimé en radian. Vous connaissez aussi des fonctions internes à Python comme `range()` ou `len()`. Pour l'instant, une fonction est à vos yeux une sorte de « boîte noire » (voir figure @fig:schema_fonction) :\\n\\n1. À laquelle vous passez aucune, une ou plusieurs variable(s) entre parenthèses. Ces variables sont appelées **arguments**. Il peut s'agir de n'importe quel type d'objet Python.\\n2. Qui effectue une action.\\n3. Et qui renvoie un objet Python ou rien du tout.\\n\\n![Fonctionnement schématique d'une fonction.](img\\u002fschema_fonction.png){ #fig:schema_fonction width=90% }\",\"![Fonctionnement schématique d'une fonction.](img\\u002fschema_fonction.png){ #fig:schema_fonction width=90% }\\n\\nPar exemple, si vous appelez la fonction `len()` de la manière suivante :\\n\\n```python\\n\\u003e\\u003e\\u003e len([0, 1, 2])\\n3\\n```\\n\\nvoici ce qui se passe :\\n\\n1. vous appelez `len()` en lui passant une liste en argument (ici la liste `[0, 1, 2]`) ;\\n2. la fonction calcule la longueur de cette liste ;\\n3. elle vous renvoie un entier égal à cette longueur.\\n\\nAutre exemple, si vous appelez la méthode `ma_liste.append()` (n'oubliez pas, une **méthode** est une **fonction** qui agit sur l'objet auquel elle est attachée par un point) :\\n\\n```python\\n\\u003e\\u003e\\u003e ma_liste.append(5)\\n```\\n\\n1. Vous passez l'entier `5` en argument ;\\n2. la méthode `append()` ajoute l'entier `5` à l'objet `ma_liste` ;\\n3. et elle ne renvoie rien.\",\"```python\\n\\u003e\\u003e\\u003e ma_liste.append(5)\\n```\\n\\n1. Vous passez l'entier `5` en argument ;\\n2. la méthode `append()` ajoute l'entier `5` à l'objet `ma_liste` ;\\n3. et elle ne renvoie rien.\\n\\nAux yeux du programmeur au contraire, une fonction est une portion de code effectuant une suite d'instructions bien particulière. Mais avant de vous présenter la syntaxe et la manière de construire une fonction, revenons une dernière fois sur cette notion de « boîte noire » :\\n\\n- Une fonction effectue une tâche. Pour cela, elle reçoit éventuellement des arguments et renvoie éventuellement quelque chose. L'algorithme utilisé au sein de la fonction n'intéresse pas directement l'utilisateur. Par exemple, il est inutile de savoir comment la fonction `math.cos()` calcule un cosinus. On a juste besoin de savoir qu'il faut lui passer en argument un angle en radian et qu'elle renvoie le cosinus de cet angle. Ce qui se passe à l'intérieur de la fonction ne regarde que le programmeur.\",\"- Chaque fonction effectue en général une tâche **unique et précise**. Si cela se complique, il est plus judicieux d'écrire plusieurs fonctions (qui peuvent éventuellement s'appeler les unes les autres). Cette **modularité** améliore la qualité générale et la lisibilité du code. Vous verrez qu'en Python, les fonctions présentent une grande flexibilité.\",\"Pour finir sur les généralités, nous avons utilisé dans la Figure @fig:schema_fonction le terme **programme principal** (*main* en anglais) pour désigner l'endroit depuis lequel on appelle une fonction (on verra plus tard que l'on peut en fait appeler une fonction de n'importe où). Le programme principal désigne le code qui est exécuté lorsqu'on lance le script Python, c'est-à-dire toute la suite d'instructions en dehors des fonctions. En général, dans un script Python, on écrit d'abord les fonctions puis le programme principal. Nous aurons l'occasion de revenir sur cette notion de programme principal plus tard dans ce chapitre ainsi que dans le chapitre 12 *Plus sur les fonctions*.\\n\\n\\n## Définition\\n\\nPour définir une fonction, Python utilise le mot-clé `def`. Si on souhaite que la fonction renvoie quelque chose, il faut utiliser le mot-clé `return`. Par exemple :\",\"## Définition\\n\\nPour définir une fonction, Python utilise le mot-clé `def`. Si on souhaite que la fonction renvoie quelque chose, il faut utiliser le mot-clé `return`. Par exemple :\\n\\n```python\\n\\u003e\\u003e\\u003e def carre(x):\\n...     return x**2\\n...\\n\\u003e\\u003e\\u003e print(carre(2))\\n4\\n```\\nNotez que la syntaxe de `def` utilise les deux-points comme les boucles `for` et `while` ainsi que les tests `if`, un bloc d’instructions est donc attendu. De même que pour les boucles et les tests, l'**indentation** de ce bloc d'instructions (qu'on appelle le corps de la fonction) est **obligatoire**.\\n\\nDans l'exemple précédent, nous avons passé un argument à la fonction `carre()` qui nous a renvoyé (ou retourné) une valeur que nous avons immédiatement affichée à l'écran avec l'instruction `print()`. Que veut dire valeur renvoyée ? Et bien cela signifie que cette dernière est récupérable dans une variable :\",\"```python\\n\\u003e\\u003e\\u003e res = carre(2)\\n\\u003e\\u003e\\u003e print(res)\\n4\\n```\\nIci, le résultat renvoyé par la fonction est stocké dans la variable `res`.\\nNotez qu'une fonction ne prend pas forcément un argument et ne renvoie pas forcément une valeur, par exemple :\\n\\n```python\\n\\u003e\\u003e\\u003e def hello():\\n...     print(\\\"bonjour\\\")\\n...\\n\\u003e\\u003e\\u003e hello()\\nbonjour\\n```\\n\\nDans ce cas la fonction, `hello()` se contente d'afficher la chaîne de caractères `\\\"bonjour\\\"` à l'écran. Elle ne prend aucun argument et ne renvoie rien. Par conséquent, cela n'a pas de sens de vouloir récupérer dans une variable le résultat renvoyé par une telle fonction. Si on essaie tout de même, Python affecte la valeur `None` qui signifie *rien* en anglais:\\n\\n```python\\n\\u003e\\u003e\\u003e var = hello()\\nbonjour\\n\\u003e\\u003e\\u003e print(var)\\nNone\\n```\\n\\nCeci n'est pas une faute car Python n'émet pas d'erreur, toutefois cela ne présente, la plupart du temps, guère d'intérêt.\\n\\n\\n## Passage d'arguments\",\"Ceci n'est pas une faute car Python n'émet pas d'erreur, toutefois cela ne présente, la plupart du temps, guère d'intérêt.\\n\\n\\n## Passage d'arguments\\n\\nLe nombre d'arguments que l'on peut passer à une fonction est variable. Nous avons vu ci-dessus des fonctions auxquelles on passait 0 ou 1 argument. Dans les chapitres précédents, vous avez rencontré des fonctions internes à Python qui prenaient au moins 2 arguments. Souvenez-vous par exemple de `range(1, 10)` ou encore `range(1, 10, 2)`. Le nombre d'argument est donc laissé libre à l'initiative du programmeur qui développe une nouvelle fonction.\\n\\nUne particularité des fonctions en Python est que vous n'êtes pas obligé de préciser le type des arguments que vous lui passez, dès lors que les opérations que vous effectuez avec ces arguments sont valides. Python est en effet connu comme étant un langage au « typage dynamique », c'est-à-dire qu'il reconnaît pour vous le type des variables au moment de l'exécution. Par exemple :\",\"```python\\n\\u003e\\u003e\\u003e def fois(x, y):\\n...     return x*y\\n...\\n\\u003e\\u003e\\u003e fois(2, 3)\\n6\\n\\u003e\\u003e\\u003e fois(3.1415, 5.23)\\n16.430045000000003\\n\\u003e\\u003e\\u003e fois(\\\"to\\\", 2)\\n'toto'\\n\\u003e\\u003e\\u003e fois([1,3], 2)\\n[1, 3, 1, 3]\\n```\\n\\nL'opérateur `*` reconnaît plusieurs types (entiers, *floats*, chaînes de caractères, listes). Notre fonction `fois()` est donc capable d'effectuer des tâches différentes ! Même si Python autorise cela, méfiez-vous tout de même de cette grande flexibilité qui pourrait conduire à des surprises dans vos futurs programmes. En général, il est plus judicieux que chaque argument ait un type précis (entiers, *floats*, chaînes de caractères, etc) et pas l'un ou l'autre.\\n\\n\\n## Renvoi de résultats\\n\\nUn énorme avantage en Python est que les fonctions sont capables de renvoyer plusieurs objets à la fois, comme dans cette fraction de code :\\n\\n```python\\n\\u003e\\u003e\\u003e def carre_cube(x):\\n...     return x**2, x**3\\n...\\n\\u003e\\u003e\\u003e carre_cube(2)\\n(4, 8)\\n```\",\"```python\\n\\u003e\\u003e\\u003e def carre_cube(x):\\n...     return x**2, x**3\\n...\\n\\u003e\\u003e\\u003e carre_cube(2)\\n(4, 8)\\n```\\n\\nEn réalité Python ne renvoie qu'un seul objet, mais celui-ci peut être séquentiel, c'est-à-dire contenir lui même d'autres objets. Dans notre exemple Python renvoie un objet de type `tuple`, type que nous verrons dans le chapitre 13 *Dictionnaires et tuples* (*grosso modo*, il s'agit d'une sorte de liste avec des propriétés différentes). Notre fonction pourrait tout autant renvoyer une liste :\\n\\n```python\\n\\u003e\\u003e\\u003e def carre_cube2(x):\\n...     return [x**2, x**3]\\n...\\n\\u003e\\u003e\\u003e carre_cube2(3)\\n[9, 27]\\n```\\n\\nRenvoyer un *tuple* ou une liste de deux éléments (ou plus) est très pratique en conjonction avec l'**affectation multiple**, par exemple :\\n\\n```python\\n\\u003e\\u003e\\u003e z1, z2 = carre_cube2(3)\\n\\u003e\\u003e\\u003e z1\\n9\\n\\u003e\\u003e\\u003e z2\\n27\\n```\\n\\nCela permet de récupérer plusieurs valeurs renvoyées par une fonction et de les affecter à la volée à des variables différentes.\\n\\n\\n## Arguments positionnels et arguments par mot-clé\",\"Cela permet de récupérer plusieurs valeurs renvoyées par une fonction et de les affecter à la volée à des variables différentes.\\n\\n\\n## Arguments positionnels et arguments par mot-clé\\n\\nJusqu'à maintenant, nous avons systématiquement passé le nombre d'arguments que la fonction attendait. Que se passe-t-il si une fonction attend deux arguments et que nous ne lui en passons qu'un seul ?\\n\\n```python\\n\\u003e\\u003e\\u003e def fois(x, y):\\n...     return x*y\\n...\\n\\u003e\\u003e\\u003e fois(2, 3)\\n6\\n\\u003e\\u003e\\u003e fois(2)\\nTraceback (most recent call last):\\n  File \\\"\\u003cstdin\\u003e\\\", line 1, in \\u003cmodule\\u003e\\nTypeError: fois() missing 1 required positional argument: 'y'\\n```\\n\\nOn constate que passer un seul argument à une fonction qui en attend deux conduit à une erreur.\\n\\nopen-box-def\",\"On constate que passer un seul argument à une fonction qui en attend deux conduit à une erreur.\\n\\nopen-box-def\\n\\nLorsqu'on définit une fonction `def fct(x, y):` les arguments `x` et `y` sont appelés **arguments positionnels** (en anglais *positional arguments*). Il est strictement obligatoire de les préciser lors de l'appel de la fonction. De plus, il est nécessaire de respecter le même ordre lors de l'appel que dans la définition de la fonction. Dans l'exemple ci-dessus, `2` correspondra à `x` et `3` correspondra à `y`. Finalement, tout dépendra de leur position, d'où leur qualification de positionnel.\\n\\nclose-box-def\\n\\nMais il est aussi possible de passer un ou plusieurs argument(s) de manière facultative et de leur attribuer une valeur par défaut :\\n\\n```python\\n\\u003e\\u003e\\u003e def fct(x=1):\\n...     return x\\n...\\n\\u003e\\u003e\\u003e fct()\\n1\\n\\u003e\\u003e\\u003e fct(10)\\n10\\n```\\n\\nopen-box-def\",\"```python\\n\\u003e\\u003e\\u003e def fct(x=1):\\n...     return x\\n...\\n\\u003e\\u003e\\u003e fct()\\n1\\n\\u003e\\u003e\\u003e fct(10)\\n10\\n```\\n\\nopen-box-def\\n\\nUn argument défini avec une syntaxe `def fct(arg=val):` est appelé **argument par mot-clé** (en anglais *keyword argument*). Le passage d'un tel argument lors de l'appel de la fonction est facultatif. Ce type d'argument ne doit pas être confondu avec les arguments positionnels présentés ci-dessus, dont la syntaxe est `def fct(arg):`.\\n\\nclose-box-def\\n\\nIl est bien sûr possible de passer plusieurs arguments par mot-clé :\\n\\n```python\\n\\u003e\\u003e\\u003e def fct(x=0, y=0, z=0):\\n...     return x, y, z\\n...\\n\\u003e\\u003e\\u003e fct()\\n(0, 0, 0)\\n\\u003e\\u003e\\u003e fct(10)\\n(10, 0, 0)\\n\\u003e\\u003e\\u003e fct(10, 8)\\n(10, 8, 0)\\n\\u003e\\u003e\\u003e fct(10, 8, 3)\\n(10, 8, 3)\\n```\",\"```python\\n\\u003e\\u003e\\u003e def fct(x=0, y=0, z=0):\\n...     return x, y, z\\n...\\n\\u003e\\u003e\\u003e fct()\\n(0, 0, 0)\\n\\u003e\\u003e\\u003e fct(10)\\n(10, 0, 0)\\n\\u003e\\u003e\\u003e fct(10, 8)\\n(10, 8, 0)\\n\\u003e\\u003e\\u003e fct(10, 8, 3)\\n(10, 8, 3)\\n```\\n\\nOn observe que pour l'instant, les arguments par mot-clé sont pris dans l'ordre dans lesquels on les passe lors de l'appel. Comment pourrions-nous faire si on souhaitait préciser l'argument par mot-clé `z` et garder les valeurs de `x` et `y` par défaut ? Simplement en  précisant le nom de l'argument lors de l'appel :\\n\\n```python\\n\\u003e\\u003e\\u003e fct(z=10)\\n(0, 0, 10)\\n```\\n\\nPython permet même de rentrer les arguments par mot-clé dans un ordre arbitraire :\\n\\n```python\\n\\u003e\\u003e\\u003e fct(z=10, x=3, y=80)\\n(3, 80, 10)\\n\\u003e\\u003e\\u003e fct(z=10, y=80)\\n(0, 80, 10)\\n```\\n\\nQue se passe-t-il lorsque nous avons un mélange d'arguments positionnels et par mot-clé ? Et bien les arguments positionnels doivent toujours être placés avant les arguments par mot-clé :\",\"Que se passe-t-il lorsque nous avons un mélange d'arguments positionnels et par mot-clé ? Et bien les arguments positionnels doivent toujours être placés avant les arguments par mot-clé :\\n\\n```python\\n\\u003e\\u003e\\u003e def fct(a, b, x=0, y=0, z=0):\\n...     return a, b, x, y, z\\n...\\n\\u003e\\u003e\\u003e fct(1, 1)\\n(1, 1, 0, 0, 0)\\n\\u003e\\u003e\\u003e fct(1, 1, z=5)\\n(1, 1, 0, 0, 5)\\n\\u003e\\u003e\\u003e fct(1, 1, z=5, y=32)\\n(1, 1, 0, 32, 5)\\n```\\n\\nOn peut toujours passer les arguments par mot-clé dans un ordre arbitraire à partir du moment où on précise leur nom. Par contre, si les deux arguments positionnels `a` et `b` ne sont pas passés à la fonction, Python renvoie une erreur.\\n\\n```python\\n\\u003e\\u003e\\u003e fct(z=0)\\nTraceback (most recent call last):\\n  File \\\"\\u003cstdin\\u003e\\\", line 1, in \\u003cmodule\\u003e\\nTypeError: fct() missing 2 required positional arguments: 'a' and 'b'\\n```\\n\\nopen-box-adv\\n\\nPréciser le nom des arguments par mot-clé lors de l'appel d'une fonction est une pratique que nous vous recommandons. Cela les distingue clairement des arguments positionnels.\\n\\nclose-box-adv\",\"Préciser le nom des arguments par mot-clé lors de l'appel d'une fonction est une pratique que nous vous recommandons. Cela les distingue clairement des arguments positionnels.\\n\\nclose-box-adv\\n\\nL'utilisation d'arguments par mot-clé est habituelle en Python. Elle permet de modifier le comportement par défaut de nombreuses fonctions. Par exemple, si on souhaite que la fonction `print()` n'affiche pas un retour à la ligne, on peut utiliser l'argument `end` :\\n\\n```python\\n\\u003e\\u003e\\u003e print(\\\"Message \\\", end=\\\"\\\")\\nMessage \\u003e\\u003e\\u003e\\n```\\n\\nNous verrons, dans le chapitre 20 *Fenêtres graphiques et Tkinter*, que l'utilisation d'arguments par mot-clé est systématique lorsqu'on crée un objet graphique (une fenêtre, un bouton, etc.).\\n\\n\\n## Variables locales et variables globales\",\"## Variables locales et variables globales\\n\\nLorsqu'on manipule des fonctions, il est essentiel de bien comprendre comment se comportent les variables. Une variable est dite **locale** lorsqu'elle est créée dans une fonction. Elle n'existera et ne sera visible que lors de l'exécution de ladite fonction.\\n\\nUne variable est dite **globale** lorsqu'elle est créée dans le programme principal. Elle sera visible partout dans le programme.\\n\\nCeci ne vous paraît pas clair ? Nous allons prendre un exemple simple qui vous aidera à mieux saisir ces concepts. Observez le code suivant :\\n\\n```python\\n# définition d'une fonction carre()\\ndef carre(x):\\n    y = x**2\\n    return y\\n\\n# programme principal\\nz = 5\\nresultat = carre(z)\\nprint(resultat)\\n```\",\"```python\\n# définition d'une fonction carre()\\ndef carre(x):\\n    y = x**2\\n    return y\\n\\n# programme principal\\nz = 5\\nresultat = carre(z)\\nprint(resultat)\\n```\\n\\nPour la suite des explications, nous allons utiliser l'excellent site [*Python Tutor*](http:\\u002f\\u002fwww.pythontutor.com) qui permet de visualiser l'état des variables au fur et à mesure de l'exécution d'un code Python. Avant de poursuivre, nous vous conseillons de prendre 5 minutes pour tester ce site.\\n\\nRegardons maintenant ce qui se passe dans le code ci-dessus, étape par étape :\\n\\n- Étape 1 : Python est prêt à lire la première ligne de code.\\n\\n![Étape 1.](img\\u002ffct_step1.png){ #fig:fct_step1 width=80% }\\n\\\\\",\"- Étape 1 : Python est prêt à lire la première ligne de code.\\n\\n![Étape 1.](img\\u002ffct_step1.png){ #fig:fct_step1 width=80% }\\n\\\\\\n\\n\\n- Étape 2 : Python met en mémoire la fonction `carre()`. Notez qu'il ne l'exécute pas ! La fonction est mise dans un espace de la mémoire nommé *Global frame*, il s'agit de l'espace du programme principal. Dans cet espace, seront stockées toutes les variables *globales* créées dans le programme. Python est maintenant prêt à exécuter le programme principal.\\n\\n![Étape 2.](img\\u002ffct_step2.png){ #fig:fct_step2 width=80% }\\n\\\\\\n\\n\\n- Étape 3 : Python lit et met en mémoire la variable `z`. Celle-ci étant créée dans le programme principal, il s'agira d'une variable *globale*. Ainsi, elle sera également stockée dans le *Global frame*.\\n\\n![Étape 3.](img\\u002ffct_step3.png){ #fig:fct_step3 width=80% }\\n\\\\\",\"![Étape 3.](img\\u002ffct_step3.png){ #fig:fct_step3 width=80% }\\n\\\\\\n\\n\\n- Étape 4 : La fonction `carre()` est appelée et on lui passe en argument l'entier `z`. La fonction s'exécute et un nouveau cadre est créé dans lequel *Python Tutor* va indiquer toutes les variables *locales* à la fonction. Notez bien que la variable passée en argument, qui s'appelle `x` dans la fonction, est créée en tant que variable *locale*. On remarquera aussi que les variables *globales* situées dans le *Global frame* sont toujours là.\\n\\n![Étape 4.](img\\u002ffct_step4.png){ #fig:fct_step4 width=80% }\\n\\\\\\n\\n\\n- Étape 5 : Python est maintenant prêt à exécuter chaque ligne de code de la fonction.\\n\\n![Étape 5.](img\\u002ffct_step5.png){ #fig:fct_step5 width=80% }\\n\\\\\\n\\n\\n- Étape 6 : La variable `y` est créée dans la fonction. Celle-ci est donc stockée en tant que variable *locale* à la fonction.\\n\\n![Étape 6.](img\\u002ffct_step6.png){ #fig:fct_step6 width=80% }\\n\\\\\",\"- Étape 6 : La variable `y` est créée dans la fonction. Celle-ci est donc stockée en tant que variable *locale* à la fonction.\\n\\n![Étape 6.](img\\u002ffct_step6.png){ #fig:fct_step6 width=80% }\\n\\\\\\n\\n\\n- Étape 7 : Python s'apprête à renvoyer la variable *locale* `y` au programme principal. *Python Tutor* nous indique le contenu de la valeur renvoyée.\\n\\n![Étape 7.](img\\u002ffct_step7.png){ #fig:fct_step7 width=80% }\\n\\\\\\n\\n\\n- Étape 8 : Python quitte la fonction et la valeur renvoyée par celle-ci est affectée à la variable *globale* `resultat`. Notez bien que lorsque Python quitte la fonction, **l'espace des variables alloué à la fonction est détruit**. Ainsi, toutes les variables créées dans la fonction n'existent plus. On comprend pourquoi elles portent le nom de *locales* puisqu'elles n'existent que lorsque la fonction est exécutée.\\n\\n![Étape 8.](img\\u002ffct_step8.png){ #fig:fct_step8 width=80% }\\n\\\\\\n\\n\\n- Étape 9 : Python affiche le contenu de la variable `resultat` et l'exécution est terminée.\",\"![Étape 8.](img\\u002ffct_step8.png){ #fig:fct_step8 width=80% }\\n\\\\\\n\\n\\n- Étape 9 : Python affiche le contenu de la variable `resultat` et l'exécution est terminée.\\n\\n![Étape 9.](img\\u002ffct_step9.png){ #fig:fct_step9 width=80% }\\n\\\\\\n\\n\\nNous espérons que cet exemple guidé facilitera la compréhension des concepts de variables locales et globales. Cela viendra aussi avec la pratique. Nous irons un peu plus loin sur les fonctions dans le chapitre 12. D'ici là, essayez de vous entraîner au maximum avec les fonctions. C'est un concept ardu, mais il est impératif de le maîtriser.\\n\\nEnfin, comme vous avez pu le constater, *Python Tutor* nous a grandement aidé à comprendre ce qui se passait. N'hésitez pas à l'utiliser sur des exemples ponctuels, ce site vous aidera à visualiser ce qui se passe lorsqu'un code ne fait pas ce que vous attendez.\\n\\n\\n## Principe DRY\",\"## Principe DRY\\n\\nL'acronyme [DRY](https:\\u002f\\u002fwww.earthdatascience.org\\u002fcourses\\u002fintro-to-earth-data-science\\u002fwrite-efficient-python-code\\u002fintro-to-clean-code\\u002fdry-modular-code\\u002f) signifie *Don't Repeat Yourself*. Les fonctions permettent de satisfaire ce principe en évitant la duplication de code.\\nEn effet, plus un code est dupliqué plusieurs fois dans un programme, plus il sera source d'erreurs, notamment lorsqu'il faudra le faire évoluer.\\n\\nConsidérons par exemple le code suivant qui convertit plusieurs températures des degrés Fahrenheit en degrés Celsius :\\n\\n```python\\n\\u003e\\u003e\\u003e temp_in_fahrenheit = 60\\n\\u003e\\u003e\\u003e (temp_in_fahrenheit - 32) * (5\\u002f8)\\n17.5\\n\\u003e\\u003e\\u003e temp_in_fahrenheit = 80\\n\\u003e\\u003e\\u003e (temp_in_fahrenheit - 32) * (5\\u002f8)\\n30.0\\n\\u003e\\u003e\\u003e temp_in_fahrenheit = 100\\n\\u003e\\u003e\\u003e (temp_in_fahrenheit - 32) * (5\\u002f8)\\n42.5\\n```\\n\\nMalheureusement il y a une erreur dans la formule de conversion. En effet la formule exacte est :\\n\\n$$\\n{\\\\rm temp\\\\_celsius} = ({\\\\rm temp\\\\_fahrenheit} - 32) \\\\times \\\\frac{5}{9}\\n$$\",\"Malheureusement il y a une erreur dans la formule de conversion. En effet la formule exacte est :\\n\\n$$\\n{\\\\rm temp\\\\_celsius} = ({\\\\rm temp\\\\_fahrenheit} - 32) \\\\times \\\\frac{5}{9}\\n$$\\n\\nIl faut alors reprendre les lignes 2, 5 et 8 précédentes et les corriger. Cela n'est pas efficace, surtout si le même code est utilisé à différents endroits dans le programme.\\n\\nEn écrivant qu'une seule fois la formule de conversion dans une fonction, on applique le principe DRY :\\n\\n```python\\n\\u003e\\u003e\\u003e def convert_fahrenheit_to_celsius(temperature):\\n...     return (temperature - 32) * (5\\u002f9)\\n... \\n\\u003e\\u003e\\u003e temp_in_fahrenheit = 60\\n\\u003e\\u003e\\u003e convert_fahrenheit_to_celsius(temp_in_fahrenheit)\\n15.555555555555557\\n\\u003e\\u003e\\u003e temp_in_fahrenheit = 80\\n\\u003e\\u003e\\u003e convert_fahrenheit_to_celsius(temp_in_fahrenheit)\\n26.666666666666668\\n\\u003e\\u003e\\u003e temp_in_fahrenheit = 100\\n\\u003e\\u003e\\u003e convert_fahrenheit_to_celsius(temp_in_fahrenheit)\\n37.77777777777778\\n```\",\"Et s'il y a une erreur dans la formule, il suffira de le corriger qu'une seule fois, dans la fonction `convert_fahrenheit_to_celsius()`.\\n\\n## Exercices\\n\\n*Conseil* : pour le premier exercice, utilisez *Python Tutor*. Pour les exercices suivants, créez des scripts puis exécutez-les dans un *shell*.\\n\\n\\n### Carré et factorielle\\n\\nReprenez l'exemple précédent à l'aide du site [*Python Tutor*](http:\\u002f\\u002fwww.pythontutor.com) :\\n\\n```python\\n# définition d'une fonction carre()\\ndef carre(x):\\n    y = x**2\\n    return y\\n\\n# programme principal\\nz = 5\\nresultat = carre(z)\\nprint(resultat)\\n```\\n\\nAnalysez ensuite le code suivant et tentez de prédire sa sortie :\\n\\n```python\\ndef calc_factorielle(n):\\n    fact = 1\\n    for i in range(2, n+1):\\n        fact = fact * i\\n    return fact\\n\\n# programme principal\\nnb = 4\\nfactorielle_nb = calc_factorielle(nb)\\nprint(f\\\"{nb}! = {factorielle_nb}\\\")\\nnb2 = 10\\nprint(f\\\"{nb2}! = {calc_factorielle(nb2)}\\\")\\n```\",\"# programme principal\\nnb = 4\\nfactorielle_nb = calc_factorielle(nb)\\nprint(f\\\"{nb}! = {factorielle_nb}\\\")\\nnb2 = 10\\nprint(f\\\"{nb2}! = {calc_factorielle(nb2)}\\\")\\n```\\n\\nTestez ensuite cette portion de code avec *Python Tutor* en cherchant à bien comprendre chaque étape.\\nAvez-vous réussi à prédire la sortie correctement ?\\n\\nopen-box-rem\\n\\nUne remarque concernant l'utilisation des *f-strings* que nous avions vues dans le chapitre 3 *Affichage*. On voit à nouveau une possibilité puissante des *f-strings* dans l'instruction `f\\\"{nb2}! = {calc_factorielle(nb2)}\\\"` : il est possible de mettre directement au sein des accolades un appel à une fonction (ici `{calc_factorielle(nb2)}`) ! Ainsi, pas besoin de créer une variable intermédiaire dans laquelle on stocke ce que retourne la fonction. \\n\\nclose-box-rem\\n\\n### Puissance\\n\\nCréez une fonction `calc_puissance(x, y)` qui renvoie $x^y$ en utilisant l'opérateur `**`. Pour rappel :\\n\\n```python\\n\\u003e\\u003e\\u003e 2**2\\n4\\n\\u003e\\u003e\\u003e 2**3\\n8\\n\\u003e\\u003e\\u003e 2**4\\n16\\n```\",\"close-box-rem\\n\\n### Puissance\\n\\nCréez une fonction `calc_puissance(x, y)` qui renvoie $x^y$ en utilisant l'opérateur `**`. Pour rappel :\\n\\n```python\\n\\u003e\\u003e\\u003e 2**2\\n4\\n\\u003e\\u003e\\u003e 2**3\\n8\\n\\u003e\\u003e\\u003e 2**4\\n16\\n```\\n\\nDans le programme principal, calculez et affichez à l'écran $2^i$ avec $i$ variant de 0 à 20 inclus. On souhaite que le résultat soit présenté avec le formatage suivant :\\n\\n```text\\n2^ 0 =       1\\n2^ 1 =       2\\n2^ 2 =       4\\n[...]\\n2^20 = 1048576\\n```\\n\\n### Pyramide\\n\\nReprenez l'exercice du chapitre 5 *Boucles et comparaisons* qui dessine une pyramide.\\n\\nDans un script `pyra.py`, créez une fonction `gen_pyramide()` à laquelle vous passez un nombre entier `N` et qui renvoie une pyramide de $N$ lignes sous forme de chaîne de caractères. Le programme principal demandera à l'utilisateur le nombre de lignes souhaitées (utilisez pour cela la fonction `input()`) et affichera la pyramide à l'écran.\\n\\n\\n### Nombres premiers\\n\\nReprenez l'exercice du chapitre 6 *Tests* sur les nombres premiers.\",\"### Nombres premiers\\n\\nReprenez l'exercice du chapitre 6 *Tests* sur les nombres premiers.\\n\\nCréez une fonction `est_premier()` qui prend comme argument un nombre entier positif *n* (supérieur à 2) et qui renvoie le booléen `True` si *n* est premier et `False` si *n* n'est pas premier. Déterminez tous les nombres premiers de 2 à 100. On souhaite avoir une sortie similaire à celle-ci :\\n\\n```text\\n  2 est premier\\n  3 est premier\\n  4 n'est pas premier\\n[...]\\n100 n'est pas premier\\n```\\n\\n\\n### Séquence complémentaire\\n\\nCréez une fonction `seq_comp()` qui prend comme argument une liste de bases et qui renvoie la séquence complémentaire d'une séquence d'ADN sous forme de liste.\\n\\nDans le programme principal, à partir de la séquence d'ADN \\n`seq = [\\\"A\\\", \\\"T\\\", \\\"C\\\", \\\"G\\\", \\\"A\\\", \\\"T\\\", \\\"C\\\", \\\"G\\\", \\\"A\\\", \\\"T\\\", \\\"C\\\"]` \\naffichez `seq` et sa séquence complémentaire (en utilisant votre fonction `seq_comp()`).\\n\\nRappel : la séquence complémentaire s'obtient en remplaçant A par T, T par A, C par G et G par C.\",\"Rappel : la séquence complémentaire s'obtient en remplaçant A par T, T par A, C par G et G par C.\\n\\n\\n### Distance 3D\\n\\nCréez une fonction `calc_distance_3D()` qui calcule la distance euclidienne en trois dimensions entre deux atomes. Testez votre fonction sur les 2 points `A(0,0,0)` et `B(1,1,1)`. Trouvez-vous bien $\\\\sqrt{3}$ ?\\n\\nOn rappelle que la distance euclidienne *d* entre deux points A et B de coordonnées cartésiennes respectives $(x_A, y_A, z_A)$ et $(x_B, y_B, z_B)$ se calcule comme suit :\\n\\n$$\\nd = \\\\sqrt{(x_B - x_A)^2 + (y_B - y_A)^2 + (z_B - z_A)^2}\\n$$\\n\\n\\n### Distribution et statistiques\\n\\nCréez une fonction `gen_distrib()` qui prend comme argument trois entiers : *debut*, *fin* et *n*. La fonction renverra une liste de $n$ *floats* aléatoires entre *debut* et *fin*. Pour générer un nombre aléatoire dans un intervalle donné, utilisez la fonction `uniform()` du module *random* dont voici quelques exemple d'utilisation :\",\"```python\\n\\u003e\\u003e\\u003e import random\\n\\u003e\\u003e\\u003e random.uniform(1, 10)\\n8.199672607202174\\n\\u003e\\u003e\\u003e random.uniform(1, 10)\\n2.607528561528022\\n\\u003e\\u003e\\u003e random.uniform(1, 10)\\n9.000404025130946\\n```\\n\\nAvec la fonction `random.uniform()`, les bornes passées en argument sont incluses, c'est-à-dire qu'ici, le nombre aléatoire renvoyé est dans l'intervalle [1, 10].\\n\\nCréez une autre fonction `calc_stat()` qui prend en argument une liste de *floats* et qui renvoie une liste de trois éléments contenant respectivement le minimum, le maximum et la moyenne de la liste.\\n\\nDans le programme principal, générez 20 listes aléatoires de 100 *floats* compris entre 0 et 100 et affichez le minimum (`min()`), le maximum (`max()`) et la moyenne pour chacune d'entre elles. La moyenne pourra être calculée avec les fonctions `sum()` et `len()`.\",\"Pour chacune des 20 listes, affichez les statistiques (min, max, et moyenne) avec deux chiffres après la virgule :\\n```text\\nListe  1 : min = 0.17 ; max = 99.72 ; moyenne = 57.38\\nListe  2 : min = 1.25 ; max = 99.99 ; moyenne = 47.41\\n[...]\\nListe 19 : min = 1.05 ; max = 99.36 ; moyenne = 49.43\\nListe 20 : min = 1.33 ; max = 97.63 ; moyenne = 46.53\\n\\n```\\n\\nLes écarts sur les statistiques entre les différentes listes sont-ils importants ? Relancez votre script avec des listes de 1000 éléments, puis 10 000 éléments. Les écarts changent-ils quand le nombre d'éléments par liste augmente ?\\n\\n\\n### Distance à l'origine (exercice +++)\\n\\nEn reprenant votre fonction de calcul de distance euclidienne en 3D `calc_distance_3D()`, faites-en une version pour deux dimensions que vous appellerez `calc_distance_2D()`.\",\"En reprenant votre fonction de calcul de distance euclidienne en 3D `calc_distance_3D()`, faites-en une version pour deux dimensions que vous appellerez `calc_distance_2D()`.\\n\\nCréez une autre fonction `calc_dist2ori()` à laquelle vous passez en argument deux listes de *floats* `list_x` et `list_y` représentant les coordonnées d'une fonction mathématique (par exemple $x$ et $sin(x)$). Cette fonction renverra une liste de *floats* représentant la distance entre chaque point de la fonction et l'origine (de coordonnées $(0,0)$).\\n\\nLa figure @fig:sin2ori montre un exemple sur quelques points de la fonction $sin(x)$ (courbe en trait épais). Chaque trait pointillé représente la distance que l'on cherche à calculer entre les points de la courbe et l'origine du repère de coordonnées (0, 0).\\n\\n![Illustration de la distance à l'origine.](img\\u002fsin2ori.png){ #fig:sin2ori width=60% }\",\"![Illustration de la distance à l'origine.](img\\u002fsin2ori.png){ #fig:sin2ori width=60% }\\n\\nVotre programme générera un fichier `sin2ori.dat` qui contiendra deux colonnes : la première représente les $x$, la seconde la distance entre chaque point de la fonction $sin(x)$ à l'origine.\\n\\nEnfin, pour visualiser votre résultat, ajoutez le code suivant tout à la fin de votre script :\\n\\n```python\\n# création d'une image pour la visualisation du résultat\\nimport matplotlib.pyplot as plt\\n\\nx = []\\ny = []\\nwith open(\\\"sin2ori.dat\\\", \\\"r\\\") as f_in:\\n    for line in f_in:\\n        coords = line.split()\\n        x.append(float(coords[0]))\\n        y.append(float(coords[1]))\\nplt.figure(figsize=(8,8))\\nplt.plot(x, y)\\nplt.xlabel(\\\"x\\\")\\nplt.ylabel(\\\"Distance de sin(x)à l'origine\\\")\\nplt.savefig(\\\"sin2ori.png\\\")\\n```\\n\\nOuvrez l'image `sin2ori.png`.\\n\\nopen-box-rem\\n\\nLe module *matplotlib* sera expliqué en détail dans le chapitre 17 *Quelques modules d'intérêt en bioinformatique*.\\n\\nclose-box-rem\"],\"marker\":{\"color\":1,\"colorscale\":[[0.0,\"#440154\"],[0.1111111111111111,\"#482878\"],[0.2222222222222222,\"#3e4989\"],[0.3333333333333333,\"#31688e\"],[0.4444444444444444,\"#26828e\"],[0.5555555555555556,\"#1f9e89\"],[0.6666666666666666,\"#35b779\"],[0.7777777777777778,\"#6ece58\"],[0.8888888888888888,\"#b5de2b\"],[1.0,\"#fde725\"]],\"opacity\":0.8,\"size\":5},\"mode\":\"markers\",\"name\":\"Fonctions\",\"x\":[-0.15111364681142925,-0.21586192032587675,-0.20706403303621895,-0.07364235534261881,-0.111507055881893,-0.10286672455648568,-0.10814851017403505,-0.09717338673011017,-0.05594478084324134,-0.1289116375924312,-0.08981639056851887,-0.04815719599028903,-0.028527804898144205,0.014798231360872117,-0.003675461675989591,-0.017075324294569774,-0.10162104835012672,-0.1518481671770359,-0.1382818503968296,-0.13212916437829217,-0.10544129194214587,-0.08415807351368798,0.016366095727193938,0.075476981897244,-0.09208776147572917,-0.050362026895805795,-0.1440087259817946,-0.12510302645255994,-0.12047234555996218,-0.11337946811134786,-0.2188597609942691,-0.27050983316462285,-0.15758775624922394],\"y\":[-0.20319219985353149,-0.24220802296380817,-0.22714843969435755,-0.14812182085784562,-0.15180564009022707,-0.19081234373467434,-0.24225964858623933,-0.26994635679993556,-0.2512576895664294,-0.2825315165494158,-0.2594587240844509,-0.28379903747357704,-0.27634784085528846,-0.2875812650389058,-0.23994276611446252,-0.16796796758486035,-0.17931377095474135,-0.14817937113039792,-0.05791528716165782,-0.11076899744283693,-0.10252872221647102,-0.027287977570601862,-0.09884212208373733,-0.12039672469764694,-0.08361546691286564,-0.06563062017953565,-0.06334032804388415,-0.07141815929421362,-0.09917845658235977,-0.17376074179601292,-0.11153147802208285,-0.14840373521124625,0.06580039253207218],\"z\":[-0.18506397183115036,0.01767388355938453,0.026315880692550732,-0.18050602991550158,-0.2519990670754363,-0.32326898500106493,-0.2798897252268555,-0.11612940090156133,-0.22249172724182661,-0.2787171586418159,-0.27144508176473575,-0.29764554591577597,-0.3142778381067758,-0.2732929990504742,-0.2505674258860566,-0.2105496896607115,-0.3100989670544583,-0.31218298199155203,-0.28105062085849264,-0.3621036891845637,-0.2919180959101856,-0.17820153928174692,-0.19529961268835494,-0.1749749403310597,-0.1903400830949468,-0.22333552644863375,-0.13093338425795073,0.07549199779418292,0.07700901770246825,0.16692629339247084,0.11400082652783815,-0.0070113778057452215,-0.06438108761600925],\"type\":\"scatter3d\"},{\"hoverinfo\":\"text\",\"hovertext\":[\"# Jupyter et ses notebooks\\n\\nLes notebooks Jupyter sont des cahiers électroniques qui, dans le même document, peuvent rassembler du texte, des images, des formules mathématiques et du code informatique exécutable. Ils sont manipulables interactivement dans un navigateur web.\\n\\nInitialement développés pour les langages de programmation Julia, Python et R (d'où le nom Jupyter), les notebooks Jupyter supportent près de 40 langages différents.\\n\\nLa cellule est l'élément de base d'un notebook Jupyter. Elle peut contenir du texte formaté au format Markdown ou du code informatique qui pourra être exécuté.\\n\\nVoici un exemple de notebook Jupyter (figure @fig:jupyter-exemple) :\\n\\n![Exemple de notebook Jupyter. Les chiffres entourés désignent les différentes cellules.](img\\u002fjupyter-exemple.png \\\"Exemple de notebook Jupyter\\\"){ #fig:jupyter-exemple width=80% }\",\"![Exemple de notebook Jupyter. Les chiffres entourés désignent les différentes cellules.](img\\u002fjupyter-exemple.png \\\"Exemple de notebook Jupyter\\\"){ #fig:jupyter-exemple width=80% }\\n\\nCe notebook est constitué de cinq cellules : deux avec du texte en Markdown (la première et la dernière) et trois avec du code Python (notées avec `In [ ]`).\\n\\n## Installation\\n\\nAvec la distribution Miniconda, les notebooks Jupyter s'installent avec la commande :\\n\\n```bash\\n$ conda install -y jupyterlab\\n```\\n\\nPour être exact, la commande précédente installe un peu plus que les notebooks Jupyter mais nous verrons cela par la suite.\\n\\n\\n## Lancement de Jupyter et création d'un notebook\\n\\nPour lancer les notebooks Jupyter, utilisez la commande suivante depuis un *shell* :\\n\\n```bash\\n$ jupyter-notebook\\n```\\n\\nUne nouvelle page devrait s'ouvrir dans votre navigateur web  et ressembler à la figure @fig:jupyter-interface.\",\"```bash\\n$ jupyter-notebook\\n```\\n\\nUne nouvelle page devrait s'ouvrir dans votre navigateur web  et ressembler à la figure @fig:jupyter-interface.\\n\\n![Interface de Jupyter.](img\\u002fjupyter-interface.png \\\"Interface de Jupyter\\\"){ #fig:jupyter-interface width=80% }\\n\\nCette interface liste les notebooks Jupyter existants (pour le moment aucun).\\n\\nPour créer un notebook, cliquez sur le bouton à droite *New* puis sélectionnez *Python 3*. Vous noterez au passage qu'il est également possible de créer un fichier texte, un répertoire ou bien encore de lancer un *shell* via un *Terminal* (voir figure @fig:jupyter-nouveau-notebook).\\n\\n![Création d'un nouveau notebook.](img\\u002fjupyter-nouveau-notebook.png \\\"Création d'un nouveau notebook\\\"){ #fig:jupyter-nouveau-notebook width=80% }\\n\\nLe notebook fraîchement créé ne contient qu'une cellule vide.\\n\\n![Nouveau notebook.](img\\u002fjupyter-nouveau-notebook-vide.png \\\"Nouveau notebook\\\"){ #fig:jupyter-nouveau-notebook-vide width=80% }\",\"Le notebook fraîchement créé ne contient qu'une cellule vide.\\n\\n![Nouveau notebook.](img\\u002fjupyter-nouveau-notebook-vide.png \\\"Nouveau notebook\\\"){ #fig:jupyter-nouveau-notebook-vide width=80% }\\n\\nLa première chose à faire est de donner un nom à votre notebook en cliquant sur *Untitled*, à droite du logo de Jupyter. Si le nom de votre notebook est *test* alors le fichier *test.ipynb* sera créé dans le répertoire depuis lequel vous avez lancé Jupyter.\\n\\nopen-box-rem\\n\\nL'extension *.ipynb* est l'extension de fichier des notebooks Jupyter.\\n\\nclose-box-rem\\n\\nVous pouvez entrer des instructions Python dans la première cellule. Par exemple :\\n\\n```python\\na = 2\\nb = 3\\nprint(a+b)\\n```\\n\\nPour exécuter le contenu de cette cellule, vous avez plusieurs possibilités :\\n\\n- Cliquer sur le menu *Cell*, puis *Run Cells*.\\n- Cliquer sur le bouton *Run* (sous la barre de menu).\\n- Presser simultanément les touches *Ctrl* + *Entrée*.\",\"- Cliquer sur le menu *Cell*, puis *Run Cells*.\\n- Cliquer sur le bouton *Run* (sous la barre de menu).\\n- Presser simultanément les touches *Ctrl* + *Entrée*.\\n\\nDans tous les cas, vous devriez obtenir quelque chose qui ressemble à l'image @fig:jupyter-cellule-1. La notation `In [1]` à gauche de la cellule indique qu'il s'agit de la première cellule exécutée.\\n\\n![Exécution d'une première cellule.](img\\u002fjupyter-cellule-1.png \\\"Exécution d'une première cellule.\\\"){ #fig:jupyter-cellule-1 width=80% }\\n\\nPour créer une nouvelle cellule, vous avez, ici encore, plusieurs possibilités :\\n\\n- Cliquer sur l’icône *+* sous la barre de menu.\\n- Cliquer sur le menu *Insert*, puis *Insert Cell Below*.\\n\\nUne nouvelle cellule vide devrait apparaître.\",\"- Cliquer sur l’icône *+* sous la barre de menu.\\n- Cliquer sur le menu *Insert*, puis *Insert Cell Below*.\\n\\nUne nouvelle cellule vide devrait apparaître.\\n\\nVous pouvez également créer une nouvelle cellule en positionnant votre curseur dans la première cellule, puis en pressant simultanément les touches *Alt* + *Entrée*. Si vous utilisez cette combinaison de touches, vous remarquerez que le numéro à gauche de la première cellule est passée de `In [1]` à `In [2]` car vous avez exécuté la première cellule *puis* créé une nouvelle cellule.\\n\\nVous pouvez ainsi créer plusieurs cellules les unes à la suite des autres. Un objet créé dans une cellule antérieure sera disponible dans les cellules suivantes. Par exemple, dans la figure @fig:jupyter-cellule-4, nous avons quatre cellules. Vous remarquerez que pour les cellules 3 et 4, le résultat renvoyé par le code Python est précédé par `Out [3]` et `Out [4]`.\",\"![Notebook avec plusieurs cellules de code Python.](img\\u002fjupyter-cellule-4.png \\\"Notebook avec plusieurs cellules de code Python\\\"){ #fig:jupyter-cellule-4 width=80% }\\n\\nDans un notebook Jupyter, il est parfaitement possible de réexécuter une cellule précédente. Par exemple la première cellule, qui porte désormais à sa gauche la numérotation `In [5]` (voir figure @fig:jupyter-cellule-4-mauvais-ordre).\\n\\n![Notebook avec une cellule ré-exécutée.](img\\u002fjupyter-cellule-4-mauvais-ordre.png \\\"Notebook avec une cellule ré-executée.\\\"){ #fig:jupyter-cellule-4-mauvais-ordre width=80% }\\n\\nopen-box-warn\\n\\nLa possibilité d'exécuter les cellules d'un notebook Jupyter dans un ordre arbitraire peut prêter à confusion, notamment si vous modifiez la même variable d'une cellule à l'autre.\",\"open-box-warn\\n\\nLa possibilité d'exécuter les cellules d'un notebook Jupyter dans un ordre arbitraire peut prêter à confusion, notamment si vous modifiez la même variable d'une cellule à l'autre.\\n\\nNous vous recommandons de régulièrement relancer complètement l'exécution de toutes les cellules de votre notebook, de la première à la dernière, en cliquant sur le menu *Kernel* puis *Restart & Run All* et enfin de valider le message *Restart and Run All Cells*.\\n\\nclose-box-warn\\n\\n\\n## Le format Markdown\\n\\nDans le tout premier exemple (figure @fig:jupyter-exemple), nous avons vu qu'il était possible de mettre du texte au format Markdown dans une cellule.\\n\\nIl faut cependant indiquer à Jupyter que cette cellule est au format Markdown en cliquant sur *Code* sous la barre de menu puis en choisissant *Markdown*.\",\"Il faut cependant indiquer à Jupyter que cette cellule est au format Markdown en cliquant sur *Code* sous la barre de menu puis en choisissant *Markdown*.\\n\\nLe format Markdown permet de rédiger du texte formaté (gras, italique, liens, titres, images, formules mathématiques...) avec quelques balises très simples. Voici un exemple dans une notebook Jupyter (figure @fig:jupyter-markdown-1) et le rendu lorsque la cellule est exécutée (figure @fig:jupyter-markdown-2).\\n\\n![Notebook avec une cellule au format Markdown.](img\\u002fjupyter-markdown-1.png \\\"Notebook avec une cellule au format Markdown.\\\"){ #fig:jupyter-markdown-1 width=80% }\\n\\n![Notebook avec une cellule au format Markdown (après exécution).](img\\u002fjupyter-markdown-2.png \\\"Notebook avec une cellule au format Markdown (après exécution).\\\"){ #fig:jupyter-markdown-2 width=80% }\\n\\nNotez qu'une cellule Markdown n'a pas le marqueur `In [ ]` à sa gauche.\",\"Notez qu'une cellule Markdown n'a pas le marqueur `In [ ]` à sa gauche.\\n\\nLe format Markdown permet de rapidement et très simplement rédiger du texte structuré. Ce cours est par exemple complètement rédigé en Markdown ;-)\\n\\nNous vous conseillons d'explorer les possibilités du Markdown en consultant la page [Wikipédia](https:\\u002f\\u002ffr.wikipedia.org\\u002fwiki\\u002fMarkdown) ou directement la [page de référence](https:\\u002f\\u002fdaringfireball.net\\u002fprojects\\u002fmarkdown\\u002fsyntax).\\n\\n\\n## Des graphiques dans les notebooks\\n\\nUn autre intérêt des notebooks Jupyter est de pouvoir y incorporer des graphiques réalisés avec la bibliothèque *matplotlib*.\\n\\nVoici un exemple en reprenant un graphique présenté dans le chapitre 17 *Quelques modules d'intérêt en bioinformatique* (figure @fig:jupyter-matplotlib).\\n\\n![Incorporation d'un graphique dans un notebook Jupyter.](img\\u002fjupyter-matplotlib.png \\\"Incorporation d'un graphique dans un notebook Jupyter.\\\"){ #fig:jupyter-matplotlib width=80% }\",\"![Incorporation d'un graphique dans un notebook Jupyter.](img\\u002fjupyter-matplotlib.png \\\"Incorporation d'un graphique dans un notebook Jupyter.\\\"){ #fig:jupyter-matplotlib width=80% }\\n\\nLa différence notable est l'utilisation de la commande :  \\n`%matplotlib inline`  \\nqui n'est à lancer qu'une seule fois (en général dans la première cellule du notebook) et qui permet l'incorporation de figures dans un notebook Jupyter.\\n\\nopen-box-rem\\n\\nPour quitter l'interface des notebooks Jupyter, il faut, dans le premier onglet qui est apparu, cliquer sur le bouton *Quit* (figure @fig:jupyter-interface).\\n\\nUne méthode plus radicale est de revenir sur le *shell* depuis lequel les notebooks Jupyter ont été lancés puis de presser deux fois la combinaison de touches *Ctrl* + *C*.\\n\\nclose-box-rem\\n\\n\\n## Les *magic commands*\\n\\nLa commande précédente (`%matplotlib inline`) est une *magic command*. Il en existe beaucoup, en voici deux :\",\"close-box-rem\\n\\n\\n## Les *magic commands*\\n\\nLa commande précédente (`%matplotlib inline`) est une *magic command*. Il en existe beaucoup, en voici deux :\\n\\n- `%whos` liste tous les objets (variables, fonctions, modules...) utilisés dans le notebook (voir figure @fig:jupyter-whos).\\n- `%history` liste toutes les commandes Python lancées dans un notebook (voir figure @fig:jupyter-history).\\n\\n![*Magic command* `%whos`.](img\\u002fjupyter-whos.png){ #fig:jupyter-whos width=80% }\\n\\n![*Magic command* `%history`.](img\\u002fjupyter-history.png){ #fig:jupyter-history width=80% }\\n\\nEnfin, avec les environnements Linux ou Mac OS X, il est possible de lancer une commande Unix depuis un notebook Jupyter. Il faut pour cela précéder la commande du symbole « `!` ». La figure @fig:jupyter-ls illustre cette possibilité avec la commande `ls` qui affiche le contenu d'un répertoire.\\n\\n![Lancement d'une commande Unix.](img\\u002fjupyter-ls.png){ #fig:jupyter-ls width=80% }\\n\\nopen-box-rem\",\"![Lancement d'une commande Unix.](img\\u002fjupyter-ls.png){ #fig:jupyter-ls width=80% }\\n\\nopen-box-rem\\n\\nLe lancement de n'importe quelle commande Unix depuis un notebook Jupyter (en précédant cette commande de `!`) est une fonctionnalité très puissante.\\n\\nPour vous en rendre compte, jetez un œil au [notebook](https:\\u002f\\u002fgithub.com\\u002fMaayanLab\\u002fZika-RNAseq-Pipeline\\u002fblob\\u002fmaster\\u002fZika.ipynb) produit par les chercheurs Zichen Wang et Avi Ma'ayan qui reproduit l'analyse complète de données obtenues par séquençage haut débit. Ces analyses ont donné lieu à la publication de l'article scientifique « [*An open RNA-Seq data analysis pipeline tutorial with an example of reprocessing data from a recent Zika virus study*](https:\\u002f\\u002ff1000research.com\\u002farticles\\u002f5-1574\\u002f) » (F1000 Research, 2016).\\n\\nclose-box-rem\\n\\n\\n## JupyterLab\\n\\nEn 2018, le consortium Jupyter a lancé *JupyterLab* qui est un environnement complet d'analyse.\\nPour obtenir cette interface, lancez la commande suivante depuis un *shell* :\",\"## JupyterLab\\n\\nEn 2018, le consortium Jupyter a lancé *JupyterLab* qui est un environnement complet d'analyse.\\nPour obtenir cette interface, lancez la commande suivante depuis un *shell* :\\n\\n```bash\\n$ jupyter lab\\n```\\n\\nUne nouvelle page devrait s'ouvrir dans votre navigateur web et vous devriez\\nobtenir une interface similaire à la figure @fig:jupyterlab-1.\\n\\n![Interface de JupyterLab.](img\\u002fjupyterlab-1.png \\\"Interface de JupyterLab.\\\"){ #fig:jupyterlab-1 width=95% }\\n\\nL'interface proposée par JupyterLab est très riche. On peut y organiser un notebook Jupyter « classique » avec une figure en encart, un *shell* (voir figure @fig:jupyterlab-2)... Les possibilités sont infinies !\\n\\n![JupyterLab comme environnement d'analyse.](img\\u002fjupyterlab-2.png \\\"JupyterLab comme environnement d'analyse.\\\"){ #fig:jupyterlab-2 width=95% }\\n\\nopen-box-more\\n\\nLes *notebooks* Jupyter sont particulièrement adaptés à l'analyse de données en combinaison avec les modules *matplotlib* et *pandas*.\\n\\nclose-box-more\"],\"marker\":{\"color\":1,\"colorscale\":[[0.0,\"#440154\"],[0.1111111111111111,\"#482878\"],[0.2222222222222222,\"#3e4989\"],[0.3333333333333333,\"#31688e\"],[0.4444444444444444,\"#26828e\"],[0.5555555555555556,\"#1f9e89\"],[0.6666666666666666,\"#35b779\"],[0.7777777777777778,\"#6ece58\"],[0.8888888888888888,\"#b5de2b\"],[1.0,\"#fde725\"]],\"opacity\":0.8,\"size\":5},\"mode\":\"markers\",\"name\":\"Jupyter\",\"x\":[-0.2791417153216221,-0.29133573827864434,-0.3447728040882956,-0.31133228405634183,-0.2919926400514851,-0.27046008543393,-0.22620155543301596,-0.1848689291255933,-0.1381289171816792,-0.18152713044759464,-0.1739395112033432,-0.2037226768438316,-0.298812940604099,-0.28517855250524854],\"y\":[0.5262430804386944,0.5479241163090754,0.5544552561976398,0.47120405861476183,0.44168990016841747,0.3478826174200623,0.37674767290137046,0.5058344730534438,0.5373314044438071,0.4945086534757064,0.4542953353114166,0.39331446119765234,0.5157856637027955,0.540421362331601],\"z\":[-0.0370842923256112,-0.006642089173807453,-0.06120114300151226,-0.08935965205768537,-0.07428799200336916,-0.0375176501168219,-0.10051619018366438,-0.04693295732921465,-0.010498164470239187,0.022745504304754815,-0.04183852209412297,-0.028925685342964705,-0.03572026313810169,-0.036296475487025304],\"type\":\"scatter3d\"}],                        {\"template\":{\"data\":{\"histogram2dcontour\":[{\"type\":\"histogram2dcontour\",\"colorbar\":{\"outlinewidth\":0,\"ticks\":\"\"},\"colorscale\":[[0.0,\"#0d0887\"],[0.1111111111111111,\"#46039f\"],[0.2222222222222222,\"#7201a8\"],[0.3333333333333333,\"#9c179e\"],[0.4444444444444444,\"#bd3786\"],[0.5555555555555556,\"#d8576b\"],[0.6666666666666666,\"#ed7953\"],[0.7777777777777778,\"#fb9f3a\"],[0.8888888888888888,\"#fdca26\"],[1.0,\"#f0f921\"]]}],\"choropleth\":[{\"type\":\"choropleth\",\"colorbar\":{\"outlinewidth\":0,\"ticks\":\"\"}}],\"histogram2d\":[{\"type\":\"histogram2d\",\"colorbar\":{\"outlinewidth\":0,\"ticks\":\"\"},\"colorscale\":[[0.0,\"#0d0887\"],[0.1111111111111111,\"#46039f\"],[0.2222222222222222,\"#7201a8\"],[0.3333333333333333,\"#9c179e\"],[0.4444444444444444,\"#bd3786\"],[0.5555555555555556,\"#d8576b\"],[0.6666666666666666,\"#ed7953\"],[0.7777777777777778,\"#fb9f3a\"],[0.8888888888888888,\"#fdca26\"],[1.0,\"#f0f921\"]]}],\"heatmap\":[{\"type\":\"heatmap\",\"colorbar\":{\"outlinewidth\":0,\"ticks\":\"\"},\"colorscale\":[[0.0,\"#0d0887\"],[0.1111111111111111,\"#46039f\"],[0.2222222222222222,\"#7201a8\"],[0.3333333333333333,\"#9c179e\"],[0.4444444444444444,\"#bd3786\"],[0.5555555555555556,\"#d8576b\"],[0.6666666666666666,\"#ed7953\"],[0.7777777777777778,\"#fb9f3a\"],[0.8888888888888888,\"#fdca26\"],[1.0,\"#f0f921\"]]}],\"heatmapgl\":[{\"type\":\"heatmapgl\",\"colorbar\":{\"outlinewidth\":0,\"ticks\":\"\"},\"colorscale\":[[0.0,\"#0d0887\"],[0.1111111111111111,\"#46039f\"],[0.2222222222222222,\"#7201a8\"],[0.3333333333333333,\"#9c179e\"],[0.4444444444444444,\"#bd3786\"],[0.5555555555555556,\"#d8576b\"],[0.6666666666666666,\"#ed7953\"],[0.7777777777777778,\"#fb9f3a\"],[0.8888888888888888,\"#fdca26\"],[1.0,\"#f0f921\"]]}],\"contourcarpet\":[{\"type\":\"contourcarpet\",\"colorbar\":{\"outlinewidth\":0,\"ticks\":\"\"}}],\"contour\":[{\"type\":\"contour\",\"colorbar\":{\"outlinewidth\":0,\"ticks\":\"\"},\"colorscale\":[[0.0,\"#0d0887\"],[0.1111111111111111,\"#46039f\"],[0.2222222222222222,\"#7201a8\"],[0.3333333333333333,\"#9c179e\"],[0.4444444444444444,\"#bd3786\"],[0.5555555555555556,\"#d8576b\"],[0.6666666666666666,\"#ed7953\"],[0.7777777777777778,\"#fb9f3a\"],[0.8888888888888888,\"#fdca26\"],[1.0,\"#f0f921\"]]}],\"surface\":[{\"type\":\"surface\",\"colorbar\":{\"outlinewidth\":0,\"ticks\":\"\"},\"colorscale\":[[0.0,\"#0d0887\"],[0.1111111111111111,\"#46039f\"],[0.2222222222222222,\"#7201a8\"],[0.3333333333333333,\"#9c179e\"],[0.4444444444444444,\"#bd3786\"],[0.5555555555555556,\"#d8576b\"],[0.6666666666666666,\"#ed7953\"],[0.7777777777777778,\"#fb9f3a\"],[0.8888888888888888,\"#fdca26\"],[1.0,\"#f0f921\"]]}],\"mesh3d\":[{\"type\":\"mesh3d\",\"colorbar\":{\"outlinewidth\":0,\"ticks\":\"\"}}],\"scatter\":[{\"fillpattern\":{\"fillmode\":\"overlay\",\"size\":10,\"solidity\":0.2},\"type\":\"scatter\"}],\"parcoords\":[{\"type\":\"parcoords\",\"line\":{\"colorbar\":{\"outlinewidth\":0,\"ticks\":\"\"}}}],\"scatterpolargl\":[{\"type\":\"scatterpolargl\",\"marker\":{\"colorbar\":{\"outlinewidth\":0,\"ticks\":\"\"}}}],\"bar\":[{\"error_x\":{\"color\":\"#2a3f5f\"},\"error_y\":{\"color\":\"#2a3f5f\"},\"marker\":{\"line\":{\"color\":\"#E5ECF6\",\"width\":0.5},\"pattern\":{\"fillmode\":\"overlay\",\"size\":10,\"solidity\":0.2}},\"type\":\"bar\"}],\"scattergeo\":[{\"type\":\"scattergeo\",\"marker\":{\"colorbar\":{\"outlinewidth\":0,\"ticks\":\"\"}}}],\"scatterpolar\":[{\"type\":\"scatterpolar\",\"marker\":{\"colorbar\":{\"outlinewidth\":0,\"ticks\":\"\"}}}],\"histogram\":[{\"marker\":{\"pattern\":{\"fillmode\":\"overlay\",\"size\":10,\"solidity\":0.2}},\"type\":\"histogram\"}],\"scattergl\":[{\"type\":\"scattergl\",\"marker\":{\"colorbar\":{\"outlinewidth\":0,\"ticks\":\"\"}}}],\"scatter3d\":[{\"type\":\"scatter3d\",\"line\":{\"colorbar\":{\"outlinewidth\":0,\"ticks\":\"\"}},\"marker\":{\"colorbar\":{\"outlinewidth\":0,\"ticks\":\"\"}}}],\"scattermapbox\":[{\"type\":\"scattermapbox\",\"marker\":{\"colorbar\":{\"outlinewidth\":0,\"ticks\":\"\"}}}],\"scatterternary\":[{\"type\":\"scatterternary\",\"marker\":{\"colorbar\":{\"outlinewidth\":0,\"ticks\":\"\"}}}],\"scattercarpet\":[{\"type\":\"scattercarpet\",\"marker\":{\"colorbar\":{\"outlinewidth\":0,\"ticks\":\"\"}}}],\"carpet\":[{\"aaxis\":{\"endlinecolor\":\"#2a3f5f\",\"gridcolor\":\"white\",\"linecolor\":\"white\",\"minorgridcolor\":\"white\",\"startlinecolor\":\"#2a3f5f\"},\"baxis\":{\"endlinecolor\":\"#2a3f5f\",\"gridcolor\":\"white\",\"linecolor\":\"white\",\"minorgridcolor\":\"white\",\"startlinecolor\":\"#2a3f5f\"},\"type\":\"carpet\"}],\"table\":[{\"cells\":{\"fill\":{\"color\":\"#EBF0F8\"},\"line\":{\"color\":\"white\"}},\"header\":{\"fill\":{\"color\":\"#C8D4E3\"},\"line\":{\"color\":\"white\"}},\"type\":\"table\"}],\"barpolar\":[{\"marker\":{\"line\":{\"color\":\"#E5ECF6\",\"width\":0.5},\"pattern\":{\"fillmode\":\"overlay\",\"size\":10,\"solidity\":0.2}},\"type\":\"barpolar\"}],\"pie\":[{\"automargin\":true,\"type\":\"pie\"}]},\"layout\":{\"autotypenumbers\":\"strict\",\"colorway\":[\"#636efa\",\"#EF553B\",\"#00cc96\",\"#ab63fa\",\"#FFA15A\",\"#19d3f3\",\"#FF6692\",\"#B6E880\",\"#FF97FF\",\"#FECB52\"],\"font\":{\"color\":\"#2a3f5f\"},\"hovermode\":\"closest\",\"hoverlabel\":{\"align\":\"left\"},\"paper_bgcolor\":\"white\",\"plot_bgcolor\":\"#E5ECF6\",\"polar\":{\"bgcolor\":\"#E5ECF6\",\"angularaxis\":{\"gridcolor\":\"white\",\"linecolor\":\"white\",\"ticks\":\"\"},\"radialaxis\":{\"gridcolor\":\"white\",\"linecolor\":\"white\",\"ticks\":\"\"}},\"ternary\":{\"bgcolor\":\"#E5ECF6\",\"aaxis\":{\"gridcolor\":\"white\",\"linecolor\":\"white\",\"ticks\":\"\"},\"baxis\":{\"gridcolor\":\"white\",\"linecolor\":\"white\",\"ticks\":\"\"},\"caxis\":{\"gridcolor\":\"white\",\"linecolor\":\"white\",\"ticks\":\"\"}},\"coloraxis\":{\"colorbar\":{\"outlinewidth\":0,\"ticks\":\"\"}},\"colorscale\":{\"sequential\":[[0.0,\"#0d0887\"],[0.1111111111111111,\"#46039f\"],[0.2222222222222222,\"#7201a8\"],[0.3333333333333333,\"#9c179e\"],[0.4444444444444444,\"#bd3786\"],[0.5555555555555556,\"#d8576b\"],[0.6666666666666666,\"#ed7953\"],[0.7777777777777778,\"#fb9f3a\"],[0.8888888888888888,\"#fdca26\"],[1.0,\"#f0f921\"]],\"sequentialminus\":[[0.0,\"#0d0887\"],[0.1111111111111111,\"#46039f\"],[0.2222222222222222,\"#7201a8\"],[0.3333333333333333,\"#9c179e\"],[0.4444444444444444,\"#bd3786\"],[0.5555555555555556,\"#d8576b\"],[0.6666666666666666,\"#ed7953\"],[0.7777777777777778,\"#fb9f3a\"],[0.8888888888888888,\"#fdca26\"],[1.0,\"#f0f921\"]],\"diverging\":[[0,\"#8e0152\"],[0.1,\"#c51b7d\"],[0.2,\"#de77ae\"],[0.3,\"#f1b6da\"],[0.4,\"#fde0ef\"],[0.5,\"#f7f7f7\"],[0.6,\"#e6f5d0\"],[0.7,\"#b8e186\"],[0.8,\"#7fbc41\"],[0.9,\"#4d9221\"],[1,\"#276419\"]]},\"xaxis\":{\"gridcolor\":\"white\",\"linecolor\":\"white\",\"ticks\":\"\",\"title\":{\"standoff\":15},\"zerolinecolor\":\"white\",\"automargin\":true,\"zerolinewidth\":2},\"yaxis\":{\"gridcolor\":\"white\",\"linecolor\":\"white\",\"ticks\":\"\",\"title\":{\"standoff\":15},\"zerolinecolor\":\"white\",\"automargin\":true,\"zerolinewidth\":2},\"scene\":{\"xaxis\":{\"backgroundcolor\":\"#E5ECF6\",\"gridcolor\":\"white\",\"linecolor\":\"white\",\"showbackground\":true,\"ticks\":\"\",\"zerolinecolor\":\"white\",\"gridwidth\":2},\"yaxis\":{\"backgroundcolor\":\"#E5ECF6\",\"gridcolor\":\"white\",\"linecolor\":\"white\",\"showbackground\":true,\"ticks\":\"\",\"zerolinecolor\":\"white\",\"gridwidth\":2},\"zaxis\":{\"backgroundcolor\":\"#E5ECF6\",\"gridcolor\":\"white\",\"linecolor\":\"white\",\"showbackground\":true,\"ticks\":\"\",\"zerolinecolor\":\"white\",\"gridwidth\":2}},\"shapedefaults\":{\"line\":{\"color\":\"#2a3f5f\"}},\"annotationdefaults\":{\"arrowcolor\":\"#2a3f5f\",\"arrowhead\":0,\"arrowwidth\":1},\"geo\":{\"bgcolor\":\"white\",\"landcolor\":\"#E5ECF6\",\"subunitcolor\":\"white\",\"showland\":true,\"showlakes\":true,\"lakecolor\":\"white\"},\"title\":{\"x\":0.05},\"mapbox\":{\"style\":\"light\"}}},\"margin\":{\"l\":10,\"r\":10,\"b\":50,\"t\":50,\"pad\":10},\"autosize\":false,\"title\":{\"text\":\"3D projection of embeddings\"},\"width\":800,\"height\":600,\"scene\":{\"xaxis\":{\"title\":{\"text\":\"PCA compotent 1 (12 %)\"}},\"yaxis\":{\"title\":{\"text\":\"PCA compotent 2 (10 %)\"}},\"zaxis\":{\"title\":{\"text\":\"PCA compotent 3 (7 %)\"}}}},                        {\"responsive\": true}                    ).then(function(){\n",
       "                            \n",
       "var gd = document.getElementById('bdffc6e6-7a6e-433b-bc04-806af3f3369c');\n",
       "var x = new MutationObserver(function (mutations, observer) {{\n",
       "        var display = window.getComputedStyle(gd).display;\n",
       "        if (!display || display === 'none') {{\n",
       "            console.log([gd, 'removed!']);\n",
       "            Plotly.purge(gd);\n",
       "            observer.disconnect();\n",
       "        }}\n",
       "}});\n",
       "\n",
       "// Listen for the removal of the full notebook cells\n",
       "var notebookContainer = gd.closest('#notebook-container');\n",
       "if (notebookContainer) {{\n",
       "    x.observe(notebookContainer, {childList: true});\n",
       "}}\n",
       "\n",
       "// Listen for the clearing of the current output cell\n",
       "var outputEl = gd.closest('.output');\n",
       "if (outputEl) {{\n",
       "    x.observe(outputEl, {childList: true});\n",
       "}}\n",
       "\n",
       "                        })                };                });            </script>        </div>"
      ]
     },
     "metadata": {},
     "output_type": "display_data"
    }
   ],
   "source": [
    "# Display the 3D Scatter Plot of Categories\n",
    "fig = go.Figure()\n",
    "\n",
    "for chapter in chapters:\n",
    "    # Get data points\n",
    "    x = df[df[\"chapter\"] == chapter][\"pca_comp_1\"]\n",
    "    y = df[df[\"chapter\"] == chapter][\"pca_comp_2\"]\n",
    "    z = df[df[\"chapter\"] == chapter][\"pca_comp_3\"]\n",
    "    # Set the hover text\n",
    "    hover_text = df[df[\"chapter\"] == chapter][\"chunk\"]\n",
    "\n",
    "    fig.add_trace(\n",
    "        go.Scatter3d(\n",
    "            x=x,\n",
    "            y=y,\n",
    "            z=z,\n",
    "            mode=\"markers\",\n",
    "            marker=dict(size=5, color=i, colorscale=\"Viridis\", opacity=0.8),\n",
    "            name=chapter,\n",
    "            hovertext=hover_text,\n",
    "            hoverinfo=\"text\",\n",
    "        )\n",
    "    )\n",
    "\n",
    "fig.update_layout(\n",
    "    autosize=False,\n",
    "    title=\"3D projection of embeddings\",\n",
    "    width=800,\n",
    "    height=600,\n",
    "    margin=dict(l=10, r=10, b=50, t=50, pad=10),\n",
    "    scene=dict(\n",
    "        xaxis=dict(title=component_labels[1]),\n",
    "        yaxis=dict(title=component_labels[2]),\n",
    "        zaxis=dict(title=component_labels[3]),\n",
    "    ),\n",
    ")\n",
    "\n",
    "fig.show()"
   ]
  },
  {
   "cell_type": "code",
   "execution_count": null,
   "metadata": {},
   "outputs": [],
   "source": []
  }
 ],
 "metadata": {
  "kernelspec": {
   "display_name": "Python 3 (ipykernel)",
   "language": "python",
   "name": "python3"
  },
  "language_info": {
   "codemirror_mode": {
    "name": "ipython",
    "version": 3
   },
   "file_extension": ".py",
   "mimetype": "text/x-python",
   "name": "python",
   "nbconvert_exporter": "python",
   "pygments_lexer": "ipython3",
   "version": "3.11.9"
  }
 },
 "nbformat": 4,
 "nbformat_minor": 4
}
